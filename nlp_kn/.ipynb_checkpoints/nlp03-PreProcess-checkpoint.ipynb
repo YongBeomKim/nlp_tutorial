{
 "cells": [
  {
   "cell_type": "markdown",
   "metadata": {},
   "source": [
    "# **자연어 3일 - NLTK, Token, Word Piece Modeling**\n",
    "\n",
    "# **Preview**\n",
    "Focused Crawling\n",
    "- 웹 페이지를 **Bs4** 객체로 저장하기\n",
    "- 웹 페이지중 **포커싱된 DOM** 요소를 *.txt 파일로 저장하기"
   ]
  },
  {
   "cell_type": "code",
   "execution_count": 1,
   "metadata": {},
   "outputs": [],
   "source": [
    "# 앞에서 작업한 수집모듈 \n",
    "import requests, time\n",
    "def download(method, url, params=None, data=None):\n",
    "    userAgent = {\"user-agent\":\"Mozilla/5.0 (X11; Ubuntu; Linux x86_64; rv:61.0) Gecko/20100101 Firefox/61.0\"}\n",
    "    resp = requests.request(method, url, params=params, data=data, headers= userAgent)\n",
    "    return resp"
   ]
  },
  {
   "cell_type": "code",
   "execution_count": 2,
   "metadata": {},
   "outputs": [
    {
     "name": "stdout",
     "output_type": "stream",
     "text": [
      "나경원 \"김정은·호날두 공통점, 韓 호구로 여겨…김정은은 김날두\"\n",
      "산케이 “日, 韓 징용판결 해결책 내놓지 않으면 정상회담 안 할 것”\n",
      "이해찬 \"황교안, 국민뽑은 대통령을 적이라 생각…있을 수 없어\"\n",
      "文대통령, 지난 주말 2박3일 제주 다녀와…국내외 현안 해법구상\n",
      "트럼프, 인종차별 논란 불구 연일 흑인중진 공격\n"
     ]
    }
   ],
   "source": [
    "# 뉴스 Page Bs4 객체로 저장하기\n",
    "from bs4 import BeautifulSoup\n",
    "url = \"https://news.naver.com\"\n",
    "dom = BeautifulSoup(download(\"get\", url).text, \"lxml\")\n",
    "\n",
    "# Bs4 객체 내 제목의 수집\n",
    "for _ in dom.select(\"ul.hdline_article_list  a.lnk_hdline_article\"):\n",
    "    if len(_[\"href\"]) >1: # if _.has_attr(\"href\"):\n",
    "        print(_.text.strip())"
   ]
  },
  {
   "cell_type": "code",
   "execution_count": 3,
   "metadata": {},
   "outputs": [
    {
     "name": "stdout",
     "output_type": "stream",
     "text": [
      "35 https://news.naver.com/main/read.nhn?mode=LSD&mid=shm&sid1=100&oid=003&aid=0009372955\n",
      "News Crawling is Saved.. \n",
      "CPU times: user 33 ms, sys: 52 µs, total: 33 ms\n",
      "Wall time: 32.3 ms\n"
     ]
    }
   ],
   "source": [
    "%%time\n",
    "# 개별 뉴스들의 Link 주소 수집하기\n",
    "css_select = \"ul.hdline_article_list  a.lnk_hdline_article,  ul.mlist2.no_bg li > a\"\n",
    "newsList = [requests.compat.urljoin(url, _[\"href\"])  \n",
    "            for _ in dom.select(css_select)\n",
    "            if len(_[\"href\"]) >1]\n",
    "print(len(newsList), newsList[0])\n",
    "\n",
    "# aid 주소로 파일생성 및 Link 결과 저장하기\n",
    "# for _ in newsList:\n",
    "#     fileName = _.split(\"&\")[-1][4:]+ \".txt\"\n",
    "#     dom      = BeautifulSoup(download(\"get\", _).text, \"lxml\")\n",
    "#     content  = dom.select_one(\"#articleBodyContents\").text.strip()\n",
    "#     with open(\"./News/\" + fileName, \"w\", encoding=\"utf-8\") as f:\n",
    "#         f.write(content)\n",
    "        \n",
    "print(\"News Crawling is Saved.. \")"
   ]
  },
  {
   "cell_type": "markdown",
   "metadata": {},
   "source": [
    "# **Konlpy 를 활용한 Tokenizing**\n",
    "## **1 Mecab 을 활용한 Token**\n",
    "- Twitter, Hananum 등은 단어 기준으로 Tag 를 생성\n",
    "- 문장 내 성분분석은 하지 않아서 단어간 품사 구분은 못함\n",
    "- 유일하게 **Mecab** 에서는 **문장 구조내 품사분석** 결과를 출력한다"
   ]
  },
  {
   "cell_type": "code",
   "execution_count": 4,
   "metadata": {},
   "outputs": [
    {
     "data": {
      "text/plain": [
       "[('나', 'NP'), ('는', 'JX'), ('자연인', 'NNG'), ('이', 'VCP'), ('다', 'EC')]"
      ]
     },
     "execution_count": 4,
     "metadata": {},
     "output_type": "execute_result"
    }
   ],
   "source": [
    "# 구분이 안되는데???? Mecab 만 된다 ㅠㅠ\n",
    "from konlpy.tag import Mecab\n",
    "ko_tag = Mecab()\n",
    "ko_tag.pos(\"나는 자연인이다\")"
   ]
  },
  {
   "cell_type": "code",
   "execution_count": 5,
   "metadata": {},
   "outputs": [
    {
     "data": {
      "text/plain": [
       "[('싹', 'NNG'),\n",
       " ('이', 'JKS'),\n",
       " ('나', 'NP'),\n",
       " ('는', 'JX'),\n",
       " ('과정', 'NNG'),\n",
       " ('이', 'VCP'),\n",
       " ('다', 'EC')]"
      ]
     },
     "execution_count": 5,
     "metadata": {},
     "output_type": "execute_result"
    }
   ],
   "source": [
    "ko_tag.pos(\"싹이 나는 과정이다\")"
   ]
  },
  {
   "cell_type": "code",
   "execution_count": 6,
   "metadata": {},
   "outputs": [
    {
     "data": {
      "text/plain": [
       "[('비행기', 'NNG'),\n",
       " ('가', 'JKS'),\n",
       " ('나', 'VV'),\n",
       " ('는', 'ETM'),\n",
       " ('중', 'NNB'),\n",
       " ('에', 'JKB'),\n",
       " ('있', 'VV'),\n",
       " ('다', 'EC')]"
      ]
     },
     "execution_count": 6,
     "metadata": {},
     "output_type": "execute_result"
    }
   ],
   "source": [
    "ko_tag.pos(\"비행기가 나는 중에 있다\")"
   ]
  },
  {
   "cell_type": "markdown",
   "metadata": {},
   "source": [
    "# **NLTK 를 활용한 Token의 생성**\n",
    "nltk 등의 모듈결과 부족한 부분은 **Regex** 로 보완 합니다\n",
    "    \n",
    "## **1 Sentence Tokenizer**\n",
    "nltk 의 sent_tokenize\n",
    "\n",
    "```python\n",
    " .split() : 공백을 기준으로 Token 구분\n",
    " .splitlines() : Enter 개행문자 ('\\n') 기준으로 Token 구분\n",
    "```"
   ]
  },
  {
   "cell_type": "code",
   "execution_count": 7,
   "metadata": {},
   "outputs": [
    {
     "data": {
      "text/plain": [
       "['the technology is advanced.', 'My computer is So Good']"
      ]
     },
     "execution_count": 7,
     "metadata": {},
     "output_type": "execute_result"
    }
   ],
   "source": [
    "# nltk 를 활용한 Token 의 생성 \n",
    "from nltk.tokenize import sent_tokenize, word_tokenize\n",
    "sent_tokenize(\"the technology is advanced. My computer is So Good\")"
   ]
  },
  {
   "cell_type": "code",
   "execution_count": 8,
   "metadata": {},
   "outputs": [
    {
     "data": {
      "text/plain": [
       "['오늘은 습하네요!', '.?.', '덥기도 하구요']"
      ]
     },
     "execution_count": 8,
     "metadata": {},
     "output_type": "execute_result"
    }
   ],
   "source": [
    "# 영어가 기준인 만큼 한글은 결과값 해석시 주의할 필요가 있다\n",
    "sent_tokenize(\"오늘은 습하네요! .?. 덥기도 하구요\")"
   ]
  },
  {
   "cell_type": "code",
   "execution_count": 9,
   "metadata": {},
   "outputs": [
    {
     "data": {
      "text/plain": [
       "(1187, 248, 5)"
      ]
     },
     "execution_count": 9,
     "metadata": {},
     "output_type": "execute_result"
    }
   ],
   "source": [
    "# 정규식에서 숫자는 : String Range 값을 특정 합니다\n",
    "import os, re\n",
    "# re.match(\"\\d{10}.txt\", '0002542252.txt',)\n",
    "\n",
    "fileList = [_  for _ in os.listdir(\"./News/\") \n",
    "               if re.match(\"\\d{10}.txt\", _) ] #  if _.endswith(\"txt\")\n",
    "\n",
    "with open(\"./News/\" + fileList[0]) as f:\n",
    "    corpus = f.read()\n",
    "\n",
    "len(corpus), len(corpus.split()), len(corpus.splitlines())"
   ]
  },
  {
   "cell_type": "code",
   "execution_count": 10,
   "metadata": {},
   "outputs": [
    {
     "name": "stdout",
     "output_type": "stream",
     "text": [
      "15\n"
     ]
    },
    {
     "data": {
      "text/plain": [
       "(334,\n",
       " '오류를',\n",
       " \"// flash 오류를 우회하기 위한 함수 추가\\nfunction _flash_removeCallback() {}\\n\\n\\t\\n\\t교수는 스스로 7점 만점에 6.3점…학생은 4.3점 줘고혁진 코리아텍 교수 설문조사 결과…연구환경 인식 차이 커'불 꺼진 교수실'[연합뉴스 자료 사진](대전=연합뉴스) 이재림 기자 = 국내 청년 과학자와 교수 간 연구 환경에 대한 인식차가 적지 않은 것으로 나타났다.\")"
      ]
     },
     "execution_count": 10,
     "metadata": {},
     "output_type": "execute_result"
    }
   ],
   "source": [
    "# 처리가 부족한 부분은 re 를 활용하여 보완 합니다\n",
    "# ex) re.sub(\"\\s, \\\\n\", \"\\n\")\n",
    "print(len(sent_tokenize(corpus)))\n",
    "len(word_tokenize(corpus)), word_tokenize(corpus)[2], sent_tokenize(corpus)[0]"
   ]
  },
  {
   "cell_type": "markdown",
   "metadata": {},
   "source": [
    "## **2 Word Tokenizer**\n",
    "nltk 의 Token 생성 모듈의 특징을 알고 부족한 부분은 Regex 로 보완하기\n",
    "- word_tokenize : nltk 기본 모듈\n",
    "- regexp_tokenize : 정규식 활용 가능\n",
    "- TweetTokenizer : **Twitter 의 이모티콘을** Token 추출 ex) =)"
   ]
  },
  {
   "cell_type": "code",
   "execution_count": 11,
   "metadata": {},
   "outputs": [
    {
     "data": {
      "text/plain": [
       "['오늘은', '습하네요', '!', '.', '?', '.', '덥기도', '하구요', 'ㅜㅜ', '=', '(']"
      ]
     },
     "execution_count": 11,
     "metadata": {},
     "output_type": "execute_result"
    }
   ],
   "source": [
    "# nltk 모듈의 한글적용\n",
    "# 특히 문장부호를 어떻게 나누는지를 자세히 확인 할 것!!\n",
    "sample = \"오늘은 습하네요! .?. 덥기도 하구요 ㅜㅜ =(\"\n",
    "word_tokenize(sample)"
   ]
  },
  {
   "cell_type": "code",
   "execution_count": 12,
   "metadata": {},
   "outputs": [
    {
     "data": {
      "text/plain": [
       "['오늘은', '습하네요', '!', '.', '?', '.', '덥기도', '하구요', 'ㅜㅜ', '=(']"
      ]
     },
     "execution_count": 12,
     "metadata": {},
     "output_type": "execute_result"
    }
   ],
   "source": [
    "# Tweeter 의 이모티콘을 자동으로 인식 (구어제 작업시 활용)\n",
    "from nltk.tokenize import regexp_tokenize, TweetTokenizer\n",
    "TweetTokenizer().tokenize(sample)"
   ]
  },
  {
   "cell_type": "code",
   "execution_count": 13,
   "metadata": {},
   "outputs": [
    {
     "data": {
      "text/plain": [
       "['오늘은', '습하네요', '덥기도', '하구요', 'ㅜㅜ']"
      ]
     },
     "execution_count": 13,
     "metadata": {},
     "output_type": "execute_result"
    }
   ],
   "source": [
    "# \\w : alpha Numaric (한글/영어 문자들을 그룹으로 묶는다)\n",
    "regexp_tokenize(sample, \"(\\w+)\")"
   ]
  },
  {
   "cell_type": "code",
   "execution_count": 14,
   "metadata": {},
   "outputs": [
    {
     "data": {
      "text/plain": [
       "['오늘은', '습하네요', '덥기도', '하구요']"
      ]
     },
     "execution_count": 14,
     "metadata": {},
     "output_type": "execute_result"
    }
   ],
   "source": [
    "regexp_tokenize(sample, \"[가-힣]+\")"
   ]
  },
  {
   "cell_type": "markdown",
   "metadata": {},
   "source": [
    "# **NGram 의 생성**\n",
    "## **1 어절로 구분하는 N-Gram 함수**\n",
    "단어, 어절(eo), 음절, 형태소"
   ]
  },
  {
   "cell_type": "code",
   "execution_count": 15,
   "metadata": {},
   "outputs": [
    {
     "data": {
      "text/plain": [
       "[('오늘은', '습하네요!'),\n",
       " ('습하네요!', '.?.'),\n",
       " ('.?.', '덥기도'),\n",
       " ('덥기도', '하구요'),\n",
       " ('하구요', 'ㅜㅜ'),\n",
       " ('ㅜㅜ', '=(')]"
      ]
     },
     "execution_count": 15,
     "metadata": {},
     "output_type": "execute_result"
    }
   ],
   "source": [
    "# 어절을 기준으로 N-gram \n",
    "sample = \"오늘은 습하네요! .?. 덥기도 하구요 ㅜㅜ =(\"\n",
    "\n",
    "def eojeol(sent, num=2): # num > 2\n",
    "    ngram = []\n",
    "    token = sent.split() # Token 의 생성 (각자 다르게 적용)\n",
    "    for i in range(len(token)- (num-1)):\n",
    "        ngram.append(tuple(token[i: i+num]))\n",
    "    return ngram\n",
    "\n",
    "eojeol(sample)"
   ]
  },
  {
   "cell_type": "markdown",
   "metadata": {},
   "source": [
    "## **2 음절로 구분하는 N-Gram 함수**\n",
    "- 띄어쓰기 교정, 단어의 품사 구분등, 임의적인 Meta 함수 만들기에 용이하다\n",
    "- list() 함수에 \"string\" 문자를 넣으면 [\"s\",\"t\",\"r\",\"i\",\"n\",\"g\"] 로 자동으로 데이터 생성"
   ]
  },
  {
   "cell_type": "code",
   "execution_count": 16,
   "metadata": {},
   "outputs": [
    {
     "data": {
      "text/plain": [
       "[('오', '늘'), ('늘', '은'), ('은', ' '), (' ', '습')]"
      ]
     },
     "execution_count": 16,
     "metadata": {},
     "output_type": "execute_result"
    }
   ],
   "source": [
    "# 음절을 기준으로 N-gram\n",
    "def umjeol(sent, num=2): # num > 2\n",
    "    ngram = []\n",
    "    token = list(sent) # Token 의 생성 (각자 다르게 적용)\n",
    "    for i in range(len(token)- (num-1)):\n",
    "        ngram.append(tuple(token[i: i+num]))\n",
    "    return ngram\n",
    "\n",
    "umjeol(sample[:5])"
   ]
  },
  {
   "cell_type": "code",
   "execution_count": 17,
   "metadata": {},
   "outputs": [
    {
     "data": {
      "text/plain": [
       "['오', '늘', '은', ' ', '습']"
      ]
     },
     "execution_count": 17,
     "metadata": {},
     "output_type": "execute_result"
    }
   ],
   "source": [
    "# list() : 문장요소 어절로 나누기\n",
    "list(sample)[:5]"
   ]
  },
  {
   "cell_type": "markdown",
   "metadata": {},
   "source": [
    "## **3 NLTK 를 활용한 N-Gram**\n",
    "- 위 내용은 NLTK 모듈을 사용하면 바로 구현할 수 있습니다"
   ]
  },
  {
   "cell_type": "code",
   "execution_count": 18,
   "metadata": {},
   "outputs": [
    {
     "data": {
      "text/plain": [
       "[('this', 'is', 'a', 'foo'),\n",
       " ('is', 'a', 'foo', 'bar'),\n",
       " ('a', 'foo', 'bar', 'sentences'),\n",
       " ('foo', 'bar', 'sentences', 'and'),\n",
       " ('bar', 'sentences', 'and', 'i'),\n",
       " ('sentences', 'and', 'i', 'want'),\n",
       " ('and', 'i', 'want', 'to'),\n",
       " ('i', 'want', 'to', 'ngramize'),\n",
       " ('want', 'to', 'ngramize', 'it')]"
      ]
     },
     "execution_count": 18,
     "metadata": {},
     "output_type": "execute_result"
    }
   ],
   "source": [
    " # you can give 4, 5, 1 or any number less than sentences length\n",
    "sentence  = 'this is a foo bar sentences and i want to ngramize it'\n",
    "tokens    = sentence.split()\n",
    "n         = 4\n",
    "\n",
    "from nltk import ngrams\n",
    "ngramsres = ngrams(tokens, n)\n",
    "[_   for _ in ngramsres]"
   ]
  },
  {
   "cell_type": "markdown",
   "metadata": {},
   "source": [
    "<br></br>\n",
    "# **NLTK 객체**\n",
    "nltk 에서 활용가능한 다양한 메서드를 사용할 수 있습니다.\n",
    "\n",
    "## **1 영문 데이터를 활용한 메서드 실습**\n",
    "구텐베르크 자료속 Emma 소설을 활용하여 작업을 진행 합니다\n",
    "\n",
    "```python\n",
    "import nltk\n",
    "nltk.download(\"gutenberg\")\n",
    "```"
   ]
  },
  {
   "cell_type": "code",
   "execution_count": 19,
   "metadata": {},
   "outputs": [
    {
     "data": {
      "text/plain": [
       "(191785, 10974)"
      ]
     },
     "execution_count": 19,
     "metadata": {},
     "output_type": "execute_result"
    }
   ],
   "source": [
    "# nltk 에서 분석가능한 객체를 자동으로 생성\n",
    "from nltk import Text\n",
    "from nltk.tag import pos_tag\n",
    "from nltk.corpus import gutenberg\n",
    "\n",
    "emma     = gutenberg.open(gutenberg.fileids()[0]).read()\n",
    "text_obj = Text(pos_tag(word_tokenize(emma)))\n",
    "\n",
    "# .B() : Unique 한 Token 갯수\n",
    "# .N() : 전체 Token 의 갯수\n",
    "text_obj.vocab().N(),  text_obj.vocab().B()"
   ]
  },
  {
   "cell_type": "code",
   "execution_count": 20,
   "metadata": {},
   "outputs": [
    {
     "data": {
      "image/png": "[encoded data removed]",
      "text/plain": [
       "<Figure size 432x288 with 1 Axes>"
      ]
     },
     "metadata": {
      "needs_background": "light"
     },
     "output_type": "display_data"
    },
    {
     "data": {
      "text/plain": [
       "[((',', ','), 12016),\n",
       " (('.', '.'), 6355),\n",
       " (('to', 'TO'), 5125),\n",
       " (('the', 'DT'), 4844),\n",
       " (('and', 'CC'), 4653),\n",
       " (('of', 'IN'), 4272),\n",
       " (('I', 'PRP'), 3177),\n",
       " (('--', ':'), 3100),\n",
       " (('a', 'DT'), 3001),\n",
       " ((\"''\", \"''\"), 2452)]"
      ]
     },
     "execution_count": 20,
     "metadata": {},
     "output_type": "execute_result"
    }
   ],
   "source": [
    "%matplotlib inline\n",
    "text_obj.plot(50)\n",
    "text_obj.vocab().most_common(10)"
   ]
  },
  {
   "cell_type": "markdown",
   "metadata": {},
   "source": [
    "## **2 한글을 활용한 NLTK 메서드 실습**\n",
    "1. NLTK 는 영문이 기준인 만큼, 분석 결과를 확인 후 **Regex 로 보완이** 필요 합니다.\n",
    "1. Matplotlib 에서도 **한글과, 음수표시** 등 추가적 설정이 필요 합니다.\n",
    "\n",
    "```python\n",
    "from matplotlib import rc, rcParams\n",
    "rc('font', family=['NanumGothic','Malgun Gothic']) # 한글의 표시\n",
    "rcParams['axes.unicode_minus'] = False             # '-' 표시의 처리\n",
    "```"
   ]
  },
  {
   "cell_type": "code",
   "execution_count": 21,
   "metadata": {},
   "outputs": [
    {
     "data": {
      "text/plain": [
       "(248, 213)"
      ]
     },
     "execution_count": 21,
     "metadata": {},
     "output_type": "execute_result"
    }
   ],
   "source": [
    "text_kor = Text(corpus.split())\n",
    "text_kor.vocab().N(), text_kor.vocab().B()"
   ]
  },
  {
   "cell_type": "code",
   "execution_count": 22,
   "metadata": {},
   "outputs": [
    {
     "data": {
      "image/png": "[encoded data removed]",
      "text/plain": [
       "<Figure size 1080x216 with 1 Axes>"
      ]
     },
     "metadata": {
      "needs_background": "light"
     },
     "output_type": "display_data"
    },
    {
     "data": {
      "text/plain": [
       "[('인식', 11),\n",
       " ('대한', 7),\n",
       " ('간', 3),\n",
       " ('진로에', 3),\n",
       " ('차이는', 3),\n",
       " ('교수는', 2),\n",
       " ('7점', 2),\n",
       " ('교수', 2),\n",
       " ('차이', 2),\n",
       " ('것으로', 2)]"
      ]
     },
     "execution_count": 22,
     "metadata": {},
     "output_type": "execute_result"
    }
   ],
   "source": [
    "from matplotlib import rc, rcParams\n",
    "rc('font', family=['NanumGothic','Malgun Gothic']) # 한글의 표시\n",
    "rcParams['axes.unicode_minus'] = False             # '-' 표시의 처리\n",
    "\n",
    "import matplotlib.pyplot as plt\n",
    "plt.figure(figsize=(15, 3))  # 파레트 설정\n",
    "\n",
    "text_kor.plot(50)\n",
    "text_kor.vocab().most_common(10)"
   ]
  },
  {
   "cell_type": "markdown",
   "metadata": {},
   "source": [
    "# **Statistic NLP의 기초 (통계기법의 활용)**\n",
    "## **1 Zipf Law 를 활용한 Topic 분석**\n",
    "https://statkclee.github.io/text/nlp-zipf-law.html\n",
    "- 출현빈도가 높아도 중요하지 않은 단어들이 섞여있는 만큼\n",
    "- 이를 줄이는 방식으로 **Stop Words** 를 활용하는 방식과\n",
    "- 이와 함께 **중간 빈도의 단어들을 중심으로** 주제를 추출 합니다.\n",
    "\n",
    "<img src=\"./data/zipf_law.png\" width=\"250\" align=\"left\">"
   ]
  },
  {
   "cell_type": "code",
   "execution_count": 23,
   "metadata": {},
   "outputs": [
    {
     "data": {
      "text/plain": [
       "[<matplotlib.lines.Line2D at 0x7ff83d37bc50>]"
      ]
     },
     "execution_count": 23,
     "metadata": {},
     "output_type": "execute_result"
    },
    {
     "data": {
      "image/png": "[encoded data removed]",
      "text/plain": [
       "<Figure size 720x144 with 1 Axes>"
      ]
     },
     "metadata": {
      "needs_background": "light"
     },
     "output_type": "display_data"
    }
   ],
   "source": [
    "# 내림차순 정렬 (Token 빈도를 key 로 설정하여 정렬)\n",
    "sorted_kor = sorted(text_kor.vocab().items(), key=lambda x:x[1], reverse=True)\n",
    "\n",
    "# 전체 빈도값을 최대빈도로 나눠서 0~1 사이의 값으로 정규화\n",
    "max_kor   = max(text_kor.vocab().values())  # 최대 빈도값 추출\n",
    "freq_rate = [ _[1]/max_kor  for _ in sorted_kor]\n",
    "\n",
    "x = [_+1 for _ in range(len(freq_rate))]\n",
    "plt.figure(figsize = (10, 2))  # 파레트 설정\n",
    "plt.plot(x, freq_rate, 'r-')   # 정규화 된 빈도수  \n",
    "plt.plot(x, [1/(_+1)  for _ in range(len(freq_rate))], \"b-\") # Zif's Law 그래프"
   ]
  },
  {
   "cell_type": "code",
   "execution_count": 24,
   "metadata": {},
   "outputs": [
    {
     "data": {
      "text/plain": [
       "[<matplotlib.lines.Line2D at 0x7ff83d4732e8>]"
      ]
     },
     "execution_count": 24,
     "metadata": {},
     "output_type": "execute_result"
    },
    {
     "data": {
      "image/png": "[encoded data removed]",
      "text/plain": [
       "<Figure size 720x144 with 1 Axes>"
      ]
     },
     "metadata": {
      "needs_background": "light"
     },
     "output_type": "display_data"
    }
   ],
   "source": [
    "# Log() 씌운 결과 직선 비스므리 내려가는 모습을 보여주고 있다\n",
    "from math import log\n",
    "_x = [log(_)  for _ in x]\n",
    "_y = [log(_)  for _ in freq_rate]\n",
    "plt.figure(figsize = (10, 2))  # 파레트 설정\n",
    "plt.plot(_x, _y, \"g-\")"
   ]
  },
  {
   "cell_type": "markdown",
   "metadata": {},
   "source": [
    "## **2 Token 의 빈도값 측정**\n",
    "```python\n",
    "text_kor.vocab().most_common() # 빈도기준 정렬결과를 출력\n",
    "text_kor.vocab().freq(\"날씨\")   # Token 의 출현 빈도값 계산\n",
    "```"
   ]
  },
  {
   "cell_type": "code",
   "execution_count": 25,
   "metadata": {},
   "outputs": [
    {
     "data": {
      "text/plain": [
       "(0.04435483870967742, 0.004032258064516129)"
      ]
     },
     "execution_count": 25,
     "metadata": {},
     "output_type": "execute_result"
    }
   ],
   "source": [
    "# 네이버 뉴스 데이터 크롤링\n",
    "corpus = \"\"\n",
    "for _ in fileList:\n",
    "    with open(\"./News/\"+_) as f:\n",
    "        corpus += f.read()\n",
    "\n",
    "# 단어들의 출현빈도내용 살펴보기\n",
    "freq = [ text_kor.vocab().freq(_[0]) for _ in text_kor.vocab().most_common()]\n",
    "max(freq), min(freq)"
   ]
  },
  {
   "cell_type": "code",
   "execution_count": 26,
   "metadata": {},
   "outputs": [
    {
     "name": "stdout",
     "output_type": "stream",
     "text": [
      "0.04435483870967742\n",
      "0.028225806451612902\n",
      "0.012096774193548387\n",
      "0.012096774193548387\n",
      "0.012096774193548387\n"
     ]
    },
    {
     "data": {
      "text/plain": [
       "[('인식', 11), ('대한', 7), ('간', 3), ('진로에', 3), ('차이는', 3)]"
      ]
     },
     "execution_count": 26,
     "metadata": {},
     "output_type": "execute_result"
    }
   ],
   "source": [
    "# 상위 빈도 10% Token 의 출력\n",
    "threshold = 0.10\n",
    "removed   = []\n",
    "\n",
    "for _ in text_kor.vocab().most_common():\n",
    "    print(text_kor.vocab().freq(_[0]))\n",
    "    threshold -= text_kor.vocab().freq(_[0])\n",
    "    removed.append(_)\n",
    "    if threshold < 0:\n",
    "        break\n",
    "\n",
    "removed"
   ]
  },
  {
   "cell_type": "markdown",
   "metadata": {},
   "source": [
    "# **Word Piece Model**\n",
    "- https://wikidocs.net/22592 (단어 분리(Subword Segmentation))\n",
    "- **BPE(Byte Pair Encoding)** 알고리즘 (1994) Philip Gage 논문이 배경\n",
    "- **WPM** 모델링 기법 : 2016 년 **Pre Processing 모델링을** 활용한 Stemming 기법\n",
    "\n",
    "## **1 defaultDict 을 활용한 단어조합기**\n",
    "**defaultDict()** 을 활용한 **N-Gram** 생성 후 **단어 조합하기** 연습\n",
    "- https://itholic.github.io/python-defaultdict/\n",
    "- dict 객체는 **없는 key 호출시 오류를** 출력하지만\n",
    "- **defaultdict** 에서 **없는 key 호출시, key를 생성하고 value 를 0 으로 자동 초기화** 합니다.\n",
    "- 호출의 효율성을 높이기 위한 모듈로써 활용 됩니다"
   ]
  },
  {
   "cell_type": "code",
   "execution_count": 27,
   "metadata": {},
   "outputs": [
    {
     "data": {
      "text/plain": [
       "'l o w </w>'"
      ]
     },
     "execution_count": 27,
     "metadata": {},
     "output_type": "execute_result"
    }
   ],
   "source": [
    "# 단어 Token 을 음절단위로 구분하기\n",
    "\" \".join(list(\"low\")+[\"</w>\"]) "
   ]
  },
  {
   "cell_type": "code",
   "execution_count": 28,
   "metadata": {},
   "outputs": [
    {
     "data": {
      "text/plain": [
       "defaultdict(int,\n",
       "            {('l', 'o'): 7,\n",
       "             ('o', 'w'): 7,\n",
       "             ('w', '</w>'): 5,\n",
       "             ('w', 'e'): 8,\n",
       "             ('e', 's'): 2,\n",
       "             ('s', 't'): 2,\n",
       "             ('t', '</w>'): 2,\n",
       "             ('n', 'e'): 6,\n",
       "             ('e', 'w'): 6,\n",
       "             ('e', 'r'): 9,\n",
       "             ('r', '</w>'): 9,\n",
       "             ('w', 'i'): 3,\n",
       "             ('i', 'd'): 3,\n",
       "             ('d', 'e'): 3})"
      ]
     },
     "execution_count": 28,
     "metadata": {},
     "output_type": "execute_result"
    }
   ],
   "source": [
    "# Token 과 빈도수를 활용한 \n",
    "data = {\n",
    "    \" l o w </w>\":5,\n",
    "    \" l o w e s t </w>\":2,\n",
    "    \" n e w e r </w>\":6,\n",
    "    \" w i d e r </w>\":3,\n",
    "}\n",
    "\n",
    "from collections import defaultdict\n",
    "pair      = defaultdict(int)\n",
    "candidate = {}\n",
    "n_gram    = 2\n",
    "\n",
    "for k, v in data.items():\n",
    "    token = k.split()\n",
    "    for i in range(len(token)-1):\n",
    "        pair[tuple(token[ i : i+n_gram ])] += v\n",
    "pair"
   ]
  },
  {
   "cell_type": "code",
   "execution_count": 29,
   "metadata": {},
   "outputs": [
    {
     "data": {
      "text/plain": [
       "('e', 'r')"
      ]
     },
     "execution_count": 29,
     "metadata": {},
     "output_type": "execute_result"
    }
   ],
   "source": [
    "# .get : Tuple 의 객체들을 따로 따로 묶어서 판단 합니다.\n",
    "maxKey = max(pair, key=pair.get) # pair.get : <function defaultdict.get>\n",
    "maxKey"
   ]
  },
  {
   "cell_type": "code",
   "execution_count": 30,
   "metadata": {},
   "outputs": [
    {
     "data": {
      "text/plain": [
       "{' l o w </w>': 5,\n",
       " ' l o w e s t </w>': 2,\n",
       " ' n e w er </w>': 6,\n",
       " ' w i d er </w>': 3}"
      ]
     },
     "execution_count": 30,
     "metadata": {},
     "output_type": "execute_result"
    }
   ],
   "source": [
    "# 함께 출현하는 빈도가 높을수록 단어로 묶일 확률이 높다\n",
    "# 작업결과 \"er\" 이 묶인걸 볼 수 있습니다.\n",
    "newData = {}\n",
    "for k, v in data.items():\n",
    "    newKey = re.sub(\" \".join(maxKey), \"\".join(maxKey), k)\n",
    "    newData[newKey] = v\n",
    "newData"
   ]
  },
  {
   "cell_type": "markdown",
   "metadata": {},
   "source": [
    "## **2 Word Piece Model 한글실습**\n",
    "- defaultDict 단어 token 을 만든 뒤,\n",
    "- Bi-Gram 빈도를 기준으로 단어 Token 을 찾기"
   ]
  },
  {
   "cell_type": "code",
   "execution_count": 31,
   "metadata": {},
   "outputs": [],
   "source": [
    "# Ngram defaultDict 만들기\n",
    "def findNgram(data):\n",
    "    pair = defaultdict(int)\n",
    "    candidate = {}\n",
    "    for k, v in data.items():\n",
    "        token = k.split()\n",
    "        for i in range(len(token)-1):\n",
    "            pair[tuple(token[ i : i+2 ])] += v\n",
    "    return pair\n",
    "\n",
    "# MaxKey 빈도값을 활용하여 단어 생성하기\n",
    "def mergeNgram(maxKey, data):\n",
    "    newData = {}\n",
    "    for k, v in data.items():\n",
    "        newKey = re.sub(\" \".join(maxKey), \"\".join(maxKey), k)\n",
    "        newData[newKey] = v\n",
    "    return newData"
   ]
  },
  {
   "cell_type": "code",
   "execution_count": 32,
   "metadata": {},
   "outputs": [
    {
     "data": {
      "text/plain": [
       "{' 아버지 께 </w>': 5, ' 아버지 를 </w>': 2, ' 아버지 에 게 </w>': 6, ' 아버지 와 </w>': 3}"
      ]
     },
     "execution_count": 32,
     "metadata": {},
     "output_type": "execute_result"
    }
   ],
   "source": [
    "# 어절 Token 목록을 활용한 단어 찾기\n",
    "data = {\n",
    "    \" 아 버 지 께 </w>\":5,\n",
    "    \" 아 버 지 를 </w>\":2,\n",
    "    \" 아 버 지 에 게 </w>\":6,\n",
    "    \" 아 버 지 와 </w>\":3,\n",
    "}\n",
    "\n",
    "for _ in range(2):\n",
    "    pairList = findNgram(data)\n",
    "    maxKey = max(pairList, key=pairList.get)\n",
    "    data = mergeNgram(maxKey, data)\n",
    "data"
   ]
  },
  {
   "cell_type": "markdown",
   "metadata": {},
   "source": [
    "## **3 Word Piece Model 한글실습 2**\n",
    "- 반복 횟수인 MaxKey 값을 자동으로 찾기"
   ]
  },
  {
   "cell_type": "code",
   "execution_count": 33,
   "metadata": {},
   "outputs": [
    {
     "data": {
      "text/plain": [
       "dict_values([5, 2, 6, 3])"
      ]
     },
     "execution_count": 33,
     "metadata": {},
     "output_type": "execute_result"
    }
   ],
   "source": [
    "data = {\n",
    "    \"아 버 지 께 </w>\":5,\n",
    "    \"아 버 지 를 </w>\":2,\n",
    "    \"아 버 지 에 게 </w>\":6,\n",
    "    \"아 버 지 와 </w>\":3,\n",
    "}\n",
    "data.values()"
   ]
  },
  {
   "cell_type": "code",
   "execution_count": 34,
   "metadata": {},
   "outputs": [
    {
     "data": {
      "text/plain": [
       "6"
      ]
     },
     "execution_count": 34,
     "metadata": {},
     "output_type": "execute_result"
    }
   ],
   "source": [
    "from collections import defaultdict\n",
    "def findNagram(data):\n",
    "    pair = defaultdict(int)\n",
    "    for k, v in data.items():\n",
    "        tokens = k.split()\n",
    "        for i in range(len(tokens)-1):\n",
    "            pair[tuple(tokens[i:i+2])] += v\n",
    "    return pair\n",
    "\n",
    "# maxValue 변수를 추가해 반복 횟수를 제한 합니다\n",
    "def mergeNgram(maxKey, data):\n",
    "    newData = dict()\n",
    "    for k, v in data.items():\n",
    "        newKey = re.sub(\" \".join(maxKey),\n",
    "                        \"\".join(maxKey), k)\n",
    "        newData[newKey] = v\n",
    "    return newData\n",
    "\n",
    "maxValue = max(data.values())\n",
    "maxValue"
   ]
  },
  {
   "cell_type": "code",
   "execution_count": 35,
   "metadata": {},
   "outputs": [
    {
     "name": "stdout",
     "output_type": "stream",
     "text": [
      "('아', '버') 16\n",
      "('아버', '지') 16\n",
      "('아버지', '에') 6\n"
     ]
    },
    {
     "data": {
      "text/plain": [
       "{'아버지 께 </w>': 5, '아버지 를 </w>': 2, '아버지 에 게 </w>': 6, '아버지 와 </w>': 3}"
      ]
     },
     "execution_count": 35,
     "metadata": {},
     "output_type": "execute_result"
    }
   ],
   "source": [
    "for _ in range(1000):\n",
    "    pairList = findNagram(data)\n",
    "    maxKey   = max(pairList, key=pairList.get)\n",
    "    print(maxKey, pairList[maxKey])\n",
    "    \n",
    "    if pairList[maxKey] > maxValue:\n",
    "        data = mergeNgram(maxKey, data)\n",
    "    else: \n",
    "        break\n",
    "data"
   ]
  },
  {
   "cell_type": "code",
   "execution_count": 36,
   "metadata": {},
   "outputs": [
    {
     "data": {
      "text/plain": [
       "defaultdict(int,\n",
       "            {('아버지', '께'): 5,\n",
       "             ('께', '</w>'): 5,\n",
       "             ('아버지', '를'): 2,\n",
       "             ('를', '</w>'): 2,\n",
       "             ('아버지', '에'): 6,\n",
       "             ('에', '게'): 6,\n",
       "             ('게', '</w>'): 6,\n",
       "             ('아버지', '와'): 3,\n",
       "             ('와', '</w>'): 3})"
      ]
     },
     "execution_count": 36,
     "metadata": {},
     "output_type": "execute_result"
    }
   ],
   "source": [
    "pairList"
   ]
  }
 ],
 "metadata": {
  "kernelspec": {
   "display_name": "Python 3",
   "language": "python",
   "name": "python3"
  },
  "language_info": {
   "codemirror_mode": {
    "name": "ipython",
    "version": 3
   },
   "file_extension": ".py",
   "mimetype": "text/x-python",
   "name": "python",
   "nbconvert_exporter": "python",
   "pygments_lexer": "ipython3",
   "version": "3.6.3"
  }
 },
 "nbformat": 4,
 "nbformat_minor": 4
}
