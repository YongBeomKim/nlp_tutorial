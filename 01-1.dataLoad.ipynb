{
 "cells": [
  {
   "cell_type": "markdown",
   "metadata": {},
   "source": [
    "# **Working Process**\n",
    "1. 데이터 수집하기\n",
    "1. 수집데이터 전처리 NDBMS\n",
    "1. Token 의 정리 (wordCloud)\n",
    "1. N-Gram 의 정리 (메뉴명 PMI)\n",
    "1. Clustering (군집화 묶기)\n",
    "1. Token 간 관계 분석하기\n",
    "1. 데이터 정리 및 모델링"
   ]
  },
  {
   "cell_type": "markdown",
   "metadata": {},
   "source": [
    "## **1 sheet Names**\n",
    "엑셀내 시트내용 살펴보기"
   ]
  },
  {
   "cell_type": "code",
   "execution_count": 3,
   "metadata": {},
   "outputs": [
    {
     "name": "stderr",
     "output_type": "stream",
     "text": [
      "100%|██████████| 253/253 [00:00<00:00, 269193.03it/s]"
     ]
    },
    {
     "name": "stdout",
     "output_type": "stream",
     "text": [
      "['업체별단가 및 사모님이 사오시는 품목', '사용량', '18년1.16-24', '18년2.20-', '18.03.20']\n",
      "업체별단가 및 사모님이 사오시는 품목\n",
      "사용량\n"
     ]
    },
    {
     "name": "stderr",
     "output_type": "stream",
     "text": [
      "\n"
     ]
    },
    {
     "data": {
      "text/plain": [
       "251"
      ]
     },
     "execution_count": 3,
     "metadata": {},
     "output_type": "execute_result"
    }
   ],
   "source": [
    "import xlrd, re\n",
    "xls_file = r'backup/menuData_muyong.xlsx'\n",
    "xls = xlrd.open_workbook(xls_file, on_demand=True)\n",
    "sheetName = xls.sheet_names()\n",
    "print(sheetName[:5])\n",
    "\n",
    "from tqdm import tqdm\n",
    "shtList = []\n",
    "for _ in tqdm(sheetName):\n",
    "    chk = re.findall(r\"(\\d+).(\\d+)[-.](\\d+)\",_)\n",
    "    if chk:\n",
    "        if len(\"\".join(chk[0])) < 5: print(_)\n",
    "        else: shtList.append(_)\n",
    "    else: print(_)\n",
    "        \n",
    "len(shtList)"
   ]
  },
  {
   "cell_type": "code",
   "execution_count": 4,
   "metadata": {},
   "outputs": [
    {
     "data": {
      "text/html": [
       "<div>\n",
       "<style scoped>\n",
       "    .dataframe tbody tr th:only-of-type {\n",
       "        vertical-align: middle;\n",
       "    }\n",
       "\n",
       "    .dataframe tbody tr th {\n",
       "        vertical-align: top;\n",
       "    }\n",
       "\n",
       "    .dataframe thead th {\n",
       "        text-align: right;\n",
       "    }\n",
       "</style>\n",
       "<table border=\"1\" class=\"dataframe\">\n",
       "  <thead>\n",
       "    <tr style=\"text-align: right;\">\n",
       "      <th></th>\n",
       "      <th>품명</th>\n",
       "      <th>신용축산</th>\n",
       "      <th>비앤피</th>\n",
       "      <th>사모님이 사오시는품목</th>\n",
       "    </tr>\n",
       "  </thead>\n",
       "  <tbody>\n",
       "    <tr>\n",
       "      <th>0</th>\n",
       "      <td>NaN</td>\n",
       "      <td>031 426 8833</td>\n",
       "      <td>010 3805 4938</td>\n",
       "      <td>NaN</td>\n",
       "    </tr>\n",
       "    <tr>\n",
       "      <th>1</th>\n",
       "      <td>목전지(제육)</td>\n",
       "      <td>4800</td>\n",
       "      <td>4700</td>\n",
       "      <td>굴소스</td>\n",
       "    </tr>\n",
       "  </tbody>\n",
       "</table>\n",
       "</div>"
      ],
      "text/plain": [
       "        품명          신용축산            비앤피 사모님이 사오시는품목\n",
       "0      NaN  031 426 8833  010 3805 4938         NaN\n",
       "1  목전지(제육)          4800           4700         굴소스"
      ]
     },
     "execution_count": 4,
     "metadata": {},
     "output_type": "execute_result"
    }
   ],
   "source": [
    "# merge cell 때문에 전체가 보이질 않는다 ㅠㅠ..\n",
    "import pandas as pd\n",
    "pd.read_excel(xls_file, sheetName=shtList[5]).head(2)"
   ]
  },
  {
   "cell_type": "markdown",
   "metadata": {},
   "source": [
    "## **2 lambda 수식의 활용**\n",
    "큰 데이터를 처리시, for 문에 비해 훨씬 효과가 빠르다\n",
    "1. https://dojang.io/mod/page/view.php?id=1059\n",
    "1. http://book.pythontips.com/en/latest/lambdas.html\n",
    "1. https://stackoverflow.com/questions/31206106/compare-each-item-of-two-lists-in-python"
   ]
  },
  {
   "cell_type": "code",
   "execution_count": 1,
   "metadata": {},
   "outputs": [
    {
     "data": {
      "text/plain": [
       "8"
      ]
     },
     "execution_count": 1,
     "metadata": {},
     "output_type": "execute_result"
    }
   ],
   "source": [
    "# lambda 를 활용한 계산\n",
    "add = lambda x, y: x + y\n",
    "add(3, 5)"
   ]
  },
  {
   "cell_type": "code",
   "execution_count": 2,
   "metadata": {},
   "outputs": [
    {
     "data": {
      "text/plain": [
       "[(13, -3), (4, 1), (1, 2), (9, 10)]"
      ]
     },
     "execution_count": 2,
     "metadata": {},
     "output_type": "execute_result"
    }
   ],
   "source": [
    "# lambda 를 활용한 정렬\n",
    "a = [(1, 2), (4, 1), (9, 10), (13, -3)]\n",
    "a.sort(key=lambda x: x[1])\n",
    "a"
   ]
  },
  {
   "cell_type": "code",
   "execution_count": 3,
   "metadata": {},
   "outputs": [
    {
     "name": "stdout",
     "output_type": "stream",
     "text": [
      "list1 : [1, 2, 3, 4, 5]\n",
      "list2 : [10, 20, 30, 40, 50]\n"
     ]
    }
   ],
   "source": [
    "list1, list2 = (1,2,3,4,5), (10,20,30,40,50)\n",
    "data = zip(list1, list2)\n",
    "# data.sort()  # .sort는 오류를 발생한다\n",
    "# data\n",
    "list1, list2 = map(lambda t: list(t), zip(*data))\n",
    "print(\"list1 : {}\\nlist2 : {}\".format(list1, list2))"
   ]
  },
  {
   "cell_type": "code",
   "execution_count": 4,
   "metadata": {},
   "outputs": [
    {
     "name": "stdout",
     "output_type": "stream",
     "text": [
      "값 비교 : [False, False, False, False, False, False, False, False, True]\n",
      "값의 합 : [3, 4, 5, 7, 8, 9, 6, 7, 8]\n"
     ]
    }
   ],
   "source": [
    "# itertools 을 활용\n",
    "import itertools\n",
    "list_1 = [1,5,4]\n",
    "list_2 = [2,3,4]\n",
    "# using list comprehensions\n",
    "comparisons = [a == b for (a, b) in itertools.product(list_1, list_2)]\n",
    "sums        = [a + b  for (a, b) in itertools.product(list_1, list_2)]\n",
    "print(\"값 비교 : {}\\n값의 합 : {}\".format(comparisons,sums))"
   ]
  },
  {
   "cell_type": "code",
   "execution_count": 5,
   "metadata": {},
   "outputs": [
    {
     "name": "stdout",
     "output_type": "stream",
     "text": [
      "lst3 Row data : [False, False, False, False, False, False, False, False, True]\n",
      "Counting \"True\" data : 1\n"
     ]
    }
   ],
   "source": [
    "lst1 = [1,5,4]\n",
    "lst2 = [2,3,4]\n",
    "lst3 = list(map(lambda x: x[0] == x[1] , itertools.product(lst1,lst2)))\n",
    "print('lst3 Row data : {}\\nCounting \"True\" data : {}'.format(lst3, sum(lst3)))"
   ]
  },
  {
   "cell_type": "markdown",
   "metadata": {},
   "source": [
    "<br></br>\n",
    "# **Process Goal**\n",
    "- 여러가지 작업방법을 사용하여 원하는 사전을 구축하는 것!!!\n",
    "- 결국은 **사전을 구축하며 내용을 확인 가능해야 Huristic 개념에서 Algorithm 으로** 넘어갈 수 있다\n",
    "- 음식과 메뉴 관련된 단어들만 추출가능하도록 모듈 구성하기\n",
    "- Token 들 중 음식과 관련된 단어들만 찾기\n",
    "- 유효한 값 2000개 중 음식과 관련 없는 것들만 제거하기"
   ]
  },
  {
   "cell_type": "markdown",
   "metadata": {},
   "source": [
    "## **1 NLP 전처리**\n",
    "문장과 단어의 유사도 및 성격 분석및 측정하기"
   ]
  },
  {
   "cell_type": "code",
   "execution_count": 1,
   "metadata": {},
   "outputs": [
    {
     "data": {
      "text/plain": [
       "(12, 12, 12)"
      ]
     },
     "execution_count": 1,
     "metadata": {},
     "output_type": "execute_result"
    }
   ],
   "source": [
    "text1 = \"자연 언어에 대한 연구는 오래전부터 이어져 오고 있음에도 2018년까지도 사람처럼 이해하지는 못한다.\".split()\n",
    "text2 = \"자연 언어에 대한 연구는 오래전부터 이어져 들어서도 아직 컴퓨터가 사람처럼 이해하지는 못한다.\".split()\n",
    "text3 = \"자연 아직 컴퓨터가 언어에 들어서도 못한다 이어져 사람처럼 이해하지는 대한 연구는 오래전부터.\".split()\n",
    "len(text1), len(text2), len(text3)"
   ]
  },
  {
   "cell_type": "code",
   "execution_count": 2,
   "metadata": {},
   "outputs": [
    {
     "name": "stdout",
     "output_type": "stream",
     "text": [
      "5\n",
      "생략된 단어가 다를 때 : 3 \n",
      "어휘 순서를 바꿨을 때 : 10\n"
     ]
    }
   ],
   "source": [
    "from nltk.metrics import edit_distance\n",
    "print(edit_distance('파이썬 알고리즘', '파파미 알탕'))\n",
    "\n",
    "print('생략된 단어가 다를 때 : {} \\n어휘 순서를 바꿨을 때 : {}'.format(\n",
    "    edit_distance(text1, text2), \n",
    "    edit_distance(text2, text3)))"
   ]
  },
  {
   "cell_type": "code",
   "execution_count": 3,
   "metadata": {},
   "outputs": [
    {
     "data": {
      "text/plain": [
       "0.6666666666666666"
      ]
     },
     "execution_count": 3,
     "metadata": {},
     "output_type": "execute_result"
    }
   ],
   "source": [
    "# 02 accuracy 정확도 측정\n",
    "from nltk.metrics import accuracy\n",
    "accuracy('파이썬', '파이프')"
   ]
  },
  {
   "cell_type": "code",
   "execution_count": 5,
   "metadata": {},
   "outputs": [
    {
     "name": "stdout",
     "output_type": "stream",
     "text": [
      "생략된 단어가 다를 때 0.75 \n",
      "어휘 순서를 바꿨을 때 0.08333\n"
     ]
    }
   ],
   "source": [
    "print('생략된 단어가 다를 때 {:.4} \\n어휘 순서를 바꿨을 때 {:.4}'.format(\n",
    "    accuracy(text1, text2), \n",
    "    accuracy(text2, text3)))"
   ]
  },
  {
   "cell_type": "code",
   "execution_count": 6,
   "metadata": {},
   "outputs": [
    {
     "name": "stdout",
     "output_type": "stream",
     "text": [
      "12 12 12\n"
     ]
    },
    {
     "data": {
      "text/plain": [
       "0.0"
      ]
     },
     "execution_count": 6,
     "metadata": {},
     "output_type": "execute_result"
    }
   ],
   "source": [
    "text1 = set(text1)\n",
    "text2 = set(text2)\n",
    "text3 = set(text3)\n",
    "print(len(text1), len(text2), len(text3))\n",
    "from nltk.metrics import precision\n",
    "precision({'파이썬'}, {'파르썬'})"
   ]
  },
  {
   "cell_type": "code",
   "execution_count": 7,
   "metadata": {},
   "outputs": [
    {
     "name": "stdout",
     "output_type": "stream",
     "text": [
      "생략된 단어가 다를 때 0.75 \n",
      "어휘 순서를 바꿨을 때 0.8333\n"
     ]
    }
   ],
   "source": [
    "print('생략된 단어가 다를 때 {:.4} \\n어휘 순서를 바꿨을 때 {:.4}'.format(\n",
    "    precision(set(text1), set(text2)), \n",
    "    precision(set(text2), set(text3))))"
   ]
  },
  {
   "cell_type": "code",
   "execution_count": 8,
   "metadata": {},
   "outputs": [
    {
     "name": "stdout",
     "output_type": "stream",
     "text": [
      "생략된 단어가 다를 때 0.75 \n",
      "어휘 순서를 바꿨을 때 0.8333\n"
     ]
    }
   ],
   "source": [
    "from nltk.metrics import recall\n",
    "print('생략된 단어가 다를 때 {:.4} \\n어휘 순서를 바꿨을 때 {:.4}'.format(\n",
    "    recall(text1, text2), \n",
    "    recall(text2, text3)))"
   ]
  },
  {
   "cell_type": "markdown",
   "metadata": {},
   "source": [
    "## **2 데이터 불러오기**\n",
    "음식데이터는 Mecab() 보다 Okt() 가 더 효과적인 단어목록을 포함\n",
    "1. 제목 단어들을 묶어서 **word Piece Model** 로 **유효단어** 추출하기\n",
    "1. 유사한 그룹은 편집거리를 활용하여 묶기"
   ]
  },
  {
   "cell_type": "code",
   "execution_count": 9,
   "metadata": {},
   "outputs": [
    {
     "data": {
      "text/plain": [
       "'호불호 없는 토마토파스타는 역시 ~! 토마토냉파스타 ★ 달콤 촉촉 달걀 푸딩 만들기, 만드는 법 ( 부드러운 달걀 요리 기본 원리 ) 손이가요 손이가~~자꾸 손이 가는 [가지전] 여름 무로 깔끔아삭 무채무침 흰 강낭콩 바나나 쉐이크 다이어트&아침 대용 깻잎절임 : 입맛 되살리는 초간단 반찬 소고기 장조림 만들기 간단반찬 으로 최고! 차돌박이 부추무침, 간단'"
      ]
     },
     "execution_count": 9,
     "metadata": {},
     "output_type": "execute_result"
    }
   ],
   "source": [
    "import pandas as pd\n",
    "df = pd.read_csv('data/1000recipe.csv', sep=\"|\")\n",
    "df = df.fillna(\"\") # NaN 데이터 전처리를 해야 다음 과정들이 진행\n",
    "titles = df.Menu.tolist()\n",
    "titles = \" \".join(titles)\n",
    "\n",
    "# with open('menuTitles.txt', 'w') as f:\n",
    "#     f.write(menuTitle)\n",
    "titles[:200]"
   ]
  },
  {
   "cell_type": "code",
   "execution_count": 10,
   "metadata": {},
   "outputs": [
    {
     "data": {
      "text/plain": [
       "[('만들기', 17314),\n",
       " ('만드는', 5224),\n",
       " ('법', 3834),\n",
       " ('회', 3741),\n",
       " ('초간단', 3565),\n",
       " ('레시피', 3394),\n",
       " ('만드는법', 2753),\n",
       " ('맛있는', 2655),\n",
       " ('좋은', 2387),\n",
       " ('맛있게', 2212)]"
      ]
     },
     "execution_count": 10,
     "metadata": {},
     "output_type": "execute_result"
    }
   ],
   "source": [
    "import re\n",
    "titles = re.findall(r\"[가-힣]+\", titles)\n",
    "titles = \" \".join(titles).lower()\n",
    "titles_raw = titles.split(\" \")\n",
    "\n",
    "from collections import Counter\n",
    "Counter(titles_raw).most_common(10)"
   ]
  },
  {
   "cell_type": "markdown",
   "metadata": {},
   "source": [
    "## **3 Nltk 객체를 활용한 가치있는 단어들 추출**\n",
    "```python\n",
    "# nltk 에서 분석가능한 객체를 자동으로 생성\n",
    "# 식품메뉴명에는 Okt() 가 사전이 더 좋음\n",
    "titles = Okt().pos(titles, stem=True)\n",
    "```"
   ]
  },
  {
   "cell_type": "code",
   "execution_count": 11,
   "metadata": {},
   "outputs": [
    {
     "name": "stdout",
     "output_type": "stream",
     "text": [
      "CPU times: user 1min 57s, sys: 477 ms, total: 1min 58s\n",
      "Wall time: 1min 26s\n"
     ]
    },
    {
     "data": {
      "text/plain": [
       "(569021, 13467, 42)"
      ]
     },
     "execution_count": 11,
     "metadata": {},
     "output_type": "execute_result"
    }
   ],
   "source": [
    "%%time\n",
    "from nltk import Text\n",
    "from konlpy.tag import Mecab, Okt\n",
    "titles_noun = Okt().nouns(titles)\n",
    "title_obj   = Text(titles_noun)\n",
    "\n",
    "# .B() : Unique 한 Token 갯수\n",
    "# .N() : 전체 Token 의 갯수\n",
    "title_obj.vocab().N(),  title_obj.vocab().B(),  int(title_obj.vocab().N()/title_obj.vocab().B())"
   ]
  },
  {
   "cell_type": "code",
   "execution_count": 12,
   "metadata": {},
   "outputs": [
    {
     "data": {
      "text/plain": [
       "[('가까이', '쑥굴국'),\n",
       " ('감탄사', '연발'),\n",
       " ('갑농', '산이'),\n",
       " ('개두', '릎'),\n",
       " ('갯벌', '환경'),\n",
       " ('거성', '그룹'),\n",
       " ('검', '은빛'),\n",
       " ('검사', '외조'),\n",
       " ('검은색', '수상한'),\n",
       " ('결명자', '불우')]"
      ]
     },
     "execution_count": 12,
     "metadata": {},
     "output_type": "execute_result"
    }
   ],
   "source": [
    "from nltk import collocations\n",
    "finder   = collocations.BigramCollocationFinder.from_words(titles_noun)\n",
    "measures = collocations.BigramAssocMeasures()\n",
    "finder.nbest(measures.pmi, 10)"
   ]
  },
  {
   "cell_type": "code",
   "execution_count": 13,
   "metadata": {},
   "outputs": [
    {
     "data": {
      "image/png": "[encoded data removed]",
      "text/plain": [
       "<Figure size 1080x216 with 1 Axes>"
      ]
     },
     "metadata": {
      "needs_background": "light"
     },
     "output_type": "display_data"
    }
   ],
   "source": [
    "%matplotlib inline\n",
    "from matplotlib import rc, rcParams\n",
    "rc('font', family=['NanumGothic','Malgun Gothic']) # 한글의 표시\n",
    "rcParams['axes.unicode_minus'] = False             # '-' 표시의 처리\n",
    "\n",
    "import matplotlib.pyplot as plt\n",
    "plt.figure(figsize=(15, 3))  # 파레트 설정\n",
    "title_obj.plot(70)"
   ]
  },
  {
   "cell_type": "code",
   "execution_count": 14,
   "metadata": {},
   "outputs": [
    {
     "data": {
      "text/plain": [
       "[('월병', 26),\n",
       " ('벨기에', 26),\n",
       " ('뒷다리', 26),\n",
       " ('웰치', 26),\n",
       " ('필라프', 25),\n",
       " ('술빵', 25),\n",
       " ('여기', 25),\n",
       " ('콩물', 25),\n",
       " ('청양', 25),\n",
       " ('널', 25)]"
      ]
     },
     "execution_count": 14,
     "metadata": {},
     "output_type": "execute_result"
    }
   ],
   "source": [
    "maxLimits = 1950\n",
    "title_obj.vocab().most_common(maxLimits)[(maxLimits-10):]"
   ]
  },
  {
   "cell_type": "code",
   "execution_count": 15,
   "metadata": {},
   "outputs": [
    {
     "data": {
      "text/plain": [
       "'만들기 볶음 법 요리 레시피 밥 간단 초 조림 감자 김치 맛 회 반찬 치즈 샐러드 두부 구이 매콤 백종원 전 간식 소고기 새우 오징어 볶음밥 샌드위치 황금 닭 고구마 나물 김밥 참치 간장 어묵 가지 집 불고기 계란 돼지고기 야채 소스 찜 콩나물 고추장 아이 파스타 찌개 피자 오이 살 고추 떡볶이 밑반찬 튀김 마늘 집밥 백선생 국 딸 쿠키 스테이크 멸치 음식 국물 탕 버섯 양념 부추 무 크림 치킨 토마토 떡 만두 토스트 잡채 향 냉장고 달걀 버터 카레 삼겹살 가슴 오븐 라면 말 장조림 베이컨 된장 도시락 영양 빵 그릇 케이크 식빵 방법 봄 여름 알'"
      ]
     },
     "execution_count": 15,
     "metadata": {},
     "output_type": "execute_result"
    }
   ],
   "source": [
    "\" \".join([_[0] for _ in title_obj.vocab().most_common(100)])"
   ]
  },
  {
   "cell_type": "markdown",
   "metadata": {},
   "source": [
    "## **4 N Gram 을 활용한 PMI 분석**\n",
    "nltk tools\n",
    "1. **음식 이외의 정보들도 포함** 되어 있어서 **결과해석이 용이하지 못함**\n",
    "1. **음식을 직접 언급한 문장** 만으로 **분석하는 등의** 별도 과정이 필요"
   ]
  },
  {
   "cell_type": "code",
   "execution_count": 20,
   "metadata": {},
   "outputs": [
    {
     "data": {
      "text/plain": [
       "[('가까이', '왔네요'), ('가끔씩은', '초식도'), ('가나슈로', '아이싱한'), ('가나슈마카롱', '씨앗이')]"
      ]
     },
     "execution_count": 20,
     "metadata": {},
     "output_type": "execute_result"
    }
   ],
   "source": [
    "from nltk import collocations\n",
    "finder   = collocations.BigramCollocationFinder.from_words(titles_raw)\n",
    "measures = collocations.BigramAssocMeasures()\n",
    "finder.nbest(measures.pmi, 4)"
   ]
  },
  {
   "cell_type": "code",
   "execution_count": 21,
   "metadata": {},
   "outputs": [
    {
     "data": {
      "text/plain": [
       "[('가까이', '쑥굴국'), ('감탄사', '연발'), ('갑농', '산이'), ('개두', '릎')]"
      ]
     },
     "execution_count": 21,
     "metadata": {},
     "output_type": "execute_result"
    }
   ],
   "source": [
    "finder = collocations.BigramCollocationFinder.from_words(titles_noun)\n",
    "measures = collocations.BigramAssocMeasures()\n",
    "finder.nbest(measures.pmi, 4)"
   ]
  },
  {
   "cell_type": "code",
   "execution_count": 22,
   "metadata": {},
   "outputs": [
    {
     "data": {
      "text/plain": [
       "[('가까이', '왔네요', '쑥굴국'),\n",
       " ('가스레인지추천', '국내최초', '라면자동요리'),\n",
       " ('가스불이', '안켜져', '난감한데'),\n",
       " ('가슴속에', '차오르는', '연')]"
      ]
     },
     "execution_count": 22,
     "metadata": {},
     "output_type": "execute_result"
    }
   ],
   "source": [
    "finder   = collocations.TrigramCollocationFinder.from_words(titles_raw)\n",
    "measures = collocations.TrigramAssocMeasures()\n",
    "finder.nbest(measures.pmi, 4)"
   ]
  },
  {
   "cell_type": "code",
   "execution_count": 23,
   "metadata": {},
   "outputs": [
    {
     "data": {
      "text/plain": [
       "[('갯벌', '환경', '지표'),\n",
       " ('거성', '그룹', '구일'),\n",
       " ('계정', '바오지', '딩'),\n",
       " ('궁보', '계정', '바오지')]"
      ]
     },
     "execution_count": 23,
     "metadata": {},
     "output_type": "execute_result"
    }
   ],
   "source": [
    "finder   = collocations.TrigramCollocationFinder.from_words(titles_noun)\n",
    "measures = collocations.TrigramAssocMeasures()\n",
    "finder.nbest(measures.pmi, 4)"
   ]
  }
 ],
 "metadata": {
  "kernelspec": {
   "display_name": "Python 3",
   "language": "python",
   "name": "python3"
  },
  "language_info": {
   "codemirror_mode": {
    "name": "ipython",
    "version": 3
   },
   "file_extension": ".py",
   "mimetype": "text/x-python",
   "name": "python",
   "nbconvert_exporter": "python",
   "pygments_lexer": "ipython3",
   "version": "3.6.3"
  }
 },
 "nbformat": 4,
 "nbformat_minor": 4
}
