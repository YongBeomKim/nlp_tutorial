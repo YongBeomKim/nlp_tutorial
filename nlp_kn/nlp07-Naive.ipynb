{
 "cells": [
  {
   "cell_type": "markdown",
   "metadata": {},
   "source": [
    "# **자연어 7일 - Supervised Learning**\n",
    "- **True Value** 가 특정되어야 합니다\n",
    "- Label Target 값들이 특정되어야 합니다\n",
    "- https://ini.korea.ac.kr/colleagues/ (gon0121@naver.com : 땅콩곤두 (류기곤))\n",
    "\n",
    "# **Naive Bayse 실습**\n",
    "$ P(c|d) = P(c) 누적곱 P(t_k|c) $\n",
    "1. 하지만 값이 너무 작아지므로, **Log 를 씌워서 누적합의 공식으로** 변환하여 적용\n",
    "\n",
    "## **1 실습 데이터 만들기**\n",
    "훈련데이터, 평가할 Sample 데이터 생성"
   ]
  },
  {
   "cell_type": "code",
   "execution_count": 1,
   "metadata": {},
   "outputs": [
    {
     "data": {
      "text/plain": [
       "(['Macao', 'Shanghai', 'Japan', 'Beijing', 'Tokyo', 'Chinese'], 4)"
      ]
     },
     "execution_count": 1,
     "metadata": {},
     "output_type": "execute_result"
    }
   ],
   "source": [
    "# 스팸 필터링 기준 데이터 Set 정의하기\n",
    "collection = [\n",
    "    {\"docID\":1, \"document\":\"Chinese Beijing Chinese\", \"C\":\"yes\"},\n",
    "    {\"docID\":2, \"document\":\"Chinese Chinese Shanghai\", \"C\":\"yes\"},\n",
    "    {\"docID\":3, \"document\":\"Chinese Macao\", \"C\":\"yes\"},\n",
    "    {\"docID\":4, \"document\":\"Tokyo Japan Chinese\", \"C\":\"no\"},\n",
    "    {\"docID\":5, \"document\":\"Chinese Chinese Chinese Tokyo Japan\", \"C\":None},\n",
    "]\n",
    "\n",
    "trainingSet  = collection[:-1] # 훈련용 데이터 셋\n",
    "sampleSet    = collection[-1]  # 스팸 여부 판단할 텍스트 셋\n",
    "\n",
    "# V : Vocabluary (large Code : 단어 Token 의 생성)\n",
    "V = []\n",
    "for d in trainingSet:\n",
    "    V.extend(d[\"document\"].split())\n",
    "V = list(set(V))\n",
    "N = len(trainingSet)\n",
    "V, N"
   ]
  },
  {
   "cell_type": "markdown",
   "metadata": {},
   "source": [
    "## **2 Naive Bayse 모델을 위한 데이터 생성**\n",
    "이진 분류용 모델 만들기"
   ]
  },
  {
   "cell_type": "code",
   "execution_count": 2,
   "metadata": {},
   "outputs": [
    {
     "data": {
      "text/plain": [
       "[[0.0, 0.0, 0.0, 0.0, 0.0, 0.0], [0.0, 0.0, 0.0, 0.0, 0.0, 0.0]]"
      ]
     },
     "execution_count": 2,
     "metadata": {},
     "output_type": "execute_result"
    }
   ],
   "source": [
    "C        = [\"yes\",\"no\"] # 분류용 Target 값\n",
    "Nc       = {}\n",
    "Prior    = {}           # Liklihood 의 저장\n",
    "\n",
    "# Conditional Probability (Zero Index)\n",
    "import numpy as np\n",
    "CondProb = [list(np.zeros(len(V)))  for _ in range(len(C))]\n",
    "CondProb"
   ]
  },
  {
   "cell_type": "code",
   "execution_count": 3,
   "metadata": {},
   "outputs": [
    {
     "name": "stdout",
     "output_type": "stream",
     "text": [
      "yes Macao 1 8 6\n",
      "yes Shanghai 1 8 6\n",
      "yes Japan 0 8 6\n",
      "yes Beijing 1 8 6\n",
      "yes Tokyo 0 8 6\n",
      "yes Chinese 5 8 6\n",
      "no Macao 0 3 6\n",
      "no Shanghai 0 3 6\n",
      "no Japan 1 3 6\n",
      "no Beijing 0 3 6\n",
      "no Tokyo 1 3 6\n",
      "no Chinese 1 3 6\n"
     ]
    }
   ],
   "source": [
    "# Naive Bayse 모델 만들기\n",
    "from collections import defaultdict\n",
    "for c in C:\n",
    "    cSet     = [_ for _ in trainingSet if _[\"C\"] == c] # 스팸 yes, no\n",
    "    Nc[c]    = len(cSet)\n",
    "    Prior[c] = Nc[c] / N\n",
    "    \n",
    "    Tc       = defaultdict(int)\n",
    "    for d in cSet:\n",
    "        for t in d[\"document\"].split():\n",
    "            Tc[t] += 1\n",
    "\n",
    "    for t in V:\n",
    "        CondProb[C.index(c)][V.index(t)] = \\\n",
    "            (Tc[t] + 1) / (sum(Tc.values()) + len(V))\n",
    "        # 문장별 학습내용 살펴보기\n",
    "        print(c, t, Tc[t], sum(Tc.values()), len(V))"
   ]
  },
  {
   "cell_type": "markdown",
   "metadata": {},
   "source": [
    "## **3 Naive Bayse 모델 만들기**\n",
    "이진 분류용 모델 만들기"
   ]
  },
  {
   "cell_type": "code",
   "execution_count": 4,
   "metadata": {},
   "outputs": [
    {
     "name": "stdout",
     "output_type": "stream",
     "text": [
      "Yes 확률 0.6898 %\n",
      " {'yes': -8.10769031284391, 'no': -8.906681345001262}\n"
     ]
    }
   ],
   "source": [
    "# log 를 활용하여 Naive Bayse 모델로 판단하기\n",
    "from math import log\n",
    "score = defaultdict(float)\n",
    "W     = sampleSet[\"document\"].split()\n",
    "\n",
    "# Log() 를 사용한 누적확률값 계산\n",
    "for c in C:\n",
    "    score[c] = log(Prior[c])\n",
    "    for t in W:\n",
    "        score[c] += log(CondProb[C.index(c)][V.index(t)])\n",
    "\n",
    "# Naive Bayse 학습 결과값을 exp() 로 % 변환하기\n",
    "from math import exp\n",
    "if list(score.values())[0] > list(score.values())[1]:\n",
    "    percent = exp(score[\"yes\"]) / sum([exp(score[\"yes\"]), exp(score[\"no\"])])\n",
    "    print(\"Yes 확률 {:.4} %\\n {}\".format(percent, dict(score)))\n",
    "else:\n",
    "    percent = exp(score[\"no\"]) / sum([exp(score[\"yes\"]), exp(score[\"no\"])])\n",
    "    print(\"No 확률 {:.4} %\\n {}\".format(percent, dict(score)))"
   ]
  },
  {
   "cell_type": "markdown",
   "metadata": {},
   "source": [
    "# **스팸 메일을 활용한 Naive Bayse 실습**\n",
    "1. **Binary 모델링** 뿐만 아니라, **Mulity nominal** 모델링도 가능합니다\n",
    "\n",
    "## **1 Selenium 드라이버의 활성화**\n",
    "Naver 메일을 크롤링 한 뒤 스팸 필터링 성능 확인하기"
   ]
  },
  {
   "cell_type": "code",
   "execution_count": 5,
   "metadata": {},
   "outputs": [],
   "source": [
    "# selenium 을 활용한 Naver 메일 접속하기\n",
    "url = \"https://mail.naver.com/\"\n",
    "\n",
    "# 크로니움 드라이버가 실행되면 로그인 작업을 시행 합니다\n",
    "from selenium import webdriver\n",
    "driver = webdriver.Chrome(executable_path='/usr/lib/chromium-browser/chromedriver')\n",
    "driver.get(url)"
   ]
  },
  {
   "cell_type": "markdown",
   "metadata": {},
   "source": [
    "## **2 Naver Mail 의 Json 데이터를 활용하여 정보를 수집합니다**\n",
    "1. requests 의 **Session() 객체를** 활용 합니다\n",
    "1. **Session()** 객체를 활용하면 쉽게 **Json** 추출이 가능 합니다"
   ]
  },
  {
   "cell_type": "code",
   "execution_count": 6,
   "metadata": {},
   "outputs": [],
   "source": [
    "# cookie 데이터를 저장할 Session 객체 만들고 저장하기\n",
    "from requests import Session\n",
    "session = Session()\n",
    "for _ in driver.get_cookies():\n",
    "    session.cookies.set(_[\"name\"], _[\"value\"])\n",
    "driver.close()"
   ]
  },
  {
   "cell_type": "code",
   "execution_count": 7,
   "metadata": {},
   "outputs": [
    {
     "data": {
      "text/plain": [
       "(['[수원영상미디어센터] 종강 사진',\n",
       "  '헬로 데이터 과학 세미나 발표 자료 &amp; 피드백 요청',\n",
       "  'SignKorea 공인인증서 갱신(기간연장) 안내',\n",
       "  '[증플캠퍼스] 전일자 강의관련 추가자료',\n",
       "  '[ONOFFMIX] 신기술 콘서트 설문결과 송부 및 페이스북 강연 자료 안내',\n",
       "  'RE: 엑셀 VBA 3일차 강의 자료 정리',\n",
       "  'RE: RE: 서울시 크리에티브 수업 필기정리',\n",
       "  '9기 크리에이터 활동집 ',\n",
       "  '자료',\n",
       "  'Re: 오!! 잘 지내시는 지요!',\n",
       "  '11월 7일 서비스디자인 교육자료 보내드립니다.',\n",
       "  'Re: 김새론 실종사건 4고 최종',\n",
       "  '금주 크리에이터 교육일정 관련 ',\n",
       "  'PDF정리자료',\n",
       "  ''],\n",
       " ['2019 이벤트 해외정품 비/아/할/인!',\n",
       "  '(광고) 얼마든지 소자본으로도 창업이 가능합니다.',\n",
       "  '올해 마지막, 묵혀있는 데이터 활용을 위한 상담과 솔루션을 무료로 지원받을 수 있는 방법을 공유드립니다!'])"
      ]
     },
     "execution_count": 7,
     "metadata": {},
     "output_type": "execute_result"
    }
   ],
   "source": [
    "# SN=0 : 받은메일함\n",
    "# SN=5 : 스펨메일함\n",
    "url_base = \"https://mail.naver.com/json/list/?page=1&sortField=1&sortType=0&folderSN={}&type=&isUnread=false&u=saltman21\"\n",
    "\n",
    "# SN=0 : 일반 메일의 제목 가져오기\n",
    "resp = session.post(url_base.format(0))\n",
    "data1 = [_[\"subject\"] for _ in resp.json()[\"mailData\"]]\n",
    "\n",
    "# SN=5 : 스펨 메일의 제목 가져오기\n",
    "resp = session.post(url_base.format(5))\n",
    "data2 = [_[\"subject\"] for _ in resp.json()[\"mailData\"]]\n",
    "\n",
    "data1, data2"
   ]
  },
  {
   "cell_type": "code",
   "execution_count": 8,
   "metadata": {},
   "outputs": [
    {
     "data": {
      "text/plain": [
       "[{'docID': 14, 'document': 'PDF정리자료', 'C': 'no'},\n",
       " {'docID': 15, 'document': '', 'C': 'no'},\n",
       " {'docID': 16, 'document': '2019 이벤트 해외정품 비/아/할/인!', 'C': 'yes'},\n",
       " {'docID': 17, 'document': '(광고) 얼마든지 소자본으로도 창업이 가능합니다.', 'C': 'yes'},\n",
       " {'docID': 18,\n",
       "  'document': '올해 마지막, 묵혀있는 데이터 활용을 위한 상담과 솔루션을 무료로 지원받을 수 있는 방법을 공유드립니다!',\n",
       "  'C': 'yes'}]"
      ]
     },
     "execution_count": 8,
     "metadata": {},
     "output_type": "execute_result"
    }
   ],
   "source": [
    "# Collection 을 활용하여 수집된 정보들을 정리 합니다\n",
    "collection = []\n",
    "for i, _ in enumerate(data1):  # 정상 메일의 저장\n",
    "    collection.append({\"docID\":(i+1),            \"document\":_, \"C\":\"no\"})\n",
    "for i, _ in enumerate(data2):  # 스펨 메일의 저장\n",
    "    collection.append({\"docID\":(len(data1)+i+1), \"document\":_, \"C\":\"yes\"})\n",
    "\n",
    "collection[-5:]"
   ]
  },
  {
   "cell_type": "code",
   "execution_count": 9,
   "metadata": {},
   "outputs": [
    {
     "data": {
      "text/plain": [
       "(['영상미디어센터', '정리', 'amp', '일자', 'RE', '가능', '데이터'], 18)"
      ]
     },
     "execution_count": 9,
     "metadata": {},
     "output_type": "execute_result"
    }
   ],
   "source": [
    "# 스팸과 일반 메일에 사용된 Token 목록을 생성합니다\n",
    "from konlpy.tag import Mecab\n",
    "ma = Mecab().morphs\n",
    "V  = []\n",
    "for d in collection:\n",
    "    V += [_ for _ in ma(d[\"document\"]) if len(_) > 1]\n",
    "V = list(set(V))  # 문장 전\n",
    "N = len(collection)\n",
    "V[:7] ,N"
   ]
  },
  {
   "cell_type": "markdown",
   "metadata": {},
   "source": [
    "## **3 정제된 Konlpy 의 Token 을 정제 합니다**\n",
    "Mecab 을 활용하여, 형태소 분리가능한 Token 별로 문장요소를 나눕니다"
   ]
  },
  {
   "cell_type": "code",
   "execution_count": 10,
   "metadata": {},
   "outputs": [
    {
     "name": "stdout",
     "output_type": "stream",
     "text": [
      "yes 영상미디어센터 0 25 82\n",
      "yes 정리 0 25 82\n",
      "yes amp 0 25 82\n",
      "yes 일자 0 25 82\n",
      "yes RE 0 25 82\n",
      "yes 가능 1 25 82\n",
      "yes 데이터 1 25 82\n",
      "yes 2019 1 25 82\n",
      "yes 무료 1 25 82\n",
      "yes 올해 1 25 82\n",
      "yes 캠퍼스 0 25 82\n",
      "yes 공인 0 25 82\n",
      "yes 에티 0 25 82\n",
      "yes 지원 1 25 82\n",
      "yes 송부 0 25 82\n",
      "yes 사진 0 25 82\n",
      "yes 추가 0 25 82\n",
      "yes 페이스북 0 25 82\n",
      "yes 요청 0 25 82\n",
      "yes PDF 0 25 82\n",
      "yes 마지막 1 25 82\n",
      "yes 으로 1 25 82\n",
      "yes 이벤트 1 25 82\n",
      "yes 과학 0 25 82\n",
      "yes 증서 0 25 82\n",
      "yes 세미나 0 25 82\n",
      "yes SignKorea 0 25 82\n",
      "yes 크리에이터 0 25 82\n",
      "yes VBA 0 25 82\n",
      "yes 지내 0 25 82\n",
      "yes 기간 0 25 82\n",
      "yes 서울시 0 25 82\n",
      "yes 지요 0 25 82\n",
      "yes 보내 0 25 82\n",
      "yes 드립니다 1 25 82\n",
      "yes 실종사건 0 25 82\n",
      "yes 수원 0 25 82\n",
      "yes 묵혀 1 25 82\n",
      "yes 공유 1 25 82\n",
      "yes 합니다 1 25 82\n",
      "yes 헬로 0 25 82\n",
      "yes 일정 0 25 82\n",
      "yes 정품 1 25 82\n",
      "yes 크리 0 25 82\n",
      "yes 11 0 25 82\n",
      "yes 소자본 1 25 82\n",
      "yes 활동 0 25 82\n",
      "yes 김새론 0 25 82\n",
      "yes 솔루션 1 25 82\n",
      "yes 종강 0 25 82\n",
      "yes 자료 0 25 82\n",
      "yes 창업 1 25 82\n",
      "yes 활용 1 25 82\n",
      "yes 필기 0 25 82\n",
      "yes 위한 1 25 82\n",
      "yes 디자인 0 25 82\n",
      "yes 설문 0 25 82\n",
      "yes 연장 0 25 82\n",
      "yes 기술 0 25 82\n",
      "yes 해외 1 25 82\n",
      "yes 안내 0 25 82\n",
      "yes 강연 0 25 82\n",
      "yes Re 0 25 82\n",
      "yes 최종 0 25 82\n",
      "yes 콘서트 0 25 82\n",
      "yes 서비스 0 25 82\n",
      "yes 수업 0 25 82\n",
      "yes 상담 1 25 82\n",
      "yes 강의 0 25 82\n",
      "yes 광고 1 25 82\n",
      "yes 든지 1 25 82\n",
      "yes ONOFFMIX 0 25 82\n",
      "yes 발표 0 25 82\n",
      "yes 방법 1 25 82\n",
      "yes 갱신 0 25 82\n",
      "yes 교육 0 25 82\n",
      "yes 피드백 0 25 82\n",
      "yes 관련 0 25 82\n",
      "yes 결과 0 25 82\n",
      "yes 얼마 1 25 82\n",
      "yes 엑셀 0 25 82\n",
      "yes 금주 0 25 82\n",
      "no 영상미디어센터 1 75 82\n",
      "no 정리 3 75 82\n",
      "no amp 1 75 82\n",
      "no 일자 1 75 82\n",
      "no RE 3 75 82\n",
      "no 가능 0 75 82\n",
      "no 데이터 1 75 82\n",
      "no 2019 0 75 82\n",
      "no 무료 0 75 82\n",
      "no 올해 0 75 82\n",
      "no 캠퍼스 1 75 82\n",
      "no 공인 1 75 82\n",
      "no 에티 1 75 82\n",
      "no 지원 0 75 82\n",
      "no 송부 1 75 82\n",
      "no 사진 1 75 82\n",
      "no 추가 1 75 82\n",
      "no 페이스북 1 75 82\n",
      "no 요청 1 75 82\n",
      "no PDF 1 75 82\n",
      "no 마지막 0 75 82\n",
      "no 으로 0 75 82\n",
      "no 이벤트 0 75 82\n",
      "no 과학 1 75 82\n",
      "no 증서 1 75 82\n",
      "no 세미나 1 75 82\n",
      "no SignKorea 1 75 82\n",
      "no 크리에이터 2 75 82\n",
      "no VBA 1 75 82\n",
      "no 지내 1 75 82\n",
      "no 기간 1 75 82\n",
      "no 서울시 1 75 82\n",
      "no 지요 1 75 82\n",
      "no 보내 1 75 82\n",
      "no 드립니다 1 75 82\n",
      "no 실종사건 1 75 82\n",
      "no 수원 1 75 82\n",
      "no 묵혀 0 75 82\n",
      "no 공유 0 75 82\n",
      "no 합니다 0 75 82\n",
      "no 헬로 1 75 82\n",
      "no 일정 1 75 82\n",
      "no 정품 0 75 82\n",
      "no 크리 1 75 82\n",
      "no 11 1 75 82\n",
      "no 소자본 0 75 82\n",
      "no 활동 1 75 82\n",
      "no 김새론 1 75 82\n",
      "no 솔루션 0 75 82\n",
      "no 종강 1 75 82\n",
      "no 자료 7 75 82\n",
      "no 창업 0 75 82\n",
      "no 활용 0 75 82\n",
      "no 필기 1 75 82\n",
      "no 위한 0 75 82\n",
      "no 디자인 1 75 82\n",
      "no 설문 1 75 82\n",
      "no 연장 1 75 82\n",
      "no 기술 1 75 82\n",
      "no 해외 0 75 82\n",
      "no 안내 2 75 82\n",
      "no 강연 1 75 82\n",
      "no Re 2 75 82\n",
      "no 최종 1 75 82\n",
      "no 콘서트 1 75 82\n",
      "no 서비스 1 75 82\n",
      "no 수업 1 75 82\n",
      "no 상담 0 75 82\n",
      "no 강의 2 75 82\n",
      "no 광고 0 75 82\n",
      "no 든지 0 75 82\n",
      "no ONOFFMIX 1 75 82\n",
      "no 발표 1 75 82\n",
      "no 방법 0 75 82\n",
      "no 갱신 1 75 82\n",
      "no 교육 2 75 82\n",
      "no 피드백 1 75 82\n",
      "no 관련 2 75 82\n",
      "no 결과 1 75 82\n",
      "no 얼마 0 75 82\n",
      "no 엑셀 1 75 82\n",
      "no 금주 1 75 82\n"
     ]
    }
   ],
   "source": [
    "# \n",
    "C     = [\"yes\", \"no\"]\n",
    "Nc    = {}\n",
    "Prior = {}\n",
    "CondProb = [list(np.zeros(len(V)))  for _ in range(len(C))]\n",
    "\n",
    "for c in C:\n",
    "    cSet     = [_  for _ in collection   if _[\"C\"] == c]\n",
    "    Nc[c]    = len(cSet)\n",
    "    Prior[c] = Nc[c]/N\n",
    "    Tc       = defaultdict(int)\n",
    "    for d in cSet:\n",
    "        for t in [_ for _ in ma(d[\"document\"])  if len(_) > 1]:\n",
    "            Tc[t] += 1\n",
    "\n",
    "    for t in V:\n",
    "        CondProb[C.index(c)][V.index(t)] = \\\n",
    "            (Tc[t] + 1) / (sum(Tc.values()) + len(V))\n",
    "        # 문장별 학습내용 살펴보기\n",
    "        print(c, t, Tc[t], sum(Tc.values()), len(V))"
   ]
  },
  {
   "cell_type": "markdown",
   "metadata": {},
   "source": [
    "## **4 Token 을 활용하여 Naive 모델을 만듭니다**\n",
    "**Regularization :** 차이점으로는 유효한 Token 의 갯수를 제한하기 위해 1음절 이상을 대상으로 특정 합니다"
   ]
  },
  {
   "cell_type": "code",
   "execution_count": 11,
   "metadata": {},
   "outputs": [
    {
     "name": "stdout",
     "output_type": "stream",
     "text": [
      "방법 0.018691588785046728\n",
      "안내 0.009345794392523364\n",
      "방법 0.006369426751592357\n",
      "안내 0.01910828025477707\n",
      "No\n"
     ]
    }
   ],
   "source": [
    "# example : 스팸여부를 판단하는 샘플데이터\n",
    "example = \"4차 산업혁명 시대 보험가입 방법 안내\"\n",
    "\n",
    "from math import log\n",
    "score = defaultdict(float)\n",
    "W = [_ for _ in ma(example)   if len(_) > 1]\n",
    "\n",
    "for c in C:\n",
    "    score[c] = log(Prior[c])\n",
    "    for t in [_  for _ in W   if _ in V]:\n",
    "        try:\n",
    "            score[c] += log(CondProb[C.index(c)][V.index(t)])\n",
    "            print(t, CondProb[C.index(c)][V.index(t)])\n",
    "        except:\n",
    "            print(CondProb[C.index(c)][V.index(t)])\n",
    "\n",
    "if list(score.values())[0] > list(score.values())[1]:\n",
    "    print(\"Yes\")\n",
    "else:\n",
    "    print(\"No\")"
   ]
  },
  {
   "cell_type": "markdown",
   "metadata": {},
   "source": [
    "## **5 모델의 성능의 평가**\n",
    "SoftMax 함수를 활용하여 평가를 진행합니다"
   ]
  },
  {
   "cell_type": "code",
   "execution_count": 12,
   "metadata": {},
   "outputs": [
    {
     "data": {
      "text/plain": [
       "0.22303456949867212"
      ]
     },
     "execution_count": 12,
     "metadata": {},
     "output_type": "execute_result"
    }
   ],
   "source": [
    "# 스팸여부를 Token 별 softmax 함수를 활용하여 분석결과를 출력 합니다\n",
    "def softmax(idx, logProb):\n",
    "    _sum = sum([exp(_) for _ in logProb])\n",
    "    return exp(logProb[idx])/_sum\n",
    "    \n",
    "softmax(0, list(score.values()))"
   ]
  },
  {
   "cell_type": "code",
   "execution_count": 13,
   "metadata": {},
   "outputs": [
    {
     "data": {
      "text/plain": [
       "(1.0093896026970512, 0.012738853503184714)"
      ]
     },
     "execution_count": 13,
     "metadata": {},
     "output_type": "execute_result"
    }
   ],
   "source": [
    "# 스팸/ 비스팸 여부의 판단\n",
    "exp(CondProb[0][V.index(\"디자인\")]), CondProb[1][V.index(\"디자인\")]"
   ]
  },
  {
   "cell_type": "code",
   "execution_count": 14,
   "metadata": {},
   "outputs": [
    {
     "data": {
      "text/plain": [
       "0.42318059299191374"
      ]
     },
     "execution_count": 14,
     "metadata": {},
     "output_type": "execute_result"
    }
   ],
   "source": [
    "CondProb[0][V.index(\"디자인\")] / sum([CondProb[0][V.index(\"디자인\")], CondProb[1][V.index(\"디자인\")]])"
   ]
  }
 ],
 "metadata": {
  "kernelspec": {
   "display_name": "Python 3",
   "language": "python",
   "name": "python3"
  },
  "language_info": {
   "codemirror_mode": {
    "name": "ipython",
    "version": 3
   },
   "file_extension": ".py",
   "mimetype": "text/x-python",
   "name": "python",
   "nbconvert_exporter": "python",
   "pygments_lexer": "ipython3",
   "version": "3.6.3"
  }
 },
 "nbformat": 4,
 "nbformat_minor": 4
}
