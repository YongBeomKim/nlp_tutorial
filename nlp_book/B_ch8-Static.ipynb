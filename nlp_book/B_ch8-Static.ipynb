{
 "cells": [
  {
   "cell_type": "markdown",
   "metadata": {},
   "source": [
    "# **고급 Feacture 엔지니어링**\n",
    "## **1 Gensim 을 활용한 NLP 알고리즘**\n",
    "Word2Vec\n",
    "1. ! pip install gensim"
   ]
  },
  {
   "cell_type": "code",
   "execution_count": 9,
   "metadata": {},
   "outputs": [
    {
     "data": {
      "text/plain": [
       "[('chryses', 0.6371129751205444),\n",
       " ('priest', 0.6282371282577515),\n",
       " ('nymph', 0.6165897250175476),\n",
       " ('thanks', 0.6120550632476807),\n",
       " ('dishonored', 0.6062030792236328),\n",
       " ('narrate', 0.605045735836029),\n",
       " ('angered', 0.6038438677787781),\n",
       " ('chieftains', 0.6015218496322632),\n",
       " ('appease', 0.6003137826919556),\n",
       " ('akhilleus', 0.6002722978591919)]"
      ]
     },
     "execution_count": 9,
     "metadata": {},
     "output_type": "execute_result"
    }
   ],
   "source": [
    "from gensim.models import Word2Vec\n",
    "w2v_model = Word2Vec.load('./data/model.bin')\n",
    "w2v_model.wv.most_similar(positive=['woman','king'], negative=['man'])"
   ]
  },
  {
   "cell_type": "code",
   "execution_count": 10,
   "metadata": {},
   "outputs": [
    {
     "data": {
      "text/plain": [
       "0.3998656"
      ]
     },
     "execution_count": 10,
     "metadata": {},
     "output_type": "execute_result"
    }
   ],
   "source": [
    "w2v_model.wv.similarity('woman','man')"
   ]
  },
  {
   "cell_type": "code",
   "execution_count": 22,
   "metadata": {},
   "outputs": [
    {
     "data": {
      "text/plain": [
       "11098"
      ]
     },
     "execution_count": 22,
     "metadata": {},
     "output_type": "execute_result"
    }
   ],
   "source": [
    "# sorted(w2v_model.wv.vocab.keys(), reverse=False)[:14]\n",
    "len(w2v_model.wv.vocab.keys())"
   ]
  },
  {
   "cell_type": "markdown",
   "metadata": {},
   "source": [
    "## **2 Gensim 을 활용한 유사도 분석실습**\n",
    "Word2Vec\n",
    "1. ! pip install gensim\n",
    "1. **\"Ice\"** 와 **\"Fire\"** 의 문학내 유사도 측정"
   ]
  },
  {
   "cell_type": "code",
   "execution_count": 25,
   "metadata": {},
   "outputs": [
    {
     "data": {
      "text/plain": [
       "[('principals', 0.9933313131332397),\n",
       " ('threatening', 0.9859204292297363),\n",
       " ('distorting', 0.9620187878608704),\n",
       " ('freeport', 0.9174789190292358),\n",
       " ('stood', 0.8492887616157532),\n",
       " ('extend', 0.8167773485183716),\n",
       " ('douglas', 0.767949104309082),\n",
       " ('1858', 0.7635020017623901),\n",
       " ('conspiracy', 0.762062668800354),\n",
       " ('values', 0.7606658339500427)]"
      ]
     },
     "execution_count": 25,
     "metadata": {},
     "output_type": "execute_result"
    }
   ],
   "source": [
    "w2v_model.wv.most_similar('stark')"
   ]
  }
 ],
 "metadata": {
  "kernelspec": {
   "display_name": "Python 3",
   "language": "python",
   "name": "python3"
  },
  "language_info": {
   "codemirror_mode": {
    "name": "ipython",
    "version": 3
   },
   "file_extension": ".py",
   "mimetype": "text/x-python",
   "name": "python",
   "nbconvert_exporter": "python",
   "pygments_lexer": "ipython3",
   "version": "3.6.3"
  }
 },
 "nbformat": 4,
 "nbformat_minor": 4
}
