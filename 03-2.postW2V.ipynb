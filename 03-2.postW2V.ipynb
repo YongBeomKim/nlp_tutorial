{
 "cells": [
  {
   "cell_type": "markdown",
   "metadata": {},
   "source": [
    "# **Word2Vec 분석하기**\n",
    "1. **Frequency 분석** ( **문서의 개요** 살펴보기)\n",
    "1. **Tf IDF** 분석 ( **특정 모집단 내 일부 문서의 특징** 찾기)\n",
    "1. **Word2Vec 모델의** 분석 ( **적은 데이터로 키워드** 특징찾기)"
   ]
  },
  {
   "cell_type": "markdown",
   "metadata": {},
   "source": [
    "## **1 PreProcessing 전처리 작업**\n",
    "**Word2vec** 을 만들기 위해서는 **문장 데이터로** 전처리가 필요하다\n",
    "1. **그냥 만든경우** 와, **문장을 선별한 경우를** 비교하여 성능 향상 시키기\n",
    "1. **핵심 Token 을 찾고**, 이를 바탕으로 word2vec 결과값 필터링 하기 **(Core 찾기가 우선)**"
   ]
  },
  {
   "cell_type": "code",
   "execution_count": 1,
   "metadata": {},
   "outputs": [],
   "source": [
    "import re\n",
    "def dot_fixer(sent):\n",
    "    dot_to_nun = re.compile(r\"(?P<num>(\\d+)).(?P<dot>(\\d+))\")\n",
    "    nun_to_dot = re.compile(r\"(?P<num>(\\d+))=(?P<dot>(\\d+))\")\n",
    "    post_temp  = dot_to_nun.sub(\"\\g<num>=\\g<dot>\", sent)\n",
    "    post_temp  = \"\\n\".join(post_temp.split(\".\")).replace(\"^\",\" \").replace(\"[\",\" \").replace(\"]\",\" \").replace(\"(\",\" \").replace(\")\",\" \")\n",
    "    post_temp  = nun_to_dot.sub(\"\\g<num>.\\g<dot>\", post_temp)\n",
    "    return post_temp"
   ]
  },
  {
   "cell_type": "code",
   "execution_count": 2,
   "metadata": {},
   "outputs": [
    {
     "name": "stderr",
     "output_type": "stream",
     "text": [
      "100%|██████████| 2333/2333 [00:51<00:00, 45.28it/s]\n"
     ]
    },
    {
     "name": "stdout",
     "output_type": "stream",
     "text": [
      "dot fixed\n"
     ]
    }
   ],
   "source": [
    "# 크롤링 잘못된 소숫점 숫자를 치환후 줄바꿈 처리 모두 바꾸기\n",
    "import pandas as pd\n",
    "df = pd.read_csv(\"data/naverPost_muyong.csv\")\n",
    "\n",
    "from tqdm import tqdm\n",
    "posts    = df.Posts.tolist()\n",
    "df.Posts = [dot_fixer(_) for _ in tqdm(posts)]\n",
    "df.to_csv(\"data/naverPost_muyong_fixed.csv\")\n",
    "print(\"dot fixed\")"
   ]
  },
  {
   "cell_type": "markdown",
   "metadata": {},
   "source": [
    "## **2 PreProcessing 2 유효문장 선별하기**\n",
    "**Word2vec** 을 만들기 위해서는 **문장 데이터로** 전처리가 필요하다\n",
    "1. **그냥 만든경우** 와, **문장을 선별한 경우를** 비교하여 성능 향상 시키기\n",
    "1. **핵심 Token 을 찾고**, 이를 바탕으로 word2vec 결과값 필터링 하기 **(Core 찾기가 우선)**\n",
    "1. 여기선 **문장내 단어가 3개 이상 출연한** 문장만 선별하기"
   ]
  },
  {
   "cell_type": "code",
   "execution_count": 10,
   "metadata": {},
   "outputs": [
    {
     "name": "stderr",
     "output_type": "stream",
     "text": [
      "100%|██████████| 3/3 [00:00<00:00, 148.43it/s]"
     ]
    },
    {
     "name": "stdout",
     "output_type": "stream",
     "text": [
      "반찬 볶음 조림\n",
      "부드러운 닭가슴살 장조림 만들기\n",
      "본문 기타 기능\n",
      "조림 밑반찬으로 대표적인 장조림\n",
      "지방이 적고 단백질은 풍부한\n",
      "을 이용해 만들어봤어요\n",
      "고기를 잘게 찢어 넣어 식감은 더 부드럽게\n",
      "과 제철을 맞이한\n",
      "까지 넉넉하게 넣어 만들었어요\n",
      "꽈리고추는 일반 고추에 비해 쭈글쭈글하니 못생겼지만\n",
      "비타민A와 C 등의 영양가가 풍부하고 매운맛이 덜해 조림이나 찜으로 먹기에 좋아요\n",
      "닭가슴살 장조림 재료\n",
      "조리시간 1시간 이내 난이도 중\n",
      "생 닭가슴살 2.0g 물 1L 5컵 청주 2큰술 마늘 4쪽 생강 마늘 크기 1톨\n",
      "새송이버섯 2개 꽈리고추 2.\n"
     ]
    },
    {
     "name": "stderr",
     "output_type": "stream",
     "text": [
      "\n"
     ]
    }
   ],
   "source": [
    "import pandas as pd\n",
    "df    = pd.read_csv(\"data/naverPost_muyong_fixed.csv\")\n",
    "key_posts = df.Posts.tolist()\n",
    "\n",
    "result = []\n",
    "for posts in tqdm(key_posts[:3]):\n",
    "    posts_temp = []\n",
    "    for post in posts.split(\"|\"): # 500 개 문장\n",
    "        for _ in post.split(\"\\n\"):\n",
    "            if len(_.split(\" \")) >= 3:\n",
    "                posts_temp.append(_.strip())\n",
    "    result.append(\"\\n\".join(posts_temp))\n",
    "\n",
    "print(result[0][:300])"
   ]
  },
  {
   "cell_type": "code",
   "execution_count": 5,
   "metadata": {},
   "outputs": [
    {
     "data": {
      "text/html": [
       "<div>\n",
       "<style scoped>\n",
       "    .dataframe tbody tr th:only-of-type {\n",
       "        vertical-align: middle;\n",
       "    }\n",
       "\n",
       "    .dataframe tbody tr th {\n",
       "        vertical-align: top;\n",
       "    }\n",
       "\n",
       "    .dataframe thead th {\n",
       "        text-align: right;\n",
       "    }\n",
       "</style>\n",
       "<table border=\"1\" class=\"dataframe\">\n",
       "  <thead>\n",
       "    <tr style=\"text-align: right;\">\n",
       "      <th></th>\n",
       "      <th>Unnamed: 0</th>\n",
       "      <th>Query</th>\n",
       "      <th>Posts</th>\n",
       "    </tr>\n",
       "  </thead>\n",
       "  <tbody>\n",
       "    <tr>\n",
       "      <th>0</th>\n",
       "      <td>0</td>\n",
       "      <td>가슴살_계란_닭_장조림</td>\n",
       "      <td>반찬 볶음 조림\\n부드러운 닭가슴살 장조림 만들기\\n베리츄\\n\\n2017.9\\n1....</td>\n",
       "    </tr>\n",
       "    <tr>\n",
       "      <th>1</th>\n",
       "      <td>1</td>\n",
       "      <td>가슴살_굴소스_닭_볶음밥</td>\n",
       "      <td>아임닭 7기 종료\\n수비드 닭가슴살 요리 돈까스 볶음밥 만들기\\n주니호맘\\n\\n20...</td>\n",
       "    </tr>\n",
       "  </tbody>\n",
       "</table>\n",
       "</div>"
      ],
      "text/plain": [
       "   Unnamed: 0          Query  \\\n",
       "0           0   가슴살_계란_닭_장조림   \n",
       "1           1  가슴살_굴소스_닭_볶음밥   \n",
       "\n",
       "                                               Posts  \n",
       "0  반찬 볶음 조림\\n부드러운 닭가슴살 장조림 만들기\\n베리츄\\n\\n2017.9\\n1....  \n",
       "1  아임닭 7기 종료\\n수비드 닭가슴살 요리 돈까스 볶음밥 만들기\\n주니호맘\\n\\n20...  "
      ]
     },
     "execution_count": 5,
     "metadata": {},
     "output_type": "execute_result"
    }
   ],
   "source": [
    "df.head(2)"
   ]
  },
  {
   "cell_type": "code",
   "execution_count": 11,
   "metadata": {},
   "outputs": [
    {
     "name": "stdout",
     "output_type": "stream",
     "text": [
      "전처리 블로그 내용의 저장 : ./w2v_script.txt\n"
     ]
    }
   ],
   "source": [
    "# 명사 Token 작업된 자료를 ssResport.txt 로 저장 \n",
    "script_file = './w2v_script.txt'\n",
    "with open(script_file, 'w', encoding='utf-8') as file:\n",
    "    file.write(result[0])\n",
    "    \n",
    "print(\"전처리 블로그 내용의 저장 : {}\".format(script_file))"
   ]
  },
  {
   "cell_type": "code",
   "execution_count": 33,
   "metadata": {},
   "outputs": [
    {
     "name": "stdout",
     "output_type": "stream",
     "text": [
      "가슴살 16\n",
      "계란 104\n",
      "닭 31\n",
      "장조림 342\n"
     ]
    }
   ],
   "source": [
    "w2v_temp    = result[0].splitlines()\n",
    "result_temp = []\n",
    "for _ in w2v_temp:\n",
    "    result_temp += _.split(\" \")\n",
    "\n",
    "from collections import Counter\n",
    "for _ in df.Query[0].split(\"_\"):\n",
    "    print(_, Counter(result_temp)[_])"
   ]
  },
  {
   "cell_type": "markdown",
   "metadata": {},
   "source": [
    "## **1 Sentenced Text**\n",
    "**Word2vec** 을 만들기 위해서는 **문장 데이터로** 전처리가 필요하다\n",
    "1. **그냥 만든경우** 와, **문장을 선별한 경우를** 비교하여 성능 향상 시키기\n",
    "1. **핵심 Token 을 찾고**, 이를 바탕으로 word2vec 결과값 필터링 하기 **(Core 찾기가 우선)**"
   ]
  },
  {
   "cell_type": "code",
   "execution_count": 36,
   "metadata": {},
   "outputs": [
    {
     "name": "stdout",
     "output_type": "stream",
     "text": [
      "Word 2 Vec 모델 파일 ./w2v_recipe.model 저장완료\n",
      "CPU times: user 4.63 s, sys: 103 ms, total: 4.73 s\n",
      "Wall time: 3.29 s\n"
     ]
    }
   ],
   "source": [
    "%%time\n",
    "from gensim.models import word2vec\n",
    "data  = word2vec.LineSentence(script_file)\n",
    "model = word2vec.Word2Vec(data, size=30, window=2, min_count=16, hs=1,\n",
    "                          workers=4, iter=100, sg=1)\n",
    "model.save(model_file)"
   ]
  },
  {
   "cell_type": "code",
   "execution_count": 38,
   "metadata": {},
   "outputs": [
    {
     "data": {
      "text/plain": [
       "[('닭가슴살', 0.725135326385498),\n",
       " ('이용한', 0.6401489973068237),\n",
       " ('메추리알', 0.6393377780914307),\n",
       " ('요리', 0.6060360670089722),\n",
       " ('오늘', 0.5656761527061462),\n",
       " ('법', 0.5500603318214417),\n",
       " ('오늘은', 0.5277817845344543),\n",
       " ('닭가슴살과', 0.4969708025455475),\n",
       " ('장조림을', 0.4929303228855133),\n",
       " ('글입니다', 0.4797065854072571),\n",
       " ('만드는', 0.4728950560092926),\n",
       " ('만들기', 0.46609869599342346),\n",
       " ('위해', 0.4544617533683777),\n",
       " ('먹는', 0.44983047246932983),\n",
       " ('좋아요', 0.4398360848426819),\n",
       " ('꽈리고추', 0.43841955065727234),\n",
       " ('다이어트', 0.4327726662158966),\n",
       " ('닭고기', 0.4298769235610962),\n",
       " ('마늘', 0.42846792936325073),\n",
       " ('닭가슴살을', 0.42231449484825134)]"
      ]
     },
     "execution_count": 38,
     "metadata": {},
     "output_type": "execute_result"
    }
   ],
   "source": [
    "model.wv.most_similar([\"가슴살\", \"계란\", \"닭\", \"장조림\"], topn=20)"
   ]
  },
  {
   "cell_type": "code",
   "execution_count": 41,
   "metadata": {},
   "outputs": [
    {
     "data": {
      "text/plain": [
       "[('요리', 0.6024991273880005),\n",
       " ('사용', 0.3841325342655182),\n",
       " ('법', 0.3550140857696533),\n",
       " ('글입니다', 0.35304853320121765),\n",
       " ('꽈리고추', 0.35070517659187317),\n",
       " ('이제', 0.3504452109336853),\n",
       " ('간단하게', 0.3490484952926636),\n",
       " ('위해', 0.3488353192806244),\n",
       " ('먹기', 0.3451535701751709),\n",
       " ('오늘', 0.34397000074386597),\n",
       " ('다이어트', 0.3195529878139496),\n",
       " ('메추리알', 0.31017300486564636),\n",
       " ('마늘', 0.3066818416118622),\n",
       " ('반찬으로', 0.2982470989227295),\n",
       " ('맛있어요', 0.2916230857372284),\n",
       " ('레시피', 0.28354838490486145),\n",
       " ('오늘은', 0.271423876285553),\n",
       " ('내용', 0.26687198877334595),\n",
       " ('장조림을', 0.26355087757110596),\n",
       " ('좋아요', 0.25986653566360474),\n",
       " ('글에', 0.2506791651248932),\n",
       " ('넣어서', 0.23929870128631592),\n",
       " ('만들', 0.23346063494682312),\n",
       " ('이용한', 0.23234985768795013),\n",
       " ('안', 0.2303457111120224),\n",
       " ('저작자', 0.22936281561851501),\n",
       " ('좋아하는', 0.22905974090099335),\n",
       " ('물에', 0.22215133905410767),\n",
       " ('자주', 0.21964050829410553),\n",
       " ('하나', 0.20812654495239258)]"
      ]
     },
     "execution_count": 41,
     "metadata": {},
     "output_type": "execute_result"
    }
   ],
   "source": [
    "model.wv.most_similar([\"가슴살\", \"계란\", \"닭\", \"장조림\"], \n",
    "                      negative=['닭가슴살', '닭가슴살과', '닭가슴살을'],\n",
    "                      topn=30)"
   ]
  },
  {
   "cell_type": "code",
   "execution_count": null,
   "metadata": {},
   "outputs": [],
   "source": []
  },
  {
   "cell_type": "code",
   "execution_count": null,
   "metadata": {},
   "outputs": [],
   "source": []
  },
  {
   "cell_type": "code",
   "execution_count": null,
   "metadata": {},
   "outputs": [],
   "source": []
  },
  {
   "cell_type": "code",
   "execution_count": null,
   "metadata": {},
   "outputs": [],
   "source": []
  },
  {
   "cell_type": "code",
   "execution_count": 34,
   "metadata": {},
   "outputs": [
    {
     "data": {
      "text/html": [
       "<div>\n",
       "<style scoped>\n",
       "    .dataframe tbody tr th:only-of-type {\n",
       "        vertical-align: middle;\n",
       "    }\n",
       "\n",
       "    .dataframe tbody tr th {\n",
       "        vertical-align: top;\n",
       "    }\n",
       "\n",
       "    .dataframe thead th {\n",
       "        text-align: right;\n",
       "    }\n",
       "</style>\n",
       "<table border=\"1\" class=\"dataframe\">\n",
       "  <thead>\n",
       "    <tr style=\"text-align: right;\">\n",
       "      <th></th>\n",
       "      <th>Query</th>\n",
       "      <th>Posts</th>\n",
       "    </tr>\n",
       "  </thead>\n",
       "  <tbody>\n",
       "    <tr>\n",
       "      <th>0</th>\n",
       "      <td>가슴살_계란_닭_장조림</td>\n",
       "      <td>반찬 볶음 조림.부드러운 닭가슴살 장조림 만들기.베리츄..2017.9.1.22 32...</td>\n",
       "    </tr>\n",
       "    <tr>\n",
       "      <th>1</th>\n",
       "      <td>가슴살_굴소스_닭_볶음밥</td>\n",
       "      <td>아임닭 7기 종료.수비드 닭가슴살 요리 돈까스 볶음밥 만들기.주니호맘..2019.4...</td>\n",
       "    </tr>\n",
       "  </tbody>\n",
       "</table>\n",
       "</div>"
      ],
      "text/plain": [
       "           Query                                              Posts\n",
       "0   가슴살_계란_닭_장조림  반찬 볶음 조림.부드러운 닭가슴살 장조림 만들기.베리츄..2017.9.1.22 32...\n",
       "1  가슴살_굴소스_닭_볶음밥  아임닭 7기 종료.수비드 닭가슴살 요리 돈까스 볶음밥 만들기.주니호맘..2019.4..."
      ]
     },
     "execution_count": 34,
     "metadata": {},
     "output_type": "execute_result"
    }
   ],
   "source": [
    "import pandas as pd\n",
    "posts = pd.read_csv(\"data/naverPost_muyong.csv\")\n",
    "posts.head(2)"
   ]
  },
  {
   "cell_type": "code",
   "execution_count": 4,
   "metadata": {},
   "outputs": [],
   "source": [
    "post_temp = posts.loc[0]\n",
    "post_temp_query = post_temp.Query.split(\"_\")\n",
    "post_temp_list = post_temp.Posts.split('|')"
   ]
  },
  {
   "cell_type": "code",
   "execution_count": 5,
   "metadata": {},
   "outputs": [
    {
     "data": {
      "text/plain": [
       "(['가슴살', '계란', '닭', '장조림'],\n",
       " '반찬 볶음 조림.부드러운 닭가슴살 장조림 만들기.베리츄..2017.9.1.22 32.URL 복사.이웃추가.본문 기타 기능.번역보기.조림 밑반찬으로 대표적인 장조림.지방이 적고 단백질은 풍부한.닭가슴살.을 이용해 만들어봤어요.고기를 잘게 찢어 넣어 식감은 더 부드럽게.거기에.새송이버섯.과 제철을 맞이한.꽈리고추.까지 넉넉하게 넣어 만들었어요.꽈리고추는 일반 고추에 비해 쭈글쭈글하니 못생겼지만.비타민A와 C 등의 영양가가 풍부하고 매운맛이 덜해 조림이나 찜으로 먹기에 좋아요^^.닭가슴살장조림.닭가슴살 장조림 재료.조리시간 1시간 이내 ')"
      ]
     },
     "execution_count": 5,
     "metadata": {},
     "output_type": "execute_result"
    }
   ],
   "source": [
    "post_temp_query, post_temp_list[0][:300]"
   ]
  },
  {
   "cell_type": "code",
   "execution_count": 6,
   "metadata": {},
   "outputs": [],
   "source": [
    "# post 내용의 필터링\n",
    "post_temp_list_blog = post_temp_list[0]\n",
    "post_temp_list_blog = post_temp_list_blog.split('.')"
   ]
  },
  {
   "cell_type": "code",
   "execution_count": 7,
   "metadata": {},
   "outputs": [],
   "source": [
    "import re"
   ]
  },
  {
   "cell_type": "code",
   "execution_count": 11,
   "metadata": {},
   "outputs": [
    {
     "data": {
      "text/plain": [
       "'반찬 볶음 조림.부드러운 닭가슴살 장조림 만들기.본문 기타 기능.조림 밑반찬으로 대표적인 장조림.지방이 적고 단백질은 풍부한.을 이용해 만들어봤어요.고기를 잘게 찢어 넣어 식감은 더 부드럽게.과 제철을 맞이한.까지 넉넉하게 넣어 만들었어요.꽈리고추는 일반 고추에 비해 쭈글쭈글하니 못생겼지만.비타민A와 C 등의 영양가가 풍부하고 매운맛이 덜해 조림이나 찜으로 먹기에 좋아요^^.닭가슴살 장조림 재료.조리시간 1시간 이내 난이도 중.생 닭가슴살 200g 물 1L 5컵 청주 2큰술 마늘 4쪽 생강 마늘 크기 1톨.새송이버섯 2개 꽈리고추 200g 약 3줌.양념 고기 육수 300ml 1.5컵 양조간장 100ml 0.5컵 꿀 2큰술 표고버섯가루 1 2큰술 후춧가루 약간.괄호 속 기재된 컵 은 종이컵 기준입니다.꿀 대신 올리고당으로 대체 가능합니다.고기 삶은 물은 양념에 사용할 거예요.끓는 물에 닭 가슴살 물 1L 5컵 마늘 4쪽 생강 1톨 청주 2큰술을 넣고 삶아주세요.센 불에서 끓어오르면 중불에서 뚜껑을 덮어 20 25분 정도 삶으면 됩니다.삶은 물은 버리지 마세요.삶는 시간이 생각보다 오래 걸리기 때문에 이때 재료 손질 및 양념을 만들어두는 것이 좋아요.닭이 충분히 익었는지 확인할 땐 젓가락을 이용해 찔러보세요.젓가락이 푹 들어가고 핏물이 빠져나오지 않으면 충분하게 익은 거예요.고기 삶는 동안 꽈리고추를 흐르는 물에 깨끗하게 씻은 뒤 꼭지를 제거해주세요.포크를 이용해 구멍을 내주세요.양념이 잘 배도록 구멍을 내주는 것인데 작은 건 한번 긴 건 두 번 정도 콕 찔러주면 됩니다.길이가 너무 긴 것은 반으로 썰어주세요.꽈리고추 고르는 법.전체적으로 윤기가 나며 꼭지가 단단한 것을 고르면 되는데요.이때 몸통이 단단한 것은 좀 더 맵고 말랑한 것은 매운맛이 덜하니 기호에 따라 고르셔요^^.새송이버섯은 가로로 2등분 한 뒤 0.3cm 두께로 슬라이스해주세요.쫄깃한 식감의 새송이버섯은 꼭 넣어주세요.계란보다 더 맛 좋은 별미랍니다.슬라이스하는 것이 번거롭다면 미니새송이버섯을 사용해도 좋아요.잘 삶아진 닭 가슴살은 먹기 좋게 고기 결대로 쭉쭉 찢어주세요.고기를 결대로 잘게 찢은 뒤 양념에 졸이면 조리시간을 단축할 수 있어요.식감도 퍽퍽하기보단 부드러워져요.닭가슴살 장조림 양념을 만들어주세요.고기 육수 300ml 1.5컵 양조간장 100ml 0.5컵 꿀 2큰술 표고버섯가루 1 2큰술 후춧가루 약간.꿀이 없다면 올리고당으로 넣어주세요.닭 삶은 물 안 버리셨죠.양념장 만들 때 물 대신 넣어주세요.저는 멸치나 다시마 육수 대신 넣어주는데요.따로 만들지 않아도 되니.간편하기도 하고 천연조미료 역할을 톡톡히 해내요.고기 꽈리고추 새송이버섯 양념을 냄비에 넣고 센 불에서 끓여주세요.끓어오르면 중불로 줄이고 뚜껑을 덮어 7분간 더 끓여주세요.가만히 둬도 간이 잘 배기 때문에 오래 끓여줄 필요가 없어요.30분 1시간 뒤면 양념이 더 배어들기 때문에 끓이는 시간은 10분 내로 해줘도 충분해요.한가지 반찬을 만들었지만 세 가지를 만든 것 같은 효과가.이렇게 만들어둔 닭가슴살 장조림은 기본 밑반찬으로 딱이에요.먹을 만큼 덜어 전자레인지에 따뜻하게 데워먹으면 더 부드럽고 맛이 좋아요.입맛이 없을 땐 맨밥 장조림 버터 1큰술 넣어 장조림버터비빔밥으로 즐겨도 좋겠죠.닭가슴살 장조림 만들기 핵심은요.고기 삶은 물은 버리지 않고 양념장 만들 때 사용하기.저작자 명시 필수.영리적 사용 불가.내용 변경 불가.저작자 명시 필수 영리적 사용 불가 내용 변경 불가.이 글에 공감한 블로거 열고 닫기.이 글에 댓글 단 블로거 열고 닫기.var gAdPostUnitIdForPC pc_blog_bottom.var gAdContentUnitIdForPC pc_blog_body'"
      ]
     },
     "execution_count": 11,
     "metadata": {},
     "output_type": "execute_result"
    }
   ],
   "source": [
    "# 우선은 간단하게 기능을 추가한뒤\n",
    "# 식재료 Stemming 보완이 필요한 듯 ex) 후춧가루, 후추, 양념장 과 같은...\n",
    "#\n",
    "\".\".join([sent for sent in post_temp_list_blog   if len(re.findall(r\"\\w+\", sent)) >= 3])"
   ]
  },
  {
   "cell_type": "markdown",
   "metadata": {},
   "source": [
    "## **1 Fast Text 모델링**\n",
    "https://pypi.org/project/fasttext/\n",
    "1. Gensim 보다 빠르다더라...\n",
    "1. https://github.com/facebookresearch/fastText\n",
    "1. **[Wiki 백과로 미리 훈련한 사전을 제공](https://dl.fbaipublicfiles.com/fasttext/vectors-aligned/wiki.ko.align.vec)**\n",
    "1. [실습 예제자료를 다운 루는 블로그](https://inspiringpeople.github.io/data%20analysis/word_embedding/)"
   ]
  },
  {
   "cell_type": "code",
   "execution_count": 2,
   "metadata": {},
   "outputs": [],
   "source": [
    "text_data = \"\"\"반찬 볶음 조림.부드러운 닭가슴살 장조림 만들기.본문 기타 기능.조림 밑반찬으로 대표적인 장조림.\n",
    "지방이 적고 단백질은 풍부한.을 이용해 만들어봤어요.고기를 잘게 찢어 넣어 식감은 더 부드럽게.과 제철을 맞이한.\n",
    "까지 넉넉하게 넣어 만들었어요.꽈리고추는 일반 고추에 비해 쭈글쭈글하니 못생겼지만.\n",
    "비타민A와 C 등의 영양가가 풍부하고 매운맛이 덜해 조림이나 찜으로 먹기에 좋아요^^.닭가슴살 장조림 재료.\n",
    "조리시간 1시간 이내 난이도 중.생 닭가슴살 200g 물 1L 5컵 청주 2큰술 마늘 4쪽 생강 마늘 크기 1톨.\n",
    "새송이버섯 2개 꽈리고추 200g 약 3줌.양념 고기 육수 300ml 1.5컵 양조간장 100ml 0.5컵 꿀 2큰술 표고버섯가루 1 2큰술\n",
    "후춧가루 약간.괄호 속 기재된 컵 은 종이컵 기준입니다.꿀 대신 올리고당으로 대체 가능합니다.고기 삶은 물은 양념에 사용할 거예요.\"\"\""
   ]
  },
  {
   "cell_type": "code",
   "execution_count": 4,
   "metadata": {},
   "outputs": [],
   "source": [
    "import fasttext\n",
    "script_file = './w2v_script.txt'\n",
    "# model = fasttext.skipgram(script_file, 'model', lr=0.1, dim=300)\n",
    "# model = fasttext.skipgram('train.txt', 'model', lr=0.1, dim=300)\n",
    "# model = fasttext.skipgram(text_data, 'model', lr=0.1, dim=300)\n",
    "model = fasttext.train_unsupervised(script_file, model='skipgram', dim=300, lr=0.1)"
   ]
  },
  {
   "cell_type": "code",
   "execution_count": 3,
   "metadata": {},
   "outputs": [],
   "source": []
  },
  {
   "cell_type": "code",
   "execution_count": null,
   "metadata": {},
   "outputs": [],
   "source": []
  },
  {
   "cell_type": "code",
   "execution_count": null,
   "metadata": {},
   "outputs": [],
   "source": []
  },
  {
   "cell_type": "code",
   "execution_count": null,
   "metadata": {},
   "outputs": [],
   "source": []
  },
  {
   "cell_type": "code",
   "execution_count": null,
   "metadata": {},
   "outputs": [],
   "source": [
    "import fasttext\n",
    "\n",
    "# Skipgram model :\n",
    "model = fasttext.train_unsupervised('data.txt', model='skipgram')\n",
    "\n",
    "# or, cbow model :\n",
    "model = fasttext.train_unsupervised('data.txt', model='cbow')"
   ]
  },
  {
   "cell_type": "code",
   "execution_count": null,
   "metadata": {},
   "outputs": [],
   "source": [
    "print(model.words)   # list of words in dictionary\n",
    "print(model['king']) # get the vector of the word 'king'"
   ]
  },
  {
   "cell_type": "code",
   "execution_count": 1,
   "metadata": {},
   "outputs": [],
   "source": [
    "# 학습결과 Model 로 저장하기\n",
    "model.save_model(\"model_filename.bin\")"
   ]
  },
  {
   "cell_type": "code",
   "execution_count": null,
   "metadata": {},
   "outputs": [],
   "source": [
    "# 저장된 Model 객체 불러오기\n",
    "model = fasttext.load_model(\"model_filename.bin\")"
   ]
  },
  {
   "cell_type": "code",
   "execution_count": null,
   "metadata": {},
   "outputs": [],
   "source": [
    "import fasttext\n",
    "model = fasttext.train_supervised('data.train.txt')\n",
    "print(model.words)\n",
    "print(model.labels)"
   ]
  },
  {
   "cell_type": "code",
   "execution_count": null,
   "metadata": {},
   "outputs": [],
   "source": [
    "model.words         # equivalent to model.get_words()\n",
    "model.labels        # equivalent to model.get_labels()"
   ]
  },
  {
   "cell_type": "code",
   "execution_count": null,
   "metadata": {},
   "outputs": [],
   "source": [
    "model['king']       # equivalent to model.get_word_vector('king')\n",
    "'king' in model     # equivalent to `'king' in model.get_words()`"
   ]
  },
  {
   "cell_type": "code",
   "execution_count": null,
   "metadata": {},
   "outputs": [],
   "source": [
    "# 개별 Token 의 가중치 확인하기\n",
    "def print_results(N, p, r):\n",
    "    print(\"N\\t\" + str(N))\n",
    "    print(\"P@{}\\t{:.3f}\".format(1, p))\n",
    "    print(\"R@{}\\t{:.3f}\".format(1, r))\n",
    "\n",
    "print_results(*model.test('test.txt'))"
   ]
  },
  {
   "cell_type": "code",
   "execution_count": null,
   "metadata": {},
   "outputs": [],
   "source": [
    "# 학습 모델을 활용하여 판단하기\n",
    "model.predict(\"Which baking dish is best to bake a banana bread ?\")"
   ]
  },
  {
   "cell_type": "code",
   "execution_count": null,
   "metadata": {},
   "outputs": [],
   "source": [
    "# 출력할 결과값을 사용자가 지정 가능 (k=3)\n",
    "model.predict(\"Which baking dish is best to bake a banana bread ?\", k=3)"
   ]
  },
  {
   "cell_type": "code",
   "execution_count": null,
   "metadata": {},
   "outputs": [],
   "source": [
    "# If you want to predict more than one sentence you can pass an array of strings \n",
    "model.predict([\"Which baking dish is best to bake a banana bread ?\", \"Why not put knives in the dishwasher?\"], k=3)"
   ]
  },
  {
   "cell_type": "code",
   "execution_count": null,
   "metadata": {},
   "outputs": [],
   "source": [
    "# with the previously trained `model` object, call :\n",
    "model.quantize(input='data.train.txt', retrain=True)\n",
    "\n",
    "# then display results and save the new model :\n",
    "print_results(*model.test(valid_data))\n",
    "model.save_model(\"model_filename.ftz\")"
   ]
  },
  {
   "cell_type": "code",
   "execution_count": null,
   "metadata": {},
   "outputs": [],
   "source": []
  },
  {
   "cell_type": "markdown",
   "metadata": {},
   "source": [
    "## **1 Naver Link 목록**\n",
    "OpenAPI 로 수집한 결과값 저장된 목록 List 원본의 수정보완\n",
    "1. Naver OPEN API 결과 **Token 이 유효값인지** 확인 가능했다 (Oh!!)\n",
    "1. 네이버 블로그 목록만 정리한 DataBase 만들기\n",
    "1. 목록을 4개로 나워서 2개의 서버에서 돌리며 저장하기"
   ]
  },
  {
   "cell_type": "code",
   "execution_count": 3,
   "metadata": {},
   "outputs": [
    {
     "data": {
      "text/html": [
       "<div>\n",
       "<style scoped>\n",
       "    .dataframe tbody tr th:only-of-type {\n",
       "        vertical-align: middle;\n",
       "    }\n",
       "\n",
       "    .dataframe tbody tr th {\n",
       "        vertical-align: top;\n",
       "    }\n",
       "\n",
       "    .dataframe thead th {\n",
       "        text-align: right;\n",
       "    }\n",
       "</style>\n",
       "<table border=\"1\" class=\"dataframe\">\n",
       "  <thead>\n",
       "    <tr style=\"text-align: right;\">\n",
       "      <th></th>\n",
       "      <th>Query</th>\n",
       "      <th>Posts</th>\n",
       "    </tr>\n",
       "  </thead>\n",
       "  <tbody>\n",
       "    <tr>\n",
       "      <th>0</th>\n",
       "      <td>가슴살_계란_닭_장조림</td>\n",
       "      <td>반찬 볶음 조림.부드러운 닭가슴살 장조림 만들기.베리츄..2017.9.1.22 32...</td>\n",
       "    </tr>\n",
       "    <tr>\n",
       "      <th>1</th>\n",
       "      <td>간장_불고기_제육_파채</td>\n",
       "      <td>오늘의 식탁.[반조리 밥아저씨] 12월 12일 식탁 버섯제육간장불고기 파채 감자고추...</td>\n",
       "    </tr>\n",
       "    <tr>\n",
       "      <th>2</th>\n",
       "      <td>감자_국_수제비</td>\n",
       "      <td>나의이야기.아침에 먹고 남은 감자국으로 수제비 만드는법 하기 위해 수제비 반죽만들기...</td>\n",
       "    </tr>\n",
       "  </tbody>\n",
       "</table>\n",
       "</div>"
      ],
      "text/plain": [
       "          Query                                              Posts\n",
       "0  가슴살_계란_닭_장조림  반찬 볶음 조림.부드러운 닭가슴살 장조림 만들기.베리츄..2017.9.1.22 32...\n",
       "1  간장_불고기_제육_파채  오늘의 식탁.[반조리 밥아저씨] 12월 12일 식탁 버섯제육간장불고기 파채 감자고추...\n",
       "2      감자_국_수제비  나의이야기.아침에 먹고 남은 감자국으로 수제비 만드는법 하기 위해 수제비 반죽만들기..."
      ]
     },
     "execution_count": 3,
     "metadata": {},
     "output_type": "execute_result"
    }
   ],
   "source": [
    "import pandas as pd\n",
    "df = pd.read_csv('data/naver_posts_sample.csv')\n",
    "df.head(3)"
   ]
  },
  {
   "cell_type": "code",
   "execution_count": 14,
   "metadata": {},
   "outputs": [
    {
     "name": "stdout",
     "output_type": "stream",
     "text": [
      "86\n"
     ]
    },
    {
     "data": {
      "text/plain": [
       "(None,\n",
       " '가슴살 간장 감자 강정 겉절이 계란 계란말이 고추 고추장 골뱅이 국 굴 김치 깨 꼬치 꽃게 너비아니 달래 닭 데리야끼 도라지생채 돈 돈육 된장국 두부 들깨 떡국 만두 매콤 무 무침 물 미나리 미소 미역 버섯 볶음 부추 불고기 브로콜리 사골 사태 상추 새송이 새우젓 샐러드 소고기 소스 수제비 순두부 시금치나물 야채 양상추 양파 어묵 엿 오이 오징어 우동 유자 장국 장조림 장포 적 제육 조림 짬뽕 찜 찹쌀 채 채소 청경채 초무침 치어 치즈 칠리 콩나물 탕 탕수 파채 팽이 해물탕 햄 황도 후랑크 후르츠')"
      ]
     },
     "execution_count": 14,
     "metadata": {},
     "output_type": "execute_result"
    }
   ],
   "source": [
    "querys = sorted(list(set(\"_\".join(df.Query.tolist()).split(\"_\"))))\n",
    "print(len(querys)), \" \".join(querys)"
   ]
  },
  {
   "cell_type": "code",
   "execution_count": null,
   "metadata": {},
   "outputs": [],
   "source": []
  },
  {
   "cell_type": "markdown",
   "metadata": {},
   "source": [
    "## **1 Naver Link 목록**\n",
    "OpenAPI 로 수집한 결과값 저장된 목록 List 원본의 수정보완\n",
    "1. Naver OPEN API 결과 **Token 이 유효값인지** 확인 가능했다 (Oh!!)\n",
    "1. 네이버 블로그 목록만 정리한 DataBase 만들기\n",
    "1. 목록을 4개로 나워서 2개의 서버에서 돌리며 저장하기"
   ]
  },
  {
   "cell_type": "code",
   "execution_count": null,
   "metadata": {},
   "outputs": [],
   "source": []
  }
 ],
 "metadata": {
  "kernelspec": {
   "display_name": "Python 3",
   "language": "python",
   "name": "python3"
  },
  "language_info": {
   "codemirror_mode": {
    "name": "ipython",
    "version": 3
   },
   "file_extension": ".py",
   "mimetype": "text/x-python",
   "name": "python",
   "nbconvert_exporter": "python",
   "pygments_lexer": "ipython3",
   "version": "3.6.3"
  }
 },
 "nbformat": 4,
 "nbformat_minor": 4
}
