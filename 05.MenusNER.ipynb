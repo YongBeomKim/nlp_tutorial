{
 "cells": [
  {
   "cell_type": "markdown",
   "metadata": {},
   "source": [
    "# **MDX 데이터 분석하기**\n",
    "https://pypi.org/project/mdict-utils/\n",
    "1. **MDX 사전파일을** 활용하여 객체에 구분하기\n",
    "1. 각 사전의 첫번째 의미를 통해서 **NER** 사전 만들기\n",
    "1. 추후에 보완을 해서 wordnet 으로 강화하기"
   ]
  },
  {
   "cell_type": "markdown",
   "metadata": {},
   "source": [
    "## **1 레시피 SQlite 데이터 불러오기**\n",
    "작업한 내용을 대상으로 중분류 내용 추가하기\n",
    "- 법률, 식품, 자동차 등 중분류 내용이 당장은 필요가 없어 보인다.\n",
    "- 작업을 진행하면서 필요하면 추가하기\n",
    "\n",
    "```python\n",
    "import pickle\n",
    "with open('data/nerDict.pk', 'wb') as handle:\n",
    "    pickle.dump(nerDict, handle, protocol=pickle.HIGHEST_PROTOCOL)\n",
    "with open('data/nerDict.pk', 'rb') as handle:\n",
    "    nerDict = pickle.load(handle)\n",
    "nerDict.shape\n",
    "```"
   ]
  },
  {
   "cell_type": "code",
   "execution_count": 1,
   "metadata": {},
   "outputs": [
    {
     "data": {
      "text/plain": [
       "(908,\n",
       " '가오리조림 가오리찜 가자미야채탕 가자미찜 가지냉채 가지불고기 가지선 가지오징어냉채 가지조림 가지회 각색두부전골 각색버섯덮밥 간장 갈비구이 갈비구이찜 갈비찜 갈비탕 감자가자미구이 감자갈비탕 감자고로케 감자그라땡 감자대구오븐구이 감자두부조림 감자막튀김 감자맑은국 감자밥 감자베이컨볶음 감자보트샐러드 감자볶음 감자볶음밥 감자볶음밥치즈구이 감자부침 감자새우그라땡 감')"
      ]
     },
     "execution_count": 1,
     "metadata": {},
     "output_type": "execute_result"
    }
   ],
   "source": [
    "import sqlite3\n",
    "import pandas as pd\n",
    "def mdxdb_to_df(file):\n",
    "    conn = sqlite3.connect(file)\n",
    "    resp = conn.execute(\"SELECT name FROM sqlite_master WHERE type='table';\")\n",
    "    tableNames = [name[0]  for name in resp]\n",
    "    return pd.read_sql_query(\"SELECT * FROM {}\".format(tableNames[1]), conn)\n",
    "\n",
    "# 레시피 데이터베이스 불러오기\n",
    "df    = mdxdb_to_df('backup/recipe.db')\n",
    "menus = df.entry.values.tolist()\n",
    "len(menus), \" \".join(menus)[:200]"
   ]
  },
  {
   "cell_type": "markdown",
   "metadata": {},
   "source": [
    "## **2 식재료 관련 데이터 찾기**\n",
    "작업한 내용을 대상으로 중분류 내용 추가하기\n",
    "1. **식품 관련 내용** 이 설명에 포함된 경우들을 찾아서 정리하기\n",
    "1.[전은경  맛을 표현하는 단어 (2003)](https://m.blog.naver.com/PostView.nhn?blogId=seongho0805&logNo=150048557298&proxyReferer=https%3A%2F%2Fwww.google.com%2F)\n",
    "1. 설명 내용에 **\"식용\", \"양념\" , \"음식\", \"고기\", \"야채\", \"열매\", \"잎\", \"줄기\", \"(식물)\", \"(동물)\"** 포함내용 찾기\n",
    "\n",
    "```python\n",
    "import xlrd\n",
    "xls = xlrd.open_workbook('backup/foodOpenData.xls', on_demand=True)\n",
    "sheetName = xls.sheet_names()\n",
    "df = pd.read_excel('backup/foodOpenData.xls', sheetName=sheetName)\n",
    "\n",
    "import pickle\n",
    "with open('data/nerDict.pk', 'wb') as handle:\n",
    "    pickle.dump(nerDict, handle, protocol=pickle.HIGHEST_PROTOCOL)\n",
    "with open('data/nerDict.pk', 'rb') as handle:\n",
    "    nerDict = pickle.load(handle)\n",
    "```"
   ]
  },
  {
   "cell_type": "code",
   "execution_count": 6,
   "metadata": {},
   "outputs": [
    {
     "data": {
      "text/plain": [
       "(388091, 2)"
      ]
     },
     "execution_count": 6,
     "metadata": {},
     "output_type": "execute_result"
    }
   ],
   "source": [
    "import pickle\n",
    "with open('data/nerDict.pk', 'rb') as handle:\n",
    "    nerDict = pickle.load(handle)\n",
    "nerDict.shape"
   ]
  },
  {
   "cell_type": "code",
   "execution_count": 3,
   "metadata": {},
   "outputs": [
    {
     "name": "stdout",
     "output_type": "stream",
     "text": [
      "['밀가루', '효모', '반죽', '식용', '빵', '식', '면포']\n"
     ]
    },
    {
     "data": {
      "text/plain": [
       "'식빵'"
      ]
     },
     "execution_count": 3,
     "metadata": {},
     "output_type": "execute_result"
    }
   ],
   "source": [
    "food_unique_token = [\"식용\",\"양념\",\"음식\",\"물고기\",\"고기\",\"동물\",\"야채\",\"열매\",\"잎\",\"줄기\",\"생선\"]\n",
    "\n",
    "# 식품에 해당하면 결과를 출력\n",
    "from konlpy.tag import Okt\n",
    "def check_food_noun(query):\n",
    "    q_data = nerDict[nerDict.Text == query].Data.values.tolist()\n",
    "    q_data = [_[0][1]   for _ in q_data]      # 대표개념만 검색\n",
    "    for no, word in enumerate(q_data):\n",
    "        for _ in word:\n",
    "            if len(_) > 5:                    # 너무 짧으면 제외\n",
    "                if _.find(\"¶\") == -1:         # 예문은 제외\n",
    "                    t_noun = Okt().nouns(_)   # Okt() 명사추출\n",
    "                    print(t_noun)\n",
    "                    for check_noun in t_noun: # 추출 단어의 확인\n",
    "                        if check_noun in food_unique_token:\n",
    "                            return query   # print(\"식품에 해당\")\n",
    "\n",
    "check_food_noun(\"식빵\")"
   ]
  },
  {
   "cell_type": "code",
   "execution_count": 51,
   "metadata": {},
   "outputs": [
    {
     "data": {
      "text/plain": [
       "[]"
      ]
     },
     "execution_count": 51,
     "metadata": {},
     "output_type": "execute_result"
    }
   ],
   "source": [
    "# 원문 내용의 확인\n",
    "query     = \"바이니\"\n",
    "q_data    = nerDict[nerDict.Text == query].Data.values.tolist()\n",
    "q_data\n",
    "# itemIndex = nerDict.Text.values.tolist()\n",
    "# itemData  = nerDict.Data.values.tolist()"
   ]
  },
  {
   "cell_type": "markdown",
   "metadata": {},
   "source": [
    "# **메뉴 데이터 N-Gram 분석**\n",
    "\n",
    "## **1 N-Gram 데이터**\n",
    "**itemIndexTemp** 를 활용하며 고유단어 찾기"
   ]
  },
  {
   "cell_type": "code",
   "execution_count": 5,
   "metadata": {},
   "outputs": [
    {
     "name": "stdout",
     "output_type": "stream",
     "text": [
      "2903\n"
     ]
    },
    {
     "data": {
      "text/plain": [
       "(None,\n",
       " '줄감자튀김 후랑크브로콜리칠리볶음 파인소스 베이컨김치숙주전 추억의엣날도시락 가자미칠리소스 매콤소고기두부조림 실치땅콤볶음 진미채야채무침 수제돈까스 맛살팽이전 단호박닭찜 느타리브로컬리볶음 오이스틱 매운등갈비떡찜 직화산적 칼집비엔나브로콜리볶음 올방개묵 제육숙주굴소스볶음 달래장 매콤군만두 얼큰콩나물무침 청양풍돈사태떡찜 수제돈깐풍 매콤오징어떡깻순볶음')"
      ]
     },
     "execution_count": 5,
     "metadata": {},
     "output_type": "execute_result"
    }
   ],
   "source": [
    "import pandas as pd\n",
    "menus = pd.read_csv('data/muyong_menus.csv', encoding='ms949')\n",
    "menus = menus.dropna(subset=['메인1', '메인2'])\n",
    "menus = menus.fillna('')  # NaN 값을 지운다\n",
    "\n",
    "# DataFrame 에서 고유 Token List 추출\n",
    "tokens, result = [], []\n",
    "for _ in menus.columns[4:]:\n",
    "    tokens += menus[_].values.tolist()\n",
    "\n",
    "# &, %, ., / 등의 제거 후, 고유 Token 문서 만들기 \n",
    "import re\n",
    "for _ in tokens:\n",
    "    _temp = re.findall(r\"\\w+\", _)\n",
    "    if _temp:  result += _temp\n",
    "tokens = list(set(result))\n",
    "print(len(tokens)), \" \".join(tokens[:25])"
   ]
  },
  {
   "cell_type": "code",
   "execution_count": 17,
   "metadata": {},
   "outputs": [
    {
     "data": {
      "text/plain": [
       "(900, 7680)"
      ]
     },
     "execution_count": 17,
     "metadata": {},
     "output_type": "execute_result"
    }
   ],
   "source": [
    "# Okt 모듈로 명사만 찾기 (대중적 선별기준)\n",
    "from konlpy.tag import Okt, Hannanum, Mecab\n",
    "token_Okt = Okt().nouns(\" \".join(tokens))\n",
    "len(set(token_Okt)), len(token_Okt)"
   ]
  },
  {
   "cell_type": "code",
   "execution_count": 21,
   "metadata": {},
   "outputs": [
    {
     "data": {
      "text/plain": [
       "(961, 7556)"
      ]
     },
     "execution_count": 21,
     "metadata": {},
     "output_type": "execute_result"
    }
   ],
   "source": [
    "token_Okt = Mecab().nouns(\" \".join(tokens))\n",
    "len(set(token_Okt)), len(token_Okt)"
   ]
  },
  {
   "cell_type": "code",
   "execution_count": 19,
   "metadata": {},
   "outputs": [
    {
     "data": {
      "text/plain": [
       "(2888, 2894)"
      ]
     },
     "execution_count": 19,
     "metadata": {},
     "output_type": "execute_result"
    }
   ],
   "source": [
    "token_Okt = Hannanum().nouns(\" \".join(tokens))\n",
    "len(set(token_Okt)), len(token_Okt)"
   ]
  },
  {
   "cell_type": "code",
   "execution_count": null,
   "metadata": {},
   "outputs": [],
   "source": []
  },
  {
   "cell_type": "code",
   "execution_count": null,
   "metadata": {},
   "outputs": [],
   "source": []
  },
  {
   "cell_type": "code",
   "execution_count": null,
   "metadata": {},
   "outputs": [],
   "source": [
    "# Today...."
   ]
  },
  {
   "cell_type": "code",
   "execution_count": null,
   "metadata": {},
   "outputs": [],
   "source": [
    "# 결과 중 사전에 포함된 단어와, 비포함 단어들로 필터링 진행하기"
   ]
  },
  {
   "cell_type": "markdown",
   "metadata": {},
   "source": [
    "# **NER 사전 수집결과의 해석**\n",
    "자동화 알고리즘 및 구조화를 활용하여 모델링을 보완하기"
   ]
  },
  {
   "cell_type": "code",
   "execution_count": 10,
   "metadata": {},
   "outputs": [
    {
     "data": {
      "text/plain": [
       "11640"
      ]
     },
     "execution_count": 10,
     "metadata": {},
     "output_type": "execute_result"
    }
   ],
   "source": [
    "# 30만개 중 11만개의 식품 연관단어의 추출\n",
    "with open('data/food_nouns.txt', 'r') as f:\n",
    "    token_nouns = f.read()\n",
    "\n",
    "token_nouns = sorted(set(token_nouns.split(',')))\n",
    "len(token_nouns)"
   ]
  },
  {
   "cell_type": "code",
   "execution_count": null,
   "metadata": {},
   "outputs": [],
   "source": []
  },
  {
   "cell_type": "code",
   "execution_count": null,
   "metadata": {},
   "outputs": [],
   "source": []
  },
  {
   "cell_type": "code",
   "execution_count": null,
   "metadata": {},
   "outputs": [],
   "source": []
  },
  {
   "cell_type": "code",
   "execution_count": null,
   "metadata": {},
   "outputs": [],
   "source": []
  },
  {
   "cell_type": "code",
   "execution_count": 8,
   "metadata": {},
   "outputs": [
    {
     "data": {
      "text/plain": [
       "[[('명사',\n",
       "   ['명사',\n",
       "    '『식물』',\n",
       "    '마디풀과의 한해살이풀. 높이는 30~50cm이며, 잎은 어긋나고 피침 모양이다. 7~8월에 붉은색이 도는 꽃이 수상(穗狀) 화서로 피고 열매는 수과(痩果)를 맺는다. 물속에서 자라는데 한국의 경기ㆍ강원ㆍ경북ㆍ경남, 일본, 중국 등지에 분포한다. ≒붉은대동여뀌. (persicaria trigonocarpa)\\r\\n'])]]"
      ]
     },
     "execution_count": 8,
     "metadata": {},
     "output_type": "execute_result"
    }
   ],
   "source": [
    "# 원문 내용의 확인\n",
    "query     = \"가는개여뀌\"\n",
    "q_data    = nerDict[nerDict.Text == query].Data.values.tolist()\n",
    "q_data\n",
    "# itemIndex = nerDict.Text.values.tolist()\n",
    "# itemData  = nerDict.Data.values.tolist()"
   ]
  },
  {
   "cell_type": "code",
   "execution_count": null,
   "metadata": {},
   "outputs": [],
   "source": []
  },
  {
   "cell_type": "code",
   "execution_count": 28,
   "metadata": {},
   "outputs": [
    {
     "data": {
      "text/plain": [
       "'가래떡 가루 가슴살 가쓰 가쓰오 가오리 가자미 가자미조림 가지 간 간장 간장지 갈릭 갈비 갈비구이 갈비찜 갈비탕 갈치구이 갈치조림 감귤 감자 감자비 감자수 감자알 감자엿 감자전 감자조림 감자채 감자탕 감자튀김 갓김치 강정 강정무 강회 개해 거지 거트 건 건새 건포도 검정깨 겉절이 게 게맛살 겨자 겨자채 견과 겹 계란 계란구이 계란장조림 계란찜 계장 계탕 고갈 고구마 고구마튀김 고기 고기볶음 고기전골 고등어 고등어구이 고등어자반 고등어조림 고로케 고사리 고사리나물 고추 고추쌈 고추알 고추잡채 고추장 고추장찌개 고추전 고춧잎 곤약 골 골맹이 골뱅이 곰피 곱창 과일 교자 교촌 구 구이 국 국내산 국물 국밥 국산 국수 군 군만두 굴 굴비 궁중 그 그릇 근대 근대나물 글 기민 기산 기완 기타 기파 김 김구이 김밥 김치 김치볶음밥 김치전 김치찌개 김치홍 깁 까르보 까스 깍 깍두기 깐 깐풍기 깨 깨소 깻잎 깻잎나물 깻잎쌈 꼬마 꼬미 꼬치 꼬치전 꽁치 꽃 꽃게 꽈리 꽈리고추 끼 나 나떡 나라 나물 나물밥 나물볶음 나후 낙지 난 날 냉국 냉열 냉이 냉채 너 너겟 너비 너비아니 네비 노각 노미야 녹두 녹두전 누드 누룽지 느타리 느타리버섯 닝 다대기 다리 다시마 다시마튀각 단감 단무지 단전 단호박 달래장 닭 닭갈비 닭강정 닭개장 닭곰탕 닭꼬치 닭도리탕 닭백숙 닭볶음탕 닭살 닭조림 닭찜 닭튀김 당근 당면 대 대구 대구구이 대국 대왕 덮밥 데 데리 데미 도너츠 도라 도라지 도라지나물 도라지생채 도로리 도시락 도토리 도토리묵 돈 돈가스 돈나물 돈육 돗나물 동 동그랑땡 동양 동태 동태찌개 돼지 된장 된장국 된장찌개 두국 두루치기 두부 두부구이 두부장국 두부조림 두부찌개 둑 드레싱 들깨 등 등갈비 등뼈 등심 딸기 땅 땅콩 땅콩강정 땅콩엿 떡 떡갈비 떡국 떡볶이 떡찜 라면 라이스 란국 란부 란스 란전 랑크 래미 랭 러스 레몬 렌치 렘 렛 로니 루츠 리 리소스 리알 리야 리회 링클 마늘 마늘빵 마약 마요 마요네즈 마카로니 마트 마파두부 막국수 만 만두 만두전골 말 말랭이 맛 맛살 맛살조림 망고 매실차 매운탕 매콤 맥시 머스 머스터드 머스터드소스 머위 메 메뉴 메밀 메추 메추리 멕시칸 면 면국 멸치 멸치조림 명 명태 모닝 모듬 모등 모밀 목살 몬드 무김치 무나물 무말랭이 무생채 무순 무식 무채 무청 무침 묵 묵국 묵매 묵무침 묵사발 문어 물 물경단 물국 물굴 물김치 물냉면 물누룽지 물동 물만두 물미역 물부추 물탕 물품 믈 미 미국 미나리 미니 미더덕 미들 미무 미소 미역 미역국 미역냉국 미채 미트 미트볼 민 민물 바 바나나 바베큐 바이니 바자 바지락 박무 박물 박스 반 반장 반즈 밥 방울 방울꽃 방울토마토 배 배추 배추김치 배추쌈 배추찜 배춧국 백 백합 버섯 버섯볶음 버섯전골 버터 범벅 베 베리 베이비 베이컨 베트남 변경 보로 보리 보쌈 복 복음 복지 볶음 볶음밥 봄동 봉 봉동 봉어 봉추 부 부고 부국 부대 부대찌개 부동 부들 부미 부산 부추 부추잡채 북어 분홍 불고기 불낙 불닭 뷰팽 브 브라운소스 브로 브로콜리 블 블루베리 비 비국 비름 비름나물 비빔 비빔국수 비빔밥 비산 비엔나 비장 비트 빈대떡 빕 빵 뼈 뼈다귀 사 사각 사골 사과 사금치 사리 사우전드 사이 사정 사태 사항 삭 삭고 산 산고 산적 산채 살전 살치 삼 삼각 삼겹살 삼계탕 삼단 삼색 삼치구이 상기 상추 상추쌈 상하 새송이 새싹 새우 새우볶음 새우전 새우젓 새우튀김 색 색소 샌드 샌드위치 샐 샐러드 샘 생선 생채 샤 석박 설 설렁탕 세모 세발 셀프 소갈비 소고 소고기 소국 소금구이 소라 소면 소보 소불 소불고기 소세 소세지 소스 소시 소시지 소야 손 송송이 송이 송이버섯 수 수박 수박화채 수육 수제 수제비 수채 숙주 숙주나물 숙회 순 순대 순대볶음 순두 순두부 순두부찌개 숯불 숯불고기 스 스위트 스즈 스카치 스타드 스테이크 스틱 스파게티 스팸 스페인 스프 슬로우 시금 시금치 시금치나물 시래기 시래기나물 시저 시전 시즈 식 식불 식빵 식혜 실 싱 싹 쌀 쌀국수 쌈 쌈장 쌔 쑥갓 쑥갓나물 씨 씨앗 아몬드 아식 아욱 아욱국 안동 안심 알 알감 알꽈리 알매 알배기 알새 알찌개 알탕 앙 애 애호박 애호박전 야채 야채샐러드 약고추장 양념 양념간장 양념장 양념치킨 양배추 양상추 양송이 양식 양장피 양파 어니언 어묵 억 언양 얼 얼갈이 얼갈이김치 역미 연근 연근조림 연두부 연어 열 열무 열무김치 엽채 엿 영양 옛날 오 오곡밥 오국 오뎅 오렌지 오리 오리엔탈 오리지날 오므라이스 오븐 오이 오이생채 오이소박이 오이지 오이지무침 오이채 오징어 오징어무침 오징어짬뽕 옥수수 옥수수튀김 올방개 와사 와사비 완자 왕돈 왕수 요고 요구르트 우 우거 우거지 우거지김치 우거지탕 우계 우국 우근 우동 우렁 우마 우무 우무묵 우민 우시금 우엉 우엉조림 우우 원양 월남 웨지 위요 위칠 윙 유 유린기 유부 유자 유자차 유자청 유차 유채 육 육간장 육개장 육고추장 육굴 육조림 육파 이 이게 이국 이맛살 이언 이연복 이우 이유 이장국 이전 이콘 일식 잎 자매 자반 자볼 자색 자완 자장 자전 잔치국수 잡채 장각 장고 장국 장떡 장무 장아찌 장어 장전 장조림 장지 장찌개 장터 잼 쟝 전 전골 전주식 절 젓 정식 제 제육 제육볶음 조 조개 조갯살 조림 조미 종합 주름 주먹밥 주장 줄 줄기 중 중국 중국식 쥐포 지 지구 지국 지단 지리 지매 지무 지스크 지알 지전 지짐 직 진국 진미 짐 짜장면 짬 짬뽕 쪽 쪽파 쫄면 쫑 찌 찌개 찐빵 찜 참깨 참나물 참치 찹쌀 채 채국 채무 채소 채수 채양 채유 채전 채지 천 천도복숭아 천사 철판 철판구이 청 청경채 청국장찌개 청양 청참 청파 청포 청포묵 초 초간장 초고 초고추장 초무침 초밥 초복 초장 초회 추 추가 추국 추억 추장 추전 추지 춘권 춘장 춘천 춤 충무 충무김밥 취나물 츄 치국 치알 치즈 치초 치커리 치킨 칠 칠리 칠리소스 침 칩 카레 카르보나라 칵테일 칼국수 칼집 칼치 캔 컬리 컷 케 케이준 코 코노미 코다리 콘 콤 콩 콩가루 콩국수 콩나물 콩나물국 콩나물밥 콩비지 콩자반 콩장 크레 크렘 크루 크린 크림 클 키 키위 타드 타르타르 타르타르소스 타리 탕 탕수 탕수육 탕평채 테크 텐더 토리 토마토 토스트 톳 통도 통아 튀김 트 파 파강회 파닭 파래 파미 파스타 파슬리 파인 파인애플 파전 파지 파프리카 팝 팝콘 팥 팽 팽이 팽이버섯 페페 펜 포기김치 포도 포자 포테이토 폭 표고 표고버섯 푸실리 풋고추 풋마늘 풍만 프리카 피 피넛 피망 피자 피지 피클 하 하트 한방 한식 함박 합전 핫도그 해물 해물탕 해바라기 해장국 해초 해파리 해파리냉채 햄 햇고구마 허니 헴 호박 호박전 홍 홍어회 홍초 홍합 화면 황도 황태 회 회덮밥 회무 후 후라이드 후르츠 훈제 흑미 흑임자 힙'"
      ]
     },
     "execution_count": 28,
     "metadata": {},
     "output_type": "execute_result"
    }
   ],
   "source": [
    "\" \".join(sorted(set(token_Okt)))"
   ]
  },
  {
   "cell_type": "code",
   "execution_count": null,
   "metadata": {},
   "outputs": [],
   "source": []
  },
  {
   "cell_type": "code",
   "execution_count": null,
   "metadata": {},
   "outputs": [],
   "source": []
  },
  {
   "cell_type": "code",
   "execution_count": null,
   "metadata": {},
   "outputs": [],
   "source": [
    "# N-Gram 유용한 값 찾기\n",
    "n_gram, tokeNgram = 2, []\n",
    "def ngram(token, n):\n",
    "    return [token[_: _+n] for _ in range(0, (len(token)-n+1))]\n",
    "\n",
    "for _ in tokens:\n",
    "    tokeNgram += ngram(_, n_gram)\n",
    "\n",
    "from nltk import Text\n",
    "ngramObj = Text(tokeNgram)   # [list] 객체로 Text 객체의 생성"
   ]
  },
  {
   "cell_type": "code",
   "execution_count": null,
   "metadata": {},
   "outputs": [],
   "source": [
    "%matplotlib inline\n",
    "from matplotlib import rc, rcParams\n",
    "import matplotlib.pyplot as plt\n",
    "rc('font', family=['NanumGothic','Malgun Gothic']) # 한글의 표시\n",
    "rcParams['axes.unicode_minus'] = False             # '-' 표시의 처리\n",
    "plt.figure(figsize=(15, 3))  # 파레트 설정\n",
    "ngramObj.plot(70)"
   ]
  },
  {
   "cell_type": "code",
   "execution_count": null,
   "metadata": {},
   "outputs": [],
   "source": [
    "ngramObj.dispersion_plot([\"튀김\",\"구이\", \"얼큰\"])"
   ]
  },
  {
   "cell_type": "code",
   "execution_count": null,
   "metadata": {},
   "outputs": [],
   "source": [
    "# itemIndexTemp : NER 객체어 사전\n",
    "valid_token = []\n",
    "unvalid_token = []\n",
    "voca_tokens = ngramObj.vocab().most_common()\n",
    "\n",
    "from tqdm import tqdm\n",
    "for _ in tqdm(voca_tokens):\n",
    "    if _[0] in itemIndexTemp: valid_token.append(_[0])\n",
    "    else: unvalid_token.append(_[0])\n",
    "\n",
    "# 유효하게 추출된 단어는 96개\n",
    "# 나머지 5458개로 작업을 시작하기\n",
    "# [_ for _ in itemIndexTemp if _ == \"매실\"]\n",
    "len(valid_token), len(unvalid_token)"
   ]
  },
  {
   "cell_type": "markdown",
   "metadata": {},
   "source": [
    "## **2 네이버 블로그 내용 수집하기**\n",
    "블로그 URL 에서 본문을 수집 분석하기"
   ]
  },
  {
   "cell_type": "code",
   "execution_count": null,
   "metadata": {},
   "outputs": [],
   "source": [
    "# iframe 으로 본문 url 찾은 뒤, //div[@id=\"postListBody\"] 내용의 출력\n",
    "import requests\n",
    "from lxml.html import fromstring\n",
    "\n",
    "def get_blog_post(url):\n",
    "    userAgent   = {\"user-agent\":\"Mozilla/5.0 (X11; Ubuntu; Linux x86_64; rv:61.0) Gecko/20100101 Firefox/61.0\"}\n",
    "    rsp         = requests.get(url, headers=userAgent)\n",
    "    rsp_lxml    = fromstring(rsp.text) # './/태그[contains(@속성명, \"속성값\")]'\n",
    "    text_result = rsp_lxml.xpath('.//iframe[@id=\"mainFrame\"]/@src')\n",
    "    get_url     = \"https://blog.naver.com\" + text_result[0]\n",
    "    resp        = requests.get(get_url)\n",
    "    resp_lxml   = fromstring(resp.text)\n",
    "    blog_xpath  = '//div[@id=\"postListBody\"]//table//text()'\n",
    "    return \" \".join([_.strip() for _ in resp_lxml.xpath(blog_xpath) if _.strip()])\n",
    "\n",
    "url = \"https://blog.naver.com/k77609/221366368354\"\n",
    "url = 'https://blog.naver.com/0167513714/221616708943'\n",
    "url = 'https://blog.naver.com/hnn888/221411518781'\n",
    "blog_text = get_blog_post(url)\n",
    "blog_text[:250]"
   ]
  },
  {
   "cell_type": "code",
   "execution_count": null,
   "metadata": {},
   "outputs": [],
   "source": [
    "from konlpy.tag import Okt, Mecab\n",
    "tokens = [_[0]+\"/\"+_[1]  for _ in Okt().pos(blog_text, stem=True)]\n",
    "\n",
    "from nltk import Text\n",
    "token_blog = Text(tokens)   # [list] 객체로 Text 객체의 생성"
   ]
  },
  {
   "cell_type": "code",
   "execution_count": null,
   "metadata": {},
   "outputs": [],
   "source": [
    "%matplotlib inline\n",
    "from matplotlib import rc, rcParams\n",
    "import matplotlib.pyplot as plt\n",
    "rc('font', family=['NanumGothic','Malgun Gothic']) # 한글의 표시\n",
    "rcParams['axes.unicode_minus'] = False             # '-' 표시의 처리\n",
    "plt.figure(figsize=(15, 3))  # 파레트 설정\n",
    "token_blog.plot(50)"
   ]
  },
  {
   "cell_type": "code",
   "execution_count": null,
   "metadata": {},
   "outputs": [],
   "source": [
    "token_blog.vocab().most_common(5)\n",
    "# Mecab().pos(blog_text)\n",
    "# for _ in Okt().pos(blog_text, stem=True):\n",
    "#     if _[1] not in ['Punctuation', \"Josa\",\\\n",
    "#         \"Determiner\", \"Number\", \"Foreign\", \"Conjunction\"]:\n",
    "#         print (_[0], _[1])\n",
    "#         break"
   ]
  },
  {
   "cell_type": "code",
   "execution_count": null,
   "metadata": {},
   "outputs": [],
   "source": []
  },
  {
   "cell_type": "code",
   "execution_count": null,
   "metadata": {},
   "outputs": [],
   "source": []
  },
  {
   "cell_type": "code",
   "execution_count": null,
   "metadata": {},
   "outputs": [],
   "source": []
  },
  {
   "cell_type": "code",
   "execution_count": null,
   "metadata": {},
   "outputs": [],
   "source": []
  },
  {
   "cell_type": "markdown",
   "metadata": {},
   "source": [
    "## **1 음식의 Tf-idf 가중치 적용하기**\n",
    "1. 음식목록 등 자기가 찾고자 하는 Theme 의 대상들을 특정한 뒤,\n",
    "1. 여기서 수집된 단어를 대상으로 가중치값 비교하기"
   ]
  },
  {
   "cell_type": "markdown",
   "metadata": {},
   "source": [
    "## **2 청심중고교 메뉴 데이터 호출**\n",
    "무영 메뉴작업 목록 호출하기\n",
    "```python\n",
    "from muyong.food import menu_chungsim\n",
    "from tqdm import tqdm\n",
    "date   = [str(_).split(\" \")[0][:-3]  for _ in pd.date_range(start='1/1/2017', end=\"8/1/2019\", freq='MS')]\n",
    "result = [menu_chungsim(_).values.tolist()  for _ in tqdm(date)]\n",
    "temp   = []\n",
    "for _ in result:\n",
    "    temp.extend(_)\n",
    "temp = pd.DataFrame(temp, columns = [\"Date\", \"조식\", \"중식\", \"석식\"])\n",
    "```"
   ]
  },
  {
   "cell_type": "code",
   "execution_count": null,
   "metadata": {},
   "outputs": [],
   "source": [
    "# 2017-01-01 부터 수집 가능합니다.\n",
    "import pandas as pd\n",
    "df = pd.read_csv('data/menu_chungsim.csv')\n",
    "df.head(2)"
   ]
  },
  {
   "cell_type": "code",
   "execution_count": null,
   "metadata": {},
   "outputs": [],
   "source": [
    "import pandas as pd\n",
    "df = pd.read_csv('data/menu_chungsim.csv')\n",
    "df.loc[0]['석식']"
   ]
  },
  {
   "cell_type": "markdown",
   "metadata": {},
   "source": [
    "## **3 성균관 대학교 메뉴 데이터 호출**\n",
    "무영 메뉴작업 목록 호출하기 : 1년 전까지만 호출가능\n",
    "```python\n",
    "div class=\"weekly_list\"\n",
    "div class=\"tabCon listcon1\"\n",
    "div class=\"weeListWrap\"   # div class=\"weeListTit\" : 날짜만 추출시\n",
    "idx_date_range = [_.date().strftime(\"%Y-%m-%d\")  \n",
    "    for _ in pd.date_range(start=idx_date, periods=len(menu_detail))]\n",
    "```"
   ]
  },
  {
   "cell_type": "code",
   "execution_count": null,
   "metadata": {},
   "outputs": [],
   "source": []
  }
 ],
 "metadata": {
  "kernelspec": {
   "display_name": "Python 3",
   "language": "python",
   "name": "python3"
  },
  "language_info": {
   "codemirror_mode": {
    "name": "ipython",
    "version": 3
   },
   "file_extension": ".py",
   "mimetype": "text/x-python",
   "name": "python",
   "nbconvert_exporter": "python",
   "pygments_lexer": "ipython3",
   "version": "3.6.3"
  }
 },
 "nbformat": 4,
 "nbformat_minor": 4
}
