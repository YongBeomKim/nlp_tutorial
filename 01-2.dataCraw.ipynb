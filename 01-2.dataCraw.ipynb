{
 "cells": [
  {
   "cell_type": "markdown",
   "metadata": {},
   "source": [
    "# **Menu List Crawling**"
   ]
  },
  {
   "cell_type": "markdown",
   "metadata": {},
   "source": [
    "## **1 청심중고교 메뉴 데이터 호출**\n",
    "무영 메뉴작업 목록 호출하기\n",
    "```python\n",
    "from muyong.food import menu_chungsim\n",
    "from tqdm import tqdm\n",
    "date   = [str(_).split(\" \")[0][:-3]  for _ in pd.date_range(start='1/1/2017', end=\"8/1/2019\", freq='MS')]\n",
    "result = [menu_chungsim(_).values.tolist()  for _ in tqdm(date)]\n",
    "temp   = []\n",
    "for _ in result:\n",
    "    temp.extend(_)\n",
    "temp = pd.DataFrame(temp, columns = [\"Date\", \"조식\", \"중식\", \"석식\"])\n",
    "```"
   ]
  },
  {
   "cell_type": "code",
   "execution_count": 2,
   "metadata": {},
   "outputs": [
    {
     "data": {
      "text/html": [
       "<div>\n",
       "<style scoped>\n",
       "    .dataframe tbody tr th:only-of-type {\n",
       "        vertical-align: middle;\n",
       "    }\n",
       "\n",
       "    .dataframe tbody tr th {\n",
       "        vertical-align: top;\n",
       "    }\n",
       "\n",
       "    .dataframe thead th {\n",
       "        text-align: right;\n",
       "    }\n",
       "</style>\n",
       "<table border=\"1\" class=\"dataframe\">\n",
       "  <thead>\n",
       "    <tr style=\"text-align: right;\">\n",
       "      <th></th>\n",
       "      <th>Date</th>\n",
       "      <th>조식</th>\n",
       "      <th>중식</th>\n",
       "      <th>석식</th>\n",
       "    </tr>\n",
       "  </thead>\n",
       "  <tbody>\n",
       "    <tr>\n",
       "      <th>0</th>\n",
       "      <td>2017-01-01</td>\n",
       "      <td>찰현미밥.떡만두국.진미채무침.계란찜.롤케익.골드파인애플/초코첵스</td>\n",
       "      <td>하이라이스..돈목살스테이크/소스.치즈스틱/케찹.양송이버섯볶음.포기김치.이오 大</td>\n",
       "      <td>찹쌀밥.된장찌개.한우버섯불고기.깐쇼새우.꽃상추무침.포기김치.쁘띠첼(90g)(핫도그....</td>\n",
       "    </tr>\n",
       "    <tr>\n",
       "      <th>1</th>\n",
       "      <td>2017-01-02</td>\n",
       "      <td>찹쌀현미밥.돈육김치찌개.베이컨스크램블.코다리조림.부시맨빵/버터.후르트링/밀감</td>\n",
       "      <td>혼합잡곡밥.사골우거지국.후라이드치킨/허니머스터드.꽈리고추메추리알조림.비타민무침.깍두...</td>\n",
       "      <td>보리밥.맑은콩나물국.한우갈비찜.팔보채.오이양파무침.포기김치.장프로바이오틱(주먹밥.카...</td>\n",
       "    </tr>\n",
       "  </tbody>\n",
       "</table>\n",
       "</div>"
      ],
      "text/plain": [
       "         Date                                          조식  \\\n",
       "0  2017-01-01         찰현미밥.떡만두국.진미채무침.계란찜.롤케익.골드파인애플/초코첵스   \n",
       "1  2017-01-02  찹쌀현미밥.돈육김치찌개.베이컨스크램블.코다리조림.부시맨빵/버터.후르트링/밀감   \n",
       "\n",
       "                                                  중식  \\\n",
       "0        하이라이스..돈목살스테이크/소스.치즈스틱/케찹.양송이버섯볶음.포기김치.이오 大   \n",
       "1  혼합잡곡밥.사골우거지국.후라이드치킨/허니머스터드.꽈리고추메추리알조림.비타민무침.깍두...   \n",
       "\n",
       "                                                  석식  \n",
       "0  찹쌀밥.된장찌개.한우버섯불고기.깐쇼새우.꽃상추무침.포기김치.쁘띠첼(90g)(핫도그....  \n",
       "1  보리밥.맑은콩나물국.한우갈비찜.팔보채.오이양파무침.포기김치.장프로바이오틱(주먹밥.카...  "
      ]
     },
     "execution_count": 2,
     "metadata": {},
     "output_type": "execute_result"
    }
   ],
   "source": [
    "# 2017-01-01 부터 수집 가능합니다.\n",
    "import pandas as pd\n",
    "df = pd.read_csv('data/menu_chungsim.csv')\n",
    "df.head(2)"
   ]
  },
  {
   "cell_type": "markdown",
   "metadata": {},
   "source": [
    "## **2 성균관 대학교 메뉴 데이터 호출**\n",
    "무영 메뉴작업 목록 호출하기 : 1년 전까지만 호출가능\n",
    "```python\n",
    "div class=\"weekly_list\"\n",
    "div class=\"tabCon listcon1\"\n",
    "div class=\"weeListWrap\"   # div class=\"weeListTit\" : 날짜만 추출시\n",
    "idx_date_range = [_.date().strftime(\"%Y-%m-%d\")  \n",
    "    for _ in pd.date_range(start=idx_date, periods=len(menu_detail))]\n",
    "```"
   ]
  },
  {
   "cell_type": "markdown",
   "metadata": {},
   "source": [
    "<br></br>\n",
    "# **10,000 개의 레시피 메뉴 함수**\n",
    "개별 작업을 구분한 뒤, 모듈로써 작업을 진행하도록 합니다\n",
    "1. **크롤링용** 함수\n",
    "1. 원본과 **비교용** 함수\n",
    "1. **비교 후 합치는** 함수\n",
    "\n",
    "## **1 작업용 함수 만들기**\n",
    "크롤링 및 주소값을 활요한 filtering"
   ]
  },
  {
   "cell_type": "code",
   "execution_count": 1,
   "metadata": {},
   "outputs": [
    {
     "data": {
      "text/plain": [
       "[['/recipe/6917104', '콩국수 ~#'],\n",
       " ['/recipe/6917103', '5분이면 가능한 \"건새우 볶음\"'],\n",
       " ['/recipe/6917102', '간단 참치전~*']]"
      ]
     },
     "execution_count": 1,
     "metadata": {},
     "output_type": "execute_result"
    }
   ],
   "source": [
    "# \"<제목>\" 추출시 lxml 로는 안되더라 왜????\n",
    "import requests, re\n",
    "from bs4 import BeautifulSoup\n",
    "def crawMenuBs4(url_no):\n",
    "    url          = \"http://www.10000recipe.com/recipe/list.html?order=date&page=\"\n",
    "    userAgent    = {\"user-agent\":\"Mozilla/5.0 (X11; Ubuntu; Linux x86_64; rv:61.0) Gecko/20100101 Firefox/61.0\"}\n",
    "    result, resp = [], requests.request('get', url+str(url_no), headers=userAgent, timeout=5)\n",
    "    dom          = BeautifulSoup(resp.text, \"html.parser\") \n",
    "    titles       = dom.find_all(\"h4\", {\"class\":\"ellipsis_title2\"})\n",
    "    titles       = [_.text   for _ in titles]\n",
    "    for _ in dom.find_all(\"div\", {\"class\":\"col-xs-4\"}):\n",
    "        try:\n",
    "            url_href = _.find(\"a\", {\"class\":\"thumbnail\"})[\"href\"]\n",
    "            _title   = _.find(\"h4\", {\"class\":\"ellipsis_title2\"}).text\n",
    "            result.append([url_href, _title])\n",
    "        except: pass\n",
    "    return result\n",
    "        \n",
    "# 특정 페이지 링크데이터 목록 수집하기\n",
    "menuList = crawMenuBs4(17)\n",
    "menuList[:3]"
   ]
  },
  {
   "cell_type": "code",
   "execution_count": 1,
   "metadata": {},
   "outputs": [],
   "source": [
    "# 파일을 기준으로 결과물 필터링\n",
    "import pandas as pd\n",
    "def crawFileFilter(menuList, files):\n",
    "    df = pd.read_csv(files, header=None)\n",
    "    limitOrg = int(re.findall(r\"\\d+\", df[0][0])[0])\n",
    "    mTemp    = pd.DataFrame(menuList)\n",
    "    mTemp[0] = [int(re.findall(r\"\\d+\", _)[0]) for _ in mTemp[0]]\n",
    "    mTemp    = mTemp[mTemp[0] > limitOrg]\n",
    "    mTemp[0] = [\"/recipe/\"+str(_) for _ in mTemp[0]] # 필터링 결과 url\n",
    "    return mTemp.values.tolist()"
   ]
  },
  {
   "cell_type": "code",
   "execution_count": 103,
   "metadata": {},
   "outputs": [],
   "source": [
    "# Web Page 수집함수\n",
    "import requests\n",
    "from lxml.html import fromstring\n",
    "def crawData(url_menu):\n",
    "    url        = \"http://www.10000recipe.com/recipe/list.html?order=accuracy&page=\"\n",
    "    url        = \"http://www.10000recipe.com/recipe/\"\n",
    "    userAgent  = {\"user-agent\":\"Mozilla/5.0 (X11; Ubuntu; Linux x86_64; rv:61.0) Gecko/20100101 Firefox/61.0\"}\n",
    "    xpath_rcp  = '//div[@id=\"contents_area\"]//div[starts-with(@class,\"cont_ingre\")]//text()'\n",
    "    xpath_c    = '//div[@id=\"contents_area\"]/div[@class=\"view_step\"]/div[starts-with(@id,\"stepDiv\")]//text()'\n",
    "    xpath_cOld = '//div[@id=\"contents_area\"]/div[@class=\"view_step\"]/div[@id=\"oldContArea\"]//text()'\n",
    "    xpath_tip  = '//div[@id=\"contents_area\"]/div[@class=\"view_step\"]//dl[@class=\"view_step_tip\"]//text()'\n",
    "    xpath_name = '//div[@id=\"contents_area\"]/div[@class=\"view2_summary\"]/h3/text()'\n",
    "    urlDetail  = requests.compat.urljoin(url, url_menu)\n",
    "    # urlDetail  = url + str(url_menu)\n",
    "    resp       = requests.request('get', urlDetail, headers=userAgent, timeout=5)\n",
    "    resp_lxml  = fromstring(resp.text)\n",
    "    try:\n",
    "        name = resp_lxml.xpath(xpath_name)  # 레시피 데이터\n",
    "        name = \" \".join([_.strip()    for _ in name if len(_.strip())>1])\n",
    "        recipe = resp_lxml.xpath(xpath_rcp) # 레시피 데이터\n",
    "        recipe = \" \".join([_.strip()  for _ in recipe if len(_.strip())>1])\n",
    "        cooking = resp_lxml.xpath(xpath_c)  # 조리법 크롤링\n",
    "        cooking = \" \".join([_.strip() for _ in cooking if len(_.strip())>1])\n",
    "        if len(cooking) < 5:                # 조리법 크롤링 (old style)\n",
    "            cooking = resp_lxml.xpath(xpath_cOld)\n",
    "            cooking = \" \".join([_.strip() for _ in cooking if len(_.strip())>1])\n",
    "        cookTip = resp_lxml.xpath(xpath_tip)\n",
    "        cookTip = \" \".join([_.strip()  for _ in cookTip if len(_.strip())>1])\n",
    "        if len(cookTip) < 3: cookTip=\"None\"\n",
    "        # url 은 레시피 Url 숫자 저장 (압축)\n",
    "        url_menu = int(\"\".join(re.findall(r'\\d+', url_menu)))\n",
    "        return [url_menu, name, recipe, cooking, cookTip]\n",
    "    except: return None"
   ]
  },
  {
   "cell_type": "markdown",
   "metadata": {},
   "source": [
    "## **2 레시피 데이터 전처리**\n",
    "작업한 내용 살펴보기"
   ]
  },
  {
   "cell_type": "code",
   "execution_count": 11,
   "metadata": {},
   "outputs": [],
   "source": [
    "# import pandas as pd\n",
    "# recipes    = pd.read_csv('data/foodRecipe.csv', sep=\"|\", header=None)\n",
    "# recipes[0] = [int(_)  for _ in recipes[0]] # 문자열 대신 숫자로 모두 변환\n",
    "\n",
    "# # 중복 컬럼 줄이기 : 6917054, 6917053, 6917052, 6917051, 6917050, 6917049\n",
    "# from tqdm import tqdm\n",
    "# result, recipesNo = [], sorted(set(recipes[0]), reverse=True)\n",
    "# for _ in tqdm(recipesNo):\n",
    "#     result.append(recipes[recipes[0] == _].iloc[0,:].values.tolist())\n",
    "# recipes           = pd.DataFrame(result)\n",
    "# recipes.to_csv('recipe.csv', index=None, header=None, sep=\"|\")\n",
    "# recipes.head(2)"
   ]
  },
  {
   "cell_type": "markdown",
   "metadata": {},
   "source": [
    "<br></br>\n",
    "# **Naver 자료 수집하기**\n",
    "Naver 자료들 수집하기\n",
    "\n",
    "## **1 네이버 블로그 내용 수집하기**\n",
    "블로그 URL 에서 본문을 수집 분석하기"
   ]
  },
  {
   "cell_type": "code",
   "execution_count": 6,
   "metadata": {},
   "outputs": [
    {
     "data": {
      "text/plain": [
       "'요리하다 [김치만두전골 황금레시피]알배추를 넣어 얼큰한 겨울국물요리 캐리정 ・ 2018. 12. 3. 21:30 URL 복사 이웃추가 본문 기타 기능 번역보기 얼큰한 겨울 국물요리 김치만두전골 황금레시피 으슬으슬 추 운 계절에는 얼큰 시원한 국물요리만한게 없죠 여기에 든든한 만두가 가세한 만두 전골냄비 한 그릇만으로 다른 반찬 필요없어용~ 김치만두전골 황금레시피 컨셉: 든든한 국물요리 ** 만두전골 재료 2인분\\xa0** 직접 만든 김치손만두 4개 '"
      ]
     },
     "execution_count": 6,
     "metadata": {},
     "output_type": "execute_result"
    }
   ],
   "source": [
    "# iframe 으로 본문 url 찾은 뒤, //div[@id=\"postListBody\"] 내용의 출력\n",
    "import requests\n",
    "from lxml.html import fromstring\n",
    "\n",
    "def get_blog_post(url):\n",
    "    userAgent   = {\"user-agent\":\"Mozilla/5.0 (X11; Ubuntu; Linux x86_64; rv:61.0) Gecko/20100101 Firefox/61.0\"}\n",
    "    rsp         = requests.get(url, headers=userAgent)\n",
    "    rsp_lxml    = fromstring(rsp.text) # './/태그[contains(@속성명, \"속성값\")]'\n",
    "    text_result = rsp_lxml.xpath('.//iframe[@id=\"mainFrame\"]/@src')\n",
    "    get_url     = \"https://blog.naver.com\" + text_result[0]\n",
    "    resp        = requests.get(get_url)\n",
    "    resp_lxml   = fromstring(resp.text)\n",
    "    blog_xpath  = '//div[@id=\"postListBody\"]//table//text()'\n",
    "    return \" \".join([_.strip() for _ in resp_lxml.xpath(blog_xpath) if _.strip()])\n",
    "\n",
    "url = \"https://blog.naver.com/k77609/221366368354\"\n",
    "url = 'https://blog.naver.com/0167513714/221616708943'\n",
    "url = 'https://blog.naver.com/hnn888/221411518781'\n",
    "blog_text = get_blog_post(url)\n",
    "blog_text[:250]"
   ]
  },
  {
   "cell_type": "code",
   "execution_count": 7,
   "metadata": {},
   "outputs": [],
   "source": [
    "from konlpy.tag import Okt\n",
    "blog_text\n",
    "tokens = [_[0]+\"/\"+_[1]  for _ in Okt().pos(blog_text, stem=True)]\n",
    "\n",
    "from nltk import Text\n",
    "token_blog = Text(tokens)   # [list] 객체로 Text 객체의 생성"
   ]
  },
  {
   "cell_type": "code",
   "execution_count": 8,
   "metadata": {},
   "outputs": [
    {
     "data": {
      "image/png": "[encoded data removed]",
      "text/plain": [
       "<Figure size 1080x216 with 1 Axes>"
      ]
     },
     "metadata": {
      "needs_background": "light"
     },
     "output_type": "display_data"
    }
   ],
   "source": [
    "%matplotlib inline\n",
    "from matplotlib import rc, rcParams\n",
    "import matplotlib.pyplot as plt\n",
    "rc('font', family=['NanumGothic','Malgun Gothic']) # 한글의 표시\n",
    "rcParams['axes.unicode_minus'] = False             # '-' 표시의 처리\n",
    "plt.figure(figsize=(15, 3))  # 파레트 설정\n",
    "token_blog.plot(50)"
   ]
  },
  {
   "cell_type": "markdown",
   "metadata": {},
   "source": [
    "# **Naver Post Detail Crawling**\n",
    "메뉴의 이름들 중 대표성 높은 메뉴들 찾기\n",
    "\n",
    "## **1 네이버 블로그 내용 수집하기**\n",
    "블로그 URL 에서 본문을 수집 분석하기\n",
    "1. Naver OPEN API 결과 **Token 이 유효값인지** 확인 가능했다 (Oh!!)\n",
    "1. 네이버 블로그 목록만 정리한 DataBase 만들기\n",
    "1. 목록을 4개로 나워서 2개의 서버에서 돌리며 저장하기"
   ]
  },
  {
   "cell_type": "code",
   "execution_count": 4,
   "metadata": {},
   "outputs": [],
   "source": [
    "import re\n",
    "# 수집결과 불필요한 기호들 제거하는 함수\n",
    "def blog_preprocess(post):\n",
    "    post_temp = post.replace('\\n',\"\").replace('\\t',\"\").split(\".\")\n",
    "    post_temp = [\" \".join(re.findall(r\"[가-힣0-9A-z]+\", _))  for _ in post_temp  if len(_.strip()) >= 1]\n",
    "    return \".\".join(post_temp)"
   ]
  },
  {
   "cell_type": "code",
   "execution_count": 2,
   "metadata": {},
   "outputs": [],
   "source": [
    "# import pandas as pd\n",
    "# links_org      = pd.read_csv('backup/naver_link_temp.csv')\n",
    "# # links_org.shape, links_org.head(3)\n",
    "# links_by_token = links_org.iloc[::60, :] # 길이를 절반으로 축소\n",
    "# links_by_token = links_by_token.data.values.tolist()\n",
    "# len(links_by_token), links_by_token[0][:40]"
   ]
  },
  {
   "cell_type": "code",
   "execution_count": 3,
   "metadata": {},
   "outputs": [],
   "source": [
    "# import sqlite3, time, os, requests_cache\n",
    "# file_db = \"naver.db\"\n",
    "# conn = sqlite3.connect(file_db)\n",
    "# requests_cache.install_cache('cache')\n",
    "\n",
    "# import pandas as pd\n",
    "# from tqdm import tqdm\n",
    "# from muyong.util import Telegram\n",
    "# from muyong.naver import get_blog_post\n",
    "# t = Telegram()\n",
    "# links_length = len(links_by_token)\n",
    "# for no, links in tqdm(enumerate(links_by_token)):\n",
    "#     result, temp = [], []\n",
    "#     links = links.split('|')\n",
    "#     for _ in links[:100]:\n",
    "#         _ = get_blog_post(_)\n",
    "#         _ = blog_preprocess(_)\n",
    "#         temp.append(_)\n",
    "#         time.sleep(.1)\n",
    "#     temp = \"|\".join(temp)     # 500개를 저장\n",
    "#     result.append([no, temp])\n",
    "#     df = pd.DataFrame(result)\n",
    "#     df.to_sql('foods', conn, if_exists='append')\n",
    "#     os.remove(\"cache.sqlite\")\n",
    "#     if no % 200 == 0:\n",
    "#         t.msg(\"{}/ {} th processing\".format(no, links_length))\n",
    "#     time.sleep(.1)\n",
    "# conn.commit()\n",
    "# conn.close()"
   ]
  },
  {
   "cell_type": "markdown",
   "metadata": {},
   "source": [
    "## **2 수집결과 살펴보기**\n",
    "Sqlite 결과를 보다 활용하기 쉽게 저장하기"
   ]
  },
  {
   "cell_type": "code",
   "execution_count": 1,
   "metadata": {},
   "outputs": [],
   "source": [
    "# import sqlite3\n",
    "# import pandas as pd\n",
    "# conn = sqlite3.connect(\"naver.db\")\n",
    "# df = pd.read_sql('SELECT * FROM \"foods\"', conn, index_col=None).drop('index', axis=1)\n",
    "# conn.close()\n",
    "# df = df.iloc[11:].reset_index(drop=True)\n",
    "# df.columns = ['Query', 'Posts']\n",
    "# df.Query = links_org.iloc[::60, 0].tolist()\n",
    "# df.head()\n",
    "\n",
    "# df.to_csv(\"data/naver_posts_sample.csv\", index=None)\n",
    "# df.Query.tolist()"
   ]
  }
 ],
 "metadata": {
  "kernelspec": {
   "display_name": "Python 3",
   "language": "python",
   "name": "python3"
  },
  "language_info": {
   "codemirror_mode": {
    "name": "ipython",
    "version": 3
   },
   "file_extension": ".py",
   "mimetype": "text/x-python",
   "name": "python",
   "nbconvert_exporter": "python",
   "pygments_lexer": "ipython3",
   "version": "3.6.3"
  }
 },
 "nbformat": 4,
 "nbformat_minor": 4
}
