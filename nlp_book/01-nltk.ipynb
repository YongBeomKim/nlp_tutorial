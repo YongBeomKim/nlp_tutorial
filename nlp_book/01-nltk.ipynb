{
 "cells": [
  {
   "cell_type": "markdown",
   "metadata": {},
   "source": [
    "# **NLP and NLTK**\n",
    "\n",
    "## **1 NLTK**\n",
    "자연어 관련 자료모음"
   ]
  },
  {
   "cell_type": "code",
   "execution_count": 4,
   "metadata": {},
   "outputs": [
    {
     "data": {
      "text/plain": [
       "(193,\n",
       " ['AlignedCorpusReader',\n",
       "  'AlpinoCorpusReader',\n",
       "  'BNCCorpusReader',\n",
       "  'BracketParseCorpusReader',\n",
       "  'CHILDESCorpusReader',\n",
       "  'CMUDictCorpusReader',\n",
       "  'CategorizedBracketParseCorpusReader',\n",
       "  'CategorizedCorpusReader',\n",
       "  'CategorizedPlaintextCorpusReader',\n",
       "  'CategorizedSentencesCorpusReader',\n",
       "  'CategorizedTaggedCorpusReader',\n",
       "  'ChasenCorpusReader',\n",
       "  'ChunkedCorpusReader',\n",
       "  'ComparativeSentencesCorpusReader',\n",
       "  'ConllChunkCorpusReader'])"
      ]
     },
     "execution_count": 4,
     "metadata": {},
     "output_type": "execute_result"
    }
   ],
   "source": [
    "from nltk import corpus\n",
    "len(dir(corpus)), dir(corpus)[:15]"
   ]
  },
  {
   "cell_type": "code",
   "execution_count": null,
   "metadata": {},
   "outputs": [],
   "source": []
  },
  {
   "cell_type": "code",
   "execution_count": null,
   "metadata": {},
   "outputs": [],
   "source": []
  },
  {
   "cell_type": "code",
   "execution_count": null,
   "metadata": {},
   "outputs": [],
   "source": []
  }
 ],
 "metadata": {
  "kernelspec": {
   "display_name": "Python 3",
   "language": "python",
   "name": "python3"
  },
  "language_info": {
   "codemirror_mode": {
    "name": "ipython",
    "version": 3
   },
   "file_extension": ".py",
   "mimetype": "text/x-python",
   "name": "python",
   "nbconvert_exporter": "python",
   "pygments_lexer": "ipython3",
   "version": "3.6.3"
  }
 },
 "nbformat": 4,
 "nbformat_minor": 4
}
