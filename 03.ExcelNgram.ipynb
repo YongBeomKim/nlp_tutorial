{
 "cells": [
  {
   "cell_type": "markdown",
   "metadata": {},
   "source": [
    "# **Data from Muyong**\n",
    "! pip install xlrd\n",
    "## **1 sheet Names**\n",
    "엑셀내 시트내용 살펴보기"
   ]
  },
  {
   "cell_type": "code",
   "execution_count": 1,
   "metadata": {},
   "outputs": [
    {
     "name": "stderr",
     "output_type": "stream",
     "text": [
      "100%|██████████| 253/253 [00:00<00:00, 170385.18it/s]"
     ]
    },
    {
     "name": "stdout",
     "output_type": "stream",
     "text": [
      "['업체별단가 및 사모님이 사오시는 품목', '사용량', '18년1.16-24', '18년2.20-', '18.03.20']\n",
      "업체별단가 및 사모님이 사오시는 품목\n",
      "사용량\n"
     ]
    },
    {
     "name": "stderr",
     "output_type": "stream",
     "text": [
      "\n"
     ]
    },
    {
     "data": {
      "text/plain": [
       "251"
      ]
     },
     "execution_count": 1,
     "metadata": {},
     "output_type": "execute_result"
    }
   ],
   "source": [
    "import xlrd, re\n",
    "xls = xlrd.open_workbook(r'backup/menuDatas2003.xls', on_demand=True)\n",
    "sheetName = xls.sheet_names()\n",
    "print(sheetName[:5])\n",
    "\n",
    "from tqdm import tqdm\n",
    "shtList = []\n",
    "for _ in tqdm(sheetName):\n",
    "    chk = re.findall(r\"(\\d+).(\\d+)[-.](\\d+)\",_)\n",
    "    if chk:\n",
    "        if len(\"\".join(chk[0])) < 5: print(_)\n",
    "        else: shtList.append(_)\n",
    "    else: print(_)\n",
    "        \n",
    "len(shtList)"
   ]
  },
  {
   "cell_type": "markdown",
   "metadata": {},
   "source": [
    "## **2 import from Sheet**\n",
    "엑셀내 시트내용 살펴보기"
   ]
  },
  {
   "cell_type": "code",
   "execution_count": 2,
   "metadata": {},
   "outputs": [
    {
     "data": {
      "text/html": [
       "<div>\n",
       "<style scoped>\n",
       "    .dataframe tbody tr th:only-of-type {\n",
       "        vertical-align: middle;\n",
       "    }\n",
       "\n",
       "    .dataframe tbody tr th {\n",
       "        vertical-align: top;\n",
       "    }\n",
       "\n",
       "    .dataframe thead th {\n",
       "        text-align: right;\n",
       "    }\n",
       "</style>\n",
       "<table border=\"1\" class=\"dataframe\">\n",
       "  <thead>\n",
       "    <tr style=\"text-align: right;\">\n",
       "      <th></th>\n",
       "      <th>품명</th>\n",
       "      <th>신용축산</th>\n",
       "      <th>비앤피</th>\n",
       "      <th>사모님이 사오시는품목</th>\n",
       "    </tr>\n",
       "  </thead>\n",
       "  <tbody>\n",
       "    <tr>\n",
       "      <th>0</th>\n",
       "      <td>NaN</td>\n",
       "      <td>031 426 8833</td>\n",
       "      <td>010 3805 4938</td>\n",
       "      <td>NaN</td>\n",
       "    </tr>\n",
       "    <tr>\n",
       "      <th>1</th>\n",
       "      <td>목전지(제육)</td>\n",
       "      <td>4800</td>\n",
       "      <td>4700</td>\n",
       "      <td>굴소스</td>\n",
       "    </tr>\n",
       "  </tbody>\n",
       "</table>\n",
       "</div>"
      ],
      "text/plain": [
       "        품명          신용축산            비앤피 사모님이 사오시는품목\n",
       "0      NaN  031 426 8833  010 3805 4938         NaN\n",
       "1  목전지(제육)          4800           4700         굴소스"
      ]
     },
     "execution_count": 2,
     "metadata": {},
     "output_type": "execute_result"
    }
   ],
   "source": [
    "# merge cell 때문에 전체가 보이질 않는다 ㅠㅠ..\n",
    "import pandas as pd\n",
    "pd.read_excel('backup/menuDatas2003.xls', sheetName=shtList[5]).head(2)"
   ]
  },
  {
   "cell_type": "markdown",
   "metadata": {},
   "source": [
    "# **Recipe 요약하기**\n",
    "1. token 의 추출\n",
    "1. 유사한 메뉴끼리 묶는다\n",
    "## **1 sheet Names**\n",
    "엑셀내 시트내용 살펴보기"
   ]
  },
  {
   "cell_type": "code",
   "execution_count": 30,
   "metadata": {},
   "outputs": [
    {
     "data": {
      "text/html": [
       "<div>\n",
       "<style scoped>\n",
       "    .dataframe tbody tr th:only-of-type {\n",
       "        vertical-align: middle;\n",
       "    }\n",
       "\n",
       "    .dataframe tbody tr th {\n",
       "        vertical-align: top;\n",
       "    }\n",
       "\n",
       "    .dataframe thead th {\n",
       "        text-align: right;\n",
       "    }\n",
       "</style>\n",
       "<table border=\"1\" class=\"dataframe\">\n",
       "  <thead>\n",
       "    <tr style=\"text-align: right;\">\n",
       "      <th></th>\n",
       "      <th>년도</th>\n",
       "      <th>주차</th>\n",
       "      <th>요일</th>\n",
       "      <th>구분</th>\n",
       "      <th>메인1</th>\n",
       "      <th>메인2</th>\n",
       "      <th>메인3</th>\n",
       "      <th>메인4</th>\n",
       "      <th>메인5</th>\n",
       "      <th>메인6</th>\n",
       "      <th>메인7</th>\n",
       "      <th>메인8</th>\n",
       "      <th>메인9</th>\n",
       "      <th>메인10</th>\n",
       "      <th>Unnamed: 14</th>\n",
       "    </tr>\n",
       "  </thead>\n",
       "  <tbody>\n",
       "    <tr>\n",
       "      <th>1</th>\n",
       "      <td>2017</td>\n",
       "      <td>52</td>\n",
       "      <td>화</td>\n",
       "      <td>중식</td>\n",
       "      <td>황태미역국</td>\n",
       "      <td>매콤제육볶음</td>\n",
       "      <td>해물볶음우동</td>\n",
       "      <td>팽이맛살계란전</td>\n",
       "      <td>양상추샐러드</td>\n",
       "      <td>흑임자D</td>\n",
       "      <td>치커리사과겉절이</td>\n",
       "      <td>양념깻잎지</td>\n",
       "      <td>포기김치</td>\n",
       "      <td></td>\n",
       "      <td></td>\n",
       "    </tr>\n",
       "    <tr>\n",
       "      <th>2</th>\n",
       "      <td>2017</td>\n",
       "      <td>52</td>\n",
       "      <td>수</td>\n",
       "      <td>중식</td>\n",
       "      <td>육개장</td>\n",
       "      <td>사천식칠리탕수육</td>\n",
       "      <td>카레라이스</td>\n",
       "      <td>멸치꽈리볶음</td>\n",
       "      <td>사과단감샐러드</td>\n",
       "      <td>훈제오리야채겨자무침</td>\n",
       "      <td>콩나물매콤무침</td>\n",
       "      <td>포기김치</td>\n",
       "      <td></td>\n",
       "      <td></td>\n",
       "      <td></td>\n",
       "    </tr>\n",
       "  </tbody>\n",
       "</table>\n",
       "</div>"
      ],
      "text/plain": [
       "     년도  주차 요일  구분    메인1       메인2     메인3      메인4      메인5         메인6  \\\n",
       "1  2017  52  화  중식  황태미역국    매콤제육볶음  해물볶음우동  팽이맛살계란전   양상추샐러드        흑임자D   \n",
       "2  2017  52  수  중식    육개장  사천식칠리탕수육   카레라이스   멸치꽈리볶음  사과단감샐러드  훈제오리야채겨자무침   \n",
       "\n",
       "        메인7    메인8   메인9 메인10 Unnamed: 14  \n",
       "1  치커리사과겉절이  양념깻잎지  포기김치                   \n",
       "2   콩나물매콤무침   포기김치                         "
      ]
     },
     "execution_count": 30,
     "metadata": {},
     "output_type": "execute_result"
    }
   ],
   "source": [
    "import pandas as pd\n",
    "menus = pd.read_csv('data/muyong_menus.csv', encoding='ms949')\n",
    "menus = menus.dropna(subset=['메인1', '메인2'])\n",
    "menus = menus.fillna('')  # NaN 값을 지운다\n",
    "menus.head(2)"
   ]
  },
  {
   "cell_type": "code",
   "execution_count": 31,
   "metadata": {},
   "outputs": [
    {
     "data": {
      "text/plain": [
       "(25861,\n",
       " ['황태미역국',\n",
       "  '육개장',\n",
       "  '중국식해물볶음밥',\n",
       "  '사골떡국&김가루',\n",
       "  '소고기무국&당면사리',\n",
       "  '햄부대찌개',\n",
       "  '참치고추장찌개',\n",
       "  '참치호박고추장찌개',\n",
       "  '소고기무국',\n",
       "  '스팸김치찌개'])"
      ]
     },
     "execution_count": 31,
     "metadata": {},
     "output_type": "execute_result"
    }
   ],
   "source": [
    "# DataFrame 에서 Token 추출하기\n",
    "tokens = []\n",
    "for _ in menus.columns[4:]:\n",
    "    tokens += menus[_].values.tolist()\n",
    "len(tokens), tokens[:10]"
   ]
  },
  {
   "cell_type": "code",
   "execution_count": 32,
   "metadata": {},
   "outputs": [
    {
     "name": "stdout",
     "output_type": "stream",
     "text": [
      "2903\n"
     ]
    },
    {
     "data": {
      "text/plain": [
       "'얼큰민물새우무국 킹소시지 얼큰짬뽕 씨앗떡강정 볼어묵메추리알조림 만두계란 애호박맛살볶음 햄피망스파게티 사과푸실리샐러드 근대나물 열무된장국 간장깻잎지 라면사리 팽이유부미소국 하와이언함박스테이크 오징어꽃게콩나물찜 카레소스 딸기요거트D 우묵채오이무침 탕수강정 버섯콩나물밥 직화동태알탕 물파래옥수수튀김 상기 시금치나물무침 매콤두부조림 펜네비엔나조림 유부가쓰오국 타코야끼 스팸구이 오징어젓풋고추무침 돈육청경채굴소스볶음 꽃맛살방울토마토샐러드 바몬드카레라이스 에그사과샌드위치 순살삼치구이 마늘쫑햄볶음 소고기민찌 흑미밥 너비아니 참치김밥 어묵조림 오이미'"
      ]
     },
     "execution_count": 32,
     "metadata": {},
     "output_type": "execute_result"
    }
   ],
   "source": [
    "import re\n",
    "result = []\n",
    "for _ in tokens:\n",
    "    _temp = re.findall(r\"\\w+\", _)\n",
    "    if _temp:  result += _temp\n",
    "result = list(set(result))\n",
    "print(len(result))  # 중복 필터링 갯수\n",
    "tokens = \" \".join(result)\n",
    "tokens[:300]"
   ]
  },
  {
   "cell_type": "markdown",
   "metadata": {},
   "source": [
    "# **word piece model 로 유효값 높은 Token 추출하기**\n",
    "## **1 단어 Token 들 중복 수집하기**"
   ]
  },
  {
   "cell_type": "code",
   "execution_count": 34,
   "metadata": {},
   "outputs": [
    {
     "name": "stderr",
     "output_type": "stream",
     "text": [
      "/home/markbaum/Python/nltk/lib/python3.6/site-packages/jpype/_core.py:210: UserWarning: \n",
      "-------------------------------------------------------------------------------\n",
      "Deprecated: convertStrings was not specified when starting the JVM. The default\n",
      "behavior in JPype will be False starting in JPype 0.8. The recommended setting\n",
      "for new code is convertStrings=False.  The legacy value of True was assumed for\n",
      "this session. If you are a user of an application that reported this warning,\n",
      "please file a ticket with the developer.\n",
      "-------------------------------------------------------------------------------\n",
      "\n",
      "  \"\"\")\n"
     ]
    },
    {
     "data": {
      "text/plain": [
       "(2903, 8965)"
      ]
     },
     "execution_count": 34,
     "metadata": {},
     "output_type": "execute_result"
    }
   ],
   "source": [
    "# result 단어 중 중복 갯수들 묶어보기\n",
    "tokens = tokens.split(' ')\n",
    "tokens = list(set(tokens))\n",
    "tokenText = ' '.join(tokens)\n",
    "\n",
    "from konlpy.tag import Okt\n",
    "# Okt().pos(\"한겨레나눔백반볶음밥\")\n",
    "tokenWords = Okt().morphs(tokenText)\n",
    "len(tokens), len(tokenWords)"
   ]
  },
  {
   "cell_type": "markdown",
   "metadata": {},
   "source": [
    "# **작업의 Plan**\n",
    "1. 음절로 token 을 나눈 뒤, 2, 3 Token 중 가치높은 묶음 찾기\n",
    "1. 유효값은 5개, 4개, 3개, 2개 순서로 작업\n",
    "1. **유효값이 큰 내용** 부터 추린 후, **작은 값에는 새로운 값만** 추출하며 유효값 찾기"
   ]
  },
  {
   "cell_type": "code",
   "execution_count": 6,
   "metadata": {},
   "outputs": [],
   "source": [
    "# 요리 카테고리로 자료가 묶임\n",
    "# 국, 밥, \n",
    "# 육\n",
    "# 조림, 튀김, 샐러드, 무침, 볶음, 잡채\n",
    "# 소스\n",
    "\n",
    "# QutaGram ~ UniGram 순서대로 유효값 찾기\n",
    "# 결과값은 휴리스틱으로 유용한 결과값 찾기\n",
    "# 1. 무 국 밥"
   ]
  },
  {
   "cell_type": "markdown",
   "metadata": {},
   "source": [
    "## **1 유용한 음절 찾기**\n",
    "1. 유효한 음절은 **꼭 1개의 의미만** 포함해야 한다 (규칙!!)\n",
    "1. 2개 이상 포함되지 않도록 기준 단어를 작업해야 한다\n",
    "1 **5개** 는 유효값이 1개가 아니어서 Pass\n",
    "1. **4개 ~ 1개** 까지 **휴리스틱 방식** 으로 자료 찾기"
   ]
  },
  {
   "cell_type": "code",
   "execution_count": 35,
   "metadata": {},
   "outputs": [],
   "source": [
    "%matplotlib inline\n",
    "from matplotlib import rc, rcParams\n",
    "import matplotlib.pyplot as plt\n",
    "rc('font', family=['NanumGothic','Malgun Gothic']) # 한글의 표시\n",
    "rcParams['axes.unicode_minus'] = False             # '-' 표시의 처리\n",
    "\n",
    "# token 을 어절로 구분\n",
    "def ngram(token, n):\n",
    "    return [token[_: _+n] for _ in range(0, (len(token)-n+1))]"
   ]
  },
  {
   "cell_type": "code",
   "execution_count": 39,
   "metadata": {},
   "outputs": [
    {
     "data": {
      "image/png": "[encoded data removed]",
      "text/plain": [
       "<Figure size 1080x216 with 1 Axes>"
      ]
     },
     "metadata": {
      "needs_background": "light"
     },
     "output_type": "display_data"
    }
   ],
   "source": [
    "# N-Gram 유용한 값 찾기\n",
    "n_gram    = 2\n",
    "tokeNgram = []\n",
    "for _ in tokens:\n",
    "    tokeNgram += ngram(_, n_gram)\n",
    "\n",
    "from nltk import Text\n",
    "ngramObj = Text(tokeNgram)   # [list] 객체로 Text 생성\n",
    "plt.figure(figsize=(15, 3))  # 파레트 설정\n",
    "ngramObj.plot(70)"
   ]
  },
  {
   "cell_type": "markdown",
   "metadata": {},
   "source": [
    "## **2 QutaGram 유용한 음절 찾기**\n",
    "**4개 ~ 1개** 까지 **휴리스틱 방식** 으로 자료 찾기"
   ]
  },
  {
   "cell_type": "code",
   "execution_count": 9,
   "metadata": {},
   "outputs": [
    {
     "data": {
      "image/png": "[encoded data removed]",
      "text/plain": [
       "<Figure size 1080x216 with 1 Axes>"
      ]
     },
     "metadata": {
      "needs_background": "light"
     },
     "output_type": "display_data"
    }
   ],
   "source": [
    "# N-Gram 유용한 값 찾기\n",
    "n_gram    = 4\n",
    "tokeNgram = []\n",
    "for _ in tokens:\n",
    "    tokeNgram += ngram(_, n_gram)\n",
    "\n",
    "from nltk import Text\n",
    "ngramObj = Text(tokeNgram)   # [list] 객체로 Text 생성\n",
    "plt.figure(figsize=(15, 3))  # 파레트 설정\n",
    "ngramObj.plot(70)"
   ]
  },
  {
   "cell_type": "code",
   "execution_count": 10,
   "metadata": {},
   "outputs": [
    {
     "data": {
      "text/plain": [
       "[('메추리알', 40),\n",
       " ('소스볶음', 33),\n",
       " ('샌드위치', 27),\n",
       " ('두부찌개', 27),\n",
       " ('고추장무', 26),\n",
       " ('추장무침', 26),\n",
       " ('브로콜리', 23),\n",
       " ('매콤조림', 23),\n",
       " ('굴소스볶', 23),\n",
       " ('야채볶음', 22),\n",
       " ('도토리묵', 21),\n",
       " ('스테이크', 20),\n",
       " ('콩나물국', 20),\n",
       " ('칠리볶음', 20),\n",
       " ('순두부찌', 20),\n",
       " ('김치볶음', 18),\n",
       " ('고추장볶', 18),\n",
       " ('추장볶음', 18),\n",
       " ('매콤볶음', 17),\n",
       " ('나물무침', 17),\n",
       " ('콩나물찜', 17),\n",
       " ('칠리소스', 16),\n",
       " ('고추양파', 16),\n",
       " ('김치찌개', 16),\n",
       " ('피망볶음', 15),\n",
       " ('꽈리장조', 14),\n",
       " ('리장조림', 14),\n",
       " ('파인애플', 14),\n",
       " ('치볶음밥', 14),\n",
       " ('채비빔밥', 14),\n",
       " ('고추장찌', 14),\n",
       " ('추장찌개', 14),\n",
       " ('오징어무', 13),\n",
       " ('데리야끼', 13),\n",
       " ('쌈장무침', 13),\n",
       " ('감자조림', 13),\n",
       " ('동그랑땡', 13),\n",
       " ('채볶음밥', 13),\n",
       " ('겨자무침', 12),\n",
       " ('야채비빔', 12),\n",
       " ('두부구이', 12),\n",
       " ('브로컬리', 12),\n",
       " ('장불고기', 12),\n",
       " ('어묵조림', 11),\n",
       " ('야채무침', 11),\n",
       " ('오징어젓', 11),\n",
       " ('채초무침', 11),\n",
       " ('직화산적', 11),\n",
       " ('치커리유', 11),\n",
       " ('커리유자', 11),\n",
       " ('아삭고추', 11),\n",
       " ('리소스볶', 10),\n",
       " ('땅콩강정', 10),\n",
       " ('된장무침', 10),\n",
       " ('수제비국', 10),\n",
       " ('미나리초', 10),\n",
       " ('어묵칠리', 10),\n",
       " ('리샐러드', 10),\n",
       " ('부추무침', 10),\n",
       " ('두부조림', 10),\n",
       " ('스파게티', 10),\n",
       " ('들깨볶음', 10),\n",
       " ('어묵꽈리', 10),\n",
       " ('꽈리고추', 10),\n",
       " ('계란말이', 10),\n",
       " ('소스무침', 10),\n",
       " ('찹스테이', 9),\n",
       " ('맛살겨자', 9),\n",
       " ('꼬치어묵', 9),\n",
       " ('꽈리볶음', 9),\n",
       " ('매콤오징', 9),\n",
       " ('콤오징어', 9),\n",
       " ('후랑크소', 9),\n",
       " ('어묵볶음', 9),\n",
       " ('버섯탕수', 9),\n",
       " ('나리초무', 9),\n",
       " ('리초무침', 9),\n",
       " ('유부팽이', 9),\n",
       " ('무말랭이', 9),\n",
       " ('야채초무', 9),\n",
       " ('느타리버', 9),\n",
       " ('타리버섯', 9),\n",
       " ('맛살계란', 9),\n",
       " ('고기버섯', 9),\n",
       " ('순살치킨', 9),\n",
       " ('계란꽈리', 8),\n",
       " ('치킨까스', 8),\n",
       " ('로콜리볶', 8),\n",
       " ('콜리볶음', 8),\n",
       " ('이초무침', 8),\n",
       " ('수제돈육', 8),\n",
       " ('된장찌개', 8),\n",
       " ('살초무침', 8),\n",
       " ('두루치기', 8),\n",
       " ('버섯만두', 8),\n",
       " ('만두전골', 8),\n",
       " ('감자튀김', 8),\n",
       " ('어묵고추', 8),\n",
       " ('추겉절이', 8),\n",
       " ('육고추장', 8),\n",
       " ('얼큰버섯', 8),\n",
       " ('미소장국', 8),\n",
       " ('푸실리샐', 8),\n",
       " ('실리샐러', 8),\n",
       " ('오이무침', 8),\n",
       " ('우거지탕', 8),\n",
       " ('오징어어', 8),\n",
       " ('소스조림', 8),\n",
       " ('새콤달콤', 8),\n",
       " ('채샐러드', 7),\n",
       " ('콩나물무', 7),\n",
       " ('야채계란', 7),\n",
       " ('날도시락', 7),\n",
       " ('훈제오리', 7),\n",
       " ('만두튀김', 7),\n",
       " ('초고추장', 7),\n",
       " ('미트볼조', 7),\n",
       " ('트볼조림', 7),\n",
       " ('호박부추', 7),\n",
       " ('꽃게해물', 7),\n",
       " ('해물콩나', 7),\n",
       " ('물콩나물', 7),\n",
       " ('송이볶음', 7),\n",
       " ('고추장조', 7),\n",
       " ('추장조림', 7),\n",
       " ('란장조림', 7),\n",
       " ('양파고추', 7),\n",
       " ('매콤강정', 7),\n",
       " ('맛살초무', 7),\n",
       " ('등심돈까', 7),\n",
       " ('심돈까스', 7),\n",
       " ('고기두부', 7),\n",
       " ('부대찌개', 7),\n",
       " ('랑크소시', 7),\n",
       " ('크소시지', 7),\n",
       " ('추샐러드', 7),\n",
       " ('묵고추장', 7),\n",
       " ('징어젓무', 7),\n",
       " ('랭이무침', 7),\n",
       " ('맛살브로', 7),\n",
       " ('스볶음밥', 7),\n",
       " ('맛살볶음', 7),\n",
       " ('소고기버', 7),\n",
       " ('후라이드', 7),\n",
       " ('징어어묵', 7),\n",
       " ('콘샐러드', 7),\n",
       " ('채고추장', 7),\n",
       " ('살샐러드', 7),\n",
       " ('파프리카', 7),\n",
       " ('우불고기', 7),\n",
       " ('새송이초', 7),\n",
       " ('엿장조림', 7),\n",
       " ('매콤무침', 7),\n",
       " ('간장불고', 7),\n",
       " ('유자소스', 7),\n",
       " ('구이양념', 7),\n",
       " ('버섯볶음', 7),\n",
       " ('추리알장', 7),\n",
       " ('리알장조', 7),\n",
       " ('알장조림', 7),\n",
       " ('란꽈리장', 6),\n",
       " ('야채샐러', 6),\n",
       " ('쫄면콩나', 6),\n",
       " ('면콩나물', 6),\n",
       " ('날소시지', 6),\n",
       " ('숙주맛살', 6),\n",
       " ('살겨자무', 6),\n",
       " ('땅콩볶음', 6),\n",
       " ('새송이볶', 6),\n",
       " ('얼큰소고', 6),\n",
       " ('큰소고기', 6),\n",
       " ('콩나물해', 6),\n",
       " ('나물해장', 6),\n",
       " ('물해장국', 6),\n",
       " ('계란장조', 6),\n",
       " ('미역오이', 6),\n",
       " ('생야채비', 6),\n",
       " ('알감자조', 6),\n",
       " ('호박고추', 6),\n",
       " ('초회무침', 6),\n",
       " ('묵칠리볶', 6),\n",
       " ('섯만두전', 6),\n",
       " ('상추샐러', 6),\n",
       " ('닭가슴살', 6),\n",
       " ('말랭이무', 6),\n",
       " ('얼큰오징', 6),\n",
       " ('큰오징어', 6),\n",
       " ('호박볶음', 6),\n",
       " ('후랑크봉', 6),\n",
       " ('랑크봉어', 6),\n",
       " ('크봉어묵', 6),\n",
       " ('김치두부', 6),\n",
       " ('곤약장조', 6),\n",
       " ('약장조림', 6),\n",
       " ('열무김치', 6),\n",
       " ('호박감자', 6),\n",
       " ('어묵매콤', 6),\n",
       " ('마늘쫑볶', 6),\n",
       " ('늘쫑볶음', 6),\n",
       " ('미역줄기', 6),\n",
       " ('소고기우', 6),\n",
       " ('나물볶음', 6),\n",
       " ('맛살샐러', 6),\n",
       " ('강정소스', 6),\n",
       " ('나물비빔', 6),\n",
       " ('물비빔밥', 6),\n",
       " ('홍합짬뽕', 6),\n",
       " ('함박스테', 6),\n",
       " ('쑥갓무침', 6),\n",
       " ('날치알참', 6),\n",
       " ('치알참치', 6),\n",
       " ('새송이곤', 6),\n",
       " ('송이곤약', 6),\n",
       " ('돈육김치', 6),\n",
       " ('무쌈말이', 5),\n",
       " ('추리알곤', 5),\n",
       " ('리알곤약', 5),\n",
       " ('치어묵국', 5),\n",
       " ('소시지구', 5),\n",
       " ('시지구이', 5),\n",
       " ('오이초무', 5),\n",
       " ('갈비떡찜', 5),\n",
       " ('참치호박', 5),\n",
       " ('감자고추', 5),\n",
       " ('자고추장', 5),\n",
       " ('배추김치', 5),\n",
       " ('치겉절이', 5),\n",
       " ('엔나칠리', 5),\n",
       " ('해물볶음', 5),\n",
       " ('돈육숙주', 5),\n",
       " ('산적매콤', 5),\n",
       " ('어묵맛살', 5),\n",
       " ('박고추장', 5),\n",
       " ('추리알샐', 5),\n",
       " ('리알샐러', 5),\n",
       " ('알샐러드', 5),\n",
       " ('야채샌드', 5),\n",
       " ('채샌드위', 5),\n",
       " ('알어묵조', 5),\n",
       " ('산적구이', 5),\n",
       " ('해물동그', 5),\n",
       " ('물동그랑', 5),\n",
       " ('새송이버', 5),\n",
       " ('송이버섯', 5),\n",
       " ('들깨무침', 5),\n",
       " ('비엔나메', 5),\n",
       " ('엔나메추', 5),\n",
       " ('나메추리', 5),\n",
       " ('채불고기', 5),\n",
       " ('고기볶음', 5),\n",
       " ('두부매콤', 5),\n",
       " ('부매콤조', 5),\n",
       " ('새우튀김', 5),\n",
       " ('튀김우동', 5),\n",
       " ('팽이가쓰', 5),\n",
       " ('양상추샐', 5),\n",
       " ('참나물생', 5),\n",
       " ('나물생채', 5),\n",
       " ('비빔국수', 5),\n",
       " ('양념조림', 5),\n",
       " ('김치순두', 5),\n",
       " ('치순두부', 5),\n",
       " ('매콤등갈', 5),\n",
       " ('콤등갈비', 5),\n",
       " ('살새송이', 5),\n",
       " ('참나물무', 5),\n",
       " ('참치김치', 5),\n",
       " ('제육고추', 5),\n",
       " ('어콩나물', 5),\n",
       " ('매콤제육', 5),\n",
       " ('리유자청', 5),\n",
       " ('양파볶음', 5),\n",
       " ('사각어묵', 5),\n",
       " ('바베큐소', 5),\n",
       " ('베큐소스', 5),\n",
       " ('버섯찌개', 5),\n",
       " ('김가루무', 5),\n",
       " ('가루무침', 5),\n",
       " ('고기우거', 5),\n",
       " ('기우거지', 5),\n",
       " ('리고추장', 5),\n",
       " ('매콤어묵', 5),\n",
       " ('오이양파', 5),\n",
       " ('박스테이', 5),\n",
       " ('어묵간장', 5),\n",
       " ('마카로니', 5),\n",
       " ('지콩나물', 5),\n",
       " ('로컬리볶', 5),\n",
       " ('컬리볶음', 5),\n",
       " ('추리알새', 5),\n",
       " ('리알새송', 5),\n",
       " ('알새송이', 5),\n",
       " ('숙주나물', 5),\n",
       " ('그랑땡전', 5),\n",
       " ('해물순두', 5),\n",
       " ('물순두부', 5),\n",
       " ('돈육깐풍', 5),\n",
       " ('멸치볶음', 5),\n",
       " ('해물까스', 5),\n",
       " ('오이맛살', 5),\n",
       " ('부구이양', 5),\n",
       " ('땅콩조림', 5),\n",
       " ('부추고추', 5),\n",
       " ('돈육탕수', 5),\n",
       " ('돈사태떡', 4),\n",
       " ('칠리탕수', 4),\n",
       " ('폭찹스테', 4),\n",
       " ('감자고로', 4),\n",
       " ('자고로케', 4),\n",
       " ('고로케튀', 4),\n",
       " ('로케튀김', 4),\n",
       " ('옛날소시', 4),\n",
       " ('소시지전', 4),\n",
       " ('무식오징', 4),\n",
       " ('식오징어', 4),\n",
       " ('동그랑떙', 4),\n",
       " ('그랑떙전', 4),\n",
       " ('후랑크브', 4),\n",
       " ('랑크브로', 4),\n",
       " ('건파래실', 4),\n",
       " ('파래실치', 4),\n",
       " ('쌀떡볶이', 4),\n",
       " ('제육김치', 4),\n",
       " ('옛날도시', 4),\n",
       " ('오이고추', 4),\n",
       " ('고추쌈장', 4),\n",
       " ('추쌈장무', 4),\n",
       " ('오징어볶', 4),\n",
       " ('징어볶음', 4),\n",
       " ('살참나물', 4),\n",
       " ('참나물초', 4),\n",
       " ('도라지오', 4),\n",
       " ('라지오이', 4),\n",
       " ('유부우동', 4),\n",
       " ('육땅콩강', 4),\n",
       " ('부추장떡', 4),\n",
       " ('깻순볶음', 4),\n",
       " ('돈육버섯', 4),\n",
       " ('버섯잡채', 4),\n",
       " ('이된장국', 4),\n",
       " ('소고기콩', 4),\n",
       " ('고기콩나', 4),\n",
       " ('기콩나물', 4),\n",
       " ('김치겉절', 4),\n",
       " ('비엔나칠', 4),\n",
       " ('새콤무침', 4),\n",
       " ('고추무침', 4),\n",
       " ('볶음우동', 4),\n",
       " ('육숙주굴', 4),\n",
       " ('숙주굴소', 4),\n",
       " ('주굴소스', 4),\n",
       " ('철판볶음', 4),\n",
       " ('적매콤조', 4),\n",
       " ('감자수제', 4),\n",
       " ('자수제비', 4),\n",
       " ('지야채볶', 4),\n",
       " ('게맛살초', 4),\n",
       " ('피망잡채', 4),\n",
       " ('무미나리', 4),\n",
       " ('땅콩콩조', 4),\n",
       " ('콩콩조림', 4),\n",
       " ('소고기두', 4),\n",
       " ('돈사태찜', 4),\n",
       " ('갈비조림', 4),\n",
       " ('파채불고', 4),\n",
       " ('호박두부', 4),\n",
       " ('부팽이가', 4),\n",
       " ('이가쓰오', 4),\n",
       " ('가쓰오국', 4),\n",
       " ('미트볼볼', 4),\n",
       " ('트볼볼어', 4),\n",
       " ('볼볼어묵', 4),\n",
       " ('동겉절이', 4),\n",
       " ('깻잎볶음', 4),\n",
       " ('사골우거', 4),\n",
       " ('골우거지', 4),\n",
       " ('등갈비찜', 4),\n",
       " ('소라살새', 4),\n",
       " ('라살새송', 4),\n",
       " ('햄소시지', 4),\n",
       " ('지김치찌', 4),\n",
       " ('마파두부', 4),\n",
       " ('돈육고추', 4),\n",
       " ('고추장떡', 4),\n",
       " ('봉어묵칠', 4),\n",
       " ('계란야채', 4),\n",
       " ('란야채볶', 4),\n",
       " ('갈비산적', 4),\n",
       " ('태콩나물', 4),\n",
       " ('살브로콜', 4),\n",
       " ('만두계란', 4),\n",
       " ('큰버섯만', 4),\n",
       " ('오리훈제', 4),\n",
       " ('날치알김', 4),\n",
       " ('치알김치', 4),\n",
       " ('너비아니', 4),\n",
       " ('채굴소스', 4),\n",
       " ('새우무국', 4),\n",
       " ('돈채피망', 4),\n",
       " ('피망굴소', 4)]"
      ]
     },
     "execution_count": 10,
     "metadata": {},
     "output_type": "execute_result"
    }
   ],
   "source": [
    "# ngramComm = [_[0]  for _ in ngramObj.vocab().most_common(400)]\n",
    "# ngramComm\n",
    "ngramObj.vocab().most_common(400)"
   ]
  },
  {
   "cell_type": "code",
   "execution_count": 11,
   "metadata": {},
   "outputs": [
    {
     "data": {
      "text/plain": [
       "'가루무침 가쓰오국 간장불고 갈비떡찜 갈비산적 갈비조림 감자고로 감자고추 감자수제 감자조림 감자튀김 강정소스 건파래실 게맛살초 겨자무침 계란꽈리 계란말이 계란야채 계란장조 고기두부 고기버섯 고기볶음 고기우거 고기콩나 고로케튀 고추무침 고추쌈장 고추양파 고추장떡 고추장무 고추장볶 고추장조 고추장찌 곤약장조 골우거지 구이양념 굴소스볶 그랑땡전 그랑떙전 기우거지 기콩나물 김가루무 김치겉절 김치두부 김치볶음 김치순두 김치찌개 깻순볶음 깻잎볶음 꼬치어묵 꽃게해물 꽈리고추 꽈리볶음 꽈리장조 나리초무 나메추리 나물무침 나물볶음 나물비빔 나물생채 나물해장 날도시락 날소시지 날치알김 날치알참 너비아니 느타리버 늘쫑볶음 닭가슴살 데리야끼 도라지오 도토리묵 돈사태떡 돈사태찜 돈육고추 돈육김치 돈육깐풍 돈육버섯 돈육숙주 돈육탕수 돈채피망 동겉절이 동그랑땡 동그랑떙 된장무침 된장찌개 두루치기 두부구이 두부매콤 두부조림 두부찌개 들깨무침 들깨볶음 등갈비찜 등심돈까 땅콩강정 땅콩볶음 땅콩조림 땅콩콩조 라살새송 라지오이 란꽈리장 란야채볶 란장조림 랑크봉어 랑크브로 랑크소시 랭이무침 로컬리볶 로케튀김 로콜리볶 리고추장 리샐러드 리소스볶 리알곤약 리알새송 리알샐러 리알장조 리유자청 리장조림 리초무침 마늘쫑볶 마카로니 마파두부 만두계란 만두전골 만두튀김 말랭이무 맛살겨자 맛살계란 맛살볶음 맛살브로 맛살샐러 맛살초무 매콤강정 매콤등갈 매콤무침 매콤볶음 매콤어묵 매콤오징 매콤제육 매콤조림 메추리알 면콩나물 멸치볶음 무말랭이 무미나리 무식오징 무쌈말이 묵고추장 묵칠리볶 물동그랑 물비빔밥 물순두부 물콩나물 물해장국 미나리초 미소장국 미역오이 미역줄기 미트볼볼 미트볼조 바베큐소 박고추장 박스테이 배추김치 버섯만두 버섯볶음 버섯잡채 버섯찌개 버섯탕수 베큐소스 볶음우동 볼볼어묵 봉어묵칠 부구이양 부대찌개 부매콤조 부추고추 부추무침 부추장떡 부팽이가 브로컬리 브로콜리 비빔국수 비엔나메 비엔나칠 사각어묵 사골우거 산적구이 산적매콤 살겨자무 살브로콜 살새송이 살샐러드 살참나물 살초무침 상추샐러 새송이곤 새송이버 새송이볶 새송이초 새우무국 새우튀김 새콤달콤 새콤무침 샌드위치 생야채비 섯만두전 소고기두 소고기버 소고기우 소고기콩 소라살새 소스무침 소스볶음 소스조림 소시지구 소시지전 송이곤약 송이버섯 송이볶음 수제돈육 수제비국 숙주굴소 숙주나물 숙주맛살 순두부찌 순살치킨 스볶음밥 스테이크 스파게티 시지구이 식오징어 실리샐러 심돈까스 쌀떡볶이 쌈장무침 쑥갓무침 아삭고추 알감자조 알새송이 알샐러드 알어묵조 알장조림 야채계란 야채무침 야채볶음 야채비빔 야채샌드 야채샐러 야채초무 약장조림 양념조림 양상추샐 양파고추 양파볶음 어묵간장 어묵고추 어묵꽈리 어묵맛살 어묵매콤 어묵볶음 어묵조림 어묵칠리 어콩나물 얼큰버섯 얼큰소고 얼큰오징 엔나메추 엔나칠리 열무김치 엿장조림 옛날도시 옛날소시 오리훈제 오이고추 오이맛살 오이무침 오이양파 오이초무 오징어무 오징어볶 오징어어 오징어젓 우거지탕 우불고기 유부우동 유부팽이 유자소스 육고추장 육땅콩강 육숙주굴 이가쓰오 이된장국 이초무침 자고로케 자고추장 자수제비 장불고기 적매콤조 제육고추 제육김치 주굴소스 지김치찌 지야채볶 지콩나물 직화산적 징어볶음 징어어묵 징어젓무 쫄면콩나 참나물무 참나물생 참나물초 참치김치 참치호박 찹스테이 채고추장 채굴소스 채볶음밥 채불고기 채비빔밥 채샌드위 채샐러드 채초무침 철판볶음 초고추장 초회무침 추겉절이 추리알곤 추리알새 추리알샐 추리알장 추샐러드 추쌈장무 추장무침 추장볶음 추장조림 추장찌개 치겉절이 치볶음밥 치순두부 치알김치 치알참치 치어묵국 치커리유 치킨까스 칠리볶음 칠리소스 칠리탕수 커리유자 컬리볶음 콘샐러드 콜리볶음 콤등갈비 콤오징어 콩나물국 콩나물무 콩나물찜 콩나물해 콩콩조림 크봉어묵 크소시지 큰버섯만 큰소고기 큰오징어 타리버섯 태콩나물 튀김우동 트볼볼어 트볼조림 파래실치 파인애플 파채불고 파프리카 팽이가쓰 폭찹스테 푸실리샐 피망굴소 피망볶음 피망잡채 함박스테 해물까스 해물동그 해물볶음 해물순두 해물콩나 햄소시지 호박감자 호박고추 호박두부 호박볶음 호박부추 홍합짬뽕 후라이드 후랑크봉 후랑크브 후랑크소 훈제오리'"
      ]
     },
     "execution_count": 11,
     "metadata": {},
     "output_type": "execute_result"
    }
   ],
   "source": [
    "ngramComm = [_[0]  for _ in ngramObj.vocab().most_common(400)]\n",
    "\" \".join(list(sorted(ngramComm)))"
   ]
  }
 ],
 "metadata": {
  "kernelspec": {
   "display_name": "Python 3",
   "language": "python",
   "name": "python3"
  },
  "language_info": {
   "codemirror_mode": {
    "name": "ipython",
    "version": 3
   },
   "file_extension": ".py",
   "mimetype": "text/x-python",
   "name": "python",
   "nbconvert_exporter": "python",
   "pygments_lexer": "ipython3",
   "version": "3.6.3"
  }
 },
 "nbformat": 4,
 "nbformat_minor": 4
}
