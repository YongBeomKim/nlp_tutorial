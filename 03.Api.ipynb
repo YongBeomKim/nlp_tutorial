{
 "cells": [
  {
   "cell_type": "markdown",
   "metadata": {},
   "source": [
    "# **식품안전나라**\n",
    "ex) http://openapi.foodsafetykorea.go.kr/api/인증키/I0580/xml/1/20 \n",
    "\n",
    "1. **[Open API 메인 페이지](https://www.foodsafetykorea.go.kr/api/userApiKey.do#)**, **[API 활용 방법](https://www.foodsafetykorea.go.kr/api/howToUseApi.do?menu_grp=MENU_GRP34&menu_no=687)**, **[API 이용절차](https://www.foodsafetykorea.go.kr/api/board/boardDetail.do)**\n",
    "1. **[영양사협회 영양소 섭취기준표](http://www.kns.or.kr/FileRoom/FileRoom_view.asp?mode=mod&restring=%252FFileRoom%252FFileRoom.asp%253Fxsearch%253D0%253D%253Dxrow%253D10%253D%253DBoardID%253DKdr%253D%253Dpage%253D1&idx=79&page=1&BoardID=Kdr&xsearch=1&cn_search)**\n",
    "1. key : \"8acba1823ae742359560\""
   ]
  },
  {
   "cell_type": "markdown",
   "metadata": {},
   "source": [
    "## **1 함수로 만든내용 확인**\n",
    "식품의약처 API 내용 활용함수 : **Json / DataFrame** 으로 출력\n",
    "1. **'C005' :** '바코드제품정보'\n",
    "1. **'I2570' :** '유통바코드'\n",
    "1. **'I0490' :** '회수판매중지'\n",
    "1. **'I0750' :** '식품영양정보DB'\n",
    "1. **'COOKRCP01' :** '조리식품_레시피_DB'"
   ]
  },
  {
   "cell_type": "code",
   "execution_count": 1,
   "metadata": {},
   "outputs": [
    {
     "data": {
      "text/plain": [
       "[('I0750', '식품영양정보DB'),\n",
       " ('COOKRCP01', '조리식품_레시피_DB'),\n",
       " ('I0490', '회수판매중지'),\n",
       " ('C005', '바코드제품정보'),\n",
       " ('I2570', '유통바코드')]"
      ]
     },
     "execution_count": 1,
     "metadata": {},
     "output_type": "execute_result"
    }
   ],
   "source": [
    "import pandas as pd\n",
    "from tqdm import tqdm\n",
    "from momukji import FoodSafe\n",
    "[(_, FoodSafe().apiKey[_]['name'])  for _ in FoodSafe().apiKey.keys()]"
   ]
  },
  {
   "cell_type": "code",
   "execution_count": 2,
   "metadata": {},
   "outputs": [
    {
     "name": "stdout",
     "output_type": "stream",
     "text": [
      "******** 전체 Data 갯수 : 441 ********\n",
      "CPU times: user 210 ms, sys: 27.1 ms, total: 237 ms\n",
      "Wall time: 4.6 s\n"
     ]
    }
   ],
   "source": [
    "%%time\n",
    "result, foodId = [], 'I0490'  # 회수요청제품 (400개)\n",
    "data = FoodSafe().getData(foodId, 1, 1000, FoodSafe().apiKey[foodId]['cols'], display=True)\n",
    "data.to_excel(\"data/food_recall.xls\", index=None)"
   ]
  },
  {
   "cell_type": "code",
   "execution_count": 4,
   "metadata": {},
   "outputs": [
    {
     "name": "stdout",
     "output_type": "stream",
     "text": [
      "******** 전체 Data 갯수 : 13,824 ********\n",
      "CPU times: user 28 ms, sys: 693 µs, total: 28.7 ms\n",
      "Wall time: 23.4 s\n"
     ]
    }
   ],
   "source": [
    "%%time\n",
    "result, foodId = [], 'I0750' # 식품 영양정보\n",
    "_ = FoodSafe().getData(foodId, 1, 2, FoodSafe().apiKey[foodId]['cols'], display=True)\n",
    "# for _ in tqdm(range(1, 13824+1, 1000)):\n",
    "#     result.append(FoodSafe().getData(foodId, _, _+999, FoodSafe().apiKey[foodId]['cols']))    \n",
    "# pd.concat(result).to_excel('data/food_nutrient.xls', index=None)"
   ]
  },
  {
   "cell_type": "code",
   "execution_count": 5,
   "metadata": {},
   "outputs": [
    {
     "name": "stdout",
     "output_type": "stream",
     "text": [
      "******** 전체 Data 갯수 : 1,198 ********\n",
      "CPU times: user 17 ms, sys: 4.14 ms, total: 21.1 ms\n",
      "Wall time: 4.67 s\n"
     ]
    }
   ],
   "source": [
    "%%time\n",
    "result, foodId = [], 'COOKRCP01'  # 레시피 데이터\n",
    "_ = FoodSafe().getData(foodId, 1, 2, FoodSafe().apiKey[foodId]['cols'], display=True)\n",
    "# for _ in tqdm(range(1, 1500+1, 1000)):\n",
    "#     result.append(FoodSafe().getData(foodId, _, _+999, FoodSafe().apiKey[foodId]['cols']))\n",
    "# pd.concat(result).to_excel('data/food_recipe_info.xls', index=None)"
   ]
  },
  {
   "cell_type": "code",
   "execution_count": 7,
   "metadata": {},
   "outputs": [
    {
     "name": "stderr",
     "output_type": "stream",
     "text": [
      "  0%|          | 0/4 [00:00<?, ?it/s]"
     ]
    },
    {
     "name": "stdout",
     "output_type": "stream",
     "text": [
      "******** 전체 Data 갯수 : 100,180 ********\n"
     ]
    },
    {
     "name": "stderr",
     "output_type": "stream",
     "text": [
      "100%|██████████| 4/4 [01:02<00:00, 15.57s/it]\n"
     ]
    },
    {
     "name": "stdout",
     "output_type": "stream",
     "text": [
      "CPU times: user 1.06 s, sys: 63.3 ms, total: 1.12 s\n",
      "Wall time: 1min 18s\n"
     ]
    }
   ],
   "source": [
    "%%time\n",
    "result, foodId = [], 'C005'  # 제품 바코드 번호\n",
    "# _ = FoodSafe().getData(foodId, 1, 2, FoodSafe().apiKey[foodId]['cols'], display=True)\n",
    "# for _ in tqdm(range(1, 100200+1, 1000)):\n",
    "from collections import OrderedDict\n",
    "for _ in tqdm(range(1, 100200+1, 1000)):\n",
    "    result.append(FoodSafe().getData(foodId, _, _+999, \n",
    "            FoodSafe().apiKey[foodId]['cols']).loc[:,\n",
    "                list(OrderedDict(FoodSafe().apiKey['C005']['cols']).values())])\n",
    "pd.concat(result).to_csv('data/food_barcode.csv', index=None)\n",
    "pd.concat(result).to_excel('data/food_barcode.xls', index=None)"
   ]
  },
  {
   "cell_type": "code",
   "execution_count": 9,
   "metadata": {},
   "outputs": [
    {
     "data": {
      "text/html": [
       "<div>\n",
       "<style scoped>\n",
       "    .dataframe tbody tr th:only-of-type {\n",
       "        vertical-align: middle;\n",
       "    }\n",
       "\n",
       "    .dataframe tbody tr th {\n",
       "        vertical-align: top;\n",
       "    }\n",
       "\n",
       "    .dataframe thead th {\n",
       "        text-align: right;\n",
       "    }\n",
       "</style>\n",
       "<table border=\"1\" class=\"dataframe\">\n",
       "  <thead>\n",
       "    <tr style=\"text-align: right;\">\n",
       "      <th></th>\n",
       "      <th>품목보고(신고)번호</th>\n",
       "      <th>보고(신고일)</th>\n",
       "      <th>생산중단일</th>\n",
       "      <th>제품명</th>\n",
       "      <th>유통기한</th>\n",
       "      <th>식품 유형</th>\n",
       "      <th>제조사명</th>\n",
       "      <th>업종</th>\n",
       "      <th>주소</th>\n",
       "      <th>폐업일자</th>\n",
       "      <th>유통바코드</th>\n",
       "    </tr>\n",
       "  </thead>\n",
       "  <tbody>\n",
       "    <tr>\n",
       "      <td>0</td>\n",
       "      <td>195505090011</td>\n",
       "      <td>19950728</td>\n",
       "      <td></td>\n",
       "      <td>매일맛있는진간장골드</td>\n",
       "      <td>실온보관 2년</td>\n",
       "      <td>혼합간장</td>\n",
       "      <td>매일식품주식회사</td>\n",
       "      <td>식품제조가공업</td>\n",
       "      <td>전라남도 순천시 서면 산단1길 16</td>\n",
       "      <td></td>\n",
       "      <td>8801791000055</td>\n",
       "    </tr>\n",
       "    <tr>\n",
       "      <td>1</td>\n",
       "      <td>195505090011</td>\n",
       "      <td>19950728</td>\n",
       "      <td></td>\n",
       "      <td>매일맛있는진간장골드</td>\n",
       "      <td>실온보관 2년</td>\n",
       "      <td>혼합간장</td>\n",
       "      <td>매일식품주식회사</td>\n",
       "      <td>식품제조가공업</td>\n",
       "      <td>전라남도 순천시 서면 산단1길 16</td>\n",
       "      <td></td>\n",
       "      <td>8801791000017</td>\n",
       "    </tr>\n",
       "    <tr>\n",
       "      <td>2</td>\n",
       "      <td>195505090011</td>\n",
       "      <td>19950728</td>\n",
       "      <td></td>\n",
       "      <td>매일맛있는진간장골드</td>\n",
       "      <td>실온보관 2년</td>\n",
       "      <td>혼합간장</td>\n",
       "      <td>매일식품주식회사</td>\n",
       "      <td>식품제조가공업</td>\n",
       "      <td>전라남도 순천시 서면 산단1길 16</td>\n",
       "      <td></td>\n",
       "      <td>8801791000048</td>\n",
       "    </tr>\n",
       "    <tr>\n",
       "      <td>3</td>\n",
       "      <td>19550509001101</td>\n",
       "      <td>20070828</td>\n",
       "      <td>20160603</td>\n",
       "      <td>하나르메진간장</td>\n",
       "      <td>제조일로부터 2년</td>\n",
       "      <td>혼합간장</td>\n",
       "      <td>매일식품주식회사</td>\n",
       "      <td>식품제조가공업</td>\n",
       "      <td>전라남도 순천시 서면 산단1길 16</td>\n",
       "      <td></td>\n",
       "      <td>8801791797511</td>\n",
       "    </tr>\n",
       "    <tr>\n",
       "      <td>4</td>\n",
       "      <td>19550509001115</td>\n",
       "      <td>20080411</td>\n",
       "      <td>20160603</td>\n",
       "      <td>엄가선양념쌈장</td>\n",
       "      <td>제조일로부터 18개월</td>\n",
       "      <td>혼합장</td>\n",
       "      <td>매일식품주식회사</td>\n",
       "      <td>식품제조가공업</td>\n",
       "      <td>전라남도 순천시 서면 산단1길 16</td>\n",
       "      <td></td>\n",
       "      <td>8801791797634</td>\n",
       "    </tr>\n",
       "    <tr>\n",
       "      <td>...</td>\n",
       "      <td>...</td>\n",
       "      <td>...</td>\n",
       "      <td>...</td>\n",
       "      <td>...</td>\n",
       "      <td>...</td>\n",
       "      <td>...</td>\n",
       "      <td>...</td>\n",
       "      <td>...</td>\n",
       "      <td>...</td>\n",
       "      <td>...</td>\n",
       "      <td>...</td>\n",
       "    </tr>\n",
       "    <tr>\n",
       "      <td>995</td>\n",
       "      <td>19720288002639</td>\n",
       "      <td>19840220</td>\n",
       "      <td></td>\n",
       "      <td>오뚜기 골드마요네스</td>\n",
       "      <td>50g : 실온 8개월, 10g : 실온 5개월, 40g : 실온 6개월</td>\n",
       "      <td>마요네즈</td>\n",
       "      <td>주식회사 오뚜기</td>\n",
       "      <td>식품제조가공업</td>\n",
       "      <td>경기도 안양시 동안구 흥안대로 405(평촌동)</td>\n",
       "      <td></td>\n",
       "      <td>8801045969176</td>\n",
       "    </tr>\n",
       "    <tr>\n",
       "      <td>996</td>\n",
       "      <td>19720288002642</td>\n",
       "      <td>19890210</td>\n",
       "      <td></td>\n",
       "      <td>스파게티 소스</td>\n",
       "      <td>제조일로부터 2년</td>\n",
       "      <td>소스류</td>\n",
       "      <td>주식회사 오뚜기</td>\n",
       "      <td>식품제조가공업</td>\n",
       "      <td>경기도 안양시 동안구 흥안대로 405(평촌동)</td>\n",
       "      <td></td>\n",
       "      <td>8801045292328</td>\n",
       "    </tr>\n",
       "    <tr>\n",
       "      <td>997</td>\n",
       "      <td>19720288002642</td>\n",
       "      <td>19890210</td>\n",
       "      <td></td>\n",
       "      <td>스파게티 소스</td>\n",
       "      <td>제조일로부터 2년</td>\n",
       "      <td>소스류</td>\n",
       "      <td>주식회사 오뚜기</td>\n",
       "      <td>식품제조가공업</td>\n",
       "      <td>경기도 안양시 동안구 흥안대로 405(평촌동)</td>\n",
       "      <td></td>\n",
       "      <td>8801045292205</td>\n",
       "    </tr>\n",
       "    <tr>\n",
       "      <td>998</td>\n",
       "      <td>19720288002642</td>\n",
       "      <td>19890210</td>\n",
       "      <td></td>\n",
       "      <td>스파게티 소스</td>\n",
       "      <td>제조일로부터 2년</td>\n",
       "      <td>소스류</td>\n",
       "      <td>주식회사 오뚜기</td>\n",
       "      <td>식품제조가공업</td>\n",
       "      <td>경기도 안양시 동안구 흥안대로 405(평촌동)</td>\n",
       "      <td></td>\n",
       "      <td>8801045911120</td>\n",
       "    </tr>\n",
       "    <tr>\n",
       "      <td>999</td>\n",
       "      <td>19720288002645</td>\n",
       "      <td>19770810</td>\n",
       "      <td></td>\n",
       "      <td>우스타 소스</td>\n",
       "      <td>제조일로부터 실온12개월까지</td>\n",
       "      <td>소스류</td>\n",
       "      <td>주식회사 오뚜기</td>\n",
       "      <td>식품제조가공업</td>\n",
       "      <td>경기도 안양시 동안구 흥안대로 405(평촌동)</td>\n",
       "      <td></td>\n",
       "      <td>8801045120539</td>\n",
       "    </tr>\n",
       "  </tbody>\n",
       "</table>\n",
       "<p>4000 rows × 11 columns</p>\n",
       "</div>"
      ],
      "text/plain": [
       "         품목보고(신고)번호   보고(신고일)     생산중단일         제품명  \\\n",
       "0      195505090011  19950728            매일맛있는진간장골드   \n",
       "1      195505090011  19950728            매일맛있는진간장골드   \n",
       "2      195505090011  19950728            매일맛있는진간장골드   \n",
       "3    19550509001101  20070828  20160603     하나르메진간장   \n",
       "4    19550509001115  20080411  20160603     엄가선양념쌈장   \n",
       "..              ...       ...       ...         ...   \n",
       "995  19720288002639  19840220            오뚜기 골드마요네스   \n",
       "996  19720288002642  19890210               스파게티 소스   \n",
       "997  19720288002642  19890210               스파게티 소스   \n",
       "998  19720288002642  19890210               스파게티 소스   \n",
       "999  19720288002645  19770810                우스타 소스   \n",
       "\n",
       "                                         유통기한 식품 유형      제조사명       업종  \\\n",
       "0                                     실온보관 2년  혼합간장  매일식품주식회사  식품제조가공업   \n",
       "1                                     실온보관 2년  혼합간장  매일식품주식회사  식품제조가공업   \n",
       "2                                     실온보관 2년  혼합간장  매일식품주식회사  식품제조가공업   \n",
       "3                                   제조일로부터 2년  혼합간장  매일식품주식회사  식품제조가공업   \n",
       "4                                 제조일로부터 18개월   혼합장  매일식품주식회사  식품제조가공업   \n",
       "..                                        ...   ...       ...      ...   \n",
       "995  50g : 실온 8개월, 10g : 실온 5개월, 40g : 실온 6개월  마요네즈  주식회사 오뚜기  식품제조가공업   \n",
       "996                                 제조일로부터 2년   소스류  주식회사 오뚜기  식품제조가공업   \n",
       "997                                 제조일로부터 2년   소스류  주식회사 오뚜기  식품제조가공업   \n",
       "998                                 제조일로부터 2년   소스류  주식회사 오뚜기  식품제조가공업   \n",
       "999                           제조일로부터 실온12개월까지   소스류  주식회사 오뚜기  식품제조가공업   \n",
       "\n",
       "                            주소 폐업일자          유통바코드  \n",
       "0          전라남도 순천시 서면 산단1길 16       8801791000055  \n",
       "1          전라남도 순천시 서면 산단1길 16       8801791000017  \n",
       "2          전라남도 순천시 서면 산단1길 16       8801791000048  \n",
       "3          전라남도 순천시 서면 산단1길 16       8801791797511  \n",
       "4          전라남도 순천시 서면 산단1길 16       8801791797634  \n",
       "..                         ...  ...            ...  \n",
       "995  경기도 안양시 동안구 흥안대로 405(평촌동)       8801045969176  \n",
       "996  경기도 안양시 동안구 흥안대로 405(평촌동)       8801045292328  \n",
       "997  경기도 안양시 동안구 흥안대로 405(평촌동)       8801045292205  \n",
       "998  경기도 안양시 동안구 흥안대로 405(평촌동)       8801045911120  \n",
       "999  경기도 안양시 동안구 흥안대로 405(평촌동)       8801045120539  \n",
       "\n",
       "[4000 rows x 11 columns]"
      ]
     },
     "execution_count": 9,
     "metadata": {},
     "output_type": "execute_result"
    }
   ],
   "source": []
  },
  {
   "cell_type": "code",
   "execution_count": null,
   "metadata": {},
   "outputs": [],
   "source": []
  },
  {
   "cell_type": "code",
   "execution_count": null,
   "metadata": {},
   "outputs": [],
   "source": []
  },
  {
   "cell_type": "code",
   "execution_count": 6,
   "metadata": {},
   "outputs": [
    {
     "data": {
      "text/plain": [
       "['품목보고(신고)번호',\n",
       " '보고(신고일)',\n",
       " '생산중단일',\n",
       " '제품명',\n",
       " '유통기한',\n",
       " '식품 유형',\n",
       " '제조사명',\n",
       " '업종',\n",
       " '주소',\n",
       " '폐업일자',\n",
       " '유통바코드']"
      ]
     },
     "execution_count": 6,
     "metadata": {},
     "output_type": "execute_result"
    }
   ],
   "source": [
    "\n"
   ]
  },
  {
   "cell_type": "code",
   "execution_count": 7,
   "metadata": {},
   "outputs": [
    {
     "name": "stdout",
     "output_type": "stream",
     "text": [
      "******** 전체 Data 갯수 : 48,215 ********\n",
      "CPU times: user 24.8 ms, sys: 0 ns, total: 24.8 ms\n",
      "Wall time: 14.5 s\n"
     ]
    }
   ],
   "source": [
    "%%time\n",
    "result, foodId = [], \"I2570\"  # 유통 바코드\n",
    "_ = FoodSafe().getData(foodId, 1, 2, FoodSafe().apiKey[foodId]['cols'], display=True)\n",
    "# for _ in tqdm(range(1, 49000+1, 1000)):\n",
    "#     result.append(FoodSafe().getData(foodId, _, _+999, FoodSafe().apiKey[foodId]['cols']))\n",
    "# pd.concat(result).to_excel('data/food_barcode_info.xls', index=None)"
   ]
  },
  {
   "cell_type": "markdown",
   "metadata": {},
   "source": [
    "<br>\n",
    "\n",
    "# **Kamis 식재료 정보수집**\n",
    "**[Open API 관리 페이지](https://www.kamis.or.kr/customer/mypage/my_openapi/my_openapi.do)**\n",
    "1. **[Regex Html Crawling](https://stackoverflow.com/questions/13823479/finding-all-tr-from-html-table-in-python)**\n",
    "1. key : \"fb54dcd7-218f-4297-8fa6-31cfcd0a897d\"\n",
    "\n",
    "```\n",
    "'<title.*?>(.+?)</title>'  # 특정태그\n",
    "\"<[^>]+>|[^<]+\"            # html 태그 내부의 한글 추출\n",
    "'<.*?>'                    # 모든 태그\n",
    "reg_table = '<table.*?>(.+?)</table>'\n",
    "reg_table = '<font.*?>(.+?)</font>'\n",
    "reg_table = '<.*?>'\n",
    "reg_table = \"<table.*?>(.*?)\"\n",
    "reg_table = '<table class=\"wtable3\" .*?>(.*?)</table>'\n",
    "```"
   ]
  },
  {
   "cell_type": "markdown",
   "metadata": {},
   "source": [
    "## **1 Web 페이지 크롤링 함수 확인**\n",
    "Kamis 식품정보 수집"
   ]
  },
  {
   "cell_type": "code",
   "execution_count": 2,
   "metadata": {},
   "outputs": [
    {
     "name": "stdout",
     "output_type": "stream",
     "text": [
      "CPU times: user 60.2 ms, sys: 7.88 ms, total: 68.1 ms\n",
      "Wall time: 319 ms\n"
     ]
    },
    {
     "data": {
      "text/html": [
       "<div>\n",
       "<style scoped>\n",
       "    .dataframe tbody tr th:only-of-type {\n",
       "        vertical-align: middle;\n",
       "    }\n",
       "\n",
       "    .dataframe tbody tr th {\n",
       "        vertical-align: top;\n",
       "    }\n",
       "\n",
       "    .dataframe thead th {\n",
       "        text-align: right;\n",
       "    }\n",
       "</style>\n",
       "<table border=\"1\" class=\"dataframe\">\n",
       "  <thead>\n",
       "    <tr style=\"text-align: right;\">\n",
       "      <th></th>\n",
       "      <th>시장구분</th>\n",
       "      <th>구분</th>\n",
       "      <th>구분.1</th>\n",
       "      <th>구분.2</th>\n",
       "      <th>당일 (10/15)</th>\n",
       "    </tr>\n",
       "  </thead>\n",
       "  <tbody>\n",
       "    <tr>\n",
       "      <td>0</td>\n",
       "      <td>도매</td>\n",
       "      <td>쌀</td>\n",
       "      <td>일반계(20kg)</td>\n",
       "      <td>상품</td>\n",
       "      <td>45660</td>\n",
       "    </tr>\n",
       "    <tr>\n",
       "      <td>1</td>\n",
       "      <td>도매</td>\n",
       "      <td>쌀</td>\n",
       "      <td>일반계(20kg)</td>\n",
       "      <td>중품</td>\n",
       "      <td>43520</td>\n",
       "    </tr>\n",
       "    <tr>\n",
       "      <td>2</td>\n",
       "      <td>도매</td>\n",
       "      <td>쌀</td>\n",
       "      <td>햇일반계(20kg)</td>\n",
       "      <td>상품</td>\n",
       "      <td>47300</td>\n",
       "    </tr>\n",
       "    <tr>\n",
       "      <td>3</td>\n",
       "      <td>도매</td>\n",
       "      <td>쌀</td>\n",
       "      <td>햇일반계(20kg)</td>\n",
       "      <td>중품</td>\n",
       "      <td>45020</td>\n",
       "    </tr>\n",
       "    <tr>\n",
       "      <td>4</td>\n",
       "      <td>도매</td>\n",
       "      <td>찹쌀</td>\n",
       "      <td>일반계(40kg)</td>\n",
       "      <td>상품</td>\n",
       "      <td>123600</td>\n",
       "    </tr>\n",
       "  </tbody>\n",
       "</table>\n",
       "</div>"
      ],
      "text/plain": [
       "  시장구분  구분        구분.1 구분.2  당일 (10/15)\n",
       "0   도매   쌀   일반계(20kg)   상품       45660\n",
       "1   도매   쌀   일반계(20kg)   중품       43520\n",
       "2   도매   쌀  햇일반계(20kg)   상품       47300\n",
       "3   도매   쌀  햇일반계(20kg)   중품       45020\n",
       "4   도매  찹쌀   일반계(40kg)   상품      123600"
      ]
     },
     "execution_count": 2,
     "metadata": {},
     "output_type": "execute_result"
    }
   ],
   "source": [
    "%%time\n",
    "from momukji import Kamis\n",
    "Kamis().getData('2019-10-15', \"100\").head()"
   ]
  },
  {
   "cell_type": "code",
   "execution_count": 3,
   "metadata": {},
   "outputs": [
    {
     "name": "stdout",
     "output_type": "stream",
     "text": [
      "CPU times: user 42 ms, sys: 9.07 ms, total: 51.1 ms\n",
      "Wall time: 400 ms\n"
     ]
    },
    {
     "data": {
      "text/html": [
       "<div>\n",
       "<style scoped>\n",
       "    .dataframe tbody tr th:only-of-type {\n",
       "        vertical-align: middle;\n",
       "    }\n",
       "\n",
       "    .dataframe tbody tr th {\n",
       "        vertical-align: top;\n",
       "    }\n",
       "\n",
       "    .dataframe thead th {\n",
       "        text-align: right;\n",
       "    }\n",
       "</style>\n",
       "<table border=\"1\" class=\"dataframe\">\n",
       "  <thead>\n",
       "    <tr style=\"text-align: right;\">\n",
       "      <th></th>\n",
       "      <th>시장구분</th>\n",
       "      <th>구분</th>\n",
       "      <th>구분.1</th>\n",
       "      <th>구분.2</th>\n",
       "      <th>당일 (10/15)</th>\n",
       "    </tr>\n",
       "  </thead>\n",
       "  <tbody>\n",
       "    <tr>\n",
       "      <td>0</td>\n",
       "      <td>소매</td>\n",
       "      <td>쌀</td>\n",
       "      <td>일반계(20kg)</td>\n",
       "      <td>상품</td>\n",
       "      <td>51077</td>\n",
       "    </tr>\n",
       "    <tr>\n",
       "      <td>1</td>\n",
       "      <td>소매</td>\n",
       "      <td>쌀</td>\n",
       "      <td>햇일반계(20kg)</td>\n",
       "      <td>상품</td>\n",
       "      <td>53112</td>\n",
       "    </tr>\n",
       "    <tr>\n",
       "      <td>2</td>\n",
       "      <td>소매</td>\n",
       "      <td>찹쌀</td>\n",
       "      <td>일반계(1kg)</td>\n",
       "      <td>상품</td>\n",
       "      <td>4874</td>\n",
       "    </tr>\n",
       "    <tr>\n",
       "      <td>3</td>\n",
       "      <td>소매</td>\n",
       "      <td>콩</td>\n",
       "      <td>흰 콩(국산)(500g)</td>\n",
       "      <td>상품</td>\n",
       "      <td>4779</td>\n",
       "    </tr>\n",
       "    <tr>\n",
       "      <td>4</td>\n",
       "      <td>소매</td>\n",
       "      <td>콩</td>\n",
       "      <td>흰 콩(국산)(500g)</td>\n",
       "      <td>중품</td>\n",
       "      <td>3282</td>\n",
       "    </tr>\n",
       "  </tbody>\n",
       "</table>\n",
       "</div>"
      ],
      "text/plain": [
       "  시장구분  구분           구분.1 구분.2  당일 (10/15)\n",
       "0   소매   쌀      일반계(20kg)   상품       51077\n",
       "1   소매   쌀     햇일반계(20kg)   상품       53112\n",
       "2   소매  찹쌀       일반계(1kg)   상품        4874\n",
       "3   소매   콩  흰 콩(국산)(500g)   상품        4779\n",
       "4   소매   콩  흰 콩(국산)(500g)   중품        3282"
      ]
     },
     "execution_count": 3,
     "metadata": {},
     "output_type": "execute_result"
    }
   ],
   "source": [
    "%%time\n",
    "from momukji import Kamis\n",
    "Kamis().getData('2019-10-15', \"100\" ,types=2).head()"
   ]
  },
  {
   "cell_type": "markdown",
   "metadata": {},
   "source": [
    "## **2 API Json 호출**\n",
    "1. **[Kamis OpenAPI Key 매뉴얼 페이지](https://www.kamis.or.kr/customer/reference/openapi_list.do)**\n",
    "1. **[Kamis Code 상세 페이지](https://www.kamis.or.kr/customer/reference/openapi_list.do?action=detail&boardno=5)** | **[Code 다운로드](http://www.kamis.or.kr/customer/board/board_file.do?brdno=4&brdctsno=424245&brdctsfileno=12212)**\n",
    "1. **[Kamis OpenAPI](https://www.kamis.or.kr/customer/reference/openapi_list.do?action=detail&boardno=8)** 식품정보 수집"
   ]
  },
  {
   "cell_type": "code",
   "execution_count": 1,
   "metadata": {},
   "outputs": [
    {
     "data": {
      "text/html": [
       "<div>\n",
       "<style scoped>\n",
       "    .dataframe tbody tr th:only-of-type {\n",
       "        vertical-align: middle;\n",
       "    }\n",
       "\n",
       "    .dataframe tbody tr th {\n",
       "        vertical-align: top;\n",
       "    }\n",
       "\n",
       "    .dataframe thead th {\n",
       "        text-align: right;\n",
       "    }\n",
       "</style>\n",
       "<table border=\"1\" class=\"dataframe\">\n",
       "  <thead>\n",
       "    <tr style=\"text-align: right;\">\n",
       "      <th></th>\n",
       "      <th>시장구분</th>\n",
       "      <th>품목명</th>\n",
       "      <th>품종명</th>\n",
       "      <th>상태(상품,중품)</th>\n",
       "      <th>일자(조회일자)</th>\n",
       "      <th>가격(조회일자)</th>\n",
       "      <th>일자(1일전)</th>\n",
       "      <th>가격(1일전)</th>\n",
       "      <th>일자(1주전)</th>\n",
       "      <th>가격(1주전)</th>\n",
       "      <th>일자(2주전)</th>\n",
       "      <th>가격(2주전)</th>\n",
       "      <th>일자(1개월전)</th>\n",
       "      <th>가격(1개월전)</th>\n",
       "      <th>일자(1년전)</th>\n",
       "      <th>가격(1년전)</th>\n",
       "      <th>일자(평년)</th>\n",
       "      <th>가격(평년)</th>\n",
       "    </tr>\n",
       "  </thead>\n",
       "  <tbody>\n",
       "    <tr>\n",
       "      <td>0</td>\n",
       "      <td>소매</td>\n",
       "      <td>쇠고기</td>\n",
       "      <td>한우등심(100g)</td>\n",
       "      <td>1등급</td>\n",
       "      <td>당일 (10/21)</td>\n",
       "      <td>9,003</td>\n",
       "      <td>1일전 (10/20)</td>\n",
       "      <td>-</td>\n",
       "      <td>1주일전 (10/14)</td>\n",
       "      <td>9,040</td>\n",
       "      <td>2주일전 (10/07)</td>\n",
       "      <td>8,822</td>\n",
       "      <td>1개월전</td>\n",
       "      <td>8,850</td>\n",
       "      <td>1년전</td>\n",
       "      <td>8,461</td>\n",
       "      <td>일평년</td>\n",
       "      <td>8,025</td>\n",
       "    </tr>\n",
       "    <tr>\n",
       "      <td>1</td>\n",
       "      <td>소매</td>\n",
       "      <td>쇠고기</td>\n",
       "      <td>한우등심(100g)</td>\n",
       "      <td>1+등급</td>\n",
       "      <td>당일 (10/21)</td>\n",
       "      <td>11,047</td>\n",
       "      <td>1일전 (10/20)</td>\n",
       "      <td>-</td>\n",
       "      <td>1주일전 (10/14)</td>\n",
       "      <td>11,090</td>\n",
       "      <td>2주일전 (10/07)</td>\n",
       "      <td>11,135</td>\n",
       "      <td>1개월전</td>\n",
       "      <td>10,852</td>\n",
       "      <td>1년전</td>\n",
       "      <td>-</td>\n",
       "      <td>일평년</td>\n",
       "      <td>-</td>\n",
       "    </tr>\n",
       "    <tr>\n",
       "      <td>2</td>\n",
       "      <td>소매</td>\n",
       "      <td>쇠고기</td>\n",
       "      <td>한우양지(100g)</td>\n",
       "      <td>1등급</td>\n",
       "      <td>당일 (10/21)</td>\n",
       "      <td>5,579</td>\n",
       "      <td>1일전 (10/20)</td>\n",
       "      <td>-</td>\n",
       "      <td>1주일전 (10/14)</td>\n",
       "      <td>5,658</td>\n",
       "      <td>2주일전 (10/07)</td>\n",
       "      <td>5,677</td>\n",
       "      <td>1개월전</td>\n",
       "      <td>5,791</td>\n",
       "      <td>1년전</td>\n",
       "      <td>5,491</td>\n",
       "      <td>일평년</td>\n",
       "      <td>5,742</td>\n",
       "    </tr>\n",
       "  </tbody>\n",
       "</table>\n",
       "</div>"
      ],
      "text/plain": [
       "  시장구분  품목명         품종명 상태(상품,중품)    일자(조회일자) 가격(조회일자)      일자(1일전) 가격(1일전)  \\\n",
       "0   소매  쇠고기  한우등심(100g)       1등급  당일 (10/21)    9,003  1일전 (10/20)       -   \n",
       "1   소매  쇠고기  한우등심(100g)      1+등급  당일 (10/21)   11,047  1일전 (10/20)       -   \n",
       "2   소매  쇠고기  한우양지(100g)       1등급  당일 (10/21)    5,579  1일전 (10/20)       -   \n",
       "\n",
       "        일자(1주전) 가격(1주전)       일자(2주전) 가격(2주전) 일자(1개월전) 가격(1개월전) 일자(1년전)  \\\n",
       "0  1주일전 (10/14)   9,040  2주일전 (10/07)   8,822     1개월전    8,850     1년전   \n",
       "1  1주일전 (10/14)  11,090  2주일전 (10/07)  11,135     1개월전   10,852     1년전   \n",
       "2  1주일전 (10/14)   5,658  2주일전 (10/07)   5,677     1개월전    5,791     1년전   \n",
       "\n",
       "  가격(1년전) 일자(평년) 가격(평년)  \n",
       "0   8,461    일평년  8,025  \n",
       "1       -    일평년      -  \n",
       "2   5,491    일평년  5,742  "
      ]
     },
     "execution_count": 1,
     "metadata": {},
     "output_type": "execute_result"
    }
   ],
   "source": [
    "from momukji import Kamis\n",
    "resp = Kamis().getApi('2019-10-21', 500, cd=2)\n",
    "resp.head(3)"
   ]
  },
  {
   "cell_type": "markdown",
   "metadata": {},
   "source": [
    "<br>\n",
    "\n",
    "# **서울시 농수산 식품공사 API**\n",
    "1. https://www.garakprice.com/index.php?go_date=20191001  가락동 농산물 시세 Web\n",
    "1. http://www.garak.co.kr/gongsa/jsp/gs/intro/common.jsp  JSP 호출주소\n",
    "\n",
    "**[서울시 농산물 공사 OpenAPI](https://www.garak.co.kr/publicdata/selectPageListPublicData.do?sch_public_data_realm_code=1)**\n",
    "\n",
    "```html\n",
    "http://www.garak.co.kr/gongsa/jsp/gs/data_open/data.jsp?id=2087&passwd=1004&dataid=data4&pagesize=10\n",
    "&pageidx=1&portal.templet=false&p_ymd=20190408&p_jymd=20190408&d_cd=2&p_jjymd=20130429\n",
    "&p_pos_gubun=1&pum_nm=\n",
    "```"
   ]
  },
  {
   "cell_type": "markdown",
   "metadata": {},
   "source": [
    "## **1 API 를 활용한 수집**\n",
    "가격정보를 **Xml API** 를 활용하여 수집"
   ]
  },
  {
   "cell_type": "code",
   "execution_count": 7,
   "metadata": {},
   "outputs": [],
   "source": [
    "# 문제점...\n",
    "# Page 를 순환하면서 1개의 객체만 있으면 list 갯수가 1개로만 출력\n",
    "\n",
    "# 해결방법... (https://rfriend.tistory.com/482)\n",
    "# 1개의 dict 을 DataFrame 변환 시, 데이터를 list로 변경해서 적용\n",
    "# 그래야 컬럼, 데이터와 \"인덱스\" 를 자동으로 계산할 수 있다."
   ]
  },
  {
   "cell_type": "code",
   "execution_count": 4,
   "metadata": {},
   "outputs": [
    {
     "name": "stderr",
     "output_type": "stream",
     "text": [
      "100%|██████████| 70/70 [00:12<00:00,  5.81it/s]\n",
      "100%|██████████| 16/16 [00:02<00:00,  7.23it/s]\n"
     ]
    }
   ],
   "source": [
    "date_info = '20191022'\n",
    "\n",
    "import pandas as pd\n",
    "from momukji import Garak\n",
    "xml_d_1   = Garak().getData(cd=1) # date_info, \n",
    "xml_d_2   = Garak().getData(cd=2) # date_info, \n",
    "xml_data  = pd.concat([xml_d_1, xml_d_2]).reset_index(drop=True)\n",
    "xml_data.to_excel(\"data/food_Garak.xls\", index=None)"
   ]
  },
  {
   "cell_type": "markdown",
   "metadata": {},
   "source": [
    "## **2 Web 페이지를 활용한 수집기**\n",
    "https://www.garakprice.com/index.php?go_date=20191021\n",
    "1. 하지만 품목수가 부족해서 실익이 적음"
   ]
  },
  {
   "cell_type": "code",
   "execution_count": 7,
   "metadata": {},
   "outputs": [],
   "source": [
    "# https://www.garakprice.com/index.php?go_date=20191021\n",
    "from urllib import parse, request\n",
    "def urllib_request(url, params, encode='utf-8'):\n",
    "    params = parse.urlencode(params).encode(encode)\n",
    "    url  = request.Request(url, params)\n",
    "    resp = request.data/lopen(url).read()\n",
    "    resp = parse.quote_plus(resp)\n",
    "    return parse.unquote_plus(resp)\n",
    "\n",
    "# params = { \"go_date\":20191021 }\n",
    "# url    = \"https://www.garakprice.com/index.php\"\n",
    "# urllib_request(url, params)[:500]"
   ]
  },
  {
   "cell_type": "markdown",
   "metadata": {},
   "source": [
    "<br>\n",
    "\n",
    "# **기타 공산품 가격정보**\n",
    "\n",
    "**[Data.go.kr 공산품 가격정보](https://www.data.go.kr/dataset/3043385/openapi.do?lang=ko)**"
   ]
  },
  {
   "cell_type": "markdown",
   "metadata": {},
   "source": [
    "## **1 공산품 Id 정보수집**\n",
    "**[Data.go.kr 공산품 가격정보](https://www.data.go.kr/dataset/3043385/openapi.do?lang=ko)**\n",
    "1. **[한국소비자원 참가격](https://www.price.go.kr/tprice/portal/pricenewsandtpriceintro/iteminfo/getItemList.do)**\n",
    "1. **[유통상품지식뱅크](http://35.200.32.201/)**\n",
    "1. 분류기준 명확하게 찾기"
   ]
  },
  {
   "cell_type": "code",
   "execution_count": 3,
   "metadata": {},
   "outputs": [
    {
     "data": {
      "text/html": [
       "<div>\n",
       "<style scoped>\n",
       "    .dataframe tbody tr th:only-of-type {\n",
       "        vertical-align: middle;\n",
       "    }\n",
       "\n",
       "    .dataframe tbody tr th {\n",
       "        vertical-align: top;\n",
       "    }\n",
       "\n",
       "    .dataframe thead th {\n",
       "        text-align: right;\n",
       "    }\n",
       "</style>\n",
       "<table border=\"1\" class=\"dataframe\">\n",
       "  <thead>\n",
       "    <tr style=\"text-align: right;\">\n",
       "      <th></th>\n",
       "      <th>Id</th>\n",
       "      <th>Name</th>\n",
       "      <th>소분류코드</th>\n",
       "      <th>용량</th>\n",
       "      <th>용량구분</th>\n",
       "    </tr>\n",
       "  </thead>\n",
       "  <tbody>\n",
       "    <tr>\n",
       "      <td>0</td>\n",
       "      <td>1072</td>\n",
       "      <td>풀무원 동물복지 목초란(대란 10개)</td>\n",
       "      <td>030101001</td>\n",
       "      <td>10</td>\n",
       "      <td>EA</td>\n",
       "    </tr>\n",
       "    <tr>\n",
       "      <td>1</td>\n",
       "      <td>1073</td>\n",
       "      <td>목초를 먹고 자란 건강한 닭이 낳은 달걀(대란 15개)</td>\n",
       "      <td>030101001</td>\n",
       "      <td>15</td>\n",
       "      <td>EA</td>\n",
       "    </tr>\n",
       "    <tr>\n",
       "      <td>2</td>\n",
       "      <td>1075</td>\n",
       "      <td>CJ 더안심 건강란(대란 15개)</td>\n",
       "      <td>030101001</td>\n",
       "      <td>15</td>\n",
       "      <td>EA</td>\n",
       "    </tr>\n",
       "  </tbody>\n",
       "</table>\n",
       "</div>"
      ],
      "text/plain": [
       "     Id                            Name      소분류코드  용량 용량구분\n",
       "0  1072            풀무원 동물복지 목초란(대란 10개)  030101001  10   EA\n",
       "1  1073  목초를 먹고 자란 건강한 닭이 낳은 달걀(대란 15개)  030101001  15   EA\n",
       "2  1075              CJ 더안심 건강란(대란 15개)  030101001  15   EA"
      ]
     },
     "execution_count": 3,
     "metadata": {},
     "output_type": "execute_result"
    }
   ],
   "source": [
    "from momukji import Product\n",
    "item_list = Product().getList()\n",
    "item_list.head(3)"
   ]
  },
  {
   "cell_type": "code",
   "execution_count": 6,
   "metadata": {},
   "outputs": [
    {
     "data": {
      "text/html": [
       "<div>\n",
       "<style scoped>\n",
       "    .dataframe tbody tr th:only-of-type {\n",
       "        vertical-align: middle;\n",
       "    }\n",
       "\n",
       "    .dataframe tbody tr th {\n",
       "        vertical-align: top;\n",
       "    }\n",
       "\n",
       "    .dataframe thead th {\n",
       "        text-align: right;\n",
       "    }\n",
       "</style>\n",
       "<table border=\"1\" class=\"dataframe\">\n",
       "  <thead>\n",
       "    <tr style=\"text-align: right;\">\n",
       "      <th></th>\n",
       "      <th>0</th>\n",
       "      <th>1</th>\n",
       "      <th>2</th>\n",
       "    </tr>\n",
       "  </thead>\n",
       "  <tbody>\n",
       "    <tr>\n",
       "      <td>0</td>\n",
       "      <td>코드</td>\n",
       "      <td>업태</td>\n",
       "      <td>종목</td>\n",
       "    </tr>\n",
       "    <tr>\n",
       "      <td>1</td>\n",
       "      <td>11000</td>\n",
       "      <td>농업(작물재배업)</td>\n",
       "      <td>작물재배업</td>\n",
       "    </tr>\n",
       "    <tr>\n",
       "      <td>2</td>\n",
       "      <td>12101</td>\n",
       "      <td>농업(축산업)</td>\n",
       "      <td>축산 / 낙농</td>\n",
       "    </tr>\n",
       "  </tbody>\n",
       "</table>\n",
       "</div>"
      ],
      "text/plain": [
       "       0          1        2\n",
       "0     코드         업태       종목\n",
       "1  11000  농업(작물재배업)    작물재배업\n",
       "2  12101    농업(축산업)  축산 / 낙농"
      ]
     },
     "execution_count": 6,
     "metadata": {},
     "output_type": "execute_result"
    }
   ],
   "source": [
    "url = \"http://ksetup.com/bbs/page.php?hid=code\"\n",
    "\n",
    "import re\n",
    "import pandas as pd\n",
    "from urllib import request, parse\n",
    "resp = request.urlopen(url).read()\n",
    "resp = parse.quote_plus(resp)\n",
    "resp = parse.unquote_plus(resp)\n",
    "table = re.findall(r'<table class=\"table table-bordered\".*?>(.*?)</table>', resp, re.M|re.I|re.S)\n",
    "table = \"<table>\" + table[0] + \"</table>\"\n",
    "table = pd.read_html(table)[0]\n",
    "# table.to_excel('company_code.xls', index=None, columns=None)\n",
    "table.head(3)"
   ]
  },
  {
   "cell_type": "markdown",
   "metadata": {},
   "source": [
    "## **2 공산품 인터넷 쇼핑몰 정보**\n",
    "1. 네이버 쇼핑/ 핫딜\n",
    "1. 다음쇼핑 등 정리한 내용 재정의 및 복습\n",
    "1. 유통정보센터 식품관련 데이터 수집 및 정리"
   ]
  },
  {
   "cell_type": "code",
   "execution_count": null,
   "metadata": {},
   "outputs": [],
   "source": []
  },
  {
   "cell_type": "code",
   "execution_count": null,
   "metadata": {},
   "outputs": [],
   "source": []
  },
  {
   "cell_type": "code",
   "execution_count": null,
   "metadata": {},
   "outputs": [],
   "source": []
  },
  {
   "cell_type": "markdown",
   "metadata": {},
   "source": [
    "<br>\n",
    "\n",
    "# **급식메뉴 안내**\n",
    "**[Data.go.kr 공산품 가격정보](https://www.data.go.kr/dataset/3043385/openapi.do?lang=ko)**\n",
    "\n",
    "**[NEIS 급식메뉴 조회 수집 사이트](https://stu.gen.go.kr/sts_sci_md00_001.do?schulCode=F100000120&schulCrseScCode=4&schulKndScCode=04&ay=2019&mm=10)**\n",
    "```\n",
    "https://stu.gen.go.kr/sts_sci_md00_001.do?schulCode=F100000120&schulCrseScCode=4&schulKndScCode=04&ay=2019&mm=12\n",
    "\n",
    "https://stu.gen.go.kr/sts_sci_md00_001.do?\n",
    "    schulCode=F100000120\n",
    "    &schulCrseScCode=4\n",
    "    &schulKndScCode=04\n",
    "    &ay=2019\n",
    "    &mm=10\n",
    "```"
   ]
  },
  {
   "cell_type": "code",
   "execution_count": 33,
   "metadata": {},
   "outputs": [
    {
     "data": {
      "text/plain": [
       "'02'"
      ]
     },
     "execution_count": 33,
     "metadata": {},
     "output_type": "execute_result"
    }
   ],
   "source": [
    "\"{:02d}\".format(2)"
   ]
  },
  {
   "cell_type": "code",
   "execution_count": 47,
   "metadata": {},
   "outputs": [
    {
     "data": {
      "text/plain": [
       "'\\n\\n\\n\\n\\n\\n\\n\\n\\n\\n\\n<!-- 최상단 타이틀 표시용 -->\\n\\n\\t\\n\\t\\t\\n\\t\\t\\t\\n\\t\\t\\t\\t\\n\\t\\t\\t\\t\\n\\t\\t\\t\\n\\t\\t\\t\\t\\n\\t\\t\\t\\t\\n\\t\\t\\t\\t\\t\\n\\t\\t\\t\\t\\n\\t\\t\\t\\t\\t\\n\\t\\t\\t\\t\\n\\t\\t\\t\\t\\t\\n\\t\\t\\t\\t\\n\\t\\t\\t\\t\\t\\n\\t\\t\\t\\t\\n\\t\\t\\t\\t\\t\\n\\t\\t\\t\\t\\n\\t\\t\\t\\t\\t\\n\\t\\t\\t\\t\\n\\t\\t\\t\\t\\t\\n\\t\\t\\t\\t\\n\\t\\t\\t\\t\\t\\n\\t\\t\\t\\t\\n\\t\\t\\t\\n\\t\\t\\t\\t\\n\\t\\t\\t\\t\\n\\t\\t\\t\\n\\t\\t\\t\\t\\n\\t\\t\\t\\t\\n\\t\\t\\t\\n\\t\\t\\t\\t\\n\\t\\t\\t\\t\\n\\t\\t\\t\\n'"
      ]
     },
     "execution_count": 47,
     "metadata": {},
     "output_type": "execute_result"
    }
   ],
   "source": [
    "query = {\n",
    "    \"schulCode\":\"F100000120\",\n",
    "    \"schulCrseScCode\":4,\n",
    "    \"schulKndScCode\":\"04\",\n",
    "    \"ay\":2019,  # 년도\n",
    "    \"mm\":10     # 월\n",
    "}\n",
    "from urllib import parse, request\n",
    "url = \"https://stu.gen.go.kr/sts_sci_md00_001.do?\" + parse.urlencode(query)\n",
    "resp = request.urlopen(url).read()\n",
    "resp = parse.quote_plus(resp)\n",
    "resp = parse.unquote_plus(resp)\n",
    "resp[:200]"
   ]
  },
  {
   "cell_type": "code",
   "execution_count": 48,
   "metadata": {},
   "outputs": [],
   "source": [
    "import re\n",
    "re.findall()"
   ]
  },
  {
   "cell_type": "code",
   "execution_count": null,
   "metadata": {},
   "outputs": [],
   "source": []
  },
  {
   "cell_type": "code",
   "execution_count": null,
   "metadata": {},
   "outputs": [],
   "source": [
    ", \"/sts_sci_md00_001.do?\""
   ]
  },
  {
   "cell_type": "code",
   "execution_count": null,
   "metadata": {},
   "outputs": [],
   "source": []
  },
  {
   "cell_type": "code",
   "execution_count": null,
   "metadata": {},
   "outputs": [],
   "source": []
  },
  {
   "cell_type": "code",
   "execution_count": null,
   "metadata": {},
   "outputs": [],
   "source": []
  },
  {
   "cell_type": "code",
   "execution_count": 1,
   "metadata": {},
   "outputs": [
    {
     "name": "stdout",
     "output_type": "stream",
     "text": [
      "{'breakfast': ['백미밥', '무청시래기국', '왕교자만두그라탕', '떡갈비스테이크', '배추김치9.', '오이양배추생채'], 'lunch': ['비빔밥', '감자호박된장국', '닭장각구이', '깍두기9.', '귤', '청경채생채'], 'dinner': []}\n"
     ]
    }
   ],
   "source": [
    "from menu_parser import MenuParser\n",
    "from school import School\n",
    "school = School(School.Region.GWANGJU, School.Type.HIGH, \"F100000120\")\n",
    "parser = MenuParser(school)\n",
    "menus  = parser.get_menu()\n",
    "print(menus.today)"
   ]
  },
  {
   "cell_type": "code",
   "execution_count": 8,
   "metadata": {},
   "outputs": [
    {
     "data": {
      "text/plain": [
       "<__main__.School at 0x7fbc56f7c978>"
      ]
     },
     "execution_count": 8,
     "metadata": {},
     "output_type": "execute_result"
    }
   ],
   "source": [
    "class School:\n",
    "    class Region:\n",
    "        BUSAN = \"stu.pen.go.kr\"\n",
    "        CHUNGBUK = \"stu.cbe.go.kr\"\n",
    "        CHUNGNAM = \"stu.cne.go.kr\"\n",
    "        DAEJEON = \"stu.dge.go.kr\"\n",
    "        DEAGU = \"stu.dge.go.kr\"\n",
    "        GWANGJU = \"stu.gen.go.kr\"\n",
    "        GYEONGBUK = \"stu.gbe.go.kr\"\n",
    "        GYEONGGI = \"stu.goe.go.kr\"\n",
    "        GYEONGNAM = \"stu.gne.go.kr\"\n",
    "        INCHEON = \"stu.ice.go.kr\"\n",
    "        JEJU = \"stu.jje.go.kr\"\n",
    "        JEONBUK = \"stu.jbe.go.kr\"\n",
    "        JEONNAM = \"stu.jne.go.kr\"\n",
    "        KANGWON = \"stu.kwe.go.kr\"\n",
    "        SEJONG = \"stu.sje.go.kr\"\n",
    "        SEOUL = \"stu.sen.go.kr\"\n",
    "        ULSAN = \"stu.use.go.kr\"\n",
    "\n",
    "    class Type:\n",
    "        KINDERGARTEN = 1\n",
    "        ELEMENTARY = 2\n",
    "        MIDDLE = 3\n",
    "        HIGH = 4\n",
    "\n",
    "    def __init__(self, school_region, school_type, school_code):\n",
    "        self.region = school_region\n",
    "        self.type = school_type\n",
    "        self.code = school_code\n",
    "\n",
    "school = School(School.Region.GWANGJU, School.Type.HIGH, \"F100000120\")\n",
    "school"
   ]
  },
  {
   "cell_type": "code",
   "execution_count": 13,
   "metadata": {},
   "outputs": [],
   "source": [
    "class MenuParser:\n",
    "    \n",
    "    def __init__(self, school):\n",
    "        self.school = school\n",
    "\n",
    "    def get_menu(self, year=None, month=None):\n",
    "        \"\"\"\n",
    "        해당 학교로부터 급식을 가져온다.\n",
    "        year와 month가 모두 주어졌다면 해당하는 정보를 가져온다.\n",
    "        주어지지 않았을 때에는 자동으로 가져오게 된다.\n",
    "        \"\"\"\n",
    "        if year is None or month is None:\n",
    "            today = datetime.date.today()\n",
    "            url = self.__create_url(today.year, today.month)\n",
    "        else:\n",
    "            url = self.__create_url(year, month)\n",
    "        page = self.__get_page(url); print(url)\n",
    "        soup = BeautifulSoup(page, \"html.parser\")\n",
    "        items = soup.select(\"#contents > div > table > tbody > tr > td > div\")\n",
    "        return Menu(items)\n",
    "\n",
    "    def __get_page(self, url):\n",
    "        try:\n",
    "            page = requests.get(url).text \n",
    "        except Exception as e:\n",
    "            logging.error(e)\n",
    "        return page\n",
    "\n",
    "    def __create_url(self, year, month):\n",
    "        today = datetime.date(year, month, 1)\n",
    "        url  = f\"https://{self.school.region}/sts_sci_md00_001.do?\"\n",
    "        url += f\"schulCode={self.school.code}&\"\n",
    "        url += f\"schulCrseScCode={self.school.type}&\"\n",
    "        url += f\"schulKndScCode={self.school.type:02d}&\"\n",
    "        url += f\"ay={today.year}&\"\n",
    "        url += f\"mm={today.month:02d}\"\n",
    "        print(url)\n",
    "        return url"
   ]
  },
  {
   "cell_type": "code",
   "execution_count": 14,
   "metadata": {},
   "outputs": [
    {
     "data": {
      "text/plain": [
       "<__main__.MenuParser at 0x7fbc56a66f28>"
      ]
     },
     "execution_count": 14,
     "metadata": {},
     "output_type": "execute_result"
    }
   ],
   "source": [
    "parser = MenuParser(school)\n",
    "parser"
   ]
  },
  {
   "cell_type": "code",
   "execution_count": null,
   "metadata": {},
   "outputs": [],
   "source": [
    "def __create_url(self, year, month):\n",
    "    today = datetime.date(year, month, 1)\n",
    "    url  = f\"https://{self.school.region}/sts_sci_md00_001.do?\"\n",
    "    url += f\"schulCode={self.school.code}&\"\n",
    "    url += f\"schulCrseScCode={self.school.type}&\"\n",
    "    url += f\"schulKndScCode={self.school.type:02d}&\"\n",
    "    url += f\"ay={today.year}&\"\n",
    "    url += f\"mm={today.month:02d}\"\n",
    "    print(url)\n",
    "    return url"
   ]
  },
  {
   "cell_type": "code",
   "execution_count": 16,
   "metadata": {},
   "outputs": [
    {
     "data": {
      "text/plain": [
       "'stu.gen.go.kr'"
      ]
     },
     "execution_count": 16,
     "metadata": {},
     "output_type": "execute_result"
    }
   ],
   "source": [
    "# 교육청 코드\n",
    "school.region"
   ]
  },
  {
   "cell_type": "code",
   "execution_count": 17,
   "metadata": {},
   "outputs": [
    {
     "data": {
      "text/plain": [
       "4"
      ]
     },
     "execution_count": 17,
     "metadata": {},
     "output_type": "execute_result"
    }
   ],
   "source": [
    "# 학교종류\n",
    "school.type"
   ]
  },
  {
   "cell_type": "code",
   "execution_count": 15,
   "metadata": {},
   "outputs": [
    {
     "data": {
      "text/plain": [
       "'F100000120'"
      ]
     },
     "execution_count": 15,
     "metadata": {},
     "output_type": "execute_result"
    }
   ],
   "source": [
    "# 개별 학교코드\n",
    "school.code"
   ]
  },
  {
   "cell_type": "code",
   "execution_count": 19,
   "metadata": {},
   "outputs": [
    {
     "data": {
      "text/plain": [
       "'schulKndScCode=04'"
      ]
     },
     "execution_count": 19,
     "metadata": {},
     "output_type": "execute_result"
    }
   ],
   "source": [
    "\"schulKndScCode={:02d}\".format(4)"
   ]
  },
  {
   "cell_type": "code",
   "execution_count": null,
   "metadata": {},
   "outputs": [],
   "source": []
  },
  {
   "cell_type": "code",
   "execution_count": null,
   "metadata": {},
   "outputs": [],
   "source": []
  },
  {
   "cell_type": "code",
   "execution_count": null,
   "metadata": {},
   "outputs": [],
   "source": []
  },
  {
   "cell_type": "code",
   "execution_count": null,
   "metadata": {},
   "outputs": [],
   "source": [
    "parser = MenuParser(school)\n"
   ]
  },
  {
   "cell_type": "code",
   "execution_count": null,
   "metadata": {},
   "outputs": [],
   "source": []
  },
  {
   "cell_type": "code",
   "execution_count": null,
   "metadata": {},
   "outputs": [],
   "source": []
  },
  {
   "cell_type": "code",
   "execution_count": null,
   "metadata": {},
   "outputs": [],
   "source": []
  },
  {
   "cell_type": "code",
   "execution_count": 9,
   "metadata": {},
   "outputs": [
    {
     "data": {
      "text/plain": [
       "<menu_parser.MenuParser at 0x7f65e8c52e48>"
      ]
     },
     "execution_count": 9,
     "metadata": {},
     "output_type": "execute_result"
    }
   ],
   "source": [
    "parser."
   ]
  },
  {
   "cell_type": "code",
   "execution_count": null,
   "metadata": {},
   "outputs": [],
   "source": []
  },
  {
   "cell_type": "markdown",
   "metadata": {},
   "source": [
    "## **일일수집 해외 위해정보**\n",
    "http://www.foodsafetykorea.go.kr/riskinfo/board-collect-list.do\n",
    "1. Selenium 으로 해당 이벤트를 클릭한 뒤\n",
    "1. 상세페이지에서 해당 xls 파일 다운로드 받기"
   ]
  },
  {
   "cell_type": "code",
   "execution_count": null,
   "metadata": {},
   "outputs": [],
   "source": []
  },
  {
   "cell_type": "code",
   "execution_count": null,
   "metadata": {},
   "outputs": [],
   "source": []
  },
  {
   "cell_type": "code",
   "execution_count": null,
   "metadata": {},
   "outputs": [],
   "source": []
  },
  {
   "cell_type": "code",
   "execution_count": 11,
   "metadata": {},
   "outputs": [
    {
     "data": {
      "text/plain": [
       "'20191021'"
      ]
     },
     "execution_count": 11,
     "metadata": {},
     "output_type": "execute_result"
    }
   ],
   "source": [
    "temp = datetime.today()\n",
    "temp.strftime('%Y%m%d')"
   ]
  },
  {
   "cell_type": "code",
   "execution_count": 9,
   "metadata": {},
   "outputs": [
    {
     "data": {
      "text/plain": [
       "'20191021'"
      ]
     },
     "execution_count": 9,
     "metadata": {},
     "output_type": "execute_result"
    }
   ],
   "source": [
    "datetime.strftime(temp, '%Y%m%d')"
   ]
  },
  {
   "cell_type": "markdown",
   "metadata": {},
   "source": [
    "## **2 알라딘 중고책**\n",
    "api 크롤링을 사용한 데이터 수집"
   ]
  },
  {
   "cell_type": "code",
   "execution_count": 1,
   "metadata": {},
   "outputs": [],
   "source": [
    "query = {\n",
    "    \"KeyWord\":\"파이썬\", #\"%C6%C4%C0%CC%BD%E3\",\n",
    "    \"ViewType\":\"Detail\",\n",
    "    \"SortOrder\":5,  # 5:출시일순, 11:등록순\n",
    "    \"ViewRowCount\":50,\n",
    "    \"page\":2,    \n",
    "}"
   ]
  },
  {
   "cell_type": "code",
   "execution_count": 3,
   "metadata": {},
   "outputs": [],
   "source": [
    "url = \"https://www.aladin.co.kr/search/wsearchresult.aspx?SearchTarget=UsedStore\"\n",
    "from urllib import parse, request\n",
    "params = parse.urlencode(query).encode('cp949') # Params 인코딩 변환\n",
    "resp   = request.Request(url, params)           # url 주소값 생성\n",
    "resp   = request.urlopen(resp).read()           # url 을 활용한 response 수집\n",
    "resp   = parse.quote_plus(resp)                 # response 의 byte 를 string 변환\n",
    "resp   = parse.unquote_plus(resp, encoding='cp949') # string 인코딩 변환 (default='utf-8')"
   ]
  },
  {
   "cell_type": "code",
   "execution_count": null,
   "metadata": {},
   "outputs": [],
   "source": []
  },
  {
   "cell_type": "code",
   "execution_count": 4,
   "metadata": {},
   "outputs": [],
   "source": [
    "with open('book.html','w') as f:\n",
    "    f.write(resp)"
   ]
  },
  {
   "cell_type": "code",
   "execution_count": 21,
   "metadata": {},
   "outputs": [
    {
     "data": {
      "text/plain": [
       "'퀀트'"
      ]
     },
     "execution_count": 21,
     "metadata": {},
     "output_type": "execute_result"
    }
   ],
   "source": [
    "# decoding (기본값 utf-8)\n",
    "parse.unquote_plus('%C4%F6%C6%AE', encoding='cp949')"
   ]
  },
  {
   "cell_type": "code",
   "execution_count": 22,
   "metadata": {},
   "outputs": [
    {
     "data": {
      "text/plain": [
       "'%C4%F6%C6%AE'"
      ]
     },
     "execution_count": 22,
     "metadata": {},
     "output_type": "execute_result"
    }
   ],
   "source": [
    "# encodings\n",
    "parse.quote_plus(\"퀀트\", encoding='cp949')"
   ]
  },
  {
   "cell_type": "code",
   "execution_count": null,
   "metadata": {},
   "outputs": [],
   "source": [
    "# <div class=\"Search3_Pager\">\n",
    "#     <table "
   ]
  },
  {
   "cell_type": "code",
   "execution_count": 35,
   "metadata": {},
   "outputs": [],
   "source": [
    "with open(\"data/food_recipie.json\", \"r\", encoding='utf-8-sig') as f:\n",
    "    recipe = f.read()"
   ]
  },
  {
   "cell_type": "code",
   "execution_count": 43,
   "metadata": {},
   "outputs": [],
   "source": [
    "import json\n",
    "food_data = json.loads(recipe)\n",
    "foods = [_ for _ in food_data.keys()]"
   ]
  },
  {
   "cell_type": "code",
   "execution_count": 44,
   "metadata": {},
   "outputs": [
    {
     "data": {
      "text/plain": [
       "{'스모크햄': 10.0,\n",
       " '양배추': 20.0,\n",
       " '당근': 10.0,\n",
       " '오이': 15.0,\n",
       " '건포도': 2.0,\n",
       " '머스타드': 120.0,\n",
       " '사과': 120.0,\n",
       " '적채': 90.0,\n",
       " '마요네즈': 90.0,\n",
       " '스모크': 1.5}"
      ]
     },
     "execution_count": 44,
     "metadata": {},
     "output_type": "execute_result"
    }
   ],
   "source": [
    "food_data[foods[0]]"
   ]
  },
  {
   "cell_type": "code",
   "execution_count": null,
   "metadata": {},
   "outputs": [],
   "source": [
    "import codecs\n",
    "decoded_data=codecs.decode(r.text, 'utf-8-sig')"
   ]
  }
 ],
 "metadata": {
  "kernelspec": {
   "display_name": "Python 3",
   "language": "python",
   "name": "python3"
  },
  "language_info": {
   "codemirror_mode": {
    "name": "ipython",
    "version": 3
   },
   "file_extension": ".py",
   "mimetype": "text/x-python",
   "name": "python",
   "nbconvert_exporter": "python",
   "pygments_lexer": "ipython3",
   "version": "3.6.8"
  }
 },
 "nbformat": 4,
 "nbformat_minor": 4
}
