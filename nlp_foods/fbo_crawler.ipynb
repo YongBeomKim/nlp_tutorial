{
 "cells": [
  {
   "cell_type": "markdown",
   "metadata": {},
   "source": [
    "# **FBA.gov 조달서비스 크롤링**\n",
    "- https://www.fbo.gov/index.php?s=opportunity&amp=&pageID=3\n",
    "- https://www.fbo.gov/index.php?s=opportunity&mode=list&tab=list&tabmode=list&pp=100\n",
    "- https://www.fbo.gov/index.php?s=opportunity&mode=list&tab=list&tabmode=list&pp=100&pageID=2\n",
    "- https://www.fbo.gov/index.php?s=opportunity&mode=list&tab=list&tabmode=list"
   ]
  },
  {
   "cell_type": "markdown",
   "metadata": {},
   "source": [
    "## **1 전체 페이지에서 개별 목록 수집하기**\n",
    "https://github.com/SmugZombie/FBO_Parser/blob/master/fbo_parse.py\n",
    "\n",
    "```html\n",
    "<div class=\"solt\">Janitorial Service </div>,   # 입찰서 제목\n",
    "<div class=\"soln\">70FBR919Q00000072 </div>,    # 입찰서 번호\n",
    "<div class=\"solcc\">S -- Utilities and housekeeping services </div> # FSC CODE\n",
    "```"
   ]
  },
  {
   "cell_type": "code",
   "execution_count": 1,
   "metadata": {},
   "outputs": [
    {
     "data": {
      "text/plain": [
       "(str, bs4.BeautifulSoup)"
      ]
     },
     "execution_count": 1,
     "metadata": {},
     "output_type": "execute_result"
    }
   ],
   "source": [
    "import requests\n",
    "def html_download(url, method=\"get\", params=None, data=None):\n",
    "    userAgent = {\"user-agent\":\"Mozilla/5.0 (X11; Ubuntu; Linux x86_64; rv:61.0) Gecko/20100101 Firefox/61.0\"}\n",
    "    return requests.request(method, url, params=params, data=data, headers= userAgent)\n",
    "\n",
    "from bs4 import BeautifulSoup\n",
    "url  = \"https://www.fbo.gov/index.php?s=opportunity&mode=list&tab=list&tabmode=list&pp=100\"\n",
    "html = html_download(url)\n",
    "dom  = BeautifulSoup(html.text, \"html.parser\") # 오류시 \n",
    "type(html.text), type(dom)"
   ]
  },
  {
   "cell_type": "markdown",
   "metadata": {},
   "source": [
    "## **2 Row 기준으로 추출하기**\n",
    "https://github.com/SmugZombie/FBO_Parser/blob/master/fbo_parse.py\n",
    "\n",
    "```html\n",
    "<tr id=\"row_0\" class=\"lst-rw lst-rw-first lst-rw-odd\">\n",
    "<tr id=\"row_1\" class=\"lst-rw lst-rw-first lst-rw-odd\">   \n",
    "```"
   ]
  },
  {
   "cell_type": "code",
   "execution_count": 2,
   "metadata": {},
   "outputs": [
    {
     "data": {
      "text/plain": [
       "(100, 4)"
      ]
     },
     "execution_count": 2,
     "metadata": {},
     "output_type": "execute_result"
    }
   ],
   "source": [
    "# 정규식을 사용한 Token 을 활용하면 다양한 가변조합을 선택 가능\n",
    "import re\n",
    "token_id   = re.compile(\"row_\\d{1,2}\")\n",
    "link_pages = [_ for _ in dom.find_all(\"tr\", {\"id\":token_id})]\n",
    "len(link_pages), len(link_pages[0].find_all('td'))"
   ]
  },
  {
   "cell_type": "code",
   "execution_count": 27,
   "metadata": {},
   "outputs": [],
   "source": [
    "result = []\n",
    "for link in link_pages:\n",
    "    row_result = []\n",
    "    tags = link.find_all('td')\n",
    "    row_result += [tags[0].find(\"\", {\"class\":_}).text.strip() \n",
    "                   for _ in ['soln','solt','solcc']] +\\\n",
    "                [requests.compat.urljoin(url, tags[0].a['href'])] +\\\n",
    "                [tags[1].text.strip()] + [tags[2].text.strip()] + [tags[3].text.strip()]\n",
    "    result.append(row_result)"
   ]
  },
  {
   "cell_type": "code",
   "execution_count": 28,
   "metadata": {},
   "outputs": [
    {
     "data": {
      "text/html": [
       "<div>\n",
       "<style scoped>\n",
       "    .dataframe tbody tr th:only-of-type {\n",
       "        vertical-align: middle;\n",
       "    }\n",
       "\n",
       "    .dataframe tbody tr th {\n",
       "        vertical-align: top;\n",
       "    }\n",
       "\n",
       "    .dataframe thead th {\n",
       "        text-align: right;\n",
       "    }\n",
       "</style>\n",
       "<table border=\"1\" class=\"dataframe\">\n",
       "  <thead>\n",
       "    <tr style=\"text-align: right;\">\n",
       "      <th></th>\n",
       "      <th>입찰번호</th>\n",
       "      <th>입찰제목</th>\n",
       "      <th>FCS CODE</th>\n",
       "      <th>detail_page</th>\n",
       "      <th>Agency/Office/Location</th>\n",
       "      <th>Type Sort/Set-aside Sort</th>\n",
       "      <th>Posted On Sort</th>\n",
       "    </tr>\n",
       "  </thead>\n",
       "  <tbody>\n",
       "    <tr>\n",
       "      <th>0</th>\n",
       "      <td></td>\n",
       "      <td>J&amp;A Aerosmith Maintenance Calibration</td>\n",
       "      <td>66 -- Instruments &amp; laboratory equipment</td>\n",
       "      <td>https://www.fbo.gov/index.php?s=opportunity&amp;mo...</td>\n",
       "      <td>Department of the Army Army Contracting Comman...</td>\n",
       "      <td>Justification and Approval (J&amp;A) / Cancelled</td>\n",
       "      <td>Sep 04, 2019</td>\n",
       "    </tr>\n",
       "    <tr>\n",
       "      <th>1</th>\n",
       "      <td>W9098S19T0104</td>\n",
       "      <td>Air Inlet Duct Work</td>\n",
       "      <td>41 -- Refrigeration, air-conditioning &amp; air ci...</td>\n",
       "      <td>https://www.fbo.gov/index.php?s=opportunity&amp;mo...</td>\n",
       "      <td>Department of the Army Army Contracting Comman...</td>\n",
       "      <td>Solicitation / Woman Owned Small Business</td>\n",
       "      <td>Sep 04, 2019</td>\n",
       "    </tr>\n",
       "    <tr>\n",
       "      <th>2</th>\n",
       "      <td>2840-00-157-3633RV</td>\n",
       "      <td>TF33 Engine, P100 1st Stage Fan Blade Sets, NS...</td>\n",
       "      <td>28 -- Engines, turbines &amp; components</td>\n",
       "      <td>https://www.fbo.gov/index.php?s=opportunity&amp;mo...</td>\n",
       "      <td>Department of the Air Force Air Force Materiel...</td>\n",
       "      <td>Sources Sought</td>\n",
       "      <td>Sep 04, 2019</td>\n",
       "    </tr>\n",
       "    <tr>\n",
       "      <th>3</th>\n",
       "      <td>409527R1_2019</td>\n",
       "      <td>323111SIS Stateside Superintendent Kits.</td>\n",
       "      <td>T -- Photographic, mapping, printing, &amp; public...</td>\n",
       "      <td>https://www.fbo.gov/index.php?s=opportunity&amp;mo...</td>\n",
       "      <td>Government Publishing Office Customer Services...</td>\n",
       "      <td>Combined Synopsis/Solicitation (Modified)</td>\n",
       "      <td>Sep 04, 2019</td>\n",
       "    </tr>\n",
       "    <tr>\n",
       "      <th>4</th>\n",
       "      <td>86614619Q00007</td>\n",
       "      <td>Student Housing Competition</td>\n",
       "      <td>R -- Professional, administrative, and managem...</td>\n",
       "      <td>https://www.fbo.gov/index.php?s=opportunity&amp;mo...</td>\n",
       "      <td>Department of Housing and Urban Development Fo...</td>\n",
       "      <td>Award / Woman Owned Small Business</td>\n",
       "      <td>Sep 04, 2019</td>\n",
       "    </tr>\n",
       "  </tbody>\n",
       "</table>\n",
       "</div>"
      ],
      "text/plain": [
       "                 입찰번호                                               입찰제목  \\\n",
       "0                                  J&A Aerosmith Maintenance Calibration   \n",
       "1       W9098S19T0104                                Air Inlet Duct Work   \n",
       "2  2840-00-157-3633RV  TF33 Engine, P100 1st Stage Fan Blade Sets, NS...   \n",
       "3       409527R1_2019           323111SIS Stateside Superintendent Kits.   \n",
       "4      86614619Q00007                        Student Housing Competition   \n",
       "\n",
       "                                            FCS CODE  \\\n",
       "0           66 -- Instruments & laboratory equipment   \n",
       "1  41 -- Refrigeration, air-conditioning & air ci...   \n",
       "2               28 -- Engines, turbines & components   \n",
       "3  T -- Photographic, mapping, printing, & public...   \n",
       "4  R -- Professional, administrative, and managem...   \n",
       "\n",
       "                                         detail_page  \\\n",
       "0  https://www.fbo.gov/index.php?s=opportunity&mo...   \n",
       "1  https://www.fbo.gov/index.php?s=opportunity&mo...   \n",
       "2  https://www.fbo.gov/index.php?s=opportunity&mo...   \n",
       "3  https://www.fbo.gov/index.php?s=opportunity&mo...   \n",
       "4  https://www.fbo.gov/index.php?s=opportunity&mo...   \n",
       "\n",
       "                              Agency/Office/Location  \\\n",
       "0  Department of the Army Army Contracting Comman...   \n",
       "1  Department of the Army Army Contracting Comman...   \n",
       "2  Department of the Air Force Air Force Materiel...   \n",
       "3  Government Publishing Office Customer Services...   \n",
       "4  Department of Housing and Urban Development Fo...   \n",
       "\n",
       "                       Type Sort/Set-aside Sort Posted On Sort  \n",
       "0  Justification and Approval (J&A) / Cancelled   Sep 04, 2019  \n",
       "1     Solicitation / Woman Owned Small Business   Sep 04, 2019  \n",
       "2                                Sources Sought   Sep 04, 2019  \n",
       "3     Combined Synopsis/Solicitation (Modified)   Sep 04, 2019  \n",
       "4            Award / Woman Owned Small Business   Sep 04, 2019  "
      ]
     },
     "execution_count": 28,
     "metadata": {},
     "output_type": "execute_result"
    }
   ],
   "source": [
    "import pandas as pd\n",
    "df = pd.DataFrame(result)\n",
    "df.columns = ['입찰번호','입찰제목', 'FCS CODE','detail_page', 'Agency/Office/Location', 'Type Sort/Set-aside Sort', 'Posted On Sort']\n",
    "df.head()"
   ]
  },
  {
   "cell_type": "code",
   "execution_count": 29,
   "metadata": {},
   "outputs": [
    {
     "data": {
      "text/plain": [
       "'https://www.fbo.gov/index.php?s=opportunity&mode=form&id=b02beb005b9d973e3958e9465d5002ea&tab=core&_cview=1'"
      ]
     },
     "execution_count": 29,
     "metadata": {},
     "output_type": "execute_result"
    }
   ],
   "source": [
    "link = df.detail_page[10]\n",
    "link"
   ]
  },
  {
   "cell_type": "code",
   "execution_count": 26,
   "metadata": {},
   "outputs": [
    {
     "data": {
      "text/plain": [
       "'https://www.fbo.gov/index.php?s=opportunity&mode=form&id=b02beb005b9d973e3958e9465d5002ea&tab=core&_cview=1'"
      ]
     },
     "execution_count": 26,
     "metadata": {},
     "output_type": "execute_result"
    }
   ],
   "source": [
    "requests.compat.urljoin(url, link)"
   ]
  },
  {
   "cell_type": "markdown",
   "metadata": {},
   "source": [
    "## **3 개별 페이지 내용 살펴보기**\n",
    "https://github.com/SmugZombie/FBO_Parser/blob/master/fbo_parse.py"
   ]
  },
  {
   "cell_type": "code",
   "execution_count": 30,
   "metadata": {},
   "outputs": [
    {
     "data": {
      "text/plain": [
       "(str,\n",
       " bs4.BeautifulSoup,\n",
       " 'https://www.fbo.gov/index.php?s=opportunity&mode=form&id=83e62421f423928d0f794c021304ac11&tab=core&_cview=1')"
      ]
     },
     "execution_count": 30,
     "metadata": {},
     "output_type": "execute_result"
    }
   ],
   "source": [
    "#html \n",
    "#body.yui-skin-sam.html4.ff.ff2 \n",
    "#div.sys-vendor div.sec-opportunity \n",
    "#div#bodywrap \n",
    "#div#c \n",
    "#div#cc \n",
    "#div.mc \n",
    "#table.layout \n",
    "#tbody tr td.sidebar div.sb\n",
    "\n",
    "page_url = df.detail_page[9]\n",
    "html = html_download(page_url)\n",
    "dom  = BeautifulSoup(html.text, \"html.parser\") # 오류시 \n",
    "type(html.text), type(dom), page_url"
   ]
  },
  {
   "cell_type": "code",
   "execution_count": 31,
   "metadata": {},
   "outputs": [
    {
     "name": "stdout",
     "output_type": "stream",
     "text": [
      "['https://www.fbo.gov/utils/view?id=5db1f6f772a6c197c251ab32aafd9f87']\n"
     ]
    }
   ],
   "source": [
    "# 첨부파일 style class : subformclass_document_package\n",
    "attached = dom.find('div', {\"class\":\"subformclass_document_package\"}) \n",
    "\n",
    "result   = []\n",
    "if attached:\n",
    "    add_files = attached.find_all(\"a\", {\"class\":\"file\"})\n",
    "    if len(add_files) > 0:\n",
    "        result += [requests.compat.urljoin(page_url, _['href'])  for _ in add_files]\n",
    "    add_links = attached.find_all(\"a\", {\"class\":\"link\"})\n",
    "    if len(add_links) > 0:\n",
    "        result += [_['href']  for _ in add_links] # 외부 link 수집\n",
    "    print(result)\n",
    "else:\n",
    "    print(\"link does not exist!\")\n",
    "# dom.find('div', {\"class\":\"subformclass_document_package\"}).find_all(\"a\", {\"class\":\"link\"})"
   ]
  },
  {
   "cell_type": "code",
   "execution_count": 32,
   "metadata": {},
   "outputs": [
    {
     "data": {
      "text/plain": [
       "['Notice Type: Solicitation',\n",
       " 'Original Posted Date: September 3, 2019',\n",
       " 'Posted Date: September 4, 2019',\n",
       " 'Response Date: Sep 15, 2019 11:59 pm Central',\n",
       " 'Original Response Date: Sep 15, 2019 11:59 pm Central',\n",
       " 'Archiving Policy: Automatic, 15 days after response date',\n",
       " 'Original Archive Date: September 30, 2019',\n",
       " 'Archive Date: September 30, 2019',\n",
       " 'Original Set Aside: Total Small Business',\n",
       " 'Set Aside: Total Small Business',\n",
       " 'Classification Code: 99 -- Miscellaneous',\n",
       " 'NAICS Code: 311 -- Food Manufacturing/311812 -- Commercial Bakeries']"
      ]
     },
     "execution_count": 32,
     "metadata": {},
     "output_type": "execute_result"
    }
   ],
   "source": [
    "# 첨부파일 요약 및 압축파일 찾기 : 하지만 2번 거쳐야 되고 포맷도 복잡해서 제외하기\n",
    "# tags = dom.find('div', {\"id\":\"bodywrap\"}).find(\"div\",{\"id\":\"cc\"}).\\\n",
    "#     find(\"table\",{\"class\":\"layout\"}).find('td',{\"class\":\"sidebar\"}).find_all('div',{\"class\":\"sb\"})[0]\n",
    "# for _ in tags.find_all('a'):\n",
    "#     print(_.text, \"||\", _['href'], \"\\n\")\n",
    "\n",
    "# 수집할 대상의 특정\n",
    "tags = dom.find('div', {\"id\":\"bodywrap\"}).find(\"div\",{\"id\":\"cc\"}).\\\n",
    "    find(\"table\",{\"class\":\"layout\"}).find('td',{\"class\":\"sidebar\"}).find_all('div',{\"class\":\"sb\"})[-1]\n",
    "\n",
    "import unidecode\n",
    "# ! pip install Unidecode\n",
    "regex_token  = re.compile(\"so_formfield_dnf_class_values_procurement_notice__.*?\")\n",
    "# div id=\"so_formfield_dnf_class_values_procurement_notice__procurement_type_\"\n",
    "# div id=\"so_formfield_dnf_class_values_procurement_notice__posted_date_\"\n",
    "# div id=\"so_formfield_dnf_class_values_procurement_notice__response_deadline_\"\n",
    "regex_detail = re.compile(r\"[^ (\\n)(\\t)]+\", re.UNICODE)\n",
    "\n",
    "texts = [_.text.strip()  for _ in tags.find_all(\"div\", {\"id\":regex_token})]\n",
    "texts = [\" \".join(regex_detail.findall(str(_.text)))  for _ in tags.find_all(\"div\", {\"id\":regex_token})]\n",
    "texts = [unidecode.unidecode(_)  for _ in texts]  # /xa0 등 불필요한 유니코드 삭제\n",
    "texts"
   ]
  },
  {
   "cell_type": "code",
   "execution_count": null,
   "metadata": {},
   "outputs": [],
   "source": []
  }
 ],
 "metadata": {
  "kernelspec": {
   "display_name": "Python 3",
   "language": "python",
   "name": "python3"
  },
  "language_info": {
   "codemirror_mode": {
    "name": "ipython",
    "version": 3
   },
   "file_extension": ".py",
   "mimetype": "text/x-python",
   "name": "python",
   "nbconvert_exporter": "python",
   "pygments_lexer": "ipython3",
   "version": "3.6.3"
  }
 },
 "nbformat": 4,
 "nbformat_minor": 4
}
