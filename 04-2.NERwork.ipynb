{
 "cells": [
  {
   "cell_type": "markdown",
   "metadata": {},
   "source": [
    "# **NER 사전 만들기**\n",
    "https://pypi.org/project/mdict-utils/\n",
    "1. **MDX 사전파일을** 활용하여 객체에 구분하기\n",
    "\n",
    "## **1 Sqlite3 데이터 불러오기**\n",
    "sqlite3 데이터 불러오기"
   ]
  },
  {
   "cell_type": "code",
   "execution_count": 1,
   "metadata": {},
   "outputs": [
    {
     "data": {
      "text/plain": [
       "['meta', 'mdx']"
      ]
     },
     "execution_count": 1,
     "metadata": {},
     "output_type": "execute_result"
    }
   ],
   "source": [
    "import sqlite3\n",
    "import pandas as pd\n",
    "conn = sqlite3.connect('backup/kordict.db')\n",
    "resp = conn.execute(\"SELECT name FROM sqlite_master WHERE type='table';\")\n",
    "tableNames = [name[0]  for name in resp]\n",
    "tableNames"
   ]
  },
  {
   "cell_type": "code",
   "execution_count": 2,
   "metadata": {},
   "outputs": [
    {
     "name": "stdout",
     "output_type": "stream",
     "text": [
      "516490 ['ᄛ', 'ᄻ', 'ᆐ', 'ㄱ', 'ㄱ', 'ㄱㄴㄷ순', 'ㄱㄴㄷ차례', 'ㄱㄴ순', 'ㄱㄴ차례', 'ㄱ자'] (516490, 2)\n",
      "CPU times: user 1.19 s, sys: 259 ms, total: 1.45 s\n",
      "Wall time: 1.52 s\n"
     ]
    },
    {
     "data": {
      "text/html": [
       "<div>\n",
       "<style scoped>\n",
       "    .dataframe tbody tr th:only-of-type {\n",
       "        vertical-align: middle;\n",
       "    }\n",
       "\n",
       "    .dataframe tbody tr th {\n",
       "        vertical-align: top;\n",
       "    }\n",
       "\n",
       "    .dataframe thead th {\n",
       "        text-align: right;\n",
       "    }\n",
       "</style>\n",
       "<table border=\"1\" class=\"dataframe\">\n",
       "  <thead>\n",
       "    <tr style=\"text-align: right;\">\n",
       "      <th></th>\n",
       "      <th>entry</th>\n",
       "      <th>paraphrase</th>\n",
       "    </tr>\n",
       "  </thead>\n",
       "  <tbody>\n",
       "    <tr>\n",
       "      <th>0</th>\n",
       "      <td>ᄛ</td>\n",
       "      <td>&lt;font color=crimson size=+2&gt;&lt;b&gt;ᄛ&lt;/b&gt;&lt;/font&gt;&lt;br...</td>\n",
       "    </tr>\n",
       "    <tr>\n",
       "      <th>1</th>\n",
       "      <td>ᄻ</td>\n",
       "      <td>&lt;font color=crimson size=+2&gt;&lt;b&gt;ᄻ&lt;/b&gt;&lt;/font&gt;&lt;br...</td>\n",
       "    </tr>\n",
       "    <tr>\n",
       "      <th>2</th>\n",
       "      <td>ᆐ</td>\n",
       "      <td>&lt;font color=crimson size=+2&gt;&lt;b&gt;ᆐ&lt;/b&gt;&lt;/font&gt;&lt;br...</td>\n",
       "    </tr>\n",
       "    <tr>\n",
       "      <th>3</th>\n",
       "      <td>ㄱ</td>\n",
       "      <td>&lt;font color=crimson size=+2&gt;&lt;b&gt;ㄱ&lt;/b&gt;&lt;/font&gt;&lt;br...</td>\n",
       "    </tr>\n",
       "    <tr>\n",
       "      <th>4</th>\n",
       "      <td>ㄱ</td>\n",
       "      <td>&lt;font color=crimson size=+2&gt;&lt;b&gt;ㄱ&lt;/b&gt;&lt;/font&gt;&lt;br...</td>\n",
       "    </tr>\n",
       "  </tbody>\n",
       "</table>\n",
       "</div>"
      ],
      "text/plain": [
       "  entry                                         paraphrase\n",
       "0     ᄛ  <font color=crimson size=+2><b>ᄛ</b></font><br...\n",
       "1     ᄻ  <font color=crimson size=+2><b>ᄻ</b></font><br...\n",
       "2     ᆐ  <font color=crimson size=+2><b>ᆐ</b></font><br...\n",
       "3     ㄱ  <font color=crimson size=+2><b>ㄱ</b></font><br...\n",
       "4     ㄱ  <font color=crimson size=+2><b>ㄱ</b></font><br..."
      ]
     },
     "execution_count": 2,
     "metadata": {},
     "output_type": "execute_result"
    }
   ],
   "source": [
    "%%time\n",
    "df = pd.read_sql_query(\"SELECT * FROM {}\".format(tableNames[1]), conn)\n",
    "itemIndex = df.entry.values.tolist()\n",
    "itemData  = df.paraphrase.values.tolist()\n",
    "print(len(itemIndex), itemIndex[:10], df.shape)\n",
    "df.head()"
   ]
  },
  {
   "cell_type": "markdown",
   "metadata": {},
   "source": [
    "## **2 자료 전처리**\n",
    "1. regex 를 활용하여 가치있는 **명사내용** 추출하기\n",
    "1. \"「1」\" 내용은 동일한 개념의 단어를 정리한 것\n",
    "1. sentence 별로 내용의 확인 및 구분이 필요\n",
    "\n",
    "```html\n",
    "<font color=crimson size=+2><b>대상행동</b></font>\n",
    "<br><br>\n",
    "<font COLOR=\"#00008B\"><b>대상^행동(代償行動)</b></font>\n",
    "『심리』\n",
    "<br>\n",
    "자기가 요구하는 바를 얻지 못할 때 그와 비슷한 다른 대상으로 만족을 채우려는 행동. \n",
    "어떤 대상에 의하여 일어나는 긴장을 다른 대상으로 해소하는 방어 기제의 하나이다. \n",
    "≒보상 작용\n",
    "<br>\n",
    "「1」ㆍ보상 행동.\\r\\n'\n",
    " ```"
   ]
  },
  {
   "cell_type": "code",
   "execution_count": 3,
   "metadata": {},
   "outputs": [
    {
     "data": {
      "text/plain": [
       "(516490, ['ᄛ', 'ᄻ', 'ᆐ', 'ㄱ', 'ㄱ', 'ㄱㄴㄷ순', 'ㄱㄴㄷ차례', 'ㄱㄴ순', 'ㄱㄴ차례', 'ㄱ자'])"
      ]
     },
     "execution_count": 3,
     "metadata": {},
     "output_type": "execute_result"
    }
   ],
   "source": [
    "# 색인정보 : 51만개의 단어사전 데이터\n",
    "itemIndex = df.entry.values.tolist()\n",
    "itemData  = df.paraphrase.values.tolist()\n",
    "len(itemIndex), itemIndex[:10]"
   ]
  },
  {
   "cell_type": "markdown",
   "metadata": {},
   "source": [
    "## **3 HTML 태그 제거 및 본문선별**\n",
    "1. **/font** 태그가 제목 이외에, 세부내용에도 포함됩니다.\n",
    "1. 때문에 이를 무조건 적용하기엔 문제가 있어서 Tag 구조를 명확하게 파악하기\n",
    "1. 우선 구조에 대한 형태를 몇가지로 확인한 뒤 작업을 진행하기\n",
    "\n",
    "```python\n",
    "'<title.*?>(.+?)</title>'  # 특정태그\n",
    "'<.*?>' # 모든 태그\n",
    "```"
   ]
  },
  {
   "cell_type": "code",
   "execution_count": 5,
   "metadata": {},
   "outputs": [
    {
     "data": {
      "text/plain": [
       "105924"
      ]
     },
     "execution_count": 5,
     "metadata": {},
     "output_type": "execute_result"
    }
   ],
   "source": [
    "search_query = \"대리인\"\n",
    "num = [no  for no, _ in enumerate(itemIndex)  if _ == search_query][0]\n",
    "num"
   ]
  },
  {
   "cell_type": "code",
   "execution_count": 6,
   "metadata": {},
   "outputs": [
    {
     "data": {
      "text/plain": [
       "'<font color=\"crimson\" size=\"+2\">\\n <b>\\n  대리인\\n </b>\\n</font>\\n<br/>\\n<br/>\\n<font color=\"#00008b\">\\n <b>\\n  대리-인(代理人) [대ː--]\\n </b>\\n</font>\\n<br/>\\n<font color=\"#549606\">\\n <b>\\n  「명사」\\n </b>\\n</font>\\n<br/>\\n<br/>\\n<br/>\\n<font color=\"#cb4a00\">\\n <b>\\n  「1」\\n </b>\\n</font>\\n다른 사람을 대신하는 사람.\\n<br/>\\n¶ 본인이 직접 가지 않고 대리인을 시켜 가게 했다./너를 내 대리인으로 그 상회에 근무하도록 부탁했지.≪황석영, 무기의 그늘≫\\n<br/>\\n<font color=\"#cb4a00\">\\n <b>\\n  「2」\\n </b>\\n</font>\\n『법률』대리를 할 수 있는 지위에 있는 사람. 의사 능력이 있는 사람이어야 하며 대리인이 한 행위의 효과는 본인에게 귀속된다. 민법에는 법정 대리인과 임의 대리인이 있으며, 민사 소송에는 소송 대리인, 형사 소송에는 변호인이 있다. ≒대리자.\\n'"
      ]
     },
     "execution_count": 6,
     "metadata": {},
     "output_type": "execute_result"
    }
   ],
   "source": [
    "tempXml = itemData[num].lower()\n",
    "from bs4 import BeautifulSoup\n",
    "html_source = BeautifulSoup(tempXml, 'html.parser').prettify()\n",
    "html_source # print(html_source)"
   ]
  },
  {
   "cell_type": "code",
   "execution_count": 7,
   "metadata": {},
   "outputs": [
    {
     "data": {
      "text/plain": [
       "'<font color=crimson size=+2>, <b>, </b>, </font>, <br>, <br>, <font color=\"#00008b\">, <b>, </b>, </font>, <br>, <font color=\"#549606\">, <b>, </b>, </font>, <br>, <br>, <br>, <font color=\"#cb4a00\">, <b>, </b>, </font>, <br>, <br>, <font color=\"#cb4a00\">, <b>, </b>, </font>'"
      ]
     },
     "execution_count": 7,
     "metadata": {},
     "output_type": "execute_result"
    }
   ],
   "source": [
    "import re\n",
    "regex_html = '<.*?>'                 # html 태그내용만 추출 (게으른 수량자)\n",
    "# regex_html = '<.*>'                 # html 태그내용만 추출 (탐욕적 수량자)\n",
    "regex_text = \"<[^>]+>|[^<]+\"         # html 태그 내부의 한글 추출\n",
    "regex_font = '<font.*?>(.+?)</font>' # html 추출 : font 태그 내용만 추출\n",
    "\n",
    "# html 태그의 추출\n",
    "f_html = re.findall(regex_html, tempXml) # HTML 태그내용\n",
    "\", \".join(f_html)"
   ]
  },
  {
   "cell_type": "code",
   "execution_count": 9,
   "metadata": {},
   "outputs": [
    {
     "data": {
      "text/plain": [
       "['<b>대리인</b>',\n",
       " '<b>대리-인(代理人) [대ː--]</b>',\n",
       " '<b>「명사」</b>',\n",
       " '<b>「1」</b>',\n",
       " '<b>「2」</b>']"
      ]
     },
     "execution_count": 9,
     "metadata": {},
     "output_type": "execute_result"
    }
   ],
   "source": [
    "# 특정 font 태그 내부의 text 를 추출\n",
    "f_font = re.findall(regex_font, tempXml)\n",
    "[\"<font>{}</font>\".format(_) for _ in f_font]\n",
    "[_ for _ in f_font]"
   ]
  },
  {
   "cell_type": "code",
   "execution_count": 12,
   "metadata": {},
   "outputs": [
    {
     "data": {
      "text/plain": [
       "['대리인', '대리-인(代理人) [대ː--]', '「명사」', '「1」', '「2」']"
      ]
     },
     "execution_count": 12,
     "metadata": {},
     "output_type": "execute_result"
    }
   ],
   "source": [
    "# f_font 의 태그를 제거한 나머지\n",
    "f_txt = [re.sub(regex_html,\"\", _)  for _ in f_font] \n",
    "f_txt"
   ]
  },
  {
   "cell_type": "code",
   "execution_count": 10,
   "metadata": {},
   "outputs": [
    {
     "data": {
      "text/plain": [
       "'<font color=crimson size=+2>, <b>, 대리인, </b>, </font>, <br>, <br>, <font color=\"#00008b\">, <b>, 대리-인(代理人) [대ː--], </b>, </font>, <br>, <font color=\"#549606\">, <b>, 「명사」, </b>, </font>, <br>, <br>, <br>, <font color=\"#cb4a00\">, <b>, 「1」, </b>, </font>, 다른 사람을 대신하는 사람., <br>, ¶ 본인이 직접 가지 않고 대리인을 시켜 가게 했다./너를 내 대리인으로 그 상회에 근무하도록 부탁했지.≪황석영, 무기의 그늘≫, <br>, <font color=\"#cb4a00\">, <b>, 「2」, </b>, </font>, 『법률』대리를 할 수 있는 지위에 있는 사람. 의사 능력이 있는 사람이어야 하며 대리인이 한 행위의 효과는 본인에게 귀속된다. 민법에는 법정 대리인과 임의 대리인이 있으며, 민사 소송에는 소송 대리인, 형사 소송에는 변호인이 있다. ≒대리자.\\r\\n'"
      ]
     },
     "execution_count": 10,
     "metadata": {},
     "output_type": "execute_result"
    }
   ],
   "source": [
    "f_full = re.findall(regex_text, tempXml) \n",
    "\", \".join(f_full)"
   ]
  },
  {
   "cell_type": "code",
   "execution_count": 10,
   "metadata": {},
   "outputs": [
    {
     "data": {
      "text/plain": [
       "['대리인',\n",
       " '대리-인(代理人) [대ː--]',\n",
       " '「명사」',\n",
       " '「1」',\n",
       " '다른 사람을 대신하는 사람.',\n",
       " '¶ 본인이 직접 가지 않고 대리인을 시켜 가게 했다./너를 내 대리인으로 그 상회에 근무하도록 부탁했지.≪황석영, 무기의 그늘≫',\n",
       " '「2」',\n",
       " '『법률』대리를 할 수 있는 지위에 있는 사람. 의사 능력이 있는 사람이어야 하며 대리인이 한 행위의 효과는 본인에게 귀속된다. 민법에는 법정 대리인과 임의 대리인이 있으며, 민사 소송에는 소송 대리인, 형사 소송에는 변호인이 있다. ≒대리자.\\r\\n']"
      ]
     },
     "execution_count": 10,
     "metadata": {},
     "output_type": "execute_result"
    }
   ],
   "source": [
    "# 「1」', '「2」 개념설명 1, 2\n",
    "# ¶  문장의 예시\n",
    "[_  for _ in f_full  if _ not in f_html]"
   ]
  },
  {
   "cell_type": "code",
   "execution_count": 13,
   "metadata": {},
   "outputs": [
    {
     "data": {
      "text/plain": [
       "['다른 사람을 대신하는 사람.',\n",
       " '¶ 본인이 직접 가지 않고 대리인을 시켜 가게 했다./너를 내 대리인으로 그 상회에 근무하도록 부탁했지.≪황석영, 무기의 그늘≫',\n",
       " '『법률』대리를 할 수 있는 지위에 있는 사람. 의사 능력이 있는 사람이어야 하며 대리인이 한 행위의 효과는 본인에게 귀속된다. 민법에는 법정 대리인과 임의 대리인이 있으며, 민사 소송에는 소송 대리인, 형사 소송에는 변호인이 있다. ≒대리자.\\r\\n']"
      ]
     },
     "execution_count": 13,
     "metadata": {},
     "output_type": "execute_result"
    }
   ],
   "source": [
    "# font 태그 내용을 제거한 나머지\n",
    "[_  for _ in f_full  if _ not in f_html  if _ not in f_txt]"
   ]
  },
  {
   "cell_type": "code",
   "execution_count": 14,
   "metadata": {},
   "outputs": [
    {
     "name": "stdout",
     "output_type": "stream",
     "text": [
      "CPU times: user 3.64 s, sys: 196 ms, total: 3.84 s\n",
      "Wall time: 3.84 s\n"
     ]
    },
    {
     "data": {
      "text/plain": [
       "(16,\n",
       " ['< >',\n",
       "  '< n이면 반드시 ',\n",
       "  '</b>',\n",
       "  '</center>',\n",
       "  '</font>',\n",
       "  '</h1>',\n",
       "  '<b>',\n",
       "  '<br>',\n",
       "  '<center>',\n",
       "  '<font color=\"#00008b\">',\n",
       "  '<font color=\"#549606\">',\n",
       "  '<font color=\"#cb4a00\">',\n",
       "  '<font color=\"#cc00ff\">',\n",
       "  '<font color=crimson size=+2>',\n",
       "  '<h1>',\n",
       "  '<span style=\"definition\">'])"
      ]
     },
     "execution_count": 14,
     "metadata": {},
     "output_type": "execute_result"
    }
   ],
   "source": [
    "%%time\n",
    "result = []\n",
    "for _ in itemData:\n",
    "    result += re.findall(regex_html, _) # HTML 태그내용\n",
    "result      = list(set(result))\n",
    "result_tags = []         # 결과 중 사진포함 내용을 제거한 나머지\n",
    "regex_img   = '<img.*?>' # html 추출 : font 태그 내용만 추출\n",
    "for _ in result:\n",
    "    _ = re.sub(regex_img, \"\", _)\n",
    "    if len(_) > 2:\n",
    "        result_tags.append(_.lower())\n",
    "len(set(result_tags)), sorted(set(result_tags))"
   ]
  },
  {
   "cell_type": "markdown",
   "metadata": {},
   "source": [
    "## **정규표현식 연습하기**\n",
    "Regex Tutorials"
   ]
  },
  {
   "cell_type": "code",
   "execution_count": 13,
   "metadata": {},
   "outputs": [
    {
     "data": {
      "text/plain": [
       "['sales.xls, test.xls']"
      ]
     },
     "execution_count": 13,
     "metadata": {},
     "output_type": "execute_result"
    }
   ],
   "source": [
    "import re\n",
    "re.findall('.+', \"sales.xls, test.xls\")"
   ]
  },
  {
   "cell_type": "code",
   "execution_count": 14,
   "metadata": {},
   "outputs": [
    {
     "data": {
      "text/plain": [
       "['<br>', '<br/>']"
      ]
     },
     "execution_count": 14,
     "metadata": {},
     "output_type": "execute_result"
    }
   ],
   "source": [
    "re.findall('(<br>|<br/>)', \"<br> 텍스트 <br/>\")"
   ]
  },
  {
   "cell_type": "code",
   "execution_count": 15,
   "metadata": {},
   "outputs": [
    {
     "name": "stdout",
     "output_type": "stream",
     "text": [
      "010-1234-1234 park\n"
     ]
    }
   ],
   "source": [
    "import re\n",
    "p = re.compile(r\"(?P<name>\\w+)\\s+(?P<phone>(\\d+)[-]\\d+[-]\\d+)\")\n",
    "print(p.sub(\"\\g<phone> \\g<name>\", \"park 010-1234-1234\"))"
   ]
  },
  {
   "cell_type": "code",
   "execution_count": 16,
   "metadata": {},
   "outputs": [
    {
     "data": {
      "text/plain": [
       "['$23.24', '$69.23']"
      ]
     },
     "execution_count": 16,
     "metadata": {},
     "output_type": "execute_result"
    }
   ],
   "source": [
    "text = \"$23.24  의 가격은 $69.23 까지 상승하였습니다\"\n",
    "p = re.compile(r\"\\$[0-9.]+\")\n",
    "p.findall(text)"
   ]
  },
  {
   "cell_type": "code",
   "execution_count": 17,
   "metadata": {},
   "outputs": [
    {
     "data": {
      "text/plain": [
       "['23.24', '69.23']"
      ]
     },
     "execution_count": 17,
     "metadata": {},
     "output_type": "execute_result"
    }
   ],
   "source": [
    "p = re.compile(r\"(?<=\\$)[0-9.]+\")\n",
    "p.findall(text)"
   ]
  },
  {
   "cell_type": "markdown",
   "metadata": {},
   "source": [
    "## **4 분류 작업용 함수 만들기**\n",
    "3개의 분류를 활용하여 List 만들기, 이후 대표적인 대상만 남기고 줄이기\n",
    "1. 타이들\n",
    "1. 대분류\n",
    "1. 소분류 1, 2"
   ]
  },
  {
   "cell_type": "code",
   "execution_count": 51,
   "metadata": {},
   "outputs": [
    {
     "data": {
      "text/plain": [
       "'<font color=crimson size=+2><b>대리인</b></font><br><br><font color=\"#00008b\"><b>대리-인(代理人) [대ː--]</b></font><br><font color=\"#549606\"><b>「명사」</b></font><br><br><br><font color=\"#cb4a00\"><b>「1」</b></font>다른 사람을 대신하는 사람.<br>¶ 본인이 직접 가지 않고 대리인을 시켜 가게 했다./너를 내 대리인으로 그 상회에 근무하도록 부탁했지.≪황석영, 무기의 그늘≫<br><font color=\"#cb4a00\"><b>「2」</b></font>『법률』대리를 할 수 있는 지위에 있는 사람. 의사 능력이 있는 사람이어야 하며 대리인이 한 행위의 효과는 본인에게 귀속된다. 민법에는 법정 대리인과 임의 대리인이 있으며, 민사 소송에는 소송 대리인, 형사 소송에는 변호인이 있다. ≒대리자.\\r\\n'"
      ]
     },
     "execution_count": 51,
     "metadata": {},
     "output_type": "execute_result"
    }
   ],
   "source": [
    "search_query = \"대리인\"\n",
    "num     = [no  for no, _ in enumerate(itemIndex)  if _ == search_query][0]\n",
    "tempXml = itemData[num].lower()\n",
    "tempXml"
   ]
  },
  {
   "cell_type": "code",
   "execution_count": 52,
   "metadata": {},
   "outputs": [
    {
     "data": {
      "text/plain": [
       "['대리인',\n",
       " '대리-인(代理人) [대ː--]',\n",
       " '「명사」',\n",
       " '「1」',\n",
       " '다른 사람을 대신하는 사람.',\n",
       " '¶ 본인이 직접 가지 않고 대리인을 시켜 가게 했다./너를 내 대리인으로 그 상회에 근무하도록 부탁했지.≪황석영, 무기의 그늘≫',\n",
       " '「2」',\n",
       " '『법률』대리를 할 수 있는 지위에 있는 사람. 의사 능력이 있는 사람이어야 하며 대리인이 한 행위의 효과는 본인에게 귀속된다. 민법에는 법정 대리인과 임의 대리인이 있으며, 민사 소송에는 소송 대리인, 형사 소송에는 변호인이 있다. ≒대리자.\\r\\n']"
      ]
     },
     "execution_count": 52,
     "metadata": {},
     "output_type": "execute_result"
    }
   ],
   "source": [
    "import re\n",
    "regex_html = '<.*?>'                 # html 태그내용만 추출\n",
    "regex_text = \"<[^>]+>|[^<]+\"         # html 태그 내부의 한글 추출\n",
    "regex_font = '<font.*?>(.+?)</font>' # html 추출 : font 태그 내용만 추출\n",
    "f_full = re.findall(regex_text, tempXml) \n",
    "f_html = re.findall(regex_html, tempXml) # HTML 태그내용\n",
    "f_test = [_  for _ in f_full  if _ not in f_html]\n",
    "f_test"
   ]
  },
  {
   "cell_type": "code",
   "execution_count": 58,
   "metadata": {},
   "outputs": [
    {
     "data": {
      "text/plain": [
       "['「명사」', '「1」', '「동-사」']"
      ]
     },
     "execution_count": 58,
     "metadata": {},
     "output_type": "execute_result"
    }
   ],
   "source": [
    "# (?<=\\$)\n",
    "test  = \"「명사」「1」「동-사」\"\n",
    "t_txt = re.compile(r\"「[·가-힣]+」\")\n",
    "t_txt = re.compile(r\"「([·가-힣]+)」\")\n",
    "t_num = re.compile(r\"「\\d+」\")\n",
    "t_box = re.compile(r\"「.*?」\")\n",
    "# t_box = re.compile(r\"(?<=\\「).*?(?<=\\」)$\")\n",
    "# t_num.findall(test)\n",
    "# t_txt.findall(test)\n",
    "t_box.findall(test)"
   ]
  },
  {
   "cell_type": "code",
   "execution_count": 54,
   "metadata": {},
   "outputs": [
    {
     "data": {
      "text/plain": [
       "'<font color=crimson size=+2><b>대리인</b></font><br><br><font color=\"#00008b\"><b>대리-인(代理人) [대ː--]</b></font><br><font color=\"#549606\"><b>「명사」</b></font><br><br><br><font color=\"#cb4a00\"><b>「1」</b></font>다른 사람을 대신하는 사람.<br>¶ 본인이 직접 가지 않고 대리인을 시켜 가게 했다./너를 내 대리인으로 그 상회에 근무하도록 부탁했지.≪황석영, 무기의 그늘≫<br><font color=\"#cb4a00\"><b>「2」</b></font>『법률』대리를 할 수 있는 지위에 있는 사람. 의사 능력이 있는 사람이어야 하며 대리인이 한 행위의 효과는 본인에게 귀속된다. 민법에는 법정 대리인과 임의 대리인이 있으며, 민사 소송에는 소송 대리인, 형사 소송에는 변호인이 있다. ≒대리자.\\r\\n'"
      ]
     },
     "execution_count": 54,
     "metadata": {},
     "output_type": "execute_result"
    }
   ],
   "source": [
    "search_query = \"대리인\"\n",
    "num     = [no  for no, _ in enumerate(itemIndex)  if _ == search_query][0]\n",
    "tempXml = itemData[num].lower()\n",
    "tempXml"
   ]
  },
  {
   "cell_type": "code",
   "execution_count": 50,
   "metadata": {},
   "outputs": [
    {
     "data": {
      "text/plain": [
       "22"
      ]
     },
     "execution_count": 50,
     "metadata": {},
     "output_type": "execute_result"
    }
   ],
   "source": [
    "result, result_len = [], []\n",
    "for _ in itemData:\n",
    "    temp = t_txt.findall(_)\n",
    "    temp_num = len(temp)\n",
    "    result_len.append(temp_num)\n",
    "    if temp_num > 1:\n",
    "        result += temp\n",
    "result =list(set(result))\n",
    "len(result)"
   ]
  },
  {
   "cell_type": "markdown",
   "metadata": {},
   "source": [
    "## **4 분류 작업용 함수 만들기 2**\n",
    "1. \"「.*?」\" 를 기준으로 객체들을 구분 분류하기\n",
    "1. 추후 숫자와 개념어를 구분하여 분류 재정의 하기"
   ]
  },
  {
   "cell_type": "code",
   "execution_count": 55,
   "metadata": {},
   "outputs": [
    {
     "data": {
      "text/plain": [
       "'<font color=crimson size=+2><b>서버</b></font><br><br><font color=\"#00008b\"><b>서버02(server)</b></font><br><font color=\"#549606\"><b>「명사」</b></font><br>『컴퓨터』<br>주된 정보의 제공이나 작업을 수행하는 컴퓨터 시스템. 서버는 클라이언트 시스템이 요청한 작업이나 정보의 수행 결과를 돌려준다.\\r\\n'"
      ]
     },
     "execution_count": 55,
     "metadata": {},
     "output_type": "execute_result"
    }
   ],
   "source": [
    "# 텍스트 인덱스값 찾기\n",
    "search_query = \"가결\"\n",
    "search_query = \"대리인\"\n",
    "search_query = \"서버\"\n",
    "num     = [no  for no, _ in enumerate(itemIndex)  if _ == search_query][0]\n",
    "tempXml = itemData[num].lower()\n",
    "tempXml"
   ]
  },
  {
   "cell_type": "code",
   "execution_count": 57,
   "metadata": {},
   "outputs": [
    {
     "data": {
      "text/plain": [
       "['서버',\n",
       " '서버02(server)',\n",
       " '「명사」',\n",
       " '『컴퓨터』',\n",
       " '주된 정보의 제공이나 작업을 수행하는 컴퓨터 시스템. 서버는 클라이언트 시스템이 요청한 작업이나 정보의 수행 결과를 돌려준다.\\r\\n']"
      ]
     },
     "execution_count": 57,
     "metadata": {},
     "output_type": "execute_result"
    }
   ],
   "source": [
    "import re\n",
    "regex_html = '<.*?>'                 # html 태그내용만 추출\n",
    "regex_text = \"<[^>]+>|[^<]+\"         # html 태그 내부의 한글 추출\n",
    "f_txt      = [re.sub(regex_html,\"\", _)  for _ in f_font] \n",
    "f_full     = re.findall(regex_text, tempXml)\n",
    "t_temp     = [_  for _ in f_full  if _ not in f_html]\n",
    "t_temp"
   ]
  },
  {
   "cell_type": "code",
   "execution_count": null,
   "metadata": {},
   "outputs": [],
   "source": [
    "# 첫번째 의미만 찾기 최소 4글자 이상인 단어를 추출"
   ]
  },
  {
   "cell_type": "code",
   "execution_count": null,
   "metadata": {},
   "outputs": [],
   "source": [
    "t_category = re.compile(r\"「([·가-힣]+)」\")\n",
    "t_midsep   = re.compile(r\"「([·가-힣]+)」\")\n"
   ]
  },
  {
   "cell_type": "code",
   "execution_count": null,
   "metadata": {},
   "outputs": [],
   "source": []
  },
  {
   "cell_type": "code",
   "execution_count": null,
   "metadata": {},
   "outputs": [],
   "source": []
  },
  {
   "cell_type": "code",
   "execution_count": null,
   "metadata": {},
   "outputs": [],
   "source": []
  },
  {
   "cell_type": "code",
   "execution_count": null,
   "metadata": {},
   "outputs": [],
   "source": []
  },
  {
   "cell_type": "code",
   "execution_count": null,
   "metadata": {},
   "outputs": [],
   "source": []
  },
  {
   "cell_type": "code",
   "execution_count": 41,
   "metadata": {},
   "outputs": [
    {
     "data": {
      "text/plain": [
       "'가결'"
      ]
     },
     "execution_count": 41,
     "metadata": {},
     "output_type": "execute_result"
    }
   ],
   "source": [
    "itemIndex[654]"
   ]
  },
  {
   "cell_type": "code",
   "execution_count": 38,
   "metadata": {},
   "outputs": [
    {
     "data": {
      "text/plain": [
       "[0, 1, 2, 3, 4, 5, 6, 7, 8, 9, 10, 11]"
      ]
     },
     "execution_count": 38,
     "metadata": {},
     "output_type": "execute_result"
    }
   ],
   "source": [
    "list(set(result_len))"
   ]
  },
  {
   "cell_type": "code",
   "execution_count": 39,
   "metadata": {},
   "outputs": [
    {
     "data": {
      "text/plain": [
       "['「대명사」',\n",
       " '「부사」',\n",
       " '「준」',\n",
       " '「반」',\n",
       " '「명사」',\n",
       " '「본」',\n",
       " '「동사」',\n",
       " '「관형사·명사」',\n",
       " '「형용사」',\n",
       " '「비」']"
      ]
     },
     "execution_count": 39,
     "metadata": {},
     "output_type": "execute_result"
    }
   ],
   "source": [
    "result"
   ]
  },
  {
   "cell_type": "code",
   "execution_count": null,
   "metadata": {},
   "outputs": [],
   "source": [
    "t_txt"
   ]
  },
  {
   "cell_type": "code",
   "execution_count": 26,
   "metadata": {},
   "outputs": [
    {
     "data": {
      "text/plain": [
       "['「높」',\n",
       " '「5」',\n",
       " '「 」',\n",
       " '「」',\n",
       " '「19」',\n",
       " '「24」',\n",
       " '「2」',\n",
       " '「수사」',\n",
       " '「3」',\n",
       " '「의존명사·조사」',\n",
       " '「6」',\n",
       " '「비」',\n",
       " '「보조형용사」',\n",
       " '「의존명사」',\n",
       " '「13」',\n",
       " '「수사·관형사」',\n",
       " '「동사·형용사」',\n",
       " '「감탄사·명사」',\n",
       " '「준」',\n",
       " '「보조동사」',\n",
       " '「25」',\n",
       " '「1 」',\n",
       " '「21」',\n",
       " '「조사」',\n",
       " '「1」',\n",
       " '「감탄사」',\n",
       " '「반」',\n",
       " '「어미」',\n",
       " '「9」',\n",
       " '「18」',\n",
       " '「20」',\n",
       " '「관형사」',\n",
       " '「8」',\n",
       " '「대명사」',\n",
       " '「22」',\n",
       " '「15」',\n",
       " '「명사·부사」',\n",
       " '「접사」',\n",
       " '「26」',\n",
       " '「4」',\n",
       " '「북」',\n",
       " '「형용사」',\n",
       " '「부사」',\n",
       " '「16」',\n",
       " '「17」',\n",
       " '「12」',\n",
       " '「Ⅰ」',\n",
       " '「11」',\n",
       " '「2 」',\n",
       " '「7」',\n",
       " '「명사」',\n",
       " '「참고 어휘」',\n",
       " '「23」',\n",
       " '「본」',\n",
       " '「동사」',\n",
       " '「관형사·명사」',\n",
       " '「14」',\n",
       " '「10」']"
      ]
     },
     "execution_count": 26,
     "metadata": {},
     "output_type": "execute_result"
    }
   ],
   "source": [
    "result"
   ]
  },
  {
   "cell_type": "code",
   "execution_count": null,
   "metadata": {},
   "outputs": [],
   "source": []
  },
  {
   "cell_type": "code",
   "execution_count": null,
   "metadata": {},
   "outputs": [],
   "source": []
  },
  {
   "cell_type": "code",
   "execution_count": null,
   "metadata": {},
   "outputs": [],
   "source": []
  },
  {
   "cell_type": "code",
   "execution_count": 92,
   "metadata": {},
   "outputs": [
    {
     "data": {
      "text/plain": [
       "2"
      ]
     },
     "execution_count": 92,
     "metadata": {},
     "output_type": "execute_result"
    }
   ],
   "source": [
    "tok = re.compile('「.*?」')\n",
    "len(tok.findall(itemData[896]))"
   ]
  },
  {
   "cell_type": "code",
   "execution_count": 93,
   "metadata": {},
   "outputs": [
    {
     "data": {
      "text/plain": [
       "'가귀노름'"
      ]
     },
     "execution_count": 93,
     "metadata": {},
     "output_type": "execute_result"
    }
   ],
   "source": [
    "itemIndex[896]"
   ]
  },
  {
   "cell_type": "code",
   "execution_count": 87,
   "metadata": {},
   "outputs": [
    {
     "data": {
      "text/plain": [
       "105658"
      ]
     },
     "execution_count": 87,
     "metadata": {},
     "output_type": "execute_result"
    }
   ],
   "source": [
    "result = [no for no, _ in enumerate(itemData)  if len(tok.findall(_)) > 1]\n",
    "len(result)"
   ]
  },
  {
   "cell_type": "code",
   "execution_count": 88,
   "metadata": {},
   "outputs": [
    {
     "data": {
      "text/plain": [
       "[21,\n",
       " 23,\n",
       " 26,\n",
       " 29,\n",
       " 31,\n",
       " 42,\n",
       " 43,\n",
       " 51,\n",
       " 57,\n",
       " 59,\n",
       " 64,\n",
       " 86,\n",
       " 99,\n",
       " 109,\n",
       " 110,\n",
       " 111,\n",
       " 132,\n",
       " 134,\n",
       " 135,\n",
       " 140,\n",
       " 142,\n",
       " 144,\n",
       " 148,\n",
       " 159,\n",
       " 206,\n",
       " 226,\n",
       " 227,\n",
       " 230,\n",
       " 250,\n",
       " 255,\n",
       " 256,\n",
       " 263,\n",
       " 394,\n",
       " 406,\n",
       " 419,\n",
       " 503,\n",
       " 508,\n",
       " 510,\n",
       " 511,\n",
       " 513,\n",
       " 514,\n",
       " 519,\n",
       " 520,\n",
       " 530,\n",
       " 531,\n",
       " 539,\n",
       " 541,\n",
       " 545,\n",
       " 566,\n",
       " 579,\n",
       " 580,\n",
       " 584,\n",
       " 589,\n",
       " 594,\n",
       " 596,\n",
       " 597,\n",
       " 625,\n",
       " 627,\n",
       " 645,\n",
       " 654,\n",
       " 656,\n",
       " 660,\n",
       " 661,\n",
       " 662,\n",
       " 674,\n",
       " 676,\n",
       " 682,\n",
       " 683,\n",
       " 686,\n",
       " 689,\n",
       " 690,\n",
       " 707,\n",
       " 717,\n",
       " 734,\n",
       " 735,\n",
       " 745,\n",
       " 747,\n",
       " 748,\n",
       " 751,\n",
       " 757,\n",
       " 780,\n",
       " 790,\n",
       " 821,\n",
       " 822,\n",
       " 823,\n",
       " 828,\n",
       " 829,\n",
       " 833,\n",
       " 836,\n",
       " 837,\n",
       " 841,\n",
       " 850,\n",
       " 851,\n",
       " 863,\n",
       " 867,\n",
       " 872,\n",
       " 887,\n",
       " 889,\n",
       " 892,\n",
       " 896]"
      ]
     },
     "execution_count": 88,
     "metadata": {},
     "output_type": "execute_result"
    }
   ],
   "source": [
    "result[:100]"
   ]
  },
  {
   "cell_type": "code",
   "execution_count": null,
   "metadata": {},
   "outputs": [],
   "source": []
  },
  {
   "cell_type": "code",
   "execution_count": 75,
   "metadata": {},
   "outputs": [
    {
     "data": {
      "text/plain": [
       "['「명사」', '「1」', '「2」']"
      ]
     },
     "execution_count": 75,
     "metadata": {},
     "output_type": "execute_result"
    }
   ],
   "source": [
    "tok = re.compile('「.*?」')\n",
    "tok.findall(\"\".join(f_test))"
   ]
  },
  {
   "cell_type": "code",
   "execution_count": null,
   "metadata": {},
   "outputs": [],
   "source": [
    "tok = re.compile('「.*?」')\n",
    "for _ in f_test:\n",
    "    t_temp = tok.findall(_)[0].replace(\"「\",\"\").replace(\"」\",\"\")\n",
    "    if t_temp:\n",
    "    "
   ]
  },
  {
   "cell_type": "code",
   "execution_count": null,
   "metadata": {},
   "outputs": [],
   "source": []
  },
  {
   "cell_type": "code",
   "execution_count": 69,
   "metadata": {},
   "outputs": [
    {
     "data": {
      "text/plain": [
       "'명사'"
      ]
     },
     "execution_count": 69,
     "metadata": {},
     "output_type": "execute_result"
    }
   ],
   "source": [
    "str(\"명사\")"
   ]
  },
  {
   "cell_type": "code",
   "execution_count": 71,
   "metadata": {},
   "outputs": [
    {
     "data": {
      "text/plain": [
       "'1'"
      ]
     },
     "execution_count": 71,
     "metadata": {},
     "output_type": "execute_result"
    }
   ],
   "source": [
    "str('1')"
   ]
  },
  {
   "cell_type": "code",
   "execution_count": 68,
   "metadata": {},
   "outputs": [
    {
     "name": "stdout",
     "output_type": "stream",
     "text": [
      "1\n",
      "['', ' 다른 사람을 대신하는 사람. ¶ 본인이 직접 가지 않고 대리인을 시켜 가게 했다./너를 내 대리인으로 그 상회에 근무하도록 부탁했지.≪황석영, 무기의 그늘≫ ', ' 『법률』대리를 할 수 있는 지위에 있는 사람. 의사 능력이 있는 사람이어야 하며 대리인이 한 행위의 효과는 본인에게 귀속된다. 민법에는 법정 대리인과 임의 대리인이 있으며, 민사 소송에는 소송 대리인, 형사 소송에는 변호인이 있다. ≒대리자.\\r\\n']\n"
     ]
    }
   ],
   "source": [
    "\n",
    "tok = tok.findall(f_test[3])[0].replace(\"「\",\"\").replace(\"」\",\"\")\n",
    "print(tok)\n",
    "# 유효한 값이 추출된 경우\n",
    "if tok:\n",
    "    # 숫자가 추출시 : 개념 갯수만큼 나눈다\n",
    "    try: \n",
    "        no = int(tok)\n",
    "        print(re.compile('「.*?」').split(\" \".join(f_test[3:])))\n",
    "    except:\n",
    "        print(\"Error\", tok)"
   ]
  },
  {
   "cell_type": "code",
   "execution_count": 55,
   "metadata": {},
   "outputs": [],
   "source": [
    "temp = \"\"\"「1」 다른 사람을 대신하는 사람.¶ 본인이 직접 가지 않고 대리인을 시켜 가게 했다.\n",
    "/너를 내 대리인으로 그 상회에 근무하도록 부탁했지.≪황석영, 무기의 그늘≫「2」『법률』대리를 할 수\"\"\""
   ]
  },
  {
   "cell_type": "code",
   "execution_count": 59,
   "metadata": {},
   "outputs": [
    {
     "data": {
      "text/plain": [
       "['「1」 다른 사람을 대신하는 사람.¶ 본인이 직접 가지 않고 대리인을 시켜 가게 했다.\\n/너를 내 대리인으로 그 상회에 근무하도록 부탁했지.≪황석영, 무기의 그늘≫「2」『법률』대리를 할 수']"
      ]
     },
     "execution_count": 59,
     "metadata": {},
     "output_type": "execute_result"
    }
   ],
   "source": [
    "temp.split('「.*?」')"
   ]
  },
  {
   "cell_type": "code",
   "execution_count": 60,
   "metadata": {},
   "outputs": [
    {
     "data": {
      "text/plain": [
       "['',\n",
       " ' 다른 사람을 대신하는 사람.¶ 본인이 직접 가지 않고 대리인을 시켜 가게 했다.\\n/너를 내 대리인으로 그 상회에 근무하도록 부탁했지.≪황석영, 무기의 그늘≫',\n",
       " '『법률』대리를 할 수']"
      ]
     },
     "execution_count": 60,
     "metadata": {},
     "output_type": "execute_result"
    }
   ],
   "source": []
  },
  {
   "cell_type": "code",
   "execution_count": null,
   "metadata": {},
   "outputs": [],
   "source": []
  },
  {
   "cell_type": "code",
   "execution_count": null,
   "metadata": {},
   "outputs": [],
   "source": [
    "l = re.compile(\"(?<!^)\\s+(?=[A-Z])(?!.\\s)\").split(s)"
   ]
  },
  {
   "cell_type": "code",
   "execution_count": null,
   "metadata": {},
   "outputs": [],
   "source": []
  },
  {
   "cell_type": "code",
   "execution_count": 58,
   "metadata": {},
   "outputs": [
    {
     "ename": "NameError",
     "evalue": "name '____' is not defined",
     "output_type": "error",
     "traceback": [
      "\u001b[0;31m---------------------------------------------------------------------------\u001b[0m",
      "\u001b[0;31mNameError\u001b[0m                                 Traceback (most recent call last)",
      "\u001b[0;32m<ipython-input-58-4a6c9efcf915>\u001b[0m in \u001b[0;36m<module>\u001b[0;34m\u001b[0m\n\u001b[1;32m      1\u001b[0m \u001b[0;31m# Import the regex module\u001b[0m\u001b[0;34m\u001b[0m\u001b[0;34m\u001b[0m\u001b[0m\n\u001b[0;32m----> 2\u001b[0;31m \u001b[0m____\u001b[0m\u001b[0;34m\u001b[0m\u001b[0m\n\u001b[0m\u001b[1;32m      3\u001b[0m \u001b[0;34m\u001b[0m\u001b[0m\n\u001b[1;32m      4\u001b[0m \u001b[0;31m# Write a pattern to match sentence endings: sentence_endings\u001b[0m\u001b[0;34m\u001b[0m\u001b[0;34m\u001b[0m\u001b[0m\n\u001b[1;32m      5\u001b[0m \u001b[0msentence_endings\u001b[0m \u001b[0;34m=\u001b[0m \u001b[0;34mr\"[___]\"\u001b[0m\u001b[0;34m\u001b[0m\u001b[0m\n",
      "\u001b[0;31mNameError\u001b[0m: name '____' is not defined"
     ]
    }
   ],
   "source": [
    "# Import the regex module\n",
    "____\n",
    "\n",
    "# Write a pattern to match sentence endings: sentence_endings\n",
    "sentence_endings = r\"[___]\"\n",
    "\n",
    "# Split my_string on sentence endings and print the result\n",
    "print(re.____(____, ____))\n",
    "\n",
    "# Find all capitalized words in my_string and print the result\n",
    "capitalized_words = r\"[___]\\w+\"\n",
    "print(re.____(____, ____))\n",
    "\n",
    "# Split my_string on spaces and print the result\n",
    "spaces = r\"___\"\n",
    "print(re.____(____, ____))\n",
    "\n",
    "# Find all digits in my_string and print the result\n",
    "digits = r\"___\"\n",
    "print(re.____(____, ____))\n"
   ]
  },
  {
   "cell_type": "code",
   "execution_count": null,
   "metadata": {},
   "outputs": [],
   "source": []
  },
  {
   "cell_type": "code",
   "execution_count": null,
   "metadata": {},
   "outputs": [],
   "source": []
  },
  {
   "cell_type": "code",
   "execution_count": null,
   "metadata": {},
   "outputs": [],
   "source": []
  },
  {
   "cell_type": "code",
   "execution_count": null,
   "metadata": {},
   "outputs": [],
   "source": []
  },
  {
   "cell_type": "code",
   "execution_count": null,
   "metadata": {},
   "outputs": [],
   "source": []
  },
  {
   "cell_type": "code",
   "execution_count": null,
   "metadata": {},
   "outputs": [],
   "source": [
    "for _ in f_test:\n",
    "    # 분류기준의 추출\n",
    "    if "
   ]
  },
  {
   "cell_type": "code",
   "execution_count": null,
   "metadata": {},
   "outputs": [],
   "source": []
  },
  {
   "cell_type": "code",
   "execution_count": null,
   "metadata": {},
   "outputs": [],
   "source": [
    "result = []\n",
    "for _ in itemData:\n",
    "    temp = ''\n",
    "    tok  = re.compile(r\"(「.*」)\")\n",
    "    for t in tok.findall(_):\n",
    "        if len(t) < 10:\n",
    "            t = t.replace(\"「\",\"\")\n",
    "            temp += \",\"+ t.replace(\"」\",\"\")\n",
    "    result.append(temp)\n",
    "len(result)"
   ]
  },
  {
   "cell_type": "code",
   "execution_count": null,
   "metadata": {},
   "outputs": [],
   "source": []
  },
  {
   "cell_type": "code",
   "execution_count": null,
   "metadata": {},
   "outputs": [],
   "source": []
  },
  {
   "cell_type": "code",
   "execution_count": null,
   "metadata": {},
   "outputs": [],
   "source": []
  },
  {
   "cell_type": "code",
   "execution_count": null,
   "metadata": {},
   "outputs": [],
   "source": []
  },
  {
   "cell_type": "code",
   "execution_count": null,
   "metadata": {},
   "outputs": [],
   "source": []
  },
  {
   "cell_type": "code",
   "execution_count": 12,
   "metadata": {},
   "outputs": [],
   "source": []
  },
  {
   "cell_type": "code",
   "execution_count": null,
   "metadata": {},
   "outputs": [],
   "source": []
  },
  {
   "cell_type": "code",
   "execution_count": 24,
   "metadata": {},
   "outputs": [],
   "source": [
    "from konlpy.tag  import Hannanum"
   ]
  },
  {
   "cell_type": "code",
   "execution_count": 28,
   "metadata": {},
   "outputs": [
    {
     "data": {
      "text/plain": [
       "['돼지김치찌개']"
      ]
     },
     "execution_count": 28,
     "metadata": {},
     "output_type": "execute_result"
    }
   ],
   "source": [
    "Hannanum().nouns(\"돼지김치찌개\")"
   ]
  },
  {
   "cell_type": "code",
   "execution_count": 29,
   "metadata": {},
   "outputs": [
    {
     "data": {
      "text/plain": [
       "['소고기파스타']"
      ]
     },
     "execution_count": 29,
     "metadata": {},
     "output_type": "execute_result"
    }
   ],
   "source": [
    "Hannanum().nouns(\"소고기파스타\")"
   ]
  },
  {
   "cell_type": "code",
   "execution_count": 31,
   "metadata": {},
   "outputs": [
    {
     "data": {
      "text/plain": [
       "['김치만두']"
      ]
     },
     "execution_count": 31,
     "metadata": {},
     "output_type": "execute_result"
    }
   ],
   "source": [
    "Hannanum().nouns(\"김치만두\")"
   ]
  },
  {
   "cell_type": "code",
   "execution_count": 33,
   "metadata": {},
   "outputs": [
    {
     "data": {
      "text/plain": [
       "[('김치만두', 'N'),\n",
       " ('를', 'J'),\n",
       " ('프라이팬', 'N'),\n",
       " ('에', 'J'),\n",
       " ('굽', 'P'),\n",
       " ('습니다', 'E')]"
      ]
     },
     "execution_count": 33,
     "metadata": {},
     "output_type": "execute_result"
    }
   ],
   "source": [
    "Hannanum().pos(\"김치만두를 프라이팬에 굽습니다\")"
   ]
  },
  {
   "cell_type": "code",
   "execution_count": null,
   "metadata": {},
   "outputs": [],
   "source": []
  },
  {
   "cell_type": "code",
   "execution_count": null,
   "metadata": {},
   "outputs": [],
   "source": []
  },
  {
   "cell_type": "code",
   "execution_count": null,
   "metadata": {},
   "outputs": [],
   "source": []
  },
  {
   "cell_type": "code",
   "execution_count": null,
   "metadata": {},
   "outputs": [],
   "source": []
  },
  {
   "cell_type": "code",
   "execution_count": null,
   "metadata": {},
   "outputs": [],
   "source": []
  },
  {
   "cell_type": "code",
   "execution_count": null,
   "metadata": {},
   "outputs": [],
   "source": []
  },
  {
   "cell_type": "code",
   "execution_count": null,
   "metadata": {},
   "outputs": [],
   "source": []
  },
  {
   "cell_type": "code",
   "execution_count": 44,
   "metadata": {},
   "outputs": [],
   "source": [
    "result_html = \" \".join(list(set(result)))"
   ]
  },
  {
   "cell_type": "code",
   "execution_count": 45,
   "metadata": {},
   "outputs": [],
   "source": [
    "test = \"<img src='hc513sy.jpg' width='300'> 테스트 추출\""
   ]
  },
  {
   "cell_type": "code",
   "execution_count": 43,
   "metadata": {},
   "outputs": [
    {
     "data": {
      "text/plain": [
       "[\"<img src='hc513sy.jpg' width='300'>\",\n",
       " \"<img src='ja197py.jpg' width='300'>\",\n",
       " \"<img src='julgi01.jpg' width='300'>\",\n",
       " \"<img src='cb548py.jpg' width='300'>\",\n",
       " \"<img src='h00225.jpg' width='300'>\",\n",
       " \"<img src='jb520sy.jpg' width='300'>\",\n",
       " \"<img src='bb522sy.jpg' width='300'>\",\n",
       " \"<img src='hf566py.jpg' width='300'>\",\n",
       " \"<img src='ba523sy.jpg' width='300'>\",\n",
       " \"<img src='gf095py.jpg' width='300'>\",\n",
       " \"<img src='cc182sx.jpg' width='300'>\",\n",
       " \"<img src='ab088py.jpg' width='300'>\",\n",
       " \"<img src='gd139sx.jpg' width='300'>\",\n",
       " \"<img src='ic125py.jpg' width='300'>\",\n",
       " \"<img src='af103sy.jpg' width='300'>\",\n",
       " \"<img src='gb165sx.jpg' width='300'>\",\n",
       " \"<img src='fb587sz.jpg' width='300'>\",\n",
       " \"<img src='hc143sx.jpg' width='300'>\",\n",
       " \"<img src='la002sx.jpg' width='300'>\",\n",
       " \"<img src='ia585sy.jpg' width='300'>\",\n",
       " \"<img src='ha190py.jpg' width='300'>\",\n",
       " '<img align=absmiddle src=\"chn_10016.gif\">',\n",
       " \"<img src='ab149sx.jpg' width='300'>\",\n",
       " \"<img src='gb540sy.jpg' width='300'>\",\n",
       " \"<img src='ic083sx.jpg' width='300'>\",\n",
       " \"<img src='fa561sz.jpg' width='300'>\",\n",
       " \"<img src='hungary.jpg' width='300'>\",\n",
       " \"<img src='e00050.jpg' width='300'>\",\n",
       " \"<img src='cc128py.jpg' width='300'>\",\n",
       " \"<img src='ae075sy.jpg' width='300'>\",\n",
       " \"<img src='nc513py.jpg' width='300'>\",\n",
       " \"<img src='ha571sy.jpg' width='300'>\",\n",
       " \"<img src='ma078py.jpg' width='300'>\",\n",
       " \"<img src='id564sy.jpg' width='300'>\",\n",
       " \"<img src='ec233py.jpg' width='300'>\",\n",
       " \"<img src='gb545sy.jpg' width='300'>\",\n",
       " \"<img src='meriterium.jpg' width='300'>\",\n",
       " \"<img src='fb107py.jpg' width='300'>\",\n",
       " \"<img src='ae568sy.jpg' width='300'>\",\n",
       " \"<img src='gf554sz.jpg' width='300'>\",\n",
       " \"<img src='fc094sx.jpg' width='300'>\",\n",
       " \"<img src='ac023py.jpg' width='300'>\",\n",
       " \"<img src='cc160py.jpg' width='300'>\",\n",
       " \"<img src='i00069.jpg' width='300'>\",\n",
       " \"<img src='aa070py.jpg' width='300'>\",\n",
       " \"<img src='bb191py.jpg' width='300'>\",\n",
       " \"<img src='gd164sx.jpg' width='300'>\",\n",
       " \"<img src='ea585py.jpg' width='300'>\",\n",
       " \"<img src='ia587py.jpg' width='300'>\",\n",
       " '<img align=absmiddle src=\"number_sign_eqn203.gif\">',\n",
       " \"<img src='g00133.jpg' width='300'>\",\n",
       " \"<img src='a00040.jpg' width='300'>\",\n",
       " \"<img src='cb159py.jpg' width='300'>\",\n",
       " '<img align=absmiddle src=http://124.137.201.222/image_file/1char/number_sign_eqn33.gif>',\n",
       " '<img align=absmiddle src=\"chn_10002.gif\">',\n",
       " \"<img src='ia055py.jpg' width='300'>\",\n",
       " \"<img src='bb192py.jpg' width='300'>\",\n",
       " \"<img src='ka191sy.jpg' width='300'>\",\n",
       " \"<img src='fa536sy.jpg' width='300'>\",\n",
       " \"<img src='ge076sx.jpg' width='300'>\",\n",
       " \"<img src='jb568sz.jpg' width='300'>\",\n",
       " \"<img src='ag029py.jpg' width='300'>\",\n",
       " \"<img src='h00043.jpg' width='300'>\",\n",
       " \"<img src='ga171sx.jpg' width='300'>\",\n",
       " \"<img src='ia008py.jpg' width='300'>\",\n",
       " \"<img src='ga130sx.jpg' width='300'>\",\n",
       " \"<img src='ge177sz.jpg' width='300'>\",\n",
       " \"<img src='ib512sy.jpg' width='300'>\",\n",
       " \"<img src='b00073.jpg' width='300'>\",\n",
       " \"<img src='cd171sy.jpg' width='300'>\",\n",
       " '<img align=absmiddle src=\"number_sign_eqn242.gif\">',\n",
       " \"<img src='ga505sy.jpg' width='300'>\",\n",
       " \"<img src='f00190.jpg' width='300'>\",\n",
       " \"<img src='ha027sz.jpg' width='300'>\",\n",
       " \"<img src='la598sy.jpg' width='300'>\",\n",
       " \"<img src='hd534sy.jpg' width='300'>\",\n",
       " \"<img src='eb575sz.jpg' width='300'>\",\n",
       " \"<img src='ib073sy.jpg' width='300'>\",\n",
       " \"<img src='ma003sy.jpg' width='300'>\",\n",
       " \"<img src='k00012.jpg' width='300'>\",\n",
       " \"<img src='cc146py.jpg' width='300'>\",\n",
       " \"<img src='ga181sx.jpg' width='300'>\",\n",
       " \"<img src='aa080py.jpg' width='300'>\",\n",
       " \"<img src='nc060sy.jpg' width='300'>\",\n",
       " \"<img src='ae083sx.jpg' width='300'>\",\n",
       " \"<img src='la552sy.jpg' width='300'>\",\n",
       " \"<img src='ae060py.jpg' width='300'>\",\n",
       " \"<img src='ga204sx.jpg' width='300'>\",\n",
       " \"<img src='gd067sy.jpg' width='300'>\",\n",
       " \"<img src='aa124sx.jpg' width='300'>\",\n",
       " \"<img src='ag064py.jpg' width='300'>\",\n",
       " '<img align=absmiddle src=http://124.137.201.222/image_file/1char/number_sign_eqn139.gif>',\n",
       " \"<img src='ic092py.jpg' width='300'>\",\n",
       " \"<img src='g00067.jpg' width='300'>\",\n",
       " \"<img src='b00033.jpg' width='300'>\",\n",
       " \"<img src='ec114sx.jpg' width='300'>\",\n",
       " \"<img src='fc155sy.jpg' width='300'>\",\n",
       " \"<img src='cc193sx.jpg' width='300'>\",\n",
       " \"<img src='fc224py.jpg' width='300'>\",\n",
       " \"<img src='eb568sy.jpg' width='300'>\",\n",
       " \"<img src='i00036.jpg' width='300'>\",\n",
       " \"<img src='gc089sx.jpg' width='300'>\",\n",
       " \"<img src='ec078py.jpg' width='300'>\",\n",
       " \"<img src='gd084sx.jpg' width='300'>\",\n",
       " \"<img src='cd560py.jpg' width='300'>\",\n",
       " \"<img src='ae578py.jpg' width='300'>\",\n",
       " \"<img src='he057sz.jpg' width='300'>\",\n",
       " \"<img src='i00093.jpg' width='300'>\",\n",
       " \"<img src='cb090sx.jpg' width='300'>\",\n",
       " \"<img src='la033sz.jpg' width='300'>\",\n",
       " \"<img src='silsang03.jpg' width='300'>\",\n",
       " \"<img src='ba146py.jpg' width='300'>\",\n",
       " \"<img src='hc114sz.jpg' width='300'>\",\n",
       " \"<img src='e00119.jpg' width='300'>\",\n",
       " \"<img src='hf015sx.jpg' width='300'>\",\n",
       " \"<img src='ic201sy.jpg' width='300'>\",\n",
       " \"<img src='ag247sy.jpg' width='300'>\",\n",
       " \"<img src='gb541sy.jpg' width='300'>\",\n",
       " '<img align=absmiddle src=\"chn_11009.gif\">',\n",
       " \"<img src='ic193py.jpg' width='300'>\",\n",
       " \"<img src='ja503py.jpg' width='300'>\",\n",
       " \"<img src='ca523sy.jpg' width='300'>\",\n",
       " \"<img src='samcheompan.jpg' width='300'>\",\n",
       " \"<img src='chegwan01.jpg' width='300'>\",\n",
       " \"<img src='bb192sx.jpg' width='300'>\",\n",
       " \"<img src='hd066py.jpg' width='300'>\",\n",
       " \"<img src='cc052sx.jpg' width='300'>\",\n",
       " \"<img src='c00154.jpg' width='300'>\",\n",
       " \"<img src='aa097py.jpg' width='300'>\",\n",
       " '<img align=absmiddle src=\"number_sign_eqn171.gif\">',\n",
       " \"<img src='ia577py.jpg' width='300'>\",\n",
       " \"<img src='gc139sx.jpg' width='300'>\",\n",
       " \"<img src='f00101.jpg' width='300'>\",\n",
       " \"<img src='ka074sy.jpg' width='300'>\",\n",
       " \"<img src='gd583py.jpg' width='300'>\",\n",
       " \"<img src='j00064.jpg' width='300'>\",\n",
       " \"<img src='fb526sy.jpg' width='300'>\",\n",
       " \"<img src='fd205py.jpg' width='300'>\",\n",
       " '<img align=absmiddle src=http://124.137.201.222/image_file/1char/number_sign_eqn183.gif>',\n",
       " \"<img src='bb143sz.jpg' width='300'>\",\n",
       " \"<img src='ha501py.jpg' width='300'>\",\n",
       " \"<img src='ea087py.jpg' width='300'>\",\n",
       " '<img align=absmiddle src=http://124.137.201.222/image_file/1char/number_sign_eqn229.gif>',\n",
       " \"<img src='nb013sz.jpg' width='300'>\",\n",
       " \"<img src='j00040.jpg' width='300'>\",\n",
       " \"<img src='eb206sx.jpg' width='300'>\",\n",
       " \"<img src='c00028.jpg' width='300'>\",\n",
       " \"<img src='bb001sx.jpg' width='300'>\",\n",
       " \"<img src='hb573sz.jpg' width='300'>\",\n",
       " \"<img src='m00062.jpg' width='300'>\",\n",
       " \"<img src='bb528sy.jpg' width='300'>\",\n",
       " \"<img src='nc178py.jpg' width='300'>\",\n",
       " \"<img src='gb081sx.jpg' width='300'>\",\n",
       " \"<img src='ge512sy.jpg' width='300'>\",\n",
       " \"<img src='aa197sz.jpg' width='300'>\",\n",
       " \"<img src='eb174py.jpg' width='300'>\",\n",
       " \"<img src='eb592py.jpg' width='300'>\",\n",
       " '<img align=absmiddle src=\"kor_00001.gif\">',\n",
       " \"<img src='da542sy.jpg' width='300'>\",\n",
       " \"<img src='mb002sy.jpg' width='300'>\",\n",
       " \"<img src='g00260.jpg' width='300'>\",\n",
       " \"<img src='ec566sy.jpg' width='300'>\",\n",
       " \"<img src='d00060.jpg' width='300'>\",\n",
       " \"<img src='ab020sz.jpg' width='300'>\",\n",
       " \"<img src='ec106sx.jpg' width='300'>\",\n",
       " \"<img src='cd096sx.jpg' width='300'>\",\n",
       " \"<img src='mb060py.jpg' width='300'>\",\n",
       " \"<img src='cd044py.jpg' width='300'>\",\n",
       " \"<img src='e00009.jpg' width='300'>\",\n",
       " \"<img src='ad080sz.jpg' width='300'>\",\n",
       " \"<img src='h00011.jpg' width='300'>\",\n",
       " \"<img src='hb078py.jpg' width='300'>\",\n",
       " \"<img src='ic002sx.jpg' width='300'>\",\n",
       " \"<img src='fc024sx.jpg' width='300'>\",\n",
       " \"<img src='la536sy.jpg' width='300'>\",\n",
       " \"<img src='ad519sz.jpg' width='300'>\",\n",
       " \"<img src='bb126py.jpg' width='300'>\",\n",
       " \"<img src='hf091sx.jpg' width='300'>\",\n",
       " \"<img src='b00055.jpg' width='300'>\",\n",
       " \"<img src='cc116py.jpg' width='300'>\",\n",
       " \"<img src='la172sy.jpg' width='300'>\",\n",
       " '<img align=absmiddle src=http://124.137.201.222/image_file/1char/etc_0504.gif>',\n",
       " \"<img src='eb153sx.jpg' width='300'>\",\n",
       " \"<img src='cb536sy.jpg' width='300'>\",\n",
       " \"<img src='la548sy.jpg' width='300'>\",\n",
       " '<img align=absmiddle src=http://124.137.201.222/image_file/1char/number_sign_eqn122.gif>',\n",
       " \"<img src='gf537py.jpg' width='300'>\",\n",
       " \"<img src='ha195sx.jpg' width='300'>\",\n",
       " \"<img src='cb086py.jpg' width='300'>\",\n",
       " \"<img src='fc187sy.jpg' width='300'>\",\n",
       " '<img align=absmiddle src=\"etc_0015.gif\">',\n",
       " \"<img src='hb540sy.jpg' width='300'>\",\n",
       " \"<img src='hc007sz.jpg' width='300'>\",\n",
       " \"<img src='ia003sz.jpg' width='300'>\",\n",
       " \"<img src='ab556sy.jpg' width='300'>\",\n",
       " \"<img src='ca106py.jpg' width='300'>\",\n",
       " \"<img src='b00109.jpg' width='300'>\",\n",
       " \"<img src='bb543py.jpg' width='300'>\",\n",
       " \"<img src='hd585py.jpg' width='300'>\",\n",
       " \"<img src='mb082py.jpg' width='300'>\",\n",
       " \"<img src='fc519sy.jpg' width='300'>\",\n",
       " \"<img src='mb090sz.jpg' width='300'>\",\n",
       " \"<img src='j00002.jpg' width='300'>\",\n",
       " \"<img src='he129py.jpg' width='300'>\",\n",
       " \"<img src='ec264sz.jpg' width='300'>\",\n",
       " \"<img src='hb585py.jpg' width='300'>\",\n",
       " \"<img src='he535sy.jpg' width='300'>\",\n",
       " '<img align=absmiddle src=http://124.137.201.222/image_file/1char/number_sign_eqn231.gif>',\n",
       " \"<img src='nc038py.jpg' width='300'>\",\n",
       " \"<img src='af196py.jpg' width='300'>\",\n",
       " \"<img src='ad561py.jpg' width='300'>\",\n",
       " \"<img src='ea151py.jpg' width='300'>\",\n",
       " \"<img src='mb031py.jpg' width='300'>\",\n",
       " \"<img src='m00083.jpg' width='300'>\",\n",
       " \"<img src='ac507sy.jpg' width='300'>\",\n",
       " \"<img src='gd062sx.jpg' width='300'>\",\n",
       " \"<img src='hf507sy.jpg' width='300'>\",\n",
       " \"<img src='c00182.jpg' width='300'>\",\n",
       " \"<img src='cb168py.jpg' width='300'>\",\n",
       " \"<img src='fb522sy.jpg' width='300'>\",\n",
       " \"<img src='mb511sy.jpg' width='300'>\",\n",
       " \"<img src='aa536sy.jpg' width='300'>\",\n",
       " \"<img src='ba545sy.jpg' width='300'>\",\n",
       " '<img align=absmiddle src=\"chn_10022.gif\">',\n",
       " \"<img src='b00080.jpg' width='300'>\",\n",
       " \"<img src='jb534sy.jpg' width='300'>\",\n",
       " \"<img src='ic505sz.jpg' width='300'>\",\n",
       " \"<img src='b00025.jpg' width='300'>\",\n",
       " \"<img src='ba027sx.jpg' width='300'>\",\n",
       " \"<img src='c00056.jpg' width='300'>\",\n",
       " \"<img src='i00063.jpg' width='300'>\",\n",
       " \"<img src='af113py.jpg' width='300'>\",\n",
       " \"<img src='fd576sz.jpg' width='300'>\",\n",
       " \"<img src='hd501py.jpg' width='300'>\",\n",
       " \"<img src='he058py.jpg' width='300'>\",\n",
       " \"<img src='hd127sx.jpg' width='300'>\",\n",
       " \"<img src='id566sy.jpg' width='300'>\",\n",
       " \"<img src='ad140sy.jpg' width='300'>\",\n",
       " '<img align=absmiddle src=http://124.137.201.222/image_file/1char/number_sign_eqn107.gif>',\n",
       " \"<img src='aa563sy.jpg' width='300'>\",\n",
       " \"<img src='jb527py.jpg' width='300'>\",\n",
       " \"<img src='fa138sx.jpg' width='300'>\",\n",
       " \"<img src='nb072py.jpg' width='300'>\",\n",
       " \"<img src='gf153sz.jpg' width='300'>\",\n",
       " \"<img src='h00027.jpg' width='300'>\",\n",
       " \"<img src='af569sy.jpg' width='300'>\",\n",
       " \"<img src='eb567sy.jpg' width='300'>\",\n",
       " \"<img src='l00010.jpg' width='300'>\",\n",
       " \"<img src='malaysia.jpg' width='300'>\",\n",
       " \"<img src='cb020py.jpg' width='300'>\",\n",
       " \"<img src='gc060sx.jpg' width='300'>\",\n",
       " \"<img src='he511sy.jpg' width='300'>\",\n",
       " \"<img src='nc134py.jpg' width='300'>\",\n",
       " \"<img src='ca050sy.jpg' width='300'>\",\n",
       " \"<img src='gc188py.jpg' width='300'>\",\n",
       " \"<img src='h00214.jpg' width='300'>\",\n",
       " \"<img src='h00152.jpg' width='300'>\",\n",
       " \"<img src='gc512sy.jpg' width='300'>\",\n",
       " \"<img src='ad008sx.jpg' width='300'>\",\n",
       " \"<img src='ma069py.jpg' width='300'>\",\n",
       " \"<img src='gb576py.jpg' width='300'>\",\n",
       " \"<img src='a00022.jpg' width='300'>\",\n",
       " \"<img src='gd163sz.jpg' width='300'>\",\n",
       " \"<img src='cb065py.jpg' width='300'>\",\n",
       " \"<img src='he027py.jpg' width='300'>\",\n",
       " \"<img src='e00051.jpg' width='300'>\",\n",
       " \"<img src='l00055.jpg' width='300'>\",\n",
       " \"<img src='fa021py.jpg' width='300'>\",\n",
       " \"<img src='ag541py.jpg' width='300'>\",\n",
       " \"<img src='mb560sy.jpg' width='300'>\",\n",
       " \"<img src='fd191sx.jpg' width='300'>\",\n",
       " \"<img src='eb155py.jpg' width='300'>\",\n",
       " \"<img src='ba563sz.jpg' width='300'>\",\n",
       " '<img align=absmiddle src=http://124.137.201.222/image_file/1char/chn_80003.gif>',\n",
       " \"<img src='ec582py.jpg' width='300'>\",\n",
       " \"<img src='ga191sx.jpg' width='300'>\",\n",
       " \"<img src='bb016py.jpg' width='300'>\",\n",
       " \"<img src='ba202py.jpg' width='300'>\",\n",
       " \"<img src='a00167.jpg' width='300'>\",\n",
       " \"<img src='gompangi.jpg' width='300'>\",\n",
       " '<img align=absmiddle src=\"number_sign_eqn58.gif\">',\n",
       " \"<img src='ga518sy.jpg' width='300'>\",\n",
       " \"<img src='fc196py.jpg' width='300'>\",\n",
       " \"<img src='f00176.jpg' width='300'>\",\n",
       " \"<img src='ic059sy.jpg' width='300'>\",\n",
       " '<img align=absmiddle src=http://124.137.201.222/image_file/1char/chn_11014.gif>',\n",
       " \"<img src='ib513sy.jpg' width='300'>\",\n",
       " \"<img src='ca023py.jpg' width='300'>\",\n",
       " \"<img src='hc557py.jpg' width='300'>\",\n",
       " \"<img src='af167sy.jpg' width='300'>\",\n",
       " \"<img src='g00045.jpg' width='300'>\",\n",
       " \"<img src='la099py.jpg' width='300'>\",\n",
       " '<img align=absmiddle src=\"number_sign_eqn176.gif\">',\n",
       " \"<img src='hc509sy.jpg' width='300'>\",\n",
       " \"<img src='gc557sz.jpg' width='300'>\",\n",
       " \"<img src='k00055.jpg' width='300'>\",\n",
       " \"<img src='gd061py.jpg' width='300'>\",\n",
       " \"<img src='da549sz.jpg' width='300'>\",\n",
       " \"<img src='ab050py.jpg' width='300'>\",\n",
       " \"<img src='bb202py.jpg' width='300'>\",\n",
       " \"<img src='c00099.jpg' width='300'>\",\n",
       " \"<img src='ba064sx.jpg' width='300'>\",\n",
       " \"<img src='ab077sx.jpg' width='300'>\",\n",
       " '<img align=absmiddle src=\"chn_10013.gif\">',\n",
       " \"<img src='j00031.jpg' width='300'>\",\n",
       " \"<img src='id103sy.jpg' width='300'>\",\n",
       " \"<img src='ae502sx.jpg' width='300'>\",\n",
       " \"<img src='ag098py.jpg' width='300'>\",\n",
       " \"<img src='h00188.jpg' width='300'>\",\n",
       " \"<img src='da510sy.jpg' width='300'>\",\n",
       " \"<img src='aa182sy.jpg' width='300'>\",\n",
       " \"<img src='mb556py.jpg' width='300'>\",\n",
       " \"<img src='mb078py.jpg' width='300'>\",\n",
       " \"<img src='fb532sy.jpg' width='300'>\",\n",
       " \"<img src='f00229.jpg' width='300'>\",\n",
       " \"<img src='bb062sx.jpg' width='300'>\",\n",
       " '<img align=absmiddle src=\"chn_90008.gif\">',\n",
       " \"<img src='b00041.jpg' width='300'>\",\n",
       " \"<img src='hd143sx.jpg' width='300'>\",\n",
       " \"<img src='hc185py.jpg' width='300'>\",\n",
       " \"<img src='na536sy.jpg' width='300'>\",\n",
       " \"<img src='nb034py.jpg' width='300'>\",\n",
       " \"<img src='ea524sy.jpg' width='300'>\",\n",
       " \"<img src='m00061.jpg' width='300'>\",\n",
       " \"<img src='eb566sy.jpg' width='300'>\",\n",
       " \"<img src='e00112.jpg' width='300'>\",\n",
       " '<img align=absmiddle src=http://124.137.201.222/image_file/1char/number_sign_eqn243.gif>',\n",
       " \"<img src='ag142sx.jpg' width='300'>\",\n",
       " \"<img src='hc025sy.jpg' width='300'>\",\n",
       " \"<img src='gd518py.jpg' width='300'>\",\n",
       " \"<img src='ae567sy.jpg' width='300'>\",\n",
       " \"<img src='hb571sz.jpg' width='300'>\",\n",
       " \"<img src='af568sy.jpg' width='300'>\",\n",
       " \"<img src='la583sz.jpg' width='300'>\",\n",
       " \"<img src='ag146sx.jpg' width='300'>\",\n",
       " \"<img src='ja086sx.jpg' width='300'>\",\n",
       " \"<img src='eb070sx.jpg' width='300'>\",\n",
       " \"<img src='a00076.jpg' width='300'>\",\n",
       " \"<img src='na057sy.jpg' width='300'>\",\n",
       " \"<img src='af124sy.jpg' width='300'>\",\n",
       " \"<img src='cd089py.jpg' width='300'>\",\n",
       " \"<img src='j00025.jpg' width='300'>\",\n",
       " \"<img src='hf554sy.jpg' width='300'>\",\n",
       " \"<img src='h00349.jpg' width='300'>\",\n",
       " \"<img src='gd049sx.jpg' width='300'>\",\n",
       " \"<img src='fd511py.jpg' width='300'>\",\n",
       " \"<img src='g00193.jpg' width='300'>\",\n",
       " \"<img src='cb526sy.jpg' width='300'>\",\n",
       " \"<img src='gd107sx.jpg' width='300'>\",\n",
       " \"<img src='ae543sy.jpg' width='300'>\",\n",
       " \"<img src='hf084py.jpg' width='300'>\",\n",
       " '<img align=absmiddle src=\"number_sign_eqn52.gif\">',\n",
       " \"<img src='ib517py.jpg' width='300'>\",\n",
       " \"<img src='cd129sz.jpg' width='300'>\",\n",
       " \"<img src='a00285.jpg' width='300'>\",\n",
       " \"<img src='hb168sz.jpg' width='300'>\",\n",
       " \"<img src='eb087py.jpg' width='300'>\",\n",
       " \"<img src='na178sx.jpg' width='300'>\",\n",
       " \"<img src='cb203sz.jpg' width='300'>\",\n",
       " \"<img src='nc514py.jpg' width='300'>\",\n",
       " \"<img src='nb506py.jpg' width='300'>\",\n",
       " \"<img src='ka589py.jpg' width='300'>\",\n",
       " '<img align=absmiddle src=http://124.137.201.222/image_file/1char/number_sign_eqn60.gif>',\n",
       " \"<img src='gc550sy.jpg' width='300'>\",\n",
       " \"<img src='da555sz.jpg' width='300'>\",\n",
       " \"<img src='gd564sz.jpg' width='300'>\",\n",
       " \"<img src='he062py.jpg' width='300'>\",\n",
       " \"<img src='nc051sx.jpg' width='300'>\",\n",
       " \"<img src='af536sz.jpg' width='300'>\",\n",
       " \"<img src='ma016py.jpg' width='300'>\",\n",
       " \"<img src='gc146py.jpg' width='300'>\",\n",
       " \"<img src='ag172sx.jpg' width='300'>\",\n",
       " \"<img src='ha158sy.jpg' width='300'>\",\n",
       " \"<img src='hc525sy.jpg' width='300'>\",\n",
       " \"<img src='ma519sy.jpg' width='300'>\",\n",
       " \"<img src='f00236.jpg' width='300'>\",\n",
       " \"<img src='gb129sx.jpg' width='300'>\",\n",
       " \"<img src='jb049py.jpg' width='300'>\",\n",
       " \"<img src='ja072sz.jpg' width='300'>\",\n",
       " \"<img src='ma526sy.jpg' width='300'>\",\n",
       " \"<img src='id504sy.jpg' width='300'>\",\n",
       " \"<img src='fb164py.jpg' width='300'>\",\n",
       " \"<img src='ea178sx.jpg' width='300'>\",\n",
       " \"<img src='cc014py.jpg' width='300'>\",\n",
       " \"<img src='ac560sy.jpg' width='300'>\",\n",
       " \"<img src='gd541sy.jpg' width='300'>\",\n",
       " \"<img src='i00117.jpg' width='300'>\",\n",
       " \"<img src='ka523sy.jpg' width='300'>\",\n",
       " \"<img src='h00217.jpg' width='300'>\",\n",
       " \"<img src='f00057.jpg' width='300'>\",\n",
       " \"<img src='ae580py.jpg' width='300'>\",\n",
       " \"<img src='c00142.jpg' width='300'>\",\n",
       " '<img align=absmiddle src=\"chn_10029.gif\">',\n",
       " '<img align=absmiddle src=\"etc_0103.gif\">',\n",
       " \"<img src='nb509sy.jpg' width='300'>\",\n",
       " \"<img src='cd022sx.jpg' width='300'>\",\n",
       " \"<img src='fa024py.jpg' width='300'>\",\n",
       " \"<img src='gb558sy.jpg' width='300'>\",\n",
       " \"<img src='hd215py.jpg' width='300'>\",\n",
       " \"<img src='basshaehyup.jpg' width='300'>\",\n",
       " \"<img src='ag508sy.jpg' width='300'>\",\n",
       " \"<img src='ba510py.jpg' width='300'>\",\n",
       " \"<img src='h00064.jpg' width='300'>\",\n",
       " \"<img src='ab188sx.jpg' width='300'>\",\n",
       " \"<img src='id532sz.jpg' width='300'>\",\n",
       " \"<img src='nb503py.jpg' width='300'>\",\n",
       " \"<img src='aa160sx.jpg' width='300'>\",\n",
       " \"<img src='gd057sy.jpg' width='300'>\",\n",
       " \"<img src='ga051py.jpg' width='300'>\",\n",
       " \"<img src='ma582sy.jpg' width='300'>\",\n",
       " \"<img src='fd139sx.jpg' width='300'>\",\n",
       " \"<img src='ha144py.jpg' width='300'>\",\n",
       " \"<img src='fa096sy.jpg' width='300'>\",\n",
       " \"<img src='fa520sy.jpg' width='300'>\",\n",
       " \"<img src='cb195py.jpg' width='300'>\",\n",
       " \"<img src='gc515sy.jpg' width='300'>\",\n",
       " '<img align=absmiddle src=\"number_sign_eqn221.gif\">',\n",
       " \"<img src='f00043.jpg' width='300'>\",\n",
       " \"<img src='ia205py.jpg' width='300'>\",\n",
       " \"<img src='ab510py.jpg' width='300'>\",\n",
       " \"<img src='cc108py.jpg' width='300'>\",\n",
       " \"<img src='hc508sy.jpg' width='300'>\",\n",
       " \"<img src='ga065py.jpg' width='300'>\",\n",
       " \"<img src='af556sz.jpg' width='300'>\",\n",
       " \"<img src='eb030sx.jpg' width='300'>\",\n",
       " \"<img src='fb511py.jpg' width='300'>\",\n",
       " '<img align=absmiddle src=\"chn_30002.gif\">',\n",
       " \"<img src='ia136py.jpg' width='300'>\",\n",
       " \"<img src='gc084py.jpg' width='300'>\",\n",
       " \"<img src='hd571sz.jpg' width='300'>\",\n",
       " \"<img src='fc605py.jpg' width='300'>\",\n",
       " \"<img src='af522sy.jpg' width='300'>\",\n",
       " '<img align=absmiddle src=\"number_sign_eqn155.gif\">',\n",
       " \"<img src='ag099sx.jpg' width='300'>\",\n",
       " \"<img src='ja025py.jpg' width='300'>\",\n",
       " \"<img src='gf238sz.jpg' width='300'>\",\n",
       " \"<img src='h00066.jpg' width='300'>\",\n",
       " \"<img src='hf561py.jpg' width='300'>\",\n",
       " \"<img src='ic507sy.jpg' width='300'>\",\n",
       " \"<img src='eb596sy.jpg' width='300'>\",\n",
       " \"<img src='gc516sy.jpg' width='300'>\",\n",
       " \"<img src='ib199sx.jpg' width='300'>\",\n",
       " \"<img src='ib172sz.jpg' width='300'>\",\n",
       " \"<img src='m00006.jpg' width='300'>\",\n",
       " \"<img src='montenegro.jpg' width='300'>\",\n",
       " \"<img src='ca525py.jpg' width='300'>\",\n",
       " \"<img src='ac572sx.jpg' width='300'>\",\n",
       " \"<img src='ba029py.jpg' width='300'>\",\n",
       " \"<img src='ac514py.jpg' width='300'>\",\n",
       " '<img align=absmiddle src=\"chn_10023.gif\">',\n",
       " \"<img src='hf044py.jpg' width='300'>\",\n",
       " \"<img src='ha128sx.jpg' width='300'>\",\n",
       " \"<img src='ab511py.jpg' width='300'>\",\n",
       " \"<img src='aa542sy.jpg' width='300'>\",\n",
       " \"<img src='ad014sx.jpg' width='300'>\",\n",
       " \"<img src='nc162py.jpg' width='300'>\",\n",
       " \"<img src='hb110py.jpg' width='300'>\",\n",
       " \"<img src='bb086sx.jpg' width='300'>\",\n",
       " \"<img src='ia114py.jpg' width='300'>\",\n",
       " \"<img src='gb055py.jpg' width='300'>\",\n",
       " \"<img src='eb501py.jpg' width='300'>\",\n",
       " \"<img src='ja516sy.jpg' width='300'>\",\n",
       " \"<img src='la589sy.jpg' width='300'>\",\n",
       " \"<img src='ja019sx.jpg' width='300'>\",\n",
       " \"<img src='fd198py.jpg' width='300'>\",\n",
       " \"<img src='cc543sy.jpg' width='300'>\",\n",
       " '<img align=absmiddle src=\"etc_0028.gif\">',\n",
       " \"<img src='cc539py.jpg' width='300'>\",\n",
       " \"<img src='ag101sy.jpg' width='300'>\",\n",
       " \"<img src='bb534sz.jpg' width='300'>\",\n",
       " \"<img src='c00086.jpg' width='300'>\",\n",
       " \"<img src='hd527sy.jpg' width='300'>\",\n",
       " \"<img src='l00031.jpg' width='300'>\",\n",
       " \"<img src='nb073py.jpg' width='300'>\",\n",
       " \"<img src='byeongpung.jpg' width='300'>\",\n",
       " \"<img src='gb566sz.jpg' width='300'>\",\n",
       " \"<img src='h00001.jpg' width='300'>\",\n",
       " '<img align=absmiddle src=\"number_sign_eqn164.gif\">',\n",
       " \"<img src='ka516sy.jpg' width='300'>\",\n",
       " \"<img src='gb186py.jpg' width='300'>\",\n",
       " \"<img src='g00237.jpg' width='300'>\",\n",
       " \"<img src='ag507sy.jpg' width='300'>\",\n",
       " \"<img src='ga176sx.jpg' width='300'>\",\n",
       " \"<img src='a00082.jpg' width='300'>\",\n",
       " \"<img src='hb591py.jpg' width='300'>\",\n",
       " \"<img src='gc005py.jpg' width='300'>\",\n",
       " \"<img src='ia076py.jpg' width='300'>\",\n",
       " \"<img src='hf001py.jpg' width='300'>\",\n",
       " \"<img src='fd031py.jpg' width='300'>\",\n",
       " \"<img src='cd013sx.jpg' width='300'>\",\n",
       " \"<img src='h00237.jpg' width='300'>\",\n",
       " \"<img src='e00043.jpg' width='300'>\",\n",
       " \"<img src='ea544sy.jpg' width='300'>\",\n",
       " \"<img src='n00109.jpg' width='300'>\",\n",
       " \"<img src='ac557sy.jpg' width='300'>\",\n",
       " \"<img src='fc022py.jpg' width='300'>\",\n",
       " \"<img src='l00082.jpg' width='300'>\",\n",
       " \"<img src='a00278.jpg' width='300'>\",\n",
       " \"<img src='bb170sx.jpg' width='300'>\",\n",
       " \"<img src='id514sy.jpg' width='300'>\",\n",
       " \"<img src='he065sz.jpg' width='300'>\",\n",
       " \"<img src='e00104.jpg' width='300'>\",\n",
       " \"<img src='hf021sx.jpg' width='300'>\",\n",
       " \"<img src='ga532sy.jpg' width='300'>\",\n",
       " \"<img src='gf184py.jpg' width='300'>\",\n",
       " \"<img src='cb058sy.jpg' width='300'>\",\n",
       " \"<img src='fa523sy.jpg' width='300'>\",\n",
       " \"<img src='id046py.jpg' width='300'>\",\n",
       " \"<img src='i00145.jpg' width='300'>\",\n",
       " \"<img src='hd203sz.jpg' width='300'>\",\n",
       " \"<img src='la601sy.jpg' width='300'>\",\n",
       " '<img align=absmiddle src=\"etc_0022.gif\">',\n",
       " \"<img src='mb553py.jpg' width='300'>\",\n",
       " \"<img src='nb571sy.jpg' width='300'>\",\n",
       " \"<img src='he111sx.jpg' width='300'>\",\n",
       " \"<img src='id529sy.jpg' width='300'>\",\n",
       " \"<img src='ka520sy.jpg' width='300'>\",\n",
       " \"<img src='b00064.jpg' width='300'>\",\n",
       " \"<img src='n00101.jpg' width='300'>\",\n",
       " \"<img src='af575sy.jpg' width='300'>\",\n",
       " \"<img src='fc092sy.jpg' width='300'>\",\n",
       " \"<img src='ab068sz.jpg' width='300'>\",\n",
       " \"<img src='gc020sy.jpg' width='300'>\",\n",
       " \"<img src='nb566sy.jpg' width='300'>\",\n",
       " \"<img src='c00124.jpg' width='300'>\",\n",
       " \"<img src='jb081sy.jpg' width='300'>\",\n",
       " \"<img src='ad508sy.jpg' width='300'>\",\n",
       " \"<img src='hd531sy.jpg' width='300'>\",\n",
       " \"<img src='gb557sy.jpg' width='300'>\",\n",
       " \"<img src='g00228-11.jpg' width='300'>\",\n",
       " \"<img src='gb543sy.jpg' width='300'>\",\n",
       " \"<img src='gb124py.jpg' width='300'>\",\n",
       " \"<img src='fb155py.jpg' width='300'>\",\n",
       " \"<img src='ma545sy.jpg' width='300'>\",\n",
       " \"<img src='aa152py.jpg' width='300'>\",\n",
       " \"<img src='eb542sy.jpg' width='300'>\",\n",
       " \"<img src='ae069sx.jpg' width='300'>\",\n",
       " \"<img src='ae552sy.jpg' width='300'>\",\n",
       " \"<img src='af051py.jpg' width='300'>\",\n",
       " \"<img src='ma111sy.jpg' width='300'>\",\n",
       " \"<img src='n00090.jpg' width='300'>\",\n",
       " \"<img src='fc028sz.jpg' width='300'>\",\n",
       " \"<img src='g00127.jpg' width='300'>\",\n",
       " \"<img src='h00269.jpg' width='300'>\",\n",
       " \"<img src='na543sz.jpg' width='300'>\",\n",
       " \"<img src='da557sz.jpg' width='300'>\",\n",
       " \"<img src='fb528sy.jpg' width='300'>\",\n",
       " \"<img src='h00009.jpg' width='300'>\",\n",
       " \"<img src='fa564py.jpg' width='300'>\",\n",
       " \"<img src='hwaeum01.jpg' width='300'>\",\n",
       " \"<img src='gb528sy.jpg' width='300'>\",\n",
       " \"<img src='nb138sy.jpg' width='300'>\",\n",
       " \"<img src='ic533sy.jpg' width='300'>\",\n",
       " \"<img src='hb559sy.jpg' width='300'>\",\n",
       " \"<img src='fd101py.jpg' width='300'>\",\n",
       " \"<img src='ca145sx.jpg' width='300'>\",\n",
       " \"<img src='fa151py.jpg' width='300'>\",\n",
       " \"<img src='h00080.jpg' width='300'>\",\n",
       " \"<img src='ad034sz.jpg' width='300'>\",\n",
       " \"<img src='da561py.jpg' width='300'>\",\n",
       " \"<img src='hb141py.jpg' width='300'>\",\n",
       " \"<img src='da009sy.jpg' width='300'>\",\n",
       " \"<img src='cc185sx.jpg' width='300'>\",\n",
       " \"<img src='ib118py.jpg' width='300'>\",\n",
       " \"<img src='gb181sy.jpg' width='300'>\",\n",
       " \"<img src='ja191py.jpg' width='300'>\",\n",
       " '<img align=absmiddle src=\"chn_40003.gif\">',\n",
       " \"<img src='g00136.jpg' width='300'>\",\n",
       " \"<img src='c00161.jpg' width='300'>\",\n",
       " \"<img src='i00174.jpg' width='300'>\",\n",
       " \"<img src='n00067.jpg' width='300'>\",\n",
       " \"<img src='eb218py.jpg' width='300'>\",\n",
       " \"<img src='m00013.jpg' width='300'>\",\n",
       " \"<img src='ec239sy.jpg' width='300'>\",\n",
       " \"<img src='b00077.jpg' width='300'>\",\n",
       " \"<img src='ga559sy.jpg' width='300'>\",\n",
       " \"<img src='mb154sy.jpg' width='300'>\",\n",
       " \"<img src='siliconjeonnyugi.jpg' width='300'>\",\n",
       " \"<img src='na575sy.jpg' width='300'>\",\n",
       " \"<img src='gd545sy.jpg' width='300'>\",\n",
       " \"<img src='a00135.jpg' width='300'>\",\n",
       " \"<img src='gf158py.jpg' width='300'>\",\n",
       " \"<img src='hb511sy.jpg' width='300'>\",\n",
       " \"<img src='bb153sx.jpg' width='300'>\",\n",
       " '<img align=absmiddle src=http://124.137.201.222/image_file/1char/number_sign_eqn146.gif>',\n",
       " \"<img src='gd144sz.jpg' width='300'>\",\n",
       " \"<img src='k00039.jpg' width='300'>\",\n",
       " \"<img src='cc141sz.jpg' width='300'>\",\n",
       " \"<img src='cc162py.jpg' width='300'>\",\n",
       " \"<img src='ab524sy.jpg' width='300'>\",\n",
       " \"<img src='nc161py.jpg' width='300'>\",\n",
       " \"<img src='ma011py.jpg' width='300'>\",\n",
       " \"<img src='ic040py.jpg' width='300'>\",\n",
       " \"<img src='ka547sy.jpg' width='300'>\",\n",
       " \"<img src='nb095py.jpg' width='300'>\",\n",
       " \"<img src='ha549sy.jpg' width='300'>\",\n",
       " \"<img src='la579sy.jpg' width='300'>\",\n",
       " \"<img src='c00041.jpg' width='300'>\",\n",
       " \"<img src='fd019py.jpg' width='300'>\",\n",
       " \"<img src='j00055.jpg' width='300'>\",\n",
       " \"<img src='nc019py.jpg' width='300'>\",\n",
       " \"<img src='eb036sy.jpg' width='300'>\",\n",
       " \"<img src='la568sy.jpg' width='300'>\",\n",
       " \"<img src='fa555sy.jpg' width='300'>\",\n",
       " '<img align=absmiddle src=\"chn_10003.gif\">',\n",
       " \"<img src='e00015.jpg' width='300'>\",\n",
       " \"<img src='c00185.jpg' width='300'>\",\n",
       " \"<img src='af545sz.jpg' width='300'>\",\n",
       " \"<img src='i00044.jpg' width='300'>\",\n",
       " \"<img src='fb128sx.jpg' width='300'>\",\n",
       " \"<img src='ic142sx.jpg' width='300'>\",\n",
       " '<img align=absmiddle src=\"chn_50005.gif\">',\n",
       " \"<img src='bb241sy.jpg' width='300'>\",\n",
       " \"<img src='gd570py.jpg' width='300'>\",\n",
       " \"<img src='id200sx.jpg' width='300'>\",\n",
       " \"<img src='g00090.jpg' width='300'>\",\n",
       " \"<img src='jb545sy.jpg' width='300'>\",\n",
       " \"<img src='ba014sx.jpg' width='300'>\",\n",
       " \"<img src='hd145sx.jpg' width='300'>\",\n",
       " \"<img src='gb028sz.jpg' width='300'>\",\n",
       " \"<img src='ga064py.jpg' width='300'>\",\n",
       " \"<img src='ib190sy.jpg' width='300'>\",\n",
       " \"<img src='fa153sz.jpg' width='300'>\",\n",
       " \"<img src='eb601sy.jpg' width='300'>\",\n",
       " \"<img src='gb539py.jpg' width='300'>\",\n",
       " \"<img src='nc139py.jpg' width='300'>\",\n",
       " \"<img src='ag115py.jpg' width='300'>\",\n",
       " \"<img src='g00200.jpg' width='300'>\",\n",
       " \"<img src='fa006py.jpg' width='300'>\",\n",
       " \"<img src='ca055py.jpg' width='300'>\",\n",
       " \"<img src='ab506sy.jpg' width='300'>\",\n",
       " \"<img src='e00048.jpg' width='300'>\",\n",
       " \"<img src='eb133py.jpg' width='300'>\",\n",
       " \"<img src='bb056sx.jpg' width='300'>\",\n",
       " \"<img src='la590sz.jpg' width='300'>\",\n",
       " \"<img src='bb228sz.jpg' width='300'>\",\n",
       " \"<img src='hd173py.jpg' width='300'>\",\n",
       " \"<img src='gd077sx.jpg' width='300'>\",\n",
       " \"<img src='ca204sy-1.jpg' width='300'>\",\n",
       " \"<img src='jb072sz.jpg' width='300'>\",\n",
       " \"<img src='mb118sx.jpg' width='300'>\",\n",
       " \"<img src='ib119py.jpg' width='300'>\",\n",
       " \"<img src='ag144py.jpg' width='300'>\",\n",
       " \"<img src='nb586py.jpg' width='300'>\",\n",
       " \"<img src='ba019sx.jpg' width='300'>\",\n",
       " \"<img src='fb050sx.jpg' width='300'>\",\n",
       " \"<img src='ga562py.jpg' width='300'>\",\n",
       " \"<img src='id556sz.jpg' width='300'>\",\n",
       " \"<img src='fa191py.jpg' width='300'>\",\n",
       " \"<img src='ia532sy.jpg' width='300'>\",\n",
       " \"<img src='ea023sy.jpg' width='300'>\",\n",
       " \"<img src='f00093.jpg' width='300'>\",\n",
       " '<img align=absmiddle src=\"number_sign_eqn85.gif\">',\n",
       " \"<img src='ca150sx.jpg' width='300'>\",\n",
       " \"<img src='ja511sy.jpg' width='300'>\",\n",
       " \"<img src='gb024py.jpg' width='300'>\",\n",
       " \"<img src='g00255.jpg' width='300'>\",\n",
       " \"<img src='gc506sy.jpg' width='300'>\",\n",
       " \"<img src='af057sx.jpg' width='300'>\",\n",
       " \"<img src='d00003.jpg' width='300'>\",\n",
       " \"<img src='f00104.jpg' width='300'>\",\n",
       " \"<img src='cd529sy.jpg' width='300'>\",\n",
       " \"<img src='h00079.jpg' width='300'>\",\n",
       " \"<img src='fa543sy.jpg' width='300'>\",\n",
       " \"<img src='jb608py.jpg' width='300'>\",\n",
       " '<img align=absmiddle src=\"chn_15010.gif\">',\n",
       " \"<img src='hb183py.jpg' width='300'>\",\n",
       " '<img align=absmiddle src=\"chn_11003.gif\">',\n",
       " \"<img src='ec525sy.jpg' width='300'>\",\n",
       " \"<img src='af563sz.jpg' width='300'>\",\n",
       " \"<img src='fb143py.jpg' width='300'>\",\n",
       " \"<img src='ca161py.jpg' width='300'>\",\n",
       " \"<img src='ib541sy.jpg' width='300'>\",\n",
       " \"<img src='songgot.jpg' width='300'>\",\n",
       " '<img align=absmiddle src=http://124.137.201.222/image_file/1char/number_sign_eqn96.gif>',\n",
       " \"<img src='la591py.jpg' width='300'>\",\n",
       " \"<img src='af150py.jpg' width='300'>\",\n",
       " \"<img src='cd100sz.jpg' width='300'>\",\n",
       " \"<img src='gd552sy.jpg' width='300'>\",\n",
       " \"<img src='mb066sx.jpg' width='300'>\",\n",
       " \"<img src='ec045py.jpg' width='300'>\",\n",
       " \"<img src='na505py.jpg' width='300'>\",\n",
       " \"<img src='ac174sz.jpg' width='300'>\",\n",
       " \"<img src='fd042py.jpg' width='300'>\",\n",
       " \"<img src='fc198sy.jpg' width='300'>\",\n",
       " \"<img src='cc001sz.jpg' width='300'>\",\n",
       " \"<img src='ca168sx.jpg' width='300'>\",\n",
       " \"<img src='ga062py.jpg' width='300'>\",\n",
       " \"<img src='ga025sy.jpg' width='300'>\",\n",
       " \"<img src='c00004.jpg' width='300'>\",\n",
       " \"<img src='fa514sy.jpg' width='300'>\",\n",
       " \"<img src='he110py.jpg' width='300'>\",\n",
       " \"<img src='fc195sx.jpg' width='300'>\",\n",
       " \"<img src='ec510py.jpg' width='300'>\",\n",
       " '<img align=absmiddle src=\"number_sign_eqn88.gif\">',\n",
       " \"<img src='cd509sy.jpg' width='300'>\",\n",
       " \"<img src='f00054.jpg' width='300'>\",\n",
       " \"<img src='ga510py.jpg' width='300'>\",\n",
       " \"<img src='na067sz.jpg' width='300'>\",\n",
       " \"<img src='ea093sx.jpg' width='300'>\",\n",
       " \"<img src='d00012.jpg' width='300'>\",\n",
       " \"<img src='hc135py.jpg' width='300'>\",\n",
       " \"<img src='ha543sy.jpg' width='300'>\",\n",
       " \"<img src='ca116sx.jpg' width='300'>\",\n",
       " \"<img src='cd169py.jpg' width='300'>\",\n",
       " \"<img src='ab170sz.jpg' width='300'>\",\n",
       " \"<img src='ic054sy.jpg' width='300'>\",\n",
       " \"<img src='cc048py.jpg' width='300'>\",\n",
       " \"<img src='ga558py.jpg' width='300'>\",\n",
       " \"<img src='fb057sz.jpg' width='300'>\",\n",
       " \"<img src='fa047py.jpg' width='300'>\",\n",
       " \"<img src='af573sy.jpg' width='300'>\",\n",
       " \"<img src='id222sy.jpg' width='300'>\",\n",
       " \"<img src='a00134.jpg' width='300'>\",\n",
       " \"<img src='cc184sx.jpg' width='300'>\",\n",
       " \"<img src='d00006.jpg' width='300'>\",\n",
       " \"<img src='ae563sy.jpg' width='300'>\",\n",
       " \"<img src='ja512sy.jpg' width='300'>\",\n",
       " \"<img src='fa524sy.jpg' width='300'>\",\n",
       " \"<img src='eb573py.jpg' width='300'>\",\n",
       " \"<img src='ha152sx.jpg' width='300'>\",\n",
       " \"<img src='f00023.jpg' width='300'>\",\n",
       " \"<img src='jb549sy.jpg' width='300'>\",\n",
       " \"<img src='b00029.jpg' width='300'>\",\n",
       " \"<img src='ac025sz.jpg' width='300'>\",\n",
       " \"<img src='g00156.jpg' width='300'>\",\n",
       " \"<img src='bugapsangsaem.jpg' width='300'>\",\n",
       " \"<img src='k00008.jpg' width='300'>\",\n",
       " \"<img src='aa567sz.jpg' width='300'>\",\n",
       " \"<img src='jb537sy.jpg' width='300'>\",\n",
       " \"<img src='jb574sz.jpg' width='300'>\",\n",
       " \"<img src='ja126sx.jpg' width='300'>\",\n",
       " \"<img src='bb171sx.jpg' width='300'>\",\n",
       " \"<img src='ae039py.jpg' width='300'>\",\n",
       " \"<img src='eb143sy.jpg' width='300'>\",\n",
       " \"<img src='jb147sx.jpg' width='300'>\",\n",
       " \"<img src='af082sy.jpg' width='300'>\",\n",
       " \"<img src='ea148py.jpg' width='300'>\",\n",
       " \"<img src='fd218sy.jpg' width='300'>\",\n",
       " \"<img src='c00006.jpg' width='300'>\",\n",
       " \"<img src='hb108sy.jpg' width='300'>\",\n",
       " \"<img src='ja058sz.jpg' width='300'>\",\n",
       " \"<img src='ae532py.jpg' width='300'>\",\n",
       " \"<img src='n00020.jpg' width='300'>\",\n",
       " \"<img src='b00005.jpg' width='300'>\",\n",
       " \"<img src='a00289.jpg' width='300'>\",\n",
       " \"<img src='h00163.jpg' width='300'>\",\n",
       " \"<img src='ga211sx.jpg' width='300'>\",\n",
       " '<img align=absmiddle src=\"etc_0018.gif\">',\n",
       " \"<img src='b00042.jpg' width='300'>\",\n",
       " \"<img src='d00041.jpg' width='300'>\",\n",
       " '<img align=absmiddle src=\"chn_10010.gif\">',\n",
       " \"<img src='fa515sz.jpg' width='300'>\",\n",
       " \"<img src='la594sy.jpg' width='300'>\",\n",
       " \"<img src='ab536sy.jpg' width='300'>\",\n",
       " \"<img src='ea112sx.jpg' width='300'>\",\n",
       " \"<img src='aa555sx.jpg' width='300'>\",\n",
       " \"<img src='g00238.jpg' width='300'>\",\n",
       " \"<img src='he050sx.jpg' width='300'>\",\n",
       " \"<img src='nb114py.jpg' width='300'>\",\n",
       " \"<img src='nc016py.jpg' width='300'>\",\n",
       " '<img align=absmiddle src=\"etc_0031.gif\">',\n",
       " \"<img src='eb227sy.jpg' width='300'>\",\n",
       " \"<img src='ha208sx.jpg' width='300'>\",\n",
       " \"<img src='cd057sx.jpg' width='300'>\",\n",
       " \"<img src='fb593sy.jpg' width='300'>\",\n",
       " \"<img src='ab101sx.jpg' width='300'>\",\n",
       " \"<img src='hd539sy.jpg' width='300'>\",\n",
       " \"<img src='ba230sx.jpg' width='300'>\",\n",
       " \"<img src='hc106sy.jpg' width='300'>\",\n",
       " \"<img src='hf099sx.jpg' width='300'>\",\n",
       " \"<img src='bb068py.jpg' width='300'>\",\n",
       " \"<img src='cc502sx.jpg' width='300'>\",\n",
       " \"<img src='ag128py.jpg' width='300'>\",\n",
       " \"<img src='h00261.jpg' width='300'>\",\n",
       " \"<img src='ja085py.jpg' width='300'>\",\n",
       " \"<img src='a00266.jpg' width='300'>\",\n",
       " \"<img src='cc022sx.jpg' width='300'>\",\n",
       " \"<img src='i00119.jpg' width='300'>\",\n",
       " \"<img src='ib063py.jpg' width='300'>\",\n",
       " \"<img src='ae185py.jpg' width='300'>\",\n",
       " '<img align=absmiddle src=\"number_sign_eqn136.gif\">',\n",
       " \"<img src='la518sy.jpg' width='300'>\",\n",
       " \"<img src='af107sx.jpg' width='300'>\",\n",
       " \"<img src='h00029.jpg' width='300'>\",\n",
       " \"<img src='ec004sx.jpg' width='300'>\",\n",
       " \"<img src='byeongarimaedeup.jpg' width='300'>\",\n",
       " \"<img src='he555py.jpg' width='300'>\",\n",
       " \"<img src='la140sy.jpg' width='300'>\",\n",
       " \"<img src='jipge.jpg' width='300'>\",\n",
       " \"<img src='nc572sy.jpg' width='300'>\",\n",
       " \"<img src='i00164.jpg' width='300'>\",\n",
       " \"<img src='cb558sz.jpg' width='300'>\",\n",
       " \"<img src='k00051jpg' width='300'>\",\n",
       " \"<img src='da556sz.jpg' width='300'>\",\n",
       " \"<img src='cc538sy.jpg' width='300'>\",\n",
       " \"<img src='ic566sy.jpg' width='300'>\",\n",
       " \"<img src='id118sy.jpg' width='300'>\",\n",
       " \"<img src='l00003.jpg' width='300'>\",\n",
       " \"<img src='h00304.jpg' width='300'>\",\n",
       " \"<img src='fb091py.jpg' width='300'>\",\n",
       " \"<img src='g00198.jpg' width='300'>\",\n",
       " \"<img src='ab136sx.jpg' width='300'>\",\n",
       " \"<img src='ib564py.jpg' width='300'>\",\n",
       " \"<img src='jb183py.jpg' width='300'>\",\n",
       " \"<img src='g00114.jpg' width='300'>\",\n",
       " \"<img src='cd082sx.jpg' width='300'>\",\n",
       " \"<img src='bb532sy.jpg' width='300'>\",\n",
       " \"<img src='af105sy.jpg' width='300'>\",\n",
       " \"<img src='ha558sx.jpg' width='300'>\",\n",
       " \"<img src='ac072py.jpg' width='300'>\",\n",
       " \"<img src='ag236sy.jpg' width='300'>\",\n",
       " \"<img src='c00126.jpg' width='300'>\",\n",
       " \"<img src='f00084.jpg' width='300'>\",\n",
       " \"<img src='bulgaria.jpg' width='300'>\",\n",
       " \"<img src='hd573py.jpg' width='300'>\",\n",
       " \"<img src='cc062py.jpg' width='300'>\",\n",
       " \"<img src='fa076py.jpg' width='300'>\",\n",
       " \"<img src='hc099sy.jpg' width='300'>\",\n",
       " \"<img src='af581sy.jpg' width='300'>\",\n",
       " \"<img src='ia098sx.jpg' width='300'>\",\n",
       " \"<img src='i00010.jpg' width='300'>\",\n",
       " \"<img src='ae147py.jpg' width='300'>\",\n",
       " \"<img src='hd553sz.jpg' width='300'>\",\n",
       " \"<img src='cb032py.jpg' width='300'>\",\n",
       " \"<img src='id150py.jpg' width='300'>\",\n",
       " \"<img src='gb512py.jpg' width='300'>\",\n",
       " \"<img src='macedonia02.jpg' width='300'>\",\n",
       " \"<img src='gd520py.jpg' width='300'>\",\n",
       " \"<img src='aa535sy.jpg' width='300'>\",\n",
       " \"<img src='na521sy.jpg' width='300'>\",\n",
       " \"<img src='c00019.jpg' width='300'>\",\n",
       " \"<img src='cc515sy.jpg' width='300'>\",\n",
       " '<img align=absmiddle src=\"chn_90004.gif\">',\n",
       " \"<img src='mb550sy.jpg' width='300'>\",\n",
       " \"<img src='ab525py.jpg' width='300'>\",\n",
       " \"<img src='cc085sy.jpg' width='300'>\",\n",
       " \"<img src='fa510py.jpg' width='300'>\",\n",
       " \"<img src='ae512sy.jpg' width='300'>\",\n",
       " \"<img src='a00201.jpg' width='300'>\",\n",
       " \"<img src='hb044sz.jpg' width='300'>\",\n",
       " \"<img src='c00095.jpg' width='300'>\",\n",
       " \"<img src='he522sy.jpg' width='300'>\",\n",
       " \"<img src='gc160sz.jpg' width='300'>\",\n",
       " \"<img src='ba532py.jpg' width='300'>\",\n",
       " \"<img src='hc158py.jpg' width='300'>\",\n",
       " \"<img src='ga218sx.jpg' width='300'>\",\n",
       " \"<img src='ge505py.jpg' width='300'>\",\n",
       " \"<img src='saseum.jpg' width='300'>\",\n",
       " \"<img src='fb512py.jpg' width='300'>\",\n",
       " \"<img src='mb146sy.jpg' width='300'>\",\n",
       " \"<img src='eb581sz.jpg' width='300'>\",\n",
       " \"<img src='ad079sz.jpg' width='300'>\",\n",
       " \"<img src='fd188py.jpg' width='300'>\",\n",
       " \"<img src='la089sx.jpg' width='300'>\",\n",
       " \"<img src='c00129.jpg' width='300'>\",\n",
       " \"<img src='ca526py.jpg' width='300'>\",\n",
       " \"<img src='ab091sx.jpg' width='300'>\",\n",
       " \"<img src='ad096py.jpg' width='300'>\",\n",
       " \"<img src='ia072py.jpg' width='300'>\",\n",
       " \"<img src='ac537sy.jpg' width='300'>\",\n",
       " '<img align=absmiddle src=\"number_sign_eqn35.gif\">',\n",
       " \"<img src='hf082py.jpg' width='300'>\",\n",
       " \"<img src='cd219sy.jpg' width='300'>\",\n",
       " \"<img src='hb189sx.jpg' width='300'>\",\n",
       " \"<img src='ad003py.jpg' width='300'>\",\n",
       " \"<img src='ag078py.jpg' width='300'>\",\n",
       " \"<img src='hd126py.jpg' width='300'>\",\n",
       " \"<img src='g00181.jpg' width='300'>\",\n",
       " \"<img src='da091sz.jpg' width='300'>\",\n",
       " \"<img src='l00001.jpg' width='300'>\",\n",
       " '<img align=absmiddle src=http://124.137.201.222/image_file/1char/number_sign_eqn179.gif>',\n",
       " \"<img src='hf086sx.jpg' width='300'>\",\n",
       " \"<img src='ge018sz.jpg' width='300'>\",\n",
       " \"<img src='hd128sx.jpg' width='300'>\",\n",
       " \"<img src='hf206py.jpg' width='300'>\",\n",
       " \"<img src='hf511sy.jpg' width='300'>\",\n",
       " \"<img src='m00009.jpg' width='300'>\",\n",
       " '<img align=absmiddle src=\"number_sign_eqn20.gif\">',\n",
       " \"<img src='jb016py.jpg' width='300'>\",\n",
       " \"<img src='c00135.jpg' width='300'>\",\n",
       " \"<img src='hd587sy.jpg' width='300'>\",\n",
       " \"<img src='jebiburidaenggi.jpg' width='300'>\",\n",
       " \"<img src='ae534py.jpg' width='300'>\",\n",
       " \"<img src='a00124.jpg' width='300'>\",\n",
       " \"<img src='c00164.jpg' width='300'>\",\n",
       " '<img align=absmiddle src=\"etc_0007.gif\">',\n",
       " \"<img src='f00048.jpg' width='300'>\",\n",
       " \"<img src='ga199sx.jpg' width='300'>\",\n",
       " \"<img src='h00098.jpg' width='300'>\",\n",
       " \"<img src='cc078py.jpg' width='300'>\",\n",
       " \"<img src='af195py.jpg' width='300'>\",\n",
       " \"<img src='ad146py.jpg' width='300'>\",\n",
       " \"<img src='la557sy.jpg' width='300'>\",\n",
       " \"<img src='gf246sx.jpg' width='300'>\",\n",
       " \"<img src='fc597py.jpg' width='300'>\",\n",
       " \"<img src='gc561py.jpg' width='300'>\",\n",
       " '<img align=absmiddle src=\"number_sign_eqn180.gif\">',\n",
       " '<img align=absmiddle src=\"number_sign_eqn68.gif\">',\n",
       " \"<img src='ec068sx.jpg' width='300'>\",\n",
       " \"<img src='af131py.jpg' width='300'>\",\n",
       " \"<img src='bb114sx.jpg' width='300'>\",\n",
       " \"<img src='jb134sx.jpg' width='300'>\",\n",
       " \"<img src='ga202sx.jpg' width='300'>\",\n",
       " \"<img src='myeongham.jpg' width='300'>\",\n",
       " \"<img src='e00127.jpg' width='300'>\",\n",
       " \"<img src='e00099.jpg' width='300'>\",\n",
       " \"<img src='ba524sy.jpg' width='300'>\",\n",
       " \"<img src='hc504py.jpg' width='300'>\",\n",
       " \"<img src='gb538sy.jpg' width='300'>\",\n",
       " \"<img src='ae505sy.jpg' width='300'>\",\n",
       " \"<img src='n00024.jpg' width='300'>\",\n",
       " \"<img src='ka619sy.jpg' width='300'>\",\n",
       " \"<img src='gd104sx.jpg' width='300'>\",\n",
       " \"<img src='nc043py.jpg' width='300'>\",\n",
       " \"<img src='ga533sy.jpg' width='300'>\",\n",
       " \"<img src='nb508sz.jpg' width='300'>\",\n",
       " \"<img src='c00178.jpg' width='300'>\",\n",
       " \"<img src='ma113py.jpg' width='300'>\",\n",
       " \"<img src='fb142sx.jpg' width='300'>\",\n",
       " \"<img src='fa023py.jpg' width='300'>\",\n",
       " \"<img src='jb607py.jpg' width='300'>\",\n",
       " \"<img src='na072py.jpg' width='300'>\",\n",
       " \"<img src='l00054.jpg' width='300'>\",\n",
       " \"<img src='g00092.jpg' width='300'>\",\n",
       " \"<img src='ea157py.jpg' width='300'>\",\n",
       " \"<img src='hb061py.jpg' width='300'>\",\n",
       " \"<img src='fb136sx.jpg' width='300'>\",\n",
       " \"<img src='hb581py.jpg' width='300'>\",\n",
       " \"<img src='ja083sx.jpg' width='300'>\",\n",
       " \"<img src='i00081.jpg' width='300'>\",\n",
       " \"<img src='nb575py.jpg' width='300'>\",\n",
       " \"<img src='la519sy.jpg' width='300'>\",\n",
       " \"<img src='f00155.jpg' width='300'>\",\n",
       " \"<img src='f00011.jpg' width='300'>\",\n",
       " '<img align=absmiddle src=http://124.137.201.222/image_file/1char/number_sign_eqn145.gif>',\n",
       " \"<img src='ja013sy.jpg' width='300'>\",\n",
       " \"<img src='ab078sx.jpg' width='300'>\",\n",
       " \"<img src='cc161py.jpg' width='300'>\",\n",
       " \"<img src='ha560py.jpg' width='300'>\",\n",
       " \"<img src='ab542sy.jpg' width='300'>\",\n",
       " \"<img src='gd040sx.jpg' width='300'>\",\n",
       " \"<img src='h00197.jpg' width='300'>\",\n",
       " \"<img src='ic537sy.jpg' width='300'>\",\n",
       " \"<img src='mb529sy.jpg' width='300'>\",\n",
       " '<img align=absmiddle src=\"number_sign_eqn28.gif\">',\n",
       " \"<img src='ag182sx.jpg' width='300'>\",\n",
       " \"<img src='gb138sx.jpg' width='300'>\",\n",
       " \"<img src='hf557sz.jpg' width='300'>\",\n",
       " \"<img src='fa031sx.jpg' width='300'>\",\n",
       " \"<img src='ec586py.jpg' width='300'>\",\n",
       " \"<img src='fa007sx.jpg' width='300'>\",\n",
       " \"<img src='fc129sx.jpg' width='300'>\",\n",
       " \"<img src='fd226sy.jpg' width='300'>\",\n",
       " \"<img src='c00042.jpg' width='300'>\",\n",
       " \"<img src='ia036py.jpg' width='300'>\",\n",
       " \"<img src='i00016.jpg' width='300'>\",\n",
       " '<img align=absmiddle src=\"etc_0027.gif\">',\n",
       " \"<img src='ea510py.jpg' width='300'>\",\n",
       " \"<img src='ja032py.jpg' width='300'>\",\n",
       " \"<img src='i00157.jpg' width='300'>\",\n",
       " \"<img src='a00146.jpg' width='300'>\",\n",
       " \"<img src='ib100py.jpg' width='300'>\",\n",
       " \"<img src='cd008py.jpg' width='300'>\",\n",
       " \"<img src='hb539sy.jpg' width='300'>\",\n",
       " \"<img src='hf027py.jpg' width='300'>\",\n",
       " \"<img src='fb240py.jpg' width='300'>\",\n",
       " \"<img src='aa093sx.jpg' width='300'>\",\n",
       " \"<img src='ea202sx.jpg' width='300'>\",\n",
       " \"<img src='gc555sz.jpg' width='300'>\",\n",
       " \"<img src='ha138py.jpg' width='300'>\",\n",
       " \"<img src='k00043.jpg' width='300'>\",\n",
       " \"<img src='jb514sy.jpg' width='300'>\",\n",
       " \"<img src='cc042py.jpg' width='300'>\",\n",
       " \"<img src='gd505sy.jpg' width='300'>\",\n",
       " \"<img src='gd557sy.jpg' width='300'>\",\n",
       " \"<img src='k00073.jpg' width='300'>\",\n",
       " \"<img src='ac051py.jpg' width='300'>\",\n",
       " \"<img src='a00081.jpg' width='300'>\",\n",
       " \"<img src='ae183sy.jpg' width='300'>\",\n",
       " \"<img src='bb141sz.jpg' width='300'>\",\n",
       " '<img align=absmiddle src=http://124.137.201.222/image_file/1char/number_sign_eqn140.gif>',\n",
       " \"<img src='fb551sy.jpg' width='300'>\",\n",
       " \"<img src='cb144sx.jpg' width='300'>\",\n",
       " \"<img src='gf161py.jpg' width='300'>\",\n",
       " \"<img src='gd547sz.jpg' width='300'>\",\n",
       " \"<img src='ea206py.jpg' width='300'>\",\n",
       " \"<img src='nc005sy.jpg' width='300'>\",\n",
       " \"<img src='cc191sx.jpg' width='300'>\",\n",
       " \"<img src='af576sy.jpg' width='300'>\",\n",
       " \"<img src='ha534sz.jpg' width='300'>\",\n",
       " \"<img src='ac038py.jpg' width='300'>\",\n",
       " \"<img src='mb131sx.jpg' width='300'>\",\n",
       " \"<img src='fb566sz.jpg' width='300'>\",\n",
       " \"<img src='ha186sy.jpg' width='300'>\",\n",
       " \"<img src='cc134py.jpg' width='300'>\",\n",
       " \"<img src='id146sx.jpg' width='300'>\",\n",
       " \"<img src='he113py.jpg' width='300'>\",\n",
       " \"<img src='c00066.jpg' width='300'>\",\n",
       " \"<img src='cb200py.jpg' width='300'>\",\n",
       " ...]"
      ]
     },
     "execution_count": 43,
     "metadata": {},
     "output_type": "execute_result"
    }
   ],
   "source": [
    "list(set(result))"
   ]
  },
  {
   "cell_type": "code",
   "execution_count": null,
   "metadata": {},
   "outputs": [],
   "source": []
  },
  {
   "cell_type": "code",
   "execution_count": null,
   "metadata": {},
   "outputs": [],
   "source": []
  },
  {
   "cell_type": "code",
   "execution_count": null,
   "metadata": {},
   "outputs": [],
   "source": []
  },
  {
   "cell_type": "code",
   "execution_count": null,
   "metadata": {},
   "outputs": [],
   "source": []
  },
  {
   "cell_type": "code",
   "execution_count": null,
   "metadata": {},
   "outputs": [],
   "source": [
    "f_full"
   ]
  },
  {
   "cell_type": "code",
   "execution_count": null,
   "metadata": {},
   "outputs": [],
   "source": []
  },
  {
   "cell_type": "code",
   "execution_count": null,
   "metadata": {},
   "outputs": [],
   "source": []
  },
  {
   "cell_type": "code",
   "execution_count": null,
   "metadata": {},
   "outputs": [],
   "source": []
  },
  {
   "cell_type": "code",
   "execution_count": null,
   "metadata": {},
   "outputs": [],
   "source": []
  },
  {
   "cell_type": "code",
   "execution_count": null,
   "metadata": {},
   "outputs": [],
   "source": []
  },
  {
   "cell_type": "code",
   "execution_count": null,
   "metadata": {},
   "outputs": [],
   "source": []
  },
  {
   "cell_type": "code",
   "execution_count": null,
   "metadata": {},
   "outputs": [],
   "source": []
  },
  {
   "cell_type": "code",
   "execution_count": null,
   "metadata": {},
   "outputs": [],
   "source": []
  },
  {
   "cell_type": "code",
   "execution_count": null,
   "metadata": {},
   "outputs": [],
   "source": []
  },
  {
   "cell_type": "code",
   "execution_count": null,
   "metadata": {},
   "outputs": [],
   "source": []
  },
  {
   "cell_type": "markdown",
   "metadata": {},
   "source": [
    "## **3 HTML 태그 제거 및 본문선별**\n",
    "1. **/font** 태그가 제목 이외에, 세부내용에도 포함됩니다.\n",
    "1. 때문에 이를 무조건 적용하기엔 문제가 있어서 Tag 구조를 명확하게 파악하기\n",
    "1. 우선 구조에 대한 형태를 몇가지로 확인한 뒤 작업을 진행하기\n",
    "\n",
    "```python\n",
    "'<title.*?>(.+?)</title>'  # 특정태그\n",
    "'<.*?>' # 모든 태그\n",
    "```"
   ]
  },
  {
   "cell_type": "code",
   "execution_count": null,
   "metadata": {},
   "outputs": [],
   "source": []
  },
  {
   "cell_type": "code",
   "execution_count": null,
   "metadata": {},
   "outputs": [],
   "source": []
  },
  {
   "cell_type": "code",
   "execution_count": null,
   "metadata": {},
   "outputs": [],
   "source": []
  },
  {
   "cell_type": "code",
   "execution_count": null,
   "metadata": {},
   "outputs": [],
   "source": []
  },
  {
   "cell_type": "code",
   "execution_count": null,
   "metadata": {},
   "outputs": [],
   "source": [
    "tokenizer = re.compile(\"<*h4[^>]*>(.*?)<\\s*/\\s*h4>/g\")"
   ]
  },
  {
   "cell_type": "code",
   "execution_count": null,
   "metadata": {},
   "outputs": [],
   "source": [
    "tokenizer.findall('<h4 class=\"sds\">And more ...</h4>')"
   ]
  },
  {
   "cell_type": "code",
   "execution_count": null,
   "metadata": {},
   "outputs": [],
   "source": [
    "re.findall"
   ]
  },
  {
   "cell_type": "code",
   "execution_count": null,
   "metadata": {},
   "outputs": [],
   "source": [
    "regex = re.compile(\"/<(.|\\n)*?>/\")"
   ]
  },
  {
   "cell_type": "code",
   "execution_count": null,
   "metadata": {},
   "outputs": [],
   "source": [
    "regex.finditer(\"<p>test</p>\")"
   ]
  },
  {
   "cell_type": "code",
   "execution_count": null,
   "metadata": {},
   "outputs": [],
   "source": [
    "var body = ;\n",
    "var result = body.replace(regex, \"\");"
   ]
  },
  {
   "cell_type": "code",
   "execution_count": null,
   "metadata": {},
   "outputs": [],
   "source": []
  },
  {
   "cell_type": "code",
   "execution_count": null,
   "metadata": {},
   "outputs": [],
   "source": [
    "idxNo = 12004\n",
    "itemTemp = itemData[idxNo].lower()\n",
    "toknizer = re.compile('<.*?>')\n",
    "toknizer_class = re.compile('class=\"[a-zA-Z0-9:;\\.\\s\\(\\)\\-\\,]*\"')\n",
    "# re.sub(toknizer, '', itemTemp)\n",
    "re.findall(toknizer, itemTemp)[6]"
   ]
  },
  {
   "cell_type": "code",
   "execution_count": null,
   "metadata": {},
   "outputs": [],
   "source": [
    "re.findall(toknizer_class, re.findall(toknizer, itemTemp)[6])"
   ]
  },
  {
   "cell_type": "code",
   "execution_count": null,
   "metadata": {},
   "outputs": [],
   "source": [
    "temp = '<font color=\"#00008b\">'"
   ]
  },
  {
   "cell_type": "code",
   "execution_count": null,
   "metadata": {},
   "outputs": [],
   "source": [
    "tok = re.compile('class=\"[a-zA-Z0-9:;\\.\\s\\(\\)\\-\\,]*\"')"
   ]
  },
  {
   "cell_type": "code",
   "execution_count": null,
   "metadata": {},
   "outputs": [],
   "source": [
    "tok.findall(temp)"
   ]
  },
  {
   "cell_type": "code",
   "execution_count": null,
   "metadata": {},
   "outputs": [],
   "source": []
  },
  {
   "cell_type": "code",
   "execution_count": null,
   "metadata": {},
   "outputs": [],
   "source": [
    "import re\n",
    "re.findall(r\"[ <\\w>]+\", itemTemp)"
   ]
  },
  {
   "cell_type": "code",
   "execution_count": null,
   "metadata": {},
   "outputs": [],
   "source": []
  },
  {
   "cell_type": "code",
   "execution_count": null,
   "metadata": {},
   "outputs": [],
   "source": []
  },
  {
   "cell_type": "code",
   "execution_count": null,
   "metadata": {},
   "outputs": [],
   "source": []
  },
  {
   "cell_type": "code",
   "execution_count": null,
   "metadata": {},
   "outputs": [],
   "source": []
  },
  {
   "cell_type": "code",
   "execution_count": null,
   "metadata": {},
   "outputs": [],
   "source": [
    "idxNo"
   ]
  },
  {
   "cell_type": "code",
   "execution_count": null,
   "metadata": {},
   "outputs": [],
   "source": [
    "# 큰 분류 3개 적용하기 : Item name, 중분류, 본문내용\n",
    "idxNo = 106704\n",
    "itemList = itemData[idxNo].split(\"</font>\")\n",
    "itemList"
   ]
  },
  {
   "cell_type": "code",
   "execution_count": null,
   "metadata": {},
   "outputs": [],
   "source": []
  },
  {
   "cell_type": "code",
   "execution_count": null,
   "metadata": {},
   "outputs": [],
   "source": [
    "# 큰 분류 3개 적용하기 : Item name, 중분류, 본문내용\n",
    "idxNo = 106704\n",
    "itemList = itemData[idxNo].split(\"</font>\")\n",
    "itemList"
   ]
  },
  {
   "cell_type": "code",
   "execution_count": null,
   "metadata": {},
   "outputs": [],
   "source": [
    "import re\n",
    "# html 태그내용 제거하는 함수\n",
    "def remove_html(text):\n",
    "    clean = re.compile('<.*?>')\n",
    "    return re.sub(clean, '', text)"
   ]
  },
  {
   "cell_type": "code",
   "execution_count": null,
   "metadata": {},
   "outputs": [],
   "source": [
    "remove_html(itemList[1])"
   ]
  },
  {
   "cell_type": "code",
   "execution_count": null,
   "metadata": {},
   "outputs": [],
   "source": [
    "itemList[-1].split('<br>')"
   ]
  },
  {
   "cell_type": "markdown",
   "metadata": {},
   "source": [
    "## **4 본문의 분류내용 검색하기**\n",
    "본문 텍스트는 Tag, 내용, 동의어 등 여러 정보가 포함되어 있다\n",
    "1. 본문의 여러자료들을 개별 구성요소에 따라 구분하기\n",
    "1. 구분한 뒤, Json 형식으로 저장해서 자료를 찾기 용이하도록 작업하기\n",
    "\n",
    "```python\n",
    "<font color=crimson size=+2>\n",
    "    <b>가로물리다</b>     # 제목\n",
    "</font>\n",
    "<br><br>\n",
    "<font color=\"#00008b\">\n",
    "    <b>가로물-리다02</b>  # 중간제목\n",
    "</font>\n",
    "<br>:〔-리어[-어/-여](-려),-리니〕\n",
    "<br><br>\n",
    "<font color=\"#549606\">\n",
    "    <b>「동사」</b>      # 별도 칼라로 구분도 함..\n",
    "</font>                \n",
    "<br><br>\n",
    "【…에/에게 …을】\n",
    "<br>\n",
    "‘가로물다’의 사동사.\\r\\n\n",
    "```"
   ]
  },
  {
   "cell_type": "code",
   "execution_count": null,
   "metadata": {},
   "outputs": [],
   "source": [
    "itemDocs = [_.split(\"</font>\")[2:]  for _ in itemData]\n",
    "len(itemDocs)"
   ]
  },
  {
   "cell_type": "code",
   "execution_count": null,
   "metadata": {},
   "outputs": [],
   "source": [
    "import re\n",
    "itemResult = []\n",
    "for item in itemDocs:\n",
    "    temp = []\n",
    "    item = item.split('<br>')[:4]\n",
    "    for _ in item:\n",
    "        if len(_) < 5:\n",
    "            _temp = \"\".join(re.findall(\"\\w+\", _)).strip()\n",
    "            if _temp:\n",
    "                temp.append(_temp)\n",
    "    itemResult.append(temp)"
   ]
  },
  {
   "cell_type": "code",
   "execution_count": null,
   "metadata": {},
   "outputs": [],
   "source": [
    "itemData[2004].lower()"
   ]
  },
  {
   "cell_type": "code",
   "execution_count": null,
   "metadata": {},
   "outputs": [],
   "source": [
    "itemData[2004].split('</font>')"
   ]
  },
  {
   "cell_type": "code",
   "execution_count": null,
   "metadata": {},
   "outputs": [],
   "source": [
    "itemResult[2000:3000]"
   ]
  },
  {
   "cell_type": "code",
   "execution_count": null,
   "metadata": {},
   "outputs": [],
   "source": []
  },
  {
   "cell_type": "code",
   "execution_count": null,
   "metadata": {},
   "outputs": [],
   "source": []
  },
  {
   "cell_type": "code",
   "execution_count": null,
   "metadata": {},
   "outputs": [],
   "source": []
  },
  {
   "cell_type": "code",
   "execution_count": null,
   "metadata": {},
   "outputs": [],
   "source": []
  },
  {
   "cell_type": "code",
   "execution_count": null,
   "metadata": {},
   "outputs": [],
   "source": []
  },
  {
   "cell_type": "code",
   "execution_count": null,
   "metadata": {},
   "outputs": [],
   "source": []
  },
  {
   "cell_type": "code",
   "execution_count": null,
   "metadata": {},
   "outputs": [],
   "source": []
  },
  {
   "cell_type": "code",
   "execution_count": null,
   "metadata": {},
   "outputs": [],
   "source": []
  },
  {
   "cell_type": "code",
   "execution_count": null,
   "metadata": {},
   "outputs": [],
   "source": [
    "temp = ''\n",
    "import re\n",
    "for _ in itemData:\n",
    "    tok  = re.compile(r\"(『.*』)\")\n",
    "    for t in tok.findall(_):\n",
    "        if len(t) < 10:\n",
    "            t = t.replace(\"『\",\"\")\n",
    "            temp += \",\"+ t.replace(\"』\",\"\")\n",
    "\n",
    "print(len(set(temp.split(\",\"))))\n",
    "tags = list(set(temp.split(\",\")))\n",
    "\",\".join(tags)"
   ]
  },
  {
   "cell_type": "code",
   "execution_count": null,
   "metadata": {},
   "outputs": [],
   "source": [
    "# 유효값 포함단어는 34만개 (이 방식이 제일 빠르다)\n",
    "count = [1  for _ in result if _]\n",
    "len(count)"
   ]
  },
  {
   "cell_type": "code",
   "execution_count": null,
   "metadata": {},
   "outputs": [],
   "source": [
    "num_Idx = [no  for no, _ in enumerate(result) if _ == \",1\"]\n",
    "len(num_Idx)"
   ]
  },
  {
   "cell_type": "code",
   "execution_count": null,
   "metadata": {},
   "outputs": [],
   "source": [
    "itemIndex[num_Idx[10]]"
   ]
  },
  {
   "cell_type": "code",
   "execution_count": null,
   "metadata": {},
   "outputs": [],
   "source": [
    "num_Idx[10]\n",
    "\n",
    "# 유효값 포함단어는 34만개\n",
    "valid_token = [_ for _ in result  if len(_) > 1]\n",
    "valid_token = list(set(valid_token))\n",
    "valid_token[:5]"
   ]
  },
  {
   "cell_type": "code",
   "execution_count": null,
   "metadata": {},
   "outputs": [],
   "source": []
  },
  {
   "cell_type": "markdown",
   "metadata": {},
   "source": [
    "# **DataFrame 에서 바로 작업하기**\n",
    "위 전처리 과정을 모두 정리한 뒤, 작업은 DataFrame 에서 바로 추출 요약을 하자!!\n",
    "## **1 DataFrame 정리**"
   ]
  },
  {
   "cell_type": "code",
   "execution_count": null,
   "metadata": {},
   "outputs": [],
   "source": []
  },
  {
   "cell_type": "code",
   "execution_count": null,
   "metadata": {},
   "outputs": [],
   "source": []
  },
  {
   "cell_type": "code",
   "execution_count": null,
   "metadata": {},
   "outputs": [],
   "source": []
  },
  {
   "cell_type": "code",
   "execution_count": null,
   "metadata": {},
   "outputs": [],
   "source": []
  },
  {
   "cell_type": "code",
   "execution_count": null,
   "metadata": {},
   "outputs": [],
   "source": []
  },
  {
   "cell_type": "code",
   "execution_count": null,
   "metadata": {},
   "outputs": [],
   "source": []
  },
  {
   "cell_type": "code",
   "execution_count": null,
   "metadata": {},
   "outputs": [],
   "source": []
  },
  {
   "cell_type": "code",
   "execution_count": null,
   "metadata": {},
   "outputs": [],
   "source": []
  },
  {
   "cell_type": "code",
   "execution_count": null,
   "metadata": {},
   "outputs": [],
   "source": []
  },
  {
   "cell_type": "code",
   "execution_count": null,
   "metadata": {},
   "outputs": [],
   "source": []
  },
  {
   "cell_type": "code",
   "execution_count": null,
   "metadata": {},
   "outputs": [],
   "source": [
    "print(len(set(temp.split(\",\"))))\n",
    "tags = list(set(temp.split(\",\")))\n",
    "\",\".join(tags)"
   ]
  },
  {
   "cell_type": "code",
   "execution_count": null,
   "metadata": {},
   "outputs": [],
   "source": [
    "# 음식 관련된 내용은 \"명사\" 내부에 포함"
   ]
  },
  {
   "cell_type": "code",
   "execution_count": null,
   "metadata": {},
   "outputs": [],
   "source": [
    "temp = ''\n",
    "tok  = re.compile(r\"(『.*』)\")\n",
    "for t in tok.findall(itemData[200]):\n",
    "    t = t.replace(\"『\",\"\")\n",
    "    temp += \",\"+ t.replace(\"』\",\"\")\n",
    "temp"
   ]
  },
  {
   "cell_type": "code",
   "execution_count": null,
   "metadata": {},
   "outputs": [],
   "source": [
    "tok = re.compile(r\"『.*』\")\n",
    "temp = tok.findall(itemData[20])\n",
    "temp"
   ]
  },
  {
   "cell_type": "code",
   "execution_count": null,
   "metadata": {},
   "outputs": [],
   "source": [
    "itemData[200000]"
   ]
  },
  {
   "cell_type": "code",
   "execution_count": null,
   "metadata": {},
   "outputs": [],
   "source": [
    "%%time\n",
    "import pickle\n",
    "with open('data.pk', 'rb') as handle:\n",
    "    mdkList = pickle.load(handle)\n",
    "\n",
    "mdkList = [ list(map(lambda x:str(x), _)) for _ in mdkList]\n",
    "mdkList = [\" \".join(_)  for _ in mdkList] # 나눠진 객체를 1줄로 묶기"
   ]
  },
  {
   "cell_type": "code",
   "execution_count": null,
   "metadata": {},
   "outputs": [],
   "source": [
    "%%time\n",
    "import re\n",
    "tags = []\n",
    "# [list (tuple) (tuple)] 결과를 출력\n",
    "tok = re.compile(r\"(「.*」)|(『.*』)\")  \n",
    "for t in mdkList:\n",
    "    txt = \"\"     \n",
    "    # 1줄 처리시작\n",
    "    for _ in tok.findall(t):\n",
    "        temp = \",\".join(_)\n",
    "        txt += temp\n",
    "    \n",
    "    # 괄호기호 제거하기\n",
    "    for _ in [\"「\",\"」\",\"『\",\"』\"]:\n",
    "        txt = txt.replace(_, \"\")\n",
    "        \n",
    "    # 불필요한 공백내용 제거하기\n",
    "    txt = txt.replace(\",\", \" \").strip()\n",
    "    txt = [_  for _ in txt.split(\" \")  if _]\n",
    "    tags.append(\",\".join(txt))\n",
    "len(tags)"
   ]
  },
  {
   "cell_type": "code",
   "execution_count": null,
   "metadata": {},
   "outputs": [],
   "source": []
  },
  {
   "cell_type": "code",
   "execution_count": null,
   "metadata": {},
   "outputs": [],
   "source": [
    "result[2].split(' ')"
   ]
  },
  {
   "cell_type": "code",
   "execution_count": null,
   "metadata": {},
   "outputs": [],
   "source": [
    "result[0]"
   ]
  },
  {
   "cell_type": "code",
   "execution_count": null,
   "metadata": {},
   "outputs": [],
   "source": [
    "result[1]"
   ]
  },
  {
   "cell_type": "code",
   "execution_count": null,
   "metadata": {},
   "outputs": [],
   "source": [
    "result[2]"
   ]
  },
  {
   "cell_type": "code",
   "execution_count": null,
   "metadata": {},
   "outputs": [],
   "source": [
    "tok.findall(mdkList[100])"
   ]
  },
  {
   "cell_type": "code",
   "execution_count": null,
   "metadata": {},
   "outputs": [],
   "source": [
    "tok.findall(mdkList[300])"
   ]
  },
  {
   "cell_type": "code",
   "execution_count": null,
   "metadata": {},
   "outputs": [],
   "source": [
    "txt.split(',')"
   ]
  },
  {
   "cell_type": "markdown",
   "metadata": {},
   "source": [
    "## **2 사전파일 살펴보기**\n",
    "**paraphrase** 내용을 **사용자가 필요한 형태로** 변경하기\n",
    "```html\n",
    "<font color=crimson size=+2>\n",
    "    <b>ㄹ라</b>\n",
    "</font>\n",
    "<br>\n",
    "<br>\n",
    "<font color=\"#00008b\">\n",
    "    <b>-ㄹ라03</b>\n",
    "</font>\n",
    "<br>\n",
    "<font color=\"#549606\">\n",
    "    <b>「어미」</b>\n",
    "</font>\n",
    "<br>『방언』<br>‘-려04’의 방언(경상).\\r\\n\n",
    "```"
   ]
  },
  {
   "cell_type": "code",
   "execution_count": null,
   "metadata": {},
   "outputs": [],
   "source": [
    "# 색인정보 : 51만개의 단어사전 데이터\n"
   ]
  },
  {
   "cell_type": "code",
   "execution_count": null,
   "metadata": {},
   "outputs": [],
   "source": [
    "data = itemData[0]\n",
    "data = data.lower()  # html Tag 전처리\n",
    "print(data)\n",
    "\n",
    "# 간단하게 처리한 뒤 유사내용 묶기\n",
    "from lxml.html import fromstring\n",
    "fromstring(data).xpath('//text()')"
   ]
  },
  {
   "cell_type": "markdown",
   "metadata": {},
   "source": [
    "## **3 Regex를 활용하여 구분하기**\n",
    "본문에 \"\\<br\\>\" 내용이 많아서 \"//text()\" 를 사용하면 컬럼갯수가 꼬여버린다\n",
    "regex, lxml 을 사용하면 좋겠지만 경우의 수가 많아서 모두 처리하지 않으면 안됨.."
   ]
  },
  {
   "cell_type": "code",
   "execution_count": null,
   "metadata": {},
   "outputs": [],
   "source": [
    "data = itemData[2945]\n",
    "data = data.lower()  # html Tag 전처리\n",
    "data"
   ]
  },
  {
   "cell_type": "code",
   "execution_count": null,
   "metadata": {},
   "outputs": [],
   "source": [
    "import re\n",
    "re.findall(r'<font color=crimson (.*?)</font>', data, re.DOTALL)"
   ]
  },
  {
   "cell_type": "code",
   "execution_count": null,
   "metadata": {},
   "outputs": [],
   "source": [
    "remove_html_tags(data)"
   ]
  },
  {
   "cell_type": "code",
   "execution_count": null,
   "metadata": {},
   "outputs": [],
   "source": [
    "from bs4 import BeautifulSoup\n",
    "dom = BeautifulSoup(data, \"lxml\")\n",
    "bs_dom = dom.find_all('font')\n",
    "bs_txt = [str(_.get_text()) for _ in bs_dom]\n",
    "bs_txt"
   ]
  },
  {
   "cell_type": "code",
   "execution_count": null,
   "metadata": {},
   "outputs": [],
   "source": [
    "bs_result = list(map(lambda x : str(x),  bs_dom))\n",
    "bs_result[0]"
   ]
  },
  {
   "cell_type": "code",
   "execution_count": null,
   "metadata": {},
   "outputs": [],
   "source": [
    "bs_result = list(map(lambda x : str(x),  bs_dom))\n",
    "bs_result[1]"
   ]
  },
  {
   "cell_type": "code",
   "execution_count": null,
   "metadata": {},
   "outputs": [],
   "source": [
    "re.sub('color=\"#00008b\">', \"\", data)"
   ]
  },
  {
   "cell_type": "code",
   "execution_count": null,
   "metadata": {},
   "outputs": [],
   "source": [
    "re.sub(\"<font\", \"\", data)"
   ]
  },
  {
   "cell_type": "code",
   "execution_count": null,
   "metadata": {},
   "outputs": [],
   "source": [
    "\"\".join(dom.find_all('font'))"
   ]
  },
  {
   "cell_type": "code",
   "execution_count": null,
   "metadata": {},
   "outputs": [],
   "source": []
  },
  {
   "cell_type": "code",
   "execution_count": null,
   "metadata": {},
   "outputs": [],
   "source": []
  },
  {
   "cell_type": "code",
   "execution_count": null,
   "metadata": {},
   "outputs": [],
   "source": []
  },
  {
   "cell_type": "code",
   "execution_count": null,
   "metadata": {},
   "outputs": [],
   "source": []
  },
  {
   "cell_type": "code",
   "execution_count": null,
   "metadata": {},
   "outputs": [],
   "source": []
  },
  {
   "cell_type": "code",
   "execution_count": null,
   "metadata": {},
   "outputs": [],
   "source": [
    "import re # 강결합으로 정치큰 부분 제거하기\n",
    "re.sub('<br><font color=.*</font>', \"\",data)"
   ]
  },
  {
   "cell_type": "code",
   "execution_count": null,
   "metadata": {},
   "outputs": [],
   "source": [
    "_ = re.sub('<font .*</font><br>', \"\",data).split(\"<br>\")\n",
    "_[0], _[1].replace(\"\\r\\n\", \"\")"
   ]
  },
  {
   "cell_type": "code",
   "execution_count": null,
   "metadata": {},
   "outputs": [],
   "source": [
    "data"
   ]
  },
  {
   "cell_type": "code",
   "execution_count": null,
   "metadata": {},
   "outputs": [],
   "source": []
  },
  {
   "cell_type": "code",
   "execution_count": null,
   "metadata": {},
   "outputs": [],
   "source": []
  },
  {
   "cell_type": "code",
   "execution_count": null,
   "metadata": {},
   "outputs": [],
   "source": []
  },
  {
   "cell_type": "code",
   "execution_count": null,
   "metadata": {},
   "outputs": [],
   "source": []
  },
  {
   "cell_type": "code",
   "execution_count": null,
   "metadata": {},
   "outputs": [],
   "source": []
  },
  {
   "cell_type": "code",
   "execution_count": null,
   "metadata": {},
   "outputs": [],
   "source": []
  },
  {
   "cell_type": "code",
   "execution_count": null,
   "metadata": {},
   "outputs": [],
   "source": []
  },
  {
   "cell_type": "code",
   "execution_count": null,
   "metadata": {},
   "outputs": [],
   "source": []
  },
  {
   "cell_type": "code",
   "execution_count": null,
   "metadata": {},
   "outputs": [],
   "source": []
  },
  {
   "cell_type": "code",
   "execution_count": null,
   "metadata": {},
   "outputs": [],
   "source": []
  },
  {
   "cell_type": "code",
   "execution_count": null,
   "metadata": {},
   "outputs": [],
   "source": []
  },
  {
   "cell_type": "code",
   "execution_count": null,
   "metadata": {},
   "outputs": [],
   "source": [
    "re.findall(r\"\", )"
   ]
  },
  {
   "cell_type": "code",
   "execution_count": null,
   "metadata": {},
   "outputs": [],
   "source": []
  },
  {
   "cell_type": "markdown",
   "metadata": {},
   "source": [
    "## **3 함수의 적용**\n",
    "작업용 함수를 작성한 뒤 응용하기"
   ]
  },
  {
   "cell_type": "code",
   "execution_count": null,
   "metadata": {},
   "outputs": [],
   "source": [
    "from lxml.html import fromstring\n",
    "def exportTxt(data):\n",
    "    yield fromstring(data).xpath(\"//text()\")\n",
    "\n",
    "# result = list(map(lambda x: next(exportTxt(x)), itemData[:200000]))\n",
    "# result = list(map(lambda x: next(exportTxt(x)), itemData[200000:400000]))\n",
    "result = list(map(lambda x: next(exportTxt(x)), itemData[400000:]))\n",
    "\n",
    "import pickle\n",
    "# Store data (serialize)\n",
    "with open('data3.pk', 'w') as handle:\n",
    "    pickle.dump(result, handle, protocol=pickle.HIGHEST_PROTOCOL)"
   ]
  },
  {
   "cell_type": "markdown",
   "metadata": {},
   "source": [
    "## **4 Pickle 내용 합치기**\n",
    "작업용 함수를 작성한 뒤 응용하기"
   ]
  },
  {
   "cell_type": "code",
   "execution_count": null,
   "metadata": {},
   "outputs": [],
   "source": [
    "from glob import glob\n",
    "pklist = sorted(glob('data?.pk'))\n",
    "\n",
    "# Load data (deserialize)\n",
    "import pickle\n",
    "result = []\n",
    "for _ in pklist:\n",
    "    with open(_, 'rb') as handle:\n",
    "        result.extend(pickle.load(handle))"
   ]
  },
  {
   "cell_type": "code",
   "execution_count": null,
   "metadata": {},
   "outputs": [],
   "source": [
    "with open('data.pk', 'wb') as handle:\n",
    "    pickle.dump(result, handle, protocol=pickle.HIGHEST_PROTOCOL)"
   ]
  },
  {
   "cell_type": "markdown",
   "metadata": {},
   "source": [
    "## **5 사전자료 전처리 작업**\n",
    "작업용 함수를 작성한 뒤 응용하기"
   ]
  },
  {
   "cell_type": "code",
   "execution_count": null,
   "metadata": {},
   "outputs": [],
   "source": [
    "# tag 내용만 추출하기\n",
    "tags = [_[-2]  for _ in mdkList]\n",
    "len(set(tags))"
   ]
  },
  {
   "cell_type": "code",
   "execution_count": null,
   "metadata": {},
   "outputs": [],
   "source": [
    "list(set(tags))"
   ]
  },
  {
   "cell_type": "code",
   "execution_count": null,
   "metadata": {},
   "outputs": [],
   "source": [
    "import re\n",
    "re.findall(r\"[^ 가-힣]+\", mdkDict[:3][0][0])"
   ]
  },
  {
   "cell_type": "code",
   "execution_count": null,
   "metadata": {},
   "outputs": [],
   "source": []
  },
  {
   "cell_type": "code",
   "execution_count": null,
   "metadata": {},
   "outputs": [],
   "source": []
  },
  {
   "cell_type": "code",
   "execution_count": null,
   "metadata": {},
   "outputs": [],
   "source": []
  },
  {
   "cell_type": "code",
   "execution_count": null,
   "metadata": {},
   "outputs": [],
   "source": [
    "result[:4]"
   ]
  },
  {
   "cell_type": "code",
   "execution_count": null,
   "metadata": {},
   "outputs": [],
   "source": [
    "%whos"
   ]
  },
  {
   "cell_type": "code",
   "execution_count": null,
   "metadata": {},
   "outputs": [],
   "source": []
  },
  {
   "cell_type": "code",
   "execution_count": null,
   "metadata": {},
   "outputs": [],
   "source": [
    "# http://schoolofweb.net/blog/posts/%ED%8C%8C%EC%9D%B4%EC%8D%AC-%EC%A0%9C%EB%84%88%EB%A0%88%EC%9D%B4%ED%84%B0-generator/"
   ]
  },
  {
   "cell_type": "code",
   "execution_count": null,
   "metadata": {},
   "outputs": [],
   "source": [
    "def square_numbers(nums):\n",
    "    for i in nums:\n",
    "        yield i * i\n",
    "\n",
    "my_nums = square_numbers([1, 2, 3, 4, 5])  #1\n",
    "next(my_nums)"
   ]
  },
  {
   "cell_type": "code",
   "execution_count": null,
   "metadata": {},
   "outputs": [],
   "source": [
    "def foo(a, b):\n",
    "    if a < 3:\n",
    "        yield a, b\n",
    "        a += 1\n",
    "        for a, v in foo(a, b):\n",
    "            yield a, v\n",
    "    else:\n",
    "        yield a, b\n",
    "\n",
    "for a, v in foo(1, 2):\n",
    "    print(a, v)"
   ]
  },
  {
   "cell_type": "code",
   "execution_count": null,
   "metadata": {},
   "outputs": [],
   "source": []
  },
  {
   "cell_type": "code",
   "execution_count": null,
   "metadata": {},
   "outputs": [],
   "source": []
  },
  {
   "cell_type": "code",
   "execution_count": null,
   "metadata": {},
   "outputs": [],
   "source": []
  },
  {
   "cell_type": "code",
   "execution_count": null,
   "metadata": {},
   "outputs": [],
   "source": []
  },
  {
   "cell_type": "code",
   "execution_count": null,
   "metadata": {},
   "outputs": [],
   "source": []
  },
  {
   "cell_type": "code",
   "execution_count": null,
   "metadata": {},
   "outputs": [],
   "source": []
  },
  {
   "cell_type": "code",
   "execution_count": null,
   "metadata": {},
   "outputs": [],
   "source": []
  },
  {
   "cell_type": "code",
   "execution_count": null,
   "metadata": {},
   "outputs": [],
   "source": [
    "itemData"
   ]
  },
  {
   "cell_type": "code",
   "execution_count": null,
   "metadata": {},
   "outputs": [],
   "source": []
  },
  {
   "cell_type": "code",
   "execution_count": null,
   "metadata": {},
   "outputs": [],
   "source": [
    "import re # 강결합으로 정치큰 부분 제거하기\n",
    "re.sub('<br><font .*</font><br>', \"\",data)"
   ]
  },
  {
   "cell_type": "code",
   "execution_count": null,
   "metadata": {},
   "outputs": [],
   "source": [
    "_ = re.sub('<font .*</font><br>', \"\",data).split(\"<br>\")\n",
    "_[0], _[1].replace(\"\\r\\n\", \"\")"
   ]
  },
  {
   "cell_type": "code",
   "execution_count": null,
   "metadata": {},
   "outputs": [],
   "source": [
    "import re\n",
    "from lxml.html import fromstring\n",
    "def exportMdx(data):\n",
    "    data = data.lower()  # html Tag 전처리\n",
    "    _ = re.sub('<font .*</font><br>', \"\",data).split(\"<br>\")\n",
    "    return fromstring(data).xpath('//font//text()'), (_[0], _[1].replace(\"\\r\\n\", \"\"))"
   ]
  },
  {
   "cell_type": "code",
   "execution_count": null,
   "metadata": {},
   "outputs": [],
   "source": [
    "result = []\n",
    "from tqdm import tqdm\n",
    "for _ in tqdm(itemData):\n",
    "    result.append(exportMdx(_))\n"
   ]
  },
  {
   "cell_type": "code",
   "execution_count": null,
   "metadata": {},
   "outputs": [],
   "source": []
  },
  {
   "cell_type": "code",
   "execution_count": null,
   "metadata": {},
   "outputs": [],
   "source": []
  },
  {
   "cell_type": "code",
   "execution_count": null,
   "metadata": {},
   "outputs": [],
   "source": []
  },
  {
   "cell_type": "code",
   "execution_count": null,
   "metadata": {},
   "outputs": [],
   "source": []
  },
  {
   "cell_type": "code",
   "execution_count": null,
   "metadata": {},
   "outputs": [],
   "source": []
  },
  {
   "cell_type": "code",
   "execution_count": null,
   "metadata": {},
   "outputs": [],
   "source": []
  },
  {
   "cell_type": "code",
   "execution_count": null,
   "metadata": {},
   "outputs": [],
   "source": [
    "def exportTag(data):\n",
    "    temp = data.lower()\n",
    "    temp = fromstring(temp).xpath('//font[@color=\"#549606\"]//text()')\n",
    "    return temp.strip()\n",
    "\n",
    "from lxml.html import fromstring\n",
    "from tqdm import tqdm\n",
    "result = []\n",
    "for _ in tqdm(itemData):\n",
    "    result.append(exportTag(_))\n",
    "tags = list(set(result))"
   ]
  },
  {
   "cell_type": "code",
   "execution_count": null,
   "metadata": {},
   "outputs": [],
   "source": [
    "tags"
   ]
  },
  {
   "cell_type": "code",
   "execution_count": null,
   "metadata": {},
   "outputs": [],
   "source": []
  },
  {
   "cell_type": "code",
   "execution_count": null,
   "metadata": {},
   "outputs": [],
   "source": [
    "temp = str(df.entry[0])"
   ]
  },
  {
   "cell_type": "code",
   "execution_count": null,
   "metadata": {},
   "outputs": [],
   "source": [
    "temp"
   ]
  },
  {
   "cell_type": "code",
   "execution_count": null,
   "metadata": {},
   "outputs": [],
   "source": []
  }
 ],
 "metadata": {
  "kernelspec": {
   "display_name": "Python 3",
   "language": "python",
   "name": "python3"
  },
  "language_info": {
   "codemirror_mode": {
    "name": "ipython",
    "version": 3
   },
   "file_extension": ".py",
   "mimetype": "text/x-python",
   "name": "python",
   "nbconvert_exporter": "python",
   "pygments_lexer": "ipython3",
   "version": "3.6.3"
  }
 },
 "nbformat": 4,
 "nbformat_minor": 4
}
