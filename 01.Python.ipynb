{
 "cells": [
  {
   "cell_type": "markdown",
   "metadata": {},
   "source": [
    "# **Python Basic**\n",
    "지난 수업 이후로 **Python 에서 기본 모듈로** 구현가능한 내용들 정리하기"
   ]
  },
  {
   "cell_type": "markdown",
   "metadata": {},
   "source": [
    "## **1 math 계산하기**\n",
    "목적 : **생성한 Dict 객체 호출시 기본값을 특정하여** 오류처리 없이도 전체 과정이 진행"
   ]
  },
  {
   "cell_type": "code",
   "execution_count": 1,
   "metadata": {},
   "outputs": [
    {
     "data": {
      "text/plain": [
       "4"
      ]
     },
     "execution_count": 1,
     "metadata": {},
     "output_type": "execute_result"
    }
   ],
   "source": [
    "import math\n",
    "math.ceil(3.14)   # 올림 : 결과는 4"
   ]
  },
  {
   "cell_type": "code",
   "execution_count": 2,
   "metadata": {},
   "outputs": [
    {
     "data": {
      "text/plain": [
       "3"
      ]
     },
     "execution_count": 2,
     "metadata": {},
     "output_type": "execute_result"
    }
   ],
   "source": [
    "math.floor(3.14)  # 내림 : 결과는 3"
   ]
  },
  {
   "cell_type": "code",
   "execution_count": 3,
   "metadata": {},
   "outputs": [
    {
     "data": {
      "text/plain": [
       "-3"
      ]
     },
     "execution_count": 3,
     "metadata": {},
     "output_type": "execute_result"
    }
   ],
   "source": [
    "math.trunc(-3.14) # trunc() 내림을 해도 0을 향한다"
   ]
  },
  {
   "cell_type": "code",
   "execution_count": 4,
   "metadata": {},
   "outputs": [
    {
     "data": {
      "text/plain": [
       "3"
      ]
     },
     "execution_count": 4,
     "metadata": {},
     "output_type": "execute_result"
    }
   ],
   "source": [
    "round(3.1415)     # 반올림 : Python 내장함수를 사용"
   ]
  },
  {
   "cell_type": "markdown",
   "metadata": {},
   "source": [
    "<br>\n",
    "\n",
    "# **Dict 객체 다루기**\n",
    "**default Dict** 과 **Ordered Dict** 기초 [블로그](https://dongdongfather.tistory.com/71?category=680339) 정리\n",
    "1. 자료형 작업을 하다보면 **dict 객체를** 다양하게 정의할 필요가 있다\n",
    "\n",
    "## **1 defaultDict**\n",
    "목적 : **생성한 Dict 객체 호출시 기본값을 특정하여** 오류처리 없이도 전체 과정이 진행"
   ]
  },
  {
   "cell_type": "code",
   "execution_count": 5,
   "metadata": {},
   "outputs": [
    {
     "data": {
      "text/plain": [
       "defaultdict(int, {})"
      ]
     },
     "execution_count": 5,
     "metadata": {},
     "output_type": "execute_result"
    }
   ],
   "source": [
    "from collections import defaultdict\n",
    "int_dict = defaultdict(int)\n",
    "int_dict"
   ]
  },
  {
   "cell_type": "code",
   "execution_count": 6,
   "metadata": {},
   "outputs": [
    {
     "name": "stdout",
     "output_type": "stream",
     "text": [
      "0\n"
     ]
    },
    {
     "data": {
      "text/plain": [
       "defaultdict(int, {'key1': 0})"
      ]
     },
     "execution_count": 6,
     "metadata": {},
     "output_type": "execute_result"
    }
   ],
   "source": [
    "# 입력값이 없어도, 호출시 \"int\" 를 자동생성\n",
    "# 작업 과정에 오류가 있어도 Dict 객체를 생성\n",
    "print(int_dict['key1'])\n",
    "int_dict"
   ]
  },
  {
   "cell_type": "code",
   "execution_count": 7,
   "metadata": {},
   "outputs": [
    {
     "data": {
      "text/plain": [
       "defaultdict(int, {'key1': 0, 'key2': 'test'})"
      ]
     },
     "execution_count": 7,
     "metadata": {},
     "output_type": "execute_result"
    }
   ],
   "source": [
    "int_dict['key2'] = 'test'\n",
    "int_dict"
   ]
  },
  {
   "cell_type": "code",
   "execution_count": 8,
   "metadata": {},
   "outputs": [
    {
     "data": {
      "text/plain": [
       "defaultdict(int, {'key1': 0, 'key2': 'test', 'key3': 0})"
      ]
     },
     "execution_count": 8,
     "metadata": {},
     "output_type": "execute_result"
    }
   ],
   "source": [
    "int_dict['key3']\n",
    "int_dict"
   ]
  },
  {
   "cell_type": "markdown",
   "metadata": {},
   "source": [
    "## **2 OrderedDict**\n",
    "dict 객체를 순서에 따라 정렬할 필요가 있을때\n",
    "1. **\"Json\" 의 Header 안내를** 컬럼으로 활용하는 방법을 알아보자\n",
    "1. dict 객체를 [list 내부 (tuple) 묶음으로 관리 및 활용]"
   ]
  },
  {
   "cell_type": "code",
   "execution_count": 9,
   "metadata": {},
   "outputs": [
    {
     "data": {
      "text/plain": [
       "OrderedDict([('NUM', '번호'),\n",
       "             ('FOOD_CD', '식품코드'),\n",
       "             ('DESC_KOR', '식품이름'),\n",
       "             ('SERVING_WT', '1회제공량(g)')])"
      ]
     },
     "execution_count": 9,
     "metadata": {},
     "output_type": "execute_result"
    }
   ],
   "source": [
    "col_to_kor = {\n",
    "    \"NUM\":\"번호\",\n",
    "    \"FOOD_CD\":\"식품코드\",\n",
    "    \"DESC_KOR\":\"식품이름\",\n",
    "    \"SERVING_WT\":\"1회제공량(g)\",\n",
    "}\n",
    "\n",
    "from collections import OrderedDict\n",
    "json_keys = OrderedDict(col_to_kor)\n",
    "json_keys"
   ]
  },
  {
   "cell_type": "code",
   "execution_count": 10,
   "metadata": {},
   "outputs": [
    {
     "data": {
      "text/plain": [
       "['NUM', 'FOOD_CD', 'DESC_KOR', 'SERVING_WT']"
      ]
     },
     "execution_count": 10,
     "metadata": {},
     "output_type": "execute_result"
    }
   ],
   "source": [
    "list(OrderedDict(col_to_kor).keys())"
   ]
  },
  {
   "cell_type": "markdown",
   "metadata": {},
   "source": [
    "<br>\n",
    "\n",
    "# **시계열 데이터 다루기**\n",
    "**python** 의 기본 **datetime** 객체 다루기\n",
    "1. 요즘들어 Python 기본 모듈로 인코딩 변환이 취미가 됨...\n",
    "1. 가능하면 외부 모듈이 아닌, **Python 기본 모듈을** 로 최대한 구현해보기"
   ]
  },
  {
   "cell_type": "markdown",
   "metadata": {},
   "source": [
    "## **1 Datetime 모듈**\n",
    "Python 에서 기본 Datetime 객체 다루기"
   ]
  },
  {
   "cell_type": "code",
   "execution_count": 1,
   "metadata": {},
   "outputs": [
    {
     "name": "stdout",
     "output_type": "stream",
     "text": [
      "Monday 21. October 2019\n",
      "2019-10-21\n"
     ]
    },
    {
     "data": {
      "text/plain": [
       "datetime.datetime(2019, 10, 10, 12, 12, 12, 1000)"
      ]
     },
     "execution_count": 1,
     "metadata": {},
     "output_type": "execute_result"
    }
   ],
   "source": [
    "from datetime import datetime, timedelta\n",
    "print(datetime.today().strftime(\"%A %d. %B %Y\"))\n",
    "print(datetime.today().strftime('%Y-%m-%d'))\n",
    "# 년, 월, 일, 시간, 분, 초\n",
    "datetime(2019,10,10,12,12,12,1000)"
   ]
  },
  {
   "cell_type": "code",
   "execution_count": 2,
   "metadata": {},
   "outputs": [
    {
     "data": {
      "text/plain": [
       "datetime.datetime(2019, 9, 30, 0, 0)"
      ]
     },
     "execution_count": 2,
     "metadata": {},
     "output_type": "execute_result"
    }
   ],
   "source": [
    "# 수치를 활용한 보간\n",
    "# 날짜를 연산으로 변환된 값을 추출 가능\n",
    "datetime(2019,10,10) - timedelta(10)"
   ]
  },
  {
   "cell_type": "code",
   "execution_count": 7,
   "metadata": {},
   "outputs": [
    {
     "data": {
      "text/plain": [
       "datetime.datetime(2019, 1, 1, 0, 0)"
      ]
     },
     "execution_count": 7,
     "metadata": {},
     "output_type": "execute_result"
    }
   ],
   "source": [
    "datetime.strptime('20190101', '%Y%d%m')"
   ]
  },
  {
   "cell_type": "code",
   "execution_count": null,
   "metadata": {},
   "outputs": [],
   "source": []
  },
  {
   "cell_type": "markdown",
   "metadata": {},
   "source": [
    "## **2 Pandas**\n",
    "datetime 객체를 활용하는 Pandas 모듈"
   ]
  },
  {
   "cell_type": "code",
   "execution_count": 13,
   "metadata": {},
   "outputs": [
    {
     "data": {
      "text/plain": [
       "DatetimeIndex(['2019-01-01', '2019-01-02', '2019-01-03', '2019-01-04',\n",
       "               '2019-01-05', '2019-01-06', '2019-01-07', '2019-01-08',\n",
       "               '2019-01-09', '2019-01-10'],\n",
       "              dtype='datetime64[ns]', freq='D')"
      ]
     },
     "execution_count": 13,
     "metadata": {},
     "output_type": "execute_result"
    }
   ],
   "source": [
    "# 10일의 기간 출력\n",
    "import pandas as pd\n",
    "pd.date_range('2019/01/01', periods=10)"
   ]
  },
  {
   "cell_type": "code",
   "execution_count": 14,
   "metadata": {},
   "outputs": [
    {
     "data": {
      "text/plain": [
       "DatetimeIndex(['2019-01-01', '2019-01-02', '2019-01-03', '2019-01-04',\n",
       "               '2019-01-07', '2019-01-08', '2019-01-09', '2019-01-10',\n",
       "               '2019-01-11', '2019-01-14'],\n",
       "              dtype='datetime64[ns]', freq='B')"
      ]
     },
     "execution_count": 14,
     "metadata": {},
     "output_type": "execute_result"
    }
   ],
   "source": [
    "# 10일의 기간 출력\n",
    "pd.date_range('2019/01/01', periods=10, freq='B')"
   ]
  },
  {
   "cell_type": "code",
   "execution_count": 15,
   "metadata": {},
   "outputs": [
    {
     "data": {
      "text/plain": [
       "DatetimeIndex(['2019-01-01 00:00:00', '2019-01-01 12:30:00',\n",
       "               '2019-01-02 01:00:00', '2019-01-02 13:30:00',\n",
       "               '2019-01-03 02:00:00', '2019-01-03 14:30:00',\n",
       "               '2019-01-04 03:00:00', '2019-01-04 15:30:00',\n",
       "               '2019-01-05 04:00:00', '2019-01-05 16:30:00'],\n",
       "              dtype='datetime64[ns]', freq='750T')"
      ]
     },
     "execution_count": 15,
     "metadata": {},
     "output_type": "execute_result"
    }
   ],
   "source": [
    "# 10일의 기간 출력\n",
    "pd.date_range('2019/01/01', periods=10, freq='12h30min', normalize=True)"
   ]
  },
  {
   "cell_type": "code",
   "execution_count": 16,
   "metadata": {},
   "outputs": [
    {
     "data": {
      "text/plain": [
       "DatetimeIndex(['2019-01-01 00:00:00', '2019-02-03 18:40:00',\n",
       "               '2019-03-09 13:20:00', '2019-04-12 08:00:00',\n",
       "               '2019-05-16 02:40:00', '2019-06-18 21:20:00',\n",
       "               '2019-07-22 16:00:00', '2019-08-25 10:40:00',\n",
       "               '2019-09-28 05:20:00', '2019-11-01 00:00:00'],\n",
       "              dtype='datetime64[ns]', freq=None)"
      ]
     },
     "execution_count": 16,
     "metadata": {},
     "output_type": "execute_result"
    }
   ],
   "source": [
    "# 기간 구간을 10개로 나누기\n",
    "pd.date_range('2019/01/01', '2019/11/01', periods=10)"
   ]
  },
  {
   "cell_type": "code",
   "execution_count": 17,
   "metadata": {},
   "outputs": [
    {
     "data": {
      "text/plain": [
       "['2019-10-10', '2019-10-11', '2019-10-12', '2019-10-13', '2019-10-14']"
      ]
     },
     "execution_count": 17,
     "metadata": {},
     "output_type": "execute_result"
    }
   ],
   "source": [
    "# String Format time data\n",
    "# 개별 객체에 datetime 메소드를 적용\n",
    "[_.strftime('%Y-%m-%d')  for _ in pd.date_range('2019/10/10', periods=5)]"
   ]
  }
 ],
 "metadata": {
  "kernelspec": {
   "display_name": "Python 3",
   "language": "python",
   "name": "python3"
  },
  "language_info": {
   "codemirror_mode": {
    "name": "ipython",
    "version": 3
   },
   "file_extension": ".py",
   "mimetype": "text/x-python",
   "name": "python",
   "nbconvert_exporter": "python",
   "pygments_lexer": "ipython3",
   "version": "3.6.8"
  }
 },
 "nbformat": 4,
 "nbformat_minor": 4
}
