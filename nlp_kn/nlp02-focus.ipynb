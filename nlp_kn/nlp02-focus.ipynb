{
 "cells": [
  {
   "cell_type": "markdown",
   "metadata": {},
   "source": [
    "# **자연어 2일 - Focused Crawling**\n",
    "- **Bs4** 를 활용한 DOM 살펴보기\n",
    "- **Selenium** 을 활용한 **Session 과 Cookie** 의 활용\n",
    "- 간단한 표준작업 Process 를 정리해보자"
   ]
  },
  {
   "cell_type": "markdown",
   "metadata": {},
   "source": [
    "## **1 DOM 객체의 Focusing**\n",
    "**bs4 객체** 에서 **.find() .find_all()** 을 활용한 수집\n",
    "```python\n",
    "Signature:\n",
    "bs4obj.find_all(\n",
    "    name  = None,\n",
    "    attrs = {},\n",
    "    recursive = True,  # 자손까지 찾는다\n",
    "    text  = None,\n",
    "    limit = None,  # 추출할 객체의 갯수\n",
    "    **kwargs,\n",
    ")\n",
    "```"
   ]
  },
  {
   "cell_type": "code",
   "execution_count": 1,
   "metadata": {},
   "outputs": [],
   "source": [
    "# 앞에서 작업한 수집모듈 \n",
    "import requests, time\n",
    "def download(method, url, params=None, data=None):\n",
    "    userAgent = {\"user-agent\":\"Mozilla/5.0 (X11; Ubuntu; Linux x86_64; rv:61.0) Gecko/20100101 Firefox/61.0\"}\n",
    "    resp = requests.request(method, url, params=params, data=data, headers= userAgent)\n",
    "    return resp"
   ]
  },
  {
   "cell_type": "code",
   "execution_count": 2,
   "metadata": {},
   "outputs": [
    {
     "data": {
      "text/plain": [
       "(str, bs4.BeautifulSoup)"
      ]
     },
     "execution_count": 2,
     "metadata": {},
     "output_type": "execute_result"
    }
   ],
   "source": [
    "# 뉴스 Url 을 활용한 자료수집\n",
    "url = \"https://news.naver.com/main/read.nhn?mode=LSD&mid=shm&sid1=104&oid=015&aid=0004180601\"\n",
    "\n",
    "from bs4 import BeautifulSoup\n",
    "html = download('get', url)\n",
    "dom = BeautifulSoup(html.text, \"lxml\") # 오류시 \"html.parser\"\n",
    "type(html.text), type(dom)"
   ]
  },
  {
   "cell_type": "code",
   "execution_count": 3,
   "metadata": {},
   "outputs": [
    {
     "name": "stdout",
     "output_type": "stream",
     "text": [
      "<title>'브렉시트 강경파' 보리스 존슨 英 새 총리 오르다 : 네이버 뉴스</title>\n",
      "<a href=\"#lnb\" tabindex=\"1\"><span>메인 메뉴로 바로가기</span></a>\n",
      "{'href': '#lnb', 'tabindex': '1'}\n",
      "#lnb\n",
      "메인 메뉴로 바로가기\n"
     ]
    }
   ],
   "source": [
    "# 메서드를 활용한 Focusing Crawling\n",
    "print(dom.html.head.title)  # DOM tree를 활용한 포커싱\n",
    "print(dom.a)                # Anchor Text를 활용한 포커싱\n",
    "print(dom.a.attrs)          # 포커싱 DOM 의 속성내용 \n",
    "print(dom.a[\"href\"])        # 속성 중 필요한 값 추출\n",
    "print(dom.a.text)           # 텍스트 내용만 추출"
   ]
  },
  {
   "cell_type": "code",
   "execution_count": 4,
   "metadata": {},
   "outputs": [
    {
     "name": "stdout",
     "output_type": "stream",
     "text": [
      "<a href=\"#lnb\" tabindex=\"1\"><span>메인 메뉴로 바로가기</span></a>\n",
      "[<a href=\"#lnb\" tabindex=\"1\"><span>메인 메뉴로 바로가기</span></a>, <a href=\"#main_content\" tabindex=\"2\"><span>본문으로 바로가기</span></a>, <a class=\"h_logo nclicks(STA.naver)\" href=\"https://www.naver.com/\"><span class=\"blind\">NAVER</span></a>, <a class=\"h_news nclicks(STA.news)\" href=\"/\"><span class=\"blind\">뉴스</span></a>]\n"
     ]
    },
    {
     "data": {
      "text/plain": [
       "(bs4.element.Tag, bs4.element.ResultSet, 232)"
      ]
     },
     "execution_count": 4,
     "metadata": {},
     "output_type": "execute_result"
    }
   ],
   "source": [
    "# .find(), find_all() 함수를 활용한 Focused Crawling\n",
    "print(dom.find(\"a\"))\n",
    "print(dom.find_all(\"a\")[:4])\n",
    "type(dom.find(\"a\")), type(dom.find_all(\"a\")), len(dom.find_all(\"a\"))"
   ]
  },
  {
   "cell_type": "markdown",
   "metadata": {},
   "source": [
    "## **2 Focusing 객체의 상대경로**\n",
    "- Focusing 객체가 참조하는 **href** url 경로를 추출 합니다\n",
    "- 경로 내용은 **절대경로** 이외에 **상대경로** 값을 갖는다\n",
    "- **상대경로** 는 현재 작업중인 **Url** 을 참조하여 **절대경로를 추출** 해야 한다\n",
    "\n",
    "> **requests.compat.urljoin** (html.url, 추출한 상대경로)"
   ]
  },
  {
   "cell_type": "code",
   "execution_count": 5,
   "metadata": {},
   "outputs": [
    {
     "name": "stdout",
     "output_type": "stream",
     "text": [
      "a NAVER https://www.naver.com/\n"
     ]
    },
    {
     "data": {
      "text/plain": [
       "[['h_logo', 'nclicks(STA.naver)'],\n",
       " ['h_news', 'nclicks(STA.news)'],\n",
       " ['nclicks(STA.enter)'],\n",
       " ['nclicks(STA.sports)'],\n",
       " ['nclicks(STA.newsstand)']]"
      ]
     },
     "execution_count": 5,
     "metadata": {},
     "output_type": "execute_result"
    }
   ],
   "source": [
    "# 특정한 class 를 활용한 객체내 속성값 추출\n",
    "print(dom.find(\"\", {\"class\":\"h_logo\"}).name, \\\n",
    "      dom.find(\"\", {\"class\":\"h_logo\"}).text, \\\n",
    "      dom.find(\"\", {\"class\":\"h_logo\"})[\"href\"])\n",
    "\n",
    "[_[\"class\"] for _ in dom.find_all(\"a\")   if _.has_attr(\"class\")][:5]"
   ]
  },
  {
   "cell_type": "code",
   "execution_count": 6,
   "metadata": {},
   "outputs": [
    {
     "data": {
      "text/plain": [
       "['#lnb',\n",
       " '#main_content',\n",
       " 'https://www.naver.com/',\n",
       " '/',\n",
       " 'https://entertain.naver.com/home']"
      ]
     },
     "execution_count": 6,
     "metadata": {},
     "output_type": "execute_result"
    }
   ],
   "source": [
    "# 객체가 참조하는 href 추출하기 (절대경로 ,상대경로 가 추출)\n",
    "[_[\"href\"] for _ in dom.find_all(\"a\")   if _.has_attr(\"href\")][:5]"
   ]
  },
  {
   "cell_type": "code",
   "execution_count": 7,
   "metadata": {},
   "outputs": [
    {
     "data": {
      "text/plain": [
       "['https://news.naver.com/main/read.nhn?mode=LSD&mid=shm&sid1=104&oid=015&aid=0004180601#lnb',\n",
       " 'https://news.naver.com/main/read.nhn?mode=LSD&mid=shm&sid1=104&oid=015&aid=0004180601#main_content',\n",
       " 'https://www.naver.com/',\n",
       " 'https://news.naver.com/',\n",
       " 'https://entertain.naver.com/home']"
      ]
     },
     "execution_count": 7,
     "metadata": {},
     "output_type": "execute_result"
    }
   ],
   "source": [
    "# 작업중인 Url 절대주소와 결합하여 상대경로 완성하기\n",
    "[requests.compat.urljoin(html.url, _[\"href\"]) \n",
    "    for _ in dom.find_all(\"a\")   \n",
    "    if _.has_attr(\"href\")][:5]"
   ]
  },
  {
   "cell_type": "markdown",
   "metadata": {},
   "source": [
    "## **3 DOM 자식의 탐색 (recursive)**\n",
    "- **recursive** = **False** 자식 까지만 탐색\n",
    "- **.find().find()** 메서드를 사용하여 수집한 자손단계를 특정한다"
   ]
  },
  {
   "cell_type": "code",
   "execution_count": 8,
   "metadata": {},
   "outputs": [
    {
     "data": {
      "text/plain": [
       "([<a href=\"#lnb\" tabindex=\"1\"><span>메인 메뉴로 바로가기</span></a>,\n",
       "  <a href=\"#main_content\" tabindex=\"2\"><span>본문으로 바로가기</span></a>,\n",
       "  <a class=\"h_logo nclicks(STA.naver)\" href=\"https://www.naver.com/\"><span class=\"blind\">NAVER</span></a>,\n",
       "  <a class=\"h_news nclicks(STA.news)\" href=\"/\"><span class=\"blind\">뉴스</span></a>,\n",
       "  <a class=\"nclicks(STA.enter)\" href=\"https://entertain.naver.com/home\"><img alt=\"TV연예\" height=\"19\" src=\"https://imgnews.pstatic.net/image/news/2017/10/snb_h_entertain.png\" width=\"52\"/></a>],\n",
       " '///Next///',\n",
       " [<a class=\"nclicks(atp_press)\" href=\"http://www.hankyung.com/\" target=\"_blank\"><img alt=\"한국경제\" class=\"\" height=\"35\" src=\"https://mimgnews.pstatic.net/image/upload/office_logo/015/2017/12/27/logo_015_38_20171227161527.png\" title=\"한국경제\"/></a>])"
      ]
     },
     "execution_count": 8,
     "metadata": {},
     "output_type": "execute_result"
    }
   ],
   "source": [
    "# .find().find_all() : 특정한 자손들의 내용을 모두 수집\n",
    "dom.find(\"div\").find_all(\"a\")[:5], \"///Next///\",\\\n",
    "dom.find(\"div\", {\"class\":\"press_logo\"}).find_all(\"a\")[:5]"
   ]
  },
  {
   "cell_type": "code",
   "execution_count": 9,
   "metadata": {},
   "outputs": [
    {
     "data": {
      "text/plain": [
       "([],\n",
       " '///Next///',\n",
       " [<a class=\"nclicks(atp_press)\" href=\"http://www.hankyung.com/\" target=\"_blank\"><img alt=\"한국경제\" class=\"\" height=\"35\" src=\"https://mimgnews.pstatic.net/image/upload/office_logo/015/2017/12/27/logo_015_38_20171227161527.png\" title=\"한국경제\"/></a>])"
      ]
     },
     "execution_count": 9,
     "metadata": {},
     "output_type": "execute_result"
    }
   ],
   "source": [
    "# recursive=False : 자식까지만 탐색\n",
    "dom.find(\"div\").find_all(\"a\", recursive=False), \"///Next///\", \\\n",
    "dom.find(\"div\", {\"class\":\"press_logo\"}).find_all(\"a\")"
   ]
  },
  {
   "cell_type": "code",
   "execution_count": 10,
   "metadata": {},
   "outputs": [
    {
     "data": {
      "text/plain": [
       "([<a href=\"#lnb\" tabindex=\"1\"><span>메인 메뉴로 바로가기</span></a>,\n",
       "  <a href=\"#main_content\" tabindex=\"2\"><span>본문으로 바로가기</span></a>,\n",
       "  <a class=\"h_logo nclicks(STA.naver)\" href=\"https://www.naver.com/\"><span class=\"blind\">NAVER</span></a>],\n",
       " '///Next///',\n",
       " [<a class=\"nclicks(atp_press)\" href=\"http://www.hankyung.com/\" target=\"_blank\"><img alt=\"한국경제\" class=\"\" height=\"35\" src=\"https://mimgnews.pstatic.net/image/upload/office_logo/015/2017/12/27/logo_015_38_20171227161527.png\" title=\"한국경제\"/></a>])"
      ]
     },
     "execution_count": 10,
     "metadata": {},
     "output_type": "execute_result"
    }
   ],
   "source": [
    "# limit=3 : 검색결과를 제한한다 (SQL Limit)\n",
    "dom.find(\"div\").find_all(\"a\", limit=3), \"///Next///\", \\\n",
    "dom.find(\"div\", {\"class\":\"press_logo\"}).find_all(\"a\")"
   ]
  },
  {
   "cell_type": "code",
   "execution_count": 11,
   "metadata": {},
   "outputs": [
    {
     "data": {
      "text/plain": [
       "'<html lang=\"ko\">\\n<head>\\n<meta charset=\"utf-8\"/>\\n<meta content=\"IE=edge\" http-equiv=\"X-UA-Compatible\"/>\\n<meta contents=\"always\" name=\"referrer\"/>\\n<meta content=\"width=1106\" name=\"viewport\"/>\\n<title>\\'브렉시트 강경파\\' 보리스 존슨 英 새 총리 오르다 : 네이버 뉴스</title>\\n<meta content=\"한국경제 : 네이버뉴스\" property=\"me2:post_tag\"/>\\n<meta content=\"한국경제\" property=\"me2:category1\"/>\\n<meta content=\"세계\" property=\"me2:category2\"/>\\n<meta content=\"https://imgnews.pstatic.net/image/015/2019/07/23/0004180601_001_20190724011504741.jpg\" property=\"me2:image\"/>\\n<meta content=\"\\'브렉시트 강경파\\' 보리스 존슨 英 새 총리 오르다\" property=\"og:title\"/>\\n<meta content=\"article\" property=\"og:type\"/>\\n<meta content=\"http://news.naver.com/main/read.nhn?mode=LSD&amp;mid=sec&amp;oid=015&amp;aid=0004180601&amp;sid1=001\" property=\"og:url\"/>\\n<meta content=\"https://imgnews.pstatic.net/image/015/2019/07/23/0004180601_001_20190724011504741.jpg\" property=\"og:image\"/>\\n<meta content=\"영국의 새 총리에 ‘유럽의 트럼프’로 불리는 보리스 존슨 전 외무장관이 23일 선출됐다. 존슨 신임 총리가 유럽의 트럼프로 불리는 것은 부유한 집안 배경과 금발머리, 전반'"
      ]
     },
     "execution_count": 11,
     "metadata": {},
     "output_type": "execute_result"
    }
   ],
   "source": [
    "# DOM 의 내용 간단하게 살펴보기\n",
    "str(dom.contents[-1])[:1000]"
   ]
  },
  {
   "cell_type": "code",
   "execution_count": 12,
   "metadata": {},
   "outputs": [
    {
     "name": "stdout",
     "output_type": "stream",
     "text": [
      "https://news.naver.com/main/read.nhn?mode=LSD&mid=shm&sid1=104&oid=015&aid=0004180601\n",
      "뉴스홈  : https://news.naver.com/main/home.nhn\n",
      "속보 : https://news.naver.com/main/list.nhn?mode=LSD&mid=sec&sid1=001\n",
      "정치  : https://news.naver.com/main/main.nhn?mode=LSD&mid=shm&sid1=100\n",
      "경제  : https://news.naver.com/main/main.nhn?mode=LSD&mid=shm&sid1=101\n",
      "사회  : https://news.naver.com/main/main.nhn?mode=LSD&mid=shm&sid1=102\n",
      "생활/문화  : https://news.naver.com/main/main.nhn?mode=LSD&mid=shm&sid1=103\n",
      "세계 선택됨 : https://news.naver.com/main/main.nhn?mode=LSD&mid=shm&sid1=104\n",
      "IT/과학  : https://news.naver.com/main/main.nhn?mode=LSD&mid=shm&sid1=105\n",
      "오피니언  : https://news.naver.com/main/opinion/home.nhn\n",
      "포토  : https://news.naver.com/main/photo/index.nhn?mid=pho\n",
      "TV  : https://news.naver.com/main/tv/index.nhn?mid=tvh\n",
      "랭킹뉴스  : https://news.naver.com/main/ranking/popularDay.nhn?mid=etc&sid1=111\n"
     ]
    }
   ],
   "source": [
    "# 현재 작업중인 Base Url\n",
    "print(html.url)\n",
    "\n",
    "# 객체들의 내용과 상대경로 결합하기\n",
    "for _ in dom.find(\"div\", {\"id\":\"lnb\"}).find_all(\"li\"):\n",
    "    print(\"{} : {}\".format(_.text, requests.compat.urljoin(html.url, _.find(\"a\")[\"href\"])))"
   ]
  },
  {
   "cell_type": "markdown",
   "metadata": {},
   "source": [
    "## **4 특정 Page DOM 작업하기 실습**\n",
    "- 뉴스 페이지 DOM 작업하기\n",
    "- 페이지 요소들의 Title.Text 와 참고 URL 절대경로와 결합"
   ]
  },
  {
   "cell_type": "code",
   "execution_count": 13,
   "metadata": {},
   "outputs": [
    {
     "data": {
      "text/plain": [
       "(requests.models.Response,\n",
       " 'https://news.naver.com/main/ranking/read.nhn?mid=etc&oid=025&aid=0002924369')"
      ]
     },
     "execution_count": 13,
     "metadata": {},
     "output_type": "execute_result"
    }
   ],
   "source": [
    "# 특정한 기사를 대상으로 작업 진행하기\n",
    "# LG 디스플레이 실적기사 본문\n",
    "url  = \"https://news.naver.com/main/ranking/read.nhn?mid=etc&oid=025&aid=0002924369\"\n",
    "html = download('get', url)\n",
    "type(html), html.url"
   ]
  },
  {
   "cell_type": "code",
   "execution_count": 14,
   "metadata": {},
   "outputs": [
    {
     "data": {
      "text/plain": [
       "('LG디스플레이, 2분기째 적자…LG폰 물량 확보도 ‘빨간 불’', '2019.07.23. 오후 5:08')"
      ]
     },
     "execution_count": 14,
     "metadata": {},
     "output_type": "execute_result"
    }
   ],
   "source": [
    "dom  = BeautifulSoup(html.text, \"lxml\")\n",
    "\n",
    "dom.find(\"h3\", {\"id\":\"articleTitle\"}).text, \\\n",
    "dom.find(\"h3\", {\"id\":\"articleTitle\"}).find_next_sibling().find().text"
   ]
  },
  {
   "cell_type": "code",
   "execution_count": 15,
   "metadata": {},
   "outputs": [
    {
     "data": {
      "text/plain": [
       "'\\n\\n\\n\\n\\n// flash 오류를 우회하기 위한 함수 추가\\nfunction _flash_removeCallback() {}\\n\\n             LG디스플레이가 올 2분기(4~6월) 부진한 성적표를 받아들었다. 2분기 연속적자일뿐더러 적자 폭도 올 1분기(1~3월) 대비 더욱 커졌다. 중국 디스플레이 업체의 공세로 인해 액정(LCD) 패널 가격이 내려간 탓이다. 회사는 LCD를 대체할 자발광소재 유기발광다이오드(OLED) 패널에 3조원을 추가 투자할 계획을 밝혔다.      23일 LG디스플레이는 올 2분기 매출 5조3534억원, 영업손실 3687억원을 기록했다고 공시했다. 시장 컨센서스(영업 손실 3000억원 안팎) 대비 부진한 성적이다. 1분기(1320억원)뿐 아니라 전년 같은 기간(지난해 2분기, 2881억원)과 비교해서도 적자 폭이 늘어났다. 실적 악화의 이유로 LG디스플레이는 “미ㆍ중 무역 전쟁 등 거시경제 우려가 확대됐고, 유통ㆍ세트업체들이 패널 구매를 보수적으로 전환해'"
      ]
     },
     "execution_count": 15,
     "metadata": {},
     "output_type": "execute_result"
    }
   ],
   "source": [
    "# Tree 관계를 활용한 Chain Method 로 추출\n",
    "dom.find(\"h3\", {\"id\":\"articleTitle\"}).find_parent().find_parent().find_next_sibling().find().text[:500]"
   ]
  },
  {
   "cell_type": "code",
   "execution_count": 16,
   "metadata": {},
   "outputs": [
    {
     "data": {
      "text/plain": [
       "'\\n\\n\\n\\n\\n\\n// flash 오류를 우회하기 위한 함수 추가\\nfunction _flash_removeCallback() {}\\n\\n             LG디스플레이가 올 2분기(4~6월) 부진한 성적표를 받아들었다. 2분기 연속적자일뿐더러 적자 폭도 올 1분기(1~3월) 대비 더욱 커졌다. 중국 디스플레이 업체의 공세로 인해 액정(LCD) 패널 가격이 내려간 탓이다. 회사는 LCD를 대체할 자발광소재 유기발광다이오드(OLED) 패널에 3조원을 추가 투자할 계획을 밝혔다.      23일 LG디스플레이는 올 2분기 매출 5조3534억원, 영업손실 3687억원을 기록했다고 공시했다. 시장 컨센서스(영업 손실 3000억원 안팎) 대비 부진한 성적이다. 1분기(1320억원)뿐 아니라 전년 같은 기간(지난해 2분기, 2881억원)과 비교해서도 적자 폭이 늘어났다. 실적 악화의 이유로 LG디스플레이는 “미ㆍ중 무역 전쟁 등 거시경제 우려가 확대됐고, 유통ㆍ세트업체들이 패널 구매를 보수적으로 전환'"
      ]
     },
     "execution_count": 16,
     "metadata": {},
     "output_type": "execute_result"
    }
   ],
   "source": [
    "# Tag 추출 대상을 특정하지 않고서 추출하기\n",
    "dom.find(\"\", {\"id\":\"articleBody\"}).text[:500]"
   ]
  },
  {
   "cell_type": "code",
   "execution_count": 17,
   "metadata": {},
   "outputs": [
    {
     "data": {
      "text/plain": [
       "NoneType"
      ]
     },
     "execution_count": 17,
     "metadata": {},
     "output_type": "execute_result"
    }
   ],
   "source": [
    "# 주의할 점!!\n",
    "# bs4 객체는 .태그 대상이 없으면 NoneType 을 출력한다\n",
    "# Focus 대상의 속성, 값을 필요시 NoneType 여부를 확인 후 진행하기 \n",
    "type(dom.testPython)"
   ]
  },
  {
   "cell_type": "markdown",
   "metadata": {},
   "source": [
    "# **Crawling List**\n",
    "## **1 참조 URL 목록 및 내용 수집기**\n",
    "- **https://news.naver.com**\n",
    "- Url Page 가 목록을 포함하는 경우, **개별 객체들의 URL** 추출하기\n",
    "- 수집한 경로를 사용하여 **재귀적 함수를 활용한 내용 추출하기**"
   ]
  },
  {
   "cell_type": "code",
   "execution_count": 18,
   "metadata": {},
   "outputs": [
    {
     "data": {
      "text/plain": [
       "['li', 'li', 'li', 'li', 'li', 'li']"
      ]
     },
     "execution_count": 18,
     "metadata": {},
     "output_type": "execute_result"
    }
   ],
   "source": [
    "# Naver News 메인 페이지 크롤링\n",
    "url  = \"https://news.naver.com\"\n",
    "html = download('get', url)\n",
    "dom  = BeautifulSoup(html.text, \"lxml\")\n",
    "ul   = dom.find(\"\", {\"class\":\"hdline_article_list\"})\n",
    "[_.name   for _ in ul.find_all(recursive=False)]   # class=\"name\""
   ]
  },
  {
   "cell_type": "code",
   "execution_count": 19,
   "metadata": {},
   "outputs": [
    {
     "name": "stdout",
     "output_type": "stream",
     "text": [
      "나경원, 볼턴과 회동…\"중러 영공침범 속 한미동맹 중요성 강조\"(종합)\n",
      "https://news.naver.com/main/read.nhn?mode=LSD&mid=shm&sid1=100&oid=001&aid=0010977527\n",
      "'반쪽 최고위' 재현된 바른미래당... 손학규 저격한 오신환\n",
      "https://news.naver.com/main/read.nhn?mode=LSD&mid=shm&sid1=100&oid=047&aid=0002234546\n",
      "통상본부장 방미…“반도체 가격 급등 미국 등에 악영향”\n",
      "https://news.naver.com/main/read.nhn?mode=LSD&mid=shm&sid1=104&oid=056&aid=0010725196\n",
      "'천안문 강경진압 주도' 리펑 별세…'학살자' 오명 꼬리표\n",
      "https://news.naver.com/main/read.nhn?mode=LSD&mid=shm&sid1=104&oid=437&aid=0000215743\n",
      "정부, 日 '백색국가서 한국 제외' 관련 브리핑[현장연결]\n",
      "https://news.naver.com/main/read.nhn?mode=LSD&mid=shm&sid1=100&oid=422&aid=0000384936\n",
      "\n",
      "https://news.naver.com/\n"
     ]
    }
   ],
   "source": [
    "# 개별 기사들 메모리에 저장하기\n",
    "newsList = []\n",
    "ul = dom.find(\"\", {\"class\":\"hdline_article_list\"})\n",
    "\n",
    "for i, _ in enumerate(ul.find_all(recursive=False)):\n",
    "    print(_.find().find().text.strip())\n",
    "    print(requests.compat.urljoin(html.url,  _.find().find()[\"href\"]))\n",
    "    news = BeautifulSoup(\n",
    "        download(\"get\",\n",
    "            requests.compat.urljoin(html.url,  _.find().find()[\"href\"])).text, \"lxml\")\n",
    "    \n",
    "    # print(news.find(attrs={\"id\":\"articleBodyContents\"}).text.strip())\n",
    "    \n",
    "    # NoneType 여부를 확인 (type(dom.testPython))\n",
    "    if news.find( attrs={\"id\":\"articleBodyContents\"} ): \n",
    "        newsList.append( ( i+1, \n",
    "            news.find( attrs={\"id\":\"articleBodyContents\"} ).text.strip()))"
   ]
  },
  {
   "cell_type": "code",
   "execution_count": 20,
   "metadata": {},
   "outputs": [
    {
     "name": "stdout",
     "output_type": "stream",
     "text": [
      "1 등 엄중한 안보 현실에서 한미동맹의 중요성을 강조했다\"고 소개했다.    그러면서 \"일본의\n",
      "2 역시 손 대표의 거취 문제가 달려 있다. 지도부 재신임 등을 담은 혁신안 상정 논란을 거부\n",
      "3 체를 쓰는 모든 제품에까지 연결될 수 있는...\"] 지금 당장은 삼성 하이닉스 같은 한국 \n",
      "4 부터 10년동안 총리를 지냈습니다.천안문 사태 때는 강경 진압을 이끌고 시위대를 무력으로 \n",
      "5 이 입법예고한 것에 대해 한국정부는 다시 한번 깊은 유감을 표합니다.금일 제출한 수출무역관\n"
     ]
    }
   ],
   "source": [
    "for _ in newsList:\n",
    "    print(_[0], _[1][400:450])"
   ]
  },
  {
   "cell_type": "markdown",
   "metadata": {},
   "source": [
    "## **2 Crawling List 를 활용한 Focused**\n",
    "```python\n",
    "print(dom.find( attrs={ \"id\" : \"results\" }) ) # 반복적 작업시 세분화된 작업에 용이\n",
    "print(dom.select_one( \"#results\" )) # CSS 선택자로 lxml 등 활용범위가 더 높음\n",
    "```\n",
    "\n",
    "- **find(),find_all()** 과 **select(),select_one()** 의 구분\n",
    "- 둘다 비슷하지만 약간 문법이 다르고, 둘 중 1개로만 작업해도 무관하다\n",
    "- CSS Selector\n",
    "> h1 { color : red , font-size: 10;}"
   ]
  },
  {
   "cell_type": "code",
   "execution_count": 21,
   "metadata": {},
   "outputs": [
    {
     "data": {
      "text/plain": [
       "(1, '나경원, 볼턴과 회동…\"중러 영공침범 속 한미동맹 중요성 강조\"(종합)')"
      ]
     },
     "execution_count": 21,
     "metadata": {},
     "output_type": "execute_result"
    }
   ],
   "source": [
    "# CSS 셀렉터를 활용한 Focusing\n",
    "len(dom.select(\".hdline_article_list\")), \\\n",
    "dom.select(\".hdline_article_list > li > div > a\")[0].text.strip()"
   ]
  },
  {
   "cell_type": "code",
   "execution_count": 22,
   "metadata": {},
   "outputs": [
    {
     "name": "stdout",
     "output_type": "stream",
     "text": [
      "나경원, 볼턴과 회동…\"중러 영공침범 속 한미동맹 중요성 강조\"(종합)\n",
      "'반쪽 최고위' 재현된 바른미래당... 손학규 저격한 오신환\n",
      "통상본부장 방미…“반도체 가격 급등 미국 등에 악영향”\n",
      "'천안문 강경진압 주도' 리펑 별세…'학살자' 오명 꼬리표\n",
      "정부, 日 '백색국가서 한국 제외' 관련 브리핑[현장연결]\n",
      "\n"
     ]
    }
   ],
   "source": [
    "# 목록의 제목만 추출\n",
    "for _ in dom.select(\".hdline_article_list > li > div > a.lnk_hdline_article\"):\n",
    "    print(_.text.strip())"
   ]
  },
  {
   "cell_type": "code",
   "execution_count": 23,
   "metadata": {},
   "outputs": [
    {
     "name": "stdout",
     "output_type": "stream",
     "text": [
      "0 나경원, 볼턴과 회동…\"중러 영공침범 속 한미동맹 중요성 강조\"(종합)\n",
      "// flash 오류를 우회하기 위한 함수 추가\n",
      "1 '반쪽 최고위' 재현된 바른미래당... 손학규 저격한 오신환\n",
      "// flash 오류를 우회하기 위한 함수 추가\n",
      "2 통상본부장 방미…“반도체 가격 급등 미국 등에 악영향”\n",
      "// flash 오류를 우회하기 위한 함수 추가\n",
      "3 '천안문 강경진압 주도' 리펑 별세…'학살자' 오명 꼬리표\n",
      "동영상 뉴스\n",
      "4 정부, 日 '백색국가서 한국 제외' 관련 브리핑[현장연결]\n",
      "동영상 뉴스\n"
     ]
    }
   ],
   "source": [
    "# 목록의 제목과 본문의 추출\n",
    "for i, _ in enumerate(dom.select(\".hdline_article_list a.lnk_hdline_article\")[:-1]):\n",
    "    url  = requests.compat.urljoin(html.url, _[\"href\"])\n",
    "    print(i, _.text.strip())\n",
    "    news = BeautifulSoup(download(\"get\", url).text, \"lxml\")\n",
    "    print(news.select_one(\"#articleBodyContents\").text.strip().splitlines()[0])"
   ]
  },
  {
   "cell_type": "markdown",
   "metadata": {},
   "source": [
    "<br></br>\n",
    "# **Selenium**\n",
    "## **1 Selenium DOM Driver 생성 및 활용**\n",
    "! pip install selenium\n",
    "- http://example.webscraping.com/places/default/search\n",
    "- headless 를 막는 경우도 있어서 경우에 따라 옵션을 적용하기"
   ]
  },
  {
   "cell_type": "code",
   "execution_count": 24,
   "metadata": {},
   "outputs": [
    {
     "name": "stdout",
     "output_type": "stream",
     "text": [
      "<div id=\"results\">\n",
      "</div>\n",
      "<div id=\"results\">\n",
      "</div>\n"
     ]
    }
   ],
   "source": [
    "# 크롤링 실습예제 사이트 크롤링 (한계가 존재)\n",
    "url = \"http://example.webscraping.com/places/default/search\"\n",
    "dom = BeautifulSoup(download(\"get\", url).text, \"lxml\")\n",
    "\n",
    "print(dom.find(attrs={\"id\":\"results\"}))\n",
    "print(dom.select_one(\"#results\")) # CSS 문법을 활용가능해 이를 더 추천"
   ]
  },
  {
   "cell_type": "code",
   "execution_count": 25,
   "metadata": {},
   "outputs": [
    {
     "data": {
      "text/plain": [
       "['CDwindow-3FB97B855A505921441A5F6A6E41FDFA']"
      ]
     },
     "execution_count": 25,
     "metadata": {},
     "output_type": "execute_result"
    }
   ],
   "source": [
    "# Selenium의 실행\n",
    "# '/usr/lib/chromium-browser/chromedriver' 경로는 각자 환경에 맞게 설정값 적용이 필요\n",
    "from selenium import webdriver\n",
    "driver = webdriver.Chrome(executable_path='/usr/lib/chromium-browser/chromedriver')\n",
    "\n",
    "# 현재 활성화 중인 핸들 확인하기\n",
    "driver.window_handles"
   ]
  },
  {
   "cell_type": "code",
   "execution_count": 27,
   "metadata": {},
   "outputs": [
    {
     "data": {
      "text/plain": [
       "<div id=\"results\">\n",
       "</div>"
      ]
     },
     "execution_count": 27,
     "metadata": {},
     "output_type": "execute_result"
    }
   ],
   "source": [
    "# Index 값을 활용한 Handle 윈도우를 특정\n",
    "# 핸들링 윈도우를 특정합니다 ex)[0] : 현재 활성화 창\n",
    "driver.switch_to_window(driver.window_handles[0])\n",
    "# driver.close()\n",
    "\n",
    "# 빈 Browser 에 URL 추가하기\n",
    "driver.get(url)\n",
    "\n",
    "# Driver 내용을 BS4 객체로 변환 및 활용\n",
    "dom = BeautifulSoup(driver.page_source, \"lxml\")\n",
    "dom.select_one(\"#results\")"
   ]
  },
  {
   "cell_type": "code",
   "execution_count": 28,
   "metadata": {},
   "outputs": [
    {
     "data": {
      "text/plain": [
       "<selenium.webdriver.remote.webelement.WebElement (session=\"9c035647a66a0a57f17b657ed6a839b4\", element=\"0.5590135167668271-1\")>"
      ]
     },
     "execution_count": 28,
     "metadata": {},
     "output_type": "execute_result"
    }
   ],
   "source": [
    "driver.find_element_by_xpath(\"//input[@id='search_term']\")\n",
    "\n",
    "# input 에 입력된 내용의 확인\n",
    "driver.find_element_by_xpath(\"//input[@id='search_term']\").get_attribute(\"value\")"
   ]
  },
  {
   "cell_type": "code",
   "execution_count": 30,
   "metadata": {},
   "outputs": [
    {
     "name": "stdout",
     "output_type": "stream",
     "text": [
      "korea\n"
     ]
    },
    {
     "data": {
      "text/plain": [
       "''"
      ]
     },
     "execution_count": 30,
     "metadata": {},
     "output_type": "execute_result"
    }
   ],
   "source": [
    "# <input> 태그에 내용 입력\n",
    "driver.find_element_by_xpath(\"//input[@id='search_term']\").clear() # 입력된 내용의 제거\n",
    "driver.find_element_by_css_selector(\"#search_term\").send_keys(\"korea\")  # 새로운 값 입력\n",
    "print(driver.find_element_by_xpath(\"//input[@id='search_term']\").get_attribute(\"value\"))\n",
    "\n",
    "# click() 이벤트 실행\n",
    "driver.find_element_by_tag_name(\"form\").find_element_by_xpath(\"//input[@type='submit']\").click()\n",
    "driver.find_element_by_css_selector(\"#results\").text"
   ]
  },
  {
   "cell_type": "code",
   "execution_count": 31,
   "metadata": {},
   "outputs": [
    {
     "data": {
      "text/plain": [
       "True"
      ]
     },
     "execution_count": 31,
     "metadata": {},
     "output_type": "execute_result"
    }
   ],
   "source": [
    "# DOM 내용의 확인 과정이 필요 (try/ except 난립을 막을 수 있다!!!!, 처리속도도 빠름)\n",
    "driver.find_element_by_css_selector(\"#results\").is_displayed()"
   ]
  },
  {
   "cell_type": "code",
   "execution_count": 32,
   "metadata": {},
   "outputs": [],
   "source": [
    "driver.close()"
   ]
  },
  {
   "cell_type": "markdown",
   "metadata": {},
   "source": [
    "## **2 Ajax 통신 내용의 확인**\n",
    "- **XML, JSON** 통신 내용 경로를 활용한 자료수집"
   ]
  },
  {
   "cell_type": "code",
   "execution_count": 33,
   "metadata": {},
   "outputs": [
    {
     "data": {
      "text/plain": [
       "{'records': [{'pretty_link': '<div><a href=\"/places/default/view/China-47\"><img src=\"/places/static/images/flags/cn.png\" /> China</a></div>',\n",
       "   'country': 'China',\n",
       "   'id': 4593503}],\n",
       " 'num_pages': 1,\n",
       " 'error': ''}"
      ]
     },
     "execution_count": 33,
     "metadata": {},
     "output_type": "execute_result"
    }
   ],
   "source": [
    "# html JSON 데이터 송수신 내용의 활용\n",
    "# 해당 경로를 GET 방식으로 수집하기\n",
    "url = \"http://example.webscraping.com/places/ajax/search.json\"\n",
    "params = {\n",
    "    \"search_term\": \"\",\n",
    "    \"page_size\":10,\n",
    "    \"page\":0,\n",
    "}\n",
    "params[\"search_term\"] = \"china\"\n",
    "html = download(\"get\", url, params)\n",
    "html.json()"
   ]
  },
  {
   "cell_type": "code",
   "execution_count": 34,
   "metadata": {},
   "outputs": [
    {
     "name": "stdout",
     "output_type": "stream",
     "text": [
      "<div><a href=\"/places/default/view/China-47\"><img src=\"/places/static/images/flags/cn.png\" /> China</a></div>\n",
      "********************\n",
      "['/places/default/view/China-47']\n",
      "********************\n",
      "http://example.webscraping.com/places/default/view/China-47\n"
     ]
    }
   ],
   "source": [
    "import re\n",
    "for _ in html.json()[\"records\"]:\n",
    "    print(_[\"pretty_link\"]); print('*' * 20)\n",
    "    \n",
    "    group = re.findall('<a href=\"(.+)?\">',  _[\"pretty_link\"])\n",
    "    print(group); print('*' * 20)\n",
    "    print(requests.compat.urljoin(html.url, group[0]))  # 이미지 상대주소를 절대주소로 변환\n",
    "    \n",
    "# img = download(\"get\", \"http://example.webscraping.com/\")\n",
    "# img"
   ]
  },
  {
   "cell_type": "markdown",
   "metadata": {},
   "source": [
    "<br></br>\n",
    "# **Cookie & Session 활용**\n",
    "- http://pythonscraping.com/pages/cookies/welcome.php\n",
    "\n",
    "## **1 requests 를 활용한 Cookie 수집 및 분석하기**\n",
    "- requests.Session() 객체를 활용한 Cookie 분석 \n",
    "- Cookies 정보내용 살펴보기\n",
    "\n",
    "```json\n",
    "Request URL: http://pythonscraping.com/pages/cookies/welcome.php\n",
    "Request Method: POST\n",
    "Status Code: 200 OK\n",
    "Remote Address: 198.27.68.184:80\n",
    "Referrer Policy: no-referrer-when-downgrade\n",
    "username: erwerqew\n",
    "password: password\n",
    "```"
   ]
  },
  {
   "cell_type": "code",
   "execution_count": 35,
   "metadata": {},
   "outputs": [
    {
     "data": {
      "text/plain": [
       "'\\n<h2>Welcome to the Website!</h2>\\nWhoops! You logged in wrong. Try again with any username, and the password \"password\"<br><a href=\"login.html\">Log in here</a>'"
      ]
     },
     "execution_count": 35,
     "metadata": {},
     "output_type": "execute_result"
    }
   ],
   "source": [
    "# BeautifulSoup 를 활용한 수집\n",
    "# url = \"http://pythonscraping.com/pages/cookies/login.html\"\n",
    "url  = \"http://pythonscraping.com/pages/cookies/welcome.php\"\n",
    "data = {\n",
    "    \"username\": \"erwerqew\",\n",
    "    \"password\": \"password\"    \n",
    "}\n",
    "html = download(\"post\", url, data=data)\n",
    "html.text"
   ]
  },
  {
   "cell_type": "code",
   "execution_count": 36,
   "metadata": {},
   "outputs": [
    {
     "name": "stdout",
     "output_type": "stream",
     "text": [
      "\n",
      "<h2>Welcome to the Website!</h2>\n",
      "Whoops! You logged in wrong. Try again with any username, and the password \"password\"<br><a href=\"login.html\">Log in here</a>\n"
     ]
    },
    {
     "data": {
      "text/plain": [
       "<RequestsCookieJar[Cookie(version=0, name='loggedin', value='1', port=None, port_specified=False, domain='pythonscraping.com', domain_specified=False, domain_initial_dot=False, path='/pages/cookies', path_specified=False, secure=False, expires=None, discard=True, comment=None, comment_url=None, rest={}, rfc2109=False), Cookie(version=0, name='username', value='erwerqew', port=None, port_specified=False, domain='pythonscraping.com', domain_specified=False, domain_initial_dot=False, path='/pages/cookies', path_specified=False, secure=False, expires=None, discard=True, comment=None, comment_url=None, rest={}, rfc2109=False)]>"
      ]
     },
     "execution_count": 36,
     "metadata": {},
     "output_type": "execute_result"
    }
   ],
   "source": [
    "# requests Session() 을 활용한 수집\n",
    "session = requests.Session()\n",
    "html    = session.post(url, data)\n",
    "print(html.text)\n",
    "session.cookies"
   ]
  },
  {
   "cell_type": "markdown",
   "metadata": {},
   "source": [
    "## **2 Selenium 을 활용한 Cookie 수집 및 분석하기**\n",
    "- driver() 를 활용한 수집 후\n",
    "- requests.Session() 객체를 활용한 Cookie 분석을 활용 "
   ]
  },
  {
   "cell_type": "code",
   "execution_count": 37,
   "metadata": {},
   "outputs": [
    {
     "data": {
      "text/plain": [
       "[]"
      ]
     },
     "execution_count": 37,
     "metadata": {},
     "output_type": "execute_result"
    }
   ],
   "source": [
    "from selenium import webdriver\n",
    "driver = webdriver.Chrome(executable_path='/usr/lib/chromium-browser/chromedriver')\n",
    "url    = \"http://pythonscraping.com/pages/cookies/login.html\"\n",
    "driver.get(url)\n",
    "driver.get_cookies()"
   ]
  },
  {
   "cell_type": "code",
   "execution_count": 38,
   "metadata": {},
   "outputs": [
    {
     "name": "stdout",
     "output_type": "stream",
     "text": [
      "username testset\n",
      "loggedin 1\n",
      "['loggedin', 'username']\n"
     ]
    },
    {
     "data": {
      "text/plain": [
       "<RequestsCookieJar[Cookie(version=0, name='loggedin', value='1', port=None, port_specified=False, domain='', domain_specified=False, domain_initial_dot=False, path='/', path_specified=True, secure=False, expires=None, discard=True, comment=None, comment_url=None, rest={'HttpOnly': None}, rfc2109=False), Cookie(version=0, name='username', value='testset', port=None, port_specified=False, domain='', domain_specified=False, domain_initial_dot=False, path='/', path_specified=True, secure=False, expires=None, discard=True, comment=None, comment_url=None, rest={'HttpOnly': None}, rfc2109=False)]>"
      ]
     },
     "execution_count": 38,
     "metadata": {},
     "output_type": "execute_result"
    }
   ],
   "source": [
    "# Selenium 이벤트 적용\n",
    "driver.find_element_by_name(\"username\").send_keys(\"testset\")\n",
    "driver.find_element_by_name(\"password\").send_keys(\"password\")\n",
    "driver.find_element_by_css_selector(\"input[type=submit]\").click()\n",
    "\n",
    "# 비어있는 Session() 을 생성 후, driver 내용 입력하기\n",
    "session = requests.Session()\n",
    "for _ in driver.get_cookies():\n",
    "    print(_[\"name\"], _[\"value\"])\n",
    "    session.cookies.set(_[\"name\"], _[\"value\"])\n",
    "\n",
    "driver.close()\n",
    "print(session.cookies.keys())\n",
    "session.cookies"
   ]
  },
  {
   "cell_type": "markdown",
   "metadata": {},
   "source": [
    "<br></br>\n",
    "# **실습하기**\n",
    "- 인터파크 로그인 및 좌석예매하기 by Selenium\n",
    "- 네이버 뉴스 수집 후 Text 로 저장"
   ]
  },
  {
   "cell_type": "code",
   "execution_count": 39,
   "metadata": {},
   "outputs": [
    {
     "name": "stdout",
     "output_type": "stream",
     "text": [
      "나경원, 볼턴과 회동…\"중러 영공침범 속 한미동맹 중요성 강조\"(종합)\n",
      "'반쪽 최고위' 재현된 바른미래당... 손학규 저격한 오신환\n",
      "통상본부장 방미…“반도체 가격 급등 미국 등에 악영향”\n",
      "'천안문 강경진압 주도' 리펑 별세…'학살자' 오명 꼬리표\n",
      "정부, 日 '백색국가서 한국 제외' 관련 브리핑[현장연결]\n"
     ]
    }
   ],
   "source": [
    "# 뉴스 Page Bs4 객체로 저장하기\n",
    "from bs4 import BeautifulSoup\n",
    "url = \"https://news.naver.com\"\n",
    "dom = BeautifulSoup(download(\"get\", url).text, \"lxml\")\n",
    "\n",
    "# Bs4 객체 내 제목의 수집\n",
    "for _ in dom.select(\"ul.hdline_article_list  a.lnk_hdline_article\"):\n",
    "    if len(_[\"href\"]) >1: # if _.has_attr(\"href\"):\n",
    "        print(_.text.strip())"
   ]
  },
  {
   "cell_type": "code",
   "execution_count": 40,
   "metadata": {},
   "outputs": [
    {
     "name": "stdout",
     "output_type": "stream",
     "text": [
      "35 https://news.naver.com/main/read.nhn?mode=LSD&mid=shm&sid1=100&oid=001&aid=0010977527\n"
     ]
    }
   ],
   "source": [
    "# 개별 뉴스들의 Link 주소 수집하기\n",
    "css_select = \"ul.hdline_article_list  a.lnk_hdline_article,  ul.mlist2.no_bg li > a\"\n",
    "newsList = [requests.compat.urljoin(url, _[\"href\"])  \n",
    "            for _ in dom.select(css_select)\n",
    "            if len(_[\"href\"]) >1]\n",
    "print(len(newsList), newsList[0])"
   ]
  },
  {
   "cell_type": "code",
   "execution_count": 41,
   "metadata": {},
   "outputs": [
    {
     "name": "stdout",
     "output_type": "stream",
     "text": [
      "0010977527.txt\n",
      "0002234546.txt\n",
      "0010725196.txt\n",
      "0000215743.txt\n",
      "0000384936.txt\n"
     ]
    }
   ],
   "source": [
    "# aid 인덱스 값을 활용한 저장파일명 만들기\n",
    "for _ in newsList[:5]:\n",
    "    print(_.split(\"&\")[-1][4:]+ \".txt\")"
   ]
  },
  {
   "cell_type": "code",
   "execution_count": 42,
   "metadata": {},
   "outputs": [
    {
     "name": "stdout",
     "output_type": "stream",
     "text": [
      "News Crawling is Saved.. \n",
      "CPU times: user 2.27 s, sys: 103 ms, total: 2.37 s\n",
      "Wall time: 4.13 s\n"
     ]
    }
   ],
   "source": [
    "%%time\n",
    "# aid 파일명 생성 및 Link 수집결과 저장하기\n",
    "for _ in newsList:\n",
    "    fileName = _.split(\"&\")[-1][4:]+ \".txt\"\n",
    "    dom      = BeautifulSoup(download(\"get\", _).text, \"lxml\")\n",
    "    content  = dom.select_one(\"#articleBodyContents\").text.strip()\n",
    "    with open(\"./News/\" + fileName, \"w\", encoding=\"utf-8\") as f:\n",
    "        f.write(content)\n",
    "        \n",
    "print(\"News Crawling is Saved.. \")"
   ]
  }
 ],
 "metadata": {
  "kernelspec": {
   "display_name": "Python 3",
   "language": "python",
   "name": "python3"
  },
  "language_info": {
   "codemirror_mode": {
    "name": "ipython",
    "version": 3
   },
   "file_extension": ".py",
   "mimetype": "text/x-python",
   "name": "python",
   "nbconvert_exporter": "python",
   "pygments_lexer": "ipython3",
   "version": "3.6.3"
  }
 },
 "nbformat": 4,
 "nbformat_minor": 4
}
