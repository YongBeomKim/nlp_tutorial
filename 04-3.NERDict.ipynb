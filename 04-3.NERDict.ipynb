{
 "cells": [
  {
   "cell_type": "markdown",
   "metadata": {},
   "source": [
    "# **MDX 데이터 분석하기**\n",
    "https://pypi.org/project/mdict-utils/\n",
    "1. **MDX 사전파일을** 활용하여 객체에 구분하기\n",
    "1. 각 사전의 첫번째 의미를 통해서 **NER** 사전 만들기\n",
    "1. 추후에 보완을 해서 wordnet 으로 강화하기\n",
    "\n",
    "## **1 Sqlite3 데이터 불러오기**\n",
    "sqlite3 데이터 불러오기"
   ]
  },
  {
   "cell_type": "code",
   "execution_count": 1,
   "metadata": {},
   "outputs": [
    {
     "data": {
      "text/plain": [
       "['meta', 'mdx']"
      ]
     },
     "execution_count": 1,
     "metadata": {},
     "output_type": "execute_result"
    }
   ],
   "source": [
    "import sqlite3\n",
    "import pandas as pd\n",
    "conn = sqlite3.connect('backup/kordict.db')\n",
    "resp = conn.execute(\"SELECT name FROM sqlite_master WHERE type='table';\")\n",
    "tableNames = [name[0]  for name in resp]\n",
    "tableNames"
   ]
  },
  {
   "cell_type": "code",
   "execution_count": 2,
   "metadata": {},
   "outputs": [
    {
     "name": "stdout",
     "output_type": "stream",
     "text": [
      "516490 ['ᄛ', 'ᄻ', 'ᆐ', 'ㄱ', 'ㄱ', 'ㄱㄴㄷ순', 'ㄱㄴㄷ차례', 'ㄱㄴ순', 'ㄱㄴ차례', 'ㄱ자'] (516490, 2)\n",
      "CPU times: user 1.29 s, sys: 211 ms, total: 1.5 s\n",
      "Wall time: 1.5 s\n"
     ]
    }
   ],
   "source": [
    "%%time\n",
    "# 색인정보 : 51만개의 단어사전 데이터\n",
    "df = pd.read_sql_query(\"SELECT * FROM {}\".format(tableNames[1]), conn)\n",
    "itemIndex = df.entry.values.tolist()\n",
    "itemData  = df.paraphrase.values.tolist()\n",
    "print(len(itemIndex), itemIndex[:10], df.shape)"
   ]
  },
  {
   "cell_type": "markdown",
   "metadata": {},
   "source": [
    "## **2 HTML 태그 제거 및 본문선별**\n",
    "가장 처음 제시된 **Tag 내용과 개념** 정리\n",
    "1. **/font** 태그가 제목 이외에, 세부내용에도 포함됩니다.\n",
    "1. 때문에 이를 무조건 적용하기엔 문제가 있어서 Tag 구조를 명확하게 파악하기\n",
    "1. 우선 구조에 대한 형태를 몇가지로 확인한 뒤 작업을 진행하기"
   ]
  },
  {
   "cell_type": "code",
   "execution_count": 3,
   "metadata": {},
   "outputs": [],
   "source": [
    "# 해당 Token 의 Index 찾기\n",
    "# search_query = \"가지\"  # \"가결\" # \"서버\"  # \"가결\", \"대리인\"\n",
    "def wordData(search_query):\n",
    "    return [no  for no, _ in enumerate(itemIndex)  if _ == search_query]"
   ]
  },
  {
   "cell_type": "code",
   "execution_count": 4,
   "metadata": {},
   "outputs": [],
   "source": [
    "# 텍스트 인덱스의 본문내용 찾기\n",
    "import re\n",
    "def wordDetails(_xmlIdx):\n",
    "    _xml = itemData[_xmlIdx].lower()\n",
    "    regex_html = '<.*?>'                 # html 태그내용만 추출\n",
    "    regex_text = \"<[^>]+>|[^<]+\"         # html 태그 내부의 한글 추출\n",
    "    regex_font = '<font.*?>(.+?)</font>' # html 추출 : font 태그 내용만 추출\n",
    "    r_full = re.findall(regex_text, _xml)\n",
    "    r_html = re.findall(regex_html, _xml) # HTML 태그내용\n",
    "    r_texts =  [_  for _ in r_full  if _ not in r_html]\n",
    "    \n",
    "    # 위 결과를 활용하여 의미별 구분 인덱스 계산\n",
    "    r_cate = re.compile(r'「(.*?)」')\n",
    "    r_num  = re.compile(r'\\d+')\n",
    "    r_txt  = re.compile(r'[·가-힣]+')\n",
    "    _cate, _temp = [], []\n",
    "    \n",
    "    for no, _ in enumerate(r_texts):\n",
    "        _ = \"\".join(r_cate.findall(_))\n",
    "        \n",
    "        if _: # 유효값이 추출된 경우\n",
    "            _temp.append(_) # 유효값 저장객체\n",
    "            _num = r_num.findall(_)\n",
    "            \n",
    "            if _num:  # 숫자값이 추출된 경우\n",
    "                for _t in _temp[::-1]:\n",
    "                    _txt = r_txt.findall(_t)\n",
    "                    if _txt:  _ = _txt[0]\n",
    "            _cate.append((no, _))        \n",
    "    return _cate, r_texts"
   ]
  },
  {
   "cell_type": "code",
   "execution_count": 5,
   "metadata": {},
   "outputs": [],
   "source": [
    "def exportMeans(t_temp, idx_cate):\n",
    "    # 인덱스 값이 추출된 경우\n",
    "    if idx_cate:\n",
    "        _idxno = [_[0]  for _ in idx_cate]\n",
    "        _idxno.append(len(t_temp))\n",
    "\n",
    "        # n-gram 함수를 응용 2개쌍 작업용 주소값 호출\n",
    "        _idxno = [(idx_cate[_][1] ,_idxno[_: _+2]) \n",
    "                   for _ in range(len(_idxno)-1)]\n",
    "\n",
    "        # + 1 : 분류 기준의 제거 (그런데 분류기준에 Text 설명이 포함되기도 함.. ㅜㅜ)\n",
    "        result = []\n",
    "        for _ in _idxno:\n",
    "            _temp = t_temp[_[1][0] : _[1][1]]\n",
    "            _temp = [_.replace(\"「\",\"\").replace(\"」\",\"\") for _ in _temp]\n",
    "            if _temp:  # 동일하면 제외\n",
    "                if (len(_temp) == 1) and (_temp[0] == _[0]): pass\n",
    "                elif (len(_temp) == 1): result.append((_[0], _temp[0]))  \n",
    "                else: result.append((_[0], _temp))\n",
    "        return result\n",
    "    \n",
    "    # 별도 인덱스가 없는 경우 1줄로 모두 출력하기\n",
    "    else:\n",
    "        return [(\"명사\", [\"명사\"] + t_temp)]"
   ]
  },
  {
   "cell_type": "code",
   "execution_count": 6,
   "metadata": {},
   "outputs": [
    {
     "name": "stdout",
     "output_type": "stream",
     "text": [
      "검색결과 : 1 [1244]\n"
     ]
    },
    {
     "data": {
      "text/plain": [
       "[('명사',\n",
       "  ['명사',\n",
       "   '할 수 있거나 될 수 있음.',\n",
       "   '¶ 통화 가능 지역/이 세상엔 가능이 있을 뿐 해서 안 되는 일은 없사옵니다.≪박종화, 전야≫',\n",
       "   '가능-하다(可能--) [가ː---]']),\n",
       " ('형용사',\n",
       "  ['형용사',\n",
       "   '할 수 있거나 될 수 있다.',\n",
       "   '¶ 가능한 모든 수단과 방법을 동원했지만 그를 설득할 수는 없었다./모든 일에 가능한 한 최대의 노력을 기울여야 한다./컴퓨터 통신의 발달로 전 세계 사람들과 정보 교환이 가능하게 되었다.']),\n",
       " ('반', ' 반불능하다.\\r\\n')]"
      ]
     },
     "execution_count": 6,
     "metadata": {},
     "output_type": "execute_result"
    }
   ],
   "source": [
    "s_query = \"가능\"\n",
    "r_xml   = wordData(s_query)\n",
    "print(\"검색결과 :\", len(r_xml), r_xml)\n",
    "r_idx   = wordDetails(r_xml[0])\n",
    "exportMeans(r_idx[1], r_idx[0])"
   ]
  },
  {
   "cell_type": "markdown",
   "metadata": {},
   "source": [
    "## **3 객체의 저장 및 점검**\n",
    "앞의 단일 분류 결과값 저장 및 점검"
   ]
  },
  {
   "cell_type": "code",
   "execution_count": 7,
   "metadata": {},
   "outputs": [
    {
     "name": "stderr",
     "output_type": "stream",
     "text": [
      "100%|██████████| 516490/516490 [00:17<00:00, 29359.02it/s]\n"
     ]
    }
   ],
   "source": [
    "# 메모리와 시간이 생각보다 빠르게 처리됨\n",
    "result = []\n",
    "from tqdm import tqdm\n",
    "nums = len(itemData)\n",
    "for no in tqdm(range(nums)):\n",
    "    r_idx   = wordDetails(no)\n",
    "    result.append(exportMeans(r_idx[1], r_idx[0]))\n",
    "    \n",
    "nerDict = pd.DataFrame()\n",
    "nerDict.insert(0, 'Text', itemIndex)\n",
    "nerDict.insert(1, 'Data', result)"
   ]
  },
  {
   "cell_type": "code",
   "execution_count": null,
   "metadata": {},
   "outputs": [],
   "source": [
    "# 사전중 한글 명사 단어 인덱스 전처리\n",
    "import re\n",
    "itemData   = nerDict.Data.values.tolist()\n",
    "noun_check = [no  for no, _ in enumerate(itemData)  if _[0][0] == \"명사\"]\n",
    "nerDict = nerDict.loc[noun_check].reset_index(drop=True)\n",
    "nerDict.shape"
   ]
  },
  {
   "cell_type": "code",
   "execution_count": null,
   "metadata": {},
   "outputs": [],
   "source": [
    "# 게중 온전한 한글로만 인덱스가 구성된 경우\n",
    "itemIndex = nerDict.Text.values.tolist()\n",
    "noun_check = [no  for no, _ in enumerate(itemIndex)   if \"\".join(re.findall(r\"[가-힣]\",_)) == _]\n",
    "nerDict = nerDict.loc[noun_check].reset_index(drop=True)\n",
    "nerDict.shape"
   ]
  },
  {
   "cell_type": "code",
   "execution_count": 8,
   "metadata": {},
   "outputs": [],
   "source": [
    "import pickle\n",
    "with open('data/nerDict.pk', 'wb') as handle:\n",
    "    pickle.dump(nerDict, handle, protocol=pickle.HIGHEST_PROTOCOL)\n",
    "    \n",
    "# nerDict.to_csv('data/nerDict.csv', index=None)\n",
    "# nerDict.head()    "
   ]
  },
  {
   "cell_type": "code",
   "execution_count": null,
   "metadata": {},
   "outputs": [],
   "source": []
  },
  {
   "cell_type": "code",
   "execution_count": null,
   "metadata": {},
   "outputs": [],
   "source": []
  },
  {
   "cell_type": "code",
   "execution_count": null,
   "metadata": {},
   "outputs": [],
   "source": []
  },
  {
   "cell_type": "code",
   "execution_count": null,
   "metadata": {},
   "outputs": [],
   "source": []
  },
  {
   "cell_type": "code",
   "execution_count": null,
   "metadata": {},
   "outputs": [],
   "source": []
  },
  {
   "cell_type": "code",
   "execution_count": 9,
   "metadata": {},
   "outputs": [
    {
     "name": "stdout",
     "output_type": "stream",
     "text": [
      "검색결과 : 1 [1249]\n"
     ]
    },
    {
     "data": {
      "text/plain": [
       "[('명사',\n",
       "  ['명사',\n",
       "   '가능수력',\n",
       "   '가능^수력(可能水力)',\n",
       "   '『건설』',\n",
       "   '아직 이용하지는 않으나 설비를 하면 이용할 수 있는 물의 힘.\\r\\n'])]"
      ]
     },
     "execution_count": 9,
     "metadata": {},
     "output_type": "execute_result"
    }
   ],
   "source": [
    "s_query = \"가능수력\"\n",
    "r_xml   = wordData(s_query)\n",
    "print(\"검색결과 :\", len(r_xml), r_xml)\n",
    "r_idx   = wordDetails(r_xml[0])\n",
    "exportMeans(r_idx[1], r_idx[0])"
   ]
  },
  {
   "cell_type": "markdown",
   "metadata": {},
   "source": [
    "## **정규표현식 연습하기**\n",
    "Regex Tutorials"
   ]
  },
  {
   "cell_type": "code",
   "execution_count": 11,
   "metadata": {},
   "outputs": [
    {
     "data": {
      "text/plain": [
       "['sales.xls, test.xls']"
      ]
     },
     "execution_count": 11,
     "metadata": {},
     "output_type": "execute_result"
    }
   ],
   "source": [
    "import re\n",
    "re.findall('.+', \"sales.xls, test.xls\")"
   ]
  },
  {
   "cell_type": "code",
   "execution_count": 10,
   "metadata": {},
   "outputs": [
    {
     "data": {
      "text/plain": [
       "['<br>', '<br/>']"
      ]
     },
     "execution_count": 10,
     "metadata": {},
     "output_type": "execute_result"
    }
   ],
   "source": [
    "re.findall('(<br>|<br/>)', \"<br> 텍스트 <br/>\")"
   ]
  },
  {
   "cell_type": "code",
   "execution_count": 12,
   "metadata": {},
   "outputs": [
    {
     "name": "stdout",
     "output_type": "stream",
     "text": [
      "010-1234-1234 park\n"
     ]
    }
   ],
   "source": [
    "import re\n",
    "p = re.compile(r\"(?P<name>\\w+)\\s+(?P<phone>(\\d+)[-]\\d+[-]\\d+)\")\n",
    "print(p.sub(\"\\g<phone> \\g<name>\", \"park 010-1234-1234\"))"
   ]
  },
  {
   "cell_type": "code",
   "execution_count": 13,
   "metadata": {},
   "outputs": [
    {
     "data": {
      "text/plain": [
       "['$23.24', '$69.23']"
      ]
     },
     "execution_count": 13,
     "metadata": {},
     "output_type": "execute_result"
    }
   ],
   "source": [
    "text = \"$23.24  의 가격은 $69.23 까지 상승하였습니다\"\n",
    "p = re.compile(r\"\\$[0-9.]+\")\n",
    "p.findall(text)"
   ]
  }
 ],
 "metadata": {
  "kernelspec": {
   "display_name": "Python 3",
   "language": "python",
   "name": "python3"
  },
  "language_info": {
   "codemirror_mode": {
    "name": "ipython",
    "version": 3
   },
   "file_extension": ".py",
   "mimetype": "text/x-python",
   "name": "python",
   "nbconvert_exporter": "python",
   "pygments_lexer": "ipython3",
   "version": "3.6.3"
  }
 },
 "nbformat": 4,
 "nbformat_minor": 4
}
