{
 "cells": [
  {
   "cell_type": "markdown",
   "metadata": {},
   "source": [
    "# **Working Process**\n",
    "1. 데이터 수집하기\n",
    "1. 수집데이터 전처리 NDBMS\n",
    "1. Token 의 정리 (wordCloud)\n",
    "1. N-Gram 의 정리 (메뉴명 PMI)\n",
    "1. Clustering (군집화 묶기)\n",
    "1. Token 간 관계 분석하기\n",
    "1. 데이터 정리 및 모델링"
   ]
  },
  {
   "cell_type": "markdown",
   "metadata": {},
   "source": [
    "# **메뉴 업데이트용 함수**\n",
    "개별 작업을 구분한 뒤, 모듈로써 작업을 진행하도록 합니다\n",
    "1. **크롤링용** 함수\n",
    "1. 원본과 **비교용** 함수\n",
    "1. **비교 후 합치는** 함수\n",
    "\n",
    "## **1 작업용 함수 만들기**\n",
    "크롤링 및 주소값을 활요한 filtering"
   ]
  },
  {
   "cell_type": "code",
   "execution_count": 1,
   "metadata": {},
   "outputs": [
    {
     "data": {
      "text/plain": [
       "[['/recipe/6917104', '콩국수 ~#'],\n",
       " ['/recipe/6917103', '5분이면 가능한 \"건새우 볶음\"'],\n",
       " ['/recipe/6917102', '간단 참치전~*']]"
      ]
     },
     "execution_count": 1,
     "metadata": {},
     "output_type": "execute_result"
    }
   ],
   "source": [
    "# \"<제목>\" 추출시 lxml 로는 안되더라 왜????\n",
    "import requests, re\n",
    "from bs4 import BeautifulSoup\n",
    "def crawMenuBs4(url_no):\n",
    "    url          = \"http://www.10000recipe.com/recipe/list.html?order=date&page=\"\n",
    "    userAgent    = {\"user-agent\":\"Mozilla/5.0 (X11; Ubuntu; Linux x86_64; rv:61.0) Gecko/20100101 Firefox/61.0\"}\n",
    "    result, resp = [], requests.request('get', url+str(url_no), headers=userAgent, timeout=5)\n",
    "    dom          = BeautifulSoup(resp.text, \"html.parser\") \n",
    "    titles       = dom.find_all(\"h4\", {\"class\":\"ellipsis_title2\"})\n",
    "    titles       = [_.text   for _ in titles]\n",
    "    for _ in dom.find_all(\"div\", {\"class\":\"col-xs-4\"}):\n",
    "        try:\n",
    "            url_href = _.find(\"a\", {\"class\":\"thumbnail\"})[\"href\"]\n",
    "            _title   = _.find(\"h4\", {\"class\":\"ellipsis_title2\"}).text\n",
    "            result.append([url_href, _title])\n",
    "        except: pass\n",
    "    return result\n",
    "        \n",
    "# 결과보기\n",
    "menuList = crawMenuBs4(17)\n",
    "menuList[:3]"
   ]
  },
  {
   "cell_type": "code",
   "execution_count": 2,
   "metadata": {},
   "outputs": [
    {
     "data": {
      "text/plain": [
       "[['/recipe/6917104', '콩국수 ~#'],\n",
       " ['/recipe/6917103', '5분이면 가능한 \"건새우 볶음\"'],\n",
       " ['/recipe/6917102', '간단 참치전~*']]"
      ]
     },
     "execution_count": 2,
     "metadata": {},
     "output_type": "execute_result"
    }
   ],
   "source": [
    "# 파일을 기준으로 결과물 필터링\n",
    "import pandas as pd\n",
    "def crawFileFilter(menuList, files):\n",
    "    df = pd.read_csv(files, header=None)\n",
    "    limitOrg = int(re.findall(r\"\\d+\", df[0][0])[0])\n",
    "    mTemp    = pd.DataFrame(menuList)\n",
    "    mTemp[0] = [int(re.findall(r\"\\d+\", _)[0]) for _ in mTemp[0]]\n",
    "    mTemp    = mTemp[mTemp[0] > limitOrg]\n",
    "    mTemp[0] = [\"/recipe/\"+str(_) for _ in mTemp[0]] # 필터링 결과 url\n",
    "    return mTemp.values.tolist()\n",
    "\n",
    "menuFilter = crawFileFilter(menuList, 'data/foodmenuRaw.csv')\n",
    "menuFilter[:3]"
   ]
  },
  {
   "cell_type": "code",
   "execution_count": null,
   "metadata": {},
   "outputs": [],
   "source": [
    "result = []\n",
    "import time\n",
    "from tqdm import tqdm\n",
    "for i in tqdm(range(1,20)):\n",
    "    menuList   = crawMenuBs4(i)\n",
    "    time.sleep(.7)\n",
    "    menuFilter = crawFileFilter(menuList, 'data/foodmenuRaw.csv')\n",
    "    if len(menuList) != len(menuFilter):\n",
    "        result.extend(menuFilter)\n",
    "        print(\">>> {} limits 작업종료\".format(len(menuFilter)))\n",
    "        break\n",
    "    else:\n",
    "        result.extend(menuList)\n",
    "\n",
    "# menuRaw = pd.read_csv('data/foodmenuRaw.csv', header=None).values.tolist()\n",
    "result[:5]\n",
    "pd.DataFrame(result).to_csv('data/menuNew.csv', index=None, header=None)"
   ]
  },
  {
   "cell_type": "markdown",
   "metadata": {},
   "source": [
    "## **2 자료 합치기**\n",
    "데이터 베이스 통합 및 정렬하기"
   ]
  },
  {
   "cell_type": "code",
   "execution_count": 50,
   "metadata": {},
   "outputs": [
    {
     "data": {
      "text/plain": [
       "(121249,\n",
       " [[6917054,\n",
       "   '재료 Ingredients 계량법 안내 [재료] 베이컨 3줄 양파 1/2개 1공기 굴소스 1/2큰술 맛술 2큰술 2큰술 다진마늘 1/2큰술 쪽파 2뿌리 후춧가루 적당량 참기름 적당량',\n",
       "   '재료준비 - 양파 0.5cm 두께로 썰기(눈대중으로 두툼하게) - 베이컨 2cm 두께로 썰기(8등분) - 쪽파 송송 썰기 - 마른 팬에 다진마늘, 쪽파, 양파, 베이컨 넣어 볶기 - 양파가 투명해지면 맛술, 굴소스, 물 넣어 볶기 - 국물이 자작해지면 후춧가루와 참기름 몇방울 넣어 마무리하기 - 그릇에 밥을 담고 볶은 재료 올려주면 베이컨양파덮밥 완성~!',\n",
       "   '- 후춧가루와 참기름을 넣기 전 간을 보고 부족하면 굴소스 추가, 밥과 비벼먹을거라 조금 짭조롬 해야 돼요. 혹시라도 짠맛이 강하면 설탕을 조금 넣어보세요. 짠맛이 중화 된답니다.'],\n",
       "  [6917053,\n",
       "   '재료 Ingredients 계량법 안내 [재료] 오징어 2마리 빨강파프리카 노랑파프리카 오이 깻잎 고추장 1T 올리고당 1½T 식초 2T 요구르트 2T 통깨 1T',\n",
       "   '오늘 날씨 어마어마 하더라고요. 은행 다녀왔는데 땀이 비 오듯이 줄줄줄... 대단한 날씨였죠? 냉동실에 사다 놓은 오징어로 데쳐서 먹으려고 했다가 좀 신경 쓴 요리처럼 보이게 하려고 채소를 넣어서 썰어봤어요. 이름하여 오징어야채말이입니다. 오징어 2마리 파프리카 (빨강, 노랑), 오이, 깻잎 고추장 1T, 올리고당 1½T, 식초 2T, 요구르트 2T, 통깨 1T 요즘 오징어를 자주 사다 먹고 있어요. 금징어일때 못 사 먹은 거 원 없이 사 먹고 있답니다. 2마리에 6,800원이면 사 먹을 수 있을 정도...^^;;; 오징어야채말이를 하기 위해서 오징어는 반을 갈라서 내장을 빼내고 깨끗하게 씻어주고 껍질은 벗기지 않았어요. 오징어 안쪽으로 칼집을 내주는데 한마리는 채칼로 슥삭슥삭 다른 오징어는 칼로 가로세로 칼집을 크게 넣었어요. 끓는 물에 오징어를 2분 정도 넣고 데치고 물기를 뺐어요. 오이, 파프리카 노랑과 빨강을 준비해서 채 썰어줬어요. 깻잎도 씻어서 대기해주시고요. 칼과 채칼로 모양을 낸 것이 확실히 다르죠? 돌돌 말린 오징어를 펴서 깻잎을 넣고 파프리카와 오이를 넣어주세요. 설명이 맞는 건지... 하하하 ^^;;;; 이해가 안 되신다면 아래에 네이버티비 링크에서 영상으로 확인해주세요. 김밥처럼 썰어주시면 오징어야채말이가 된답니다. 고추장 1T, 식초 2T, 올리고당 1.5T, 요구르트 2T, 통깨 1T를 넣어서 초고추장을 만들었어요. 오징어야채말이를 초고추장에 콕 찍어서 드세요. 오징어야채말이 & 초고추장 그냥 오징어 데친 거보다 채소가 알록달록 들어가니 맛도 있고 모양도 예쁘죠? 오징어야채말이 만들어서 초고추장 콕! 찍어서 드세요.',\n",
       "   'None'],\n",
       "  [6917052,\n",
       "   '재료 Ingredients 계량법 안내 [재료] 돼지갈비 1300g 1/3개 양파 1/2개 당근 1개 대파 1대 고구마 1개 사과 1/2개 마늘 7쪽 쌀뜨물 소주 월계수잎 깨소금 [육수 재료] 갈비 삶은물 4컵 [양념 재료] 진간장 18큰술 설탕 10큰술 후추 1/2큰술 참기름 2큰술',\n",
       "   '준비된 야채는 큼지막하게 썰어주세요 그리고 믹서기 또는 블렌더에 사과 1/2개, 양파 1/2개, 마늘 7쪽(다진마늘 2큰술)과 분량의 양념(진간장 18큰술, 설탕 10큰술, 후추 반 큰술, 참기름2큰술)을 넣고 갈아주세요 돼지갈비는 찬물에 담가 30분 정도 핏물을 빼주세요 ~ (요 작업은 요리하기 전 미리 담가 주시는 게 좋죠 ^^) 이제 냄비에 갈비가 잠길 정도의 물을 붓고 소주 약간과 월계수잎을 넣고 센 불에서 데쳐주세요 삶아진 돼지고기는 채에 받쳐 물기를 제거하고 냄비에 담아 썰어 놓은 야채와 양념도 함께 넣어주세요 육수는 기름기와 불순물을 제거한 돼지갈비 삶은 물 4컵(종이컵 계량)을 부어주세요 ~ 모자라면 물을 추가하셔도 좋아요 ^^ 모든 준비 끝 ㅋ 센 불에서 돼지고기가 익을 때까지 뚜껑 닫고 가열해주세요 돼지고기가 적당히 익으면 양념을 끼얹어 가며 1시간 정도 졸여주세요 (불은 중불 약불 적절히 조절!) 마지막에 대파 넣고 대파가 익을때까지 졸여 주시면 완성이에요 ^^',\n",
       "   'None']])"
      ]
     },
     "execution_count": 50,
     "metadata": {},
     "output_type": "execute_result"
    }
   ],
   "source": [
    "from glob import glob\n",
    "import pandas as pd\n",
    "result   = []\n",
    "filelist = glob('data/foodRecipe_*.csv', recursive=True)\n",
    "for _ in sorted(filelist):\n",
    "    result.extend(pd.read_csv(_, sep=\"|\").values.tolist())\n",
    "len(result),  result[:3]"
   ]
  },
  {
   "cell_type": "code",
   "execution_count": 52,
   "metadata": {},
   "outputs": [],
   "source": [
    "result = pd.DataFrame(result)\n",
    "# result.columns = ['Url','Menu']\n",
    "result.to_csv('foodRecipe.csv', index=None, header=None, sep=\"|\")"
   ]
  },
  {
   "cell_type": "markdown",
   "metadata": {},
   "source": [
    "# **RDBMS 구축하기**\n",
    "## **1 데이터 살펴보기**\n",
    "작업한 내용 살펴보기"
   ]
  },
  {
   "cell_type": "code",
   "execution_count": 1,
   "metadata": {},
   "outputs": [
    {
     "name": "stdout",
     "output_type": "stream",
     "text": [
      "foodRecipe.csv  foodmens.csv  menuNames.txt  menuTitles.txt\n"
     ]
    }
   ],
   "source": [
    "ls data/"
   ]
  },
  {
   "cell_type": "code",
   "execution_count": 21,
   "metadata": {},
   "outputs": [],
   "source": [
    "# Web Page 수집함수\n",
    "import requests\n",
    "from lxml.html import fromstring\n",
    "def crawData(url_menu):\n",
    "    url        = \"http://www.10000recipe.com/recipe/list.html?order=accuracy&page=\"\n",
    "    url        = \"http://www.10000recipe.com/recipe/\"\n",
    "    userAgent  = {\"user-agent\":\"Mozilla/5.0 (X11; Ubuntu; Linux x86_64; rv:61.0) Gecko/20100101 Firefox/61.0\"}\n",
    "    xpath_rcp  = '//div[@id=\"contents_area\"]//div[starts-with(@class,\"cont_ingre\")]//text()'\n",
    "    xpath_c    = '//div[@id=\"contents_area\"]/div[@class=\"view_step\"]/div[starts-with(@id,\"stepDiv\")]//text()'\n",
    "    xpath_cOld = '//div[@id=\"contents_area\"]/div[@class=\"view_step\"]/div[@id=\"oldContArea\"]//text()'\n",
    "    xpath_tip  = '//div[@id=\"contents_area\"]/div[@class=\"view_step\"]//dl[@class=\"view_step_tip\"]//text()'\n",
    "    xpath_name = '//div[@id=\"contents_area\"]/div[@class=\"view2_summary\"]/h3/text()'\n",
    "    urlDetail  = requests.compat.urljoin(url, url_menu)\n",
    "    # urlDetail  = url + str(url_menu)\n",
    "    resp       = requests.request('get', urlDetail, headers=userAgent, timeout=5)\n",
    "    resp_lxml  = fromstring(resp.text)\n",
    "    try:\n",
    "        name = resp_lxml.xpath(xpath_name)  # 레시피 데이터\n",
    "        name = \" \".join([_.strip()    for _ in name if len(_.strip())>1])\n",
    "        recipe = resp_lxml.xpath(xpath_rcp) # 레시피 데이터\n",
    "        recipe = \" \".join([_.strip()  for _ in recipe if len(_.strip())>1])\n",
    "        cooking = resp_lxml.xpath(xpath_c)  # 조리법 크롤링\n",
    "        cooking = \" \".join([_.strip() for _ in cooking if len(_.strip())>1])\n",
    "        if len(cooking) < 5:                # 조리법 크롤링 (old style)\n",
    "            cooking = resp_lxml.xpath(xpath_cOld)\n",
    "            cooking = \" \".join([_.strip() for _ in cooking if len(_.strip())>1])\n",
    "        cookTip = resp_lxml.xpath(xpath_tip)\n",
    "        cookTip = \" \".join([_.strip()  for _ in cookTip if len(_.strip())>1])\n",
    "        if len(cookTip) < 3: cookTip=\"None\"\n",
    "        # url 은 레시피 Url 숫자 저장 (압축)\n",
    "        url_menu = int(\"\".join(re.findall(r'\\d+', url_menu)))\n",
    "        return [url_menu, name, recipe, cooking, cookTip]\n",
    "    except: return None"
   ]
  },
  {
   "cell_type": "markdown",
   "metadata": {},
   "source": [
    "## **2 레시피 데이터 전처리**\n",
    "작업한 내용 살펴보기"
   ]
  },
  {
   "cell_type": "code",
   "execution_count": 11,
   "metadata": {},
   "outputs": [],
   "source": [
    "# import pandas as pd\n",
    "# recipes    = pd.read_csv('data/foodRecipe.csv', sep=\"|\", header=None)\n",
    "# recipes[0] = [int(_)  for _ in recipes[0]] # 문자열 대신 숫자로 모두 변환\n",
    "\n",
    "# # 중복 컬럼 줄이기 : 6917054, 6917053, 6917052, 6917051, 6917050, 6917049\n",
    "# from tqdm import tqdm\n",
    "# result, recipesNo = [], sorted(set(recipes[0]), reverse=True)\n",
    "# for _ in tqdm(recipesNo):\n",
    "#     result.append(recipes[recipes[0] == _].iloc[0,:].values.tolist())\n",
    "# recipes           = pd.DataFrame(result)\n",
    "# recipes.to_csv('recipe.csv', index=None, header=None, sep=\"|\")\n",
    "# recipes.head(2)"
   ]
  },
  {
   "cell_type": "code",
   "execution_count": 1,
   "metadata": {},
   "outputs": [
    {
     "data": {
      "text/html": [
       "<div>\n",
       "<style scoped>\n",
       "    .dataframe tbody tr th:only-of-type {\n",
       "        vertical-align: middle;\n",
       "    }\n",
       "\n",
       "    .dataframe tbody tr th {\n",
       "        vertical-align: top;\n",
       "    }\n",
       "\n",
       "    .dataframe thead th {\n",
       "        text-align: right;\n",
       "    }\n",
       "</style>\n",
       "<table border=\"1\" class=\"dataframe\">\n",
       "  <thead>\n",
       "    <tr style=\"text-align: right;\">\n",
       "      <th></th>\n",
       "      <th>No</th>\n",
       "      <th>Ingre</th>\n",
       "      <th>Recipe</th>\n",
       "      <th>Tips</th>\n",
       "    </tr>\n",
       "  </thead>\n",
       "  <tbody>\n",
       "    <tr>\n",
       "      <th>0</th>\n",
       "      <td>6917054</td>\n",
       "      <td>재료 Ingredients 계량법 안내 [재료] 베이컨 3줄 양파 1/2개 1공기 ...</td>\n",
       "      <td>재료준비 - 양파 0.5cm 두께로 썰기(눈대중으로 두툼하게) - 베이컨 2cm 두...</td>\n",
       "      <td>- 후춧가루와 참기름을 넣기 전 간을 보고 부족하면 굴소스 추가, 밥과 비벼먹을거라...</td>\n",
       "    </tr>\n",
       "    <tr>\n",
       "      <th>1</th>\n",
       "      <td>6917053</td>\n",
       "      <td>재료 Ingredients 계량법 안내 [재료] 오징어 2마리 빨강파프리카 노랑파프...</td>\n",
       "      <td>오늘 날씨 어마어마 하더라고요. 은행 다녀왔는데 땀이 비 오듯이 줄줄줄... 대단한...</td>\n",
       "      <td>None</td>\n",
       "    </tr>\n",
       "  </tbody>\n",
       "</table>\n",
       "</div>"
      ],
      "text/plain": [
       "        No                                              Ingre  \\\n",
       "0  6917054  재료 Ingredients 계량법 안내 [재료] 베이컨 3줄 양파 1/2개 1공기 ...   \n",
       "1  6917053  재료 Ingredients 계량법 안내 [재료] 오징어 2마리 빨강파프리카 노랑파프...   \n",
       "\n",
       "                                              Recipe  \\\n",
       "0  재료준비 - 양파 0.5cm 두께로 썰기(눈대중으로 두툼하게) - 베이컨 2cm 두...   \n",
       "1  오늘 날씨 어마어마 하더라고요. 은행 다녀왔는데 땀이 비 오듯이 줄줄줄... 대단한...   \n",
       "\n",
       "                                                Tips  \n",
       "0  - 후춧가루와 참기름을 넣기 전 간을 보고 부족하면 굴소스 추가, 밥과 비벼먹을거라...  \n",
       "1                                               None  "
      ]
     },
     "execution_count": 1,
     "metadata": {},
     "output_type": "execute_result"
    }
   ],
   "source": [
    "import pandas as pd\n",
    "recipes = pd.read_csv('recipe.csv', sep=\"|\", header=None)\n",
    "recipes.columns   = ['No', 'Ingre', 'Recipe', 'Tips']\n",
    "recipes.head(2)"
   ]
  },
  {
   "cell_type": "code",
   "execution_count": 26,
   "metadata": {},
   "outputs": [
    {
     "name": "stderr",
     "output_type": "stream",
     "text": [
      "100%|██████████| 111250/111250 [01:35<00:00, 1168.64it/s]\n",
      "100%|██████████| 210/210 [02:24<00:00,  1.47it/s]\n"
     ]
    }
   ],
   "source": [
    "import re, time\n",
    "checkNo, err = {}, []\n",
    "menus        = pd.read_csv('data/foodmens.csv', header=None)\n",
    "menus[0]     = [int(re.findall(r\"\\d+\", _)[0])   for _ in menus[0]]\n",
    "\n",
    "from tqdm import tqdm\n",
    "for _ in tqdm(recipes.No):\n",
    "    try: \n",
    "        checkNo[_] = str(menus[menus[0] == _][1].values[0])\n",
    "    except: \n",
    "        err.append(_)\n",
    "\n",
    "for _ in tqdm(err): # 210개 메뉴명이 없음\n",
    "    time.sleep(.5)\n",
    "    checkNo[_] = crawData(\"/recipe/\" + str(_))[1]"
   ]
  },
  {
   "cell_type": "code",
   "execution_count": 28,
   "metadata": {},
   "outputs": [
    {
     "name": "stderr",
     "output_type": "stream",
     "text": [
      "100%|██████████| 111250/111250 [00:00<00:00, 2099614.92it/s]\n"
     ]
    }
   ],
   "source": [
    "index_name = []\n",
    "for _ in tqdm(list(recipes.No)):\n",
    "    index_name.append(checkNo[_])\n",
    "\n",
    "recipes.insert(1,'Menu', index_name)\n",
    "recipes.to_csv('recipeTemp.csv', index=None, sep=\"|\")"
   ]
  },
  {
   "cell_type": "code",
   "execution_count": 35,
   "metadata": {},
   "outputs": [
    {
     "data": {
      "text/html": [
       "<div>\n",
       "<style scoped>\n",
       "    .dataframe tbody tr th:only-of-type {\n",
       "        vertical-align: middle;\n",
       "    }\n",
       "\n",
       "    .dataframe tbody tr th {\n",
       "        vertical-align: top;\n",
       "    }\n",
       "\n",
       "    .dataframe thead th {\n",
       "        text-align: right;\n",
       "    }\n",
       "</style>\n",
       "<table border=\"1\" class=\"dataframe\">\n",
       "  <thead>\n",
       "    <tr style=\"text-align: right;\">\n",
       "      <th></th>\n",
       "      <th>No</th>\n",
       "      <th>Menu</th>\n",
       "      <th>Ingre</th>\n",
       "      <th>Recipe</th>\n",
       "      <th>Tips</th>\n",
       "    </tr>\n",
       "  </thead>\n",
       "  <tbody>\n",
       "    <tr>\n",
       "      <th>0</th>\n",
       "      <td>6917054</td>\n",
       "      <td>베이컨양파덮밥(간단 저녁메뉴)</td>\n",
       "      <td>재료 Ingredients 계량법 안내 [재료] 베이컨 3줄 양파 1/2개 1공기 ...</td>\n",
       "      <td>재료준비 - 양파 0.5cm 두께로 썰기(눈대중으로 두툼하게) - 베이컨 2cm 두...</td>\n",
       "      <td>- 후춧가루와 참기름을 넣기 전 간을 보고 부족하면 굴소스 추가, 밥과 비벼먹을거라...</td>\n",
       "    </tr>\n",
       "    <tr>\n",
       "      <th>1</th>\n",
       "      <td>6917053</td>\n",
       "      <td>오징어야채말이 초고추장 찍어서 냠냠냠</td>\n",
       "      <td>재료 Ingredients 계량법 안내 [재료] 오징어 2마리 빨강파프리카 노랑파프...</td>\n",
       "      <td>오늘 날씨 어마어마 하더라고요. 은행 다녀왔는데 땀이 비 오듯이 줄줄줄... 대단한...</td>\n",
       "      <td>None</td>\n",
       "    </tr>\n",
       "  </tbody>\n",
       "</table>\n",
       "</div>"
      ],
      "text/plain": [
       "        No                  Menu  \\\n",
       "0  6917054      베이컨양파덮밥(간단 저녁메뉴)   \n",
       "1  6917053  오징어야채말이 초고추장 찍어서 냠냠냠   \n",
       "\n",
       "                                               Ingre  \\\n",
       "0  재료 Ingredients 계량법 안내 [재료] 베이컨 3줄 양파 1/2개 1공기 ...   \n",
       "1  재료 Ingredients 계량법 안내 [재료] 오징어 2마리 빨강파프리카 노랑파프...   \n",
       "\n",
       "                                              Recipe  \\\n",
       "0  재료준비 - 양파 0.5cm 두께로 썰기(눈대중으로 두툼하게) - 베이컨 2cm 두...   \n",
       "1  오늘 날씨 어마어마 하더라고요. 은행 다녀왔는데 땀이 비 오듯이 줄줄줄... 대단한...   \n",
       "\n",
       "                                                Tips  \n",
       "0  - 후춧가루와 참기름을 넣기 전 간을 보고 부족하면 굴소스 추가, 밥과 비벼먹을거라...  \n",
       "1                                               None  "
      ]
     },
     "execution_count": 35,
     "metadata": {},
     "output_type": "execute_result"
    }
   ],
   "source": [
    "recipes.head(2)"
   ]
  },
  {
   "cell_type": "markdown",
   "metadata": {},
   "source": [
    "## **3 레시피 덧붙이기**\n",
    "작업한 내용 살펴보기"
   ]
  },
  {
   "cell_type": "code",
   "execution_count": 53,
   "metadata": {},
   "outputs": [
    {
     "data": {
      "text/html": [
       "<div>\n",
       "<style scoped>\n",
       "    .dataframe tbody tr th:only-of-type {\n",
       "        vertical-align: middle;\n",
       "    }\n",
       "\n",
       "    .dataframe tbody tr th {\n",
       "        vertical-align: top;\n",
       "    }\n",
       "\n",
       "    .dataframe thead th {\n",
       "        text-align: right;\n",
       "    }\n",
       "</style>\n",
       "<table border=\"1\" class=\"dataframe\">\n",
       "  <thead>\n",
       "    <tr style=\"text-align: right;\">\n",
       "      <th></th>\n",
       "      <th>No</th>\n",
       "      <th>Menu</th>\n",
       "      <th>Ingre</th>\n",
       "      <th>Recipe</th>\n",
       "      <th>Tips</th>\n",
       "    </tr>\n",
       "  </thead>\n",
       "  <tbody>\n",
       "    <tr>\n",
       "      <th>0</th>\n",
       "      <td>6917054</td>\n",
       "      <td>베이컨양파덮밥(간단 저녁메뉴)</td>\n",
       "      <td>재료 Ingredients 계량법 안내 [재료] 베이컨 3줄 양파 1/2개 1공기 ...</td>\n",
       "      <td>재료준비 - 양파 0.5cm 두께로 썰기(눈대중으로 두툼하게) - 베이컨 2cm 두...</td>\n",
       "      <td>- 후춧가루와 참기름을 넣기 전 간을 보고 부족하면 굴소스 추가, 밥과 비벼먹을거라...</td>\n",
       "    </tr>\n",
       "    <tr>\n",
       "      <th>1</th>\n",
       "      <td>6917053</td>\n",
       "      <td>오징어야채말이 초고추장 찍어서 냠냠냠</td>\n",
       "      <td>재료 Ingredients 계량법 안내 [재료] 오징어 2마리 빨강파프리카 노랑파프...</td>\n",
       "      <td>오늘 날씨 어마어마 하더라고요. 은행 다녀왔는데 땀이 비 오듯이 줄줄줄... 대단한...</td>\n",
       "      <td>None</td>\n",
       "    </tr>\n",
       "  </tbody>\n",
       "</table>\n",
       "</div>"
      ],
      "text/plain": [
       "        No                  Menu  \\\n",
       "0  6917054      베이컨양파덮밥(간단 저녁메뉴)   \n",
       "1  6917053  오징어야채말이 초고추장 찍어서 냠냠냠   \n",
       "\n",
       "                                               Ingre  \\\n",
       "0  재료 Ingredients 계량법 안내 [재료] 베이컨 3줄 양파 1/2개 1공기 ...   \n",
       "1  재료 Ingredients 계량법 안내 [재료] 오징어 2마리 빨강파프리카 노랑파프...   \n",
       "\n",
       "                                              Recipe  \\\n",
       "0  재료준비 - 양파 0.5cm 두께로 썰기(눈대중으로 두툼하게) - 베이컨 2cm 두...   \n",
       "1  오늘 날씨 어마어마 하더라고요. 은행 다녀왔는데 땀이 비 오듯이 줄줄줄... 대단한...   \n",
       "\n",
       "                                                Tips  \n",
       "0  - 후춧가루와 참기름을 넣기 전 간을 보고 부족하면 굴소스 추가, 밥과 비벼먹을거라...  \n",
       "1                                               None  "
      ]
     },
     "execution_count": 53,
     "metadata": {},
     "output_type": "execute_result"
    }
   ],
   "source": [
    "import pandas as pd\n",
    "recipes = pd.read_csv('recipeTemp.csv', sep=\"|\")\n",
    "recipes.head(2)"
   ]
  },
  {
   "cell_type": "code",
   "execution_count": 59,
   "metadata": {},
   "outputs": [
    {
     "data": {
      "text/html": [
       "<div>\n",
       "<style scoped>\n",
       "    .dataframe tbody tr th:only-of-type {\n",
       "        vertical-align: middle;\n",
       "    }\n",
       "\n",
       "    .dataframe tbody tr th {\n",
       "        vertical-align: top;\n",
       "    }\n",
       "\n",
       "    .dataframe thead th {\n",
       "        text-align: right;\n",
       "    }\n",
       "</style>\n",
       "<table border=\"1\" class=\"dataframe\">\n",
       "  <thead>\n",
       "    <tr style=\"text-align: right;\">\n",
       "      <th></th>\n",
       "      <th>No</th>\n",
       "      <th>Menu</th>\n",
       "    </tr>\n",
       "  </thead>\n",
       "  <tbody>\n",
       "    <tr>\n",
       "      <th>0</th>\n",
       "      <td>6917400</td>\n",
       "      <td>호불호 없는 토마토파스타는 역시 ~! 토마토냉파스타 ★</td>\n",
       "    </tr>\n",
       "    <tr>\n",
       "      <th>1</th>\n",
       "      <td>6917398</td>\n",
       "      <td>달콤 촉촉 달걀 푸딩 만들기, 만드는 법 ( 부드러운 달걀 요리 기본 원리 )</td>\n",
       "    </tr>\n",
       "  </tbody>\n",
       "</table>\n",
       "</div>"
      ],
      "text/plain": [
       "        No                                         Menu\n",
       "0  6917400               호불호 없는 토마토파스타는 역시 ~! 토마토냉파스타 ★\n",
       "1  6917398  달콤 촉촉 달걀 푸딩 만들기, 만드는 법 ( 부드러운 달걀 요리 기본 원리 )"
      ]
     },
     "execution_count": 59,
     "metadata": {},
     "output_type": "execute_result"
    }
   ],
   "source": [
    "menus = pd.read_csv('data/foodmenus.csv', header=None)\n",
    "menus.columns = ['No', 'Menu']\n",
    "menus.No = [int(re.findall(r\"\\d+\", _)[0])  for _ in menus.No]\n",
    "menus.head(2)"
   ]
  },
  {
   "cell_type": "code",
   "execution_count": 58,
   "metadata": {},
   "outputs": [
    {
     "data": {
      "text/plain": [
       "(122038, 111250, 10788)"
      ]
     },
     "execution_count": 58,
     "metadata": {},
     "output_type": "execute_result"
    }
   ],
   "source": [
    "menus.shape[0], len(set(menus.No)), recipes.shape[0], (menus.shape[0] - recipes.shape[0])"
   ]
  },
  {
   "cell_type": "code",
   "execution_count": 62,
   "metadata": {},
   "outputs": [
    {
     "name": "stderr",
     "output_type": "stream",
     "text": [
      "100%|██████████| 122038/122038 [01:35<00:00, 1272.66it/s]\n"
     ]
    }
   ],
   "source": [
    "err = []\n",
    "for _ in tqdm(menus.No):\n",
    "    if recipes[recipes.No == _].shape[0] == 0:\n",
    "        err.append(_)"
   ]
  },
  {
   "cell_type": "code",
   "execution_count": 65,
   "metadata": {},
   "outputs": [
    {
     "data": {
      "text/plain": [
       "(10995, [6917400, 6917398, 6917397, 6917396, 6917395])"
      ]
     },
     "execution_count": 65,
     "metadata": {},
     "output_type": "execute_result"
    }
   ],
   "source": [
    "len(err), err[:5]"
   ]
  },
  {
   "cell_type": "code",
   "execution_count": 86,
   "metadata": {},
   "outputs": [
    {
     "data": {
      "text/html": [
       "<div>\n",
       "<style scoped>\n",
       "    .dataframe tbody tr th:only-of-type {\n",
       "        vertical-align: middle;\n",
       "    }\n",
       "\n",
       "    .dataframe tbody tr th {\n",
       "        vertical-align: top;\n",
       "    }\n",
       "\n",
       "    .dataframe thead th {\n",
       "        text-align: right;\n",
       "    }\n",
       "</style>\n",
       "<table border=\"1\" class=\"dataframe\">\n",
       "  <thead>\n",
       "    <tr style=\"text-align: right;\">\n",
       "      <th></th>\n",
       "      <th>No</th>\n",
       "      <th>Menu</th>\n",
       "    </tr>\n",
       "  </thead>\n",
       "  <tbody>\n",
       "    <tr>\n",
       "      <th>0</th>\n",
       "      <td>/recipe/6917400</td>\n",
       "      <td>호불호 없는 토마토파스타는 역시 ~! 토마토냉파스타 ★</td>\n",
       "    </tr>\n",
       "    <tr>\n",
       "      <th>1</th>\n",
       "      <td>/recipe/6917398</td>\n",
       "      <td>달콤 촉촉 달걀 푸딩 만들기, 만드는 법 ( 부드러운 달걀 요리 기본 원리 )</td>\n",
       "    </tr>\n",
       "    <tr>\n",
       "      <th>2</th>\n",
       "      <td>/recipe/6917397</td>\n",
       "      <td>손이가요 손이가~~자꾸 손이 가는 [가지전]</td>\n",
       "    </tr>\n",
       "  </tbody>\n",
       "</table>\n",
       "</div>"
      ],
      "text/plain": [
       "                No                                         Menu\n",
       "0  /recipe/6917400               호불호 없는 토마토파스타는 역시 ~! 토마토냉파스타 ★\n",
       "1  /recipe/6917398  달콤 촉촉 달걀 푸딩 만들기, 만드는 법 ( 부드러운 달걀 요리 기본 원리 )\n",
       "2  /recipe/6917397                     손이가요 손이가~~자꾸 손이 가는 [가지전]"
      ]
     },
     "execution_count": 86,
     "metadata": {},
     "output_type": "execute_result"
    }
   ],
   "source": [
    "errIndex = [menus[menus.No == _].index.values[0]  for _ in err]\n",
    "menuErr  = menus.loc[errIndex]\n",
    "menuErr.No = [\"/recipe/\" + str(_)  for _ in menuErr.No]\n",
    "menuErr.head(3)"
   ]
  },
  {
   "cell_type": "code",
   "execution_count": 87,
   "metadata": {},
   "outputs": [],
   "source": [
    "menuErr.to_csv('menuErrNew.csv',index=None, header=None)"
   ]
  },
  {
   "cell_type": "code",
   "execution_count": 69,
   "metadata": {},
   "outputs": [],
   "source": [
    "# result = []\n",
    "# for _ in tqdm(err): # 10995 개 메뉴명이 없음\n",
    "#     time.sleep(.5)\n",
    "#     result.append(crawData(\"/recipe/\" + str(_)))"
   ]
  },
  {
   "cell_type": "code",
   "execution_count": null,
   "metadata": {},
   "outputs": [],
   "source": []
  },
  {
   "cell_type": "code",
   "execution_count": null,
   "metadata": {},
   "outputs": [],
   "source": []
  },
  {
   "cell_type": "code",
   "execution_count": 70,
   "metadata": {},
   "outputs": [
    {
     "ename": "ValueError",
     "evalue": "Lengths must match to compare",
     "output_type": "error",
     "traceback": [
      "\u001b[0;31m---------------------------------------------------------------------------\u001b[0m",
      "\u001b[0;31mValueError\u001b[0m                                Traceback (most recent call last)",
      "\u001b[0;32m<ipython-input-70-631ce5159fcb>\u001b[0m in \u001b[0;36m<module>\u001b[0;34m\u001b[0m\n\u001b[0;32m----> 1\u001b[0;31m \u001b[0mmenus\u001b[0m\u001b[0;34m[\u001b[0m\u001b[0mmenus\u001b[0m\u001b[0;34m.\u001b[0m\u001b[0mNo\u001b[0m \u001b[0;34m==\u001b[0m \u001b[0merr\u001b[0m\u001b[0;34m]\u001b[0m\u001b[0;34m\u001b[0m\u001b[0m\n\u001b[0m",
      "\u001b[0;32m~/Python/nltk/lib/python3.6/site-packages/pandas/core/ops/__init__.py\u001b[0m in \u001b[0;36mwrapper\u001b[0;34m(self, other, axis)\u001b[0m\n\u001b[1;32m   1205\u001b[0m             \u001b[0;31m# as it will broadcast\u001b[0m\u001b[0;34m\u001b[0m\u001b[0;34m\u001b[0m\u001b[0m\n\u001b[1;32m   1206\u001b[0m             \u001b[0;32mif\u001b[0m \u001b[0mother\u001b[0m\u001b[0;34m.\u001b[0m\u001b[0mndim\u001b[0m \u001b[0;34m!=\u001b[0m \u001b[0;36m0\u001b[0m \u001b[0;32mand\u001b[0m \u001b[0mlen\u001b[0m\u001b[0;34m(\u001b[0m\u001b[0mself\u001b[0m\u001b[0;34m)\u001b[0m \u001b[0;34m!=\u001b[0m \u001b[0mlen\u001b[0m\u001b[0;34m(\u001b[0m\u001b[0mother\u001b[0m\u001b[0;34m)\u001b[0m\u001b[0;34m:\u001b[0m\u001b[0;34m\u001b[0m\u001b[0m\n\u001b[0;32m-> 1207\u001b[0;31m                 \u001b[0;32mraise\u001b[0m \u001b[0mValueError\u001b[0m\u001b[0;34m(\u001b[0m\u001b[0;34m\"Lengths must match to compare\"\u001b[0m\u001b[0;34m)\u001b[0m\u001b[0;34m\u001b[0m\u001b[0m\n\u001b[0m\u001b[1;32m   1208\u001b[0m \u001b[0;34m\u001b[0m\u001b[0m\n\u001b[1;32m   1209\u001b[0m             \u001b[0mres_values\u001b[0m \u001b[0;34m=\u001b[0m \u001b[0mna_op\u001b[0m\u001b[0;34m(\u001b[0m\u001b[0mself\u001b[0m\u001b[0;34m.\u001b[0m\u001b[0mvalues\u001b[0m\u001b[0;34m,\u001b[0m \u001b[0mnp\u001b[0m\u001b[0;34m.\u001b[0m\u001b[0masarray\u001b[0m\u001b[0;34m(\u001b[0m\u001b[0mother\u001b[0m\u001b[0;34m)\u001b[0m\u001b[0;34m)\u001b[0m\u001b[0;34m\u001b[0m\u001b[0m\n",
      "\u001b[0;31mValueError\u001b[0m: Lengths must match to compare"
     ]
    }
   ],
   "source": [
    "menus.iloc[]"
   ]
  },
  {
   "cell_type": "code",
   "execution_count": null,
   "metadata": {},
   "outputs": [],
   "source": []
  },
  {
   "cell_type": "code",
   "execution_count": null,
   "metadata": {},
   "outputs": [],
   "source": []
  }
 ],
 "metadata": {
  "kernelspec": {
   "display_name": "Python 3",
   "language": "python",
   "name": "python3"
  },
  "language_info": {
   "codemirror_mode": {
    "name": "ipython",
    "version": 3
   },
   "file_extension": ".py",
   "mimetype": "text/x-python",
   "name": "python",
   "nbconvert_exporter": "python",
   "pygments_lexer": "ipython3",
   "version": "3.6.3"
  }
 },
 "nbformat": 4,
 "nbformat_minor": 4
}
