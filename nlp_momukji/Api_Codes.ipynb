{
 "cells": [
  {
   "cell_type": "markdown",
   "metadata": {},
   "source": [
    "# **행정 및 식품코드 분류기준 정의**\n",
    "**식품 및 행정분류 코드들 수집 및 규칙/ [저작권 주의](http://www.kns.or.kr/News/Notice_View.asp?idx=697) 만들기**\n",
    "1. **[행정코드 : https://www.code.go.kr/intro/StdCodeword.do](https://www.code.go.kr/intro/StdCodeword.do)**\n",
    "1. **[식품분류코드 : https://www.code.go.kr/stdcode/itemCodeL.do](https://www.code.go.kr/stdcode/itemCodeL.do)**\n",
    "1. **[식품코드 조회 : http://kof-agri.com/FoodKind/Details/C0121050100000#](http://kof-agri.com/FoodKind/Details/C0121050100000#)**\n",
    "1. **[농림축산물 품목분류 : https://www.atfis.or.kr/](https://www.atfis.or.kr/contents/M004020400/view.do)**\n",
    "1. **[농수축산물 표준코드 : DATA.go.kr](https://www.data.go.kr/information/QNA_0000000000017572/qna.do)**\n",
    "1. **[음식 이미지 다운로드 : http://www.aihub.or.kr](http://www.aihub.or.kr/content/140)**"
   ]
  },
  {
   "cell_type": "markdown",
   "metadata": {},
   "source": [
    "## **CAN pro 5.0 기준**\n",
    "분류기준표    \n",
    "\n",
    "1. 밥, 죽, 면 \n",
    "1. 국, 탕류, 찌개류\n",
    "1. 찜, 구이, 조림, 볶음\n",
    "1. 전, 부침, 튀김, 만두\n",
    "1. 김치, 나물, 무침, 회, 젓갈, 장아찌, 양념 \n",
    "1. 떡, 과일, 유제품, 음료, 주류, 기타"
   ]
  },
  {
   "cell_type": "markdown",
   "metadata": {},
   "source": [
    "## **1 식재료 데이터 정리**\n",
    "**실시간 수집목록을** 대상으로 분류구분 적용\n",
    "1. 가격용 테이블에 대분류 추가하기"
   ]
  },
  {
   "cell_type": "code",
   "execution_count": 1,
   "metadata": {},
   "outputs": [
    {
     "data": {
      "text/html": [
       "<div>\n",
       "<style scoped>\n",
       "    .dataframe tbody tr th:only-of-type {\n",
       "        vertical-align: middle;\n",
       "    }\n",
       "\n",
       "    .dataframe tbody tr th {\n",
       "        vertical-align: top;\n",
       "    }\n",
       "\n",
       "    .dataframe thead th {\n",
       "        text-align: right;\n",
       "    }\n",
       "</style>\n",
       "<table border=\"1\" class=\"dataframe\">\n",
       "  <thead>\n",
       "    <tr style=\"text-align: right;\">\n",
       "      <th></th>\n",
       "      <th>item_name</th>\n",
       "      <th>item_code</th>\n",
       "      <th>kind_name</th>\n",
       "      <th>kind_code</th>\n",
       "      <th>rank</th>\n",
       "      <th>rank_code</th>\n",
       "      <th>unit</th>\n",
       "      <th>day1</th>\n",
       "      <th>dpr1</th>\n",
       "      <th>day2</th>\n",
       "      <th>...</th>\n",
       "      <th>day3</th>\n",
       "      <th>dpr3</th>\n",
       "      <th>day4</th>\n",
       "      <th>dpr4</th>\n",
       "      <th>day5</th>\n",
       "      <th>dpr5</th>\n",
       "      <th>day6</th>\n",
       "      <th>dpr6</th>\n",
       "      <th>day7</th>\n",
       "      <th>dpr7</th>\n",
       "    </tr>\n",
       "  </thead>\n",
       "  <tbody>\n",
       "    <tr>\n",
       "      <th>0</th>\n",
       "      <td>쌀</td>\n",
       "      <td>111</td>\n",
       "      <td>일반계(20kg)</td>\n",
       "      <td>1</td>\n",
       "      <td>상품</td>\n",
       "      <td>4</td>\n",
       "      <td>20kg</td>\n",
       "      <td>당일 (12/16)</td>\n",
       "      <td>-</td>\n",
       "      <td>1일전 (12/15)</td>\n",
       "      <td>...</td>\n",
       "      <td>1주일전 (12/09)</td>\n",
       "      <td>51,663</td>\n",
       "      <td>2주일전 (12/02)</td>\n",
       "      <td>51,525</td>\n",
       "      <td>1개월전</td>\n",
       "      <td>51,305</td>\n",
       "      <td>1년전</td>\n",
       "      <td>52,999</td>\n",
       "      <td>일평년</td>\n",
       "      <td>43,677</td>\n",
       "    </tr>\n",
       "    <tr>\n",
       "      <th>1</th>\n",
       "      <td>찹쌀</td>\n",
       "      <td>112</td>\n",
       "      <td>일반계(1kg)</td>\n",
       "      <td>1</td>\n",
       "      <td>상품</td>\n",
       "      <td>4</td>\n",
       "      <td>1kg</td>\n",
       "      <td>당일 (12/16)</td>\n",
       "      <td>-</td>\n",
       "      <td>1일전 (12/15)</td>\n",
       "      <td>...</td>\n",
       "      <td>1주일전 (12/09)</td>\n",
       "      <td>4,415</td>\n",
       "      <td>2주일전 (12/02)</td>\n",
       "      <td>4,390</td>\n",
       "      <td>1개월전</td>\n",
       "      <td>4,551</td>\n",
       "      <td>1년전</td>\n",
       "      <td>4,578</td>\n",
       "      <td>일평년</td>\n",
       "      <td>4,180</td>\n",
       "    </tr>\n",
       "  </tbody>\n",
       "</table>\n",
       "<p>2 rows × 21 columns</p>\n",
       "</div>"
      ],
      "text/plain": [
       "  item_name  item_code  kind_name  kind_code rank  rank_code  unit  \\\n",
       "0         쌀        111  일반계(20kg)          1   상품          4  20kg   \n",
       "1        찹쌀        112   일반계(1kg)          1   상품          4   1kg   \n",
       "\n",
       "         day1 dpr1         day2  ...          day3    dpr3          day4  \\\n",
       "0  당일 (12/16)    -  1일전 (12/15)  ...  1주일전 (12/09)  51,663  2주일전 (12/02)   \n",
       "1  당일 (12/16)    -  1일전 (12/15)  ...  1주일전 (12/09)   4,415  2주일전 (12/02)   \n",
       "\n",
       "     dpr4  day5    dpr5 day6    dpr6 day7    dpr7  \n",
       "0  51,525  1개월전  51,305  1년전  52,999  일평년  43,677  \n",
       "1   4,390  1개월전   4,551  1년전   4,578  일평년   4,180  \n",
       "\n",
       "[2 rows x 21 columns]"
      ]
     },
     "execution_count": 1,
     "metadata": {},
     "output_type": "execute_result"
    }
   ],
   "source": [
    "import pandas as pd\n",
    "df_price = pd.read_csv('data/food_price_today.csv')\n",
    "df_price.head(2)"
   ]
  },
  {
   "cell_type": "code",
   "execution_count": 9,
   "metadata": {},
   "outputs": [
    {
     "data": {
      "text/html": [
       "<div>\n",
       "<style scoped>\n",
       "    .dataframe tbody tr th:only-of-type {\n",
       "        vertical-align: middle;\n",
       "    }\n",
       "\n",
       "    .dataframe tbody tr th {\n",
       "        vertical-align: top;\n",
       "    }\n",
       "\n",
       "    .dataframe thead th {\n",
       "        text-align: right;\n",
       "    }\n",
       "</style>\n",
       "<table border=\"1\" class=\"dataframe\">\n",
       "  <thead>\n",
       "    <tr style=\"text-align: right;\">\n",
       "      <th></th>\n",
       "      <th>item_name</th>\n",
       "      <th>item_code</th>\n",
       "      <th>kind_name</th>\n",
       "      <th>kind_code</th>\n",
       "      <th>rank</th>\n",
       "      <th>rank_code</th>\n",
       "      <th>unit</th>\n",
       "      <th>day1</th>\n",
       "      <th>dpr1</th>\n",
       "      <th>day2</th>\n",
       "      <th>...</th>\n",
       "      <th>day3</th>\n",
       "      <th>dpr3</th>\n",
       "      <th>day4</th>\n",
       "      <th>dpr4</th>\n",
       "      <th>day5</th>\n",
       "      <th>dpr5</th>\n",
       "      <th>day6</th>\n",
       "      <th>dpr6</th>\n",
       "      <th>day7</th>\n",
       "      <th>dpr7</th>\n",
       "    </tr>\n",
       "  </thead>\n",
       "  <tbody>\n",
       "    <tr>\n",
       "      <th>295</th>\n",
       "      <td>김</td>\n",
       "      <td>641</td>\n",
       "      <td>마른김(1속)</td>\n",
       "      <td>00</td>\n",
       "      <td>중품</td>\n",
       "      <td>05</td>\n",
       "      <td>1속</td>\n",
       "      <td>당일 (01/16)</td>\n",
       "      <td>-</td>\n",
       "      <td>1일전 (01/15)</td>\n",
       "      <td>...</td>\n",
       "      <td>1주일전 (01/09)</td>\n",
       "      <td>6,000</td>\n",
       "      <td>2주일전 (01/02)</td>\n",
       "      <td>6,000</td>\n",
       "      <td>1개월전</td>\n",
       "      <td>6,000</td>\n",
       "      <td>1년전</td>\n",
       "      <td>6,000</td>\n",
       "      <td>일평년</td>\n",
       "      <td>5,477</td>\n",
       "    </tr>\n",
       "    <tr>\n",
       "      <th>296</th>\n",
       "      <td>건미역</td>\n",
       "      <td>642</td>\n",
       "      <td>건미역(1kg)</td>\n",
       "      <td>00</td>\n",
       "      <td>상품</td>\n",
       "      <td>04</td>\n",
       "      <td>1kg</td>\n",
       "      <td>당일 (01/16)</td>\n",
       "      <td>-</td>\n",
       "      <td>1일전 (01/15)</td>\n",
       "      <td>...</td>\n",
       "      <td>1주일전 (01/09)</td>\n",
       "      <td>10,000</td>\n",
       "      <td>2주일전 (01/02)</td>\n",
       "      <td>10,000</td>\n",
       "      <td>1개월전</td>\n",
       "      <td>10,000</td>\n",
       "      <td>1년전</td>\n",
       "      <td>10,000</td>\n",
       "      <td>일평년</td>\n",
       "      <td>11,000</td>\n",
       "    </tr>\n",
       "    <tr>\n",
       "      <th>297</th>\n",
       "      <td>굴</td>\n",
       "      <td>644</td>\n",
       "      <td>굴(1kg)</td>\n",
       "      <td>00</td>\n",
       "      <td>상품</td>\n",
       "      <td>04</td>\n",
       "      <td>1kg</td>\n",
       "      <td>당일 (01/16)</td>\n",
       "      <td>-</td>\n",
       "      <td>1일전 (01/15)</td>\n",
       "      <td>...</td>\n",
       "      <td>1주일전 (01/09)</td>\n",
       "      <td>9,000</td>\n",
       "      <td>2주일전 (01/02)</td>\n",
       "      <td>14,000</td>\n",
       "      <td>1개월전</td>\n",
       "      <td>13,000</td>\n",
       "      <td>1년전</td>\n",
       "      <td>10,000</td>\n",
       "      <td>일평년</td>\n",
       "      <td>8,600</td>\n",
       "    </tr>\n",
       "    <tr>\n",
       "      <th>298</th>\n",
       "      <td>전복</td>\n",
       "      <td>653</td>\n",
       "      <td>전복(1kg)</td>\n",
       "      <td>00</td>\n",
       "      <td>중품</td>\n",
       "      <td>05</td>\n",
       "      <td>1kg</td>\n",
       "      <td>당일 (01/16)</td>\n",
       "      <td>-</td>\n",
       "      <td>1일전 (01/15)</td>\n",
       "      <td>...</td>\n",
       "      <td>1주일전 (01/09)</td>\n",
       "      <td>35,000</td>\n",
       "      <td>2주일전 (01/02)</td>\n",
       "      <td>35,000</td>\n",
       "      <td>1개월전</td>\n",
       "      <td>33,000</td>\n",
       "      <td>1년전</td>\n",
       "      <td>33,000</td>\n",
       "      <td>일평년</td>\n",
       "      <td>35,667</td>\n",
       "    </tr>\n",
       "    <tr>\n",
       "      <th>299</th>\n",
       "      <td>새우</td>\n",
       "      <td>654</td>\n",
       "      <td>흰다리(수입)(2kg)</td>\n",
       "      <td>01</td>\n",
       "      <td>중품</td>\n",
       "      <td>05</td>\n",
       "      <td>2kg</td>\n",
       "      <td>당일 (01/16)</td>\n",
       "      <td>-</td>\n",
       "      <td>1일전 (01/15)</td>\n",
       "      <td>...</td>\n",
       "      <td>1주일전 (01/09)</td>\n",
       "      <td>24,000</td>\n",
       "      <td>2주일전 (01/02)</td>\n",
       "      <td>24,000</td>\n",
       "      <td>1개월전</td>\n",
       "      <td>24,000</td>\n",
       "      <td>1년전</td>\n",
       "      <td>26,300</td>\n",
       "      <td>일평년</td>\n",
       "      <td>27,100</td>\n",
       "    </tr>\n",
       "  </tbody>\n",
       "</table>\n",
       "<p>5 rows × 21 columns</p>\n",
       "</div>"
      ],
      "text/plain": [
       "    item_name item_code     kind_name kind_code rank rank_code unit  \\\n",
       "295         김       641       마른김(1속)        00   중품        05   1속   \n",
       "296       건미역       642      건미역(1kg)        00   상품        04  1kg   \n",
       "297         굴       644        굴(1kg)        00   상품        04  1kg   \n",
       "298        전복       653       전복(1kg)        00   중품        05  1kg   \n",
       "299        새우       654  흰다리(수입)(2kg)        01   중품        05  2kg   \n",
       "\n",
       "           day1 dpr1         day2  ...          day3    dpr3          day4  \\\n",
       "295  당일 (01/16)    -  1일전 (01/15)  ...  1주일전 (01/09)   6,000  2주일전 (01/02)   \n",
       "296  당일 (01/16)    -  1일전 (01/15)  ...  1주일전 (01/09)  10,000  2주일전 (01/02)   \n",
       "297  당일 (01/16)    -  1일전 (01/15)  ...  1주일전 (01/09)   9,000  2주일전 (01/02)   \n",
       "298  당일 (01/16)    -  1일전 (01/15)  ...  1주일전 (01/09)  35,000  2주일전 (01/02)   \n",
       "299  당일 (01/16)    -  1일전 (01/15)  ...  1주일전 (01/09)  24,000  2주일전 (01/02)   \n",
       "\n",
       "       dpr4  day5    dpr5 day6    dpr6 day7    dpr7  \n",
       "295   6,000  1개월전   6,000  1년전   6,000  일평년   5,477  \n",
       "296  10,000  1개월전  10,000  1년전  10,000  일평년  11,000  \n",
       "297  14,000  1개월전  13,000  1년전  10,000  일평년   8,600  \n",
       "298  35,000  1개월전  33,000  1년전  33,000  일평년  35,667  \n",
       "299  24,000  1개월전  24,000  1년전  26,300  일평년  27,100  \n",
       "\n",
       "[5 rows x 21 columns]"
      ]
     },
     "execution_count": 9,
     "metadata": {},
     "output_type": "execute_result"
    }
   ],
   "source": [
    "df_today.tail()"
   ]
  },
  {
   "cell_type": "code",
   "execution_count": null,
   "metadata": {},
   "outputs": [],
   "source": []
  },
  {
   "cell_type": "code",
   "execution_count": null,
   "metadata": {},
   "outputs": [],
   "source": []
  },
  {
   "cell_type": "code",
   "execution_count": 3,
   "metadata": {},
   "outputs": [
    {
     "name": "stdout",
     "output_type": "stream",
     "text": [
      "1:미곡류, 2:맥류, 3:두류, 4:잡곡류, 5:서류, 6:과실류, 7:수실류, 8:과일과채류, 9:과채류, 10:엽경채류, 11:근채류, 12:조미채소류, 13:양채류, 14:산채류, 15:농산물종자류, 16:특용작물류, 17:버섯류, 18:인삼류, 19:약용작물류, 20:화목류, 21:초화류, 22:난류, 23:선인장/다육식물류, 24:숙근류, 25:구근류, 26:관엽식물류, 27:화훼종자류, 28:기타화훼, 29:산림종묘, 30:수목류, 31:목재류, 34:임산부산물, 35:토.석류, 36:절화류, 37:관상수류, 41:생축(가축)류, 43:국내산육류, 44:수입육류, 45:기타육류, 47:기타동물생산물, 51:양식용 어류사료, 52:식물성단미사료, 53:동물성단미사료, 57:정액,수정란,종란, 61:활 해면어류, 62:활 해면패류, 63:활 해면갑각류, 64:활 해면연체류, 65:활 해면기타, 66:활 내수면어류, 67:활 내수면기타, 71:신선 해면어류, 72:신선 해면패류, 73:신선 해면갑각류, 74:신선 해면연체류, 75:신선 해면기타, 76:신선 해조류, 77:신선 내수면어류, 78:신선 내수면기타, 81:냉동 해면어류, 82:냉동 해면패류, 83:냉동 해면갑각류, 84:냉동 해면연체류, 85:냉동 해면기타, 86:냉동 내수면어류, 87:냉동 내수면기타, 89:건제품, 91:농림가공, 92:축산가공, 93:수산가공\n"
     ]
    },
    {
     "data": {
      "text/html": [
       "<div>\n",
       "<style scoped>\n",
       "    .dataframe tbody tr th:only-of-type {\n",
       "        vertical-align: middle;\n",
       "    }\n",
       "\n",
       "    .dataframe tbody tr th {\n",
       "        vertical-align: top;\n",
       "    }\n",
       "\n",
       "    .dataframe thead th {\n",
       "        text-align: right;\n",
       "    }\n",
       "</style>\n",
       "<table border=\"1\" class=\"dataframe\">\n",
       "  <thead>\n",
       "    <tr style=\"text-align: right;\">\n",
       "      <th></th>\n",
       "      <th>대분류</th>\n",
       "      <th>대분류명</th>\n",
       "      <th>중분류</th>\n",
       "      <th>중분류명</th>\n",
       "      <th>소분류</th>\n",
       "      <th>소분류명</th>\n",
       "      <th>비고</th>\n",
       "      <th>변동구분</th>\n",
       "    </tr>\n",
       "  </thead>\n",
       "  <tbody>\n",
       "    <tr>\n",
       "      <th>0</th>\n",
       "      <td>1</td>\n",
       "      <td>미곡류</td>\n",
       "      <td>0101</td>\n",
       "      <td>벼</td>\n",
       "      <td>010101</td>\n",
       "      <td>일반계</td>\n",
       "      <td>NaN</td>\n",
       "      <td>NaN</td>\n",
       "    </tr>\n",
       "  </tbody>\n",
       "</table>\n",
       "</div>"
      ],
      "text/plain": [
       "   대분류 대분류명   중분류 중분류명     소분류 소분류명   비고 변동구분\n",
       "0    1  미곡류  0101    벼  010101  일반계  NaN  NaN"
      ]
     },
     "execution_count": 3,
     "metadata": {},
     "output_type": "execute_result"
    }
   ],
   "source": [
    "df_code = pd.read_csv('data/food_codes.csv')\n",
    "codes   = {df_code.iloc[_,0]: df_code.iloc[_,1]  \n",
    "               for _ in range(df_code.shape[0])}\n",
    "print(\", \".join([str(k)+\":\"+v   for k,v in codes.items()]))\n",
    "df_code.head(1)"
   ]
  },
  {
   "cell_type": "code",
   "execution_count": 4,
   "metadata": {},
   "outputs": [
    {
     "data": {
      "text/plain": [
       "{'기타', '밭벼', '벼', '쌀', '찰벼', '찹쌀', '현미'}"
      ]
     },
     "execution_count": 4,
     "metadata": {},
     "output_type": "execute_result"
    }
   ],
   "source": [
    "set(df_code[df_code.대분류==1].중분류명)"
   ]
  },
  {
   "cell_type": "code",
   "execution_count": 5,
   "metadata": {},
   "outputs": [
    {
     "data": {
      "text/plain": [
       "{'귀리', '밀', '보리', '보리쌀', '호밀'}"
      ]
     },
     "execution_count": 5,
     "metadata": {},
     "output_type": "execute_result"
    }
   ],
   "source": [
    "set(df_code[df_code.대분류==2].중분류명)"
   ]
  },
  {
   "cell_type": "code",
   "execution_count": 6,
   "metadata": {},
   "outputs": [
    {
     "data": {
      "text/plain": [
       "{'강낭콩', '기타', '녹두', '동부', '완두', '콩', '팥'}"
      ]
     },
     "execution_count": 6,
     "metadata": {},
     "output_type": "execute_result"
    }
   ],
   "source": [
    "set(df_code[df_code.대분류==3].중분류명)"
   ]
  },
  {
   "cell_type": "code",
   "execution_count": 7,
   "metadata": {},
   "outputs": [
    {
     "data": {
      "text/plain": [
       "{'기장', '기타', '메밀', '수수', '옥수수', '율무', '조', '피'}"
      ]
     },
     "execution_count": 7,
     "metadata": {},
     "output_type": "execute_result"
    }
   ],
   "source": [
    "set(df_code[df_code.대분류==4].중분류명)"
   ]
  },
  {
   "cell_type": "code",
   "execution_count": null,
   "metadata": {},
   "outputs": [],
   "source": []
  },
  {
   "cell_type": "code",
   "execution_count": 8,
   "metadata": {},
   "outputs": [],
   "source": [
    "# 만개의 레시피에서 메뉴별 Tag 목록 수집하기"
   ]
  },
  {
   "cell_type": "code",
   "execution_count": null,
   "metadata": {},
   "outputs": [],
   "source": [
    "import pandas as pd\n",
    "print(\", \".join(sorted(set(df.대분류명)))), len(sorted(set(df.대분류명))), df.tail(3)"
   ]
  },
  {
   "cell_type": "code",
   "execution_count": null,
   "metadata": {},
   "outputs": [],
   "source": [
    "df.to_csv('data/농산물코드2015.csv', index=None)"
   ]
  },
  {
   "cell_type": "code",
   "execution_count": null,
   "metadata": {},
   "outputs": [],
   "source": [
    "df[df.대분류명=='난류'].head(2)"
   ]
  },
  {
   "cell_type": "markdown",
   "metadata": {},
   "source": [
    "## **2 가격변동 데이터에 적용**\n",
    "at KAMIS 데이터셋 연동하기"
   ]
  },
  {
   "cell_type": "code",
   "execution_count": 3,
   "metadata": {},
   "outputs": [],
   "source": [
    "import datetime\n",
    "\n",
    "datetime.date.today()\n",
    "\n",
    "from momukji import ATKamis\n",
    "df_today = ATKamis().getDayData(day=datetime.date.today())\n",
    "df_today.shape"
   ]
  },
  {
   "cell_type": "code",
   "execution_count": 4,
   "metadata": {},
   "outputs": [
    {
     "data": {
      "text/html": [
       "<div>\n",
       "<style scoped>\n",
       "    .dataframe tbody tr th:only-of-type {\n",
       "        vertical-align: middle;\n",
       "    }\n",
       "\n",
       "    .dataframe tbody tr th {\n",
       "        vertical-align: top;\n",
       "    }\n",
       "\n",
       "    .dataframe thead th {\n",
       "        text-align: right;\n",
       "    }\n",
       "</style>\n",
       "<table border=\"1\" class=\"dataframe\">\n",
       "  <thead>\n",
       "    <tr style=\"text-align: right;\">\n",
       "      <th></th>\n",
       "      <th>item_name</th>\n",
       "      <th>item_code</th>\n",
       "      <th>kind_name</th>\n",
       "      <th>kind_code</th>\n",
       "      <th>rank</th>\n",
       "      <th>rank_code</th>\n",
       "      <th>unit</th>\n",
       "      <th>day1</th>\n",
       "      <th>dpr1</th>\n",
       "      <th>day2</th>\n",
       "      <th>...</th>\n",
       "      <th>day3</th>\n",
       "      <th>dpr3</th>\n",
       "      <th>day4</th>\n",
       "      <th>dpr4</th>\n",
       "      <th>day5</th>\n",
       "      <th>dpr5</th>\n",
       "      <th>day6</th>\n",
       "      <th>dpr6</th>\n",
       "      <th>day7</th>\n",
       "      <th>dpr7</th>\n",
       "    </tr>\n",
       "  </thead>\n",
       "  <tbody>\n",
       "    <tr>\n",
       "      <th>0</th>\n",
       "      <td>쌀</td>\n",
       "      <td>111</td>\n",
       "      <td>일반계(20kg)</td>\n",
       "      <td>01</td>\n",
       "      <td>상품</td>\n",
       "      <td>04</td>\n",
       "      <td>20kg</td>\n",
       "      <td>당일 (01/16)</td>\n",
       "      <td>-</td>\n",
       "      <td>1일전 (01/15)</td>\n",
       "      <td>...</td>\n",
       "      <td>1주일전 (01/09)</td>\n",
       "      <td>51,563</td>\n",
       "      <td>2주일전 (01/02)</td>\n",
       "      <td>51,788</td>\n",
       "      <td>1개월전</td>\n",
       "      <td>51,700</td>\n",
       "      <td>1년전</td>\n",
       "      <td>52,214</td>\n",
       "      <td>일평년</td>\n",
       "      <td>43,454</td>\n",
       "    </tr>\n",
       "    <tr>\n",
       "      <th>1</th>\n",
       "      <td>찹쌀</td>\n",
       "      <td>112</td>\n",
       "      <td>일반계(1kg)</td>\n",
       "      <td>01</td>\n",
       "      <td>상품</td>\n",
       "      <td>04</td>\n",
       "      <td>1kg</td>\n",
       "      <td>당일 (01/16)</td>\n",
       "      <td>-</td>\n",
       "      <td>1일전 (01/15)</td>\n",
       "      <td>...</td>\n",
       "      <td>1주일전 (01/09)</td>\n",
       "      <td>4,399</td>\n",
       "      <td>2주일전 (01/02)</td>\n",
       "      <td>4,440</td>\n",
       "      <td>1개월전</td>\n",
       "      <td>4,415</td>\n",
       "      <td>1년전</td>\n",
       "      <td>4,217</td>\n",
       "      <td>일평년</td>\n",
       "      <td>4,147</td>\n",
       "    </tr>\n",
       "  </tbody>\n",
       "</table>\n",
       "<p>2 rows × 21 columns</p>\n",
       "</div>"
      ],
      "text/plain": [
       "  item_name item_code  kind_name kind_code rank rank_code  unit        day1  \\\n",
       "0         쌀       111  일반계(20kg)        01   상품        04  20kg  당일 (01/16)   \n",
       "1        찹쌀       112   일반계(1kg)        01   상품        04   1kg  당일 (01/16)   \n",
       "\n",
       "  dpr1         day2  ...          day3    dpr3          day4    dpr4  day5  \\\n",
       "0    -  1일전 (01/15)  ...  1주일전 (01/09)  51,563  2주일전 (01/02)  51,788  1개월전   \n",
       "1    -  1일전 (01/15)  ...  1주일전 (01/09)   4,399  2주일전 (01/02)   4,440  1개월전   \n",
       "\n",
       "     dpr5 day6    dpr6 day7    dpr7  \n",
       "0  51,700  1년전  52,214  일평년  43,454  \n",
       "1   4,415  1년전   4,217  일평년   4,147  \n",
       "\n",
       "[2 rows x 21 columns]"
      ]
     },
     "execution_count": 4,
     "metadata": {},
     "output_type": "execute_result"
    }
   ],
   "source": [
    "df_today.head(2)"
   ]
  },
  {
   "cell_type": "code",
   "execution_count": 6,
   "metadata": {},
   "outputs": [],
   "source": [
    "df_today.to_csv('test.csv')"
   ]
  },
  {
   "cell_type": "code",
   "execution_count": null,
   "metadata": {},
   "outputs": [],
   "source": [
    "df_today.to_csv('data/t.csv', index=None)"
   ]
  },
  {
   "cell_type": "code",
   "execution_count": null,
   "metadata": {},
   "outputs": [],
   "source": []
  },
  {
   "cell_type": "code",
   "execution_count": null,
   "metadata": {},
   "outputs": [],
   "source": [
    "df_today.shape"
   ]
  },
  {
   "cell_type": "code",
   "execution_count": null,
   "metadata": {},
   "outputs": [],
   "source": []
  },
  {
   "cell_type": "code",
   "execution_count": null,
   "metadata": {},
   "outputs": [],
   "source": []
  },
  {
   "cell_type": "code",
   "execution_count": null,
   "metadata": {},
   "outputs": [],
   "source": []
  },
  {
   "cell_type": "code",
   "execution_count": null,
   "metadata": {},
   "outputs": [],
   "source": [
    ">>> from collections import OrderedDict\n",
    ">>> od = OrderedDict({\"a\": 1, \"b\": 2})\n",
    ">>> list(islice(od, 1, 2))"
   ]
  },
  {
   "cell_type": "code",
   "execution_count": null,
   "metadata": {},
   "outputs": [],
   "source": [
    "from itertools import islice\n",
    "from collections import OrderedDict"
   ]
  },
  {
   "cell_type": "code",
   "execution_count": null,
   "metadata": {},
   "outputs": [],
   "source": [
    "list(islice(OrderedDict(codes), 4, 9))"
   ]
  },
  {
   "cell_type": "code",
   "execution_count": null,
   "metadata": {},
   "outputs": [],
   "source": []
  },
  {
   "cell_type": "code",
   "execution_count": null,
   "metadata": {},
   "outputs": [],
   "source": []
  },
  {
   "cell_type": "code",
   "execution_count": null,
   "metadata": {},
   "outputs": [],
   "source": []
  },
  {
   "cell_type": "code",
   "execution_count": null,
   "metadata": {},
   "outputs": [],
   "source": [
    "밥,죽,면\n",
    "김밥,"
   ]
  },
  {
   "cell_type": "code",
   "execution_count": null,
   "metadata": {},
   "outputs": [],
   "source": [
    "가슴살,가쓰오,가오리,가자미,가자미조림,가지,가쯔오,간장,갈릭,갈비,갈비구이,갈비볶음,갈비찜,갈비탕,갈치,\n",
    "갈치조림,감,감귤,감자,감자전,감자탕,갓,갓김치,갓나물,강정,강회,겉절이,게,게맛살,겨자,겨자채,견과류,경단,\n",
    "경채,계란,계란구이,계란말이,계란찜,계장,고구마,고구마순,고구마줄기,고기,고기볶음,고기소,고기전골,고등어,\n",
    "고등어구이,고등어조림,고로게,고로케,고명,고사리,고사리나물,고추,고추장,고춧가루,고춧잎,곤드레,곤약,골뱅이,\n",
    "곰,곰피,과메기,과일,광어,교자,구이,구절판,국,국물,국밥,국수,군만두,군밤,굴,굴소스,귤,그릴,근대,근대나물,\n",
    "기장,김,김구이,김말이,김밥,김치,김치말이,까르보나라,까스,깍두기,깍뚜기,깐풍,깐풍기,깐풍육,깨,깻순,깻잎,\n",
    "깻잎쌈,꺳잎,꼬막,꼬치,꼴뚜기,꽁치,꽃게,꽈리,꿀,나물,나박,낙지,날치,날치알,낫토,냉국,냉라면,냉면,냉이,냉채,\n",
    "너바이니,너비아니,노가리,노각,녹두,누룽지,느타리,느타리버섯,다대기,다슬기,다시마,단감,단무지,단호박,달걀,달래,\n",
    "달래장,닭,닭갈비,닭곰탕,닭꼬치,닭도리탕,닭백숙,닭볶음탕,닭조림,닭찜,닭튀김,당근,당면,대과,대구,대나물,대추,\n",
    "더덕,더치커피,덮밥,데리야끼,데미소스,도넛,도라지,도라지나물,도라지생채,도토리,도토리묵,돈,돈가스,돈까스,돈나물,\n",
    "돈육,동그랑땡,동치미,동태,돼지,돼지갈비,된장,된장국,두루치기,두부,두부구이,두유,드레싱,들기름,들깨,들깨소스,"
   ]
  },
  {
   "cell_type": "code",
   "execution_count": null,
   "metadata": {},
   "outputs": [],
   "source": [
    "등갈비,등뼈,등심,딸기,땅콩,떡,떡갈비,떡국,떡볶이,떡찜,또띠아,또띠야,라떼,라면,라볶이,라이스,랍스타,레몬,\n",
    "로스트,롤케이크,리조또,마늘,마들렌,마멀레이드,마요,마요네즈,마카로니,마카롱,마파두부,막걸리,만두,말랭이,말이,\n",
    "맛,맛살,맛살조림,망고,매실,매운,매운탕,매콤,맥주,머랭쿠키,머스터드,머스터드소스,머위,머핀,메기,메밀,메추리,\n",
    "메추리알,멘보샤,멜론,멸치,명란,명란젓,명엽채,명태,모과,모밀,모카,목살,무,무나물,무말랭이,무생채,무석박지,무청,\n",
    "무침,묵,묵사발,묵은지,문어,물,미나리,미더덕,미소,미소국,미숫가루,미역,미역냉국,미트볼,민어,민찌,밀,바나나,바닐라,\n",
    "바베큐소스,바지락,바질,반계탕,발사믹,밤,밥,배,배추,배추쌈,배추찜,백숙,백합,뱅어포,버거,버섯,버섯볶음,버터,버팔로윙,\n",
    "범벅,베이컨,병어,보리,보쌈,복분자,복숭아,볶음,볶음밥,봄동,부대찌개,부추,부침,부침개,북어,불고기,붕어,브라운소스,\n",
    "브로컬리,브로콜리,브리또,블루베리,비름나물,비빔,비빔국수,비빔밥,비스킷,비엔나,비트,빈대떡,빙수,빵,뼈다귀,"
   ]
  },
  {
   "cell_type": "code",
   "execution_count": null,
   "metadata": {},
   "outputs": [],
   "source": [
    "사골,사과,사천,사태,산적,산채,산채나물,살구,삼겹,삼겹살,삼계탕,삼치,삼치구이,상추,상추쌈,새송이,새싹,새우,\n",
    "새우볶음,새우젓,새우튀김,새콤,샌드위치,샐러드,샐러리,생강,생선,생채,생크림,샤브샤브,석류,석박지,설렁탕,세발,\n",
    "소갈비,소고기,소금,소라,소면,소바,소박이,소보로,소불고기,소세지,소스,소시지,송어,송이,수박,수수,수육,수제비,\n",
    "수제쿠키,수프,숙주,숙주나물,숙회,순대,순두부,순살,숯불고기,쉐이크,쉬림프,스낵,스크램블,스테이크,스트로베리,\n",
    "스파게티,스팸,스프,시금치,시금치나물,시나몬,시래기,시래기나물,시리얼,식빵,식해,식혜,실치,쌀,쌈,쌈장,쏘세지,\n",
    "쑥갓,쑥갓나물,씨,아구,아몬드,아욱,아이스크림,안심,알감자,알꽈리,알배기,알새우,알찌개,알탕,애플,애호박,야채,\n",
    "양,양념,양념간장,양념소,양념장,양념초,양배추,양상추,양송이,양식,양어,양장피,양파,어묵,어묵무침,얼갈이,얼큰,\n",
    "에그,에이드,연근,연두,연어,열무,엽채,엿,영양탕,오골계,오뎅,오렌지,오리,오므라이스,오믈렛,오븐,오이,오이생채,\n",
    "오징어,오징어무침,오징어젓,오향장육,옥수동,옥수수,올리브,올리브오일,올방개,와사비,와인,와플,완자,요거트,\n",
    "요구르트,우거지,우동,우럭,우렁,우엉,우엉조림,우유,우육면,유린기,유부,유자,유채,육개장,육계,육수,육우,\n",
    "일식,잎,자몽,자미,자반,잔치,잡채,장국,장마,장아찌,장어,장조림,장포,잼쿠키,적,전,전골,젓갈,정식,제육,"
   ]
  },
  {
   "cell_type": "code",
   "execution_count": null,
   "metadata": {},
   "outputs": [],
   "source": [
    "제육볶음,젤리,조개,조갯살,조기,조림,조미,족발,주꾸미,주먹밥,주스,죽,쥐어,쥐포,쥬스,지리,진미채,진저,짜장,짬봉,\n",
    "짬뽕,쨈,쪽파,쫄면,쭈꾸미,찌개,찐빵,찜,찜닭,차,참기름,참깨,참나물,참외,참치,찹쌀,채,채소,천도복숭아,천사채,철판구이,\n",
    "청경채,청국장찌개,청양,청포묵,청포북,체리,초무침,초밥,초코머핀,초코볼,초코칩,초코칩머핀,초코쿠키,초콜릿,초콜릿칩,\n",
    "춘장,취나물,츄러스,치어,치즈,치커리,치킨,칠리,칠리소스,카라멜,카레,카스테라,카페모카,칵테일,칼국수,캐러멜,캬라멜,\n",
    "커피,컵케이크,컵케익,케이크,케익,케일,케찹,케첩,코다리,코코넛,코코아,콘,콩,콩나물,쿠키,크래미,크래커,크랜베리,\n",
    "크레페,크로와상,크리미,크림,크림머핀,키위,타르타르,타르트,타코,타코야끼,탕,탕수,탕수강정,탕수육,탕평채,토란대,\n",
    "토마토,토스트,톳,튀각,튀김,티라미수,티라미슈,파,파간장,파두,파래,파스타,파슬리,파운드케이크,파인,파인애플,파전,\n",
    "파채,파프리카,팥,팽이,팽이버섯,포도,포테이토,푀유나베,표고,푸딩,푸실리,풋고추장떡,프레첼,프렌치,프렌치토스트,\n",
    "피망,피자,피클,한라봉,한식,한치,함박,핫도그,핫케이크,핫케익,해물,해물탕,해바라기,해삼,해장국,해초,해파리,햄,\n",
    "허브,호두,호박,호박범벅,홍삼,홍시,홍어,홍초,홍합,황도,황태,회,회덮밥,후라이,후라이드,후랑크,후루츠,후르츠,훈제,\n",
    "흑임자,흑임자"
   ]
  },
  {
   "cell_type": "code",
   "execution_count": null,
   "metadata": {},
   "outputs": [],
   "source": []
  },
  {
   "cell_type": "code",
   "execution_count": null,
   "metadata": {},
   "outputs": [],
   "source": []
  },
  {
   "cell_type": "code",
   "execution_count": null,
   "metadata": {},
   "outputs": [],
   "source": []
  },
  {
   "cell_type": "code",
   "execution_count": null,
   "metadata": {},
   "outputs": [],
   "source": []
  },
  {
   "cell_type": "code",
   "execution_count": null,
   "metadata": {},
   "outputs": [],
   "source": []
  },
  {
   "cell_type": "code",
   "execution_count": null,
   "metadata": {},
   "outputs": [],
   "source": []
  },
  {
   "cell_type": "code",
   "execution_count": null,
   "metadata": {},
   "outputs": [],
   "source": []
  }
 ],
 "metadata": {
  "kernelspec": {
   "display_name": "Python 3",
   "language": "python",
   "name": "python3"
  },
  "language_info": {
   "codemirror_mode": {
    "name": "ipython",
    "version": 3
   },
   "file_extension": ".py",
   "mimetype": "text/x-python",
   "name": "python",
   "nbconvert_exporter": "python",
   "pygments_lexer": "ipython3",
   "version": "3.6.9"
  }
 },
 "nbformat": 4,
 "nbformat_minor": 4
}
