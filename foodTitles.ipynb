{
 "cells": [
  {
   "cell_type": "markdown",
   "metadata": {},
   "source": [
    "# **Working Process**\n",
    "1. 데이터 수집하기\n",
    "1. 수집데이터 전처리 NDBMS\n",
    "1. Token 의 정리 (wordCloud)\n",
    "1. N-Gram 의 정리 (메뉴명 PMI)\n",
    "1. Clustering (군집화 묶기)\n",
    "1. Token 간 관계 분석하기\n",
    "1. 데이터 정리 및 모델링"
   ]
  },
  {
   "cell_type": "markdown",
   "metadata": {},
   "source": [
    "1. 제목 단어들을 묶어서 **word Piece Model** 로 **유효단어** 추출하기\n",
    "1. 유사한 그룹은 편집거리를 활용하여 묶기"
   ]
  },
  {
   "cell_type": "code",
   "execution_count": 16,
   "metadata": {},
   "outputs": [
    {
     "data": {
      "text/plain": [
       "(12, 12, 12)"
      ]
     },
     "execution_count": 16,
     "metadata": {},
     "output_type": "execute_result"
    }
   ],
   "source": [
    "text1 = \"자연 언어에 대한 연구는 오래전부터 이어져 오고 있음에도 2018년까지도 사람처럼 이해하지는 못한다.\".split()\n",
    "text2 = \"자연 언어에 대한 연구는 오래전부터 이어져 들어서도 아직 컴퓨터가 사람처럼 이해하지는 못한다.\".split()\n",
    "text3 = \"자연 아직 컴퓨터가 언어에 들어서도 못한다 이어져 사람처럼 이해하지는 대한 연구는 오래전부터.\".split()\n",
    "len(text1), len(text2), len(text3)"
   ]
  },
  {
   "cell_type": "code",
   "execution_count": 17,
   "metadata": {},
   "outputs": [
    {
     "name": "stdout",
     "output_type": "stream",
     "text": [
      "5\n",
      "생략된 단어가 다를 때 : 3 \n",
      "어휘 순서를 바꿨을 때 : 10\n"
     ]
    }
   ],
   "source": [
    "from nltk.metrics import edit_distance\n",
    "print(edit_distance('파이썬 알고리즘', '파파미 알탕'))\n",
    "\n",
    "print('생략된 단어가 다를 때 : {} \\n어휘 순서를 바꿨을 때 : {}'.format(\n",
    "    edit_distance(text1, text2), \n",
    "    edit_distance(text2, text3)))"
   ]
  },
  {
   "cell_type": "code",
   "execution_count": 18,
   "metadata": {},
   "outputs": [
    {
     "data": {
      "text/plain": [
       "0.6666666666666666"
      ]
     },
     "execution_count": 18,
     "metadata": {},
     "output_type": "execute_result"
    }
   ],
   "source": [
    "# 02 accuracy 정확도 측정\n",
    "from nltk.metrics import accuracy\n",
    "accuracy('파이썬', '파이프')"
   ]
  },
  {
   "cell_type": "code",
   "execution_count": 19,
   "metadata": {},
   "outputs": [
    {
     "name": "stdout",
     "output_type": "stream",
     "text": [
      "생략된 단어가 다를 때 0.75 \n",
      "어휘 순서를 바꿨을 때 0.08333\n"
     ]
    }
   ],
   "source": [
    "print('생략된 단어가 다를 때 {:.4} \\n어휘 순서를 바꿨을 때 {:.4}'.format(\n",
    "    accuracy(text1, text2), \n",
    "    accuracy(text2, text3)))"
   ]
  },
  {
   "cell_type": "code",
   "execution_count": 20,
   "metadata": {},
   "outputs": [
    {
     "name": "stdout",
     "output_type": "stream",
     "text": [
      "12 12 12\n"
     ]
    },
    {
     "data": {
      "text/plain": [
       "0.0"
      ]
     },
     "execution_count": 20,
     "metadata": {},
     "output_type": "execute_result"
    }
   ],
   "source": [
    "text1 = set(text1)\n",
    "text2 = set(text2)\n",
    "text3 = set(text3)\n",
    "print(len(text1), len(text2), len(text3))\n",
    "from nltk.metrics import precision\n",
    "precision({'파이썬'}, {'파르썬'})"
   ]
  },
  {
   "cell_type": "code",
   "execution_count": 21,
   "metadata": {},
   "outputs": [
    {
     "name": "stdout",
     "output_type": "stream",
     "text": [
      "생략된 단어가 다를 때 0.75 \n",
      "어휘 순서를 바꿨을 때 0.8333\n"
     ]
    }
   ],
   "source": [
    "print('생략된 단어가 다를 때 {:.4} \\n어휘 순서를 바꿨을 때 {:.4}'.format(\n",
    "    precision(set(text1), set(text2)), \n",
    "    precision(set(text2), set(text3))))"
   ]
  },
  {
   "cell_type": "code",
   "execution_count": 22,
   "metadata": {},
   "outputs": [
    {
     "name": "stdout",
     "output_type": "stream",
     "text": [
      "생략된 단어가 다를 때 0.75 \n",
      "어휘 순서를 바꿨을 때 0.8333\n"
     ]
    }
   ],
   "source": [
    "from nltk.metrics import recall\n",
    "print('생략된 단어가 다를 때 {:.4} \\n어휘 순서를 바꿨을 때 {:.4}'.format(\n",
    "    recall(text1, text2), \n",
    "    recall(text2, text3)))"
   ]
  },
  {
   "cell_type": "markdown",
   "metadata": {},
   "source": [
    "# **Process Goal**\n",
    "- 여러가지 작업방법을 사용하여 원하는 사전을 구축하는 것!!!\n",
    "- 결국은 **사전을 구축하며 내용을 확인 가능해야 Huristic 개념에서 Algorithm 으로** 넘어갈 수 있다\n",
    "- 음식과 메뉴 관련된 단어들만 추출가능하도록 모듈 구성하기\n",
    "- Token 들 중 음식과 관련된 단어들만 찾기\n",
    "- 유효한 값 2000개 중 음식과 관련 없는 것들만 제거하기"
   ]
  },
  {
   "cell_type": "markdown",
   "metadata": {},
   "source": [
    "## **데이터 불러오기**\n",
    "음식데이터는 Mecab() 보다 Okt() 가 더 효과적인 단어목록을 포함"
   ]
  },
  {
   "cell_type": "code",
   "execution_count": 61,
   "metadata": {},
   "outputs": [
    {
     "data": {
      "text/plain": [
       "'호불호 없는 토마토파스타는 역시 ~! 토마토냉파스타 ★ 달콤 촉촉 달걀 푸딩 만들기, 만드는 법 ( 부드러운 달걀 요리 기본 원리 ) 손이가요 손이가~~자꾸 손이 가는 [가지전] 여름 무로 깔끔아삭 무채무침 흰 강낭콩 바나나 쉐이크 다이어트&아침 대용 깻잎절임 : 입맛 되살리는 초간단 반찬 소고기 장조림 만들기 간단반찬 으로 최고! 차돌박이 부추무침, 간단한 손님초대요리 버터롤빵 샌드위치 브런치로 먹었어요. 보양식/ 비 오는 날 딱 엄나무 한방 오리백숙! [암예방레시피]토마토절임. 수퍼푸드 토마토로 즐기는 저염식피클! 늙은 오이..노각오징어무침 간단하고 든든한 한끼! 불고기콩나물밥 간단요리...아귀수육 맛집 메뉴 그대로! 연안에서 먹는 느낌 살린 꼬막비빔밥★ 신김치 볶음(열무 얼갈이 물김치로 만들었어요) 암'"
      ]
     },
     "execution_count": 61,
     "metadata": {},
     "output_type": "execute_result"
    }
   ],
   "source": [
    "import pandas as pd\n",
    "df = pd.read_csv('data/foodmens.csv', header=None)\n",
    "menuTitle = \" \".join(df[1])\n",
    "\n",
    "with open('menuTitles.txt', 'w') as f:\n",
    "    f.write(menuTitle)\n",
    "menuTitle[:400]"
   ]
  },
  {
   "cell_type": "code",
   "execution_count": 62,
   "metadata": {},
   "outputs": [
    {
     "data": {
      "text/plain": [
       "[('만들기', 17272),\n",
       " ('만드는', 5212),\n",
       " ('법', 3829),\n",
       " ('회', 3736),\n",
       " ('초간단', 3560),\n",
       " ('레시피', 3392),\n",
       " ('만드는법', 2743),\n",
       " ('맛있는', 2650),\n",
       " ('좋은', 2386),\n",
       " ('맛있게', 2209)]"
      ]
     },
     "execution_count": 62,
     "metadata": {},
     "output_type": "execute_result"
    }
   ],
   "source": [
    "import re\n",
    "with open('data/menuTitles.txt','r') as f:\n",
    "    titles = f.read()\n",
    "\n",
    "titles = re.findall(r\"[가-힣]+\", titles)\n",
    "titles = \" \".join(titles).lower()\n",
    "titles_raw = titles.split(\" \")\n",
    "\n",
    "from collections import Counter\n",
    "Counter(titles_raw).most_common(10)"
   ]
  },
  {
   "cell_type": "markdown",
   "metadata": {},
   "source": [
    "## **Nltk 객체를 활용한 가치있는 단어들 추출**\n",
    "```python\n",
    "# nltk 에서 분석가능한 객체를 자동으로 생성\n",
    "# 식품메뉴명에는 Okt() 가 사전이 더 좋음\n",
    "titles = Okt().pos(titles, stem=True)\n",
    "```"
   ]
  },
  {
   "cell_type": "code",
   "execution_count": 63,
   "metadata": {},
   "outputs": [
    {
     "name": "stderr",
     "output_type": "stream",
     "text": [
      "/home/markbaum/Python/nltk/lib/python3.6/site-packages/jpype/_core.py:210: UserWarning: \n",
      "-------------------------------------------------------------------------------\n",
      "Deprecated: convertStrings was not specified when starting the JVM. The default\n",
      "behavior in JPype will be False starting in JPype 0.8. The recommended setting\n",
      "for new code is convertStrings=False.  The legacy value of True was assumed for\n",
      "this session. If you are a user of an application that reported this warning,\n",
      "please file a ticket with the developer.\n",
      "-------------------------------------------------------------------------------\n",
      "\n",
      "  \"\"\")\n"
     ]
    },
    {
     "name": "stdout",
     "output_type": "stream",
     "text": [
      "CPU times: user 2min 8s, sys: 597 ms, total: 2min 9s\n",
      "Wall time: 1min 42s\n"
     ]
    }
   ],
   "source": [
    "%%time\n",
    "import warnings\n",
    "warnings.simplefilter('ignore')\n",
    "\n",
    "from nltk import Text\n",
    "from konlpy.tag import Mecab, Okt\n",
    "titles_noun = Okt().nouns(titles)\n",
    "title_obj = Text(titles_noun)"
   ]
  },
  {
   "cell_type": "code",
   "execution_count": 67,
   "metadata": {},
   "outputs": [
    {
     "data": {
      "text/plain": [
       "(567992, 13459, 42)"
      ]
     },
     "execution_count": 67,
     "metadata": {},
     "output_type": "execute_result"
    }
   ],
   "source": [
    "# .B() : Unique 한 Token 갯수\n",
    "# .N() : 전체 Token 의 갯수\n",
    "title_obj.vocab().N(),  title_obj.vocab().B(),  int(title_obj.vocab().N()/title_obj.vocab().B())"
   ]
  },
  {
   "cell_type": "code",
   "execution_count": 68,
   "metadata": {},
   "outputs": [
    {
     "data": {
      "text/plain": [
       "[('가까이', '쑥굴국'),\n",
       " ('감탄사', '연발'),\n",
       " ('갑농', '산이'),\n",
       " ('개두', '릎'),\n",
       " ('갯벌', '환경'),\n",
       " ('거성', '그룹'),\n",
       " ('검', '은빛'),\n",
       " ('검사', '외조'),\n",
       " ('검은색', '수상한'),\n",
       " ('결명자', '불우'),\n",
       " ('계정', '바오지'),\n",
       " ('고준희', '대사'),\n",
       " ('곶', '감전'),\n",
       " ('구성민', '뿔뽀'),\n",
       " ('국제', '캠퍼스'),\n",
       " ('궁보', '계정'),\n",
       " ('귤즙', '질퍽'),\n",
       " ('그룹', '구일'),\n",
       " ('글루', '코시'),\n",
       " ('금연', '의지')]"
      ]
     },
     "execution_count": 68,
     "metadata": {},
     "output_type": "execute_result"
    }
   ],
   "source": [
    "from nltk import collocations\n",
    "\n",
    "finder = collocations.BigramCollocationFinder.from_words(titles_noun)\n",
    "measures = collocations.BigramAssocMeasures()\n",
    "finder.nbest(measures.pmi, 20)"
   ]
  },
  {
   "cell_type": "code",
   "execution_count": 69,
   "metadata": {},
   "outputs": [
    {
     "data": {
      "image/png": "[encoded data removed]",
      "text/plain": [
       "<Figure size 1080x216 with 1 Axes>"
      ]
     },
     "metadata": {
      "needs_background": "light"
     },
     "output_type": "display_data"
    }
   ],
   "source": [
    "%matplotlib inline\n",
    "from matplotlib import rc, rcParams\n",
    "rc('font', family=['NanumGothic','Malgun Gothic']) # 한글의 표시\n",
    "rcParams['axes.unicode_minus'] = False             # '-' 표시의 처리\n",
    "\n",
    "import matplotlib.pyplot as plt\n",
    "plt.figure(figsize=(15, 3))  # 파레트 설정\n",
    "title_obj.plot(70)"
   ]
  },
  {
   "cell_type": "code",
   "execution_count": 7,
   "metadata": {},
   "outputs": [
    {
     "data": {
      "text/plain": [
       "[('당', 25),\n",
       " ('퓨레', 25),\n",
       " ('과육', 25),\n",
       " ('통통', 25),\n",
       " ('우무', 25),\n",
       " ('이상민', 25),\n",
       " ('햄말', 25),\n",
       " ('스프레드', 25),\n",
       " ('고춧잎', 25),\n",
       " ('김수미', 25)]"
      ]
     },
     "execution_count": 7,
     "metadata": {},
     "output_type": "execute_result"
    }
   ],
   "source": [
    "maxLimits = 1950\n",
    "title_obj.vocab().most_common(maxLimits)[(maxLimits-10):]"
   ]
  },
  {
   "cell_type": "code",
   "execution_count": 8,
   "metadata": {},
   "outputs": [
    {
     "data": {
      "text/plain": [
       "'만들기 볶음 법 요리 레시피 밥 간단 초 조림 감자 김치 맛 회 반찬 치즈 샐러드 두부 구이 매콤 백종원 전 간식 소고기 새우 볶음밥 오징어 샌드위치 황금 닭 고구마 나물 김밥 참치 간장 어묵 가지 집 불고기 계란 돼지고기 야채 소스 찜 고추장 콩나물 아이 파스타 피자 찌개 살 오이 고추 떡볶이 밑반찬 집밥 마늘 튀김 백선생 국 딸 쿠키 스테이크 멸치 음식 국물 탕 버섯 양념 부추 무 크림 치킨 토마토 떡 향 토스트 만두 잡채 냉장고 달걀 버터 카레 가슴 삼겹살 오븐 라면 말 장조림 베이컨 된장 도시락 영양 빵 그릇 케이크 식빵 방법 봄 알 장아찌'"
      ]
     },
     "execution_count": 8,
     "metadata": {},
     "output_type": "execute_result"
    }
   ],
   "source": [
    "\" \".join([_[0] for _ in title_obj.vocab().most_common(100)])"
   ]
  },
  {
   "cell_type": "markdown",
   "metadata": {},
   "source": [
    "## **N Gram 을 활용한 PMI 분석**\n",
    "nltk tools"
   ]
  },
  {
   "cell_type": "code",
   "execution_count": 9,
   "metadata": {},
   "outputs": [
    {
     "data": {
      "text/plain": [
       "[('가까이', '왔네요'),\n",
       " ('가끔씩은', '초식도'),\n",
       " ('가나슈로', '아이싱한'),\n",
       " ('가나슈마카롱', '씨앗이'),\n",
       " ('가랑이', '찢어질뻔'),\n",
       " ('가래떡꼬치레시피', '갓김치고등어찜'),\n",
       " ('가래떡잡채', '떡국하고'),\n",
       " ('가래떡치즈스틱', '김치베이컨주먹밥구이'),\n",
       " ('가루스프를', '루로'),\n",
       " ('가르면', '놀라워')]"
      ]
     },
     "execution_count": 9,
     "metadata": {},
     "output_type": "execute_result"
    }
   ],
   "source": [
    "from nltk import collocations\n",
    "finder   = collocations.BigramCollocationFinder.from_words(titles_raw)\n",
    "measures = collocations.BigramAssocMeasures()\n",
    "finder.nbest(measures.pmi, 10)"
   ]
  },
  {
   "cell_type": "code",
   "execution_count": 10,
   "metadata": {},
   "outputs": [
    {
     "data": {
      "text/plain": [
       "[('가까이', '쑥굴국'),\n",
       " ('감탄사', '연발'),\n",
       " ('갑농', '산이'),\n",
       " ('개두', '릎'),\n",
       " ('갯벌', '환경'),\n",
       " ('거성', '그룹'),\n",
       " ('검', '은빛'),\n",
       " ('검사', '외조'),\n",
       " ('검은색', '수상한'),\n",
       " ('결명자', '불우')]"
      ]
     },
     "execution_count": 10,
     "metadata": {},
     "output_type": "execute_result"
    }
   ],
   "source": [
    "finder = collocations.BigramCollocationFinder.from_words(titles_noun)\n",
    "measures = collocations.BigramAssocMeasures()\n",
    "finder.nbest(measures.pmi, 10)"
   ]
  },
  {
   "cell_type": "code",
   "execution_count": 11,
   "metadata": {},
   "outputs": [
    {
     "data": {
      "text/plain": [
       "[('가까이', '왔네요', '쑥굴국'),\n",
       " ('가스레인지추천', '국내최초', '라면자동요리'),\n",
       " ('가스불이', '안켜져', '난감한데'),\n",
       " ('가슴속에', '차오르는', '연'),\n",
       " ('가을나들이도시락으로', '밥버거를', '챙겨보자'),\n",
       " ('가을바람이', '춥다고', '느껴질때'),\n",
       " ('가자미감자조림', '가지약고추장', '채식고추장볶음'),\n",
       " ('가져가든', '대박나는', '미니치즈케익'),\n",
       " ('가족모임엔', '한우사태요리', '삼겹살고추장구이'),\n",
       " ('가지계란전과', '호박계란전', '아보카도볶음밥')]"
      ]
     },
     "execution_count": 11,
     "metadata": {},
     "output_type": "execute_result"
    }
   ],
   "source": [
    "finder   = collocations.TrigramCollocationFinder.from_words(titles_raw)\n",
    "measures = collocations.TrigramAssocMeasures()\n",
    "finder.nbest(measures.pmi, 10)"
   ]
  },
  {
   "cell_type": "code",
   "execution_count": 12,
   "metadata": {},
   "outputs": [
    {
     "data": {
      "text/plain": [
       "[('갯벌', '환경', '지표'),\n",
       " ('거성', '그룹', '구일'),\n",
       " ('계정', '바오지', '딩'),\n",
       " ('궁보', '계정', '바오지'),\n",
       " ('글루', '코시', '일무'),\n",
       " ('노리', '노츠', '쿠다'),\n",
       " ('노츠', '쿠다', '날달걀'),\n",
       " ('도란', '돈설', '뽈살찜'),\n",
       " ('렬루', '레몬이', '통쨰'),\n",
       " ('변죽녀슨생', '참참참셋트', '케케')]"
      ]
     },
     "execution_count": 12,
     "metadata": {},
     "output_type": "execute_result"
    }
   ],
   "source": [
    "finder   = collocations.TrigramCollocationFinder.from_words(titles_noun)\n",
    "measures = collocations.TrigramAssocMeasures()\n",
    "finder.nbest(measures.pmi, 10)"
   ]
  }
 ],
 "metadata": {
  "kernelspec": {
   "display_name": "Python 3",
   "language": "python",
   "name": "python3"
  },
  "language_info": {
   "codemirror_mode": {
    "name": "ipython",
    "version": 3
   },
   "file_extension": ".py",
   "mimetype": "text/x-python",
   "name": "python",
   "nbconvert_exporter": "python",
   "pygments_lexer": "ipython3",
   "version": "3.6.3"
  }
 },
 "nbformat": 4,
 "nbformat_minor": 4
}
