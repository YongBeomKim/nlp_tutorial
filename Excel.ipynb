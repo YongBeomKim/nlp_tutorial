{
 "cells": [
  {
   "cell_type": "markdown",
   "metadata": {},
   "source": [
    "# https://github.com/wenzhixin/bootstrap-table\n",
    "https://stackoverflow.com/questions/39003732/display-django-pandas-dataframe-in-a-django-template\n",
    "\n",
    "* Pandas 가공 결과를 시각화 바로 원할하게 출력하기\n",
    "* 바로 판다스 출력이 예제로 되어있는데\n",
    "* 내가 원하는 형태로 가공 후 결과물 출력하기를 알아보자"
   ]
  },
  {
   "cell_type": "code",
   "execution_count": 1,
   "metadata": {},
   "outputs": [],
   "source": [
    "import pandas as pd"
   ]
  },
  {
   "cell_type": "code",
   "execution_count": 2,
   "metadata": {},
   "outputs": [
    {
     "name": "stdout",
     "output_type": "stream",
     "text": [
      "<table border=\"1\" class=\"dataframe\">\n",
      "  <thead>\n",
      "    <tr style=\"text-align: right;\">\n",
      "      <th></th>\n",
      "      <th>1</th>\n",
      "      <th>2</th>\n",
      "    </tr>\n",
      "  </thead>\n",
      "  <tbody>\n",
      "    <tr>\n",
      "      <th>0</th>\n",
      "      <td>1</td>\n",
      "      <td>12</td>\n",
      "    </tr>\n",
      "    <tr>\n",
      "      <th>1</th>\n",
      "      <td>2</td>\n",
      "      <td>3</td>\n",
      "    </tr>\n",
      "    <tr>\n",
      "      <th>2</th>\n",
      "      <td>3</td>\n",
      "      <td>4</td>\n",
      "    </tr>\n",
      "    <tr>\n",
      "      <th>3</th>\n",
      "      <td>4</td>\n",
      "      <td>5</td>\n",
      "    </tr>\n",
      "    <tr>\n",
      "      <th>4</th>\n",
      "      <td>5</td>\n",
      "      <td>12</td>\n",
      "    </tr>\n",
      "  </tbody>\n",
      "</table>\n"
     ]
    }
   ],
   "source": [
    "print(pd.DataFrame({1:[1,2,3,4,5], 2:[12,3,4,5,12]}).to_html())"
   ]
  },
  {
   "cell_type": "code",
   "execution_count": 3,
   "metadata": {},
   "outputs": [
    {
     "data": {
      "text/html": [
       "<table border=\"1\" class=\"dataframe\">\n",
       "  <thead>\n",
       "    <tr style=\"text-align: right;\">\n",
       "      <th></th>\n",
       "      <th>1</th>\n",
       "      <th>2</th>\n",
       "    </tr>\n",
       "  </thead>\n",
       "  <tbody>\n",
       "    <tr>\n",
       "      <th>0</th>\n",
       "      <td>1</td>\n",
       "      <td>12</td>\n",
       "    </tr>\n",
       "    <tr>\n",
       "      <th>1</th>\n",
       "      <td>2</td>\n",
       "      <td>3</td>\n",
       "    </tr>\n",
       "    <tr>\n",
       "      <th>2</th>\n",
       "      <td>3</td>\n",
       "      <td>4</td>\n",
       "    </tr>\n",
       "    <tr>\n",
       "      <th>3</th>\n",
       "      <td>4</td>\n",
       "      <td>5</td>\n",
       "    </tr>\n",
       "    <tr>\n",
       "      <th>4</th>\n",
       "      <td>5</td>\n",
       "      <td>12</td>\n",
       "    </tr>\n",
       "  </tbody>\n",
       "</table>\n"
      ],
      "text/plain": [
       "<IPython.core.display.HTML object>"
      ]
     },
     "metadata": {},
     "output_type": "display_data"
    }
   ],
   "source": [
    "%%html\n",
    "<table border=\"1\" class=\"dataframe\">\n",
    "  <thead>\n",
    "    <tr style=\"text-align: right;\">\n",
    "      <th></th>\n",
    "      <th>1</th>\n",
    "      <th>2</th>\n",
    "    </tr>\n",
    "  </thead>\n",
    "  <tbody>\n",
    "    <tr>\n",
    "      <th>0</th>\n",
    "      <td>1</td>\n",
    "      <td>12</td>\n",
    "    </tr>\n",
    "    <tr>\n",
    "      <th>1</th>\n",
    "      <td>2</td>\n",
    "      <td>3</td>\n",
    "    </tr>\n",
    "    <tr>\n",
    "      <th>2</th>\n",
    "      <td>3</td>\n",
    "      <td>4</td>\n",
    "    </tr>\n",
    "    <tr>\n",
    "      <th>3</th>\n",
    "      <td>4</td>\n",
    "      <td>5</td>\n",
    "    </tr>\n",
    "    <tr>\n",
    "      <th>4</th>\n",
    "      <td>5</td>\n",
    "      <td>12</td>\n",
    "    </tr>\n",
    "  </tbody>\n",
    "</table>"
   ]
  },
  {
   "cell_type": "markdown",
   "metadata": {},
   "source": [
    "# **lambda 수식의 활용**\n",
    "큰 데이터를 처리시, for 문에 비해 훨씬 효과가 빠르다 <br/>\n",
    "https://dojang.io/mod/page/view.php?id=1059 <br/>\n",
    "http://book.pythontips.com/en/latest/lambdas.html <br/>\n",
    "https://stackoverflow.com/questions/31206106/compare-each-item-of-two-lists-in-python"
   ]
  },
  {
   "cell_type": "code",
   "execution_count": 4,
   "metadata": {},
   "outputs": [
    {
     "data": {
      "text/plain": [
       "8"
      ]
     },
     "execution_count": 4,
     "metadata": {},
     "output_type": "execute_result"
    }
   ],
   "source": [
    "# lambda 를 활용한 계산\n",
    "add = lambda x, y: x + y\n",
    "add(3, 5)"
   ]
  },
  {
   "cell_type": "code",
   "execution_count": 5,
   "metadata": {},
   "outputs": [
    {
     "data": {
      "text/plain": [
       "[(13, -3), (4, 1), (1, 2), (9, 10)]"
      ]
     },
     "execution_count": 5,
     "metadata": {},
     "output_type": "execute_result"
    }
   ],
   "source": [
    "# lambda 를 활용한 정렬\n",
    "a = [(1, 2), (4, 1), (9, 10), (13, -3)]\n",
    "a.sort(key=lambda x: x[1])\n",
    "a"
   ]
  },
  {
   "cell_type": "code",
   "execution_count": 6,
   "metadata": {},
   "outputs": [
    {
     "name": "stdout",
     "output_type": "stream",
     "text": [
      "list1 : [1, 2, 3, 4, 5]\n",
      "list2 : [10, 20, 30, 40, 50]\n"
     ]
    }
   ],
   "source": [
    "list1, list2 = (1,2,3,4,5), (10,20,30,40,50)\n",
    "data = zip(list1, list2)\n",
    "# data.sort()  # .sort는 오류를 발생한다\n",
    "# data\n",
    "list1, list2 = map(lambda t: list(t), zip(*data))\n",
    "print(\"list1 : {}\\nlist2 : {}\".format(list1, list2))"
   ]
  },
  {
   "cell_type": "code",
   "execution_count": 7,
   "metadata": {},
   "outputs": [
    {
     "name": "stdout",
     "output_type": "stream",
     "text": [
      "값 비교 : [False, False, False, False, False, False, False, False, True]\n",
      "값의 합 : [3, 4, 5, 7, 8, 9, 6, 7, 8]\n"
     ]
    }
   ],
   "source": [
    "# itertools 을 활용\n",
    "import itertools\n",
    "list_1 = [1,5,4]\n",
    "list_2 = [2,3,4]\n",
    "# using list comprehensions\n",
    "comparisons = [a == b for (a, b) in itertools.product(list_1, list_2)]\n",
    "sums        = [a + b  for (a, b) in itertools.product(list_1, list_2)]\n",
    "print(\"값 비교 : {}\\n값의 합 : {}\".format(comparisons,sums))"
   ]
  },
  {
   "cell_type": "code",
   "execution_count": 8,
   "metadata": {},
   "outputs": [
    {
     "name": "stdout",
     "output_type": "stream",
     "text": [
      "lst3 Row data : [False, False, False, False, False, False, False, False, True]\n",
      "Counting \"True\" data : 1\n"
     ]
    }
   ],
   "source": [
    "lst1 = [1,5,4]\n",
    "lst2 = [2,3,4]\n",
    "lst3 = list(map(lambda x: x[0] == x[1] , itertools.product(lst1,lst2)))\n",
    "print('lst3 Row data : {}\\nCounting \"True\" data : {}'.format(lst3, sum(lst3)))"
   ]
  },
  {
   "cell_type": "markdown",
   "metadata": {},
   "source": [
    "# **Excel to Python**\n",
    "* 모듈 비교 http://www.python-excel.org/\n",
    "* xlrd, openpyxl"
   ]
  },
  {
   "cell_type": "markdown",
   "metadata": {},
   "source": [
    "### Django 에서의 작업\n",
    "모든 작업을 한꺼번에 진행하지 말고\n",
    "* 엑셀 파일을 제대로 불러왔는지를 확인하는 페이지\n",
    "* 이때는 데이터 타입이 동일한 결과를 출력하는것이 연속적 3개 이상반복되면 헤더를 구분하도록 로직을 구성한다\n",
    "* 이후 필요한 옵션을 설정하고 result 에서도 결과를 바꿔가며 분석 가능하도록 한다\n",
    "* 결과물 또한 Excel로 다운 받을 수 있도록 한다"
   ]
  },
  {
   "cell_type": "code",
   "execution_count": 179,
   "metadata": {},
   "outputs": [],
   "source": [
    "# Excel 파일을 열 때에는 xlrd 모듈만 있으면 되고\n",
    "# 가공 및 저장시에는 openpyxl 모듈을 필요로 한다\n",
    "import pandas as pd\n",
    "import itertools\n",
    "def check_xls(file, info=False):\n",
    "    \n",
    "    # 전체 9개 인덱스 동일내용이 있으면 1) 유효 헤더값, 2) 엑셀파일 내용 확인 모두 진행\n",
    "    check_list = {\"SEM\" : ['가맹점번호','매입사','승인번호','원거래일자', '입금예정액', '입금예정일자','정산상태', '카드번호','할부']}    \n",
    "\n",
    "    # 헤더와 인덱스 자동생성 없이 순수한 엑셀파일 불러오기\n",
    "    data = pd.read_excel(file, header=None, index_col=None)\n",
    "    \n",
    "    # 유효한 컬럼값 확인\n",
    "    for i_col in range(10):\n",
    "        valid_data = len(data.iloc[:,i_col].dropna())\n",
    "        if valid_data != 0:\n",
    "            endline_col = len(data.iloc[:,i_col].dropna())\n",
    "            if info: print(\"{} : 컬럼부터 {} 개 인덱스를 갖는 테이블\".format(i_col, endline_col))\n",
    "            break\n",
    "            \n",
    "    # 헤더값 확인하여 컬럼에 사용할 인덱스값과, 문서의 종류 확인하기\n",
    "    for i in range(10):\n",
    "        source_data = list(set(list(data.iloc[i,:].dropna())))\n",
    "        for check in check_list.keys():\n",
    "            # valid 이상 유효 값 존재여부 확인\n",
    "            check_count, valid = 0, int(len(check_list[check])/2)\n",
    "            check_data         = check_list[check]\n",
    "            checking   = list(map(lambda x : x[0]==x[1], \n",
    "                                  itertools.product(source_data, check_data)))\n",
    "            if sum(checking) > valid:\n",
    "                end_i = i  # 이거없이 출력하면 9의 값을 갖는다 : break는 1번의 for만 탈출\n",
    "                if info: print(\"이 데이터는 {}이고, 유효컬럼 라인은 {} 입니다\".format(check, end_i))\n",
    "                break\n",
    "\n",
    "    # 출력본 수정1 : 컬럼수정\n",
    "    col_names = data.iloc[end_i,:]\n",
    "    data.columns = col_names\n",
    "    # 출력본 수정2 : 유효한 값 추출 (컬럼값 + 1, 인덱스값 )\n",
    "    # endline_col+1 값이 없으면 테이블 아래 다른 자료까지 포함되어 출력된다\n",
    "    data = data.iloc[ end_i+1 :  endline_col+1, i_col:].reset_index()\n",
    "    data = data.drop(columns = 'index')\n",
    "\n",
    "    # 컬럼별 작업시 이름으로 호출하면 중복된 이름의 컬럼이 제대로 처리가 안된다\n",
    "    # 같은 이름의 컬럼이 있으면 다르게 처리를 해보자\n",
    "    col_name = data.columns\n",
    "    temp   = {} # 개별 객체의 중복갯수 카운트\n",
    "    rename = [] # 새로운 컬럼명\n",
    "    for no, col in enumerate(col_name):\n",
    "        if no == 0:\n",
    "            temp[col] = 1\n",
    "            rename.append(col)\n",
    "        else:\n",
    "            if col not in temp:\n",
    "                temp[col] = 1\n",
    "                rename.append(col)\n",
    "            else:\n",
    "                temp[col] += 1\n",
    "                col = col + str(temp[col])\n",
    "                rename.append(col)  \n",
    "    data.columns = rename\n",
    "\n",
    "    # 예외적인 컬럼을 제외한 나머지 숫자데이터를 , 추가하기 \n",
    "    for col_name in data.columns:\n",
    "        try: \n",
    "            data[col_name] = data[col_name].astype(int)\n",
    "            if col_name not in ['고객ID', '발급사',  '승인번호','가맹점번호']:\n",
    "                data[col_name] = data[col_name].apply(\"{:,}\".format)\n",
    "        except: pass\n",
    "    return data"
   ]
  },
  {
   "cell_type": "code",
   "execution_count": 180,
   "metadata": {},
   "outputs": [
    {
     "name": "stdout",
     "output_type": "stream",
     "text": [
      "1 : 컬럼부터 3127 개 인덱스를 갖는 테이블\n",
      "이 데이터는 SEM이고, 유효컬럼 라인은 2 입니다\n"
     ]
    },
    {
     "data": {
      "text/html": [
       "<div>\n",
       "<style scoped>\n",
       "    .dataframe tbody tr th:only-of-type {\n",
       "        vertical-align: middle;\n",
       "    }\n",
       "\n",
       "    .dataframe tbody tr th {\n",
       "        vertical-align: top;\n",
       "    }\n",
       "\n",
       "    .dataframe thead th {\n",
       "        text-align: right;\n",
       "    }\n",
       "</style>\n",
       "<table border=\"1\" class=\"dataframe\">\n",
       "  <thead>\n",
       "    <tr style=\"text-align: right;\">\n",
       "      <th></th>\n",
       "      <th>NO</th>\n",
       "      <th>NO2</th>\n",
       "      <th>NO3</th>\n",
       "      <th>NO4</th>\n",
       "      <th>NO5</th>\n",
       "      <th>NO6</th>\n",
       "      <th>NO7</th>\n",
       "      <th>NO8</th>\n",
       "      <th>고객ID</th>\n",
       "      <th>발급사</th>\n",
       "      <th>...</th>\n",
       "      <th>거래일자</th>\n",
       "      <th>거래시간</th>\n",
       "      <th>매입사</th>\n",
       "      <th>가맹점번호</th>\n",
       "      <th>매입일자</th>\n",
       "      <th>입금예정일자</th>\n",
       "      <th>정산상태</th>\n",
       "      <th>거래유형</th>\n",
       "      <th>수수료</th>\n",
       "      <th>입금예정액</th>\n",
       "    </tr>\n",
       "  </thead>\n",
       "  <tbody>\n",
       "    <tr>\n",
       "      <th>3123</th>\n",
       "      <td>998</td>\n",
       "      <td>998</td>\n",
       "      <td>998</td>\n",
       "      <td>998</td>\n",
       "      <td>998</td>\n",
       "      <td>998</td>\n",
       "      <td>998</td>\n",
       "      <td>998</td>\n",
       "      <td>1388514922</td>\n",
       "      <td>10611052</td>\n",
       "      <td>...</td>\n",
       "      <td>2017-12-11</td>\n",
       "      <td>11:51:23</td>\n",
       "      <td>비씨</td>\n",
       "      <td>759344728</td>\n",
       "      <td>2017-12-12</td>\n",
       "      <td>2017-12-14</td>\n",
       "      <td>정산완료</td>\n",
       "      <td>승인</td>\n",
       "      <td>116</td>\n",
       "      <td>4,884</td>\n",
       "    </tr>\n",
       "    <tr>\n",
       "      <th>3124</th>\n",
       "      <td>999</td>\n",
       "      <td>999</td>\n",
       "      <td>999</td>\n",
       "      <td>999</td>\n",
       "      <td>999</td>\n",
       "      <td>999</td>\n",
       "      <td>999</td>\n",
       "      <td>999</td>\n",
       "      <td>1388514922</td>\n",
       "      <td>10611052</td>\n",
       "      <td>...</td>\n",
       "      <td>2017-12-11</td>\n",
       "      <td>11:52:38</td>\n",
       "      <td>국민</td>\n",
       "      <td>45408154</td>\n",
       "      <td>2017-12-12</td>\n",
       "      <td>2017-12-14</td>\n",
       "      <td>정산완료</td>\n",
       "      <td>승인</td>\n",
       "      <td>75</td>\n",
       "      <td>4,925</td>\n",
       "    </tr>\n",
       "  </tbody>\n",
       "</table>\n",
       "<p>2 rows × 31 columns</p>\n",
       "</div>"
      ],
      "text/plain": [
       "       NO  NO2  NO3  NO4  NO5  NO6  NO7  NO8        고객ID       발급사  ...    \\\n",
       "3123  998  998  998  998  998  998  998  998  1388514922  10611052  ...     \n",
       "3124  999  999  999  999  999  999  999  999  1388514922  10611052  ...     \n",
       "\n",
       "            거래일자      거래시간 매입사      가맹점번호        매입일자      입금예정일자  정산상태 거래유형  \\\n",
       "3123  2017-12-11  11:51:23  비씨  759344728  2017-12-12  2017-12-14  정산완료   승인   \n",
       "3124  2017-12-11  11:52:38  국민   45408154  2017-12-12  2017-12-14  정산완료   승인   \n",
       "\n",
       "      수수료  입금예정액  \n",
       "3123  116  4,884  \n",
       "3124   75  4,925  \n",
       "\n",
       "[2 rows x 31 columns]"
      ]
     },
     "execution_count": 180,
     "metadata": {},
     "output_type": "execute_result"
    }
   ],
   "source": [
    "# 파일 불러오기\n",
    "file = 'data/SEM_01_bak.xlsx'\n",
    "df = check_xls(file, info=True).tail(2)\n",
    "df"
   ]
  },
  {
   "cell_type": "code",
   "execution_count": 174,
   "metadata": {},
   "outputs": [
    {
     "name": "stdout",
     "output_type": "stream",
     "text": [
      "<class 'pandas.core.frame.DataFrame'>\n",
      "RangeIndex: 2 entries, 3123 to 3124\n",
      "Data columns (total 31 columns):\n",
      "NO        2 non-null int64\n",
      "NO2       2 non-null int64\n",
      "NO3       2 non-null int64\n",
      "NO4       2 non-null int64\n",
      "NO5       2 non-null int64\n",
      "NO6       2 non-null int64\n",
      "NO7       2 non-null int64\n",
      "NO8       2 non-null int64\n",
      "고객ID      2 non-null int64\n",
      "발급사       2 non-null object\n",
      "거래건수      2 non-null object\n",
      "공급금액      2 non-null object\n",
      "부가세       2 non-null object\n",
      "거래금액      1 non-null object\n",
      "카드번호      2 non-null object\n",
      "봉사료       2 non-null int64\n",
      "부가세2      2 non-null int64\n",
      "거래금액2     2 non-null int64\n",
      "승인번호      2 non-null int64\n",
      "할부        2 non-null int64\n",
      "원거래일자     2 non-null object\n",
      "거래일자      2 non-null object\n",
      "거래시간      2 non-null object\n",
      "매입사       2 non-null object\n",
      "가맹점번호     2 non-null int64\n",
      "매입일자      2 non-null object\n",
      "입금예정일자    2 non-null object\n",
      "정산상태      2 non-null object\n",
      "거래유형      2 non-null object\n",
      "수수료       2 non-null int64\n",
      "입금예정액     2 non-null int64\n",
      "dtypes: int64(17), object(14)\n",
      "memory usage: 580.0+ bytes\n"
     ]
    }
   ],
   "source": [
    "df.info()"
   ]
  },
  {
   "cell_type": "code",
   "execution_count": 159,
   "metadata": {},
   "outputs": [],
   "source": [
    "tt = ['test', 'temp', 'test']"
   ]
  },
  {
   "cell_type": "code",
   "execution_count": 160,
   "metadata": {},
   "outputs": [
    {
     "ename": "AttributeError",
     "evalue": "'list' object has no attribute 'values'",
     "output_type": "error",
     "traceback": [
      "\u001b[0;31m---------------------------------------------------------------------------\u001b[0m",
      "\u001b[0;31mAttributeError\u001b[0m                            Traceback (most recent call last)",
      "\u001b[0;32m<ipython-input-160-2b5cc3646501>\u001b[0m in \u001b[0;36m<module>\u001b[0;34m\u001b[0m\n\u001b[0;32m----> 1\u001b[0;31m \u001b[0mtt\u001b[0m\u001b[0;34m.\u001b[0m\u001b[0mvalues\u001b[0m\u001b[0;34m\u001b[0m\u001b[0m\n\u001b[0m",
      "\u001b[0;31mAttributeError\u001b[0m: 'list' object has no attribute 'values'"
     ]
    }
   ],
   "source": [
    "tt.values"
   ]
  },
  {
   "cell_type": "code",
   "execution_count": 157,
   "metadata": {},
   "outputs": [
    {
     "data": {
      "text/plain": [
       "['NO',\n",
       " 'NO1',\n",
       " 'NO2',\n",
       " 'NO3',\n",
       " 'NO4',\n",
       " 'NO5',\n",
       " 'NO6',\n",
       " 'NO7',\n",
       " '고객ID',\n",
       " '발급사',\n",
       " '거래건수',\n",
       " '공급금액',\n",
       " '부가세',\n",
       " '거래금액',\n",
       " '카드번호',\n",
       " '봉사료',\n",
       " '부가세16',\n",
       " '거래금액17',\n",
       " '승인번호',\n",
       " '할부',\n",
       " '원거래일자',\n",
       " '거래일자',\n",
       " '거래시간',\n",
       " '매입사',\n",
       " '가맹점번호',\n",
       " '매입일자',\n",
       " '입금예정일자',\n",
       " '정산상태',\n",
       " '거래유형',\n",
       " '수수료',\n",
       " '입금예정액']"
      ]
     },
     "execution_count": 157,
     "metadata": {},
     "output_type": "execute_result"
    }
   ],
   "source": [
    "rename"
   ]
  },
  {
   "cell_type": "code",
   "execution_count": null,
   "metadata": {},
   "outputs": [],
   "source": []
  },
  {
   "cell_type": "code",
   "execution_count": 76,
   "metadata": {},
   "outputs": [],
   "source": [
    "for col_name in df.columns:\n",
    "    try:\n",
    "        df[col_name] = df[col_name].astype(int)\n",
    "    except:\n",
    "        pass"
   ]
  },
  {
   "cell_type": "code",
   "execution_count": 81,
   "metadata": {},
   "outputs": [
    {
     "data": {
      "text/html": [
       "<div>\n",
       "<style scoped>\n",
       "    .dataframe tbody tr th:only-of-type {\n",
       "        vertical-align: middle;\n",
       "    }\n",
       "\n",
       "    .dataframe tbody tr th {\n",
       "        vertical-align: top;\n",
       "    }\n",
       "\n",
       "    .dataframe thead th {\n",
       "        text-align: right;\n",
       "    }\n",
       "</style>\n",
       "<table border=\"1\" class=\"dataframe\">\n",
       "  <thead>\n",
       "    <tr style=\"text-align: right;\">\n",
       "      <th>2</th>\n",
       "      <th>거래금액</th>\n",
       "      <th>거래금액</th>\n",
       "    </tr>\n",
       "  </thead>\n",
       "  <tbody>\n",
       "    <tr>\n",
       "      <th>3123</th>\n",
       "      <td>NaN</td>\n",
       "      <td>5000</td>\n",
       "    </tr>\n",
       "    <tr>\n",
       "      <th>3124</th>\n",
       "      <td>Y</td>\n",
       "      <td>5000</td>\n",
       "    </tr>\n",
       "  </tbody>\n",
       "</table>\n",
       "</div>"
      ],
      "text/plain": [
       "2    거래금액  거래금액\n",
       "3123  NaN  5000\n",
       "3124    Y  5000"
      ]
     },
     "execution_count": 81,
     "metadata": {},
     "output_type": "execute_result"
    }
   ],
   "source": [
    "df['거래금액']"
   ]
  },
  {
   "cell_type": "code",
   "execution_count": 77,
   "metadata": {},
   "outputs": [
    {
     "ename": "NameError",
     "evalue": "name '거래금액' is not defined",
     "output_type": "error",
     "traceback": [
      "\u001b[0;31m---------------------------------------------------------------------------\u001b[0m",
      "\u001b[0;31mNameError\u001b[0m                                 Traceback (most recent call last)",
      "\u001b[0;32m<ipython-input-77-cf117fbf92e0>\u001b[0m in \u001b[0;36m<module>\u001b[0;34m\u001b[0m\n\u001b[0;32m----> 1\u001b[0;31m \u001b[0m거래금액\u001b[0m\u001b[0;34m,\u001b[0m \u001b[0;34m\"봉사료\"\u001b[0m\u001b[0;34m,\u001b[0m \u001b[0;34m\"부가세\"\u001b[0m\u001b[0;34m,\u001b[0m \u001b[0;34m\"거래금액\"\u001b[0m\u001b[0;34m,\u001b[0m \u001b[0;34m\"수수료\"\u001b[0m\u001b[0;34m,\u001b[0m \u001b[0;34m\"입금예정액\"\u001b[0m\u001b[0;34m\u001b[0m\u001b[0m\n\u001b[0m",
      "\u001b[0;31mNameError\u001b[0m: name '거래금액' is not defined"
     ]
    }
   ],
   "source": [
    "거래금액, \"봉사료\", \"부가세\", \"거래금액\", \"수수료\", \"입금예정액\""
   ]
  },
  {
   "cell_type": "code",
   "execution_count": 78,
   "metadata": {},
   "outputs": [
    {
     "data": {
      "text/html": [
       "<div>\n",
       "<style scoped>\n",
       "    .dataframe tbody tr th:only-of-type {\n",
       "        vertical-align: middle;\n",
       "    }\n",
       "\n",
       "    .dataframe tbody tr th {\n",
       "        vertical-align: top;\n",
       "    }\n",
       "\n",
       "    .dataframe thead th {\n",
       "        text-align: right;\n",
       "    }\n",
       "</style>\n",
       "<table border=\"1\" class=\"dataframe\">\n",
       "  <thead>\n",
       "    <tr style=\"text-align: right;\">\n",
       "      <th>2</th>\n",
       "      <th>NO</th>\n",
       "      <th>NO</th>\n",
       "      <th>NO</th>\n",
       "      <th>NO</th>\n",
       "      <th>NO</th>\n",
       "      <th>NO</th>\n",
       "      <th>NO</th>\n",
       "      <th>NO</th>\n",
       "      <th>고객ID</th>\n",
       "      <th>발급사</th>\n",
       "      <th>...</th>\n",
       "      <th>거래일자</th>\n",
       "      <th>거래시간</th>\n",
       "      <th>매입사</th>\n",
       "      <th>가맹점번호</th>\n",
       "      <th>매입일자</th>\n",
       "      <th>입금예정일자</th>\n",
       "      <th>정산상태</th>\n",
       "      <th>거래유형</th>\n",
       "      <th>수수료</th>\n",
       "      <th>입금예정액</th>\n",
       "    </tr>\n",
       "  </thead>\n",
       "  <tbody>\n",
       "    <tr>\n",
       "      <th>3123</th>\n",
       "      <td>998</td>\n",
       "      <td>998</td>\n",
       "      <td>998</td>\n",
       "      <td>998</td>\n",
       "      <td>998</td>\n",
       "      <td>998</td>\n",
       "      <td>998</td>\n",
       "      <td>998</td>\n",
       "      <td>1388514922</td>\n",
       "      <td>10611052</td>\n",
       "      <td>...</td>\n",
       "      <td>2017-12-11</td>\n",
       "      <td>11:51:23</td>\n",
       "      <td>비씨</td>\n",
       "      <td>759344728</td>\n",
       "      <td>2017-12-12</td>\n",
       "      <td>2017-12-14</td>\n",
       "      <td>정산완료</td>\n",
       "      <td>승인</td>\n",
       "      <td>116</td>\n",
       "      <td>4,884</td>\n",
       "    </tr>\n",
       "    <tr>\n",
       "      <th>3124</th>\n",
       "      <td>999</td>\n",
       "      <td>999</td>\n",
       "      <td>999</td>\n",
       "      <td>999</td>\n",
       "      <td>999</td>\n",
       "      <td>999</td>\n",
       "      <td>999</td>\n",
       "      <td>999</td>\n",
       "      <td>1388514922</td>\n",
       "      <td>10611052</td>\n",
       "      <td>...</td>\n",
       "      <td>2017-12-11</td>\n",
       "      <td>11:52:38</td>\n",
       "      <td>국민</td>\n",
       "      <td>45408154</td>\n",
       "      <td>2017-12-12</td>\n",
       "      <td>2017-12-14</td>\n",
       "      <td>정산완료</td>\n",
       "      <td>승인</td>\n",
       "      <td>75</td>\n",
       "      <td>4,925</td>\n",
       "    </tr>\n",
       "  </tbody>\n",
       "</table>\n",
       "<p>2 rows × 31 columns</p>\n",
       "</div>"
      ],
      "text/plain": [
       "2      NO   NO   NO   NO   NO   NO   NO   NO        고객ID       발급사  ...    \\\n",
       "3123  998  998  998  998  998  998  998  998  1388514922  10611052  ...     \n",
       "3124  999  999  999  999  999  999  999  999  1388514922  10611052  ...     \n",
       "\n",
       "2           거래일자      거래시간 매입사      가맹점번호        매입일자      입금예정일자  정산상태 거래유형  \\\n",
       "3123  2017-12-11  11:51:23  비씨  759344728  2017-12-12  2017-12-14  정산완료   승인   \n",
       "3124  2017-12-11  11:52:38  국민   45408154  2017-12-12  2017-12-14  정산완료   승인   \n",
       "\n",
       "2     수수료  입금예정액  \n",
       "3123  116  4,884  \n",
       "3124   75  4,925  \n",
       "\n",
       "[2 rows x 31 columns]"
      ]
     },
     "execution_count": 78,
     "metadata": {},
     "output_type": "execute_result"
    }
   ],
   "source": [
    "df.head()"
   ]
  },
  {
   "cell_type": "code",
   "execution_count": 80,
   "metadata": {},
   "outputs": [
    {
     "data": {
      "text/plain": [
       "'<table border=\"1\" class=\"dataframe\">\\n  <thead>\\n    <tr style=\"text-align: right;\">\\n      <th>2</th>\\n      <th>NO</th>\\n      <th>NO</th>\\n      <th>NO</th>\\n      <th>NO</th>\\n      <th>NO</th>\\n      <th>NO</th>\\n      <th>NO</th>\\n      <th>NO</th>\\n      <th>고객ID</th>\\n      <th>발급사</th>\\n      <th>거래건수</th>\\n      <th>공급금액</th>\\n      <th>부가세</th>\\n      <th>거래금액</th>\\n      <th>카드번호</th>\\n      <th>봉사료</th>\\n      <th>부가세</th>\\n      <th>거래금액</th>\\n      <th>승인번호</th>\\n      <th>할부</th>\\n      <th>원거래일자</th>\\n      <th>거래일자</th>\\n      <th>거래시간</th>\\n      <th>매입사</th>\\n      <th>가맹점번호</th>\\n      <th>매입일자</th>\\n      <th>입금예정일자</th>\\n      <th>정산상태</th>\\n      <th>거래유형</th>\\n      <th>수수료</th>\\n      <th>입금예정액</th>\\n    </tr>\\n  </thead>\\n  <tbody>\\n    <tr>\\n      <th>3123</th>\\n      <td>998</td>\\n      <td>998</td>\\n      <td>998</td>\\n      <td>998</td>\\n      <td>998</td>\\n      <td>998</td>\\n      <td>998</td>\\n      <td>998</td>\\n      <td>1388514922</td>\\n      <td>10611052</td>\\n      <td>(주)무영인터내쇼날 구내식당</td>\\n      <td>비씨</td>\\n      <td>BS10</td>\\n      <td>NaN</td>\\n      <td>6559-20**-****-3143</td>\\n      <td>0</td>\\n      <td>455</td>\\n      <td>5000</td>\\n      <td>71614575</td>\\n      <td>0</td>\\n      <td>-  -</td>\\n      <td>2017-12-11</td>\\n      <td>11:51:23</td>\\n      <td>비씨</td>\\n      <td>759344728</td>\\n      <td>2017-12-12</td>\\n      <td>2017-12-14</td>\\n      <td>정산완료</td>\\n      <td>승인</td>\\n      <td>116</td>\\n      <td>4,884</td>\\n    </tr>\\n    <tr>\\n      <th>3124</th>\\n      <td>999</td>\\n      <td>999</td>\\n      <td>999</td>\\n      <td>999</td>\\n      <td>999</td>\\n      <td>999</td>\\n      <td>999</td>\\n      <td>999</td>\\n      <td>1388514922</td>\\n      <td>10611052</td>\\n      <td>(주)무영인터내쇼날 구내식당</td>\\n      <td>국민</td>\\n      <td>BS10</td>\\n      <td>Y</td>\\n      <td>5365-10**-****-7305</td>\\n      <td>0</td>\\n      <td>455</td>\\n      <td>5000</td>\\n      <td>30000253</td>\\n      <td>0</td>\\n      <td>-  -</td>\\n      <td>2017-12-11</td>\\n      <td>11:52:38</td>\\n      <td>국민</td>\\n      <td>45408154</td>\\n      <td>2017-12-12</td>\\n      <td>2017-12-14</td>\\n      <td>정산완료</td>\\n      <td>승인</td>\\n      <td>75</td>\\n      <td>4,925</td>\\n    </tr>\\n  </tbody>\\n</table>'"
      ]
     },
     "execution_count": 80,
     "metadata": {},
     "output_type": "execute_result"
    }
   ],
   "source": [
    "df.to_html()"
   ]
  },
  {
   "cell_type": "code",
   "execution_count": null,
   "metadata": {},
   "outputs": [],
   "source": [
    "df.to_html(table_id=None,\n",
    "           columns=None, \n",
    "           border=None, \n",
    "           col_space=None, \n",
    "           decimal='.', \n",
    "           header=True, \n",
    "           index=True, \n",
    "           na_rep='NaN', \n",
    "           formatters=None, \n",
    "           float_format=None, \n",
    "           sparsify=None, \n",
    "           index_names=True, \n",
    "           justify=None, \n",
    "           bold_rows=True, \n",
    "           classes=None, \n",
    "           escape=True, \n",
    "           max_rows=None, \n",
    "           max_cols=None, \n",
    "           show_dimensions=False, \n",
    "           notebook=False, \n",
    "           buf=None))"
   ]
  },
  {
   "cell_type": "code",
   "execution_count": null,
   "metadata": {},
   "outputs": [],
   "source": []
  }
 ],
 "metadata": {
  "kernelspec": {
   "display_name": "Python 3",
   "language": "python",
   "name": "python3"
  },
  "language_info": {
   "codemirror_mode": {
    "name": "ipython",
    "version": 3
   },
   "file_extension": ".py",
   "mimetype": "text/x-python",
   "name": "python",
   "nbconvert_exporter": "python",
   "pygments_lexer": "ipython3",
   "version": "3.6.3"
  }
 },
 "nbformat": 4,
 "nbformat_minor": 2
}
