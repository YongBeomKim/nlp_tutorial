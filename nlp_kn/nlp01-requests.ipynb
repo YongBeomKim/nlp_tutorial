{
 "cells": [
  {
   "cell_type": "markdown",
   "metadata": {},
   "source": [
    "# **자연어 분석 1일 - Requests**\n",
    "- 데이터 크롤링 수업내용 정리\n",
    "- **한국IT비지니스진흥협회**"
   ]
  },
  {
   "cell_type": "markdown",
   "metadata": {},
   "source": [
    "# **urllib 모듈을 사용한 크롤링**\n",
    "## **1 urlparse**\n",
    "Python3 에서 기본제공하는 크롤링 수집기"
   ]
  },
  {
   "cell_type": "code",
   "execution_count": 3,
   "metadata": {},
   "outputs": [],
   "source": [
    "from urllib import parse\n",
    "\n",
    "url = \"https://www.google.com/search?q=%EB%B0%95%EB%B3%B4%EC%98%81\"\n",
    "# 기본 URL 과 GET Params 내용의 추출\n",
    "parse.urlparse(url) "
   ]
  },
  {
   "cell_type": "code",
   "execution_count": 4,
   "metadata": {},
   "outputs": [
    {
     "data": {
      "text/plain": [
       "'https://www.google.com/search/about'"
      ]
     },
     "execution_count": 4,
     "metadata": {},
     "output_type": "execute_result"
    }
   ],
   "source": [
    "# GET Params 내용의 변경\n",
    "parse.urljoin(url, '/search/about')"
   ]
  },
  {
   "cell_type": "code",
   "execution_count": 5,
   "metadata": {},
   "outputs": [
    {
     "data": {
      "text/plain": [
       "'q=%EC%9E%90%EC%97%B0%EC%96%B4%EB%B6%84%EC%84%9D'"
      ]
     },
     "execution_count": 5,
     "metadata": {},
     "output_type": "execute_result"
    }
   ],
   "source": [
    "# Unicode TEXT 를 Byte Text 로 변경 & Get Query 생성\n",
    "parse.urlencode({'q':\"자연어분석\"})"
   ]
  },
  {
   "cell_type": "code",
   "execution_count": 6,
   "metadata": {},
   "outputs": [
    {
     "data": {
      "text/plain": [
       "'%ED%8C%8C%EC%9D%B4%EC%8D%AC'"
      ]
     },
     "execution_count": 6,
     "metadata": {},
     "output_type": "execute_result"
    }
   ],
   "source": [
    "# Byte Text 생성\n",
    "txt_byte = parse.quote_plus('파이썬')\n",
    "txt_byte"
   ]
  },
  {
   "cell_type": "code",
   "execution_count": 7,
   "metadata": {},
   "outputs": [
    {
     "data": {
      "text/plain": [
       "'파이썬'"
      ]
     },
     "execution_count": 7,
     "metadata": {},
     "output_type": "execute_result"
    }
   ],
   "source": [
    "# Byte Text 인코딩 변환\n",
    "parse.unquote_plus(txt_byte)"
   ]
  },
  {
   "cell_type": "markdown",
   "metadata": {},
   "source": [
    "## **2 Naver News 수집기 테스트**\n",
    "- **Robots.txt** 로 수집 허용범위 확인하기 **(OPT-OUT 내용을 정의)**\n",
    "- 별도의 인증서를 필요로 하는 경우는 아래의 설정을 추가해야 한다\n",
    "\n",
    "```python\n",
    "Signature:\n",
    "request.urlopen(\n",
    "    url,\n",
    "    data=None,\n",
    "    timeout=<object object at 0x7f468312d550>,\n",
    "    *,\n",
    "    cafile=None,\n",
    "    capath=None,\n",
    "    cadefault=False,\n",
    "    context=None\n",
    ")\n",
    "```"
   ]
  },
  {
   "cell_type": "code",
   "execution_count": 8,
   "metadata": {},
   "outputs": [
    {
     "data": {
      "text/plain": [
       "b'User-agent: Yeti\\nAllow: /main/imagemontage\\nDisallow: /\\nUser-agent: *\\nDisallow: /'"
      ]
     },
     "execution_count": 8,
     "metadata": {},
     "output_type": "execute_result"
    }
   ],
   "source": [
    "# Python 기본 모듈인 urllib 을 사용하여 Robots.txt 내용 확인하기\n",
    "url = \"https://news.naver.com/robots.txt\"\n",
    "\n",
    "from urllib import request\n",
    "resp = request.urlopen(url)\n",
    "resp.read()"
   ]
  },
  {
   "cell_type": "code",
   "execution_count": 9,
   "metadata": {},
   "outputs": [
    {
     "data": {
      "text/plain": [
       "False"
      ]
     },
     "execution_count": 9,
     "metadata": {},
     "output_type": "execute_result"
    }
   ],
   "source": [
    "# Robots.txt 수집범위 Test Driven\n",
    "from urllib import robotparser\n",
    "robot = robotparser.RobotFileParser()\n",
    "robot.set_url(url)\n",
    "robot.read()\n",
    "robot.can_fetch(\"text\", '/')"
   ]
  },
  {
   "cell_type": "code",
   "execution_count": 10,
   "metadata": {},
   "outputs": [
    {
     "data": {
      "text/plain": [
       "True"
      ]
     },
     "execution_count": 10,
     "metadata": {},
     "output_type": "execute_result"
    }
   ],
   "source": [
    "# User-Agent 중 \"Yeti\" 로 혀용범위를 사용한 추출 테스트\n",
    "robot.can_fetch(\"Yeti\", '/main/imagemontage')"
   ]
  },
  {
   "cell_type": "markdown",
   "metadata": {},
   "source": [
    "## **3 Google 수집기 테스트**\n",
    "### **01 구글 Header 내용의 확인**\n",
    "- 제한조건이 까다롭고 수집기별 작동시 제한이 많다"
   ]
  },
  {
   "cell_type": "code",
   "execution_count": 11,
   "metadata": {},
   "outputs": [
    {
     "data": {
      "text/plain": [
       "b'User-agent: *\\nDisallow: /search\\nAllow: /search/about\\nAllow: /search/static\\nAllow: /search/howsearchworks\\nDisallow: /sdch\\nDisallow: /groups\\nDisallow: /index.html?\\nDisallow: /?\\nAllow: /?hl=\\nDisallow: /?hl=*&\\nAllow: /?hl=*&gws_rd=ssl$\\nDisallow: /?hl=*&*&gws_rd=ssl\\nAllow: /?gws_rd=ssl$\\nAllow: /?pt1=true$\\nDisallow: /imgres\\nDisallow: /u/\\nDisallow: /preferences\\nDisallow: /setprefs\\nDisallow: /default\\nDisallow: /m?\\nDisallow: /m/\\nAllow:    /m/finance\\nDisallow: /wml?\\nDisallow: /wml/?\\nDisallow: /wml/search?'"
      ]
     },
     "execution_count": 11,
     "metadata": {},
     "output_type": "execute_result"
    }
   ],
   "source": [
    "# Robots.txt 내용 확인하기\n",
    "url = \"https://www.google.com/robots.txt\"\n",
    "resp = request.urlopen(url)\n",
    "resp.read()[:500]"
   ]
  },
  {
   "cell_type": "code",
   "execution_count": 12,
   "metadata": {},
   "outputs": [
    {
     "data": {
      "text/plain": [
       "http.client.HTTPResponse"
      ]
     },
     "execution_count": 12,
     "metadata": {},
     "output_type": "execute_result"
    }
   ],
   "source": [
    "# response 객체 생성하기\n",
    "from urllib import request\n",
    "url = \"https://www.google.com\"\n",
    "resp = request.urlopen(url)\n",
    "\n",
    "# Generator 로 1번 읽으면 없어진다\n",
    "type(resp)"
   ]
  },
  {
   "cell_type": "code",
   "execution_count": 13,
   "metadata": {},
   "outputs": [
    {
     "data": {
      "text/plain": [
       "[('Date', 'Tue, 23 Jul 2019 00:22:06 GMT'),\n",
       " ('Expires', '-1'),\n",
       " ('Cache-Control', 'private, max-age=0'),\n",
       " ('Content-Type', 'text/html; charset=ISO-8859-1'),\n",
       " ('P3P', 'CP=\"This is not a P3P policy! See g.co/p3phelp for more info.\"'),\n",
       " ('Server', 'gws'),\n",
       " ('X-XSS-Protection', '0'),\n",
       " ('X-Frame-Options', 'SAMEORIGIN'),\n",
       " ('Set-Cookie',\n",
       "  '1P_JAR=2019-07-23-00; expires=Thu, 22-Aug-2019 00:22:06 GMT; path=/; domain=.google.com'),\n",
       " ('Set-Cookie',\n",
       "  'NID=188=jjGQaRy-GF9JfZq9a0jzF3EirCiV-vaZH0f_AtPRosckLXTP6SIsIPhn5lyFtG-9ax-rG3DG1enLcgaUdq57uvZIzP1SwaKVHSyXKghmes75gN3NoeSiPAaMkgE7A-vaUvrp_t2kCFNOuj1KRhMndQKbq_Wfi_5XJXmkfMRmwR0; expires=Wed, 22-Jan-2020 00:22:06 GMT; path=/; domain=.google.com; HttpOnly'),\n",
       " ('Alt-Svc', 'quic=\":443\"; ma=2592000; v=\"46,43,39\"'),\n",
       " ('Accept-Ranges', 'none'),\n",
       " ('Vary', 'Accept-Encoding'),\n",
       " ('Connection', 'close')]"
      ]
     },
     "execution_count": 13,
     "metadata": {},
     "output_type": "execute_result"
    }
   ],
   "source": [
    "# Response Header 값의 해석\n",
    "resp.getheaders()"
   ]
  },
  {
   "cell_type": "markdown",
   "metadata": {},
   "source": [
    "### **02 구글 검색결과 내용의 확인**\n",
    "```python\n",
    "url = \"\"\"https://www.google.com/search?client=ubuntu&hs=aqE\n",
    "    &channel=fs&ei=5Zs1XbP9OtyAr7wP5O-q6A4\n",
    "    &q=%EB%B0%95%EB%B3%B4%EC%98%81\n",
    "    &oq=%EB%B0%95%EB%B3%B4%EC%98%81\n",
    "    &gs_l=psy-ab.3..0l10.3038266.3042074..3042290...8.0..1.183.2500.1j\n",
    "    17......0....1..gws-wiz.....0..0i71j0i273j0i10i67j0i10j0i10i42j0i1\n",
    "    0i30j0i13i30j0i131.1QqFyiatYic\n",
    "    &ved=0ahUKEwjzg8eQtMjjAhVcwIsBHeS3Cu0Q4dUDCAo&uact=5\"\"\"\n",
    "```"
   ]
  },
  {
   "cell_type": "code",
   "execution_count": 14,
   "metadata": {},
   "outputs": [],
   "source": [
    "# HTTPError: HTTP Error 403: Forbidden 를 발생한다\n",
    "url = \"https://www.google.com/search?client=ubuntu&q=%EB%B0%95%EB%B3%B4%EC%98%81\"\n",
    "# resp = request.urlopen(url)\n",
    "# resp.getheaders()"
   ]
  },
  {
   "cell_type": "markdown",
   "metadata": {},
   "source": [
    "### **03 Bot 수집기를 숨겨서 Https Forbiden 통과시키기**\n",
    "- 수집기에 **Header 를 추가해서** 브라우저로 속여야 한다\n",
    "- 단 주의할 점은 **영어 이외의 문자는 \"%EB%B0%95%EB%B3%B4%EC%98%81\" Byte 데이터로** 입력을 해야 한다"
   ]
  },
  {
   "cell_type": "code",
   "execution_count": 15,
   "metadata": {},
   "outputs": [
    {
     "data": {
      "text/plain": [
       "[('Content-Type', 'text/html; charset=UTF-8'),\n",
       " ('Date', 'Tue, 23 Jul 2019 00:22:06 GMT'),\n",
       " ('Expires', '-1'),\n",
       " ('Cache-Control', 'private, max-age=0'),\n",
       " ('Strict-Transport-Security', 'max-age=31536000'),\n",
       " ('P3P', 'CP=\"This is not a P3P policy! See g.co/p3phelp for more info.\"'),\n",
       " ('Server', 'gws'),\n",
       " ('X-XSS-Protection', '0'),\n",
       " ('X-Frame-Options', 'SAMEORIGIN'),\n",
       " ('Set-Cookie',\n",
       "  '1P_JAR=2019-07-23-00; expires=Thu, 22-Aug-2019 00:22:06 GMT; path=/; domain=.google.com'),\n",
       " ('Set-Cookie',\n",
       "  'CGIC=CgZ1YnVudHU; expires=Sun, 19-Jan-2020 00:22:06 GMT; path=/complete/search; domain=.google.com; HttpOnly'),\n",
       " ('Set-Cookie',\n",
       "  'CGIC=CgZ1YnVudHU; expires=Sun, 19-Jan-2020 00:22:06 GMT; path=/search; domain=.google.com; HttpOnly'),\n",
       " ('Set-Cookie',\n",
       "  'NID=188=j3SMQ6lDpWkqocXY8O9RseYy-NPwo4p_7GuvB_Lsn0J7PRXOiHNW1zzQvSaGCmf_wI8Vw05jQxu5G5iaCEflygPmm9a8l16eofhODpZhH6HNrTn7iOn-VEguFsNbycBuR8v-JoNmyfCIuNr5veMpWBdq9k3dDIxPaMPNCbJT9vU; expires=Wed, 22-Jan-2020 00:22:06 GMT; path=/; domain=.google.com; HttpOnly'),\n",
       " ('Alt-Svc', 'quic=\":443\"; ma=2592000; v=\"46,43,39\"'),\n",
       " ('Accept-Ranges', 'none'),\n",
       " ('Vary', 'Accept-Encoding'),\n",
       " ('Connection', 'close')]"
      ]
     },
     "execution_count": 15,
     "metadata": {},
     "output_type": "execute_result"
    }
   ],
   "source": [
    "# url 을 입력시 Byte 로 꼭 변환을 해야만 한다\n",
    "userAgent = {\"user-agent\":\"Mozilla/5.0 (X11; Ubuntu; Linux x86_64; rv:61.0) Gecko/20100101 Firefox/61.0\"}\n",
    "req = request.Request(url, headers=userAgent)\n",
    "resp = request.urlopen(req)\n",
    "resp.getheaders()"
   ]
  },
  {
   "cell_type": "markdown",
   "metadata": {},
   "source": [
    "## **2 urllib 수집내용 살펴보기**\n",
    "- 수집시 Url 주소를 Byte 로 입력해야 하던 것처럼\n",
    "- response 결과값도 **Byte** 로 불러온다\n",
    "- **.decode('') 로 변환하면 정상적인 **String** 으로 활용이 가능\n",
    "- 단 response 는 **Generator** 인관계로 **1번 내용을 확인하면 메모리서 삭제** 됨에 주의 할 것!!!"
   ]
  },
  {
   "cell_type": "code",
   "execution_count": 16,
   "metadata": {},
   "outputs": [
    {
     "data": {
      "text/plain": [
       "b'<!doctype html><html itemscope=\"\" itemtype=\"http://schema.org/SearchResultsPage\" lang=\"ko\"><head><meta content=\"/images/branding/googleg/1x/googleg_standard_color_128dp.png\" itemprop=\"image\"><meta content=\"origin\" name=\"referrer\"><title>\\xeb\\xb0\\x95\\xeb\\xb3\\xb4\\xec\\x98\\x81 - Google \\xea\\xb2\\x80\\xec\\x83\\x89</title><script nonce=\"hMiAoNZ07spDiIW8E/oedA==\">(function(){window.google={kEI:\\'LlM2XejaIbCwmAXp06XIAg\\',kEXPI:\\'31\\',authuser:0,kscs:\\'c9c918f0_LlM2XejaIbCwmAXp06XIAg\\',kGL:\\'KR\\'};google.sn=\\'web\\';google.kHL=\\'ko\\';google.jsfs=\\'\\';})();(function(){google.lc=[];google.li=0;google.getEI=function(a){for(var b;a&&(!a.getAttribute||!(b=a.getAttribute(\"eid\")));)a=a.parentNode;return b||google.kEI};google.getLEI=function(a){for(var b=null;a&&(!a.getAttribute||!(b=a.getAttribute(\"leid\")));)a=a.parentNode;return b};google.https=function(){return\"https:\"==window.location.protocol};google.ml=function(){return null};google.time=function(){return(new Date).getTime()};google.log=function(a,b,e,c,g){if(a=google.logUrl(a,b,e,c,g)){b=new Image;var d=google.lc,f=google.li;d[f]=b;b.onerror=b.onload=b.onabort=function(){delete d[f]};google.vel&&google.vel.lu&&google.vel.lu(a);b.src=a;google.li=f+1}};google.logUrl=function(a,b,e,c,g){var d=\"\",f=google.l'"
      ]
     },
     "execution_count": 16,
     "metadata": {},
     "output_type": "execute_result"
    }
   ],
   "source": [
    "# Byte 원본 내용 그대로 살펴보기\n",
    "resp.read()[:1200]"
   ]
  },
  {
   "cell_type": "code",
   "execution_count": 17,
   "metadata": {},
   "outputs": [
    {
     "data": {
      "text/plain": [
       "''"
      ]
     },
     "execution_count": 17,
     "metadata": {},
     "output_type": "execute_result"
    }
   ],
   "source": [
    "# Generator 의 한계로 위에서 내용을 확인하면, .decode 결과는 출력되지 않는다\n",
    "# 따라서 변수로 객체내용을 저장한 뒤 반복 활용을 해야만 된다\n",
    "resp.read().decode('utf-8')"
   ]
  },
  {
   "cell_type": "markdown",
   "metadata": {},
   "source": [
    "# **requests 상위모듈의 활용**\n",
    "## **1 requests 모듈 사용하기**\n",
    "- **! pip install requests**\n",
    "- urllib 는 **Byte Get Query** 입력 \n",
    "- 사용자 정보를 위한 **header** 정보를 추가로 필요로 한다\n",
    "- response 결과값에 대해 **decode** 해석 을 맞춰야 한다"
   ]
  },
  {
   "cell_type": "code",
   "execution_count": 18,
   "metadata": {},
   "outputs": [
    {
     "data": {
      "text/plain": [
       "{'User-Agent': 'python-requests/2.22.0', 'Accept-Encoding': 'gzip, deflate', 'Accept': '*/*', 'Connection': 'keep-alive'}"
      ]
     },
     "execution_count": 18,
     "metadata": {},
     "output_type": "execute_result"
    }
   ],
   "source": [
    "# 생성자 면서도 Decoding 까지 자동으로 완료\n",
    "# 자동으로 Agent, String 쿼리문, response Decoder 까지 모두 맞춰준다\n",
    "url = \"https://www.google.com/search?q=박보영\"\n",
    "\n",
    "import requests\n",
    "resp = requests.request(\"get\", url)\n",
    "resp.request.headers"
   ]
  },
  {
   "cell_type": "code",
   "execution_count": 19,
   "metadata": {},
   "outputs": [
    {
     "name": "stdout",
     "output_type": "stream",
     "text": [
      "https://www.google.com/search?q=%EB%B0%95%EB%B3%B4%EC%98%81\n",
      "{'user-agent': 'Mozilla/5.0 (X11; Ubuntu; Linux x86_64; rv:61.0) Gecko/20100101 Firefox/61.0', 'Accept-Encoding': 'gzip, deflate', 'Accept': '*/*', 'Connection': 'keep-alive'}\n"
     ]
    },
    {
     "data": {
      "text/plain": [
       "['Content-Type',\n",
       " 'Date',\n",
       " 'Expires',\n",
       " 'Cache-Control',\n",
       " 'Strict-Transport-Security',\n",
       " 'P3P',\n",
       " 'Content-Encoding',\n",
       " 'Server',\n",
       " 'X-XSS-Protection',\n",
       " 'X-Frame-Options',\n",
       " 'Set-Cookie',\n",
       " 'Alt-Svc',\n",
       " 'Transfer-Encoding']"
      ]
     },
     "execution_count": 19,
     "metadata": {},
     "output_type": "execute_result"
    }
   ],
   "source": [
    "# url 내용을 추가\n",
    "url = \"https://www.google.com/search\"\n",
    "userAgent = {\"user-agent\":\"Mozilla/5.0 (X11; Ubuntu; Linux x86_64; rv:61.0) Gecko/20100101 Firefox/61.0\"}\n",
    "\n",
    "resp = requests.request(\"get\", \n",
    "                        url,\n",
    "                        params = {\"q\":\"박보영\"}, # Post 전송시 data 로 적용\n",
    "                        headers=userAgent)\n",
    "# user-Agent 등 번거로운 내용을 모두 자동으로 추가\n",
    "print(resp.request.url)\n",
    "print(resp.request.headers)\n",
    "list(resp.headers.keys())"
   ]
  },
  {
   "cell_type": "code",
   "execution_count": 20,
   "metadata": {},
   "outputs": [
    {
     "name": "stdout",
     "output_type": "stream",
     "text": [
      "200\n",
      "OK\n",
      "UTF-8\n"
     ]
    },
    {
     "data": {
      "text/plain": [
       "'<!doctype html><html itemscope=\"\" itemtype=\"http://schema.org/SearchResultsPage\" lang=\"ko\"><head><meta content=\"/images/branding/googleg/1x/googleg_standard_color_128dp.png\" itemprop=\"image\"><meta content=\"origin\" name=\"referrer\"><title>박보영 - Google 검색</title><script nonce=\"+TOvL8uyNmDt62AZ3XOiVw==\">(function(){window.google={kEI:\\'MFM2XZDcBNPGmAWoq4eQCw\\',kEXPI:\\'31\\',authuser:0,kscs:\\'c9c918f0_MFM2XZDcBNPGmAWoq4eQCw\\',kGL:\\'KR\\'};google.sn=\\'web\\';google.kHL=\\'ko\\';google.jsfs=\\'\\';})();(function(){google.l'"
      ]
     },
     "execution_count": 20,
     "metadata": {},
     "output_type": "execute_result"
    }
   ],
   "source": [
    "print(resp.status_code)\n",
    "print(resp.reason)   # status_code 를 해석\n",
    "print(resp.encoding) # 자동으로 문서에 맞는 인코딩 적용\n",
    "resp.text[:500]      # 인코딩 자동으로 적용"
   ]
  },
  {
   "cell_type": "code",
   "execution_count": 21,
   "metadata": {},
   "outputs": [
    {
     "data": {
      "text/plain": [
       "b'<!doctype html><html itemscope=\"\" itemtype=\"http://schema.org/SearchResultsPage\" lang=\"ko\"><head><meta content=\"/images/branding/googleg/1x/googleg_standard_color_128dp.png\" itemprop=\"image\"><meta content=\"origin\" name=\"referrer\"><title>\\xeb\\xb0\\x95\\xeb\\xb3\\xb4\\xec\\x98\\x81 - Google \\xea\\xb2\\x80\\xec\\x83\\x89</title><script nonce=\"+TOvL8uyNmDt62AZ3XOiVw==\">(function(){window.google={kEI:\\'MFM2XZDcBNPGmAWoq4eQCw\\',kEXPI:\\'31\\',authuser:0,kscs:\\'c9c918f0_MFM2XZDcBNPGmAWoq4eQCw\\',kGL:\\'KR\\'};google.sn=\\'web\\';google.kHL=\\'ko\\';google.jsfs=\\'\\';})();(function('"
      ]
     },
     "execution_count": 21,
     "metadata": {},
     "output_type": "execute_result"
    }
   ],
   "source": [
    "# Byte 원본 데이터 형태로 내용 살펴보기\n",
    "resp.content[:500]"
   ]
  },
  {
   "cell_type": "code",
   "execution_count": 22,
   "metadata": {},
   "outputs": [
    {
     "data": {
      "text/plain": [
       "'<!doctype html><html itemscope=\"\" itemtype=\"http://schema.org/SearchResultsPage\" lang=\"ko\"><head><meta content=\"/images/branding/googleg/1x/googleg_standard_color_128dp.png\" itemprop=\"image\"><meta content=\"origin\" name=\"referrer\"><title>諛�蹂댁�� - Google 寃����</title><script nonce=\"+TOvL8uyNmDt62AZ3XOiVw==\">(function(){window.google={kEI:\\'MFM2XZDcBNPGmAWoq4eQCw\\',kEXPI:\\'31\\',authuser:0,kscs:\\'c9c918f0_MFM2XZDcBNPGmAWoq4eQCw\\',kGL:\\'KR\\'};google.sn=\\'web\\';google.kHL=\\'ko\\';google.jsfs=\\'\\';})();(function(){go'"
      ]
     },
     "execution_count": 22,
     "metadata": {},
     "output_type": "execute_result"
    }
   ],
   "source": [
    "# 임의의 인코딩으로 변환하기\n",
    "resp.encoding = \"euc-kr\"\n",
    "resp.text[:500]"
   ]
  },
  {
   "cell_type": "code",
   "execution_count": 23,
   "metadata": {},
   "outputs": [
    {
     "data": {
      "text/plain": [
       "'<!doctype html><html itemscope=\"\" itemtype=\"http://schema.org/SearchResultsPage\" lang=\"ko\"><head><meta content=\"/images/branding/googleg/1x/googleg_standard_color_128dp.png\" itemprop=\"image\"><meta content=\"origin\" name=\"referrer\"><title>박보영 - Google 검색</title><script nonce=\"+TOvL8uyNmDt62AZ3XOiVw==\">(function(){window.google={kEI:\\'MFM2XZDcBNPGmAWoq4eQCw\\',kEXPI:\\'31\\',authuser:0,kscs:\\'c9c918f0_MFM2XZDcBNPGmAWoq4eQCw\\',kGL:\\'KR\\'};google.sn=\\'web\\';google.kHL=\\'ko\\';google.jsfs=\\'\\';})();(function(){google.l'"
      ]
     },
     "execution_count": 23,
     "metadata": {},
     "output_type": "execute_result"
    }
   ],
   "source": [
    "resp.encoding = \"utf-8\"\n",
    "resp.text[:500]"
   ]
  },
  {
   "cell_type": "markdown",
   "metadata": {},
   "source": [
    "## **2 HTTP(s)**\n",
    "- http://www.httpbin.org/ 서버 오류를 테스트 하는 사이트\n",
    "- http://www.crawler-test.com/status_codes/status_403\n",
    "1. 1XX : (Hold on)\n",
    "1. 200 : **Success** (Here we go)\n",
    "1. 3XX : **Redirection** (Go away)\n",
    "1. 4XX : **Client Error** \n",
    "1. 5XX : **Server Error**"
   ]
  },
  {
   "cell_type": "code",
   "execution_count": 24,
   "metadata": {},
   "outputs": [
    {
     "data": {
      "text/plain": [
       "<Response [403]>"
      ]
     },
     "execution_count": 24,
     "metadata": {},
     "output_type": "execute_result"
    }
   ],
   "source": [
    "# 서버 403 오류를 발생하는 예제 사이트\n",
    "url = \"http://www.crawler-test.com/status_codes/status_403\"\n",
    "requests.request(\"get\", url)"
   ]
  },
  {
   "cell_type": "code",
   "execution_count": 25,
   "metadata": {},
   "outputs": [
    {
     "name": "stdout",
     "output_type": "stream",
     "text": [
      "403 서버오류\n"
     ]
    }
   ],
   "source": [
    "# requests 를 활용하는 함수를 정의한다\n",
    "\n",
    "def download(method, url, data=None):\n",
    "    userAgent = {\"user-agent\":\"Mozilla/5.0 (X11; Ubuntu; Linux x86_64; rv:61.0) Gecko/20100101 Firefox/61.0\"}\n",
    "\n",
    "    try:\n",
    "        resp = requests.request(method, url,  data=data, headers= userAgent)\n",
    "        if 400 <= resp.status_code <= 500:\n",
    "            print(resp.status_code, \"서버오류\")\n",
    "        elif 500 <= resp.status_code <= 600:\n",
    "            print(resp.status_code, \"재시도\")\n",
    "        else:\n",
    "            return resp\n",
    "\n",
    "    except requests.exceptions.HTTPError as e:\n",
    "        print(e.code, e.reason)\n",
    "        print(e.response)\n",
    "        \n",
    "    return None\n",
    "\n",
    "download(\"get\", url=url)"
   ]
  },
  {
   "cell_type": "code",
   "execution_count": 26,
   "metadata": {},
   "outputs": [],
   "source": [
    "# 503 오류가 발생한 경우 자동으로 반복실행 한다\n",
    "import requests, time\n",
    "\n",
    "def download(method, url, params=None, data=None, retries=3):\n",
    "    userAgent = {\"user-agent\":\"Mozilla/5.0 (X11; Ubuntu; Linux x86_64; rv:61.0) Gecko/20100101 Firefox/61.0\"}\n",
    "\n",
    "    try:\n",
    "        resp = requests.request(method, url, params=params, data=data, headers= userAgent)\n",
    "        resp.raise_for_status()\n",
    "\n",
    "    except requests.exceptions.HTTPError as e:\n",
    "        \n",
    "        if 500 <= e.response.status_code < 600 and retries > 0 :\n",
    "            time.sleep(0.5)\n",
    "            print(retries, \"한번 더 시도하기\")\n",
    "            return download(method, url, params, data, retries-1)\n",
    "        else: \n",
    "            print(\"Errors\")\n",
    "            return None\n",
    "\n",
    "    return resp"
   ]
  },
  {
   "cell_type": "code",
   "execution_count": 27,
   "metadata": {},
   "outputs": [
    {
     "name": "stdout",
     "output_type": "stream",
     "text": [
      "Errors\n"
     ]
    }
   ],
   "source": [
    "# 4XX 오류시 접속을 중단한다\n",
    "url = \"http://www.crawler-test.com/status_codes/status_403\"\n",
    "download(\"get\", url=url)"
   ]
  },
  {
   "cell_type": "code",
   "execution_count": 28,
   "metadata": {},
   "outputs": [
    {
     "name": "stdout",
     "output_type": "stream",
     "text": [
      "3 한번 더 시도하기\n",
      "2 한번 더 시도하기\n",
      "1 한번 더 시도하기\n",
      "Errors\n",
      "Errors\n"
     ]
    }
   ],
   "source": [
    "# 5XX 오류시 작업을 반복한다\n",
    "url = \"http://www.crawler-test.com/status_codes/status_503\"\n",
    "html = download(\"get\", url=url)\n",
    "if not html:\n",
    "    print(\"Errors\")"
   ]
  }
 ],
 "metadata": {
  "kernelspec": {
   "display_name": "Python 3",
   "language": "python",
   "name": "python3"
  },
  "language_info": {
   "codemirror_mode": {
    "name": "ipython",
    "version": 3
   },
   "file_extension": ".py",
   "mimetype": "text/x-python",
   "name": "python",
   "nbconvert_exporter": "python",
   "pygments_lexer": "ipython3",
   "version": "3.6.3"
  }
 },
 "nbformat": 4,
 "nbformat_minor": 4
}
