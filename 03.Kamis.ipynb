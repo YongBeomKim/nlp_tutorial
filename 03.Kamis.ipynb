{
 "cells": [
  {
   "cell_type": "markdown",
   "metadata": {},
   "source": [
    "# **식품안전나라**\n",
    "ex) http://openapi.foodsafetykorea.go.kr/api/인증키/I0580/xml/1/20 \n",
    "\n",
    "1. **[Open API 메인 페이지](https://www.foodsafetykorea.go.kr/api/userApiKey.do#)**, **[API 활용 방법](https://www.foodsafetykorea.go.kr/api/howToUseApi.do?menu_grp=MENU_GRP34&menu_no=687)**, **[API 이용절차](https://www.foodsafetykorea.go.kr/api/board/boardDetail.do)**\n",
    "1. **[영양사협회 영양소 섭취기준표](http://www.kns.or.kr/FileRoom/FileRoom_view.asp?mode=mod&restring=%252FFileRoom%252FFileRoom.asp%253Fxsearch%253D0%253D%253Dxrow%253D10%253D%253DBoardID%253DKdr%253D%253Dpage%253D1&idx=79&page=1&BoardID=Kdr&xsearch=1&cn_search)**\n",
    "1. key : \"8acba1823ae742359560\""
   ]
  },
  {
   "cell_type": "markdown",
   "metadata": {},
   "source": [
    "## **1 함수로 만든내용 확인**\n",
    "식품의약처 API 내용 활용함수 : **Json / DataFrame** 으로 출력\n",
    "1. **'C005' :** '바코드제품정보'\n",
    "1. **'I2570' :** '유통바코드'\n",
    "1. **'I0490' :** '회수판매중지'\n",
    "1. **'I0750' :** '식품영양정보DB'\n",
    "1. **'COOKRCP01' :** '조리식품_레시피_DB'"
   ]
  },
  {
   "cell_type": "code",
   "execution_count": 2,
   "metadata": {},
   "outputs": [
    {
     "data": {
      "text/plain": [
       "OrderedDict([('I0750', '식품영양정보DB'),\n",
       "             ('COOKRCP01', '조리식품_레시피_DB'),\n",
       "             ('I0490', '회수판매중지'),\n",
       "             ('C005', '바코드제품정보'),\n",
       "             ('I2570', '유통바코드')])"
      ]
     },
     "execution_count": 2,
     "metadata": {},
     "output_type": "execute_result"
    }
   ],
   "source": [
    "from momukji import FoodSafe\n",
    "from collections import OrderedDict\n",
    "foodApi = FoodSafe()\n",
    "foodKeys = OrderedDict({_ :foodApi.apiKey[_]['name']  for _ in foodApi.apiKey.keys()})\n",
    "foodKeys"
   ]
  },
  {
   "cell_type": "code",
   "execution_count": 5,
   "metadata": {},
   "outputs": [
    {
     "name": "stdout",
     "output_type": "stream",
     "text": [
      "******** 전체 Data 갯수 : 13,824 ********\n",
      "CPU times: user 20.8 ms, sys: 575 µs, total: 21.4 ms\n",
      "Wall time: 23.4 s\n"
     ]
    },
    {
     "data": {
      "text/html": [
       "<div>\n",
       "<style scoped>\n",
       "    .dataframe tbody tr th:only-of-type {\n",
       "        vertical-align: middle;\n",
       "    }\n",
       "\n",
       "    .dataframe tbody tr th {\n",
       "        vertical-align: top;\n",
       "    }\n",
       "\n",
       "    .dataframe thead th {\n",
       "        text-align: right;\n",
       "    }\n",
       "</style>\n",
       "<table border=\"1\" class=\"dataframe\">\n",
       "  <thead>\n",
       "    <tr style=\"text-align: right;\">\n",
       "      <th></th>\n",
       "      <th>번호</th>\n",
       "      <th>식품코드</th>\n",
       "      <th>식품군</th>\n",
       "      <th>식품이름</th>\n",
       "      <th>1회제공량(g)</th>\n",
       "      <th>열량(kcal)(1회제공량당)</th>\n",
       "      <th>탄수화물(g)(1회제공량당)</th>\n",
       "      <th>단백질(g)(1회제공량당)</th>\n",
       "      <th>지방(g)(1회제공량당)</th>\n",
       "      <th>당류(g)(1회제공량당)</th>\n",
       "      <th>나트륨(mg)(1회제공량당)</th>\n",
       "      <th>콜레스테롤(mg)(1회제공량당)</th>\n",
       "      <th>포화지방산(g)(1회제공량당)</th>\n",
       "      <th>트랜스지방(g)(1회제공량당)</th>\n",
       "      <th>가공업체명</th>\n",
       "      <th>구축년도</th>\n",
       "      <th>자료원</th>\n",
       "    </tr>\n",
       "  </thead>\n",
       "  <tbody>\n",
       "    <tr>\n",
       "      <td>0</td>\n",
       "      <td>1</td>\n",
       "      <td>100101000100000001</td>\n",
       "      <td>곡류 및 그 제품</td>\n",
       "      <td>고량미,알곡</td>\n",
       "      <td>100</td>\n",
       "      <td>349</td>\n",
       "      <td>67.8</td>\n",
       "      <td>10.1</td>\n",
       "      <td>3.7</td>\n",
       "      <td>N/A</td>\n",
       "      <td>N/A</td>\n",
       "      <td>N/A</td>\n",
       "      <td>N/A</td>\n",
       "      <td>N/A</td>\n",
       "      <td></td>\n",
       "      <td>2001</td>\n",
       "      <td>농촌진흥청  식품성분표 DB</td>\n",
       "    </tr>\n",
       "    <tr>\n",
       "      <td>1</td>\n",
       "      <td>2</td>\n",
       "      <td>100101000200200001</td>\n",
       "      <td>곡류 및 그 제품</td>\n",
       "      <td>겉귀리,생것</td>\n",
       "      <td>100</td>\n",
       "      <td>332</td>\n",
       "      <td>73.5</td>\n",
       "      <td>11.4</td>\n",
       "      <td>3.7</td>\n",
       "      <td>N/A</td>\n",
       "      <td>2</td>\n",
       "      <td>N/A</td>\n",
       "      <td>N/A</td>\n",
       "      <td>N/A</td>\n",
       "      <td></td>\n",
       "      <td>2017</td>\n",
       "      <td>농촌진흥청  식품성분표 DB</td>\n",
       "    </tr>\n",
       "  </tbody>\n",
       "</table>\n",
       "</div>"
      ],
      "text/plain": [
       "  번호                식품코드        식품군    식품이름 1회제공량(g) 열량(kcal)(1회제공량당)  \\\n",
       "0  1  100101000100000001  곡류 및 그 제품  고량미,알곡      100              349   \n",
       "1  2  100101000200200001  곡류 및 그 제품  겉귀리,생것      100              332   \n",
       "\n",
       "  탄수화물(g)(1회제공량당) 단백질(g)(1회제공량당) 지방(g)(1회제공량당) 당류(g)(1회제공량당) 나트륨(mg)(1회제공량당)  \\\n",
       "0            67.8           10.1           3.7           N/A             N/A   \n",
       "1            73.5           11.4           3.7           N/A               2   \n",
       "\n",
       "  콜레스테롤(mg)(1회제공량당) 포화지방산(g)(1회제공량당) 트랜스지방(g)(1회제공량당) 가공업체명  구축년도  \\\n",
       "0               N/A              N/A              N/A        2001   \n",
       "1               N/A              N/A              N/A        2017   \n",
       "\n",
       "               자료원  \n",
       "0  농촌진흥청  식품성분표 DB  \n",
       "1  농촌진흥청  식품성분표 DB  "
      ]
     },
     "execution_count": 5,
     "metadata": {},
     "output_type": "execute_result"
    }
   ],
   "source": [
    "%%time\n",
    "foodId = 'I0750'\n",
    "foodApi.getData(foodId, 1, 2, foodApi.apiKey[foodId]['cols'], display=True)"
   ]
  },
  {
   "cell_type": "code",
   "execution_count": 6,
   "metadata": {},
   "outputs": [
    {
     "name": "stderr",
     "output_type": "stream",
     "text": [
      "  7%|▋         | 1/14 [00:23<04:59, 23.01s/it]"
     ]
    },
    {
     "name": "stdout",
     "output_type": "stream",
     "text": [
      "******** 전체 Data 갯수 : 13,824 ********\n"
     ]
    },
    {
     "name": "stderr",
     "output_type": "stream",
     "text": [
      " 14%|█▍        | 2/14 [00:47<04:40, 23.40s/it]"
     ]
    },
    {
     "name": "stdout",
     "output_type": "stream",
     "text": [
      "******** 전체 Data 갯수 : 13,824 ********\n"
     ]
    },
    {
     "name": "stderr",
     "output_type": "stream",
     "text": [
      " 21%|██▏       | 3/14 [01:11<04:18, 23.51s/it]"
     ]
    },
    {
     "name": "stdout",
     "output_type": "stream",
     "text": [
      "******** 전체 Data 갯수 : 13,824 ********\n"
     ]
    },
    {
     "name": "stderr",
     "output_type": "stream",
     "text": [
      " 29%|██▊       | 4/14 [01:35<03:57, 23.75s/it]"
     ]
    },
    {
     "name": "stdout",
     "output_type": "stream",
     "text": [
      "******** 전체 Data 갯수 : 13,824 ********\n"
     ]
    },
    {
     "name": "stderr",
     "output_type": "stream",
     "text": [
      " 36%|███▌      | 5/14 [01:59<03:33, 23.73s/it]"
     ]
    },
    {
     "name": "stdout",
     "output_type": "stream",
     "text": [
      "******** 전체 Data 갯수 : 13,824 ********\n"
     ]
    },
    {
     "name": "stderr",
     "output_type": "stream",
     "text": [
      " 43%|████▎     | 6/14 [02:23<03:11, 23.91s/it]"
     ]
    },
    {
     "name": "stdout",
     "output_type": "stream",
     "text": [
      "******** 전체 Data 갯수 : 13,824 ********\n"
     ]
    },
    {
     "name": "stderr",
     "output_type": "stream",
     "text": [
      " 50%|█████     | 7/14 [02:47<02:46, 23.85s/it]"
     ]
    },
    {
     "name": "stdout",
     "output_type": "stream",
     "text": [
      "******** 전체 Data 갯수 : 13,824 ********\n"
     ]
    },
    {
     "name": "stderr",
     "output_type": "stream",
     "text": [
      " 57%|█████▋    | 8/14 [03:10<02:23, 23.84s/it]"
     ]
    },
    {
     "name": "stdout",
     "output_type": "stream",
     "text": [
      "******** 전체 Data 갯수 : 13,824 ********\n"
     ]
    },
    {
     "name": "stderr",
     "output_type": "stream",
     "text": [
      " 64%|██████▍   | 9/14 [03:35<02:00, 24.16s/it]"
     ]
    },
    {
     "name": "stdout",
     "output_type": "stream",
     "text": [
      "******** 전체 Data 갯수 : 13,824 ********\n"
     ]
    },
    {
     "name": "stderr",
     "output_type": "stream",
     "text": [
      " 71%|███████▏  | 10/14 [03:59<01:36, 24.09s/it]"
     ]
    },
    {
     "name": "stdout",
     "output_type": "stream",
     "text": [
      "******** 전체 Data 갯수 : 13,824 ********\n"
     ]
    },
    {
     "name": "stderr",
     "output_type": "stream",
     "text": [
      " 79%|███████▊  | 11/14 [04:24<01:12, 24.19s/it]"
     ]
    },
    {
     "name": "stdout",
     "output_type": "stream",
     "text": [
      "******** 전체 Data 갯수 : 13,824 ********\n"
     ]
    },
    {
     "name": "stderr",
     "output_type": "stream",
     "text": [
      " 86%|████████▌ | 12/14 [04:48<00:48, 24.27s/it]"
     ]
    },
    {
     "name": "stdout",
     "output_type": "stream",
     "text": [
      "******** 전체 Data 갯수 : 13,824 ********\n"
     ]
    },
    {
     "name": "stderr",
     "output_type": "stream",
     "text": [
      " 93%|█████████▎| 13/14 [05:13<00:24, 24.34s/it]"
     ]
    },
    {
     "name": "stdout",
     "output_type": "stream",
     "text": [
      "******** 전체 Data 갯수 : 13,824 ********\n"
     ]
    },
    {
     "name": "stderr",
     "output_type": "stream",
     "text": [
      "100%|██████████| 14/14 [05:37<00:00, 24.11s/it]"
     ]
    },
    {
     "name": "stdout",
     "output_type": "stream",
     "text": [
      "******** 전체 Data 갯수 : 13,824 ********\n"
     ]
    },
    {
     "name": "stderr",
     "output_type": "stream",
     "text": [
      "\n"
     ]
    }
   ],
   "source": [
    "result = []\n",
    "from tqdm import tqdm\n",
    "for _ in tqdm(range(1, 13824+1, 1000)):\n",
    "    result.append(foodApi.getData(foodId, _, _+999, foodApi.apiKey[foodId]['cols']))"
   ]
  },
  {
   "cell_type": "code",
   "execution_count": 8,
   "metadata": {},
   "outputs": [],
   "source": [
    "import pandas as pd"
   ]
  },
  {
   "cell_type": "code",
   "execution_count": 13,
   "metadata": {},
   "outputs": [],
   "source": [
    "pd.concat(result).to_excel('data/food_nutrient.xls', index=None)"
   ]
  },
  {
   "cell_type": "markdown",
   "metadata": {},
   "source": [
    "<br>\n",
    "\n",
    "# **Kamis 식재료 정보수집**\n",
    "**[Open API 관리 페이지](https://www.kamis.or.kr/customer/mypage/my_openapi/my_openapi.do)**\n",
    "1. **[Regex Html Crawling](https://stackoverflow.com/questions/13823479/finding-all-tr-from-html-table-in-python)**\n",
    "1. key : \"fb54dcd7-218f-4297-8fa6-31cfcd0a897d\"\n",
    "\n",
    "```\n",
    "'<title.*?>(.+?)</title>'  # 특정태그\n",
    "\"<[^>]+>|[^<]+\"            # html 태그 내부의 한글 추출\n",
    "'<.*?>'                    # 모든 태그\n",
    "reg_table = '<table.*?>(.+?)</table>'\n",
    "reg_table = '<font.*?>(.+?)</font>'\n",
    "reg_table = '<.*?>'\n",
    "reg_table = \"<table.*?>(.*?)\"\n",
    "reg_table = '<table class=\"wtable3\" .*?>(.*?)</table>'\n",
    "```"
   ]
  },
  {
   "cell_type": "markdown",
   "metadata": {},
   "source": [
    "## **1 Web 페이지 크롤링 함수 확인**\n",
    "Kamis 식품정보 수집"
   ]
  },
  {
   "cell_type": "code",
   "execution_count": 3,
   "metadata": {},
   "outputs": [
    {
     "name": "stdout",
     "output_type": "stream",
     "text": [
      "CPU times: user 103 ms, sys: 23.2 ms, total: 127 ms\n",
      "Wall time: 472 ms\n"
     ]
    },
    {
     "data": {
      "text/html": [
       "<div>\n",
       "<style scoped>\n",
       "    .dataframe tbody tr th:only-of-type {\n",
       "        vertical-align: middle;\n",
       "    }\n",
       "\n",
       "    .dataframe tbody tr th {\n",
       "        vertical-align: top;\n",
       "    }\n",
       "\n",
       "    .dataframe thead th {\n",
       "        text-align: right;\n",
       "    }\n",
       "</style>\n",
       "<table border=\"1\" class=\"dataframe\">\n",
       "  <thead>\n",
       "    <tr style=\"text-align: right;\">\n",
       "      <th></th>\n",
       "      <th>구분</th>\n",
       "      <th>구분.1</th>\n",
       "      <th>구분.2</th>\n",
       "      <th>당일 (10/15)</th>\n",
       "    </tr>\n",
       "  </thead>\n",
       "  <tbody>\n",
       "    <tr>\n",
       "      <td>0</td>\n",
       "      <td>쌀</td>\n",
       "      <td>일반계(20kg)</td>\n",
       "      <td>상품</td>\n",
       "      <td>45660</td>\n",
       "    </tr>\n",
       "    <tr>\n",
       "      <td>1</td>\n",
       "      <td>쌀</td>\n",
       "      <td>일반계(20kg)</td>\n",
       "      <td>중품</td>\n",
       "      <td>43520</td>\n",
       "    </tr>\n",
       "    <tr>\n",
       "      <td>2</td>\n",
       "      <td>쌀</td>\n",
       "      <td>햇일반계(20kg)</td>\n",
       "      <td>상품</td>\n",
       "      <td>47300</td>\n",
       "    </tr>\n",
       "    <tr>\n",
       "      <td>3</td>\n",
       "      <td>쌀</td>\n",
       "      <td>햇일반계(20kg)</td>\n",
       "      <td>중품</td>\n",
       "      <td>45020</td>\n",
       "    </tr>\n",
       "    <tr>\n",
       "      <td>4</td>\n",
       "      <td>찹쌀</td>\n",
       "      <td>일반계(40kg)</td>\n",
       "      <td>상품</td>\n",
       "      <td>123600</td>\n",
       "    </tr>\n",
       "  </tbody>\n",
       "</table>\n",
       "</div>"
      ],
      "text/plain": [
       "   구분        구분.1 구분.2  당일 (10/15)\n",
       "0   쌀   일반계(20kg)   상품       45660\n",
       "1   쌀   일반계(20kg)   중품       43520\n",
       "2   쌀  햇일반계(20kg)   상품       47300\n",
       "3   쌀  햇일반계(20kg)   중품       45020\n",
       "4  찹쌀   일반계(40kg)   상품      123600"
      ]
     },
     "execution_count": 3,
     "metadata": {},
     "output_type": "execute_result"
    }
   ],
   "source": [
    "%%time\n",
    "from momukji import Kamis\n",
    "Kamis().getData('2019-10-15', \"100\").head()"
   ]
  },
  {
   "cell_type": "code",
   "execution_count": 5,
   "metadata": {},
   "outputs": [
    {
     "name": "stdout",
     "output_type": "stream",
     "text": [
      "CPU times: user 22.5 ms, sys: 7.03 ms, total: 29.6 ms\n",
      "Wall time: 370 ms\n"
     ]
    },
    {
     "data": {
      "text/html": [
       "<div>\n",
       "<style scoped>\n",
       "    .dataframe tbody tr th:only-of-type {\n",
       "        vertical-align: middle;\n",
       "    }\n",
       "\n",
       "    .dataframe tbody tr th {\n",
       "        vertical-align: top;\n",
       "    }\n",
       "\n",
       "    .dataframe thead th {\n",
       "        text-align: right;\n",
       "    }\n",
       "</style>\n",
       "<table border=\"1\" class=\"dataframe\">\n",
       "  <thead>\n",
       "    <tr style=\"text-align: right;\">\n",
       "      <th></th>\n",
       "      <th>구분</th>\n",
       "      <th>구분.1</th>\n",
       "      <th>구분.2</th>\n",
       "      <th>당일 (10/15)</th>\n",
       "    </tr>\n",
       "  </thead>\n",
       "  <tbody>\n",
       "    <tr>\n",
       "      <td>0</td>\n",
       "      <td>쌀</td>\n",
       "      <td>일반계(20kg)</td>\n",
       "      <td>상품</td>\n",
       "      <td>51077</td>\n",
       "    </tr>\n",
       "    <tr>\n",
       "      <td>1</td>\n",
       "      <td>쌀</td>\n",
       "      <td>햇일반계(20kg)</td>\n",
       "      <td>상품</td>\n",
       "      <td>53112</td>\n",
       "    </tr>\n",
       "    <tr>\n",
       "      <td>2</td>\n",
       "      <td>찹쌀</td>\n",
       "      <td>일반계(1kg)</td>\n",
       "      <td>상품</td>\n",
       "      <td>4874</td>\n",
       "    </tr>\n",
       "    <tr>\n",
       "      <td>3</td>\n",
       "      <td>콩</td>\n",
       "      <td>흰 콩(국산)(500g)</td>\n",
       "      <td>상품</td>\n",
       "      <td>4779</td>\n",
       "    </tr>\n",
       "    <tr>\n",
       "      <td>4</td>\n",
       "      <td>콩</td>\n",
       "      <td>흰 콩(국산)(500g)</td>\n",
       "      <td>중품</td>\n",
       "      <td>3282</td>\n",
       "    </tr>\n",
       "  </tbody>\n",
       "</table>\n",
       "</div>"
      ],
      "text/plain": [
       "   구분           구분.1 구분.2  당일 (10/15)\n",
       "0   쌀      일반계(20kg)   상품       51077\n",
       "1   쌀     햇일반계(20kg)   상품       53112\n",
       "2  찹쌀       일반계(1kg)   상품        4874\n",
       "3   콩  흰 콩(국산)(500g)   상품        4779\n",
       "4   콩  흰 콩(국산)(500g)   중품        3282"
      ]
     },
     "execution_count": 5,
     "metadata": {},
     "output_type": "execute_result"
    }
   ],
   "source": [
    "%%time\n",
    "from momukji import Kamis\n",
    "Kamis().getData('2019-10-15', \"100\" ,types=2).head()"
   ]
  },
  {
   "cell_type": "markdown",
   "metadata": {},
   "source": [
    "## **2 API Json 호출**\n",
    "1. **[Kamis OpenAPI Key 매뉴얼 페이지](https://www.kamis.or.kr/customer/reference/openapi_list.do)**\n",
    "1. **[Kamis Code 상세 페이지](https://www.kamis.or.kr/customer/reference/openapi_list.do?action=detail&boardno=5)** | **[Code 다운로드](http://www.kamis.or.kr/customer/board/board_file.do?brdno=4&brdctsno=424245&brdctsfileno=12212)**\n",
    "1. **[Kamis OpenAPI](https://www.kamis.or.kr/customer/reference/openapi_list.do?action=detail&boardno=8)** 식품정보 수집"
   ]
  },
  {
   "cell_type": "code",
   "execution_count": 8,
   "metadata": {},
   "outputs": [
    {
     "data": {
      "text/html": [
       "<div>\n",
       "<style scoped>\n",
       "    .dataframe tbody tr th:only-of-type {\n",
       "        vertical-align: middle;\n",
       "    }\n",
       "\n",
       "    .dataframe tbody tr th {\n",
       "        vertical-align: top;\n",
       "    }\n",
       "\n",
       "    .dataframe thead th {\n",
       "        text-align: right;\n",
       "    }\n",
       "</style>\n",
       "<table border=\"1\" class=\"dataframe\">\n",
       "  <thead>\n",
       "    <tr style=\"text-align: right;\">\n",
       "      <th></th>\n",
       "      <th>품목명</th>\n",
       "      <th>품종명</th>\n",
       "      <th>상태(상품,중품)</th>\n",
       "      <th>일자(조회일자)</th>\n",
       "      <th>가격(조회일자)</th>\n",
       "      <th>일자(1일전)</th>\n",
       "      <th>가격(1일전)</th>\n",
       "      <th>일자(1주전)</th>\n",
       "      <th>가격(1주전)</th>\n",
       "      <th>일자(2주전)</th>\n",
       "      <th>가격(2주전)</th>\n",
       "      <th>일자(1개월전)</th>\n",
       "      <th>가격(1개월전)</th>\n",
       "      <th>일자(1년전)</th>\n",
       "      <th>가격(1년전)</th>\n",
       "      <th>일자(평년)</th>\n",
       "      <th>가격(평년)</th>\n",
       "    </tr>\n",
       "  </thead>\n",
       "  <tbody>\n",
       "    <tr>\n",
       "      <td>0</td>\n",
       "      <td>쇠고기</td>\n",
       "      <td>한우등심(100g)</td>\n",
       "      <td>1등급</td>\n",
       "      <td>당일 (10/21)</td>\n",
       "      <td>9,003</td>\n",
       "      <td>1일전 (10/20)</td>\n",
       "      <td>-</td>\n",
       "      <td>1주일전 (10/14)</td>\n",
       "      <td>9,040</td>\n",
       "      <td>2주일전 (10/07)</td>\n",
       "      <td>8,822</td>\n",
       "      <td>1개월전</td>\n",
       "      <td>8,850</td>\n",
       "      <td>1년전</td>\n",
       "      <td>8,461</td>\n",
       "      <td>일평년</td>\n",
       "      <td>8,025</td>\n",
       "    </tr>\n",
       "    <tr>\n",
       "      <td>1</td>\n",
       "      <td>쇠고기</td>\n",
       "      <td>한우등심(100g)</td>\n",
       "      <td>1+등급</td>\n",
       "      <td>당일 (10/21)</td>\n",
       "      <td>11,047</td>\n",
       "      <td>1일전 (10/20)</td>\n",
       "      <td>-</td>\n",
       "      <td>1주일전 (10/14)</td>\n",
       "      <td>11,090</td>\n",
       "      <td>2주일전 (10/07)</td>\n",
       "      <td>11,135</td>\n",
       "      <td>1개월전</td>\n",
       "      <td>10,852</td>\n",
       "      <td>1년전</td>\n",
       "      <td>-</td>\n",
       "      <td>일평년</td>\n",
       "      <td>-</td>\n",
       "    </tr>\n",
       "    <tr>\n",
       "      <td>2</td>\n",
       "      <td>쇠고기</td>\n",
       "      <td>한우양지(100g)</td>\n",
       "      <td>1등급</td>\n",
       "      <td>당일 (10/21)</td>\n",
       "      <td>5,579</td>\n",
       "      <td>1일전 (10/20)</td>\n",
       "      <td>-</td>\n",
       "      <td>1주일전 (10/14)</td>\n",
       "      <td>5,658</td>\n",
       "      <td>2주일전 (10/07)</td>\n",
       "      <td>5,677</td>\n",
       "      <td>1개월전</td>\n",
       "      <td>5,791</td>\n",
       "      <td>1년전</td>\n",
       "      <td>5,491</td>\n",
       "      <td>일평년</td>\n",
       "      <td>5,742</td>\n",
       "    </tr>\n",
       "  </tbody>\n",
       "</table>\n",
       "</div>"
      ],
      "text/plain": [
       "   품목명         품종명 상태(상품,중품)    일자(조회일자) 가격(조회일자)      일자(1일전) 가격(1일전)  \\\n",
       "0  쇠고기  한우등심(100g)       1등급  당일 (10/21)    9,003  1일전 (10/20)       -   \n",
       "1  쇠고기  한우등심(100g)      1+등급  당일 (10/21)   11,047  1일전 (10/20)       -   \n",
       "2  쇠고기  한우양지(100g)       1등급  당일 (10/21)    5,579  1일전 (10/20)       -   \n",
       "\n",
       "        일자(1주전) 가격(1주전)       일자(2주전) 가격(2주전) 일자(1개월전) 가격(1개월전) 일자(1년전)  \\\n",
       "0  1주일전 (10/14)   9,040  2주일전 (10/07)   8,822     1개월전    8,850     1년전   \n",
       "1  1주일전 (10/14)  11,090  2주일전 (10/07)  11,135     1개월전   10,852     1년전   \n",
       "2  1주일전 (10/14)   5,658  2주일전 (10/07)   5,677     1개월전    5,791     1년전   \n",
       "\n",
       "  가격(1년전) 일자(평년) 가격(평년)  \n",
       "0   8,461    일평년  8,025  \n",
       "1       -    일평년      -  \n",
       "2   5,491    일평년  5,742  "
      ]
     },
     "execution_count": 8,
     "metadata": {},
     "output_type": "execute_result"
    }
   ],
   "source": [
    "from momukji import Kamis\n",
    "resp = Kamis().getApi('2019-10-21', 500, cd=2)\n",
    "resp.head(3)"
   ]
  },
  {
   "cell_type": "markdown",
   "metadata": {},
   "source": [
    "<br>\n",
    "\n",
    "# **서울시 농수산 식품공사 API**\n",
    "1. https://www.garakprice.com/index.php?go_date=20191001  가락동 농산물 시세 Web\n",
    "1. http://www.garak.co.kr/gongsa/jsp/gs/intro/common.jsp  JSP 호출주소\n",
    "\n",
    "**[서울시 농산물 공사 OpenAPI](https://www.garak.co.kr/publicdata/selectPageListPublicData.do?sch_public_data_realm_code=1)**\n",
    "\n",
    "```html\n",
    "http://www.garak.co.kr/gongsa/jsp/gs/data_open/data.jsp?id=2087&passwd=1004&dataid=data4&pagesize=10\n",
    "&pageidx=1&portal.templet=false&p_ymd=20190408&p_jymd=20190408&d_cd=2&p_jjymd=20130429\n",
    "&p_pos_gubun=1&pum_nm=\n",
    "```"
   ]
  },
  {
   "cell_type": "markdown",
   "metadata": {},
   "source": [
    "## **1 API 를 활용한 수집**\n",
    "가격정보를 **Xml API** 를 활용하여 수집"
   ]
  },
  {
   "cell_type": "code",
   "execution_count": 7,
   "metadata": {},
   "outputs": [],
   "source": [
    "# 문제점...\n",
    "# Page 를 순환하면서 1개의 객체만 있으면 list 갯수가 1개로만 출력\n",
    "\n",
    "# 해결방법... (https://rfriend.tistory.com/482)\n",
    "# 1개의 dict 을 DataFrame 변환 시, 데이터를 list로 변경해서 적용\n",
    "# 그래야 컬럼, 데이터와 \"인덱스\" 를 자동으로 계산할 수 있다."
   ]
  },
  {
   "cell_type": "code",
   "execution_count": 4,
   "metadata": {},
   "outputs": [
    {
     "name": "stderr",
     "output_type": "stream",
     "text": [
      "100%|██████████| 70/70 [00:12<00:00,  5.81it/s]\n",
      "100%|██████████| 16/16 [00:02<00:00,  7.23it/s]\n"
     ]
    }
   ],
   "source": [
    "date_info = '20191022'\n",
    "\n",
    "import pandas as pd\n",
    "from momukji import Garak\n",
    "xml_d_1   = Garak().getData(cd=1) # date_info, \n",
    "xml_d_2   = Garak().getData(cd=2) # date_info, \n",
    "xml_data  = pd.concat([xml_d_1, xml_d_2]).reset_index(drop=True)\n",
    "xml_data.to_excel(\"data/food_Garak.xls\", index=None)"
   ]
  },
  {
   "cell_type": "markdown",
   "metadata": {},
   "source": [
    "## **2 Web 페이지를 활용한 수집기**\n",
    "https://www.garakprice.com/index.php?go_date=20191021\n",
    "1. 하지만 품목수가 부족해서 실익이 적음"
   ]
  },
  {
   "cell_type": "code",
   "execution_count": 157,
   "metadata": {},
   "outputs": [],
   "source": [
    "# https://www.garakprice.com/index.php?go_date=20191021\n",
    "from urllib import parse, request\n",
    "def urllib_request(url, params, encode='utf-8'):\n",
    "    params = parse.urlencode(params).encode(encode)\n",
    "    url  = request.Request(url, params)\n",
    "    resp = request.data/lopen(url).read()\n",
    "    resp = parse.quote_plus(resp)\n",
    "    return parse.unquote_plus(resp)\n",
    "\n",
    "# params = { \"go_date\":20191021 }\n",
    "# url    = \"https://www.garakprice.com/index.php\"\n",
    "# urllib_request(url, params)[:500]"
   ]
  },
  {
   "cell_type": "markdown",
   "metadata": {},
   "source": [
    "<br>\n",
    "\n",
    "# **기타 공산품 가격정보**\n",
    "\n",
    "**[Data.go.kr 공산품 가격정보](https://www.data.go.kr/dataset/3043385/openapi.do?lang=ko)**"
   ]
  },
  {
   "cell_type": "markdown",
   "metadata": {},
   "source": [
    "## **1 공산품 Id 정보수집**\n",
    "**[Data.go.kr 공산품 가격정보](https://www.data.go.kr/dataset/3043385/openapi.do?lang=ko)**\n",
    "1. **[한국소비자원 참가격](https://www.price.go.kr/tprice/portal/pricenewsandtpriceintro/iteminfo/getItemList.do)**\n",
    "1. **[유통상품지식뱅크](http://35.200.32.201/)**\n",
    "1. 분류기준 명확하게 찾기"
   ]
  },
  {
   "cell_type": "code",
   "execution_count": 1,
   "metadata": {},
   "outputs": [
    {
     "data": {
      "text/html": [
       "<div>\n",
       "<style scoped>\n",
       "    .dataframe tbody tr th:only-of-type {\n",
       "        vertical-align: middle;\n",
       "    }\n",
       "\n",
       "    .dataframe tbody tr th {\n",
       "        vertical-align: top;\n",
       "    }\n",
       "\n",
       "    .dataframe thead th {\n",
       "        text-align: right;\n",
       "    }\n",
       "</style>\n",
       "<table border=\"1\" class=\"dataframe\">\n",
       "  <thead>\n",
       "    <tr style=\"text-align: right;\">\n",
       "      <th></th>\n",
       "      <th>Id</th>\n",
       "      <th>Name</th>\n",
       "      <th>소분류코드</th>\n",
       "      <th>용량</th>\n",
       "      <th>용량구분</th>\n",
       "    </tr>\n",
       "  </thead>\n",
       "  <tbody>\n",
       "    <tr>\n",
       "      <td>0</td>\n",
       "      <td>1072</td>\n",
       "      <td>풀무원 동물복지 목초란(대란 10개)</td>\n",
       "      <td>030101001</td>\n",
       "      <td>10</td>\n",
       "      <td>EA</td>\n",
       "    </tr>\n",
       "    <tr>\n",
       "      <td>1</td>\n",
       "      <td>1073</td>\n",
       "      <td>목초를 먹고 자란 건강한 닭이 낳은 달걀(대란 15개)</td>\n",
       "      <td>030101001</td>\n",
       "      <td>15</td>\n",
       "      <td>EA</td>\n",
       "    </tr>\n",
       "    <tr>\n",
       "      <td>2</td>\n",
       "      <td>1075</td>\n",
       "      <td>CJ 더안심 건강란(대란 15개)</td>\n",
       "      <td>030101001</td>\n",
       "      <td>15</td>\n",
       "      <td>EA</td>\n",
       "    </tr>\n",
       "    <tr>\n",
       "      <td>3</td>\n",
       "      <td>1074</td>\n",
       "      <td>CJ 알짜란(대란 15개)</td>\n",
       "      <td>030101001</td>\n",
       "      <td>15</td>\n",
       "      <td>EA</td>\n",
       "    </tr>\n",
       "    <tr>\n",
       "      <td>4</td>\n",
       "      <td>50</td>\n",
       "      <td>쇠고기 등심(1등급)</td>\n",
       "      <td>030101002</td>\n",
       "      <td>100</td>\n",
       "      <td>G</td>\n",
       "    </tr>\n",
       "  </tbody>\n",
       "</table>\n",
       "</div>"
      ],
      "text/plain": [
       "     Id                            Name      소분류코드   용량 용량구분\n",
       "0  1072            풀무원 동물복지 목초란(대란 10개)  030101001   10   EA\n",
       "1  1073  목초를 먹고 자란 건강한 닭이 낳은 달걀(대란 15개)  030101001   15   EA\n",
       "2  1075              CJ 더안심 건강란(대란 15개)  030101001   15   EA\n",
       "3  1074                  CJ 알짜란(대란 15개)  030101001   15   EA\n",
       "4    50                     쇠고기 등심(1등급)  030101002  100    G"
      ]
     },
     "execution_count": 1,
     "metadata": {},
     "output_type": "execute_result"
    }
   ],
   "source": [
    "from momukji import Product\n",
    "item_list = Product().getList()\n",
    "item_list.head()"
   ]
  },
  {
   "cell_type": "code",
   "execution_count": 105,
   "metadata": {},
   "outputs": [],
   "source": [
    "resp = requests.get().text"
   ]
  },
  {
   "cell_type": "code",
   "execution_count": 100,
   "metadata": {},
   "outputs": [],
   "source": [
    "url = \"http://ksetup.com/bbs/page.php?hid=code\"\n",
    "\n",
    "import re\n",
    "import pandas as pd\n",
    "from urllib import request, parse\n",
    "resp = request.urlopen(url).read()\n",
    "resp = parse.quote_plus(resp)\n",
    "resp = parse.unquote_plus(resp)\n",
    "table = re.findall(r'<table class=\"table table-bordered\".*?>(.*?)</table>', resp, re.M|re.I|re.S)\n",
    "table = \"<table>\" + table[0] + \"</table>\"\n",
    "table = pd.read_html(table)[0]\n",
    "# table.to_excel('company_code.xls', index=None, columns=None)\n",
    "set(df.단위)"
   ]
  },
  {
   "cell_type": "code",
   "execution_count": 11,
   "metadata": {},
   "outputs": [
    {
     "data": {
      "text/plain": [
       "'20191021'"
      ]
     },
     "execution_count": 11,
     "metadata": {},
     "output_type": "execute_result"
    }
   ],
   "source": [
    "temp = datetime.today()\n",
    "temp.strftime('%Y%m%d')"
   ]
  },
  {
   "cell_type": "code",
   "execution_count": 9,
   "metadata": {},
   "outputs": [
    {
     "data": {
      "text/plain": [
       "'20191021'"
      ]
     },
     "execution_count": 9,
     "metadata": {},
     "output_type": "execute_result"
    }
   ],
   "source": [
    "datetime.strftime(temp, '%Y%m%d')"
   ]
  },
  {
   "cell_type": "markdown",
   "metadata": {},
   "source": [
    "## **2 알라딘 중고책**\n",
    "api 크롤링을 사용한 데이터 수집"
   ]
  },
  {
   "cell_type": "code",
   "execution_count": 33,
   "metadata": {},
   "outputs": [],
   "source": [
    "query = {\n",
    "    \"KeyWord\":\"파이썬\", #\"%C6%C4%C0%CC%BD%E3\",\n",
    "    \"ViewType\":\"Detail\",\n",
    "    \"SortOrder\":5,  # 5:출시일순, 11:등록순\n",
    "    \"ViewRowCount\":50,\n",
    "    \"page\":2,    \n",
    "}"
   ]
  },
  {
   "cell_type": "code",
   "execution_count": 35,
   "metadata": {},
   "outputs": [],
   "source": [
    "url = \"https://www.aladin.co.kr/search/wsearchresult.aspx?SearchTarget=UsedStore\"\n",
    "params = parse.urlencode(query).encode('cp949') # Params 인코딩 변환\n",
    "resp   = request.Request(url, params)           # url 주소값 생성\n",
    "resp   = request.urlopen(resp).read()           # url 을 활용한 response 수집\n",
    "resp   = parse.quote_plus(resp)                 # response 의 byte 를 string 변환\n",
    "resp   = parse.unquote_plus(resp, encoding='cp949') # string 인코딩 변환 (default='utf-8')"
   ]
  },
  {
   "cell_type": "code",
   "execution_count": 36,
   "metadata": {},
   "outputs": [],
   "source": [
    "with open('book.html','w') as f:\n",
    "    f.write(resp)"
   ]
  },
  {
   "cell_type": "code",
   "execution_count": 21,
   "metadata": {},
   "outputs": [
    {
     "data": {
      "text/plain": [
       "'퀀트'"
      ]
     },
     "execution_count": 21,
     "metadata": {},
     "output_type": "execute_result"
    }
   ],
   "source": [
    "# decoding (기본값 utf-8)\n",
    "parse.unquote_plus('%C4%F6%C6%AE', encoding='cp949')"
   ]
  },
  {
   "cell_type": "code",
   "execution_count": 22,
   "metadata": {},
   "outputs": [
    {
     "data": {
      "text/plain": [
       "'%C4%F6%C6%AE'"
      ]
     },
     "execution_count": 22,
     "metadata": {},
     "output_type": "execute_result"
    }
   ],
   "source": [
    "# encodings\n",
    "parse.quote_plus(\"퀀트\", encoding='cp949')"
   ]
  },
  {
   "cell_type": "code",
   "execution_count": null,
   "metadata": {},
   "outputs": [],
   "source": [
    "# <div class=\"Search3_Pager\">\n",
    "#     <table "
   ]
  },
  {
   "cell_type": "code",
   "execution_count": 35,
   "metadata": {},
   "outputs": [],
   "source": [
    "with open(\"data/food_recipie.json\", \"r\", encoding='utf-8-sig') as f:\n",
    "    recipe = f.read()"
   ]
  },
  {
   "cell_type": "code",
   "execution_count": 43,
   "metadata": {},
   "outputs": [],
   "source": [
    "import json\n",
    "food_data = json.loads(recipe)\n",
    "foods = [_ for _ in food_data.keys()]"
   ]
  },
  {
   "cell_type": "code",
   "execution_count": 44,
   "metadata": {},
   "outputs": [
    {
     "data": {
      "text/plain": [
       "{'스모크햄': 10.0,\n",
       " '양배추': 20.0,\n",
       " '당근': 10.0,\n",
       " '오이': 15.0,\n",
       " '건포도': 2.0,\n",
       " '머스타드': 120.0,\n",
       " '사과': 120.0,\n",
       " '적채': 90.0,\n",
       " '마요네즈': 90.0,\n",
       " '스모크': 1.5}"
      ]
     },
     "execution_count": 44,
     "metadata": {},
     "output_type": "execute_result"
    }
   ],
   "source": [
    "food_data[foods[0]]"
   ]
  },
  {
   "cell_type": "code",
   "execution_count": null,
   "metadata": {},
   "outputs": [],
   "source": []
  },
  {
   "cell_type": "code",
   "execution_count": null,
   "metadata": {},
   "outputs": [],
   "source": [
    "import codecs\n",
    "decoded_data=codecs.decode(r.text, 'utf-8-sig')"
   ]
  }
 ],
 "metadata": {
  "kernelspec": {
   "display_name": "Python 3",
   "language": "python",
   "name": "python3"
  },
  "language_info": {
   "codemirror_mode": {
    "name": "ipython",
    "version": 3
   },
   "file_extension": ".py",
   "mimetype": "text/x-python",
   "name": "python",
   "nbconvert_exporter": "python",
   "pygments_lexer": "ipython3",
   "version": "3.6.8"
  }
 },
 "nbformat": 4,
 "nbformat_minor": 4
}
