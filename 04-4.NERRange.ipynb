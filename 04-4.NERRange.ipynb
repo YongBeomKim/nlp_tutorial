{
 "cells": [
  {
   "cell_type": "markdown",
   "metadata": {},
   "source": [
    "# **MDX 데이터 분석하기**\n",
    "https://pypi.org/project/mdict-utils/\n",
    "1. **MDX 사전파일을** 활용하여 객체에 구분하기\n",
    "1. 각 사전의 첫번째 의미를 통해서 **NER** 사전 만들기\n",
    "1. 추후에 보완을 해서 wordnet 으로 강화하기\n",
    "\n",
    "## **1 데이터 불러오기**\n",
    "작업한 내용을 대상으로 중분류 내용 추가하기\n",
    "- 법률, 식품, 자동차 등 중분류 내용이 당장은 필요가 없어 보인다.\n",
    "- 작업을 진행하면서 필요하면 추가하기"
   ]
  },
  {
   "cell_type": "code",
   "execution_count": 1,
   "metadata": {},
   "outputs": [
    {
     "data": {
      "text/plain": [
       "(388091, 2)"
      ]
     },
     "execution_count": 1,
     "metadata": {},
     "output_type": "execute_result"
    }
   ],
   "source": [
    "import pickle\n",
    "# with open('data/nerDict.pk', 'wb') as handle:\n",
    "#     pickle.dump(nerDict, handle, protocol=pickle.HIGHEST_PROTOCOL)\n",
    "with open('data/nerDict.pk', 'rb') as handle:\n",
    "    nerDict = pickle.load(handle)\n",
    "nerDict.shape"
   ]
  },
  {
   "cell_type": "code",
   "execution_count": 2,
   "metadata": {},
   "outputs": [
    {
     "data": {
      "text/plain": [
       "[('명사',\n",
       "  ['명사',\n",
       "   '얄팍하게 저며 갖은 양념을 하여 구운 쇠고기.',\n",
       "   '¶ 석쇠에 너비아니를 구우니 연기가 올라왔다./송 씨는 새로 구워 온 너비아니 접시를 상 위에 올려놓으며, 신호의 눈치를 살폈다.≪최일남, 거룩한 응달≫\\r\\n'])]"
      ]
     },
     "execution_count": 2,
     "metadata": {},
     "output_type": "execute_result"
    }
   ],
   "source": [
    "query     = \"너비아니\"\n",
    "q_data    = nerDict[nerDict.Text == query].Data.values.tolist()\n",
    "itemIndex = nerDict.Text.values.tolist()\n",
    "itemData  = nerDict.Data.values.tolist()\n",
    "q_data[0]"
   ]
  },
  {
   "cell_type": "code",
   "execution_count": 3,
   "metadata": {},
   "outputs": [
    {
     "data": {
      "text/plain": [
       "(320585, 388091)"
      ]
     },
     "execution_count": 3,
     "metadata": {},
     "output_type": "execute_result"
    }
   ],
   "source": [
    "# 고유 단어는 추출한 결과 32만개가 추출된다\n",
    "itemIndexTemp = list(set(itemIndex))\n",
    "len(itemIndexTemp), len(itemIndex)"
   ]
  },
  {
   "cell_type": "markdown",
   "metadata": {},
   "source": [
    "## **2 N-Gram 데이터**\n",
    "**itemIndexTemp** 를 활용하며 고유단어 찾기"
   ]
  },
  {
   "cell_type": "code",
   "execution_count": 4,
   "metadata": {},
   "outputs": [
    {
     "data": {
      "text/html": [
       "<div>\n",
       "<style scoped>\n",
       "    .dataframe tbody tr th:only-of-type {\n",
       "        vertical-align: middle;\n",
       "    }\n",
       "\n",
       "    .dataframe tbody tr th {\n",
       "        vertical-align: top;\n",
       "    }\n",
       "\n",
       "    .dataframe thead th {\n",
       "        text-align: right;\n",
       "    }\n",
       "</style>\n",
       "<table border=\"1\" class=\"dataframe\">\n",
       "  <thead>\n",
       "    <tr style=\"text-align: right;\">\n",
       "      <th></th>\n",
       "      <th>년도</th>\n",
       "      <th>주차</th>\n",
       "      <th>요일</th>\n",
       "      <th>구분</th>\n",
       "      <th>메인1</th>\n",
       "      <th>메인2</th>\n",
       "      <th>메인3</th>\n",
       "      <th>메인4</th>\n",
       "      <th>메인5</th>\n",
       "      <th>메인6</th>\n",
       "      <th>메인7</th>\n",
       "      <th>메인8</th>\n",
       "      <th>메인9</th>\n",
       "      <th>메인10</th>\n",
       "      <th>Unnamed: 14</th>\n",
       "    </tr>\n",
       "  </thead>\n",
       "  <tbody>\n",
       "    <tr>\n",
       "      <th>1</th>\n",
       "      <td>2017</td>\n",
       "      <td>52</td>\n",
       "      <td>화</td>\n",
       "      <td>중식</td>\n",
       "      <td>황태미역국</td>\n",
       "      <td>매콤제육볶음</td>\n",
       "      <td>해물볶음우동</td>\n",
       "      <td>팽이맛살계란전</td>\n",
       "      <td>양상추샐러드</td>\n",
       "      <td>흑임자D</td>\n",
       "      <td>치커리사과겉절이</td>\n",
       "      <td>양념깻잎지</td>\n",
       "      <td>포기김치</td>\n",
       "      <td></td>\n",
       "      <td></td>\n",
       "    </tr>\n",
       "    <tr>\n",
       "      <th>2</th>\n",
       "      <td>2017</td>\n",
       "      <td>52</td>\n",
       "      <td>수</td>\n",
       "      <td>중식</td>\n",
       "      <td>육개장</td>\n",
       "      <td>사천식칠리탕수육</td>\n",
       "      <td>카레라이스</td>\n",
       "      <td>멸치꽈리볶음</td>\n",
       "      <td>사과단감샐러드</td>\n",
       "      <td>훈제오리야채겨자무침</td>\n",
       "      <td>콩나물매콤무침</td>\n",
       "      <td>포기김치</td>\n",
       "      <td></td>\n",
       "      <td></td>\n",
       "      <td></td>\n",
       "    </tr>\n",
       "  </tbody>\n",
       "</table>\n",
       "</div>"
      ],
      "text/plain": [
       "     년도  주차 요일  구분    메인1       메인2     메인3      메인4      메인5         메인6  \\\n",
       "1  2017  52  화  중식  황태미역국    매콤제육볶음  해물볶음우동  팽이맛살계란전   양상추샐러드        흑임자D   \n",
       "2  2017  52  수  중식    육개장  사천식칠리탕수육   카레라이스   멸치꽈리볶음  사과단감샐러드  훈제오리야채겨자무침   \n",
       "\n",
       "        메인7    메인8   메인9 메인10 Unnamed: 14  \n",
       "1  치커리사과겉절이  양념깻잎지  포기김치                   \n",
       "2   콩나물매콤무침   포기김치                         "
      ]
     },
     "execution_count": 4,
     "metadata": {},
     "output_type": "execute_result"
    }
   ],
   "source": [
    "import pandas as pd\n",
    "menus = pd.read_csv('data/muyong_menus.csv', encoding='ms949')\n",
    "menus = menus.dropna(subset=['메인1', '메인2'])\n",
    "menus = menus.fillna('')  # NaN 값을 지운다\n",
    "menus.head(2)"
   ]
  },
  {
   "cell_type": "code",
   "execution_count": 5,
   "metadata": {},
   "outputs": [
    {
     "name": "stdout",
     "output_type": "stream",
     "text": [
      "2903\n"
     ]
    },
    {
     "data": {
      "text/plain": [
       "(None,\n",
       " '갈비산적데리조림 부추팽이무침 오징어다리야채초무침 돈안심계란장조림 비엔나브로컬리볶음 단호박고구마범벅 파채 얼큰동태찌개 고추장양념비엔나볶음 숙주나물무침 돈육땅콩강정 달래상추겉절이 콩가루배춧국 제육짜장불고기 닭단호박떡찜 풋고추양파무침 미트볼조림 얼큰오징어무국 소고기버섯만두전골 오징어미나리초무침 시금치 불고기야채비빔밥 파인D 훈제오리샐러드 얼근마파두부')"
      ]
     },
     "execution_count": 5,
     "metadata": {},
     "output_type": "execute_result"
    }
   ],
   "source": [
    "# DataFrame 에서 고유 Token List 추출\n",
    "tokens, result = [], []\n",
    "for _ in menus.columns[4:]:\n",
    "    tokens += menus[_].values.tolist()\n",
    "\n",
    "# &, %, ., / 등의 제거 후, 고유 Token 문서 만들기 \n",
    "import re\n",
    "for _ in tokens:\n",
    "    _temp = re.findall(r\"\\w+\", _)\n",
    "    if _temp:  result += _temp\n",
    "tokens = list(set(result))\n",
    "print(len(tokens)), \" \".join(tokens[:25])"
   ]
  },
  {
   "cell_type": "code",
   "execution_count": 6,
   "metadata": {},
   "outputs": [
    {
     "name": "stderr",
     "output_type": "stream",
     "text": [
      "/home/markbaum/Python/nltk/lib/python3.6/site-packages/jpype/_core.py:210: UserWarning: \n",
      "-------------------------------------------------------------------------------\n",
      "Deprecated: convertStrings was not specified when starting the JVM. The default\n",
      "behavior in JPype will be False starting in JPype 0.8. The recommended setting\n",
      "for new code is convertStrings=False.  The legacy value of True was assumed for\n",
      "this session. If you are a user of an application that reported this warning,\n",
      "please file a ticket with the developer.\n",
      "-------------------------------------------------------------------------------\n",
      "\n",
      "  \"\"\")\n"
     ]
    },
    {
     "data": {
      "text/plain": [
       "(2903, 8965)"
      ]
     },
     "execution_count": 6,
     "metadata": {},
     "output_type": "execute_result"
    }
   ],
   "source": [
    "# Okt 모듈로 명사만 찾기 (대중적 선별기준)\n",
    "from konlpy.tag import Okt\n",
    "token_Okt = Okt().morphs(\" \".join(tokens))\n",
    "len(tokens), len(token_Okt)"
   ]
  },
  {
   "cell_type": "code",
   "execution_count": 47,
   "metadata": {},
   "outputs": [],
   "source": [
    "# N-Gram 유용한 값 찾기\n",
    "n_gram, tokeNgram = 4, []\n",
    "def ngram(token, n):\n",
    "    return [token[_: _+n] for _ in range(0, (len(token)-n+1))]\n",
    "\n",
    "for _ in tokens:\n",
    "    tokeNgram += ngram(_, n_gram)\n",
    "\n",
    "from nltk import Text\n",
    "ngramObj = Text(tokeNgram)   # [list] 객체로 Text 객체의 생성"
   ]
  },
  {
   "cell_type": "code",
   "execution_count": 48,
   "metadata": {},
   "outputs": [
    {
     "data": {
      "image/png": "[encoded data removed]",
      "text/plain": [
       "<Figure size 1080x216 with 1 Axes>"
      ]
     },
     "metadata": {
      "needs_background": "light"
     },
     "output_type": "display_data"
    }
   ],
   "source": [
    "%matplotlib inline\n",
    "from matplotlib import rc, rcParams\n",
    "import matplotlib.pyplot as plt\n",
    "rc('font', family=['NanumGothic','Malgun Gothic']) # 한글의 표시\n",
    "rcParams['axes.unicode_minus'] = False             # '-' 표시의 처리\n",
    "plt.figure(figsize=(15, 3))  # 파레트 설정\n",
    "ngramObj.plot(70)"
   ]
  },
  {
   "cell_type": "code",
   "execution_count": 58,
   "metadata": {},
   "outputs": [
    {
     "data": {
      "text/plain": [
       "['매실']"
      ]
     },
     "execution_count": 58,
     "metadata": {},
     "output_type": "execute_result"
    }
   ],
   "source": [
    "[_ for _ in itemIndexTemp if _ == \"매실\"]"
   ]
  },
  {
   "cell_type": "code",
   "execution_count": 57,
   "metadata": {},
   "outputs": [
    {
     "data": {
      "text/plain": [
       "(96, 5458)"
      ]
     },
     "execution_count": 57,
     "metadata": {},
     "output_type": "execute_result"
    }
   ],
   "source": [
    "# itemIndexTemp : NER 객체어 사전\n",
    "valid_token = []\n",
    "unvalid_token = []\n",
    "voca_tokens = ngramObj.vocab().most_common()\n",
    "\n",
    "from tqdm import tqdm\n",
    "for _ in tqdm(voca_tokens):\n",
    "    if _[0] in itemIndexTemp: valid_token.append(_[0])\n",
    "    else: unvalid_token.append(_[0])\n",
    "\n",
    "# 유효하게 추출된 단어는 96개\n",
    "len(valid_token), len(unvalid_token)"
   ]
  },
  {
   "cell_type": "code",
   "execution_count": null,
   "metadata": {},
   "outputs": [],
   "source": [
    "# 별도 사전을 활용하기 보단, 표준국어를 쓰자\n",
    "# 여기서도 구분되지 않는 내용은 띄어쓰기로 구분하면 된다!!"
   ]
  },
  {
   "cell_type": "code",
   "execution_count": null,
   "metadata": {},
   "outputs": [],
   "source": []
  },
  {
   "cell_type": "code",
   "execution_count": null,
   "metadata": {},
   "outputs": [],
   "source": []
  },
  {
   "cell_type": "code",
   "execution_count": null,
   "metadata": {},
   "outputs": [],
   "source": []
  },
  {
   "cell_type": "markdown",
   "metadata": {},
   "source": [
    "# **요리 데이터 MDX 내용 살펴보기**\n",
    "표준국어대사전에는 \"굴소스\" 등의 식재료 고유이름이 없는 단어들이 많아서 문제가 있었다\n",
    "- mdict -x dict.mdx --exdb\n",
    "- 요리법 데이터 사전 전처리 작업"
   ]
  },
  {
   "cell_type": "code",
   "execution_count": 40,
   "metadata": {},
   "outputs": [
    {
     "data": {
      "text/plain": [
       "['meta', 'mdx']"
      ]
     },
     "execution_count": 40,
     "metadata": {},
     "output_type": "execute_result"
    }
   ],
   "source": [
    "import sqlite3\n",
    "import pandas as pd\n",
    "# Create your connection.\n",
    "conn = sqlite3.connect('backup/recipe.db')\n",
    "resp = conn.execute(\"SELECT name FROM sqlite_master WHERE type='table';\")\n",
    "tableNames = [name[0]  for name in resp]\n",
    "tableNames"
   ]
  },
  {
   "cell_type": "code",
   "execution_count": 42,
   "metadata": {},
   "outputs": [
    {
     "name": "stdout",
     "output_type": "stream",
     "text": [
      "CPU times: user 11.8 ms, sys: 278 µs, total: 12.1 ms\n",
      "Wall time: 10.7 ms\n"
     ]
    },
    {
     "data": {
      "text/html": [
       "<div>\n",
       "<style scoped>\n",
       "    .dataframe tbody tr th:only-of-type {\n",
       "        vertical-align: middle;\n",
       "    }\n",
       "\n",
       "    .dataframe tbody tr th {\n",
       "        vertical-align: top;\n",
       "    }\n",
       "\n",
       "    .dataframe thead th {\n",
       "        text-align: right;\n",
       "    }\n",
       "</style>\n",
       "<table border=\"1\" class=\"dataframe\">\n",
       "  <thead>\n",
       "    <tr style=\"text-align: right;\">\n",
       "      <th></th>\n",
       "      <th>entry</th>\n",
       "      <th>paraphrase</th>\n",
       "    </tr>\n",
       "  </thead>\n",
       "  <tbody>\n",
       "    <tr>\n",
       "      <th>0</th>\n",
       "      <td>가오리조림</td>\n",
       "      <td>가오리 ...1/2마리 생강 ........2통 &lt;br&gt;\\r\\n마늘 ...........</td>\n",
       "    </tr>\n",
       "    <tr>\n",
       "      <th>1</th>\n",
       "      <td>가오리찜</td>\n",
       "      <td>가오리(中) ······· 1마리 &lt;br&gt;\\r\\n실파 ·········2뿌리 &lt;br...</td>\n",
       "    </tr>\n",
       "  </tbody>\n",
       "</table>\n",
       "</div>"
      ],
      "text/plain": [
       "   entry                                         paraphrase\n",
       "0  가오리조림  가오리 ...1/2마리 생강 ........2통 <br>\\r\\n마늘 ...........\n",
       "1   가오리찜  가오리(中) ······· 1마리 <br>\\r\\n실파 ·········2뿌리 <br..."
      ]
     },
     "execution_count": 42,
     "metadata": {},
     "output_type": "execute_result"
    }
   ],
   "source": [
    "%%time\n",
    "df = pd.read_sql_query(\"SELECT * FROM {}\".format(tableNames[1]), conn)\n",
    "df.head(2)"
   ]
  },
  {
   "cell_type": "code",
   "execution_count": null,
   "metadata": {},
   "outputs": [],
   "source": []
  },
  {
   "cell_type": "code",
   "execution_count": null,
   "metadata": {},
   "outputs": [],
   "source": []
  },
  {
   "cell_type": "code",
   "execution_count": null,
   "metadata": {},
   "outputs": [],
   "source": []
  },
  {
   "cell_type": "code",
   "execution_count": 27,
   "metadata": {},
   "outputs": [],
   "source": [
    "ngramTokens = list(ngramObj.vocab().keys())\n",
    "\n",
    "result = []\n",
    "for _ in ngramObj.vocab().most_common():\n",
    "    if _[0] in ngramTokens:\n",
    "        result.append(_)\n",
    "    else:\n",
    "        print(_[0])\n",
    "# result"
   ]
  },
  {
   "cell_type": "code",
   "execution_count": 30,
   "metadata": {},
   "outputs": [
    {
     "data": {
      "text/plain": [
       "['갈비산적데',\n",
       " '비산적데리',\n",
       " '산적데리조',\n",
       " '적데리조림',\n",
       " '부추팽이무',\n",
       " '추팽이무침',\n",
       " '오징어다리',\n",
       " '징어다리야',\n",
       " '어다리야채',\n",
       " '다리야채초']"
      ]
     },
     "execution_count": 30,
     "metadata": {},
     "output_type": "execute_result"
    }
   ],
   "source": [
    "list(ngramObj.vocab().keys())[:10]"
   ]
  },
  {
   "cell_type": "code",
   "execution_count": null,
   "metadata": {},
   "outputs": [],
   "source": []
  },
  {
   "cell_type": "code",
   "execution_count": null,
   "metadata": {},
   "outputs": [],
   "source": []
  },
  {
   "cell_type": "code",
   "execution_count": null,
   "metadata": {},
   "outputs": [],
   "source": []
  },
  {
   "cell_type": "code",
   "execution_count": null,
   "metadata": {},
   "outputs": [],
   "source": []
  },
  {
   "cell_type": "code",
   "execution_count": null,
   "metadata": {},
   "outputs": [],
   "source": []
  },
  {
   "cell_type": "code",
   "execution_count": null,
   "metadata": {},
   "outputs": [],
   "source": []
  },
  {
   "cell_type": "code",
   "execution_count": null,
   "metadata": {},
   "outputs": [],
   "source": []
  },
  {
   "cell_type": "code",
   "execution_count": null,
   "metadata": {},
   "outputs": [],
   "source": []
  },
  {
   "cell_type": "code",
   "execution_count": null,
   "metadata": {},
   "outputs": [],
   "source": []
  },
  {
   "cell_type": "code",
   "execution_count": null,
   "metadata": {},
   "outputs": [],
   "source": []
  },
  {
   "cell_type": "code",
   "execution_count": null,
   "metadata": {},
   "outputs": [],
   "source": []
  },
  {
   "cell_type": "code",
   "execution_count": null,
   "metadata": {},
   "outputs": [],
   "source": []
  },
  {
   "cell_type": "code",
   "execution_count": null,
   "metadata": {},
   "outputs": [],
   "source": []
  },
  {
   "cell_type": "code",
   "execution_count": null,
   "metadata": {},
   "outputs": [],
   "source": []
  },
  {
   "cell_type": "markdown",
   "metadata": {},
   "source": [
    "## **2 청심중고교 메뉴 데이터 호출**\n",
    "무영 메뉴작업 목록 호출하기\n",
    "```python\n",
    "from muyong.food import menu_chungsim\n",
    "from tqdm import tqdm\n",
    "date   = [str(_).split(\" \")[0][:-3]  for _ in pd.date_range(start='1/1/2017', end=\"8/1/2019\", freq='MS')]\n",
    "result = [menu_chungsim(_).values.tolist()  for _ in tqdm(date)]\n",
    "temp   = []\n",
    "for _ in result:\n",
    "    temp.extend(_)\n",
    "temp = pd.DataFrame(temp, columns = [\"Date\", \"조식\", \"중식\", \"석식\"])\n",
    "```"
   ]
  },
  {
   "cell_type": "code",
   "execution_count": null,
   "metadata": {},
   "outputs": [],
   "source": [
    "# 2017-01-01 부터 수집 가능합니다.\n",
    "import pandas as pd\n",
    "df = pd.read_csv('data/menu_chungsim.csv')\n",
    "df.head(2)"
   ]
  },
  {
   "cell_type": "code",
   "execution_count": null,
   "metadata": {},
   "outputs": [],
   "source": [
    "import pandas as pd\n",
    "df = pd.read_csv('data/menu_chungsim.csv')\n",
    "df.loc[0]['석식']"
   ]
  },
  {
   "cell_type": "markdown",
   "metadata": {},
   "source": [
    "## **3 성균관 대학교 메뉴 데이터 호출**\n",
    "무영 메뉴작업 목록 호출하기 : 1년 전까지만 호출가능\n",
    "```python\n",
    "div class=\"weekly_list\"\n",
    "div class=\"tabCon listcon1\"\n",
    "div class=\"weeListWrap\"   # div class=\"weeListTit\" : 날짜만 추출시\n",
    "idx_date_range = [_.date().strftime(\"%Y-%m-%d\")  \n",
    "    for _ in pd.date_range(start=idx_date, periods=len(menu_detail))]\n",
    "```"
   ]
  },
  {
   "cell_type": "code",
   "execution_count": null,
   "metadata": {},
   "outputs": [],
   "source": []
  }
 ],
 "metadata": {
  "kernelspec": {
   "display_name": "Python 3",
   "language": "python",
   "name": "python3"
  },
  "language_info": {
   "codemirror_mode": {
    "name": "ipython",
    "version": 3
   },
   "file_extension": ".py",
   "mimetype": "text/x-python",
   "name": "python",
   "nbconvert_exporter": "python",
   "pygments_lexer": "ipython3",
   "version": "3.6.3"
  }
 },
 "nbformat": 4,
 "nbformat_minor": 4
}
