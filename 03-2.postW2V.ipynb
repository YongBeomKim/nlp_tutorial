{
 "cells": [
  {
   "cell_type": "markdown",
   "metadata": {},
   "source": [
    "# **Word2Vec 분석하기**\n",
    "1. **Frequency 분석** ( **문서의 개요** 살펴보기)\n",
    "1. **Tf IDF** 분석 ( **특정 모집단 내 일부 문서의 특징** 찾기)\n",
    "1. **Word2Vec 모델의** 분석 ( **적은 데이터로 키워드** 특징찾기)"
   ]
  },
  {
   "cell_type": "markdown",
   "metadata": {},
   "source": [
    "## **1 PreProcessing 전처리 작업**\n",
    "**Word2vec** 을 만들기 위해서는 **문장 데이터로** 전처리가 필요하다\n",
    "1. **그냥 만든경우** 와, **문장을 선별한 경우를** 비교하여 성능 향상 시키기\n",
    "1. **핵심 Token 을 찾고**, 이를 바탕으로 word2vec 결과값 필터링 하기 **(Core 찾기가 우선)**"
   ]
  },
  {
   "cell_type": "code",
   "execution_count": 1,
   "metadata": {},
   "outputs": [],
   "source": [
    "import re\n",
    "def dot_fixer(sent):\n",
    "    dot_to_nun = re.compile(r\"(?P<num>(\\d+)).(?P<dot>(\\d+))\")\n",
    "    nun_to_dot = re.compile(r\"(?P<num>(\\d+))=(?P<dot>(\\d+))\")\n",
    "    post_temp  = dot_to_nun.sub(\"\\g<num>=\\g<dot>\", sent)\n",
    "    post_temp  = \"\\n\".join(post_temp.split(\".\")).replace(\"^\",\" \").replace(\"[\",\" \").replace(\"]\",\" \").replace(\"(\",\" \").replace(\")\",\" \")\n",
    "    post_temp  = nun_to_dot.sub(\"\\g<num>.\\g<dot>\", post_temp)\n",
    "    return post_temp"
   ]
  },
  {
   "cell_type": "code",
   "execution_count": 2,
   "metadata": {},
   "outputs": [
    {
     "name": "stderr",
     "output_type": "stream",
     "text": [
      "100%|██████████| 2333/2333 [00:53<00:00, 60.80it/s]\n"
     ]
    },
    {
     "name": "stdout",
     "output_type": "stream",
     "text": [
      "dot fixed\n"
     ]
    }
   ],
   "source": [
    "# 크롤링 잘못된 소숫점 숫자를 치환후 줄바꿈 처리 모두 바꾸기\n",
    "import pandas as pd\n",
    "df = pd.read_csv(\"data/naverPost_muyong.csv\")\n",
    "\n",
    "from tqdm import tqdm\n",
    "posts    = df.Posts.tolist()\n",
    "df.Posts = [dot_fixer(_) for _ in tqdm(posts)]\n",
    "df.to_csv(\"data/naverPost_muyong_fixed.csv\")\n",
    "print(\"dot fixed\")"
   ]
  },
  {
   "cell_type": "markdown",
   "metadata": {},
   "source": [
    "## **2 PreProcessing 2 유효문장 선별하기**\n",
    "**Word2vec** 을 만들기 위해서는 **문장 데이터로** 전처리가 필요하다\n",
    "1. **그냥 만든경우** 와, **문장을 선별한 경우를** 비교하여 성능 향상 시키기\n",
    "1. **핵심 Token 을 찾고**, 이를 바탕으로 word2vec 결과값 필터링 하기 **(Core 찾기가 우선)**\n",
    "1. 여기선 **문장내 단어가 3개 이상 출연한** 문장만 선별하기"
   ]
  },
  {
   "cell_type": "code",
   "execution_count": 5,
   "metadata": {},
   "outputs": [
    {
     "name": "stderr",
     "output_type": "stream",
     "text": [
      "100%|██████████| 3/3 [00:00<00:00, 101.40it/s]"
     ]
    },
    {
     "name": "stdout",
     "output_type": "stream",
     "text": [
      "반찬 볶음 조림\n",
      "부드러운 닭가슴살 장조림 만들기\n",
      "본문 기타 기능\n",
      "조림 밑반찬으로 대표적인 장조림\n",
      "지방이 적고 단백질은 풍부한\n",
      "을 이용해 만들어봤어요\n",
      "고기를 잘게 찢어 넣어 식감은 \n"
     ]
    },
    {
     "name": "stderr",
     "output_type": "stream",
     "text": [
      "\n"
     ]
    },
    {
     "data": {
      "text/html": [
       "<div>\n",
       "<style scoped>\n",
       "    .dataframe tbody tr th:only-of-type {\n",
       "        vertical-align: middle;\n",
       "    }\n",
       "\n",
       "    .dataframe tbody tr th {\n",
       "        vertical-align: top;\n",
       "    }\n",
       "\n",
       "    .dataframe thead th {\n",
       "        text-align: right;\n",
       "    }\n",
       "</style>\n",
       "<table border=\"1\" class=\"dataframe\">\n",
       "  <thead>\n",
       "    <tr style=\"text-align: right;\">\n",
       "      <th></th>\n",
       "      <th>Query</th>\n",
       "      <th>Posts</th>\n",
       "    </tr>\n",
       "  </thead>\n",
       "  <tbody>\n",
       "    <tr>\n",
       "      <th>0</th>\n",
       "      <td>가슴살_계란_닭_장조림</td>\n",
       "      <td>반찬 볶음 조림\\n부드러운 닭가슴살 장조림 만들기\\n베리츄\\n\\n2017.9\\n1....</td>\n",
       "    </tr>\n",
       "    <tr>\n",
       "      <th>1</th>\n",
       "      <td>가슴살_굴소스_닭_볶음밥</td>\n",
       "      <td>아임닭 7기 종료\\n수비드 닭가슴살 요리 돈까스 볶음밥 만들기\\n주니호맘\\n\\n20...</td>\n",
       "    </tr>\n",
       "  </tbody>\n",
       "</table>\n",
       "</div>"
      ],
      "text/plain": [
       "           Query                                              Posts\n",
       "0   가슴살_계란_닭_장조림  반찬 볶음 조림\\n부드러운 닭가슴살 장조림 만들기\\n베리츄\\n\\n2017.9\\n1....\n",
       "1  가슴살_굴소스_닭_볶음밥  아임닭 7기 종료\\n수비드 닭가슴살 요리 돈까스 볶음밥 만들기\\n주니호맘\\n\\n20..."
      ]
     },
     "execution_count": 5,
     "metadata": {},
     "output_type": "execute_result"
    }
   ],
   "source": [
    "from tqdm import tqdm\n",
    "import pandas as pd\n",
    "df        = pd.read_csv(\"data/naverPost_muyong_fixed.csv\").iloc[:,1:]\n",
    "# key_posts = df.Posts.tolist()\n",
    "\n",
    "result = []\n",
    "for posts in tqdm(key_posts[:3]):\n",
    "    posts_temp = []\n",
    "    for post in posts.split(\"|\"): # 500 개 문장\n",
    "        for _ in post.split(\"\\n\"):\n",
    "            if len(_.split(\" \")) >= 3: # 3단어 이상으로 구성된 문장만\n",
    "                posts_temp.append(_.strip())\n",
    "    result.append(\"\\n\".join(posts_temp))\n",
    "\n",
    "print(result[0][:100])\n",
    "df = df.iloc[:,1:].head(2)"
   ]
  },
  {
   "cell_type": "code",
   "execution_count": 31,
   "metadata": {},
   "outputs": [
    {
     "name": "stdout",
     "output_type": "stream",
     "text": [
      "Key Token: 가슴살   Count: 17\n",
      "Key Token: 계란    Count: 110\n",
      "Key Token: 닭     Count: 33\n",
      "Key Token: 장조림   Count: 377\n"
     ]
    }
   ],
   "source": [
    "# Posts 0번 키워드가 본문에 몇번 출현했는지 확인\n",
    "post_temp = []\n",
    "for _ in df.Posts[0].splitlines():\n",
    "    post_temp.extend(_.split(\" \"))\n",
    "\n",
    "# Query 내용 살펴보기\n",
    "from collections import Counter\n",
    "for _ in df.Query[0].split(\"_\"):\n",
    "    print(\"Key Token: {:4}  Count: {}\".format(_.strip(), Counter(post_temp)[_]))"
   ]
  },
  {
   "cell_type": "markdown",
   "metadata": {},
   "source": [
    "## **3 Word2Vec from String**\n",
    "**[w2v from Sentence block](https://codesachin.wordpress.com/2015/10/09/generating-a-word2vec-model-from-a-block-of-text-using-gensim-python/)**\n",
    "1. fasttext 및 gensim 에서는 다음과 같이 파일로 저장한 뒤 활용을 합니다.\n",
    "1. 임시파일을 계속 만들고 저장하는 작업을 줄이기 위해선 별도의 접근방법이 필요합니다.\n",
    "\n",
    "```python\n",
    "%%time\n",
    "from gensim.models import word2vec\n",
    "txt_file = 'w2v_script.txt'\n",
    "data  = word2vec.LineSentence(txt_file)\n",
    "model = word2vec.Word2Vec(data, size=30, window=2, min_count=16, \n",
    "                          hs=1, workers=4, iter=100, sg=1)\n",
    "model.save(model_file)\n",
    "```"
   ]
  },
  {
   "cell_type": "code",
   "execution_count": 35,
   "metadata": {},
   "outputs": [],
   "source": [
    "# defined Model\n",
    "word2vec_ = Word2Vec(sg = 1, workers = 4, size = 100, min_count = 10, window = 2)"
   ]
  },
  {
   "cell_type": "code",
   "execution_count": 41,
   "metadata": {},
   "outputs": [
    {
     "ename": "RuntimeError",
     "evalue": "cannot sort vocabulary after model weights already initialized.",
     "output_type": "error",
     "traceback": [
      "\u001b[0;31m---------------------------------------------------------------------------\u001b[0m",
      "\u001b[0;31mRuntimeError\u001b[0m                              Traceback (most recent call last)",
      "\u001b[0;32m<ipython-input-41-cd3be1f36e60>\u001b[0m in \u001b[0;36m<module>\u001b[0;34m\u001b[0m\n\u001b[1;32m      1\u001b[0m \u001b[0;31m# first we need to built the vocab\u001b[0m\u001b[0;34m\u001b[0m\u001b[0;34m\u001b[0m\u001b[0m\n\u001b[0;32m----> 2\u001b[0;31m \u001b[0mword2vec_\u001b[0m\u001b[0;34m.\u001b[0m\u001b[0mbuild_vocab\u001b[0m\u001b[0;34m(\u001b[0m\u001b[0mresult\u001b[0m\u001b[0;34m[\u001b[0m\u001b[0;36m0\u001b[0m\u001b[0;34m]\u001b[0m\u001b[0;34m.\u001b[0m\u001b[0msplitlines\u001b[0m\u001b[0;34m(\u001b[0m\u001b[0;34m)\u001b[0m\u001b[0;34m)\u001b[0m\u001b[0;34m\u001b[0m\u001b[0m\n\u001b[0m",
      "\u001b[0;32m~/Python/nltk/lib/python3.6/site-packages/gensim/models/base_any2vec.py\u001b[0m in \u001b[0;36mbuild_vocab\u001b[0;34m(self, sentences, corpus_file, update, progress_per, keep_raw_vocab, trim_rule, **kwargs)\u001b[0m\n\u001b[1;32m    939\u001b[0m         report_values = self.vocabulary.prepare_vocab(\n\u001b[1;32m    940\u001b[0m             \u001b[0mself\u001b[0m\u001b[0;34m.\u001b[0m\u001b[0mhs\u001b[0m\u001b[0;34m,\u001b[0m \u001b[0mself\u001b[0m\u001b[0;34m.\u001b[0m\u001b[0mnegative\u001b[0m\u001b[0;34m,\u001b[0m \u001b[0mself\u001b[0m\u001b[0;34m.\u001b[0m\u001b[0mwv\u001b[0m\u001b[0;34m,\u001b[0m \u001b[0mupdate\u001b[0m\u001b[0;34m=\u001b[0m\u001b[0mupdate\u001b[0m\u001b[0;34m,\u001b[0m \u001b[0mkeep_raw_vocab\u001b[0m\u001b[0;34m=\u001b[0m\u001b[0mkeep_raw_vocab\u001b[0m\u001b[0;34m,\u001b[0m\u001b[0;34m\u001b[0m\u001b[0m\n\u001b[0;32m--> 941\u001b[0;31m             trim_rule=trim_rule, **kwargs)\n\u001b[0m\u001b[1;32m    942\u001b[0m         \u001b[0mreport_values\u001b[0m\u001b[0;34m[\u001b[0m\u001b[0;34m'memory'\u001b[0m\u001b[0;34m]\u001b[0m \u001b[0;34m=\u001b[0m \u001b[0mself\u001b[0m\u001b[0;34m.\u001b[0m\u001b[0mestimate_memory\u001b[0m\u001b[0;34m(\u001b[0m\u001b[0mvocab_size\u001b[0m\u001b[0;34m=\u001b[0m\u001b[0mreport_values\u001b[0m\u001b[0;34m[\u001b[0m\u001b[0;34m'num_retained_words'\u001b[0m\u001b[0;34m]\u001b[0m\u001b[0;34m)\u001b[0m\u001b[0;34m\u001b[0m\u001b[0m\n\u001b[1;32m    943\u001b[0m         \u001b[0mself\u001b[0m\u001b[0;34m.\u001b[0m\u001b[0mtrainables\u001b[0m\u001b[0;34m.\u001b[0m\u001b[0mprepare_weights\u001b[0m\u001b[0;34m(\u001b[0m\u001b[0mself\u001b[0m\u001b[0;34m.\u001b[0m\u001b[0mhs\u001b[0m\u001b[0;34m,\u001b[0m \u001b[0mself\u001b[0m\u001b[0;34m.\u001b[0m\u001b[0mnegative\u001b[0m\u001b[0;34m,\u001b[0m \u001b[0mself\u001b[0m\u001b[0;34m.\u001b[0m\u001b[0mwv\u001b[0m\u001b[0;34m,\u001b[0m \u001b[0mupdate\u001b[0m\u001b[0;34m=\u001b[0m\u001b[0mupdate\u001b[0m\u001b[0;34m,\u001b[0m \u001b[0mvocabulary\u001b[0m\u001b[0;34m=\u001b[0m\u001b[0mself\u001b[0m\u001b[0;34m.\u001b[0m\u001b[0mvocabulary\u001b[0m\u001b[0;34m)\u001b[0m\u001b[0;34m\u001b[0m\u001b[0m\n",
      "\u001b[0;32m~/Python/nltk/lib/python3.6/site-packages/gensim/models/word2vec.py\u001b[0m in \u001b[0;36mprepare_vocab\u001b[0;34m(self, hs, negative, wv, update, keep_raw_vocab, trim_rule, min_count, sample, dry_run)\u001b[0m\n\u001b[1;32m   1755\u001b[0m \u001b[0;34m\u001b[0m\u001b[0m\n\u001b[1;32m   1756\u001b[0m         \u001b[0;32mif\u001b[0m \u001b[0mself\u001b[0m\u001b[0;34m.\u001b[0m\u001b[0msorted_vocab\u001b[0m \u001b[0;32mand\u001b[0m \u001b[0;32mnot\u001b[0m \u001b[0mupdate\u001b[0m\u001b[0;34m:\u001b[0m\u001b[0;34m\u001b[0m\u001b[0m\n\u001b[0;32m-> 1757\u001b[0;31m             \u001b[0mself\u001b[0m\u001b[0;34m.\u001b[0m\u001b[0msort_vocab\u001b[0m\u001b[0;34m(\u001b[0m\u001b[0mwv\u001b[0m\u001b[0;34m)\u001b[0m\u001b[0;34m\u001b[0m\u001b[0m\n\u001b[0m\u001b[1;32m   1758\u001b[0m         \u001b[0;32mif\u001b[0m \u001b[0mhs\u001b[0m\u001b[0;34m:\u001b[0m\u001b[0;34m\u001b[0m\u001b[0m\n\u001b[1;32m   1759\u001b[0m             \u001b[0;31m# add info about each word's Huffman encoding\u001b[0m\u001b[0;34m\u001b[0m\u001b[0;34m\u001b[0m\u001b[0m\n",
      "\u001b[0;32m~/Python/nltk/lib/python3.6/site-packages/gensim/models/word2vec.py\u001b[0m in \u001b[0;36msort_vocab\u001b[0;34m(self, wv)\u001b[0m\n\u001b[1;32m   1602\u001b[0m         \u001b[0;34m\"\"\"Sort the vocabulary so the most frequent words have the lowest indexes.\"\"\"\u001b[0m\u001b[0;34m\u001b[0m\u001b[0m\n\u001b[1;32m   1603\u001b[0m         \u001b[0;32mif\u001b[0m \u001b[0mlen\u001b[0m\u001b[0;34m(\u001b[0m\u001b[0mwv\u001b[0m\u001b[0;34m.\u001b[0m\u001b[0mvectors\u001b[0m\u001b[0;34m)\u001b[0m\u001b[0;34m:\u001b[0m\u001b[0;34m\u001b[0m\u001b[0m\n\u001b[0;32m-> 1604\u001b[0;31m             \u001b[0;32mraise\u001b[0m \u001b[0mRuntimeError\u001b[0m\u001b[0;34m(\u001b[0m\u001b[0;34m\"cannot sort vocabulary after model weights already initialized.\"\u001b[0m\u001b[0;34m)\u001b[0m\u001b[0;34m\u001b[0m\u001b[0m\n\u001b[0m\u001b[1;32m   1605\u001b[0m         \u001b[0mwv\u001b[0m\u001b[0;34m.\u001b[0m\u001b[0mindex2word\u001b[0m\u001b[0;34m.\u001b[0m\u001b[0msort\u001b[0m\u001b[0;34m(\u001b[0m\u001b[0mkey\u001b[0m\u001b[0;34m=\u001b[0m\u001b[0;32mlambda\u001b[0m \u001b[0mword\u001b[0m\u001b[0;34m:\u001b[0m \u001b[0mwv\u001b[0m\u001b[0;34m.\u001b[0m\u001b[0mvocab\u001b[0m\u001b[0;34m[\u001b[0m\u001b[0mword\u001b[0m\u001b[0;34m]\u001b[0m\u001b[0;34m.\u001b[0m\u001b[0mcount\u001b[0m\u001b[0;34m,\u001b[0m \u001b[0mreverse\u001b[0m\u001b[0;34m=\u001b[0m\u001b[0;32mTrue\u001b[0m\u001b[0;34m)\u001b[0m\u001b[0;34m\u001b[0m\u001b[0m\n\u001b[1;32m   1606\u001b[0m         \u001b[0;32mfor\u001b[0m \u001b[0mi\u001b[0m\u001b[0;34m,\u001b[0m \u001b[0mword\u001b[0m \u001b[0;32min\u001b[0m \u001b[0menumerate\u001b[0m\u001b[0;34m(\u001b[0m\u001b[0mwv\u001b[0m\u001b[0;34m.\u001b[0m\u001b[0mindex2word\u001b[0m\u001b[0;34m)\u001b[0m\u001b[0;34m:\u001b[0m\u001b[0;34m\u001b[0m\u001b[0m\n",
      "\u001b[0;31mRuntimeError\u001b[0m: cannot sort vocabulary after model weights already initialized."
     ]
    }
   ],
   "source": [
    "# first we need to built the vocab\n",
    "word2vec_.build_vocab(result[0].splitlines())"
   ]
  },
  {
   "cell_type": "code",
   "execution_count": 37,
   "metadata": {},
   "outputs": [
    {
     "name": "stderr",
     "output_type": "stream",
     "text": [
      "/home/markbaum/Python/nltk/lib/python3.6/site-packages/ipykernel_launcher.py:2: DeprecationWarning: Call to deprecated `iter` (Attribute will be removed in 4.0.0, use self.epochs instead).\n",
      "  \n"
     ]
    },
    {
     "data": {
      "text/plain": [
       "(344039, 614780)"
      ]
     },
     "execution_count": 37,
     "metadata": {},
     "output_type": "execute_result"
    }
   ],
   "source": [
    "# now we need to train the model\n",
    "word2vec_.train(result[0], total_examples = word2vec_.corpus_count, epochs = word2vec_.iter)"
   ]
  },
  {
   "cell_type": "code",
   "execution_count": 40,
   "metadata": {},
   "outputs": [
    {
     "data": {
      "text/plain": [
       "{'반': <gensim.models.keyedvectors.Vocab at 0x7f8062be6198>,\n",
       " '찬': <gensim.models.keyedvectors.Vocab at 0x7f8062be64a8>,\n",
       " ' ': <gensim.models.keyedvectors.Vocab at 0x7f8062be6438>,\n",
       " '볶': <gensim.models.keyedvectors.Vocab at 0x7f8062be6518>,\n",
       " '음': <gensim.models.keyedvectors.Vocab at 0x7f8062be67b8>,\n",
       " '조': <gensim.models.keyedvectors.Vocab at 0x7f8062be6828>,\n",
       " '림': <gensim.models.keyedvectors.Vocab at 0x7f8062be6898>,\n",
       " '\\n': <gensim.models.keyedvectors.Vocab at 0x7f8062be6908>,\n",
       " '부': <gensim.models.keyedvectors.Vocab at 0x7f8062be6978>,\n",
       " '드': <gensim.models.keyedvectors.Vocab at 0x7f8062be69e8>,\n",
       " '러': <gensim.models.keyedvectors.Vocab at 0x7f8062be6a58>,\n",
       " '운': <gensim.models.keyedvectors.Vocab at 0x7f8062be6ac8>,\n",
       " '닭': <gensim.models.keyedvectors.Vocab at 0x7f8062be6b38>,\n",
       " '가': <gensim.models.keyedvectors.Vocab at 0x7f8062be6ba8>,\n",
       " '슴': <gensim.models.keyedvectors.Vocab at 0x7f8062be6c18>,\n",
       " '살': <gensim.models.keyedvectors.Vocab at 0x7f8062be6c88>,\n",
       " '장': <gensim.models.keyedvectors.Vocab at 0x7f8062be6cf8>,\n",
       " '만': <gensim.models.keyedvectors.Vocab at 0x7f8062be6d68>,\n",
       " '들': <gensim.models.keyedvectors.Vocab at 0x7f8062be6dd8>,\n",
       " '기': <gensim.models.keyedvectors.Vocab at 0x7f8062be6e48>,\n",
       " '본': <gensim.models.keyedvectors.Vocab at 0x7f8062be6eb8>,\n",
       " '문': <gensim.models.keyedvectors.Vocab at 0x7f8062be6f28>,\n",
       " '타': <gensim.models.keyedvectors.Vocab at 0x7f8062be6f98>,\n",
       " '능': <gensim.models.keyedvectors.Vocab at 0x7f8062be9048>,\n",
       " '밑': <gensim.models.keyedvectors.Vocab at 0x7f8062be90b8>,\n",
       " '으': <gensim.models.keyedvectors.Vocab at 0x7f8062be9128>,\n",
       " '로': <gensim.models.keyedvectors.Vocab at 0x7f8062be9198>,\n",
       " '대': <gensim.models.keyedvectors.Vocab at 0x7f8062be9208>,\n",
       " '표': <gensim.models.keyedvectors.Vocab at 0x7f8062be9278>,\n",
       " '적': <gensim.models.keyedvectors.Vocab at 0x7f8062be92e8>,\n",
       " '인': <gensim.models.keyedvectors.Vocab at 0x7f8062be9358>,\n",
       " '지': <gensim.models.keyedvectors.Vocab at 0x7f8062be93c8>,\n",
       " '방': <gensim.models.keyedvectors.Vocab at 0x7f8062be9438>,\n",
       " '이': <gensim.models.keyedvectors.Vocab at 0x7f8062be94a8>,\n",
       " '고': <gensim.models.keyedvectors.Vocab at 0x7f8062be9518>,\n",
       " '단': <gensim.models.keyedvectors.Vocab at 0x7f8062be9588>,\n",
       " '백': <gensim.models.keyedvectors.Vocab at 0x7f8062be95f8>,\n",
       " '질': <gensim.models.keyedvectors.Vocab at 0x7f8062be9668>,\n",
       " '은': <gensim.models.keyedvectors.Vocab at 0x7f8062be96d8>,\n",
       " '풍': <gensim.models.keyedvectors.Vocab at 0x7f8062be9748>,\n",
       " '한': <gensim.models.keyedvectors.Vocab at 0x7f8062be97b8>,\n",
       " '을': <gensim.models.keyedvectors.Vocab at 0x7f8062be9828>,\n",
       " '용': <gensim.models.keyedvectors.Vocab at 0x7f8062be9898>,\n",
       " '해': <gensim.models.keyedvectors.Vocab at 0x7f8062be9908>,\n",
       " '어': <gensim.models.keyedvectors.Vocab at 0x7f8062be9978>,\n",
       " '봤': <gensim.models.keyedvectors.Vocab at 0x7f8062be99e8>,\n",
       " '요': <gensim.models.keyedvectors.Vocab at 0x7f8062be9a58>,\n",
       " '를': <gensim.models.keyedvectors.Vocab at 0x7f8062be9ac8>,\n",
       " '잘': <gensim.models.keyedvectors.Vocab at 0x7f8062be9b38>,\n",
       " '게': <gensim.models.keyedvectors.Vocab at 0x7f8062be9ba8>,\n",
       " '찢': <gensim.models.keyedvectors.Vocab at 0x7f8062be9c18>,\n",
       " '넣': <gensim.models.keyedvectors.Vocab at 0x7f8062be9c88>,\n",
       " '식': <gensim.models.keyedvectors.Vocab at 0x7f8062be9cf8>,\n",
       " '감': <gensim.models.keyedvectors.Vocab at 0x7f8062be9d68>,\n",
       " '더': <gensim.models.keyedvectors.Vocab at 0x7f8062be9dd8>,\n",
       " '럽': <gensim.models.keyedvectors.Vocab at 0x7f8062be9e48>,\n",
       " '과': <gensim.models.keyedvectors.Vocab at 0x7f8062be9eb8>,\n",
       " '제': <gensim.models.keyedvectors.Vocab at 0x7f8062be9f28>,\n",
       " '맞': <gensim.models.keyedvectors.Vocab at 0x7f8062be9f98>,\n",
       " '까': <gensim.models.keyedvectors.Vocab at 0x7f8062c28048>,\n",
       " '넉': <gensim.models.keyedvectors.Vocab at 0x7f8062c28080>,\n",
       " '하': <gensim.models.keyedvectors.Vocab at 0x7f8062c280b8>,\n",
       " '었': <gensim.models.keyedvectors.Vocab at 0x7f8062c280f0>,\n",
       " '꽈': <gensim.models.keyedvectors.Vocab at 0x7f8062c28128>,\n",
       " '리': <gensim.models.keyedvectors.Vocab at 0x7f8062c28160>,\n",
       " '추': <gensim.models.keyedvectors.Vocab at 0x7f8062c28198>,\n",
       " '는': <gensim.models.keyedvectors.Vocab at 0x7f8062c281d0>,\n",
       " '일': <gensim.models.keyedvectors.Vocab at 0x7f8062c28208>,\n",
       " '에': <gensim.models.keyedvectors.Vocab at 0x7f8062c28240>,\n",
       " '비': <gensim.models.keyedvectors.Vocab at 0x7f8062c28278>,\n",
       " '글': <gensim.models.keyedvectors.Vocab at 0x7f8062c282b0>,\n",
       " '니': <gensim.models.keyedvectors.Vocab at 0x7f8062c282e8>,\n",
       " '못': <gensim.models.keyedvectors.Vocab at 0x7f8062c28320>,\n",
       " '생': <gensim.models.keyedvectors.Vocab at 0x7f8062c28358>,\n",
       " '민': <gensim.models.keyedvectors.Vocab at 0x7f8062c28390>,\n",
       " 'A': <gensim.models.keyedvectors.Vocab at 0x7f8062c28400>,\n",
       " '와': <gensim.models.keyedvectors.Vocab at 0x7f8062c28438>,\n",
       " 'C': <gensim.models.keyedvectors.Vocab at 0x7f8062c28470>,\n",
       " '등': <gensim.models.keyedvectors.Vocab at 0x7f8062c28668>,\n",
       " '의': <gensim.models.keyedvectors.Vocab at 0x7f8062c28860>,\n",
       " '영': <gensim.models.keyedvectors.Vocab at 0x7f8062c28898>,\n",
       " '양': <gensim.models.keyedvectors.Vocab at 0x7f8062c288d0>,\n",
       " '매': <gensim.models.keyedvectors.Vocab at 0x7f8062c28908>,\n",
       " '맛': <gensim.models.keyedvectors.Vocab at 0x7f8062c28940>,\n",
       " '덜': <gensim.models.keyedvectors.Vocab at 0x7f8062c28978>,\n",
       " '나': <gensim.models.keyedvectors.Vocab at 0x7f8062c289e8>,\n",
       " '찜': <gensim.models.keyedvectors.Vocab at 0x7f8062c28a58>,\n",
       " '먹': <gensim.models.keyedvectors.Vocab at 0x7f8062c28ac8>,\n",
       " '좋': <gensim.models.keyedvectors.Vocab at 0x7f8062c28b38>,\n",
       " '아': <gensim.models.keyedvectors.Vocab at 0x7f8062c28ba8>,\n",
       " '재': <gensim.models.keyedvectors.Vocab at 0x7f8062c28c18>,\n",
       " '료': <gensim.models.keyedvectors.Vocab at 0x7f8062c28c88>,\n",
       " '시': <gensim.models.keyedvectors.Vocab at 0x7f8062c28cf8>,\n",
       " '간': <gensim.models.keyedvectors.Vocab at 0x7f8062c28d68>,\n",
       " '1': <gensim.models.keyedvectors.Vocab at 0x7f8062c28dd8>,\n",
       " '내': <gensim.models.keyedvectors.Vocab at 0x7f8062c28e48>,\n",
       " '난': <gensim.models.keyedvectors.Vocab at 0x7f8062c28eb8>,\n",
       " '도': <gensim.models.keyedvectors.Vocab at 0x7f8062c28f28>,\n",
       " '중': <gensim.models.keyedvectors.Vocab at 0x7f8062c28f98>,\n",
       " '2': <gensim.models.keyedvectors.Vocab at 0x7f8062c287b8>,\n",
       " '.': <gensim.models.keyedvectors.Vocab at 0x7f8062bea518>,\n",
       " '0': <gensim.models.keyedvectors.Vocab at 0x7f8062bea208>,\n",
       " 'g': <gensim.models.keyedvectors.Vocab at 0x7f8062bea048>,\n",
       " '물': <gensim.models.keyedvectors.Vocab at 0x7f8062bea0b8>,\n",
       " '5': <gensim.models.keyedvectors.Vocab at 0x7f8062bea128>,\n",
       " '컵': <gensim.models.keyedvectors.Vocab at 0x7f8062bea198>,\n",
       " '청': <gensim.models.keyedvectors.Vocab at 0x7f8062bea278>,\n",
       " '주': <gensim.models.keyedvectors.Vocab at 0x7f8062bea2e8>,\n",
       " '큰': <gensim.models.keyedvectors.Vocab at 0x7f8062bea668>,\n",
       " '술': <gensim.models.keyedvectors.Vocab at 0x7f8062bea6a0>,\n",
       " '마': <gensim.models.keyedvectors.Vocab at 0x7f8062bea6d8>,\n",
       " '늘': <gensim.models.keyedvectors.Vocab at 0x7f8062bea710>,\n",
       " '4': <gensim.models.keyedvectors.Vocab at 0x7f8062bea748>,\n",
       " '쪽': <gensim.models.keyedvectors.Vocab at 0x7f8062bea780>,\n",
       " '강': <gensim.models.keyedvectors.Vocab at 0x7f8062bea7b8>,\n",
       " '크': <gensim.models.keyedvectors.Vocab at 0x7f8062bea7f0>,\n",
       " '톨': <gensim.models.keyedvectors.Vocab at 0x7f8062bea828>,\n",
       " '새': <gensim.models.keyedvectors.Vocab at 0x7f8062bea860>,\n",
       " '송': <gensim.models.keyedvectors.Vocab at 0x7f8062bea898>,\n",
       " '버': <gensim.models.keyedvectors.Vocab at 0x7f8062bea8d0>,\n",
       " '섯': <gensim.models.keyedvectors.Vocab at 0x7f8062bea908>,\n",
       " '개': <gensim.models.keyedvectors.Vocab at 0x7f8062bea940>,\n",
       " '약': <gensim.models.keyedvectors.Vocab at 0x7f8062bea978>,\n",
       " '3': <gensim.models.keyedvectors.Vocab at 0x7f8062bea9b0>,\n",
       " '줌': <gensim.models.keyedvectors.Vocab at 0x7f8062bea9e8>,\n",
       " '념': <gensim.models.keyedvectors.Vocab at 0x7f8062beaa20>,\n",
       " '육': <gensim.models.keyedvectors.Vocab at 0x7f8062beaa58>,\n",
       " '수': <gensim.models.keyedvectors.Vocab at 0x7f8062beaa90>,\n",
       " 'm': <gensim.models.keyedvectors.Vocab at 0x7f8062beaac8>,\n",
       " 'l': <gensim.models.keyedvectors.Vocab at 0x7f8062beab00>,\n",
       " '꿀': <gensim.models.keyedvectors.Vocab at 0x7f8062beab38>,\n",
       " '루': <gensim.models.keyedvectors.Vocab at 0x7f8062beab70>,\n",
       " '후': <gensim.models.keyedvectors.Vocab at 0x7f8062beaba8>,\n",
       " '춧': <gensim.models.keyedvectors.Vocab at 0x7f8062beabe0>,\n",
       " '호': <gensim.models.keyedvectors.Vocab at 0x7f8062beac18>,\n",
       " '속': <gensim.models.keyedvectors.Vocab at 0x7f8062beac50>,\n",
       " '된': <gensim.models.keyedvectors.Vocab at 0x7f8062beac88>,\n",
       " '종': <gensim.models.keyedvectors.Vocab at 0x7f8062beacc0>,\n",
       " '준': <gensim.models.keyedvectors.Vocab at 0x7f8062beacf8>,\n",
       " '입': <gensim.models.keyedvectors.Vocab at 0x7f8062bead30>,\n",
       " '다': <gensim.models.keyedvectors.Vocab at 0x7f8062bead68>,\n",
       " '신': <gensim.models.keyedvectors.Vocab at 0x7f8062beada0>,\n",
       " '올': <gensim.models.keyedvectors.Vocab at 0x7f8062beadd8>,\n",
       " '당': <gensim.models.keyedvectors.Vocab at 0x7f8062beae10>,\n",
       " '체': <gensim.models.keyedvectors.Vocab at 0x7f8062beae48>,\n",
       " '합': <gensim.models.keyedvectors.Vocab at 0x7f8062beae80>,\n",
       " '삶': <gensim.models.keyedvectors.Vocab at 0x7f8062beaeb8>,\n",
       " '사': <gensim.models.keyedvectors.Vocab at 0x7f8062beaef0>,\n",
       " '할': <gensim.models.keyedvectors.Vocab at 0x7f8062beaf28>,\n",
       " '거': <gensim.models.keyedvectors.Vocab at 0x7f8062beaf60>,\n",
       " '예': <gensim.models.keyedvectors.Vocab at 0x7f8062beaf98>,\n",
       " '끓': <gensim.models.keyedvectors.Vocab at 0x7f8062beafd0>,\n",
       " '세': <gensim.models.keyedvectors.Vocab at 0x7f8062b6eba8>,\n",
       " '센': <gensim.models.keyedvectors.Vocab at 0x7f8062b6e048>,\n",
       " '불': <gensim.models.keyedvectors.Vocab at 0x7f8062b6e080>,\n",
       " '서': <gensim.models.keyedvectors.Vocab at 0x7f8062b6e0b8>,\n",
       " '오': <gensim.models.keyedvectors.Vocab at 0x7f8062b6e0f0>,\n",
       " '르': <gensim.models.keyedvectors.Vocab at 0x7f8062b6e128>,\n",
       " '면': <gensim.models.keyedvectors.Vocab at 0x7f8062b6e160>,\n",
       " '뚜': <gensim.models.keyedvectors.Vocab at 0x7f8062b6e198>,\n",
       " '껑': <gensim.models.keyedvectors.Vocab at 0x7f8062b6e1d0>,\n",
       " '덮': <gensim.models.keyedvectors.Vocab at 0x7f8062b6e208>,\n",
       " '분': <gensim.models.keyedvectors.Vocab at 0x7f8062b6e240>,\n",
       " '정': <gensim.models.keyedvectors.Vocab at 0x7f8062b6e278>,\n",
       " '됩': <gensim.models.keyedvectors.Vocab at 0x7f8062b6e2b0>,\n",
       " '각': <gensim.models.keyedvectors.Vocab at 0x7f8062b6e2e8>,\n",
       " '보': <gensim.models.keyedvectors.Vocab at 0x7f8062b6e320>,\n",
       " '래': <gensim.models.keyedvectors.Vocab at 0x7f8062b6e358>,\n",
       " '걸': <gensim.models.keyedvectors.Vocab at 0x7f8062b6e390>,\n",
       " '때': <gensim.models.keyedvectors.Vocab at 0x7f8062b6e3c8>,\n",
       " '손': <gensim.models.keyedvectors.Vocab at 0x7f8062b6e400>,\n",
       " '두': <gensim.models.keyedvectors.Vocab at 0x7f8062b6e438>,\n",
       " '것': <gensim.models.keyedvectors.Vocab at 0x7f8062b6e470>,\n",
       " '충': <gensim.models.keyedvectors.Vocab at 0x7f8062b6e4a8>,\n",
       " '히': <gensim.models.keyedvectors.Vocab at 0x7f8062b6e4e0>,\n",
       " '익': <gensim.models.keyedvectors.Vocab at 0x7f8062b6e518>,\n",
       " '확': <gensim.models.keyedvectors.Vocab at 0x7f8062b6e550>,\n",
       " '땐': <gensim.models.keyedvectors.Vocab at 0x7f8062b6e588>,\n",
       " '젓': <gensim.models.keyedvectors.Vocab at 0x7f8062b6e5c0>,\n",
       " '락': <gensim.models.keyedvectors.Vocab at 0x7f8062b6e5f8>,\n",
       " '푹': <gensim.models.keyedvectors.Vocab at 0x7f8062b6e630>,\n",
       " '빠': <gensim.models.keyedvectors.Vocab at 0x7f8062b6e668>,\n",
       " '져': <gensim.models.keyedvectors.Vocab at 0x7f8062b6e6a0>,\n",
       " '않': <gensim.models.keyedvectors.Vocab at 0x7f8062b6e6d8>,\n",
       " '동': <gensim.models.keyedvectors.Vocab at 0x7f8062b6e710>,\n",
       " '안': <gensim.models.keyedvectors.Vocab at 0x7f8062b6e748>,\n",
       " '흐': <gensim.models.keyedvectors.Vocab at 0x7f8062b6e780>,\n",
       " '깨': <gensim.models.keyedvectors.Vocab at 0x7f8062b6e7b8>,\n",
       " '끗': <gensim.models.keyedvectors.Vocab at 0x7f8062b6e7f0>,\n",
       " '씻': <gensim.models.keyedvectors.Vocab at 0x7f8062b6e828>,\n",
       " '뒤': <gensim.models.keyedvectors.Vocab at 0x7f8062b6e860>,\n",
       " '꼭': <gensim.models.keyedvectors.Vocab at 0x7f8062b6e898>,\n",
       " '포': <gensim.models.keyedvectors.Vocab at 0x7f8062b6e8d0>,\n",
       " '구': <gensim.models.keyedvectors.Vocab at 0x7f8062b6e908>,\n",
       " '배': <gensim.models.keyedvectors.Vocab at 0x7f8062b6e940>,\n",
       " '록': <gensim.models.keyedvectors.Vocab at 0x7f8062b6e978>,\n",
       " '데': <gensim.models.keyedvectors.Vocab at 0x7f8062b6e9b0>,\n",
       " '작': <gensim.models.keyedvectors.Vocab at 0x7f8062b6e9e8>,\n",
       " '건': <gensim.models.keyedvectors.Vocab at 0x7f8062b6ea20>,\n",
       " '번': <gensim.models.keyedvectors.Vocab at 0x7f8062b6ea58>,\n",
       " '긴': <gensim.models.keyedvectors.Vocab at 0x7f8062b6ea90>,\n",
       " '길': <gensim.models.keyedvectors.Vocab at 0x7f8062b6eac8>,\n",
       " '너': <gensim.models.keyedvectors.Vocab at 0x7f8062b6eb00>,\n",
       " '무': <gensim.models.keyedvectors.Vocab at 0x7f8062b6eb38>,\n",
       " '썰': <gensim.models.keyedvectors.Vocab at 0x7f8062b6eb70>,\n",
       " '법': <gensim.models.keyedvectors.Vocab at 0x7f8062b6ebe0>,\n",
       " '전': <gensim.models.keyedvectors.Vocab at 0x7f8062b6ec18>,\n",
       " '윤': <gensim.models.keyedvectors.Vocab at 0x7f8062b6ef98>,\n",
       " '며': <gensim.models.keyedvectors.Vocab at 0x7f8062b72048>,\n",
       " '되': <gensim.models.keyedvectors.Vocab at 0x7f8062b72080>,\n",
       " '몸': <gensim.models.keyedvectors.Vocab at 0x7f8062b720b8>,\n",
       " '통': <gensim.models.keyedvectors.Vocab at 0x7f8062b720f0>,\n",
       " '좀': <gensim.models.keyedvectors.Vocab at 0x7f8062b72128>,\n",
       " '말': <gensim.models.keyedvectors.Vocab at 0x7f8062b72160>,\n",
       " '랑': <gensim.models.keyedvectors.Vocab at 0x7f8062b72198>,\n",
       " '따': <gensim.models.keyedvectors.Vocab at 0x7f8062b721d0>,\n",
       " '라': <gensim.models.keyedvectors.Vocab at 0x7f8062b72208>,\n",
       " '셔': <gensim.models.keyedvectors.Vocab at 0x7f8062b72240>,\n",
       " 'c': <gensim.models.keyedvectors.Vocab at 0x7f8062b72278>,\n",
       " '께': <gensim.models.keyedvectors.Vocab at 0x7f8062b722b0>,\n",
       " '슬': <gensim.models.keyedvectors.Vocab at 0x7f8062b722e8>,\n",
       " '스': <gensim.models.keyedvectors.Vocab at 0x7f8062b72320>,\n",
       " '쫄': <gensim.models.keyedvectors.Vocab at 0x7f8062b72c50>,\n",
       " '깃': <gensim.models.keyedvectors.Vocab at 0x7f8062b72cc0>,\n",
       " '계': <gensim.models.keyedvectors.Vocab at 0x7f8062b72cf8>,\n",
       " '란': <gensim.models.keyedvectors.Vocab at 0x7f8062b72d30>,\n",
       " '별': <gensim.models.keyedvectors.Vocab at 0x7f8062b72d68>,\n",
       " '미': <gensim.models.keyedvectors.Vocab at 0x7f8062b72fd0>,\n",
       " '랍': <gensim.models.keyedvectors.Vocab at 0x7f8062b7d1d0>,\n",
       " '진': <gensim.models.keyedvectors.Vocab at 0x7f8062b7d5f8>,\n",
       " '결': <gensim.models.keyedvectors.Vocab at 0x7f8062b7d4a8>,\n",
       " '쭉': <gensim.models.keyedvectors.Vocab at 0x7f8062b7dac8>,\n",
       " '졸': <gensim.models.keyedvectors.Vocab at 0x7f8062b7db38>,\n",
       " '있': <gensim.models.keyedvectors.Vocab at 0x7f8062b7df60>,\n",
       " '퍽': <gensim.models.keyedvectors.Vocab at 0x7f8062b7de10>,\n",
       " '워': <gensim.models.keyedvectors.Vocab at 0x7f8062b7df98>,\n",
       " '없': <gensim.models.keyedvectors.Vocab at 0x7f8062b7dfd0>,\n",
       " '셨': <gensim.models.keyedvectors.Vocab at 0x7f8062b807f0>,\n",
       " '죠': <gensim.models.keyedvectors.Vocab at 0x7f8062b80be0>,\n",
       " '저': <gensim.models.keyedvectors.Vocab at 0x7f8062b80a90>,\n",
       " '멸': <gensim.models.keyedvectors.Vocab at 0x7f8062b80c18>,\n",
       " '치': <gensim.models.keyedvectors.Vocab at 0x7f8062b80c50>,\n",
       " '편': <gensim.models.keyedvectors.Vocab at 0x7f8062b80f28>,\n",
       " '천': <gensim.models.keyedvectors.Vocab at 0x7f8062b85320>,\n",
       " '연': <gensim.models.keyedvectors.Vocab at 0x7f8062b85748>,\n",
       " '역': <gensim.models.keyedvectors.Vocab at 0x7f8062b85a58>,\n",
       " '냄': <gensim.models.keyedvectors.Vocab at 0x7f8062b85a90>,\n",
       " '여': <gensim.models.keyedvectors.Vocab at 0x7f8062b8b828>,\n",
       " '줄': <gensim.models.keyedvectors.Vocab at 0x7f8062b8b6d8>,\n",
       " '7': <gensim.models.keyedvectors.Vocab at 0x7f8062b8b860>,\n",
       " '필': <gensim.models.keyedvectors.Vocab at 0x7f8062b8b898>,\n",
       " '줘': <gensim.models.keyedvectors.Vocab at 0x7f8062b8b8d0>,\n",
       " '든': <gensim.models.keyedvectors.Vocab at 0x7f8062b8b908>,\n",
       " '같': <gensim.models.keyedvectors.Vocab at 0x7f8062b8bd30>,\n",
       " '렇': <gensim.models.keyedvectors.Vocab at 0x7f8062b8bbe0>,\n",
       " '둔': <gensim.models.keyedvectors.Vocab at 0x7f8062b8bd68>,\n",
       " '딱': <gensim.models.keyedvectors.Vocab at 0x7f8062b8bfd0>,\n",
       " '큼': <gensim.models.keyedvectors.Vocab at 0x7f8062b90160>,\n",
       " '자': <gensim.models.keyedvectors.Vocab at 0x7f8062b90198>,\n",
       " '레': <gensim.models.keyedvectors.Vocab at 0x7f8062b901d0>,\n",
       " '뜻': <gensim.models.keyedvectors.Vocab at 0x7f8062b905f8>,\n",
       " '밥': <gensim.models.keyedvectors.Vocab at 0x7f8062b904a8>,\n",
       " '터': <gensim.models.keyedvectors.Vocab at 0x7f8062b90630>,\n",
       " '즐': <gensim.models.keyedvectors.Vocab at 0x7f8062b90a58>,\n",
       " '겨': <gensim.models.keyedvectors.Vocab at 0x7f8062b90908>,\n",
       " '겠': <gensim.models.keyedvectors.Vocab at 0x7f8062b90a90>,\n",
       " '심': <gensim.models.keyedvectors.Vocab at 0x7f8062b90eb8>,\n",
       " '명': <gensim.models.keyedvectors.Vocab at 0x7f8062b90d68>,\n",
       " '변': <gensim.models.keyedvectors.Vocab at 0x7f8062b90ef0>,\n",
       " '경': <gensim.models.keyedvectors.Vocab at 0x7f8062b90f28>,\n",
       " '공': <gensim.models.keyedvectors.Vocab at 0x7f8062b96748>,\n",
       " '블': <gensim.models.keyedvectors.Vocab at 0x7f8062b96fd0>,\n",
       " '열': <gensim.models.keyedvectors.Vocab at 0x7f8062b96e80>,\n",
       " '닫': <gensim.models.keyedvectors.Vocab at 0x7f8062b9a2b0>,\n",
       " '댓': <gensim.models.keyedvectors.Vocab at 0x7f8062b9a828>,\n",
       " 'v': <gensim.models.keyedvectors.Vocab at 0x7f8062b9a6d8>,\n",
       " 'a': <gensim.models.keyedvectors.Vocab at 0x7f8062b9a860>,\n",
       " 'r': <gensim.models.keyedvectors.Vocab at 0x7f8062b9a898>,\n",
       " 'd': <gensim.models.keyedvectors.Vocab at 0x7f8062b9a8d0>,\n",
       " 'P': <gensim.models.keyedvectors.Vocab at 0x7f8062b9acf8>,\n",
       " 'o': <gensim.models.keyedvectors.Vocab at 0x7f8062b9aba8>,\n",
       " 's': <gensim.models.keyedvectors.Vocab at 0x7f8062b9afd0>,\n",
       " 't': <gensim.models.keyedvectors.Vocab at 0x7f8062b9f550>,\n",
       " 'U': <gensim.models.keyedvectors.Vocab at 0x7f8062b9f400>,\n",
       " 'n': <gensim.models.keyedvectors.Vocab at 0x7f8062b9f978>,\n",
       " 'i': <gensim.models.keyedvectors.Vocab at 0x7f8062b9f828>,\n",
       " 'I': <gensim.models.keyedvectors.Vocab at 0x7f8062b9f9b0>,\n",
       " 'F': <gensim.models.keyedvectors.Vocab at 0x7f8062b9f9e8>,\n",
       " 'p': <gensim.models.keyedvectors.Vocab at 0x7f8062b9fa20>,\n",
       " '_': <gensim.models.keyedvectors.Vocab at 0x7f8062b9fa58>,\n",
       " 'b': <gensim.models.keyedvectors.Vocab at 0x7f8062b9fa90>,\n",
       " 'e': <gensim.models.keyedvectors.Vocab at 0x7f8062b9fac8>,\n",
       " 'y': <gensim.models.keyedvectors.Vocab at 0x7f8062b9fb00>,\n",
       " '또': <gensim.models.keyedvectors.Vocab at 0x7f8062b9ff28>,\n",
       " '팅': <gensim.models.keyedvectors.Vocab at 0x7f8062b9fdd8>,\n",
       " '돌': <gensim.models.keyedvectors.Vocab at 0x7f8062b9ff60>,\n",
       " '침': <gensim.models.keyedvectors.Vocab at 0x7f8062b9ff98>,\n",
       " '려': <gensim.models.keyedvectors.Vocab at 0x7f8062b9ffd0>,\n",
       " '절': <gensim.models.keyedvectors.Vocab at 0x7f8062ba4048>,\n",
       " '렸': <gensim.models.keyedvectors.Vocab at 0x7f8062ba4080>,\n",
       " '업': <gensim.models.keyedvectors.Vocab at 0x7f8062ba40b8>,\n",
       " '많': <gensim.models.keyedvectors.Vocab at 0x7f8062ba40f0>,\n",
       " '야': <gensim.models.keyedvectors.Vocab at 0x7f8062ba4128>,\n",
       " '근': <gensim.models.keyedvectors.Vocab at 0x7f8062ba4160>,\n",
       " '허': <gensim.models.keyedvectors.Vocab at 0x7f8062ba4198>,\n",
       " '즘': <gensim.models.keyedvectors.Vocab at 0x7f8062ba41d0>,\n",
       " '태': <gensim.models.keyedvectors.Vocab at 0x7f8062ba44a8>,\n",
       " '벗': <gensim.models.keyedvectors.Vocab at 0x7f8062ba47b8>,\n",
       " '듯': <gensim.models.keyedvectors.Vocab at 0x7f8062ba47f0>,\n",
       " '했': <gensim.models.keyedvectors.Vocab at 0x7f8062ba4828>,\n",
       " '네': <gensim.models.keyedvectors.Vocab at 0x7f8062ba4860>,\n",
       " '금': <gensim.models.keyedvectors.Vocab at 0x7f8062ba4898>,\n",
       " '잠': <gensim.models.keyedvectors.Vocab at 0x7f8062ba48d0>,\n",
       " '알': <gensim.models.keyedvectors.Vocab at 0x7f8062ba4908>,\n",
       " '언': <gensim.models.keyedvectors.Vocab at 0x7f8062ba4be0>,\n",
       " '냉': <gensim.models.keyedvectors.Vocab at 0x7f8062ba4e10>,\n",
       " '실': <gensim.models.keyedvectors.Vocab at 0x7f8062ba4e48>,\n",
       " '항': <gensim.models.keyedvectors.Vocab at 0x7f8062ba4e80>,\n",
       " '상': <gensim.models.keyedvectors.Vocab at 0x7f8062ba4eb8>,\n",
       " '바': <gensim.models.keyedvectors.Vocab at 0x7f8062ba4ef0>,\n",
       " '켜': <gensim.models.keyedvectors.Vocab at 0x7f8062ba91d0>,\n",
       " '차': <gensim.models.keyedvectors.Vocab at 0x7f8062ba9358>,\n",
       " '피': <gensim.models.keyedvectors.Vocab at 0x7f8062ba9390>,\n",
       " '놓': <gensim.models.keyedvectors.Vocab at 0x7f8062ba93c8>,\n",
       " '꺼': <gensim.models.keyedvectors.Vocab at 0x7f8062ba9400>,\n",
       " '우': <gensim.models.keyedvectors.Vocab at 0x7f8062ba9438>,\n",
       " '채': <gensim.models.keyedvectors.Vocab at 0x7f8062ba9470>,\n",
       " '소': <gensim.models.keyedvectors.Vocab at 0x7f8062ba94a8>,\n",
       " '챙': <gensim.models.keyedvectors.Vocab at 0x7f8062ba94e0>,\n",
       " '잖': <gensim.models.keyedvectors.Vocab at 0x7f8062ba9518>,\n",
       " '몰': <gensim.models.keyedvectors.Vocab at 0x7f8062ba9550>,\n",
       " '깐': <gensim.models.keyedvectors.Vocab at 0x7f8062ba9588>,\n",
       " '파': <gensim.models.keyedvectors.Vocab at 0x7f8062ba95c0>,\n",
       " '량': <gensim.models.keyedvectors.Vocab at 0x7f8062ba95f8>,\n",
       " '6': <gensim.models.keyedvectors.Vocab at 0x7f8062ba9630>,\n",
       " '메': <gensim.models.keyedvectors.Vocab at 0x7f8062ba9908>,\n",
       " '릴': <gensim.models.keyedvectors.Vocab at 0x7f8062ba9b38>,\n",
       " '엄': <gensim.models.keyedvectors.Vocab at 0x7f8062ba9b70>,\n",
       " '그': <gensim.models.keyedvectors.Vocab at 0x7f8062ba9ba8>,\n",
       " '냥': <gensim.models.keyedvectors.Vocab at 0x7f8062ba9be0>,\n",
       " '군': <gensim.models.keyedvectors.Vocab at 0x7f8062ba9c18>,\n",
       " '품': <gensim.models.keyedvectors.Vocab at 0x7f8062ba9c50>,\n",
       " '모': <gensim.models.keyedvectors.Vocab at 0x7f8062ba9c88>,\n",
       " '걷': <gensim.models.keyedvectors.Vocab at 0x7f8062ba9cc0>,\n",
       " '힌': <gensim.models.keyedvectors.Vocab at 0x7f8062ba9cf8>,\n",
       " '박': <gensim.models.keyedvectors.Vocab at 0x7f8062ba9d30>,\n",
       " '설': <gensim.models.keyedvectors.Vocab at 0x7f8062ba9d68>,\n",
       " '탕': <gensim.models.keyedvectors.Vocab at 0x7f8062ba9da0>,\n",
       " '숟': <gensim.models.keyedvectors.Vocab at 0x7f8062ba9dd8>,\n",
       " '씩': <gensim.models.keyedvectors.Vocab at 0x7f8062ba9e10>,\n",
       " '습': <gensim.models.keyedvectors.Vocab at 0x7f8062b2e668>,\n",
       " '른': <gensim.models.keyedvectors.Vocab at 0x7f8062b2e7f0>,\n",
       " '디': <gensim.models.keyedvectors.Vocab at 0x7f8062b2eac8>,\n",
       " '완': <gensim.models.keyedvectors.Vocab at 0x7f8062b2ea20>,\n",
       " '성': <gensim.models.keyedvectors.Vocab at 0x7f8062b2ea58>,\n",
       " '잎': <gensim.models.keyedvectors.Vocab at 0x7f8062b2e6a0>,\n",
       " '현': <gensim.models.keyedvectors.Vocab at 0x7f8062b2e4e0>,\n",
       " '끼': <gensim.models.keyedvectors.Vocab at 0x7f8062b2ea90>,\n",
       " '앱': <gensim.models.keyedvectors.Vocab at 0x7f8062b2eb00>,\n",
       " '최': <gensim.models.keyedvectors.Vocab at 0x7f8062b2eb38>,\n",
       " '트': <gensim.models.keyedvectors.Vocab at 0x7f8062b2eb70>,\n",
       " '달': <gensim.models.keyedvectors.Vocab at 0x7f8062b2eba8>,\n",
       " '걀': <gensim.models.keyedvectors.Vocab at 0x7f8062b2ebe0>,\n",
       " '짜': <gensim.models.keyedvectors.Vocab at 0x7f8062b2ec18>,\n",
       " '노': <gensim.models.keyedvectors.Vocab at 0x7f8062b2ec50>,\n",
       " '애': <gensim.models.keyedvectors.Vocab at 0x7f8062b2ec88>,\n",
       " '쉽': <gensim.models.keyedvectors.Vocab at 0x7f8062b2ecc0>,\n",
       " '캐': <gensim.models.keyedvectors.Vocab at 0x7f8062b2ecf8>,\n",
       " '먼': <gensim.models.keyedvectors.Vocab at 0x7f8062b2ed30>,\n",
       " '갈': <gensim.models.keyedvectors.Vocab at 0x7f8062b2ed68>,\n",
       " '넘': <gensim.models.keyedvectors.Vocab at 0x7f8062b2eda0>,\n",
       " '국': <gensim.models.keyedvectors.Vocab at 0x7f8062b2edd8>,\n",
       " '벼': <gensim.models.keyedvectors.Vocab at 0x7f8062b2ee10>,\n",
       " '원': <gensim.models.keyedvectors.Vocab at 0x7f8062b2ee48>,\n",
       " '팔': <gensim.models.keyedvectors.Vocab at 0x7f8062b2ee80>,\n",
       " '점': <gensim.models.keyedvectors.Vocab at 0x7f8062b2eeb8>,\n",
       " '발': <gensim.models.keyedvectors.Vocab at 0x7f8062b2eef0>,\n",
       " '짠': <gensim.models.keyedvectors.Vocab at 0x7f8062b2ef28>,\n",
       " '밍': <gensim.models.keyedvectors.Vocab at 0x7f8062b2ef60>,\n",
       " '혀': <gensim.models.keyedvectors.Vocab at 0x7f8062b2ef98>,\n",
       " '귀': <gensim.models.keyedvectors.Vocab at 0x7f8062b2efd0>,\n",
       " '찮': <gensim.models.keyedvectors.Vocab at 0x7f8062b42048>,\n",
       " '볼': <gensim.models.keyedvectors.Vocab at 0x7f8062b42080>,\n",
       " '던': <gensim.models.keyedvectors.Vocab at 0x7f8062b420b8>,\n",
       " '줍': <gensim.models.keyedvectors.Vocab at 0x7f8062b420f0>,\n",
       " '떤': <gensim.models.keyedvectors.Vocab at 0x7f8062b42128>,\n",
       " '냐': <gensim.models.keyedvectors.Vocab at 0x7f8062b42160>,\n",
       " '색': <gensim.models.keyedvectors.Vocab at 0x7f8062b42198>,\n",
       " '느': <gensim.models.keyedvectors.Vocab at 0x7f8062b421d0>,\n",
       " '막': <gensim.models.keyedvectors.Vocab at 0x7f8062b42208>,\n",
       " '머': <gensim.models.keyedvectors.Vocab at 0x7f8062b42240>,\n",
       " '싶': <gensim.models.keyedvectors.Vocab at 0x7f8062b42278>,\n",
       " '뜨': <gensim.models.keyedvectors.Vocab at 0x7f8062b422b0>,\n",
       " '울': <gensim.models.keyedvectors.Vocab at 0x7f8062b422e8>,\n",
       " '럼': <gensim.models.keyedvectors.Vocab at 0x7f8062b42320>,\n",
       " '득': <gensim.models.keyedvectors.Vocab at 0x7f8062b42358>,\n",
       " '함': <gensim.models.keyedvectors.Vocab at 0x7f8062b42390>,\n",
       " '참': <gensim.models.keyedvectors.Vocab at 0x7f8062b423c8>,\n",
       " '흑': <gensim.models.keyedvectors.Vocab at 0x7f8062b42400>,\n",
       " '훨': <gensim.models.keyedvectors.Vocab at 0x7f8062b42438>,\n",
       " '씬': <gensim.models.keyedvectors.Vocab at 0x7f8062b42470>,\n",
       " '깔': <gensim.models.keyedvectors.Vocab at 0x7f8062b424a8>,\n",
       " '끔': <gensim.models.keyedvectors.Vocab at 0x7f8062b424e0>,\n",
       " '퍼': <gensim.models.keyedvectors.Vocab at 0x7f8062b42518>,\n",
       " '남': <gensim.models.keyedvectors.Vocab at 0x7f8062b42550>,\n",
       " '뭐': <gensim.models.keyedvectors.Vocab at 0x7f8062b42588>,\n",
       " '받': <gensim.models.keyedvectors.Vocab at 0x7f8062b425c0>,\n",
       " '쓰': <gensim.models.keyedvectors.Vocab at 0x7f8062b425f8>,\n",
       " '유': <gensim.models.keyedvectors.Vocab at 0x7f8062b42630>,\n",
       " '특': <gensim.models.keyedvectors.Vocab at 0x7f8062b42668>,\n",
       " '찌': <gensim.models.keyedvectors.Vocab at 0x7f8062b426a0>,\n",
       " '류': <gensim.models.keyedvectors.Vocab at 0x7f8062b426d8>,\n",
       " '갔': <gensim.models.keyedvectors.Vocab at 0x7f8062b42710>,\n",
       " '친': <gensim.models.keyedvectors.Vocab at 0x7f8062b42748>,\n",
       " '목': <gensim.models.keyedvectors.Vocab at 0x7f8062b42780>,\n",
       " '끝': <gensim.models.keyedvectors.Vocab at 0x7f8062b427b8>,\n",
       " '날': <gensim.models.keyedvectors.Vocab at 0x7f8062b427f0>,\n",
       " '뭔': <gensim.models.keyedvectors.Vocab at 0x7f8062b42828>,\n",
       " '판': <gensim.models.keyedvectors.Vocab at 0x7f8062b42860>,\n",
       " '닥': <gensim.models.keyedvectors.Vocab at 0x7f8062b42898>,\n",
       " '뿌': <gensim.models.keyedvectors.Vocab at 0x7f8062b428d0>,\n",
       " '짝': <gensim.models.keyedvectors.Vocab at 0x7f8062b42908>,\n",
       " '았': <gensim.models.keyedvectors.Vocab at 0x7f8062b42940>,\n",
       " '집': <gensim.models.keyedvectors.Vocab at 0x7f8062b42978>,\n",
       " '꾸': <gensim.models.keyedvectors.Vocab at 0x7f8062b429b0>,\n",
       " '엔': <gensim.models.keyedvectors.Vocab at 0x7f8062b429e8>,\n",
       " '몇': <gensim.models.keyedvectors.Vocab at 0x7f8062b42a20>,\n",
       " '평': <gensim.models.keyedvectors.Vocab at 0x7f8062b42a58>,\n",
       " '쉬': <gensim.models.keyedvectors.Vocab at 0x7f8062b42a90>,\n",
       " '런': <gensim.models.keyedvectors.Vocab at 0x7f8062b42ac8>,\n",
       " '빨': <gensim.models.keyedvectors.Vocab at 0x7f8062b42b00>,\n",
       " '앞': <gensim.models.keyedvectors.Vocab at 0x7f8062b42b38>,\n",
       " '람': <gensim.models.keyedvectors.Vocab at 0x7f8062b42b70>,\n",
       " '산': <gensim.models.keyedvectors.Vocab at 0x7f8062b42ba8>,\n",
       " '처': <gensim.models.keyedvectors.Vocab at 0x7f8062b42be0>,\n",
       " '돼': <gensim.models.keyedvectors.Vocab at 0x7f8062b42c18>,\n",
       " '곤': <gensim.models.keyedvectors.Vocab at 0x7f8062b42c50>,\n",
       " '잡': <gensim.models.keyedvectors.Vocab at 0x7f8062b42c88>,\n",
       " '걱': <gensim.models.keyedvectors.Vocab at 0x7f8062b42cc0>,\n",
       " '칠': <gensim.models.keyedvectors.Vocab at 0x7f8062b42cf8>,\n",
       " '꼬': <gensim.models.keyedvectors.Vocab at 0x7f8062b42d30>,\n",
       " '초': <gensim.models.keyedvectors.Vocab at 0x7f8062b42d68>,\n",
       " '학': <gensim.models.keyedvectors.Vocab at 0x7f8062b42da0>,\n",
       " '교': <gensim.models.keyedvectors.Vocab at 0x7f8062b42dd8>,\n",
       " '직': <gensim.models.keyedvectors.Vocab at 0x7f8062b42e10>,\n",
       " '푼': <gensim.models.keyedvectors.Vocab at 0x7f8062b42e48>,\n",
       " '듬': <gensim.models.keyedvectors.Vocab at 0x7f8062b42e80>,\n",
       " '팩': <gensim.models.keyedvectors.Vocab at 0x7f8062b42eb8>,\n",
       " '선': <gensim.models.keyedvectors.Vocab at 0x7f8062b42ef0>,\n",
       " '키': <gensim.models.keyedvectors.Vocab at 0x7f8062b42f28>,\n",
       " '될': <gensim.models.keyedvectors.Vocab at 0x7f8062b42f60>,\n",
       " '혹': <gensim.models.keyedvectors.Vocab at 0x7f8062b42f98>,\n",
       " '쏙': <gensim.models.keyedvectors.Vocab at 0x7f8062b42fd0>,\n",
       " '죽': <gensim.models.keyedvectors.Vocab at 0x7f8062b46048>,\n",
       " '콤': <gensim.models.keyedvectors.Vocab at 0x7f8062b46080>,\n",
       " '맘': <gensim.models.keyedvectors.Vocab at 0x7f8062b460b8>,\n",
       " '엇': <gensim.models.keyedvectors.Vocab at 0x7f8062b460f0>,\n",
       " '얼': <gensim.models.keyedvectors.Vocab at 0x7f8062b46128>,\n",
       " '님': <gensim.models.keyedvectors.Vocab at 0x7f8062b46160>,\n",
       " '떨': <gensim.models.keyedvectors.Vocab at 0x7f8062b46198>,\n",
       " '행': <gensim.models.keyedvectors.Vocab at 0x7f8062b461d0>,\n",
       " '짭': <gensim.models.keyedvectors.Vocab at 0x7f8062b46208>,\n",
       " '쪼': <gensim.models.keyedvectors.Vocab at 0x7f8062b46240>,\n",
       " '름': <gensim.models.keyedvectors.Vocab at 0x7f8062b46278>,\n",
       " '골': <gensim.models.keyedvectors.Vocab at 0x7f8062b462b0>,\n",
       " '뉴': <gensim.models.keyedvectors.Vocab at 0x7f8062b462e8>,\n",
       " 'T': <gensim.models.keyedvectors.Vocab at 0x7f8062b46320>,\n",
       " 'S': <gensim.models.keyedvectors.Vocab at 0x7f8062b46358>,\n",
       " '김': <gensim.models.keyedvectors.Vocab at 0x7f8062b46390>,\n",
       " '줬': <gensim.models.keyedvectors.Vocab at 0x7f8062b463c8>,\n",
       " '략': <gensim.models.keyedvectors.Vocab at 0x7f8062b46400>,\n",
       " '담': <gensim.models.keyedvectors.Vocab at 0x7f8062b46438>,\n",
       " '독': <gensim.models.keyedvectors.Vocab at 0x7f8062b46470>,\n",
       " '답': <gensim.models.keyedvectors.Vocab at 0x7f8062b464a8>,\n",
       " '급': <gensim.models.keyedvectors.Vocab at 0x7f8062b464e0>,\n",
       " '졌': <gensim.models.keyedvectors.Vocab at 0x7f8062b46518>,\n",
       " '석': <gensim.models.keyedvectors.Vocab at 0x7f8062b46550>,\n",
       " '쳐': <gensim.models.keyedvectors.Vocab at 0x7f8062b46588>,\n",
       " '뿐': <gensim.models.keyedvectors.Vocab at 0x7f8062b465c0>,\n",
       " '녀': <gensim.models.keyedvectors.Vocab at 0x7f8062b465f8>,\n",
       " '누': <gensim.models.keyedvectors.Vocab at 0x7f8062b46630>,\n",
       " '웃': <gensim.models.keyedvectors.Vocab at 0x7f8062b46668>,\n",
       " '력': <gensim.models.keyedvectors.Vocab at 0x7f8062b466a0>,\n",
       " '솥': <gensim.models.keyedvectors.Vocab at 0x7f8062b466d8>,\n",
       " '힘': <gensim.models.keyedvectors.Vocab at 0x7f8062b46710>,\n",
       " '덩': <gensim.models.keyedvectors.Vocab at 0x7f8062b46748>,\n",
       " '브': <gensim.models.keyedvectors.Vocab at 0x7f8062b46780>,\n",
       " '린': <gensim.models.keyedvectors.Vocab at 0x7f8062b467b8>,\n",
       " '섞': <gensim.models.keyedvectors.Vocab at 0x7f8062b467f0>,\n",
       " '취': <gensim.models.keyedvectors.Vocab at 0x7f8062b46828>,\n",
       " '향': <gensim.models.keyedvectors.Vocab at 0x7f8062b46860>,\n",
       " '껍': <gensim.models.keyedvectors.Vocab at 0x7f8062b46898>,\n",
       " '욱': <gensim.models.keyedvectors.Vocab at 0x7f8062b468d0>,\n",
       " '움': <gensim.models.keyedvectors.Vocab at 0x7f8062b46908>,\n",
       " '순': <gensim.models.keyedvectors.Vocab at 0x7f8062b46940>,\n",
       " '얹': <gensim.models.keyedvectors.Vocab at 0x7f8062b46978>,\n",
       " '둑': <gensim.models.keyedvectors.Vocab at 0x7f8062b469b0>,\n",
       " '척': <gensim.models.keyedvectors.Vocab at 0x7f8062b469e8>,\n",
       " '월': <gensim.models.keyedvectors.Vocab at 0x7f8062b46a20>,\n",
       " '화': <gensim.models.keyedvectors.Vocab at 0x7f8062b46a58>,\n",
       " '카': <gensim.models.keyedvectors.Vocab at 0x7f8062b46a90>,\n",
       " '페': <gensim.models.keyedvectors.Vocab at 0x7f8062b46ac8>,\n",
       " '위': <gensim.models.keyedvectors.Vocab at 0x7f8062b46b00>,\n",
       " '티': <gensim.models.keyedvectors.Vocab at 0x7f8062b46b38>,\n",
       " '씨': <gensim.models.keyedvectors.Vocab at 0x7f8062b46b70>,\n",
       " '써': <gensim.models.keyedvectors.Vocab at 0x7f8062b46ba8>,\n",
       " '프': <gensim.models.keyedvectors.Vocab at 0x7f8062b46be0>,\n",
       " '온': <gensim.models.keyedvectors.Vocab at 0x7f8062b46c18>,\n",
       " '희': <gensim.models.keyedvectors.Vocab at 0x7f8062b46c50>,\n",
       " '놀': <gensim.models.keyedvectors.Vocab at 0x7f8062b46c88>,\n",
       " '눈': <gensim.models.keyedvectors.Vocab at 0x7f8062b46cc0>,\n",
       " '8': <gensim.models.keyedvectors.Vocab at 0x7f8062b46cf8>,\n",
       " '9': <gensim.models.keyedvectors.Vocab at 0x7f8062b46d30>,\n",
       " '봐': <gensim.models.keyedvectors.Vocab at 0x7f8062b46d68>,\n",
       " '낮': <gensim.models.keyedvectors.Vocab at 0x7f8062b46da0>,\n",
       " '촉': <gensim.models.keyedvectors.Vocab at 0x7f8062b46dd8>,\n",
       " '임': <gensim.models.keyedvectors.Vocab at 0x7f8062b46e10>,\n",
       " '봉': <gensim.models.keyedvectors.Vocab at 0x7f8062b46e48>,\n",
       " '릭': <gensim.models.keyedvectors.Vocab at 0x7f8062b46e80>,\n",
       " '찍': <gensim.models.keyedvectors.Vocab at 0x7f8062b46eb8>,\n",
       " '째': <gensim.models.keyedvectors.Vocab at 0x7f8062b46ef0>,\n",
       " '착': <gensim.models.keyedvectors.Vocab at 0x7f8062b46f28>,\n",
       " '슷': <gensim.models.keyedvectors.Vocab at 0x7f8062b46f60>,\n",
       " '끈': <gensim.models.keyedvectors.Vocab at 0x7f8062b46f98>,\n",
       " '베': <gensim.models.keyedvectors.Vocab at 0x7f8062b46fd0>,\n",
       " '낌': <gensim.models.keyedvectors.Vocab at 0x7f8062b49048>,\n",
       " '팬': <gensim.models.keyedvectors.Vocab at 0x7f8062b49080>,\n",
       " '굽': <gensim.models.keyedvectors.Vocab at 0x7f8062b490b8>,\n",
       " '테': <gensim.models.keyedvectors.Vocab at 0x7f8062b490f0>,\n",
       " '궈': <gensim.models.keyedvectors.Vocab at 0x7f8062b49128>,\n",
       " '웰': <gensim.models.keyedvectors.Vocab at 0x7f8062b49160>,\n",
       " '샐': <gensim.models.keyedvectors.Vocab at 0x7f8062b49198>,\n",
       " '족': <gensim.models.keyedvectors.Vocab at 0x7f8062b491d0>,\n",
       " '억': <gensim.models.keyedvectors.Vocab at 0x7f8062b49208>,\n",
       " '풀': <gensim.models.keyedvectors.Vocab at 0x7f8062b49240>,\n",
       " '랜': <gensim.models.keyedvectors.Vocab at 0x7f8062b49278>,\n",
       " '쿠': <gensim.models.keyedvectors.Vocab at 0x7f8062b492b0>,\n",
       " '폰': <gensim.models.keyedvectors.Vocab at 0x7f8062b492e8>,\n",
       " '관': <gensim.models.keyedvectors.Vocab at 0x7f8062b49320>,\n",
       " '냈': <gensim.models.keyedvectors.Vocab at 0x7f8062b49358>,\n",
       " '떡': <gensim.models.keyedvectors.Vocab at 0x7f8062b49390>,\n",
       " '출': <gensim.models.keyedvectors.Vocab at 0x7f8062b493c8>,\n",
       " '였': <gensim.models.keyedvectors.Vocab at 0x7f8062b49400>,\n",
       " '휘': <gensim.models.keyedvectors.Vocab at 0x7f8062b49438>,\n",
       " '론': <gensim.models.keyedvectors.Vocab at 0x7f8062b49470>,\n",
       " '염': <gensim.models.keyedvectors.Vocab at 0x7f8062b494a8>,\n",
       " '칼': <gensim.models.keyedvectors.Vocab at 0x7f8062b494e0>,\n",
       " '쯤': <gensim.models.keyedvectors.Vocab at 0x7f8062b49518>,\n",
       " '형': <gensim.models.keyedvectors.Vocab at 0x7f8062b49550>,\n",
       " '떠': <gensim.models.keyedvectors.Vocab at 0x7f8062b49588>,\n",
       " '괜': <gensim.models.keyedvectors.Vocab at 0x7f8062b495c0>,\n",
       " '뚝': <gensim.models.keyedvectors.Vocab at 0x7f8062b495f8>,\n",
       " '곳': <gensim.models.keyedvectors.Vocab at 0x7f8062b49630>,\n",
       " '즈': <gensim.models.keyedvectors.Vocab at 0x7f8062b49668>,\n",
       " '릇': <gensim.models.keyedvectors.Vocab at 0x7f8062b496a0>,\n",
       " '곡': <gensim.models.keyedvectors.Vocab at 0x7f8062b496d8>,\n",
       " '접': <gensim.models.keyedvectors.Vocab at 0x7f8062b49710>,\n",
       " '삼': <gensim.models.keyedvectors.Vocab at 0x7f8062b49748>,\n",
       " '틀': <gensim.models.keyedvectors.Vocab at 0x7f8062b49780>,\n",
       " '밖': <gensim.models.keyedvectors.Vocab at 0x7f8062b497b8>,\n",
       " '쁘': <gensim.models.keyedvectors.Vocab at 0x7f8062b497f0>,\n",
       " '율': <gensim.models.keyedvectors.Vocab at 0x7f8062b49828>,\n",
       " '숙': <gensim.models.keyedvectors.Vocab at 0x7f8062b49860>,\n",
       " '코': <gensim.models.keyedvectors.Vocab at 0x7f8062b49898>,\n",
       " '뒀': <gensim.models.keyedvectors.Vocab at 0x7f8062b498d0>,\n",
       " '엿': <gensim.models.keyedvectors.Vocab at 0x7f8062b49908>,\n",
       " '헹': <gensim.models.keyedvectors.Vocab at 0x7f8062b49940>,\n",
       " '투': <gensim.models.keyedvectors.Vocab at 0x7f8062b49978>,\n",
       " '솔': <gensim.models.keyedvectors.Vocab at 0x7f8062b499b0>,\n",
       " '싫': <gensim.models.keyedvectors.Vocab at 0x7f8062b499e8>,\n",
       " '활': <gensim.models.keyedvectors.Vocab at 0x7f8062b49a20>,\n",
       " '암': <gensim.models.keyedvectors.Vocab at 0x7f8062b49a58>,\n",
       " '밀': <gensim.models.keyedvectors.Vocab at 0x7f8062b49a90>,\n",
       " '끄': <gensim.models.keyedvectors.Vocab at 0x7f8062b49ac8>,\n",
       " '홍': <gensim.models.keyedvectors.Vocab at 0x7f8062b49b00>,\n",
       " '격': <gensim.models.keyedvectors.Vocab at 0x7f8062b49b38>,\n",
       " '황': <gensim.models.keyedvectors.Vocab at 0x7f8062b49b70>,\n",
       " '빼': <gensim.models.keyedvectors.Vocab at 0x7f8062b49ba8>,\n",
       " '왔': <gensim.models.keyedvectors.Vocab at 0x7f8062b49be0>,\n",
       " '킨': <gensim.models.keyedvectors.Vocab at 0x7f8062b49c18>,\n",
       " '복': <gensim.models.keyedvectors.Vocab at 0x7f8062b49c50>,\n",
       " 'k': <gensim.models.keyedvectors.Vocab at 0x7f8062b49c88>,\n",
       " '낼': <gensim.models.keyedvectors.Vocab at 0x7f8062b49cc0>,\n",
       " 'u': <gensim.models.keyedvectors.Vocab at 0x7f8062b49cf8>,\n",
       " 'N': <gensim.models.keyedvectors.Vocab at 0x7f8062b49d30>,\n",
       " '똑': <gensim.models.keyedvectors.Vocab at 0x7f8062b49d68>,\n",
       " '낸': <gensim.models.keyedvectors.Vocab at 0x7f8062b49da0>,\n",
       " '굴': <gensim.models.keyedvectors.Vocab at 0x7f8062b49dd8>,\n",
       " '훈': <gensim.models.keyedvectors.Vocab at 0x7f8062b49e10>,\n",
       " '흰': <gensim.models.keyedvectors.Vocab at 0x7f8062b49e48>,\n",
       " '싸': <gensim.models.keyedvectors.Vocab at 0x7f8062b49e80>,\n",
       " 'h': <gensim.models.keyedvectors.Vocab at 0x7f8062b49eb8>,\n",
       " '녁': <gensim.models.keyedvectors.Vocab at 0x7f8062b49ef0>,\n",
       " '클': <gensim.models.keyedvectors.Vocab at 0x7f8062b49f28>,\n",
       " '팝': <gensim.models.keyedvectors.Vocab at 0x7f8062b49f60>,\n",
       " '창': <gensim.models.keyedvectors.Vocab at 0x7f8062b49f98>,\n",
       " '플': <gensim.models.keyedvectors.Vocab at 0x7f8062b49fd0>,\n",
       " '망': <gensim.models.keyedvectors.Vocab at 0x7f8062b4e048>,\n",
       " 'B': <gensim.models.keyedvectors.Vocab at 0x7f8062b4e080>,\n",
       " '텐': <gensim.models.keyedvectors.Vocab at 0x7f8062b4e0b8>,\n",
       " '캔': <gensim.models.keyedvectors.Vocab at 0x7f8062b4e0f0>,\n",
       " '땡': <gensim.models.keyedvectors.Vocab at 0x7f8062b4e128>,\n",
       " '웍': <gensim.models.keyedvectors.Vocab at 0x7f8062b4e160>}"
      ]
     },
     "execution_count": 40,
     "metadata": {},
     "output_type": "execute_result"
    }
   ],
   "source": [
    "word2vec_.wv.vocab"
   ]
  },
  {
   "cell_type": "code",
   "execution_count": 38,
   "metadata": {},
   "outputs": [
    {
     "ename": "KeyError",
     "evalue": "\"word '가슴살' not in vocabulary\"",
     "output_type": "error",
     "traceback": [
      "\u001b[0;31m---------------------------------------------------------------------------\u001b[0m",
      "\u001b[0;31mKeyError\u001b[0m                                  Traceback (most recent call last)",
      "\u001b[0;32m<ipython-input-38-ee006eb77d23>\u001b[0m in \u001b[0;36m<module>\u001b[0;34m\u001b[0m\n\u001b[0;32m----> 1\u001b[0;31m \u001b[0mword2vec_\u001b[0m\u001b[0;34m.\u001b[0m\u001b[0mwv\u001b[0m\u001b[0;34m.\u001b[0m\u001b[0mmost_similar\u001b[0m\u001b[0;34m(\u001b[0m\u001b[0;34m[\u001b[0m\u001b[0;34m\"가슴살\"\u001b[0m\u001b[0;34m,\u001b[0m \u001b[0;34m\"계란\"\u001b[0m\u001b[0;34m,\u001b[0m \u001b[0;34m\"닭\"\u001b[0m\u001b[0;34m,\u001b[0m \u001b[0;34m\"장조림\"\u001b[0m\u001b[0;34m]\u001b[0m\u001b[0;34m,\u001b[0m \u001b[0mtopn\u001b[0m\u001b[0;34m=\u001b[0m\u001b[0;36m20\u001b[0m\u001b[0;34m)\u001b[0m\u001b[0;34m\u001b[0m\u001b[0m\n\u001b[0m",
      "\u001b[0;32m~/Python/nltk/lib/python3.6/site-packages/gensim/models/keyedvectors.py\u001b[0m in \u001b[0;36mmost_similar\u001b[0;34m(self, positive, negative, topn, restrict_vocab, indexer)\u001b[0m\n\u001b[1;32m    551\u001b[0m                 \u001b[0mmean\u001b[0m\u001b[0;34m.\u001b[0m\u001b[0mappend\u001b[0m\u001b[0;34m(\u001b[0m\u001b[0mweight\u001b[0m \u001b[0;34m*\u001b[0m \u001b[0mword\u001b[0m\u001b[0;34m)\u001b[0m\u001b[0;34m\u001b[0m\u001b[0m\n\u001b[1;32m    552\u001b[0m             \u001b[0;32melse\u001b[0m\u001b[0;34m:\u001b[0m\u001b[0;34m\u001b[0m\u001b[0m\n\u001b[0;32m--> 553\u001b[0;31m                 \u001b[0mmean\u001b[0m\u001b[0;34m.\u001b[0m\u001b[0mappend\u001b[0m\u001b[0;34m(\u001b[0m\u001b[0mweight\u001b[0m \u001b[0;34m*\u001b[0m \u001b[0mself\u001b[0m\u001b[0;34m.\u001b[0m\u001b[0mword_vec\u001b[0m\u001b[0;34m(\u001b[0m\u001b[0mword\u001b[0m\u001b[0;34m,\u001b[0m \u001b[0muse_norm\u001b[0m\u001b[0;34m=\u001b[0m\u001b[0;32mTrue\u001b[0m\u001b[0;34m)\u001b[0m\u001b[0;34m)\u001b[0m\u001b[0;34m\u001b[0m\u001b[0m\n\u001b[0m\u001b[1;32m    554\u001b[0m                 \u001b[0;32mif\u001b[0m \u001b[0mword\u001b[0m \u001b[0;32min\u001b[0m \u001b[0mself\u001b[0m\u001b[0;34m.\u001b[0m\u001b[0mvocab\u001b[0m\u001b[0;34m:\u001b[0m\u001b[0;34m\u001b[0m\u001b[0m\n\u001b[1;32m    555\u001b[0m                     \u001b[0mall_words\u001b[0m\u001b[0;34m.\u001b[0m\u001b[0madd\u001b[0m\u001b[0;34m(\u001b[0m\u001b[0mself\u001b[0m\u001b[0;34m.\u001b[0m\u001b[0mvocab\u001b[0m\u001b[0;34m[\u001b[0m\u001b[0mword\u001b[0m\u001b[0;34m]\u001b[0m\u001b[0;34m.\u001b[0m\u001b[0mindex\u001b[0m\u001b[0;34m)\u001b[0m\u001b[0;34m\u001b[0m\u001b[0m\n",
      "\u001b[0;32m~/Python/nltk/lib/python3.6/site-packages/gensim/models/keyedvectors.py\u001b[0m in \u001b[0;36mword_vec\u001b[0;34m(self, word, use_norm)\u001b[0m\n\u001b[1;32m    466\u001b[0m             \u001b[0;32mreturn\u001b[0m \u001b[0mresult\u001b[0m\u001b[0;34m\u001b[0m\u001b[0m\n\u001b[1;32m    467\u001b[0m         \u001b[0;32melse\u001b[0m\u001b[0;34m:\u001b[0m\u001b[0;34m\u001b[0m\u001b[0m\n\u001b[0;32m--> 468\u001b[0;31m             \u001b[0;32mraise\u001b[0m \u001b[0mKeyError\u001b[0m\u001b[0;34m(\u001b[0m\u001b[0;34m\"word '%s' not in vocabulary\"\u001b[0m \u001b[0;34m%\u001b[0m \u001b[0mword\u001b[0m\u001b[0;34m)\u001b[0m\u001b[0;34m\u001b[0m\u001b[0m\n\u001b[0m\u001b[1;32m    469\u001b[0m \u001b[0;34m\u001b[0m\u001b[0m\n\u001b[1;32m    470\u001b[0m     \u001b[0;32mdef\u001b[0m \u001b[0mget_vector\u001b[0m\u001b[0;34m(\u001b[0m\u001b[0mself\u001b[0m\u001b[0;34m,\u001b[0m \u001b[0mword\u001b[0m\u001b[0;34m)\u001b[0m\u001b[0;34m:\u001b[0m\u001b[0;34m\u001b[0m\u001b[0m\n",
      "\u001b[0;31mKeyError\u001b[0m: \"word '가슴살' not in vocabulary\""
     ]
    }
   ],
   "source": [
    "word2vec_.wv.most_similar([\"가슴살\", \"계란\", \"닭\", \"장조림\"], topn=20)"
   ]
  },
  {
   "cell_type": "code",
   "execution_count": null,
   "metadata": {},
   "outputs": [],
   "source": []
  },
  {
   "cell_type": "code",
   "execution_count": null,
   "metadata": {},
   "outputs": [],
   "source": []
  },
  {
   "cell_type": "code",
   "execution_count": 32,
   "metadata": {},
   "outputs": [],
   "source": [
    "from gensim.models import Word2Vec, Phrases\n",
    "\n",
    "w2v = Word2Vec(sg=1, workers=4, size=100, min_count=10, window=2)\n",
    "\n",
    "models = w2v.build_vocab(result[0])"
   ]
  },
  {
   "cell_type": "code",
   "execution_count": 34,
   "metadata": {},
   "outputs": [
    {
     "ename": "AttributeError",
     "evalue": "'NoneType' object has no attribute 'wv'",
     "output_type": "error",
     "traceback": [
      "\u001b[0;31m---------------------------------------------------------------------------\u001b[0m",
      "\u001b[0;31mAttributeError\u001b[0m                            Traceback (most recent call last)",
      "\u001b[0;32m<ipython-input-34-320c143afac0>\u001b[0m in \u001b[0;36m<module>\u001b[0;34m\u001b[0m\n\u001b[0;32m----> 1\u001b[0;31m \u001b[0mmodels\u001b[0m\u001b[0;34m.\u001b[0m\u001b[0mwv\u001b[0m\u001b[0;34m.\u001b[0m\u001b[0mmost_similar\u001b[0m\u001b[0;34m(\u001b[0m\u001b[0;34m[\u001b[0m\u001b[0;34m\"가슴살\"\u001b[0m\u001b[0;34m,\u001b[0m \u001b[0;34m\"계란\"\u001b[0m\u001b[0;34m,\u001b[0m \u001b[0;34m\"닭\"\u001b[0m\u001b[0;34m,\u001b[0m \u001b[0;34m\"장조림\"\u001b[0m\u001b[0;34m]\u001b[0m\u001b[0;34m,\u001b[0m \u001b[0mtopn\u001b[0m\u001b[0;34m=\u001b[0m\u001b[0;36m20\u001b[0m\u001b[0;34m)\u001b[0m\u001b[0;34m\u001b[0m\u001b[0m\n\u001b[0m",
      "\u001b[0;31mAttributeError\u001b[0m: 'NoneType' object has no attribute 'wv'"
     ]
    }
   ],
   "source": [
    "models.wv.most_similar([\"가슴살\", \"계란\", \"닭\", \"장조림\"], topn=20)"
   ]
  },
  {
   "cell_type": "code",
   "execution_count": null,
   "metadata": {},
   "outputs": [],
   "source": []
  },
  {
   "cell_type": "code",
   "execution_count": null,
   "metadata": {},
   "outputs": [],
   "source": []
  },
  {
   "cell_type": "code",
   "execution_count": null,
   "metadata": {},
   "outputs": [],
   "source": []
  },
  {
   "cell_type": "code",
   "execution_count": null,
   "metadata": {},
   "outputs": [],
   "source": []
  },
  {
   "cell_type": "code",
   "execution_count": null,
   "metadata": {},
   "outputs": [],
   "source": [
    "word2vec_ = thrones2vec = w2v.Word2Vec(\n",
    "    sg = 1, seed = seed,\n",
    "    workers = num_workers,\n",
    "    size = num_features,\n",
    "    min_count = min_word_count,\n",
    "    window = context_size,\n",
    "    sample = downsampling\n",
    ")"
   ]
  },
  {
   "cell_type": "code",
   "execution_count": null,
   "metadata": {},
   "outputs": [],
   "source": []
  },
  {
   "cell_type": "code",
   "execution_count": null,
   "metadata": {},
   "outputs": [],
   "source": []
  },
  {
   "cell_type": "code",
   "execution_count": 17,
   "metadata": {},
   "outputs": [
    {
     "name": "stdout",
     "output_type": "stream",
     "text": [
      "CPU times: user 186 ms, sys: 0 ns, total: 186 ms\n",
      "Wall time: 186 ms\n"
     ]
    }
   ],
   "source": [
    "%%time\n",
    "from gensim.models import word2vec\n",
    "data = Phrases(sentences=result[0])\n",
    "# data  = word2vec.LineSentence(script_file)\n",
    "# model = word2vec.Word2Vec(data, size=30, window=2, min_count=16, hs=1,\n",
    "#                           workers=4, iter=100, sg=1)\n",
    "# model.save(model_file)"
   ]
  },
  {
   "cell_type": "code",
   "execution_count": 18,
   "metadata": {},
   "outputs": [
    {
     "ename": "TypeError",
     "evalue": "'int' object is not iterable",
     "output_type": "error",
     "traceback": [
      "\u001b[0;31m---------------------------------------------------------------------------\u001b[0m",
      "\u001b[0;31mTypeError\u001b[0m                                 Traceback (most recent call last)",
      "\u001b[0;32m<ipython-input-18-5db24ab36bdb>\u001b[0m in \u001b[0;36m<module>\u001b[0;34m\u001b[0m\n\u001b[1;32m      1\u001b[0m model = word2vec.Word2Vec(data, size=30, window=2, min_count=16, hs=1,\n\u001b[0;32m----> 2\u001b[0;31m                           workers=4, iter=100, sg=1)\n\u001b[0m",
      "\u001b[0;32m~/Python/nltk/lib/python3.6/site-packages/gensim/models/word2vec.py\u001b[0m in \u001b[0;36m__init__\u001b[0;34m(self, sentences, corpus_file, size, alpha, window, min_count, max_vocab_size, sample, seed, workers, min_alpha, sg, hs, negative, ns_exponent, cbow_mean, hashfxn, iter, null_word, trim_rule, sorted_vocab, batch_words, compute_loss, callbacks, max_final_vocab)\u001b[0m\n\u001b[1;32m    781\u001b[0m             \u001b[0mcallbacks\u001b[0m\u001b[0;34m=\u001b[0m\u001b[0mcallbacks\u001b[0m\u001b[0;34m,\u001b[0m \u001b[0mbatch_words\u001b[0m\u001b[0;34m=\u001b[0m\u001b[0mbatch_words\u001b[0m\u001b[0;34m,\u001b[0m \u001b[0mtrim_rule\u001b[0m\u001b[0;34m=\u001b[0m\u001b[0mtrim_rule\u001b[0m\u001b[0;34m,\u001b[0m \u001b[0msg\u001b[0m\u001b[0;34m=\u001b[0m\u001b[0msg\u001b[0m\u001b[0;34m,\u001b[0m \u001b[0malpha\u001b[0m\u001b[0;34m=\u001b[0m\u001b[0malpha\u001b[0m\u001b[0;34m,\u001b[0m \u001b[0mwindow\u001b[0m\u001b[0;34m=\u001b[0m\u001b[0mwindow\u001b[0m\u001b[0;34m,\u001b[0m\u001b[0;34m\u001b[0m\u001b[0m\n\u001b[1;32m    782\u001b[0m             \u001b[0mseed\u001b[0m\u001b[0;34m=\u001b[0m\u001b[0mseed\u001b[0m\u001b[0;34m,\u001b[0m \u001b[0mhs\u001b[0m\u001b[0;34m=\u001b[0m\u001b[0mhs\u001b[0m\u001b[0;34m,\u001b[0m \u001b[0mnegative\u001b[0m\u001b[0;34m=\u001b[0m\u001b[0mnegative\u001b[0m\u001b[0;34m,\u001b[0m \u001b[0mcbow_mean\u001b[0m\u001b[0;34m=\u001b[0m\u001b[0mcbow_mean\u001b[0m\u001b[0;34m,\u001b[0m \u001b[0mmin_alpha\u001b[0m\u001b[0;34m=\u001b[0m\u001b[0mmin_alpha\u001b[0m\u001b[0;34m,\u001b[0m \u001b[0mcompute_loss\u001b[0m\u001b[0;34m=\u001b[0m\u001b[0mcompute_loss\u001b[0m\u001b[0;34m,\u001b[0m\u001b[0;34m\u001b[0m\u001b[0m\n\u001b[0;32m--> 783\u001b[0;31m             fast_version=FAST_VERSION)\n\u001b[0m\u001b[1;32m    784\u001b[0m \u001b[0;34m\u001b[0m\u001b[0m\n\u001b[1;32m    785\u001b[0m     def _do_train_epoch(self, corpus_file, thread_id, offset, cython_vocab, thread_private_mem, cur_epoch,\n",
      "\u001b[0;32m~/Python/nltk/lib/python3.6/site-packages/gensim/models/base_any2vec.py\u001b[0m in \u001b[0;36m__init__\u001b[0;34m(self, sentences, corpus_file, workers, vector_size, epochs, callbacks, batch_words, trim_rule, sg, alpha, window, seed, hs, negative, ns_exponent, cbow_mean, min_alpha, compute_loss, fast_version, **kwargs)\u001b[0m\n\u001b[1;32m    757\u001b[0m                 \u001b[0;32mraise\u001b[0m \u001b[0mTypeError\u001b[0m\u001b[0;34m(\u001b[0m\u001b[0;34m\"You can't pass a generator as the sentences argument. Try a sequence.\"\u001b[0m\u001b[0;34m)\u001b[0m\u001b[0;34m\u001b[0m\u001b[0m\n\u001b[1;32m    758\u001b[0m \u001b[0;34m\u001b[0m\u001b[0m\n\u001b[0;32m--> 759\u001b[0;31m             \u001b[0mself\u001b[0m\u001b[0;34m.\u001b[0m\u001b[0mbuild_vocab\u001b[0m\u001b[0;34m(\u001b[0m\u001b[0msentences\u001b[0m\u001b[0;34m=\u001b[0m\u001b[0msentences\u001b[0m\u001b[0;34m,\u001b[0m \u001b[0mcorpus_file\u001b[0m\u001b[0;34m=\u001b[0m\u001b[0mcorpus_file\u001b[0m\u001b[0;34m,\u001b[0m \u001b[0mtrim_rule\u001b[0m\u001b[0;34m=\u001b[0m\u001b[0mtrim_rule\u001b[0m\u001b[0;34m)\u001b[0m\u001b[0;34m\u001b[0m\u001b[0m\n\u001b[0m\u001b[1;32m    760\u001b[0m             self.train(\n\u001b[1;32m    761\u001b[0m                 \u001b[0msentences\u001b[0m\u001b[0;34m=\u001b[0m\u001b[0msentences\u001b[0m\u001b[0;34m,\u001b[0m \u001b[0mcorpus_file\u001b[0m\u001b[0;34m=\u001b[0m\u001b[0mcorpus_file\u001b[0m\u001b[0;34m,\u001b[0m \u001b[0mtotal_examples\u001b[0m\u001b[0;34m=\u001b[0m\u001b[0mself\u001b[0m\u001b[0;34m.\u001b[0m\u001b[0mcorpus_count\u001b[0m\u001b[0;34m,\u001b[0m\u001b[0;34m\u001b[0m\u001b[0m\n",
      "\u001b[0;32m~/Python/nltk/lib/python3.6/site-packages/gensim/models/base_any2vec.py\u001b[0m in \u001b[0;36mbuild_vocab\u001b[0;34m(self, sentences, corpus_file, update, progress_per, keep_raw_vocab, trim_rule, **kwargs)\u001b[0m\n\u001b[1;32m    934\u001b[0m         \"\"\"\n\u001b[1;32m    935\u001b[0m         total_words, corpus_count = self.vocabulary.scan_vocab(\n\u001b[0;32m--> 936\u001b[0;31m             sentences=sentences, corpus_file=corpus_file, progress_per=progress_per, trim_rule=trim_rule)\n\u001b[0m\u001b[1;32m    937\u001b[0m         \u001b[0mself\u001b[0m\u001b[0;34m.\u001b[0m\u001b[0mcorpus_count\u001b[0m \u001b[0;34m=\u001b[0m \u001b[0mcorpus_count\u001b[0m\u001b[0;34m\u001b[0m\u001b[0m\n\u001b[1;32m    938\u001b[0m         \u001b[0mself\u001b[0m\u001b[0;34m.\u001b[0m\u001b[0mcorpus_total_words\u001b[0m \u001b[0;34m=\u001b[0m \u001b[0mtotal_words\u001b[0m\u001b[0;34m\u001b[0m\u001b[0m\n",
      "\u001b[0;32m~/Python/nltk/lib/python3.6/site-packages/gensim/models/word2vec.py\u001b[0m in \u001b[0;36mscan_vocab\u001b[0;34m(self, sentences, corpus_file, progress_per, workers, trim_rule)\u001b[0m\n\u001b[1;32m   1590\u001b[0m             \u001b[0msentences\u001b[0m \u001b[0;34m=\u001b[0m \u001b[0mLineSentence\u001b[0m\u001b[0;34m(\u001b[0m\u001b[0mcorpus_file\u001b[0m\u001b[0;34m)\u001b[0m\u001b[0;34m\u001b[0m\u001b[0m\n\u001b[1;32m   1591\u001b[0m \u001b[0;34m\u001b[0m\u001b[0m\n\u001b[0;32m-> 1592\u001b[0;31m         \u001b[0mtotal_words\u001b[0m\u001b[0;34m,\u001b[0m \u001b[0mcorpus_count\u001b[0m \u001b[0;34m=\u001b[0m \u001b[0mself\u001b[0m\u001b[0;34m.\u001b[0m\u001b[0m_scan_vocab\u001b[0m\u001b[0;34m(\u001b[0m\u001b[0msentences\u001b[0m\u001b[0;34m,\u001b[0m \u001b[0mprogress_per\u001b[0m\u001b[0;34m,\u001b[0m \u001b[0mtrim_rule\u001b[0m\u001b[0;34m)\u001b[0m\u001b[0;34m\u001b[0m\u001b[0m\n\u001b[0m\u001b[1;32m   1593\u001b[0m \u001b[0;34m\u001b[0m\u001b[0m\n\u001b[1;32m   1594\u001b[0m         logger.info(\n",
      "\u001b[0;32m~/Python/nltk/lib/python3.6/site-packages/gensim/models/word2vec.py\u001b[0m in \u001b[0;36m_scan_vocab\u001b[0;34m(self, sentences, progress_per, trim_rule)\u001b[0m\n\u001b[1;32m   1559\u001b[0m         \u001b[0mvocab\u001b[0m \u001b[0;34m=\u001b[0m \u001b[0mdefaultdict\u001b[0m\u001b[0;34m(\u001b[0m\u001b[0mint\u001b[0m\u001b[0;34m)\u001b[0m\u001b[0;34m\u001b[0m\u001b[0m\n\u001b[1;32m   1560\u001b[0m         \u001b[0mchecked_string_types\u001b[0m \u001b[0;34m=\u001b[0m \u001b[0;36m0\u001b[0m\u001b[0;34m\u001b[0m\u001b[0m\n\u001b[0;32m-> 1561\u001b[0;31m         \u001b[0;32mfor\u001b[0m \u001b[0msentence_no\u001b[0m\u001b[0;34m,\u001b[0m \u001b[0msentence\u001b[0m \u001b[0;32min\u001b[0m \u001b[0menumerate\u001b[0m\u001b[0;34m(\u001b[0m\u001b[0msentences\u001b[0m\u001b[0;34m)\u001b[0m\u001b[0;34m:\u001b[0m\u001b[0;34m\u001b[0m\u001b[0m\n\u001b[0m\u001b[1;32m   1562\u001b[0m             \u001b[0;32mif\u001b[0m \u001b[0;32mnot\u001b[0m \u001b[0mchecked_string_types\u001b[0m\u001b[0;34m:\u001b[0m\u001b[0;34m\u001b[0m\u001b[0m\n\u001b[1;32m   1563\u001b[0m                 \u001b[0;32mif\u001b[0m \u001b[0misinstance\u001b[0m\u001b[0;34m(\u001b[0m\u001b[0msentence\u001b[0m\u001b[0;34m,\u001b[0m \u001b[0mstring_types\u001b[0m\u001b[0;34m)\u001b[0m\u001b[0;34m:\u001b[0m\u001b[0;34m\u001b[0m\u001b[0m\n",
      "\u001b[0;32m~/Python/nltk/lib/python3.6/site-packages/gensim/models/phrases.py\u001b[0m in \u001b[0;36m__getitem__\u001b[0;34m(self, sentence)\u001b[0m\n\u001b[1;32m    658\u001b[0m \u001b[0;34m\u001b[0m\u001b[0m\n\u001b[1;32m    659\u001b[0m         \"\"\"\n\u001b[0;32m--> 660\u001b[0;31m         \u001b[0;32mreturn\u001b[0m \u001b[0m_sentence2token\u001b[0m\u001b[0;34m(\u001b[0m\u001b[0mself\u001b[0m\u001b[0;34m,\u001b[0m \u001b[0msentence\u001b[0m\u001b[0;34m)\u001b[0m\u001b[0;34m\u001b[0m\u001b[0m\n\u001b[0m\u001b[1;32m    661\u001b[0m \u001b[0;34m\u001b[0m\u001b[0m\n\u001b[1;32m    662\u001b[0m \u001b[0;34m\u001b[0m\u001b[0m\n",
      "\u001b[0;32m~/Python/nltk/lib/python3.6/site-packages/gensim/models/phrases.py\u001b[0m in \u001b[0;36m_sentence2token\u001b[0;34m(phrase_class, sentence)\u001b[0m\n\u001b[1;32m    261\u001b[0m \u001b[0;34m\u001b[0m\u001b[0m\n\u001b[1;32m    262\u001b[0m     \"\"\"\n\u001b[0;32m--> 263\u001b[0;31m     \u001b[0mis_single\u001b[0m\u001b[0;34m,\u001b[0m \u001b[0msentence\u001b[0m \u001b[0;34m=\u001b[0m \u001b[0m_is_single\u001b[0m\u001b[0;34m(\u001b[0m\u001b[0msentence\u001b[0m\u001b[0;34m)\u001b[0m\u001b[0;34m\u001b[0m\u001b[0m\n\u001b[0m\u001b[1;32m    264\u001b[0m     \u001b[0;32mif\u001b[0m \u001b[0;32mnot\u001b[0m \u001b[0mis_single\u001b[0m\u001b[0;34m:\u001b[0m\u001b[0;34m\u001b[0m\u001b[0m\n\u001b[1;32m    265\u001b[0m         \u001b[0;31m# if the input is an entire corpus (rather than a single sentence),\u001b[0m\u001b[0;34m\u001b[0m\u001b[0;34m\u001b[0m\u001b[0m\n",
      "\u001b[0;32m~/Python/nltk/lib/python3.6/site-packages/gensim/models/phrases.py\u001b[0m in \u001b[0;36m_is_single\u001b[0;34m(obj)\u001b[0m\n\u001b[1;32m     76\u001b[0m \u001b[0;34m\u001b[0m\u001b[0m\n\u001b[1;32m     77\u001b[0m     \"\"\"\n\u001b[0;32m---> 78\u001b[0;31m     \u001b[0mobj_iter\u001b[0m \u001b[0;34m=\u001b[0m \u001b[0miter\u001b[0m\u001b[0;34m(\u001b[0m\u001b[0mobj\u001b[0m\u001b[0;34m)\u001b[0m\u001b[0;34m\u001b[0m\u001b[0m\n\u001b[0m\u001b[1;32m     79\u001b[0m     \u001b[0mtemp_iter\u001b[0m \u001b[0;34m=\u001b[0m \u001b[0mobj_iter\u001b[0m\u001b[0;34m\u001b[0m\u001b[0m\n\u001b[1;32m     80\u001b[0m     \u001b[0;32mtry\u001b[0m\u001b[0;34m:\u001b[0m\u001b[0;34m\u001b[0m\u001b[0m\n",
      "\u001b[0;31mTypeError\u001b[0m: 'int' object is not iterable"
     ]
    }
   ],
   "source": [
    "model = word2vec.Word2Vec(data, size=30, window=2, min_count=16, hs=1,\n",
    "                          workers=4, iter=100, sg=1)"
   ]
  },
  {
   "cell_type": "code",
   "execution_count": 14,
   "metadata": {},
   "outputs": [
    {
     "data": {
      "text/plain": [
       "gensim.models.phrases.Phrases"
      ]
     },
     "execution_count": 14,
     "metadata": {},
     "output_type": "execute_result"
    }
   ],
   "source": [
    "type(sentence)"
   ]
  },
  {
   "cell_type": "code",
   "execution_count": null,
   "metadata": {},
   "outputs": [],
   "source": []
  },
  {
   "cell_type": "code",
   "execution_count": null,
   "metadata": {},
   "outputs": [],
   "source": []
  },
  {
   "cell_type": "code",
   "execution_count": null,
   "metadata": {},
   "outputs": [],
   "source": []
  },
  {
   "cell_type": "code",
   "execution_count": 6,
   "metadata": {},
   "outputs": [
    {
     "name": "stdout",
     "output_type": "stream",
     "text": [
      "가슴살 16\n",
      "계란 104\n",
      "닭 31\n",
      "장조림 342\n"
     ]
    }
   ],
   "source": [
    "# Post 문장 내용 확인하기\n",
    "w2v_temp    = result[0].splitlines() # \"\\n\" 기준으로 나눈다\n",
    "result_temp = []\n",
    "for _ in w2v_temp:\n",
    "    result_temp += _.split(\" \")"
   ]
  },
  {
   "cell_type": "code",
   "execution_count": null,
   "metadata": {},
   "outputs": [],
   "source": []
  },
  {
   "cell_type": "code",
   "execution_count": null,
   "metadata": {},
   "outputs": [],
   "source": []
  },
  {
   "cell_type": "code",
   "execution_count": null,
   "metadata": {},
   "outputs": [],
   "source": []
  },
  {
   "cell_type": "code",
   "execution_count": null,
   "metadata": {},
   "outputs": [],
   "source": []
  },
  {
   "cell_type": "code",
   "execution_count": 9,
   "metadata": {},
   "outputs": [
    {
     "data": {
      "text/plain": [
       "True"
      ]
     },
     "execution_count": 9,
     "metadata": {},
     "output_type": "execute_result"
    }
   ],
   "source": [
    "\"11\".isdigit()"
   ]
  },
  {
   "cell_type": "code",
   "execution_count": null,
   "metadata": {},
   "outputs": [],
   "source": []
  },
  {
   "cell_type": "code",
   "execution_count": null,
   "metadata": {},
   "outputs": [],
   "source": []
  },
  {
   "cell_type": "code",
   "execution_count": null,
   "metadata": {},
   "outputs": [],
   "source": []
  },
  {
   "cell_type": "code",
   "execution_count": 11,
   "metadata": {},
   "outputs": [
    {
     "name": "stdout",
     "output_type": "stream",
     "text": [
      "전처리 블로그 내용의 저장 : ./w2v_script.txt\n"
     ]
    }
   ],
   "source": [
    "# 명사 Token 작업된 자료를 ssResport.txt 로 저장 \n",
    "script_file = './w2v_script.txt'\n",
    "with open(script_file, 'w', encoding='utf-8') as file:\n",
    "    file.write(result[0])\n",
    "    \n",
    "print(\"전처리 블로그 내용의 저장 : {}\".format(script_file))"
   ]
  },
  {
   "cell_type": "markdown",
   "metadata": {},
   "source": [
    "## **1 Sentenced Text**\n",
    "**Word2vec** 을 만들기 위해서는 **문장 데이터로** 전처리가 필요하다\n",
    "1. **그냥 만든경우** 와, **문장을 선별한 경우를** 비교하여 성능 향상 시키기\n",
    "1. **핵심 Token 을 찾고**, 이를 바탕으로 word2vec 결과값 필터링 하기 **(Core 찾기가 우선)**"
   ]
  },
  {
   "cell_type": "code",
   "execution_count": 36,
   "metadata": {},
   "outputs": [
    {
     "name": "stdout",
     "output_type": "stream",
     "text": [
      "Word 2 Vec 모델 파일 ./w2v_recipe.model 저장완료\n",
      "CPU times: user 4.63 s, sys: 103 ms, total: 4.73 s\n",
      "Wall time: 3.29 s\n"
     ]
    }
   ],
   "source": [
    "%%time\n",
    "from gensim.models import word2vec\n",
    "data  = word2vec.LineSentence(script_file)\n",
    "model = word2vec.Word2Vec(data, size=30, window=2, min_count=16, hs=1,\n",
    "                          workers=4, iter=100, sg=1)\n",
    "model.save(model_file)"
   ]
  },
  {
   "cell_type": "code",
   "execution_count": 38,
   "metadata": {},
   "outputs": [
    {
     "data": {
      "text/plain": [
       "[('닭가슴살', 0.725135326385498),\n",
       " ('이용한', 0.6401489973068237),\n",
       " ('메추리알', 0.6393377780914307),\n",
       " ('요리', 0.6060360670089722),\n",
       " ('오늘', 0.5656761527061462),\n",
       " ('법', 0.5500603318214417),\n",
       " ('오늘은', 0.5277817845344543),\n",
       " ('닭가슴살과', 0.4969708025455475),\n",
       " ('장조림을', 0.4929303228855133),\n",
       " ('글입니다', 0.4797065854072571),\n",
       " ('만드는', 0.4728950560092926),\n",
       " ('만들기', 0.46609869599342346),\n",
       " ('위해', 0.4544617533683777),\n",
       " ('먹는', 0.44983047246932983),\n",
       " ('좋아요', 0.4398360848426819),\n",
       " ('꽈리고추', 0.43841955065727234),\n",
       " ('다이어트', 0.4327726662158966),\n",
       " ('닭고기', 0.4298769235610962),\n",
       " ('마늘', 0.42846792936325073),\n",
       " ('닭가슴살을', 0.42231449484825134)]"
      ]
     },
     "execution_count": 38,
     "metadata": {},
     "output_type": "execute_result"
    }
   ],
   "source": [
    "model.wv.most_similar([\"가슴살\", \"계란\", \"닭\", \"장조림\"], topn=20)"
   ]
  },
  {
   "cell_type": "code",
   "execution_count": 41,
   "metadata": {},
   "outputs": [
    {
     "data": {
      "text/plain": [
       "[('요리', 0.6024991273880005),\n",
       " ('사용', 0.3841325342655182),\n",
       " ('법', 0.3550140857696533),\n",
       " ('글입니다', 0.35304853320121765),\n",
       " ('꽈리고추', 0.35070517659187317),\n",
       " ('이제', 0.3504452109336853),\n",
       " ('간단하게', 0.3490484952926636),\n",
       " ('위해', 0.3488353192806244),\n",
       " ('먹기', 0.3451535701751709),\n",
       " ('오늘', 0.34397000074386597),\n",
       " ('다이어트', 0.3195529878139496),\n",
       " ('메추리알', 0.31017300486564636),\n",
       " ('마늘', 0.3066818416118622),\n",
       " ('반찬으로', 0.2982470989227295),\n",
       " ('맛있어요', 0.2916230857372284),\n",
       " ('레시피', 0.28354838490486145),\n",
       " ('오늘은', 0.271423876285553),\n",
       " ('내용', 0.26687198877334595),\n",
       " ('장조림을', 0.26355087757110596),\n",
       " ('좋아요', 0.25986653566360474),\n",
       " ('글에', 0.2506791651248932),\n",
       " ('넣어서', 0.23929870128631592),\n",
       " ('만들', 0.23346063494682312),\n",
       " ('이용한', 0.23234985768795013),\n",
       " ('안', 0.2303457111120224),\n",
       " ('저작자', 0.22936281561851501),\n",
       " ('좋아하는', 0.22905974090099335),\n",
       " ('물에', 0.22215133905410767),\n",
       " ('자주', 0.21964050829410553),\n",
       " ('하나', 0.20812654495239258)]"
      ]
     },
     "execution_count": 41,
     "metadata": {},
     "output_type": "execute_result"
    }
   ],
   "source": [
    "model.wv.most_similar([\"가슴살\", \"계란\", \"닭\", \"장조림\"], \n",
    "                      negative=['닭가슴살', '닭가슴살과', '닭가슴살을'],\n",
    "                      topn=30)"
   ]
  },
  {
   "cell_type": "code",
   "execution_count": null,
   "metadata": {},
   "outputs": [],
   "source": []
  },
  {
   "cell_type": "code",
   "execution_count": null,
   "metadata": {},
   "outputs": [],
   "source": []
  },
  {
   "cell_type": "code",
   "execution_count": null,
   "metadata": {},
   "outputs": [],
   "source": []
  },
  {
   "cell_type": "code",
   "execution_count": null,
   "metadata": {},
   "outputs": [],
   "source": []
  },
  {
   "cell_type": "code",
   "execution_count": 34,
   "metadata": {},
   "outputs": [
    {
     "data": {
      "text/html": [
       "<div>\n",
       "<style scoped>\n",
       "    .dataframe tbody tr th:only-of-type {\n",
       "        vertical-align: middle;\n",
       "    }\n",
       "\n",
       "    .dataframe tbody tr th {\n",
       "        vertical-align: top;\n",
       "    }\n",
       "\n",
       "    .dataframe thead th {\n",
       "        text-align: right;\n",
       "    }\n",
       "</style>\n",
       "<table border=\"1\" class=\"dataframe\">\n",
       "  <thead>\n",
       "    <tr style=\"text-align: right;\">\n",
       "      <th></th>\n",
       "      <th>Query</th>\n",
       "      <th>Posts</th>\n",
       "    </tr>\n",
       "  </thead>\n",
       "  <tbody>\n",
       "    <tr>\n",
       "      <th>0</th>\n",
       "      <td>가슴살_계란_닭_장조림</td>\n",
       "      <td>반찬 볶음 조림.부드러운 닭가슴살 장조림 만들기.베리츄..2017.9.1.22 32...</td>\n",
       "    </tr>\n",
       "    <tr>\n",
       "      <th>1</th>\n",
       "      <td>가슴살_굴소스_닭_볶음밥</td>\n",
       "      <td>아임닭 7기 종료.수비드 닭가슴살 요리 돈까스 볶음밥 만들기.주니호맘..2019.4...</td>\n",
       "    </tr>\n",
       "  </tbody>\n",
       "</table>\n",
       "</div>"
      ],
      "text/plain": [
       "           Query                                              Posts\n",
       "0   가슴살_계란_닭_장조림  반찬 볶음 조림.부드러운 닭가슴살 장조림 만들기.베리츄..2017.9.1.22 32...\n",
       "1  가슴살_굴소스_닭_볶음밥  아임닭 7기 종료.수비드 닭가슴살 요리 돈까스 볶음밥 만들기.주니호맘..2019.4..."
      ]
     },
     "execution_count": 34,
     "metadata": {},
     "output_type": "execute_result"
    }
   ],
   "source": [
    "import pandas as pd\n",
    "posts = pd.read_csv(\"data/naverPost_muyong.csv\")\n",
    "posts.head(2)"
   ]
  },
  {
   "cell_type": "code",
   "execution_count": 4,
   "metadata": {},
   "outputs": [],
   "source": [
    "post_temp = posts.loc[0]\n",
    "post_temp_query = post_temp.Query.split(\"_\")\n",
    "post_temp_list = post_temp.Posts.split('|')"
   ]
  },
  {
   "cell_type": "code",
   "execution_count": 5,
   "metadata": {},
   "outputs": [
    {
     "data": {
      "text/plain": [
       "(['가슴살', '계란', '닭', '장조림'],\n",
       " '반찬 볶음 조림.부드러운 닭가슴살 장조림 만들기.베리츄..2017.9.1.22 32.URL 복사.이웃추가.본문 기타 기능.번역보기.조림 밑반찬으로 대표적인 장조림.지방이 적고 단백질은 풍부한.닭가슴살.을 이용해 만들어봤어요.고기를 잘게 찢어 넣어 식감은 더 부드럽게.거기에.새송이버섯.과 제철을 맞이한.꽈리고추.까지 넉넉하게 넣어 만들었어요.꽈리고추는 일반 고추에 비해 쭈글쭈글하니 못생겼지만.비타민A와 C 등의 영양가가 풍부하고 매운맛이 덜해 조림이나 찜으로 먹기에 좋아요^^.닭가슴살장조림.닭가슴살 장조림 재료.조리시간 1시간 이내 ')"
      ]
     },
     "execution_count": 5,
     "metadata": {},
     "output_type": "execute_result"
    }
   ],
   "source": [
    "post_temp_query, post_temp_list[0][:300]"
   ]
  },
  {
   "cell_type": "code",
   "execution_count": 6,
   "metadata": {},
   "outputs": [],
   "source": [
    "# post 내용의 필터링\n",
    "post_temp_list_blog = post_temp_list[0]\n",
    "post_temp_list_blog = post_temp_list_blog.split('.')"
   ]
  },
  {
   "cell_type": "code",
   "execution_count": 7,
   "metadata": {},
   "outputs": [],
   "source": [
    "import re"
   ]
  },
  {
   "cell_type": "code",
   "execution_count": 11,
   "metadata": {},
   "outputs": [
    {
     "data": {
      "text/plain": [
       "'반찬 볶음 조림.부드러운 닭가슴살 장조림 만들기.본문 기타 기능.조림 밑반찬으로 대표적인 장조림.지방이 적고 단백질은 풍부한.을 이용해 만들어봤어요.고기를 잘게 찢어 넣어 식감은 더 부드럽게.과 제철을 맞이한.까지 넉넉하게 넣어 만들었어요.꽈리고추는 일반 고추에 비해 쭈글쭈글하니 못생겼지만.비타민A와 C 등의 영양가가 풍부하고 매운맛이 덜해 조림이나 찜으로 먹기에 좋아요^^.닭가슴살 장조림 재료.조리시간 1시간 이내 난이도 중.생 닭가슴살 200g 물 1L 5컵 청주 2큰술 마늘 4쪽 생강 마늘 크기 1톨.새송이버섯 2개 꽈리고추 200g 약 3줌.양념 고기 육수 300ml 1.5컵 양조간장 100ml 0.5컵 꿀 2큰술 표고버섯가루 1 2큰술 후춧가루 약간.괄호 속 기재된 컵 은 종이컵 기준입니다.꿀 대신 올리고당으로 대체 가능합니다.고기 삶은 물은 양념에 사용할 거예요.끓는 물에 닭 가슴살 물 1L 5컵 마늘 4쪽 생강 1톨 청주 2큰술을 넣고 삶아주세요.센 불에서 끓어오르면 중불에서 뚜껑을 덮어 20 25분 정도 삶으면 됩니다.삶은 물은 버리지 마세요.삶는 시간이 생각보다 오래 걸리기 때문에 이때 재료 손질 및 양념을 만들어두는 것이 좋아요.닭이 충분히 익었는지 확인할 땐 젓가락을 이용해 찔러보세요.젓가락이 푹 들어가고 핏물이 빠져나오지 않으면 충분하게 익은 거예요.고기 삶는 동안 꽈리고추를 흐르는 물에 깨끗하게 씻은 뒤 꼭지를 제거해주세요.포크를 이용해 구멍을 내주세요.양념이 잘 배도록 구멍을 내주는 것인데 작은 건 한번 긴 건 두 번 정도 콕 찔러주면 됩니다.길이가 너무 긴 것은 반으로 썰어주세요.꽈리고추 고르는 법.전체적으로 윤기가 나며 꼭지가 단단한 것을 고르면 되는데요.이때 몸통이 단단한 것은 좀 더 맵고 말랑한 것은 매운맛이 덜하니 기호에 따라 고르셔요^^.새송이버섯은 가로로 2등분 한 뒤 0.3cm 두께로 슬라이스해주세요.쫄깃한 식감의 새송이버섯은 꼭 넣어주세요.계란보다 더 맛 좋은 별미랍니다.슬라이스하는 것이 번거롭다면 미니새송이버섯을 사용해도 좋아요.잘 삶아진 닭 가슴살은 먹기 좋게 고기 결대로 쭉쭉 찢어주세요.고기를 결대로 잘게 찢은 뒤 양념에 졸이면 조리시간을 단축할 수 있어요.식감도 퍽퍽하기보단 부드러워져요.닭가슴살 장조림 양념을 만들어주세요.고기 육수 300ml 1.5컵 양조간장 100ml 0.5컵 꿀 2큰술 표고버섯가루 1 2큰술 후춧가루 약간.꿀이 없다면 올리고당으로 넣어주세요.닭 삶은 물 안 버리셨죠.양념장 만들 때 물 대신 넣어주세요.저는 멸치나 다시마 육수 대신 넣어주는데요.따로 만들지 않아도 되니.간편하기도 하고 천연조미료 역할을 톡톡히 해내요.고기 꽈리고추 새송이버섯 양념을 냄비에 넣고 센 불에서 끓여주세요.끓어오르면 중불로 줄이고 뚜껑을 덮어 7분간 더 끓여주세요.가만히 둬도 간이 잘 배기 때문에 오래 끓여줄 필요가 없어요.30분 1시간 뒤면 양념이 더 배어들기 때문에 끓이는 시간은 10분 내로 해줘도 충분해요.한가지 반찬을 만들었지만 세 가지를 만든 것 같은 효과가.이렇게 만들어둔 닭가슴살 장조림은 기본 밑반찬으로 딱이에요.먹을 만큼 덜어 전자레인지에 따뜻하게 데워먹으면 더 부드럽고 맛이 좋아요.입맛이 없을 땐 맨밥 장조림 버터 1큰술 넣어 장조림버터비빔밥으로 즐겨도 좋겠죠.닭가슴살 장조림 만들기 핵심은요.고기 삶은 물은 버리지 않고 양념장 만들 때 사용하기.저작자 명시 필수.영리적 사용 불가.내용 변경 불가.저작자 명시 필수 영리적 사용 불가 내용 변경 불가.이 글에 공감한 블로거 열고 닫기.이 글에 댓글 단 블로거 열고 닫기.var gAdPostUnitIdForPC pc_blog_bottom.var gAdContentUnitIdForPC pc_blog_body'"
      ]
     },
     "execution_count": 11,
     "metadata": {},
     "output_type": "execute_result"
    }
   ],
   "source": [
    "# 우선은 간단하게 기능을 추가한뒤\n",
    "# 식재료 Stemming 보완이 필요한 듯 ex) 후춧가루, 후추, 양념장 과 같은...\n",
    "#\n",
    "\".\".join([sent for sent in post_temp_list_blog   if len(re.findall(r\"\\w+\", sent)) >= 3])"
   ]
  },
  {
   "cell_type": "markdown",
   "metadata": {},
   "source": [
    "## **1 Fast Text 모델링**\n",
    "https://pypi.org/project/fasttext/\n",
    "1. Gensim 보다 빠르다더라...\n",
    "1. https://github.com/facebookresearch/fastText\n",
    "1. **[Wiki 백과로 미리 훈련한 사전을 제공](https://dl.fbaipublicfiles.com/fasttext/vectors-aligned/wiki.ko.align.vec)**\n",
    "1. [실습 예제자료를 다운 루는 블로그](https://inspiringpeople.github.io/data%20analysis/word_embedding/)"
   ]
  },
  {
   "cell_type": "code",
   "execution_count": 2,
   "metadata": {},
   "outputs": [],
   "source": [
    "text_data = \"\"\"반찬 볶음 조림.부드러운 닭가슴살 장조림 만들기.본문 기타 기능.조림 밑반찬으로 대표적인 장조림.\n",
    "지방이 적고 단백질은 풍부한.을 이용해 만들어봤어요.고기를 잘게 찢어 넣어 식감은 더 부드럽게.과 제철을 맞이한.\n",
    "까지 넉넉하게 넣어 만들었어요.꽈리고추는 일반 고추에 비해 쭈글쭈글하니 못생겼지만.\n",
    "비타민A와 C 등의 영양가가 풍부하고 매운맛이 덜해 조림이나 찜으로 먹기에 좋아요^^.닭가슴살 장조림 재료.\n",
    "조리시간 1시간 이내 난이도 중.생 닭가슴살 200g 물 1L 5컵 청주 2큰술 마늘 4쪽 생강 마늘 크기 1톨.\n",
    "새송이버섯 2개 꽈리고추 200g 약 3줌.양념 고기 육수 300ml 1.5컵 양조간장 100ml 0.5컵 꿀 2큰술 표고버섯가루 1 2큰술\n",
    "후춧가루 약간.괄호 속 기재된 컵 은 종이컵 기준입니다.꿀 대신 올리고당으로 대체 가능합니다.고기 삶은 물은 양념에 사용할 거예요.\"\"\""
   ]
  },
  {
   "cell_type": "code",
   "execution_count": 4,
   "metadata": {},
   "outputs": [],
   "source": [
    "import fasttext\n",
    "script_file = './w2v_script.txt'\n",
    "# model = fasttext.skipgram(script_file, 'model', lr=0.1, dim=300)\n",
    "# model = fasttext.skipgram('train.txt', 'model', lr=0.1, dim=300)\n",
    "# model = fasttext.skipgram(text_data, 'model', lr=0.1, dim=300)\n",
    "model = fasttext.train_unsupervised(script_file, model='skipgram', dim=300, lr=0.1)"
   ]
  },
  {
   "cell_type": "code",
   "execution_count": 3,
   "metadata": {},
   "outputs": [],
   "source": []
  },
  {
   "cell_type": "code",
   "execution_count": null,
   "metadata": {},
   "outputs": [],
   "source": []
  },
  {
   "cell_type": "code",
   "execution_count": null,
   "metadata": {},
   "outputs": [],
   "source": []
  },
  {
   "cell_type": "code",
   "execution_count": null,
   "metadata": {},
   "outputs": [],
   "source": []
  },
  {
   "cell_type": "code",
   "execution_count": null,
   "metadata": {},
   "outputs": [],
   "source": [
    "import fasttext\n",
    "\n",
    "# Skipgram model :\n",
    "model = fasttext.train_unsupervised('data.txt', model='skipgram')\n",
    "\n",
    "# or, cbow model :\n",
    "model = fasttext.train_unsupervised('data.txt', model='cbow')"
   ]
  },
  {
   "cell_type": "code",
   "execution_count": null,
   "metadata": {},
   "outputs": [],
   "source": [
    "print(model.words)   # list of words in dictionary\n",
    "print(model['king']) # get the vector of the word 'king'"
   ]
  },
  {
   "cell_type": "code",
   "execution_count": 1,
   "metadata": {},
   "outputs": [],
   "source": [
    "# 학습결과 Model 로 저장하기\n",
    "model.save_model(\"model_filename.bin\")"
   ]
  },
  {
   "cell_type": "code",
   "execution_count": null,
   "metadata": {},
   "outputs": [],
   "source": [
    "# 저장된 Model 객체 불러오기\n",
    "model = fasttext.load_model(\"model_filename.bin\")"
   ]
  },
  {
   "cell_type": "code",
   "execution_count": null,
   "metadata": {},
   "outputs": [],
   "source": [
    "import fasttext\n",
    "model = fasttext.train_supervised('data.train.txt')\n",
    "print(model.words)\n",
    "print(model.labels)"
   ]
  },
  {
   "cell_type": "code",
   "execution_count": null,
   "metadata": {},
   "outputs": [],
   "source": [
    "model.words         # equivalent to model.get_words()\n",
    "model.labels        # equivalent to model.get_labels()"
   ]
  },
  {
   "cell_type": "code",
   "execution_count": null,
   "metadata": {},
   "outputs": [],
   "source": [
    "model['king']       # equivalent to model.get_word_vector('king')\n",
    "'king' in model     # equivalent to `'king' in model.get_words()`"
   ]
  },
  {
   "cell_type": "code",
   "execution_count": null,
   "metadata": {},
   "outputs": [],
   "source": [
    "# 개별 Token 의 가중치 확인하기\n",
    "def print_results(N, p, r):\n",
    "    print(\"N\\t\" + str(N))\n",
    "    print(\"P@{}\\t{:.3f}\".format(1, p))\n",
    "    print(\"R@{}\\t{:.3f}\".format(1, r))\n",
    "\n",
    "print_results(*model.test('test.txt'))"
   ]
  },
  {
   "cell_type": "code",
   "execution_count": null,
   "metadata": {},
   "outputs": [],
   "source": [
    "# 학습 모델을 활용하여 판단하기\n",
    "model.predict(\"Which baking dish is best to bake a banana bread ?\")"
   ]
  },
  {
   "cell_type": "code",
   "execution_count": null,
   "metadata": {},
   "outputs": [],
   "source": [
    "# 출력할 결과값을 사용자가 지정 가능 (k=3)\n",
    "model.predict(\"Which baking dish is best to bake a banana bread ?\", k=3)"
   ]
  },
  {
   "cell_type": "code",
   "execution_count": null,
   "metadata": {},
   "outputs": [],
   "source": [
    "# If you want to predict more than one sentence you can pass an array of strings \n",
    "model.predict([\"Which baking dish is best to bake a banana bread ?\", \"Why not put knives in the dishwasher?\"], k=3)"
   ]
  },
  {
   "cell_type": "code",
   "execution_count": null,
   "metadata": {},
   "outputs": [],
   "source": [
    "# with the previously trained `model` object, call :\n",
    "model.quantize(input='data.train.txt', retrain=True)\n",
    "\n",
    "# then display results and save the new model :\n",
    "print_results(*model.test(valid_data))\n",
    "model.save_model(\"model_filename.ftz\")"
   ]
  },
  {
   "cell_type": "code",
   "execution_count": null,
   "metadata": {},
   "outputs": [],
   "source": []
  },
  {
   "cell_type": "markdown",
   "metadata": {},
   "source": [
    "## **1 Naver Link 목록**\n",
    "OpenAPI 로 수집한 결과값 저장된 목록 List 원본의 수정보완\n",
    "1. Naver OPEN API 결과 **Token 이 유효값인지** 확인 가능했다 (Oh!!)\n",
    "1. 네이버 블로그 목록만 정리한 DataBase 만들기\n",
    "1. 목록을 4개로 나워서 2개의 서버에서 돌리며 저장하기"
   ]
  },
  {
   "cell_type": "code",
   "execution_count": 3,
   "metadata": {},
   "outputs": [
    {
     "data": {
      "text/html": [
       "<div>\n",
       "<style scoped>\n",
       "    .dataframe tbody tr th:only-of-type {\n",
       "        vertical-align: middle;\n",
       "    }\n",
       "\n",
       "    .dataframe tbody tr th {\n",
       "        vertical-align: top;\n",
       "    }\n",
       "\n",
       "    .dataframe thead th {\n",
       "        text-align: right;\n",
       "    }\n",
       "</style>\n",
       "<table border=\"1\" class=\"dataframe\">\n",
       "  <thead>\n",
       "    <tr style=\"text-align: right;\">\n",
       "      <th></th>\n",
       "      <th>Query</th>\n",
       "      <th>Posts</th>\n",
       "    </tr>\n",
       "  </thead>\n",
       "  <tbody>\n",
       "    <tr>\n",
       "      <th>0</th>\n",
       "      <td>가슴살_계란_닭_장조림</td>\n",
       "      <td>반찬 볶음 조림.부드러운 닭가슴살 장조림 만들기.베리츄..2017.9.1.22 32...</td>\n",
       "    </tr>\n",
       "    <tr>\n",
       "      <th>1</th>\n",
       "      <td>간장_불고기_제육_파채</td>\n",
       "      <td>오늘의 식탁.[반조리 밥아저씨] 12월 12일 식탁 버섯제육간장불고기 파채 감자고추...</td>\n",
       "    </tr>\n",
       "    <tr>\n",
       "      <th>2</th>\n",
       "      <td>감자_국_수제비</td>\n",
       "      <td>나의이야기.아침에 먹고 남은 감자국으로 수제비 만드는법 하기 위해 수제비 반죽만들기...</td>\n",
       "    </tr>\n",
       "  </tbody>\n",
       "</table>\n",
       "</div>"
      ],
      "text/plain": [
       "          Query                                              Posts\n",
       "0  가슴살_계란_닭_장조림  반찬 볶음 조림.부드러운 닭가슴살 장조림 만들기.베리츄..2017.9.1.22 32...\n",
       "1  간장_불고기_제육_파채  오늘의 식탁.[반조리 밥아저씨] 12월 12일 식탁 버섯제육간장불고기 파채 감자고추...\n",
       "2      감자_국_수제비  나의이야기.아침에 먹고 남은 감자국으로 수제비 만드는법 하기 위해 수제비 반죽만들기..."
      ]
     },
     "execution_count": 3,
     "metadata": {},
     "output_type": "execute_result"
    }
   ],
   "source": [
    "import pandas as pd\n",
    "df = pd.read_csv('data/naver_posts_sample.csv')\n",
    "df.head(3)"
   ]
  },
  {
   "cell_type": "code",
   "execution_count": 14,
   "metadata": {},
   "outputs": [
    {
     "name": "stdout",
     "output_type": "stream",
     "text": [
      "86\n"
     ]
    },
    {
     "data": {
      "text/plain": [
       "(None,\n",
       " '가슴살 간장 감자 강정 겉절이 계란 계란말이 고추 고추장 골뱅이 국 굴 김치 깨 꼬치 꽃게 너비아니 달래 닭 데리야끼 도라지생채 돈 돈육 된장국 두부 들깨 떡국 만두 매콤 무 무침 물 미나리 미소 미역 버섯 볶음 부추 불고기 브로콜리 사골 사태 상추 새송이 새우젓 샐러드 소고기 소스 수제비 순두부 시금치나물 야채 양상추 양파 어묵 엿 오이 오징어 우동 유자 장국 장조림 장포 적 제육 조림 짬뽕 찜 찹쌀 채 채소 청경채 초무침 치어 치즈 칠리 콩나물 탕 탕수 파채 팽이 해물탕 햄 황도 후랑크 후르츠')"
      ]
     },
     "execution_count": 14,
     "metadata": {},
     "output_type": "execute_result"
    }
   ],
   "source": [
    "querys = sorted(list(set(\"_\".join(df.Query.tolist()).split(\"_\"))))\n",
    "print(len(querys)), \" \".join(querys)"
   ]
  },
  {
   "cell_type": "code",
   "execution_count": null,
   "metadata": {},
   "outputs": [],
   "source": []
  },
  {
   "cell_type": "markdown",
   "metadata": {},
   "source": [
    "## **1 Naver Link 목록**\n",
    "OpenAPI 로 수집한 결과값 저장된 목록 List 원본의 수정보완\n",
    "1. Naver OPEN API 결과 **Token 이 유효값인지** 확인 가능했다 (Oh!!)\n",
    "1. 네이버 블로그 목록만 정리한 DataBase 만들기\n",
    "1. 목록을 4개로 나워서 2개의 서버에서 돌리며 저장하기"
   ]
  },
  {
   "cell_type": "code",
   "execution_count": null,
   "metadata": {},
   "outputs": [],
   "source": []
  }
 ],
 "metadata": {
  "kernelspec": {
   "display_name": "Python 3",
   "language": "python",
   "name": "python3"
  },
  "language_info": {
   "codemirror_mode": {
    "name": "ipython",
    "version": 3
   },
   "file_extension": ".py",
   "mimetype": "text/x-python",
   "name": "python",
   "nbconvert_exporter": "python",
   "pygments_lexer": "ipython3",
   "version": "3.6.3"
  }
 },
 "nbformat": 4,
 "nbformat_minor": 4
}
