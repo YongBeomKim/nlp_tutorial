{
 "cells": [
  {
   "cell_type": "markdown",
   "metadata": {},
   "source": [
    "# **인스타그램 크롤러**\n",
    "1. **[InstaGram Developer Document](https://www.instagram.com/developer/embedding/)**\n",
    "1. **[InstaGram API Crawler](https://github.com/selviany31/python-crawling-instagram/blob/master/Crawlinsta%20(1).ipynb)**\n",
    "1. **[requests Headers](https://minwoo2815.tistory.com/entry/Python-requests%EB%A5%BC-%EC%9D%B4%EC%9A%A9%ED%95%B4-%EB%94%94%EC%8B%9C%EC%9D%B8%EC%82%AC%EC%9D%B4%EB%93%9C-%EB%A1%9C%EA%B7%B8%EC%9D%B8%ED%95%98%EA%B8%B0)**"
   ]
  },
  {
   "cell_type": "markdown",
   "metadata": {},
   "source": [
    "<br/>\n",
    "\n",
    "# **1 Instagram 크롤링 모듈**\n",
    "## **01 기본 모듈을 활용한 인스타 크롤러**\n",
    "instagram Crawler"
   ]
  },
  {
   "cell_type": "code",
   "execution_count": 1,
   "metadata": {},
   "outputs": [],
   "source": [
    "import requests, time, json, random\n",
    "from tqdm import tqdm\n",
    "\n",
    "# Instagram Hashtag 기준 크롤링\n",
    "class InstaCrawler:\n",
    "\n",
    "    def __init__(self):\n",
    "        self.url = \"https://www.instagram.com/explore/tags/{0}/?__a=1&max_id={1}\"\n",
    "        self.headers = [\n",
    "            \"Mozilla/5.0 (Windows NT 6.1; Win64; x64; rv:47.0) Gecko/20100101 Firefox/47.0\",\n",
    "            \"Mozilla/5.0 (Macintosh; Intel Mac OS X x.y; rv:42.0) Gecko/20100101 Firefox/42.0\",\n",
    "            \"Opera/9.80 (Macintosh; Intel Mac OS X; U; en) Presto/2.2.15 Version/10.00\",\n",
    "            \"Opera/9.60 (Windows NT 6.0; U; en) Presto/2.1.1\",\n",
    "            \"Mozilla/5.0 (X11; Linux x86_64) AppleWebKit/537.36 (KHTML, like Gecko) Chrome/77.0.3865.90 Safari/537.36\",\n",
    "            \"Mozilla/5.0 (iPhone; CPU iPhone OS 10_3_1 like Mac OS X) AppleWebKit/603.1.30 (KHTML, like Gecko) Version/10.0 Mobile/14E304 Safari/602.1\",\n",
    "            \"Mozilla/5.0 (compatible; MSIE 9.0; Windows Phone OS 7.5; Trident/5.0; IEMobile/9.0)\",\n",
    "        ]\n",
    "        \n",
    "    def to_json(self, tag, page_count=2, sleep_sec=1.5):\n",
    "        r\"\"\"Instagram Craling to JSON\n",
    "        :param tag: 수집할 Hash Tag\n",
    "        :param page_count: 수집 Page 순서\n",
    "        :param sleep_sec: 수집 Robot 을 피하기 위한 delay time\n",
    "        \"\"\"\n",
    "        result = []\n",
    "        header = {'User-Agent':self.headers[random.randint(0, len(self.headers)-1)]}\n",
    "        for i in tqdm(range(0, page_count)):\n",
    "            url  = self.url.format(tag, '')\n",
    "            resp = requests.get(url, headers = header).text\n",
    "            data = json.loads(resp)['graphql']['hashtag']['edge_hashtag_to_media']['edges']\n",
    "            for item in data:\n",
    "                result.append(item['node'])\n",
    "            time.sleep(sleep_sec) # insurence to not reach a time limit\n",
    "        return result"
   ]
  },
  {
   "cell_type": "markdown",
   "metadata": {},
   "source": [
    "## **02 인스타 크롤러를 활용한 데이터 수집**\n",
    "수집결과 살펴보기\n",
    "1. requests => **Json**\n",
    "1. Json => **pandas.DataFrame**"
   ]
  },
  {
   "cell_type": "code",
   "execution_count": 2,
   "metadata": {},
   "outputs": [
    {
     "name": "stderr",
     "output_type": "stream",
     "text": [
      "100%|██████████| 1/1 [00:03<00:00,  3.23s/it]\n"
     ]
    },
    {
     "data": {
      "text/plain": [
       "72"
      ]
     },
     "execution_count": 2,
     "metadata": {},
     "output_type": "execute_result"
    }
   ],
   "source": [
    "data = InstaCrawler().to_json('구내식당', page_count=1)\n",
    "len(data)"
   ]
  },
  {
   "cell_type": "code",
   "execution_count": 3,
   "metadata": {},
   "outputs": [
    {
     "data": {
      "text/html": [
       "<div>\n",
       "<style scoped>\n",
       "    .dataframe tbody tr th:only-of-type {\n",
       "        vertical-align: middle;\n",
       "    }\n",
       "\n",
       "    .dataframe tbody tr th {\n",
       "        vertical-align: top;\n",
       "    }\n",
       "\n",
       "    .dataframe thead th {\n",
       "        text-align: right;\n",
       "    }\n",
       "</style>\n",
       "<table border=\"1\" class=\"dataframe\">\n",
       "  <thead>\n",
       "    <tr style=\"text-align: right;\">\n",
       "      <th></th>\n",
       "      <th>comments_disabled</th>\n",
       "      <th>__typename</th>\n",
       "      <th>id</th>\n",
       "      <th>edge_media_to_caption</th>\n",
       "      <th>shortcode</th>\n",
       "      <th>edge_media_to_comment</th>\n",
       "      <th>taken_at_timestamp</th>\n",
       "      <th>dimensions</th>\n",
       "      <th>display_url</th>\n",
       "      <th>edge_liked_by</th>\n",
       "      <th>edge_media_preview_like</th>\n",
       "      <th>owner</th>\n",
       "      <th>thumbnail_src</th>\n",
       "      <th>thumbnail_resources</th>\n",
       "      <th>is_video</th>\n",
       "      <th>accessibility_caption</th>\n",
       "      <th>video_view_count</th>\n",
       "    </tr>\n",
       "  </thead>\n",
       "  <tbody>\n",
       "    <tr>\n",
       "      <th>0</th>\n",
       "      <td>False</td>\n",
       "      <td>GraphImage</td>\n",
       "      <td>2215372823789522357</td>\n",
       "      <td>{'edges': [{'node': {'text': '#월요일 #점심 #구내식당 #...</td>\n",
       "      <td>B6-ldh_B021</td>\n",
       "      <td>{'count': 0}</td>\n",
       "      <td>1578313042</td>\n",
       "      <td>{'height': 1080, 'width': 1080}</td>\n",
       "      <td>https://scontent-gmp1-1.cdninstagram.com/v/t51...</td>\n",
       "      <td>{'count': 3}</td>\n",
       "      <td>{'count': 3}</td>\n",
       "      <td>{'id': '1729999149'}</td>\n",
       "      <td>https://scontent-gmp1-1.cdninstagram.com/v/t51...</td>\n",
       "      <td>[{'src': 'https://scontent-gmp1-1.cdninstagram...</td>\n",
       "      <td>False</td>\n",
       "      <td>Image may contain: food</td>\n",
       "      <td>NaN</td>\n",
       "    </tr>\n",
       "    <tr>\n",
       "      <th>1</th>\n",
       "      <td>False</td>\n",
       "      <td>GraphSidecar</td>\n",
       "      <td>2215371089362825399</td>\n",
       "      <td>{'edges': [{'node': {'text': '.\\n아이들과 자주 가는 도서...</td>\n",
       "      <td>B6-lESrJDC3</td>\n",
       "      <td>{'count': 0}</td>\n",
       "      <td>1578312835</td>\n",
       "      <td>{'height': 1080, 'width': 1080}</td>\n",
       "      <td>https://scontent-gmp1-1.cdninstagram.com/v/t51...</td>\n",
       "      <td>{'count': 1}</td>\n",
       "      <td>{'count': 1}</td>\n",
       "      <td>{'id': '1786524157'}</td>\n",
       "      <td>https://scontent-gmp1-1.cdninstagram.com/v/t51...</td>\n",
       "      <td>[{'src': 'https://scontent-gmp1-1.cdninstagram...</td>\n",
       "      <td>False</td>\n",
       "      <td>Image may contain: one or more people</td>\n",
       "      <td>NaN</td>\n",
       "    </tr>\n",
       "    <tr>\n",
       "      <th>2</th>\n",
       "      <td>False</td>\n",
       "      <td>GraphSidecar</td>\n",
       "      <td>2215364035381511097</td>\n",
       "      <td>{'edges': [{'node': {'text': '#한화푸디스트 #한화코스콤점 ...</td>\n",
       "      <td>B6-jdpJF0O5</td>\n",
       "      <td>{'count': 0}</td>\n",
       "      <td>1578311994</td>\n",
       "      <td>{'height': 774, 'width': 1080}</td>\n",
       "      <td>https://scontent-gmp1-1.cdninstagram.com/v/t51...</td>\n",
       "      <td>{'count': 0}</td>\n",
       "      <td>{'count': 0}</td>\n",
       "      <td>{'id': '26320520115'}</td>\n",
       "      <td>https://scontent-gmp1-1.cdninstagram.com/v/t51...</td>\n",
       "      <td>[{'src': 'https://scontent-gmp1-1.cdninstagram...</td>\n",
       "      <td>False</td>\n",
       "      <td>Image may contain: food</td>\n",
       "      <td>NaN</td>\n",
       "    </tr>\n",
       "  </tbody>\n",
       "</table>\n",
       "</div>"
      ],
      "text/plain": [
       "   comments_disabled    __typename                   id  \\\n",
       "0              False    GraphImage  2215372823789522357   \n",
       "1              False  GraphSidecar  2215371089362825399   \n",
       "2              False  GraphSidecar  2215364035381511097   \n",
       "\n",
       "                               edge_media_to_caption    shortcode  \\\n",
       "0  {'edges': [{'node': {'text': '#월요일 #점심 #구내식당 #...  B6-ldh_B021   \n",
       "1  {'edges': [{'node': {'text': '.\\n아이들과 자주 가는 도서...  B6-lESrJDC3   \n",
       "2  {'edges': [{'node': {'text': '#한화푸디스트 #한화코스콤점 ...  B6-jdpJF0O5   \n",
       "\n",
       "  edge_media_to_comment  taken_at_timestamp                       dimensions  \\\n",
       "0          {'count': 0}          1578313042  {'height': 1080, 'width': 1080}   \n",
       "1          {'count': 0}          1578312835  {'height': 1080, 'width': 1080}   \n",
       "2          {'count': 0}          1578311994   {'height': 774, 'width': 1080}   \n",
       "\n",
       "                                         display_url edge_liked_by  \\\n",
       "0  https://scontent-gmp1-1.cdninstagram.com/v/t51...  {'count': 3}   \n",
       "1  https://scontent-gmp1-1.cdninstagram.com/v/t51...  {'count': 1}   \n",
       "2  https://scontent-gmp1-1.cdninstagram.com/v/t51...  {'count': 0}   \n",
       "\n",
       "  edge_media_preview_like                  owner  \\\n",
       "0            {'count': 3}   {'id': '1729999149'}   \n",
       "1            {'count': 1}   {'id': '1786524157'}   \n",
       "2            {'count': 0}  {'id': '26320520115'}   \n",
       "\n",
       "                                       thumbnail_src  \\\n",
       "0  https://scontent-gmp1-1.cdninstagram.com/v/t51...   \n",
       "1  https://scontent-gmp1-1.cdninstagram.com/v/t51...   \n",
       "2  https://scontent-gmp1-1.cdninstagram.com/v/t51...   \n",
       "\n",
       "                                 thumbnail_resources  is_video  \\\n",
       "0  [{'src': 'https://scontent-gmp1-1.cdninstagram...     False   \n",
       "1  [{'src': 'https://scontent-gmp1-1.cdninstagram...     False   \n",
       "2  [{'src': 'https://scontent-gmp1-1.cdninstagram...     False   \n",
       "\n",
       "                   accessibility_caption  video_view_count  \n",
       "0                Image may contain: food               NaN  \n",
       "1  Image may contain: one or more people               NaN  \n",
       "2                Image may contain: food               NaN  "
      ]
     },
     "execution_count": 3,
     "metadata": {},
     "output_type": "execute_result"
    }
   ],
   "source": [
    "import pandas as pd\n",
    "df = pd.DataFrame(data)\n",
    "# print(df.head(1))\n",
    "df.head(3)"
   ]
  },
  {
   "cell_type": "markdown",
   "metadata": {},
   "source": [
    "<br/>\n",
    "\n",
    "# **2 데이터 수집필드 전처리**\n",
    "\n",
    "## **01 taken_at_timestamp 의 시간데이터 전처리**\n",
    "**[Timestamp to DataTime](https://stackoverflow.com/questions/9744775/how-to-convert-integer-timestamp-to-python-datetime)**"
   ]
  },
  {
   "cell_type": "code",
   "execution_count": 4,
   "metadata": {},
   "outputs": [
    {
     "data": {
      "text/plain": [
       "'2020/01/06 21:17:22'"
      ]
     },
     "execution_count": 4,
     "metadata": {},
     "output_type": "execute_result"
    }
   ],
   "source": [
    "# taken_at_timestamp 컬럼 time 데이터\n",
    "import datetime\n",
    "# your_timestamp = 1331856000000 / 1e3\n",
    "# your_timestamp = 1577965148\n",
    "your_timestamp = df.taken_at_timestamp[0]\n",
    "date_ = datetime.datetime.fromtimestamp(your_timestamp)\n",
    "date_.strftime('%Y/%m/%d %H:%M:%S')"
   ]
  },
  {
   "cell_type": "markdown",
   "metadata": {},
   "source": [
    "## **02 shortcode 의 썸네일 수집**\n",
    "**[Image Download by requests](https://stackoverflow.com/questions/50948061/how-to-save-or-download-an-image-that-i-get-in-a-request-python)**"
   ]
  },
  {
   "cell_type": "code",
   "execution_count": 18,
   "metadata": {},
   "outputs": [
    {
     "data": {
      "image/jpeg": "[encoded data removed]",
      "text/plain": [
       "<IPython.core.display.Image object>"
      ]
     },
     "execution_count": 18,
     "metadata": {},
     "output_type": "execute_result"
    }
   ],
   "source": [
    "# shortcode 컬럼 데이터\n",
    "import requests\n",
    "# _id = \"B60N6ADls-6\"\n",
    "_id = df.shortcode[0]\n",
    "url = f'https://www.instagram.com/p/{_id}/media'\n",
    "Picture_request = requests.get(url)\n",
    "\n",
    "from IPython.display import Image\n",
    "if Picture_request.status_code == 200:\n",
    "    with open(\"lime.jpg\", 'wb') as f:\n",
    "        f.write(Picture_request.content)\n",
    "    data_img = Picture_request.content\n",
    "\n",
    "Image(data=data_img) # Image(filename='image.jpg') "
   ]
  },
  {
   "cell_type": "markdown",
   "metadata": {},
   "source": [
    "## **03 edge_media_to_caption 의 HASH TAG 수집**\n",
    "**[Image Download by requests](https://stackoverflow.com/questions/50948061/how-to-save-or-download-an-image-that-i-get-in-a-request-python)**"
   ]
  },
  {
   "cell_type": "code",
   "execution_count": 6,
   "metadata": {},
   "outputs": [
    {
     "data": {
      "text/plain": [
       "'#월요일 #점심 #구내식당 #된장열무비빔밥'"
      ]
     },
     "execution_count": 6,
     "metadata": {},
     "output_type": "execute_result"
    }
   ],
   "source": [
    "# Hash Tag\n",
    "df.edge_media_to_caption[0]['edges'][0]['node']['text']#.split('#')"
   ]
  },
  {
   "cell_type": "markdown",
   "metadata": {},
   "source": [
    "## **04 'User Id'**  to  **'User Name'**\n",
    "**[Image Download by requests](https://stackoverflow.com/questions/50948061/how-to-save-or-download-an-image-that-i-get-in-a-request-python)**"
   ]
  },
  {
   "cell_type": "code",
   "execution_count": 7,
   "metadata": {},
   "outputs": [
    {
     "data": {
      "text/plain": [
       "'https://i.instagram.com/api/v1/users/6025763784/info/'"
      ]
     },
     "execution_count": 7,
     "metadata": {},
     "output_type": "execute_result"
    }
   ],
   "source": [
    "header = {'User-Agent':\"Mozilla/5.0 (Windows NT 6.1; Win64; x64; rv:47.0) Gecko/20100101 Firefox/47.0\"}\n",
    "user_id = '6025763784'\n",
    "url = f\"https://i.instagram.com/api/v1/users/{user_id}/info/\"\n",
    "url"
   ]
  },
  {
   "cell_type": "code",
   "execution_count": 8,
   "metadata": {},
   "outputs": [
    {
     "data": {
      "text/plain": [
       "'{\"message\": \"useragent mismatch\", \"status\": \"fail\"}'"
      ]
     },
     "execution_count": 8,
     "metadata": {},
     "output_type": "execute_result"
    }
   ],
   "source": [
    "requests.get(url, headers=header).text"
   ]
  },
  {
   "cell_type": "code",
   "execution_count": 9,
   "metadata": {},
   "outputs": [
    {
     "data": {
      "text/plain": [
       "comments_disabled                                                      False\n",
       "__typename                                                        GraphImage\n",
       "id                                                       2215372823789522357\n",
       "edge_media_to_caption      {'edges': [{'node': {'text': '#월요일 #점심 #구내식당 #...\n",
       "shortcode                                                        B6-ldh_B021\n",
       "edge_media_to_comment                                           {'count': 0}\n",
       "taken_at_timestamp                                                1578313042\n",
       "dimensions                                   {'height': 1080, 'width': 1080}\n",
       "display_url                https://scontent-gmp1-1.cdninstagram.com/v/t51...\n",
       "edge_liked_by                                                   {'count': 3}\n",
       "edge_media_preview_like                                         {'count': 3}\n",
       "owner                                                   {'id': '1729999149'}\n",
       "thumbnail_src              https://scontent-gmp1-1.cdninstagram.com/v/t51...\n",
       "thumbnail_resources        [{'src': 'https://scontent-gmp1-1.cdninstagram...\n",
       "is_video                                                               False\n",
       "accessibility_caption                                Image may contain: food\n",
       "video_view_count                                                         NaN\n",
       "Name: 0, dtype: object"
      ]
     },
     "execution_count": 9,
     "metadata": {},
     "output_type": "execute_result"
    }
   ],
   "source": [
    "df.loc[0]"
   ]
  },
  {
   "cell_type": "code",
   "execution_count": 10,
   "metadata": {},
   "outputs": [
    {
     "data": {
      "text/plain": [
       "{'Image may contain: dessert, drink and food',\n",
       " 'Image may contain: food',\n",
       " 'Image may contain: food and indoor',\n",
       " 'Image may contain: indoor',\n",
       " 'Image may contain: one or more people',\n",
       " 'Image may contain: people sitting, table, food and indoor',\n",
       " nan}"
      ]
     },
     "execution_count": 10,
     "metadata": {},
     "output_type": "execute_result"
    }
   ],
   "source": [
    "set(df.accessibility_caption )"
   ]
  },
  {
   "cell_type": "markdown",
   "metadata": {},
   "source": [
    "<br/>\n",
    "\n",
    "# **3 수집결과 마무리 함수로 적용**\n",
    "\n",
    "## **1 위에서 전처리 내용을 함수로 적용**"
   ]
  },
  {
   "cell_type": "code",
   "execution_count": 14,
   "metadata": {},
   "outputs": [
    {
     "data": {
      "text/html": [
       "<div>\n",
       "<style scoped>\n",
       "    .dataframe tbody tr th:only-of-type {\n",
       "        vertical-align: middle;\n",
       "    }\n",
       "\n",
       "    .dataframe tbody tr th {\n",
       "        vertical-align: top;\n",
       "    }\n",
       "\n",
       "    .dataframe thead th {\n",
       "        text-align: right;\n",
       "    }\n",
       "</style>\n",
       "<table border=\"1\" class=\"dataframe\">\n",
       "  <thead>\n",
       "    <tr style=\"text-align: right;\">\n",
       "      <th></th>\n",
       "      <th>comments_disabled</th>\n",
       "      <th>__typename</th>\n",
       "      <th>id</th>\n",
       "      <th>edge_media_to_caption</th>\n",
       "      <th>shortcode</th>\n",
       "      <th>edge_media_to_comment</th>\n",
       "      <th>taken_at_timestamp</th>\n",
       "      <th>dimensions</th>\n",
       "      <th>display_url</th>\n",
       "      <th>edge_liked_by</th>\n",
       "      <th>edge_media_preview_like</th>\n",
       "      <th>owner</th>\n",
       "      <th>thumbnail_src</th>\n",
       "      <th>thumbnail_resources</th>\n",
       "      <th>is_video</th>\n",
       "      <th>accessibility_caption</th>\n",
       "      <th>video_view_count</th>\n",
       "    </tr>\n",
       "  </thead>\n",
       "  <tbody>\n",
       "    <tr>\n",
       "      <th>0</th>\n",
       "      <td>False</td>\n",
       "      <td>GraphImage</td>\n",
       "      <td>2215372823789522357</td>\n",
       "      <td>{'edges': [{'node': {'text': '#월요일 #점심 #구내식당 #...</td>\n",
       "      <td>B6-ldh_B021</td>\n",
       "      <td>{'count': 0}</td>\n",
       "      <td>1578313042</td>\n",
       "      <td>{'height': 1080, 'width': 1080}</td>\n",
       "      <td>https://scontent-gmp1-1.cdninstagram.com/v/t51...</td>\n",
       "      <td>{'count': 3}</td>\n",
       "      <td>{'count': 3}</td>\n",
       "      <td>{'id': '1729999149'}</td>\n",
       "      <td>https://scontent-gmp1-1.cdninstagram.com/v/t51...</td>\n",
       "      <td>[{'src': 'https://scontent-gmp1-1.cdninstagram...</td>\n",
       "      <td>False</td>\n",
       "      <td>Image may contain: food</td>\n",
       "      <td>NaN</td>\n",
       "    </tr>\n",
       "    <tr>\n",
       "      <th>1</th>\n",
       "      <td>False</td>\n",
       "      <td>GraphSidecar</td>\n",
       "      <td>2215371089362825399</td>\n",
       "      <td>{'edges': [{'node': {'text': '.\\n아이들과 자주 가는 도서...</td>\n",
       "      <td>B6-lESrJDC3</td>\n",
       "      <td>{'count': 0}</td>\n",
       "      <td>1578312835</td>\n",
       "      <td>{'height': 1080, 'width': 1080}</td>\n",
       "      <td>https://scontent-gmp1-1.cdninstagram.com/v/t51...</td>\n",
       "      <td>{'count': 1}</td>\n",
       "      <td>{'count': 1}</td>\n",
       "      <td>{'id': '1786524157'}</td>\n",
       "      <td>https://scontent-gmp1-1.cdninstagram.com/v/t51...</td>\n",
       "      <td>[{'src': 'https://scontent-gmp1-1.cdninstagram...</td>\n",
       "      <td>False</td>\n",
       "      <td>Image may contain: one or more people</td>\n",
       "      <td>NaN</td>\n",
       "    </tr>\n",
       "    <tr>\n",
       "      <th>2</th>\n",
       "      <td>False</td>\n",
       "      <td>GraphSidecar</td>\n",
       "      <td>2215364035381511097</td>\n",
       "      <td>{'edges': [{'node': {'text': '#한화푸디스트 #한화코스콤점 ...</td>\n",
       "      <td>B6-jdpJF0O5</td>\n",
       "      <td>{'count': 0}</td>\n",
       "      <td>1578311994</td>\n",
       "      <td>{'height': 774, 'width': 1080}</td>\n",
       "      <td>https://scontent-gmp1-1.cdninstagram.com/v/t51...</td>\n",
       "      <td>{'count': 0}</td>\n",
       "      <td>{'count': 0}</td>\n",
       "      <td>{'id': '26320520115'}</td>\n",
       "      <td>https://scontent-gmp1-1.cdninstagram.com/v/t51...</td>\n",
       "      <td>[{'src': 'https://scontent-gmp1-1.cdninstagram...</td>\n",
       "      <td>False</td>\n",
       "      <td>Image may contain: food</td>\n",
       "      <td>NaN</td>\n",
       "    </tr>\n",
       "  </tbody>\n",
       "</table>\n",
       "</div>"
      ],
      "text/plain": [
       "   comments_disabled    __typename                   id  \\\n",
       "0              False    GraphImage  2215372823789522357   \n",
       "1              False  GraphSidecar  2215371089362825399   \n",
       "2              False  GraphSidecar  2215364035381511097   \n",
       "\n",
       "                               edge_media_to_caption    shortcode  \\\n",
       "0  {'edges': [{'node': {'text': '#월요일 #점심 #구내식당 #...  B6-ldh_B021   \n",
       "1  {'edges': [{'node': {'text': '.\\n아이들과 자주 가는 도서...  B6-lESrJDC3   \n",
       "2  {'edges': [{'node': {'text': '#한화푸디스트 #한화코스콤점 ...  B6-jdpJF0O5   \n",
       "\n",
       "  edge_media_to_comment  taken_at_timestamp                       dimensions  \\\n",
       "0          {'count': 0}          1578313042  {'height': 1080, 'width': 1080}   \n",
       "1          {'count': 0}          1578312835  {'height': 1080, 'width': 1080}   \n",
       "2          {'count': 0}          1578311994   {'height': 774, 'width': 1080}   \n",
       "\n",
       "                                         display_url edge_liked_by  \\\n",
       "0  https://scontent-gmp1-1.cdninstagram.com/v/t51...  {'count': 3}   \n",
       "1  https://scontent-gmp1-1.cdninstagram.com/v/t51...  {'count': 1}   \n",
       "2  https://scontent-gmp1-1.cdninstagram.com/v/t51...  {'count': 0}   \n",
       "\n",
       "  edge_media_preview_like                  owner  \\\n",
       "0            {'count': 3}   {'id': '1729999149'}   \n",
       "1            {'count': 1}   {'id': '1786524157'}   \n",
       "2            {'count': 0}  {'id': '26320520115'}   \n",
       "\n",
       "                                       thumbnail_src  \\\n",
       "0  https://scontent-gmp1-1.cdninstagram.com/v/t51...   \n",
       "1  https://scontent-gmp1-1.cdninstagram.com/v/t51...   \n",
       "2  https://scontent-gmp1-1.cdninstagram.com/v/t51...   \n",
       "\n",
       "                                 thumbnail_resources  is_video  \\\n",
       "0  [{'src': 'https://scontent-gmp1-1.cdninstagram...     False   \n",
       "1  [{'src': 'https://scontent-gmp1-1.cdninstagram...     False   \n",
       "2  [{'src': 'https://scontent-gmp1-1.cdninstagram...     False   \n",
       "\n",
       "                   accessibility_caption  video_view_count  \n",
       "0                Image may contain: food               NaN  \n",
       "1  Image may contain: one or more people               NaN  \n",
       "2                Image may contain: food               NaN  "
      ]
     },
     "execution_count": 14,
     "metadata": {},
     "output_type": "execute_result"
    }
   ],
   "source": [
    "import pandas as pd\n",
    "df = pd.DataFrame(data)\n",
    "df = df[df.is_video==False]\n",
    "# print(df.head(1))\n",
    "df.head(3)"
   ]
  },
  {
   "cell_type": "code",
   "execution_count": 15,
   "metadata": {},
   "outputs": [
    {
     "data": {
      "text/plain": [
       "Index(['comments_disabled', '__typename', 'id', 'edge_media_to_caption',\n",
       "       'shortcode', 'edge_media_to_comment', 'taken_at_timestamp',\n",
       "       'dimensions', 'display_url', 'edge_liked_by', 'edge_media_preview_like',\n",
       "       'owner', 'thumbnail_src', 'thumbnail_resources', 'is_video',\n",
       "       'accessibility_caption', 'video_view_count'],\n",
       "      dtype='object')"
      ]
     },
     "execution_count": 15,
     "metadata": {},
     "output_type": "execute_result"
    }
   ],
   "source": [
    "df.columns"
   ]
  },
  {
   "cell_type": "code",
   "execution_count": 17,
   "metadata": {},
   "outputs": [
    {
     "data": {
      "text/plain": [
       "{'Image may contain: dessert, drink and food',\n",
       " 'Image may contain: food',\n",
       " 'Image may contain: food and indoor',\n",
       " 'Image may contain: indoor',\n",
       " 'Image may contain: one or more people',\n",
       " 'Image may contain: people sitting, table, food and indoor'}"
      ]
     },
     "execution_count": 17,
     "metadata": {},
     "output_type": "execute_result"
    }
   ],
   "source": [
    "set(df.accessibility_caption)"
   ]
  },
  {
   "cell_type": "code",
   "execution_count": 12,
   "metadata": {},
   "outputs": [
    {
     "data": {
      "text/html": [
       "<div>\n",
       "<style scoped>\n",
       "    .dataframe tbody tr th:only-of-type {\n",
       "        vertical-align: middle;\n",
       "    }\n",
       "\n",
       "    .dataframe tbody tr th {\n",
       "        vertical-align: top;\n",
       "    }\n",
       "\n",
       "    .dataframe thead th {\n",
       "        text-align: right;\n",
       "    }\n",
       "</style>\n",
       "<table border=\"1\" class=\"dataframe\">\n",
       "  <thead>\n",
       "    <tr style=\"text-align: right;\">\n",
       "      <th></th>\n",
       "      <th>timestamp</th>\n",
       "      <th>owner_id</th>\n",
       "      <th>hashtag</th>\n",
       "      <th>like</th>\n",
       "      <th>like_media</th>\n",
       "      <th>image_src</th>\n",
       "    </tr>\n",
       "  </thead>\n",
       "  <tbody>\n",
       "    <tr>\n",
       "      <th>0</th>\n",
       "      <td>2020-01-06 21:17:22</td>\n",
       "      <td>1729999149</td>\n",
       "      <td>#월요일 #점심 #구내식당 #된장열무비빔밥</td>\n",
       "      <td>3</td>\n",
       "      <td>3</td>\n",
       "      <td>https://scontent-gmp1-1.cdninstagram.com/v/t51...</td>\n",
       "    </tr>\n",
       "    <tr>\n",
       "      <th>1</th>\n",
       "      <td>2020-01-06 21:13:55</td>\n",
       "      <td>1786524157</td>\n",
       "      <td>.\\n아이들과 자주 가는 도서관!\\n책만 빌려서 갔는데 이번 주말은 2층 열람실에서...</td>\n",
       "      <td>1</td>\n",
       "      <td>1</td>\n",
       "      <td>https://scontent-gmp1-1.cdninstagram.com/v/t51...</td>\n",
       "    </tr>\n",
       "    <tr>\n",
       "      <th>2</th>\n",
       "      <td>2020-01-06 20:59:54</td>\n",
       "      <td>26320520115</td>\n",
       "      <td>#한화푸디스트 #한화코스콤점 #푸디스트 #구내식당 A-#돈육두루치기 #온두부 B-#백짬뽕</td>\n",
       "      <td>0</td>\n",
       "      <td>0</td>\n",
       "      <td>https://scontent-gmp1-1.cdninstagram.com/v/t51...</td>\n",
       "    </tr>\n",
       "  </tbody>\n",
       "</table>\n",
       "</div>"
      ],
      "text/plain": [
       "            timestamp     owner_id  \\\n",
       "0 2020-01-06 21:17:22   1729999149   \n",
       "1 2020-01-06 21:13:55   1786524157   \n",
       "2 2020-01-06 20:59:54  26320520115   \n",
       "\n",
       "                                             hashtag  like  like_media  \\\n",
       "0                            #월요일 #점심 #구내식당 #된장열무비빔밥     3           3   \n",
       "1  .\\n아이들과 자주 가는 도서관!\\n책만 빌려서 갔는데 이번 주말은 2층 열람실에서...     1           1   \n",
       "2  #한화푸디스트 #한화코스콤점 #푸디스트 #구내식당 A-#돈육두루치기 #온두부 B-#백짬뽕     0           0   \n",
       "\n",
       "                                           image_src  \n",
       "0  https://scontent-gmp1-1.cdninstagram.com/v/t51...  \n",
       "1  https://scontent-gmp1-1.cdninstagram.com/v/t51...  \n",
       "2  https://scontent-gmp1-1.cdninstagram.com/v/t51...  "
      ]
     },
     "execution_count": 12,
     "metadata": {},
     "output_type": "execute_result"
    }
   ],
   "source": [
    "df = df.loc[:,['taken_at_timestamp','owner','edge_media_to_caption',\n",
    "       'edge_liked_by','edge_media_preview_like','thumbnail_src']] #,'accessibility_caption']]\n",
    "# Hash Tag\n",
    "# df.edge_media_to_caption[0]['edges'][0]['node']['text']#.split('#')\n",
    "df.edge_media_to_caption = list(map(\n",
    "    lambda x:x['edges'][0]['node']['text'], df.edge_media_to_caption))\n",
    "\n",
    "import datetime\n",
    "# your_timestamp = 1577965148\n",
    "# date_.strftime('%Y/%m/%d %H:%M:%S')\n",
    "df.taken_at_timestamp = list(map(\n",
    "    lambda x: datetime.datetime.fromtimestamp(x), df.taken_at_timestamp))                                 \n",
    "df.edge_liked_by = list(map(lambda x: int(x['count']) , df.edge_liked_by))\n",
    "df.owner = list(map(lambda x: str(x['id']), df.owner))\n",
    "\n",
    "df.edge_media_preview_like = list(map(lambda x: int(x['count']) , df.edge_media_preview_like))\n",
    "df.columns = ['timestamp', 'owner_id', 'hashtag', 'like', 'like_media', 'image_src']\n",
    "df.head(3)"
   ]
  },
  {
   "cell_type": "code",
   "execution_count": 13,
   "metadata": {},
   "outputs": [
    {
     "data": {
      "text/plain": [
       "'https://scontent-gmp1-1.cdninstagram.com/v/t51.2885-15/sh0.08/e35/s640x640/81548680_2479344425646626_6807616884589903896_n.jpg?_nc_ht=scontent-gmp1-1.cdninstagram.com&_nc_cat=102&_nc_ohc=IGiX-S9Fsr0AX9PAMeU&oh=99652cd7fb702f34d31013dc89293281&oe=5EA0FF00'"
      ]
     },
     "execution_count": 13,
     "metadata": {},
     "output_type": "execute_result"
    }
   ],
   "source": [
    "df.image_src[0]"
   ]
  },
  {
   "cell_type": "code",
   "execution_count": null,
   "metadata": {},
   "outputs": [],
   "source": []
  },
  {
   "cell_type": "code",
   "execution_count": null,
   "metadata": {},
   "outputs": [],
   "source": []
  },
  {
   "cell_type": "code",
   "execution_count": null,
   "metadata": {},
   "outputs": [],
   "source": []
  },
  {
   "cell_type": "code",
   "execution_count": 15,
   "metadata": {},
   "outputs": [
    {
     "data": {
      "text/plain": [
       "'https://scontent-gmp1-1.cdninstagram.com/v/t51.2885-15/sh0.08/e35/c135.0.810.810a/s640x640/82274999_466995814210551_1972245816389972429_n.jpg?_nc_ht=scontent-gmp1-1.cdninstagram.com&_nc_cat=103&_nc_ohc=ZDxlWmO42V4AX8Yl_dR&oh=1aca9d4375e09d5445e506d2d4f22507&oe=5EAD09EA'"
      ]
     },
     "execution_count": 15,
     "metadata": {},
     "output_type": "execute_result"
    }
   ],
   "source": [
    "df.image_src[0]"
   ]
  },
  {
   "cell_type": "code",
   "execution_count": 16,
   "metadata": {},
   "outputs": [
    {
     "data": {
      "text/plain": [
       "(72, 6)"
      ]
     },
     "execution_count": 16,
     "metadata": {},
     "output_type": "execute_result"
    }
   ],
   "source": [
    "df.shape"
   ]
  },
  {
   "cell_type": "code",
   "execution_count": 18,
   "metadata": {},
   "outputs": [
    {
     "name": "stdout",
     "output_type": "stream",
     "text": [
      "<class 'pandas.core.frame.DataFrame'>\n",
      "Int64Index: 72 entries, 0 to 71\n",
      "Data columns (total 6 columns):\n",
      "timestamp     72 non-null datetime64[ns]\n",
      "owner_id      72 non-null object\n",
      "hashtag       72 non-null object\n",
      "like          72 non-null int64\n",
      "like_media    72 non-null int64\n",
      "image_src     72 non-null object\n",
      "dtypes: datetime64[ns](1), int64(2), object(3)\n",
      "memory usage: 6.4+ KB\n"
     ]
    }
   ],
   "source": [
    "df.info()"
   ]
  },
  {
   "cell_type": "code",
   "execution_count": 20,
   "metadata": {},
   "outputs": [
    {
     "data": {
      "text/plain": [
       "'<table border=\"1\" class=\"dataframe\">\\n  <thead>\\n    <tr style=\"text-align: right;\">\\n      <th></th>\\n      <th>timestamp</th>\\n      <th>owner_id</th>\\n      <th>hashtag</th>\\n      <th>like</th>\\n      <th>like_media</th>\\n      <th>image_src</th>\\n    </tr>\\n  </thead>\\n  <tbody>\\n    <tr>\\n      <th>0</th>\\n      <td>2020-01-06 11:42:33</td>\\n      <td>5615822791</td>\\n      <td>0106(월)\\\\n묵은지와 닭의 환상궁합&gt;_&lt;\\\\n묵은지닭볶음탕입니다~~\\\\n맛있게드세요!</td>\\n      <td>4</td>\\n      <td>4</td>\\n      <td>https://scontent-gmp1-1.cdninstagram.com/v/t51.2885-15/sh0.08/e35/c135.0.810.810a/s640x640/82274999_466995814210551_1972245816389972429_n.jpg?_nc_ht=scontent-gmp1-1.cdninstagram.com&amp;_nc_cat=103&amp;_nc_ohc=ZDxlWmO42V4AX8Yl_dR&amp;oh=1aca9d4375e09d5445e506d2d4f22507&amp;oe=5EAD09EA</td>\\n    </tr>\\n    <tr>\\n      <th>1</th>\\n      <td>2020-01-06 11:38:34</td>\\n      <td>8924846629</td>\\n      <td>2020년 1월 6일 #행복한한식뷔페 #월요일점심메뉴 #닭갈비 #동그랑땡 #카레👍👍👍\\\\n.\\\\n.\\\\n#행복한한식뷔페에서 #맛있는 #점심 식사 하세요😄\\\\n.\\\\n.\\\\n#행복한한식뷔페는 #인천 #부평 #청천동 #갈산역 #갈산역4번출구지하1층 #부평우림라이온스밸리a동 #지하1층에 있습니다❤️\\\\n.\\\\n.\\\\n#행복한한식뷔페 #한식뷔페 #인천맛집 #부평맛집 #청천동맛집 #갈산역맛집 #갈산역4번출구 #부평우림라이온스밸리a동 #구내식당 #단체환 #장부가능 #식권판매 #현금시10+1 #5,000원</td>\\n      <td>4</td>\\n      <td>4</td>\\n      <td>https://scontent-gmp1-1.cdninstagram.com/v/t51.2885-15/sh0.08/e35/s640x640/79981030_159195845400957_2297744518343047215_n.jpg?_nc_ht=scontent-gmp1-1.cdninstagram.com&amp;_nc_cat=109&amp;_nc_ohc=uZMH3fa82UMAX8sWpw2&amp;oh=e21fcec2b4a2d3b39f35614d0731f249&amp;oe=5EA49445</td>\\n    </tr>\\n    <tr>\\n      <th>2</th>\\n      <td>2020-01-06 11:31:59</td>\\n      <td>22222693071</td>\\n      <td>오늘의 메뉴😎\\\\n\\\\n#베이컨토마토스파게티🍝 &amp; 마요네즈마늘빵🥖\\\\nVS # 된장찌개 &amp; 계란장조림🥚🥚\\\\n-\\\\n#풀무원푸드앤컬처#예금보험공사#구내식당#직원식당#영양사그램#급식스타그램#오늘뭐먹지#맛점#식판샷🍱</td>\\n      <td>4</td>\\n      <td>4</td>\\n      <td>https://scontent-gmp1-1.cdninstagram.com/v/t51.2885-15/sh0.08/e35/c0.0.1439.1439a/s640x640/79601211_974393889613895_1306723361942807902_n.jpg?_nc_ht=scontent-gmp1-1.cdninstagram.com&amp;_nc_cat=111&amp;_nc_ohc=dtIfa7dNP7EAX9fm3EZ&amp;oh=19bbe8283e21f75cc89ec0770fb5c794&amp;oe=5E9F1CDE</td>\\n    </tr>\\n    <tr>\\n      <th>3</th>\\n      <td>2020-01-06 11:28:29</td>\\n      <td>8598294231</td>\\n      <td>1월6일 중식\\\\n사골떡만두국,오징어초무침,한식잡채,숙주나물,포기김치,열무김치,미니밥,그린샐러드\\\\n#동원#동원홈푸드#급식스타그램#영양사그램#jw타워#서초구#남부터미널#구내식당#맛집#식당#단체급식#영양사#중식#jmt#존맛#먹스타그램#맛스타그램#맛점#사골떡만두국#오징어초무침#숙주나물#한식잡채</td>\\n      <td>3</td>\\n      <td>3</td>\\n      <td>https://scontent-gmp1-1.cdninstagram.com/v/t51.2885-15/sh0.08/e35/c135.0.810.810a/s640x640/79973707_144651970300544_7640586105877354009_n.jpg?_nc_ht=scontent-gmp1-1.cdninstagram.com&amp;_nc_cat=108&amp;_nc_ohc=uch21eTk46MAX-5oA5K&amp;oh=f6a7a50a65daf165859b1845ec6924d7&amp;oe=5EB487E6</td>\\n    </tr>\\n    <tr>\\n      <th>4</th>\\n      <td>2020-01-06 11:27:28</td>\\n      <td>1937947958</td>\\n      <td>❤️\\U0001f9e1💛💚💙💜\\\\n치즈김치볶음밥 &amp; 등심돈가스\\\\n.\\\\n. ⭐️원산지표시는 일일메뉴표에 게시합니다.⭐️\\\\n⠀\\\\n⠀\\\\n#서울대학교#예술계식당#음미대식당#맛집#오늘#뭐먹지#서울대맛집#서울대#snu#구내식당#학생식당#학식#급식#급식스타그램#아름드리#한화#한화푸디스트#한화호텔앤드리조트#푸디스트#foodist#영양사#맛스타그램#먹스타그램🍴</td>\\n      <td>2</td>\\n      <td>2</td>\\n      <td>https://scontent-gmp1-1.cdninstagram.com/v/t51.2885-15/sh0.08/e35/s640x640/81328039_657805581422394_8038733173571159810_n.jpg?_nc_ht=scontent-gmp1-1.cdninstagram.com&amp;_nc_cat=106&amp;_nc_ohc=GlThzleDf-0AX_SGmjw&amp;oh=f083b68c594db3fd62c29cbfd54da484&amp;oe=5EA40F56</td>\\n    </tr>\\n    <tr>\\n      <th>5</th>\\n      <td>2020-01-06 11:22:09</td>\\n      <td>1937947958</td>\\n      <td>❤️\\U0001f9e1💛💚💙💜\\\\n철판 제육불고기 &amp; 두부찜\\\\n.\\\\n. ⭐️원산지표시는 일일메뉴표에 게시합니다.⭐️\\\\n⠀\\\\n⠀\\\\n#서울대학교#예술계식당#음미대식당#맛집#오늘#뭐먹지#서울대맛집#서울대#snu#구내식당#학생식당#학식#급식#급식스타그램#아름드리#한화#한화푸디스트#한화호텔앤드리조트#푸디스트#foodist#영양사#맛스타그램#먹스타그램🍴</td>\\n      <td>2</td>\\n      <td>2</td>\\n      <td>https://scontent-gmp1-1.cdninstagram.com/v/t51.2885-15/sh0.08/e35/s640x640/79541573_477719919604020_2080060059715544998_n.jpg?_nc_ht=scontent-gmp1-1.cdninstagram.com&amp;_nc_cat=100&amp;_nc_ohc=LDqm19rbpW8AX_1yBQ4&amp;oh=390f2d1bd085eef149f0d52d6eb21276&amp;oe=5EAFFCA5</td>\\n    </tr>\\n    <tr>\\n      <th>6</th>\\n      <td>2020-01-06 11:21:02</td>\\n      <td>6926394507</td>\\n      <td>#원주#병원#오늘메뉴#식판샷#구내식당#급식#단체급식#food#lunch#급식스타그램#맛스타그램#메뉴#식단#식판#영양사#영양사그램#맛있다#맛있게드세요#쌀밥#삼겹살#김치찜#된장국#가지나물#두부구이#파래무침</td>\\n      <td>1</td>\\n      <td>1</td>\\n      <td>https://scontent-gmp1-1.cdninstagram.com/v/t51.2885-15/sh0.08/e35/c201.0.1038.1038a/s640x640/79927291_2496405150577411_4768237788936219667_n.jpg?_nc_ht=scontent-gmp1-1.cdninstagram.com&amp;_nc_cat=107&amp;_nc_ohc=OB2vFpcDAncAX-Mlh9j&amp;oh=e62da5d05f94c02b18df921a3f490470&amp;oe=5EB39774</td>\\n    </tr>\\n    <tr>\\n      <th>7</th>\\n      <td>2020-01-06 11:18:52</td>\\n      <td>3045152548</td>\\n      <td>-\\\\n1월 6일 오늘의정식\\\\n.\\\\n돼지불고기, 보리새우무국, 섬초시금치나물, 콩나물무침, 두부조림, 물미역무침, 그리고 배추김치 입니다\\\\n.\\\\n점심 드시러 오세요\\\\n.\\\\n#구내식당 #어쩌다가게 #혼밥 #혼술 #반주 #밥집 #밥상 #한식 #반찬 #망원동 #망원시장 #망원동구내식당 #백반 #가정식 #koreanfood #hongdae #honbap #seoulfood #seoultrip #koreanhomecooking</td>\\n      <td>16</td>\\n      <td>16</td>\\n      <td>https://scontent-gmp1-1.cdninstagram.com/v/t51.2885-15/sh0.08/e35/s640x640/81151797_648240099313967_495622515501071402_n.jpg?_nc_ht=scontent-gmp1-1.cdninstagram.com&amp;_nc_cat=111&amp;_nc_ohc=ymQ8od9lC64AX9in9CE&amp;oh=13ff2394f274e411976bf54ad3d400c6&amp;oe=5E9C9136</td>\\n    </tr>\\n    <tr>\\n      <th>8</th>\\n      <td>2020-01-06 11:16:38</td>\\n      <td>8272589920</td>\\n      <td>#풀무원푸드앤컬처 #풀무원샵 #풀무원꾸러미 #사내진미 #이시아폴리스롯데아울렛 #이시아폴리스 #이시아맛집 #이시아폴리스 #4100원 #맛점 #구내식당 #단체급식\\\\n#직원식당 #학식 #점심 #주간식단표 #위탁급식 \\\\n#급식 #급식스타그램 #사내식당</td>\\n      <td>3</td>\\n      <td>3</td>\\n      <td>https://scontent-gmp1-1.cdninstagram.com/v/t51.2885-15/sh0.08/e35/c135.0.810.810a/s640x640/79812209_583256212462501_5203564351512001064_n.jpg?_nc_ht=scontent-gmp1-1.cdninstagram.com&amp;_nc_cat=101&amp;_nc_ohc=MN5nS5h5iOYAX9sML37&amp;oh=5c52723f54e9cc0259dc52ed3f911a96&amp;oe=5E9831D9</td>\\n    </tr>\\n    <tr>\\n      <th>9</th>\\n      <td>2020-01-06 11:06:46</td>\\n      <td>7987129970</td>\\n      <td>안녕하세요! 더존입니다\\U0001f970 오늘의 메뉴는 닭볶음탕과 꿔바로우입니다! 매콤한 닭볶음탕에 들깨향이 솔솔 고소함을 더하구요, 유자청이 들어간 소스랑 꿔바로우❤️ 말해뭐해😭😍😙 거기에 단호박크림파스타까지 준비되어있습니다!💌 많이들와서 드셔주세용</td>\\n      <td>5</td>\\n      <td>5</td>\\n      <td>https://scontent-gmp1-1.cdninstagram.com/v/t51.2885-15/e35/c90.0.540.540a/80549266_193257311855011_4411077688717533167_n.jpg?_nc_ht=scontent-gmp1-1.cdninstagram.com&amp;_nc_cat=107&amp;_nc_ohc=IkmpTXizExcAX9vXC7Z&amp;oh=8fb9ff1757102f3dbb78c872c98db856&amp;oe=5E91E1A8</td>\\n    </tr>\\n    <tr>\\n      <th>10</th>\\n      <td>2020-01-06 11:04:45</td>\\n      <td>12123337724</td>\\n      <td>2019/1/6\\\\n오늘의 메뉴는 #배추된장국 #오리주물럭 #애호박볶음 #연두부 #김치 입니다.\\\\n_\\\\n#사원식당 #광진구 #광진구맛집 #자양동 #자양동맛집 #점심 #맛스타그램 #백반 #집밥 #건강식 #구내식당 #sawonsikdang</td>\\n      <td>7</td>\\n      <td>7</td>\\n      <td>https://scontent-gmp1-1.cdninstagram.com/v/t51.2885-15/sh0.08/e35/c115.0.849.849a/s640x640/79385117_206524750387004_8245848556212177520_n.jpg?_nc_ht=scontent-gmp1-1.cdninstagram.com&amp;_nc_cat=108&amp;_nc_ohc=QnBYBnaTKqYAX_7n_DP&amp;oh=fc93c05658e355410652c1dd61a10cda&amp;oe=5EB0CE73</td>\\n    </tr>\\n    <tr>\\n      <th>11</th>\\n      <td>2020-01-06 11:01:35</td>\\n      <td>3467211551</td>\\n      <td>1월 6일 월요일 드레푸드 점심♡  #고잔동맛집\\\\n#안산법원맛집\\\\n#드레푸드#안산집밥같은 #한식부페#안산맛집#단원구맛집#안산사랑상품권 #다온#안산먹방#고잔신도시맛집#안산밥집 #안산한식부페#안산5500원한끼#중앙동맛집 #구내식당#고잔동구내식당\\\\n#삼영빌딩\\\\n#닭볶음탕#모닝빵#버터구이\\\\n#맛살볶음#도라지오이모침 #꼴뚜기젓갈#배추겉김치#부개찌게</td>\\n      <td>5</td>\\n      <td>5</td>\\n      <td>https://scontent-gmp1-1.cdninstagram.com/v/t51.2885-15/sh0.08/e35/s640x640/80365464_597253807760726_559918707408987944_n.jpg?_nc_ht=scontent-gmp1-1.cdninstagram.com&amp;_nc_cat=102&amp;_nc_ohc=pMsMxnSNjggAX-QUonw&amp;oh=1bea04a9da38bd64e883c2a78bbb1fb2&amp;oe=5E926483</td>\\n    </tr>\\n    <tr>\\n      <th>12</th>\\n      <td>2020-01-06 11:00:06</td>\\n      <td>12803982689</td>\\n      <td>ㆍ\\\\nㆍ오늘의 메뉴 #보쌈 #닭갈비 #메추리알튀김#김치전 #꼬치어묵ㆍ\\\\nㆍ\\\\nㆍ\\\\n로구구내식당#우림#오늘의메뉴#점심메뉴# #구내식당#이비지센타1차구내식당#우림구내식당#우림이비즈센타1차#우림E- BIZ센타구내식당#구로디지털단지역#구로구한식뷔페#구로디지털단지역맛집</td>\\n      <td>3</td>\\n      <td>3</td>\\n      <td>https://scontent-gmp1-1.cdninstagram.com/v/t51.2885-15/sh0.08/e35/s640x640/79762622_197592541412826_8039116034431841620_n.jpg?_nc_ht=scontent-gmp1-1.cdninstagram.com&amp;_nc_cat=106&amp;_nc_ohc=J5ynqU4OaswAX_FASjE&amp;oh=6145fc99a7073327b564701c8ad6fa7e&amp;oe=5E931CF2</td>\\n    </tr>\\n    <tr>\\n      <th>13</th>\\n      <td>2020-01-06 10:54:44</td>\\n      <td>12640898002</td>\\n      <td>오늘 점심 메뉴입니다.\\\\n주말 잘 쉬셨어요?\\\\n저는 주말에 영화 시동을 봤어요^^\\\\n이번주도 화이팅!! #화담식당 #문정역맛집 #문정테라타워맛집 #현대지식산업센터 #법조타운맛집 #송파맛집 #한식뷔페 #구내식당 #회사원맛집 #점심뷔페 #안동찜닭 #시동</td>\\n      <td>1</td>\\n      <td>1</td>\\n      <td>https://scontent-gmp1-1.cdninstagram.com/v/t51.2885-15/sh0.08/e35/c0.90.720.720a/s640x640/79486003_587072682095306_1849120902361896080_n.jpg?_nc_ht=scontent-gmp1-1.cdninstagram.com&amp;_nc_cat=102&amp;_nc_ohc=C3J8O17JyWkAX9xxgWC&amp;oh=5507ba64d1601a2749fc40cb108aa3d0&amp;oe=5E152C21</td>\\n    </tr>\\n    <tr>\\n      <th>14</th>\\n      <td>2020-01-06 10:32:55</td>\\n      <td>6891025509</td>\\n      <td>#닭갈비 #마파두부덮밥 #사천탕수육 #비엔나볶음 #단체급식 #구내식당 #회사원점심 #직장인점심시간 #식판샷 #오늘의메뉴 #맛스타그램😋 #눈오는월요일</td>\\n      <td>3</td>\\n      <td>3</td>\\n      <td>https://scontent-gmp1-1.cdninstagram.com/v/t51.2885-15/sh0.08/e35/c112.0.856.856a/s640x640/81167452_176067310416186_4856395320380951649_n.jpg?_nc_ht=scontent-gmp1-1.cdninstagram.com&amp;_nc_cat=106&amp;_nc_ohc=ZZIr5oOOZHEAX8sWsye&amp;oh=1c0527e193532e910cd11edbde5b4c97&amp;oe=5E970E87</td>\\n    </tr>\\n    <tr>\\n      <th>15</th>\\n      <td>2020-01-06 09:26:18</td>\\n      <td>12123337724</td>\\n      <td>1월 6일 주 사원식당 메뉴입니다^^ 사원식당은 점심시간 배회하는 직장인들을 위해, 매일 다른 종류의 건강하고 맛있는 가정식 백반을 만드는 식당입니다.\\\\n\\\\n_\\\\n점심 한끼는 7000원 입니다.\\\\n식사권 10장을 한번에 구매하시면 한끼에 6000원입니다.\\\\n식사권의 유효기간은 없습니다!\\\\n\\\\n이번주도 점심 뭐 먹을지 고민되면 배회하지 말고 #사원식당으로 오세요!! _\\\\n사원식당 식사권 이용방법!\\\\n\\\\n#1 \\\\n점심시간 건강한 백반 한끼\\\\n\\\\n#2 \\\\n10가지 재료를 1.1L 용기에 담은 프리미엄샐러드 1그릇(테이크 아웃 가능), 구매가능시간 10:00am - 6:00pm\\\\n\\\\n#3 \\\\n와인잔에 듬뿍 담은 Bar41 하우스 와인 1잔\\\\n\\\\n#4 \\\\nBar41에서 현금/카드 대신 식사권으로 결제\\\\n\\\\n_\\\\n사원식당은 저녁 행사 및 모임을 위해 장소를 제공합니다. 전체 예산을 말씀해 주시면, 금액에 맟춰 미슐랭 스타 레스토랑 출신의 쉐프와 소믈리에가 음식과 와인을 준비해드립니다. \\\\n_\\\\n#사원식당 #구의역 #자양사거리 #타워더모스트 #광진아크로텔 #광진구 #광진구맛집 #자양동 #자양동맛집 #점심 #맛스타그램 #백반 #집밥 #건강식 #구내식당 #sawonsikdang #직장인 #jmt #bar41 #미슐랭 #대관 #회식 #모임</td>\\n      <td>10</td>\\n      <td>10</td>\\n      <td>https://scontent-gmp1-1.cdninstagram.com/v/t51.2885-15/sh0.08/e35/s640x640/81227219_2217318681907039_6349173194715496989_n.jpg?_nc_ht=scontent-gmp1-1.cdninstagram.com&amp;_nc_cat=107&amp;_nc_ohc=dN_t06hwLE0AX8d4AUg&amp;oh=d1c9fd4dcca7e3ca10694c64b86620f6&amp;oe=5EAAB2AE</td>\\n    </tr>\\n    <tr>\\n      <th>16</th>\\n      <td>2020-01-06 09:17:29</td>\\n      <td>4034505915</td>\\n      <td>#BCC #구내식당 #주간식단표 #오늘의점심메뉴 #점심뭐먹지\\\\n⠀\\\\n1월은 새로움이 가득한 한 달입니다.\\\\n새로운 마음과 새로운 희망으로 다시 한번 파이팅하자고요!\\\\n모든 일들 즐거운 마음으로 시작하자는 의미에서\\\\n이번 주 BCC의 구내식당 점심 메뉴를 알아볼까요?\\\\n⠀\\\\nBCC(부산콘텐츠콤플렉스)의 구내식당은\\\\n영양사 선생님의 손길로 알찬 구성이 날마다 이어지고 있어요\\\\n⠀\\\\n맛있는 식사하시고\\\\nBCC 건물 4층과 5층의\\\\n부산 콘텐츠코리아 랩 센텀메인센터도 들러보셔요\\\\n아늑하고 쾌적한 공간이 여러분을 기다리고 있답니다!\\\\n⠀⠀⠀\\\\n2020/01/06~2020/01/10 센텀 BCC(부산콘텐츠콤플렉스) 4층 주간식단표\\\\n⠀⠀⠀\\\\n#식단표 #메뉴이름 #회사식당 #영양사 #다이어트 #건강 #센텀밥집 #부산콘텐츠코리아랩 #월요일 #식단 #출근 #맛점 #런치메뉴 #1월#2020#새해#JMT#감자탕#순살돈까스#바베큐폭찹#비빔냉면#새우까스#간장맛치킨</td>\\n      <td>15</td>\\n      <td>15</td>\\n      <td>https://scontent-gmp1-1.cdninstagram.com/v/t51.2885-15/sh0.08/e35/s640x640/81574351_167094827871697_5626273135147852856_n.jpg?_nc_ht=scontent-gmp1-1.cdninstagram.com&amp;_nc_cat=101&amp;_nc_ohc=ypjjHopOrR4AX-OpAM_&amp;oh=cc5002bcc0479ab1b8e626e0d85d34c1&amp;oe=5E99C47A</td>\\n    </tr>\\n    <tr>\\n      <th>17</th>\\n      <td>2020-01-06 08:06:08</td>\\n      <td>10600632907</td>\\n      <td>illu 2020년 1월 6일 월요일 메뉴입니다.\\\\n\\\\n세상에서 가장 값진것은 사랑을 나눌 줄 알고\\\\n가진것을 베풀 줄 아는 넉넉한 마음입니다.\\\\n오늘도 서로가 사랑을 나누고 베푸는 \\\\n멋진하루 되시기 바랍니다.\\\\n\\\\n생고기김치찜 카레치킨 초핑햄 야채볶음밥\\\\n계란말이 느타리버섯볶음 과일(제주감귤 🍊)\\\\n청포묵김무침 봄동겉절이 무생채 포기김치 \\\\n전라도식 닭고기미역국등  ㅡ일루 퓨전한식뷔페ㅡ(테라타워2 g117호) \\\\n#일루한식뷔페#송파구맛집#문정동맛집#점심식사#한끼식사#맛있는집#테라타워#구내식당#Sk타워#테라타워2#대명타워#정석#늘솜#시락#한식뷔페#뭐먹을까#오늘의메뉴#현금#카드#단체식사#단체환영#집밥#테라타워2#줄서는집#가성비#직장#직장인</td>\\n      <td>7</td>\\n      <td>7</td>\\n      <td>https://scontent-gmp1-1.cdninstagram.com/v/t51.2885-15/sh0.08/e35/s640x640/80774264_980425035666564_625069002506144166_n.jpg?_nc_ht=scontent-gmp1-1.cdninstagram.com&amp;_nc_cat=100&amp;_nc_ohc=jJBTWeIiutQAX8ddi4o&amp;oh=e272ac5ddd4f93e3a1ecc7089e93389d&amp;oe=5EACBEEA</td>\\n    </tr>\\n    <tr>\\n      <th>18</th>\\n      <td>2020-01-06 06:28:34</td>\\n      <td>21486484810</td>\\n      <td>✔ 20.01.03(금) ✔\\\\n\\\\n뜨끈한 #온묵사발 차가운 것보다 훨씬 맛있다고 느낀 메뉴.\\\\n\\\\n#오늘의메뉴\\\\n.\\\\n.\\\\n#백미밥 #온묵사발 #미니돈까스 #두부소고기볶음 #아삭이된장무침 #샐러드 #깍두기\\\\n#영양사 #식단기록 #구내식당 #단체급식 #급식스타그램</td>\\n      <td>16</td>\\n      <td>16</td>\\n      <td>https://scontent-gmp1-1.cdninstagram.com/v/t51.2885-15/sh0.08/e35/c135.0.810.810a/s640x640/81104798_157037818911455_6798405213526755997_n.jpg?_nc_ht=scontent-gmp1-1.cdninstagram.com&amp;_nc_cat=111&amp;_nc_ohc=9pkOZd1zmOMAX9uMl_M&amp;oh=d899e2cc27b128169d0a7821f42cc3ae&amp;oe=5EA69EC3</td>\\n    </tr>\\n    <tr>\\n      <th>19</th>\\n      <td>2020-01-06 06:21:31</td>\\n      <td>21486484810</td>\\n      <td>✔ 20.01.02(목) ✔\\\\n\\\\n20년 1월 1일 모두들 떡국을 드시고 왔겠지만!\\\\n그래도 떡국을 드려야 될 것 같아서 #황태떡국 준비.\\\\n\\\\n#오늘의메뉴\\\\n.\\\\n.\\\\n#잡곡밥 #황태떡국 #매운돼지갈비찜 #애호박느타리볶음 #콩나물무침 #샐러드 #배추김치\\\\n#영양사 #식단기록 #구내식당 #단체급식 #급식스타그램</td>\\n      <td>13</td>\\n      <td>13</td>\\n      <td>https://scontent-gmp1-1.cdninstagram.com/v/t51.2885-15/sh0.08/e35/c135.0.810.810a/s640x640/82003910_176614413728719_3565255496798741935_n.jpg?_nc_ht=scontent-gmp1-1.cdninstagram.com&amp;_nc_cat=107&amp;_nc_ohc=uNJkOBvDMJIAX_FA6Y2&amp;oh=6aa1bc3d9ec5dfe5770ced5751008804&amp;oe=5E97C561</td>\\n    </tr>\\n    <tr>\\n      <th>20</th>\\n      <td>2020-01-06 01:06:48</td>\\n      <td>27008861709</td>\\n      <td>🍽사내진미(★★★☆☆)\\\\n롯데월드타워 \\'구내식당\\'\\\\nLotte\\xa0World\\xa0Tower \\'Cafeteria\\'\\\\n.\\\\n.\\\\n.\\\\n#음식#음식사진#음식스타그램#혐오푸드#food#foods#foodstagram#foodporn#foodie#foodphotography#찰리채플린#CharlieChaplin#ugly#uglyfood#disgust#foodwaste#롯데월드#롯데월드타워#서울스카이#카페테리아#cafeteria#잠실#월드몰#구내식당</td>\\n      <td>6</td>\\n      <td>6</td>\\n      <td>https://scontent-gmp1-1.cdninstagram.com/v/t51.2885-15/sh0.08/e35/s640x640/79474453_173386313767406_4748081026466008533_n.jpg?_nc_ht=scontent-gmp1-1.cdninstagram.com&amp;_nc_cat=102&amp;_nc_ohc=opUuaTtgksYAX8-CTLV&amp;oh=fafef83202391af99a1208813a42e6f5&amp;oe=5E9AAA1B</td>\\n    </tr>\\n    <tr>\\n      <th>21</th>\\n      <td>2020-01-06 00:29:25</td>\\n      <td>19454545134</td>\\n      <td>#주말룩 #주말끝\\\\n⠀\\\\n⠀\\\\n지난주 부터 읽기로 했던\\\\n❛ 82년생 김지영 ❜ 독서 끝👌🏻\\\\n⠀\\\\n⠀\\\\n멘티님 피드백 하랴\\\\n애기들 방학이라 돌보랴\\\\n책 조며 눈물 떨구느랴\\\\n⠀\\\\n일주일이 훅~~지나갔어요😆\\\\n⠀\\\\n⠀\\\\n이번주 ! 따끈따끈한 새로운 부업\\\\n#ssharpssharp #샵샵 이 옵니다\\\\n⠀\\\\n⠀\\\\n상위 0.1% 만 아는 대박정보 !! 는\\\\n리나팸에게만 알려드리는 비밀로🎶\\\\n⠀\\\\n앞으로 부업은\\\\n리셀러 위주로 벌었던 시절 안녕👋🏻👋🏻\\\\n우리 힘들이지 말구 돈 벌어요\\\\n⠀\\\\n⠀\\\\nFol도 ShapShap도 대박정보로\\\\n리나가 조용히 세심하게 케어 합니댜\\\\n♥️\\U0001f9e1💛💚💙💜\\\\n⠀\\\\n⠀</td>\\n      <td>36</td>\\n      <td>36</td>\\n      <td>https://scontent-gmp1-1.cdninstagram.com/v/t51.2885-15/sh0.08/e35/s640x640/80024828_1210809192453991_2549802639106417681_n.jpg?_nc_ht=scontent-gmp1-1.cdninstagram.com&amp;_nc_cat=107&amp;_nc_ohc=8ILTOp4OWsUAX_l_j_v&amp;oh=c4c0845fe7bf8b6826c917cbe0da0f51&amp;oe=5E90F206</td>\\n    </tr>\\n    <tr>\\n      <th>22</th>\\n      <td>2020-01-05 22:58:59</td>\\n      <td>2641425024</td>\\n      <td>금요일 제공 메뉴!!\\\\n#구디맛집 #구내식당 #많이많이오세요\\\\n오늘 같이 야채 좀 많이 제공해 달라는 단골고객님!!!\\\\n고객 선호도를 많이 반영하도록 노력해야겠습니다\\\\n#사장님께 얘기 할께요</td>\\n      <td>4</td>\\n      <td>4</td>\\n      <td>https://scontent-gmp1-1.cdninstagram.com/v/t51.2885-15/sh0.08/e35/c2.0.1436.1436a/s640x640/79798943_514965169365918_6032915832597747284_n.jpg?_nc_ht=scontent-gmp1-1.cdninstagram.com&amp;_nc_cat=106&amp;_nc_ohc=O_ab8t29OeYAX96Ghwe&amp;oh=cb2895f92d7bec84315af43471c9ef6c&amp;oe=5EAFD094</td>\\n    </tr>\\n    <tr>\\n      <th>23</th>\\n      <td>2020-01-05 21:02:58</td>\\n      <td>2058151494</td>\\n      <td>#착한식판 #1월6일 #서초동맛집 #집밥 #한전아트센터 #양재역맛집 #구내식당 #점심뭐먹지 #점심스타그램 #한식뷔페 #밥이맛있어야진짜다 #맛있게먹으면0칼로리 \\\\n#급냉삼겹살\\\\n#저녁영업\\\\n\\\\n#철판대패삼겹살구이\\\\n#쌈채소 #마늘 #쌈장\\\\n#파채무침\\\\n#버섯피망볶음\\\\n#소고기얼갈이된장국\\\\n#콩나물찜\\\\n#압력솥밥\\\\n#마늘쫑무침\\\\n#배추김치</td>\\n      <td>10</td>\\n      <td>10</td>\\n      <td>https://scontent-gmp1-1.cdninstagram.com/v/t51.2885-15/sh0.08/e35/s640x640/79800334_104682230988360_2889625292643084010_n.jpg?_nc_ht=scontent-gmp1-1.cdninstagram.com&amp;_nc_cat=100&amp;_nc_ohc=g9YiVCtTqY4AX_uaYJJ&amp;oh=146d9e4e9c29036651d3a0ea2fa0ad15&amp;oe=5EA7B5AC</td>\\n    </tr>\\n    <tr>\\n      <th>24</th>\\n      <td>2020-01-05 20:25:27</td>\\n      <td>10370077101</td>\\n      <td>[국립중앙도서관] 구내식당 북레스토랑\\\\n\\\\nhttps://m.blog.naver.com/distz/221759833801\\\\n\\\\n#국립중앙도서관 #구내식당 #북레스토랑 #오므라이스 #서초 #고속터미널 #혼밥</td>\\n      <td>5</td>\\n      <td>5</td>\\n      <td>https://scontent-gmp1-1.cdninstagram.com/v/t51.2885-15/sh0.08/e35/c180.0.1080.1080a/s640x640/79385087_597422191084144_1528096149842141055_n.jpg?_nc_ht=scontent-gmp1-1.cdninstagram.com&amp;_nc_cat=104&amp;_nc_ohc=KPsMSl0j9rAAX-JrSPY&amp;oh=c05036721cbea94357dde6609d1fc0a1&amp;oe=5EAD4B9B</td>\\n    </tr>\\n    <tr>\\n      <th>25</th>\\n      <td>2020-01-05 19:58:31</td>\\n      <td>2261045022</td>\\n      <td>#가양역맛집 #진순자계란말이김밥 \\\\n오늘이 엄~청~ 추운 날씨는 아니지만\\\\n따뜻한 국물이 있는 맑은 #잔치국수 먹기에\\\\n딱! 좋은 날씨인것 같아요 😆\\\\n\\\\n#차앤유 에는 #구내식당 이 있지만\\\\n저는 가끔 나가서 점심을 사먹기도 하는데요~\\\\n\\\\n지난번 #봉천동 에서 유명한 #진순자김밥 이\\\\n#가양동 에서도 먹어볼수 있다기에 가봤어요!\\\\n\\\\n#가양역 #롯데시네마 건물인 #금부빌딩\\\\n지하에 위치해있답니당 🙃🙃🙃\\\\n.\\\\n슴슴하면서도 별것 없는 재료지만\\\\n가끔 요런게 땡긴다면 추천드려용!\\\\n\\\\ntmi : 특히 저 #장아찌 #대박 맛있었어요!</td>\\n      <td>70</td>\\n      <td>70</td>\\n      <td>https://scontent-gmp1-1.cdninstagram.com/v/t51.2885-15/sh0.08/e35/c0.180.1440.1440a/s640x640/80778560_183229899532310_7780972063033207656_n.jpg?_nc_ht=scontent-gmp1-1.cdninstagram.com&amp;_nc_cat=102&amp;_nc_ohc=s7O_TXxzjkQAX-1AsoE&amp;oh=0b17ac2aa0bb540d513a2e7960a9b38b&amp;oe=5E97A918</td>\\n    </tr>\\n    <tr>\\n      <th>26</th>\\n      <td>2020-01-05 19:09:39</td>\\n      <td>27456582685</td>\\n      <td>#이조케터링 #대법원 #구내식당 #고객만족후기</td>\\n      <td>0</td>\\n      <td>0</td>\\n      <td>https://scontent-gmp1-1.cdninstagram.com/v/t51.2885-15/sh0.08/e35/c144.0.671.671a/s640x640/82786570_1557727194381153_8214682336568167689_n.jpg?_nc_ht=scontent-gmp1-1.cdninstagram.com&amp;_nc_cat=109&amp;_nc_ohc=Hcbcqd4G2NAAX84IEfP&amp;oh=478cb073b2e351660fc6e48d923d1d57&amp;oe=5EAAF950</td>\\n    </tr>\\n    <tr>\\n      <th>27</th>\\n      <td>2020-01-05 18:13:35</td>\\n      <td>14956463115</td>\\n      <td>#회사점심 #도시락반찬\\\\n이번주 반찬은 #닭볶음탕 #소곱창전골 #황태구이  #콩나물 #시금치나물 #동그랑땡 입니다.\\\\n근데 실은  포장된거 사서한것도 있어서 금방했어요 ㅋ\\\\n토욜 #홈플 갔다가 #30프로 셀하는거 소곱창이랑 황태구이 샀어요. 동그랑땡도 냉동이구요 ㅎㅎ\\\\n그나마 쬐끔 편하네요^^~\\\\n오늘 끝~~~\\\\n마지막사진은 #어린이회관 #눈썰매장이예요.\\\\n오늘 사람없고 넘 좋았데요\\\\nㆍ\\\\nㆍ\\\\nㆍ\\\\nㆍ\\\\n#1주일3만원 4일반찬#오늘머먹지#런치메뉴#점심메뉴#식단#오늘식단#일상#초등방학#먹스타그램#구내식당#반찬맛집########</td>\\n      <td>121</td>\\n      <td>121</td>\\n      <td>https://scontent-gmp1-1.cdninstagram.com/v/t51.2885-15/sh0.08/e35/s640x640/82264741_855069981597394_1531248745755127894_n.jpg?_nc_ht=scontent-gmp1-1.cdninstagram.com&amp;_nc_cat=110&amp;_nc_ohc=HA1IwKm_WPEAX8wCrdA&amp;oh=421083dba34cca00f68650fbf080f707&amp;oe=5EB42047</td>\\n    </tr>\\n    <tr>\\n      <th>28</th>\\n      <td>2020-01-05 16:25:36</td>\\n      <td>10600632907</td>\\n      <td>illu 퓨전한식뷔페 1주년 기념 빅 이벤트 \\\\n엇그제 개업한 것 같은데 벌써 1년이네요.\\\\n받아온 사랑에 보답하고자 작은 행사를\\\\n준비했으니 많은 참여와 큰 기쁨 \\\\n누리시기 바랍니다.\\\\n\\\\nㅡ일루 퓨전한식뷔페ㅡ(테라타워2 g117호) \\\\n#일루한식뷔페#송파구맛집#문정동맛집#점심식사#한끼식사#맛있는집#테라타워#구내식당#Sk타워#테라타워2#대명타워#정석#늘솜#시락#한식뷔페#뭐먹을까#오늘의메뉴#현금#카드#단체식사#단체환영#집밥#테라타워2#줄서는집#가성비#직장#직장인</td>\\n      <td>17</td>\\n      <td>17</td>\\n      <td>https://scontent-gmp1-1.cdninstagram.com/v/t51.2885-15/sh0.08/e35/s640x640/80378352_806674813093346_7448562569337388771_n.jpg?_nc_ht=scontent-gmp1-1.cdninstagram.com&amp;_nc_cat=102&amp;_nc_ohc=T4aX-5KswvcAX8cAkPs&amp;oh=a007c5d5d445769a51b055641f750a2f&amp;oe=5E8E5C49</td>\\n    </tr>\\n    <tr>\\n      <th>29</th>\\n      <td>2020-01-05 14:14:41</td>\\n      <td>8881230964</td>\\n      <td>#짜장면\\\\n#급식 #메뉴 #학식 #직식 #구내식당 #긱식 #오늘의메뉴 #daily #맛집 #맛스타그램 #jmt #반찬 #먹스타그램 #신세계푸드 #영양사</td>\\n      <td>17</td>\\n      <td>17</td>\\n      <td>https://scontent-gmp1-1.cdninstagram.com/v/t51.2885-15/sh0.08/e35/c180.0.1080.1080a/s640x640/80335402_104847057623083_3412716339604904295_n.jpg?_nc_ht=scontent-gmp1-1.cdninstagram.com&amp;_nc_cat=107&amp;_nc_ohc=g699SPEypXAAX-1TGY0&amp;oh=0aeaad774345ad91a7ee41d7cc02e0fb&amp;oe=5EA84019</td>\\n    </tr>\\n    <tr>\\n      <th>30</th>\\n      <td>2020-01-05 14:14:16</td>\\n      <td>8881230964</td>\\n      <td>#갈비탕\\\\n#급식 #메뉴 #학식 #직식 #구내식당 #긱식 #오늘의메뉴 #daily #맛집 #맛스타그램 #jmt #반찬 #먹스타그램 #신세계푸드 #영양사</td>\\n      <td>16</td>\\n      <td>16</td>\\n      <td>https://scontent-gmp1-1.cdninstagram.com/v/t51.2885-15/sh0.08/e35/c143.0.1153.1153a/s640x640/79745816_547193042499418_9006653137575365215_n.jpg?_nc_ht=scontent-gmp1-1.cdninstagram.com&amp;_nc_cat=110&amp;_nc_ohc=_Xc9-C08MZsAX_iuImD&amp;oh=013f97b09e22a906e61be9056973a772&amp;oe=5EB3F86B</td>\\n    </tr>\\n    <tr>\\n      <th>31</th>\\n      <td>2020-01-05 14:13:45</td>\\n      <td>8881230964</td>\\n      <td>#스파게티\\\\n#치즈\\\\n#급식 #메뉴 #학식 #직식 #구내식당 #긱식 #오늘의메뉴 #daily #맛집 #맛스타그램 #jmt #반찬 #먹스타그램 #신세계푸드 #영양사</td>\\n      <td>8</td>\\n      <td>8</td>\\n      <td>https://scontent-gmp1-1.cdninstagram.com/v/t51.2885-15/sh0.08/e35/c104.0.1231.1231a/s640x640/79968599_1043750246017569_3098273772162155280_n.jpg?_nc_ht=scontent-gmp1-1.cdninstagram.com&amp;_nc_cat=109&amp;_nc_ohc=F_TdL-KAo00AX9dc2IS&amp;oh=6d96935689124fde9b0a835c6fcce727&amp;oe=5EAABD0D</td>\\n    </tr>\\n    <tr>\\n      <th>32</th>\\n      <td>2020-01-05 14:13:04</td>\\n      <td>8881230964</td>\\n      <td>#멘츠카츠커리\\\\n#급식 #메뉴 #학식 #직식 #구내식당 #긱식 #오늘의메뉴 #daily #맛집 #맛스타그램 #jmt #반찬 #먹스타그램 #신세계푸드 #영양사</td>\\n      <td>9</td>\\n      <td>9</td>\\n      <td>https://scontent-gmp1-1.cdninstagram.com/v/t51.2885-15/sh0.08/e35/c180.0.1080.1080a/s640x640/81846552_578163442730740_1372430363916779226_n.jpg?_nc_ht=scontent-gmp1-1.cdninstagram.com&amp;_nc_cat=104&amp;_nc_ohc=85cHu16PKb8AX8iBnPj&amp;oh=d0a78051334136b013b17d68614a9a80&amp;oe=5EB229E5</td>\\n    </tr>\\n    <tr>\\n      <th>33</th>\\n      <td>2020-01-05 14:11:05</td>\\n      <td>8881230964</td>\\n      <td>#굴소스해물덮밥\\\\n#급식 #메뉴 #학식 #직식 #구내식당 #긱식 #오늘의메뉴 #daily #맛집 #맛스타그램 #jmt #반찬 #먹스타그램 #신세계푸드 #영양사</td>\\n      <td>21</td>\\n      <td>21</td>\\n      <td>https://scontent-gmp1-1.cdninstagram.com/v/t51.2885-15/sh0.08/e35/c180.0.1080.1080a/s640x640/79641325_171692694216717_7126877716218363688_n.jpg?_nc_ht=scontent-gmp1-1.cdninstagram.com&amp;_nc_cat=109&amp;_nc_ohc=t_uDfcUW9tEAX-hYz1S&amp;oh=c65a53661791882bee05545636fc55fc&amp;oe=5EA82D3B</td>\\n    </tr>\\n    <tr>\\n      <th>34</th>\\n      <td>2020-01-05 13:37:01</td>\\n      <td>2218718454</td>\\n      <td>역쉬\\\\n양산맛집입니다!!\\\\n밥도먹고\\\\n책도보고\\\\n#양산시립도서관 \\\\n#구내식당\\\\n#매점\\\\n#이맛에시립도서관에옵니다</td>\\n      <td>37</td>\\n      <td>37</td>\\n      <td>https://scontent-gmp1-1.cdninstagram.com/v/t51.2885-15/sh0.08/e35/s640x640/79585420_2285903435035126_5532442564682309138_n.jpg?_nc_ht=scontent-gmp1-1.cdninstagram.com&amp;_nc_cat=110&amp;_nc_ohc=C25PvWDeh_AAX82i6vL&amp;oh=665f6136a80fde02b94efc378c66db6b&amp;oe=5EAE2FCE</td>\\n    </tr>\\n    <tr>\\n      <th>35</th>\\n      <td>2020-01-05 12:44:46</td>\\n      <td>12766247712</td>\\n      <td>#푸드위드 #구로디지탈 #구내식당 #맛있는 점심식사~#고객님들과 함께 행복하고 싶은 푸드위드</td>\\n      <td>5</td>\\n      <td>5</td>\\n      <td>https://scontent-gmp1-1.cdninstagram.com/v/t51.2885-15/sh0.08/e35/s640x640/81706184_128587231549393_5719778244936118611_n.jpg?_nc_ht=scontent-gmp1-1.cdninstagram.com&amp;_nc_cat=101&amp;_nc_ohc=sQWwgzsv8SMAX9sHKdJ&amp;oh=747c5de91f4b6dbb59c31744563cb596&amp;oe=5E9CBC63</td>\\n    </tr>\\n    <tr>\\n      <th>36</th>\\n      <td>2020-01-05 11:36:07</td>\\n      <td>21488087284</td>\\n      <td>⠀\\\\n⠀\\\\n직장다니면서 부모님 도움없이\\\\n결혼자금 마련중인 병아리 후배님\\\\n⠀\\\\n기특한 생각처럼 뭐든 열심히해서\\\\n홍보물, 홍보글 좀 더 신경써서 봐줬더니\\\\n문의도 수익도곧잘👏🏻👏🏻👏🏻\\\\n(아주 칭찬해~)\\\\n⠀\\\\n고맙다고 자꾸 선물주는데\\\\n계속 거절했더니\\\\n임티같은 거라도 받아달라며\\\\n귀여운 임티선물 주네요^^\\\\n⠀\\\\n전 그저 멘토로써 할일을 했을 뿐인데\\\\n서로 돈 벌자고 시작한 관계지만\\\\n이젠 진짜 먼 친척보다 가까운\\\\n절친사이, 동네언니\\\\n⠀\\\\n신중하게 고민해서 나래에게\\\\n오셨으니 후회없게 해드릴께요\\\\n⠀\\\\n⠀\\\\n⠀\\\\n⠀\\\\n⠀\\\\n⠀\\\\n⠀\\\\n⠀</td>\\n      <td>10</td>\\n      <td>10</td>\\n      <td>https://scontent-gmp1-1.cdninstagram.com/v/t51.2885-15/sh0.08/e35/s640x640/79751141_596706771143954_6227148377263599721_n.jpg?_nc_ht=scontent-gmp1-1.cdninstagram.com&amp;_nc_cat=102&amp;_nc_ohc=21lZAPV4UxwAX_MFBfE&amp;oh=f78e140a2811aace77db23ab06d92ad8&amp;oe=5EB0B6D2</td>\\n    </tr>\\n    <tr>\\n      <th>37</th>\\n      <td>2020-01-05 00:24:47</td>\\n      <td>13129042020</td>\\n      <td>경찰청 본청에서 딱 한번 밥을 먹어본 적이 있습니다.\\\\n맛이 특별하지는 않았지만, 입맛에 안맞는것도 아니었습니다.\\\\n\\\\n내방객들도 먹을 수 있다는 서울청 밥은 TV로 봤을땐 맛있어 보이던데.. 과연 어떨지 궁금해지네요ㅋㅋ\\\\n\\\\n#경찰청 #구내식당 #KNPA #Policeagency</td>\\n      <td>17</td>\\n      <td>17</td>\\n      <td>https://scontent-gmp1-1.cdninstagram.com/v/t51.2885-15/sh0.08/e35/c181.0.717.717a/s640x640/81029750_173148080418139_5867424527224757987_n.jpg?_nc_ht=scontent-gmp1-1.cdninstagram.com&amp;_nc_cat=107&amp;_nc_ohc=VrL-ygMch_oAX-v9Ce1&amp;oh=ef05e510d341b08e29fecac4d9de55bd&amp;oe=5E973562</td>\\n    </tr>\\n    <tr>\\n      <th>38</th>\\n      <td>2020-01-04 20:15:11</td>\\n      <td>10370077101</td>\\n      <td>대검찰청 구내식당 아람 서초\\\\n\\\\nhttps://m.blog.naver.com/distz/221758965841\\\\n\\\\n#대검찰청 #구내식당 #아람 #서초 #제육두루치기 #혼밥</td>\\n      <td>7</td>\\n      <td>7</td>\\n      <td>https://scontent-gmp1-1.cdninstagram.com/v/t51.2885-15/sh0.08/e35/c180.0.1080.1080a/s640x640/80323371_1450794678430057_9128738480757051095_n.jpg?_nc_ht=scontent-gmp1-1.cdninstagram.com&amp;_nc_cat=101&amp;_nc_ohc=fpXiW8HoSiMAX_MZoze&amp;oh=bc3bd5f66564bb2e6b32a07af0137003&amp;oe=5E95BD71</td>\\n    </tr>\\n    <tr>\\n      <th>39</th>\\n      <td>2020-01-04 17:58:39</td>\\n      <td>1776708595</td>\\n      <td>저녁 나만의 메인.\\\\n#풀떼기 #치커리 #유자 #무침요리\\\\n#구내식당</td>\\n      <td>9</td>\\n      <td>9</td>\\n      <td>https://scontent-gmp1-1.cdninstagram.com/v/t51.2885-15/sh0.08/e35/s640x640/80474815_3147632748600246_6108506223992769410_n.jpg?_nc_ht=scontent-gmp1-1.cdninstagram.com&amp;_nc_cat=106&amp;_nc_ohc=r6arPCOCUWkAX_iv7PD&amp;oh=965f75695fec9be906cd8735f2eb116d&amp;oe=5E9789FF</td>\\n    </tr>\\n    <tr>\\n      <th>40</th>\\n      <td>2020-01-04 17:26:22</td>\\n      <td>1642168032</td>\\n      <td>자몽호올스 득템😘\\\\n\\\\n#배추된장국 #닭볶음탕 #구운김 \\\\n#볶음김치 #생채 #맛간장 #자몽호올스</td>\\n      <td>51</td>\\n      <td>51</td>\\n      <td>https://scontent-gmp1-1.cdninstagram.com/v/t51.2885-15/sh0.08/e35/s640x640/80425670_859245834530468_3090365260696995184_n.jpg?_nc_ht=scontent-gmp1-1.cdninstagram.com&amp;_nc_cat=108&amp;_nc_ohc=Sqh8OLZcIv0AX_7GLjl&amp;oh=1082e36e69d0ae537fabc17e79507e48&amp;oe=5E94156D</td>\\n    </tr>\\n    <tr>\\n      <th>41</th>\\n      <td>2020-01-04 16:24:22</td>\\n      <td>3696596111</td>\\n      <td>#꼬치어묵\\\\n#순대떡볶이\\\\n#만다린샐러드\\\\n#만두도넛\\\\n#수제요거트\\\\n\\\\n오늘도 열심히 일하는 웅플가족들 맛나게 먹어요~^^ #영양사#단체급식#구내식당#급식스타그램 #영양사스타그램 #맛점#분식#오늘의메뉴#주말출근</td>\\n      <td>35</td>\\n      <td>35</td>\\n      <td>https://scontent-gmp1-1.cdninstagram.com/v/t51.2885-15/sh0.08/e35/c180.0.1080.1080a/s640x640/80734066_158073338807513_6930017621769967134_n.jpg?_nc_ht=scontent-gmp1-1.cdninstagram.com&amp;_nc_cat=105&amp;_nc_ohc=JO3NJowtAboAX-ac8NF&amp;oh=f45c8d12d6c63c293716b4ca3cf5cde4&amp;oe=5EA9FD53</td>\\n    </tr>\\n    <tr>\\n      <th>42</th>\\n      <td>2020-01-04 10:06:14</td>\\n      <td>6434197071</td>\\n      <td>#점심 #회사밥 #구내식당 #해물중화풍덮밥 #유린기</td>\\n      <td>2</td>\\n      <td>2</td>\\n      <td>https://scontent-gmp1-1.cdninstagram.com/v/t51.2885-15/sh0.08/e35/c180.0.1080.1080a/s640x640/79530754_456636615031020_5924737660791668362_n.jpg?_nc_ht=scontent-gmp1-1.cdninstagram.com&amp;_nc_cat=100&amp;_nc_ohc=pQVqLvUtETwAX9C79CU&amp;oh=4cb183e122c3ab8c49fc9a3684802a10&amp;oe=5E8E2F3A</td>\\n    </tr>\\n    <tr>\\n      <th>43</th>\\n      <td>2020-01-04 07:48:31</td>\\n      <td>25852686747</td>\\n      <td>🍽\\\\n장조림버터비빔밥\\\\n까르보나라떡볶이\\\\n\\\\n#구내식당#테헤란로맛집 #회사식당#회사식당그램 #구내식당그램 #직장인점심 #직장인점심메뉴 #점심#점심시간#런치#런치타임</td>\\n      <td>4</td>\\n      <td>4</td>\\n      <td>https://scontent-gmp1-1.cdninstagram.com/v/t51.2885-15/sh0.08/e35/c193.0.1053.1053a/s640x640/81945271_175002913701480_4130476087774496374_n.jpg?_nc_ht=scontent-gmp1-1.cdninstagram.com&amp;_nc_cat=100&amp;_nc_ohc=sm2FymCTDc0AX_e1kM1&amp;oh=15ada67ffc944a82a9846be2dd60d5a8&amp;oe=5E8DFF7F</td>\\n    </tr>\\n    <tr>\\n      <th>44</th>\\n      <td>2020-01-04 00:33:57</td>\\n      <td>8272589920</td>\\n      <td>#풀무원푸드앤컬처 #풀무원샵 #풀무원꾸러미 #사내진미 #이시아폴리스롯데아울렛 #이시아폴리스 #이시아맛집 #이시아폴리스 #4100원 #맛점 #구내식당 #단체급식\\\\n#직원식당 #학식 #점심 #주간식단표 #위탁급식 \\\\n#급식 #급식스타그램 #사내식당</td>\\n      <td>11</td>\\n      <td>11</td>\\n      <td>https://scontent-gmp1-1.cdninstagram.com/v/t51.2885-15/sh0.08/e35/c179.0.702.702a/s640x640/77297236_1077490942593706_4195253089866790602_n.jpg?_nc_ht=scontent-gmp1-1.cdninstagram.com&amp;_nc_cat=110&amp;_nc_ohc=AYIGuIhJqzoAX9O2DwP&amp;oh=97ffeb7af5d2f287ca94d805874b782e&amp;oe=5E9422FE</td>\\n    </tr>\\n    <tr>\\n      <th>45</th>\\n      <td>2020-01-03 22:48:30</td>\\n      <td>12979318842</td>\\n      <td>.\\\\n- 아침 : #스크램블에그 #샐러드 #구운야채 #버터10g .\\\\n- 점심 : #샐러드볼 w/갈비토핑 .\\\\n- 저녁 : #굽네오리지널 1/2넘게 #구운계란 3개 .\\\\n- 간식 : #버터10g .\\\\n.\\\\n지방 먹느라 신경썼는데\\\\n저녁 치킨 flex 🤔\\\\n단백질을 너무 많이 먹은 것 같다\\\\n갈증이 매우 많이 느껴짐\\\\n.\\\\n.\\\\n\\\\n#다이어트 #다이어트일기 #다이어트식단 #다이어트운동 #키토제닉 #키토제닉식단 #저탄고지 #키토식단 #키토제닉다이어트 #저탄고지식단 #저탄고지다이어트 #쿠차라 #구내식당 #굽네치킨</td>\\n      <td>9</td>\\n      <td>9</td>\\n      <td>https://scontent-gmp1-1.cdninstagram.com/v/t51.2885-15/sh0.08/e35/s640x640/80597625_166798944416428_8243791441775053137_n.jpg?_nc_ht=scontent-gmp1-1.cdninstagram.com&amp;_nc_cat=104&amp;_nc_ohc=dNrnYdMnFRYAX80oYMA&amp;oh=2e811c43f93e8976506e6e45d2aacae1&amp;oe=5EA32EDE</td>\\n    </tr>\\n    <tr>\\n      <th>46</th>\\n      <td>2020-01-03 22:34:23</td>\\n      <td>1997664464</td>\\n      <td>#첫줄👋 .\\\\n.\\\\n.\\\\n.\\\\n2019년도 마지막 #행사\\\\n#다날 #송년의밤\\\\n\\\\n업무 환경과 복지가 좋은 기업은 \\\\n역시 다르긴 다르네요 😄\\\\n다날 여러분~ 참 잘노십니다👏👏. .\\\\n저녁메뉴 #랍스타 ㅎㄷㄷ\\\\n호텔 안에있는 #구내식당\\\\n.\\\\n.\\\\n.\\\\n2020년에도 간절한 마음 품고\\\\n열심히 달려보겠습니다!!.\\\\n누구보다 수고하고 도움준 \\\\n#세모파이 윤규 대표 고맙습니다 🙏\\\\n.\\\\n.\\\\n.\\\\n.\\\\n.\\\\n#행사MC #레크레이션MC #DJSSANCHO \\\\n#이벤트MC #전문MC #전문사회자 #MC가영훈\\\\n#행사전문MC #행사진행자 #행사MC섭외 #행사사회자 #연예인행사MC #기업행사MC  #드림MC아카데미 #가영훈\\\\n#소통 #좋아요 #선팔 #맞팔</td>\\n      <td>99</td>\\n      <td>99</td>\\n      <td>https://scontent-gmp1-1.cdninstagram.com/v/t51.2885-15/e35/c157.0.406.406a/73401879_514829272718795_4499027910373251828_n.jpg?_nc_ht=scontent-gmp1-1.cdninstagram.com&amp;_nc_cat=111&amp;_nc_ohc=CZU4iyWF-IMAX_4cwOA&amp;oh=2fa10fb8f030441214eae71b959d995b&amp;oe=5E14A9AF</td>\\n    </tr>\\n    <tr>\\n      <th>47</th>\\n      <td>2020-01-03 22:01:31</td>\\n      <td>7785112209</td>\\n      <td>#새해첫오픈#구내식당#송도맛집#꽃길만걷자\\\\n#웰타민#생기충전#이벤트\\\\n#간만에유니폼#좌식불가#입식전용유니폼#살빼장#다이어트#숨길수없는#내철길#철길미인#🙊🙊🙊</td>\\n      <td>15</td>\\n      <td>15</td>\\n      <td>https://scontent-gmp1-1.cdninstagram.com/v/t51.2885-15/e35/79731960_581122546013776_5244764302607730256_n.jpg?_nc_ht=scontent-gmp1-1.cdninstagram.com&amp;_nc_cat=104&amp;_nc_ohc=XfSIqTAJDUgAX8BwpQj&amp;oh=e315cd811ebaef2e593c3722ddb8a433&amp;oe=5EAD6572</td>\\n    </tr>\\n    <tr>\\n      <th>48</th>\\n      <td>2020-01-03 21:58:56</td>\\n      <td>6357851692</td>\\n      <td>#김치볶음밥#구내식당#현대그린푸드#사내식당</td>\\n      <td>7</td>\\n      <td>7</td>\\n      <td>https://scontent-gmp1-1.cdninstagram.com/v/t51.2885-15/sh0.08/e35/c180.0.1079.1079a/s640x640/75318253_840784726363628_469408508585912385_n.jpg?_nc_ht=scontent-gmp1-1.cdninstagram.com&amp;_nc_cat=108&amp;_nc_ohc=NxFsFWJPe88AX91TcYN&amp;oh=d4ff692cfdfb4ed4ba03a93d1147c57a&amp;oe=5EA08D12</td>\\n    </tr>\\n    <tr>\\n      <th>49</th>\\n      <td>2020-01-03 21:43:23</td>\\n      <td>1729999149</td>\\n      <td>#구내식당 #점심\\\\n#살기위해먹는가 #먹기위해사는가\\\\n신기하게도 점심은 항상 뭘 먹었는지 \\\\n기억이 나질 않는다.</td>\\n      <td>16</td>\\n      <td>16</td>\\n      <td>https://scontent-gmp1-1.cdninstagram.com/v/t51.2885-15/sh0.08/e35/s640x640/80301617_108364543896817_4475654733785916785_n.jpg?_nc_ht=scontent-gmp1-1.cdninstagram.com&amp;_nc_cat=101&amp;_nc_ohc=IlcmjHlSOEQAX-PadJO&amp;oh=c039c1a99498ed02ca038b604fdabca9&amp;oe=5EB1907D</td>\\n    </tr>\\n    <tr>\\n      <th>50</th>\\n      <td>2020-01-03 21:28:42</td>\\n      <td>3035328795</td>\\n      <td>#직원식당#맛있는점심#cafeteria#구내식당#lunch#3.5$ food#korea company lunch#職員食堂#Mitarbeiter Restaurant#员工餐厅#Nhà hàng nhân viên#koreafood#특별한식사#특식#special lunch</td>\\n      <td>8</td>\\n      <td>8</td>\\n      <td>https://scontent-gmp1-1.cdninstagram.com/v/t51.2885-15/sh0.08/e35/c1.0.1273.1273a/s640x640/81247784_473271240044919_9056208249330104020_n.jpg?_nc_ht=scontent-gmp1-1.cdninstagram.com&amp;_nc_cat=103&amp;_nc_ohc=Oi2uSx-7OCUAX9o1cfy&amp;oh=1ab987bae427cc24585ccde3cf1bdd11&amp;oe=5EA8CFFA</td>\\n    </tr>\\n    <tr>\\n      <th>51</th>\\n      <td>2020-01-03 21:04:19</td>\\n      <td>10600632907</td>\\n      <td>illu 2020년 1월 3일 금요일 메뉴 손님상차림입니다.\\\\n\\\\n오늘도 저희 일루 음식으로 훌륭한 상차림을\\\\n하여 주신 많은 분들께 진심으로 감사드립니다.\\\\n뜨겁고 차갑고, 빨갛고 파랗고 등등의 특성을\\\\n잘 살려서 상차림하여 주신 수고로움에\\\\n보답코자 일곱분을 뽑았습니다.\\\\n당첨되신 분들은 월요일날 오셔서 \\\\n사진확인 하시고 무료식사 즐겨주세요.\\\\n축하드립니다.\\\\n\\\\nㅡ일루 퓨전한식뷔페ㅡ(테라타워2 g117호) \\\\n#일루한식뷔페#송파구맛집#문정동맛집#점심식사#한끼식사#맛있는집#테라타워#구내식당#Sk타워#테라타워2#대명타워#정석#늘솜#시락#한식뷔페#뭐먹을까#오늘의메뉴#현금#카드#단체식사#단체환영#집밥#테라타워2#줄서는집#가성비#직장#직장인</td>\\n      <td>14</td>\\n      <td>14</td>\\n      <td>https://scontent-gmp1-1.cdninstagram.com/v/t51.2885-15/sh0.08/e35/s640x640/80560022_438221533721022_3343197410286323255_n.jpg?_nc_ht=scontent-gmp1-1.cdninstagram.com&amp;_nc_cat=106&amp;_nc_ohc=MjAlKX0fxHsAX8hHa1e&amp;oh=7025cda1d3efa50a81db5b02cee17acf&amp;oe=5E961342</td>\\n    </tr>\\n    <tr>\\n      <th>52</th>\\n      <td>2020-01-03 20:52:56</td>\\n      <td>21861577922</td>\\n      <td>#구내식당 #계란찝</td>\\n      <td>1</td>\\n      <td>1</td>\\n      <td>https://scontent-gmp1-1.cdninstagram.com/v/t51.2885-15/sh0.08/e35/c180.0.1080.1080a/s640x640/79626793_806121716477476_5051796167908275638_n.jpg?_nc_ht=scontent-gmp1-1.cdninstagram.com&amp;_nc_cat=104&amp;_nc_ohc=MTBtb6kaq4IAX-ujit4&amp;oh=a83967d9a43946ca18249bb472be1eab&amp;oe=5E98E96A</td>\\n    </tr>\\n    <tr>\\n      <th>53</th>\\n      <td>2020-01-03 20:50:20</td>\\n      <td>21861577922</td>\\n      <td>#구내식당 #고구마돈가스 #우동</td>\\n      <td>1</td>\\n      <td>1</td>\\n      <td>https://scontent-gmp1-1.cdninstagram.com/v/t51.2885-15/sh0.08/e35/c193.0.1053.1053a/s640x640/80555031_2784790641580307_5495936311408754618_n.jpg?_nc_ht=scontent-gmp1-1.cdninstagram.com&amp;_nc_cat=111&amp;_nc_ohc=GJFPyHUBXIYAX-_d2Ph&amp;oh=294e9e7b4393b535d9c85fe7ad5aef30&amp;oe=5E8E649D</td>\\n    </tr>\\n    <tr>\\n      <th>54</th>\\n      <td>2020-01-03 20:28:57</td>\\n      <td>10370077101</td>\\n      <td>[가산디지털단지] 우림라이온스밸리 구내식당MH\\\\n\\\\nhttps://m.blog.naver.com/distz/221758327572\\\\n\\\\n#가산디지털단지 #구내식당 #우림라이온스밸리 #구내식당MH #혼밥</td>\\n      <td>7</td>\\n      <td>7</td>\\n      <td>https://scontent-gmp1-1.cdninstagram.com/v/t51.2885-15/sh0.08/e35/c180.0.1080.1080a/s640x640/80750533_203788030645867_5845633521599888087_n.jpg?_nc_ht=scontent-gmp1-1.cdninstagram.com&amp;_nc_cat=107&amp;_nc_ohc=Tz52iBmykw8AX-tN-0y&amp;oh=ed52bbdd37726573f2eb2a94b40ccc99&amp;oe=5EA0B330</td>\\n    </tr>\\n    <tr>\\n      <th>55</th>\\n      <td>2020-01-03 20:21:28</td>\\n      <td>3520400958</td>\\n      <td>#한화금융센터여의도점#한화푸디스트#구내식당#(뚝)밀양국밥*소면사리#잡곡밥#해물코다리콩나물찜#옛날소지지전#새송이깐마늘볶음#오이고추쌈장무침#타코라이스*후라이#브라운소스돈까스*클링클컷#샐러드파스타#유장국#할라피뇨#망고주스#깍두기#수제요거트</td>\\n      <td>14</td>\\n      <td>14</td>\\n      <td>https://scontent-gmp1-1.cdninstagram.com/v/t51.2885-15/sh0.08/e35/c211.0.1017.1017a/s640x640/79371408_458318441516827_5278434518395339333_n.jpg?_nc_ht=scontent-gmp1-1.cdninstagram.com&amp;_nc_cat=107&amp;_nc_ohc=7PBoDW7-O1cAX9_5qGp&amp;oh=4bd1860615503e0e5755366fb9aa6446&amp;oe=5E917682</td>\\n    </tr>\\n    <tr>\\n      <th>56</th>\\n      <td>2020-01-03 19:43:58</td>\\n      <td>3303424236</td>\\n      <td>새해 그리고 1살 더\\\\n\\\\n#일상 #점심 #lunch #다이어트망스타그램 #떡국 #떡만두국 #만두국 #만둣국 #사내식당 #사내식당클래스 #숨은홍대맛집 #구내식당 #홍대 #상수 #상수동 #홍대맛집 #상수맛집 #먹스타그램 #맛스타그램 #먹방 #음식사진 #foodpicture #foodphoto #food #koreanfood #한식 #foodgram #eatstagram #폰카 #phonecamera</td>\\n      <td>205</td>\\n      <td>205</td>\\n      <td>https://scontent-gmp1-1.cdninstagram.com/v/t51.2885-15/sh0.08/e35/c135.0.810.810a/s640x640/79036069_523370624941708_4078404358106420893_n.jpg?_nc_ht=scontent-gmp1-1.cdninstagram.com&amp;_nc_cat=104&amp;_nc_ohc=4B3dAlsiyCQAX9PZuir&amp;oh=0ee8460bbd636c2a9424939c53d30647&amp;oe=5EA0E007</td>\\n    </tr>\\n    <tr>\\n      <th>57</th>\\n      <td>2020-01-03 19:30:25</td>\\n      <td>2029484285</td>\\n      <td>전쟁😇🌊\\\\n.\\\\n#집갈래 #힘들다 #구내식당 #단체급식 #산업체급식 #영양사그램  #식판샷 #가츠동 #비빔칼국수 #콩나물국밥 #좋은메뉴 #어디없을까😕</td>\\n      <td>14</td>\\n      <td>14</td>\\n      <td>https://scontent-gmp1-1.cdninstagram.com/v/t51.2885-15/sh0.08/e35/s640x640/79942167_468436064088305_2135989635338090913_n.jpg?_nc_ht=scontent-gmp1-1.cdninstagram.com&amp;_nc_cat=105&amp;_nc_ohc=St4SF2R15foAX-2YDo5&amp;oh=fbddab27e359e728c5c4f3365fa58e8a&amp;oe=5EB44C64</td>\\n    </tr>\\n    <tr>\\n      <th>58</th>\\n      <td>2020-01-03 19:16:33</td>\\n      <td>6025763784</td>\\n      <td>#랩스키친#랩슐랭 .\\\\n.\\\\n.\\\\n전복리조또\\\\n샐러드피자\\\\n.\\\\n싱싱한 전복 손질해서 \\\\n내장까지 넣어 리조또 하기~\\\\n.\\\\n우리 chef님 리조또 최고!\\\\n@jusukgrr .\\\\n\\\\n오늘 식사하시는 인원이 많아\\\\n오래 기다리게 해드려 죄송해요~\\\\n.\\\\n\\\\n금요간식 가래떡꼬치\\\\n.\\\\n.\\\\n\\\\n#전복리조또#샐러드피자 \\\\n#건강한식단#건강한식사\\\\n#건강한메뉴#분당맛집#오리역맛집\\\\n#사내식당 #구내식당 #직원식당\\\\n#회사밥 #메뉴 #오늘의메뉴\\\\n#영양사그램 #영양사 #영양사스타그램 #직영영양사\\\\n#밥잘주는우리회사 #급식스타그램\\\\n#네이버 #네이버랩스 #Naverlabs</td>\\n      <td>40</td>\\n      <td>40</td>\\n      <td>https://scontent-gmp1-1.cdninstagram.com/v/t51.2885-15/sh0.08/e35/c180.0.1079.1079a/s640x640/79722219_581779905715759_2337578448596835697_n.jpg?_nc_ht=scontent-gmp1-1.cdninstagram.com&amp;_nc_cat=107&amp;_nc_ohc=SiKOm4caZ4EAX8SXwCw&amp;oh=4bb948807d8650bbf01056e2c3d5e7ba&amp;oe=5E9CB7AC</td>\\n    </tr>\\n    <tr>\\n      <th>59</th>\\n      <td>2020-01-03 18:53:51</td>\\n      <td>615946065</td>\\n      <td>즉썩오무라스으으으🍴\\\\n이번주도 끝_\\\\n\\\\n#즉석오므라이스 #오므라이스 #비엔나소세지볶음 #연두부샐러드 #우동국물 #급식스타그램 #영양사그램 #구내식당 #단체급식 #오피스식단 #오피스 #즉석데이</td>\\n      <td>21</td>\\n      <td>21</td>\\n      <td>https://scontent-gmp1-1.cdninstagram.com/v/t51.2885-15/sh0.08/e35/s640x640/80574689_2494563084127419_4238120431893953385_n.jpg?_nc_ht=scontent-gmp1-1.cdninstagram.com&amp;_nc_cat=103&amp;_nc_ohc=49uEIJ0Wly8AX_16Fj9&amp;oh=33fb4c2d7f30a30ece1be98cd1099e9d&amp;oe=5E94D32B</td>\\n    </tr>\\n    <tr>\\n      <th>60</th>\\n      <td>2020-01-03 18:26:29</td>\\n      <td>5156372916</td>\\n      <td>2020.01.03 금요일\\\\n#비건식단\\\\n.\\\\n옆팀 대리님이 ‘채식의 날’인데 내 생각이 났다며 식단표를 보내왔다. (회사식당아님)  완전채식이 아닌 세미채식의 날이지만, 이런 날이 한 회사 구내식당에 정기적으로 운영된다는건 매우 감사한 일이다. 요플레가 읭?스럽긴 하다. 그래도 감사했던 오늘 점심!\\\\n.\\\\n🔹09:00 사과\\\\n🔹12:00 #급식 #구내식당\\\\n.\\\\n#비건 #vegan</td>\\n      <td>129</td>\\n      <td>129</td>\\n      <td>https://scontent-gmp1-1.cdninstagram.com/v/t51.2885-15/sh0.08/e35/s640x640/79385111_529622184430015_707438748723490061_n.jpg?_nc_ht=scontent-gmp1-1.cdninstagram.com&amp;_nc_cat=107&amp;_nc_ohc=Zx_Iz3fMK98AX_aOmIg&amp;oh=67385d7f58a4d245bcc79c265364dc2b&amp;oe=5EA4FC12</td>\\n    </tr>\\n    <tr>\\n      <th>61</th>\\n      <td>2020-01-03 18:03:09</td>\\n      <td>3178897239</td>\\n      <td>2019.12.17 오늘의식단\\\\n\\\\n곤드레밥/양념장\\\\n청국장찌개\\\\n데리야끼고등어구이\\\\n탕수버섯\\\\n고사리나물,숙주나물\\\\n오징어젓\\\\n김치\\\\n연어샐러드\\\\n포도\\\\n홍차\\\\n\\\\n곤드레밥 첫시도~~너무 맛있는 밥 완성~~👍\\\\n자주해야될것 같은 건강밥상^^\\\\n.\\\\n#abl생명#abl생명연수원#일신원#구내식당#단체급식#보험영업교육#생명보험#집밥#맛집#급식#신메뉴#연수원임대#식판#먹스타그램#곤드레밥</td>\\n      <td>8</td>\\n      <td>8</td>\\n      <td>https://scontent-gmp1-1.cdninstagram.com/v/t51.2885-15/sh0.08/e35/s640x640/79645842_1077233922625644_2307923164372449705_n.jpg?_nc_ht=scontent-gmp1-1.cdninstagram.com&amp;_nc_cat=100&amp;_nc_ohc=_UPitbOPZVgAX9cGe_j&amp;oh=447a525aa9cd8df5a287af658d485553&amp;oe=5E9B8292</td>\\n    </tr>\\n    <tr>\\n      <th>62</th>\\n      <td>2020-01-03 17:58:08</td>\\n      <td>3178897239</td>\\n      <td>2019 특식메뉴\\\\n\\\\n쌀밥\\\\n홍합미역국\\\\n파채불고기\\\\n탕수육\\\\n해물파전\\\\n골뱅이대구포무침\\\\n오징어젓\\\\n김치\\\\n쌈야채4종/쌈장\\\\n리코타치즈샐러드\\\\n과일(포도,단감)\\\\n생강차\\\\n\\\\n푸짐합니다^^\\\\n.\\\\n\\\\n#abl생명#abl생명연수원#일신원#구내식당#단체급식#보험영업교육#생명보험#집밥#맛집#급식#신메뉴#연수원임대#식판#먹스타그램#특식#배터짐주의</td>\\n      <td>7</td>\\n      <td>7</td>\\n      <td>https://scontent-gmp1-1.cdninstagram.com/v/t51.2885-15/sh0.08/e35/c0.135.1080.1080a/s640x640/79761633_1042979626035739_2040934768626239181_n.jpg?_nc_ht=scontent-gmp1-1.cdninstagram.com&amp;_nc_cat=107&amp;_nc_ohc=zxJWrpAFwbYAX-6IArU&amp;oh=60ca035030dbf7658d40d07bced889cb&amp;oe=5E8FEB5A</td>\\n    </tr>\\n    <tr>\\n      <th>63</th>\\n      <td>2020-01-03 17:56:17</td>\\n      <td>1642168032</td>\\n      <td>왠지 반찬 한칸이 허전하네😗\\\\n\\\\n#근대된장국 #마파두부 #탕수육\\\\n#단무지무침 #배추김치</td>\\n      <td>50</td>\\n      <td>50</td>\\n      <td>https://scontent-gmp1-1.cdninstagram.com/v/t51.2885-15/sh0.08/e35/s640x640/79767608_2634263893475584_6499781717535343410_n.jpg?_nc_ht=scontent-gmp1-1.cdninstagram.com&amp;_nc_cat=104&amp;_nc_ohc=XSAmfESt_3MAX8IYasG&amp;oh=d0d0c59b22dfe9f0d31465454620cae7&amp;oe=5EACCD00</td>\\n    </tr>\\n    <tr>\\n      <th>64</th>\\n      <td>2020-01-03 17:52:04</td>\\n      <td>1274563289</td>\\n      <td>검찰 중에서 유일하게 개혁 안됐으면 하는곳 구내식당 ㅋㅋ 법원에 인감하고 등기 떼러 갔다가 오랜만에 구내식당에서 밥먹었다 4500원  편의점 도시락 가격으로 가성비 높은 식사 👍\\\\n#검찰 #검찰청구내식당 #검찰청 #구내식당 #식당 #점심 #4500원 #가성비짱 #대전지방검찰청구내식당</td>\\n      <td>33</td>\\n      <td>33</td>\\n      <td>https://scontent-gmp1-1.cdninstagram.com/v/t51.2885-15/e35/c236.0.608.608a/77132871_608578646351009_8345386457550093944_n.jpg?_nc_ht=scontent-gmp1-1.cdninstagram.com&amp;_nc_cat=105&amp;_nc_ohc=jBcVE9NnjoEAX-ueZdw&amp;oh=b64f92724b3e842b6d961d3a2ca60d6c&amp;oe=5E9353EE</td>\\n    </tr>\\n    <tr>\\n      <th>65</th>\\n      <td>2020-01-03 16:50:38</td>\\n      <td>12089436785</td>\\n      <td>2020.01.03\\\\n이틀일하니 또 쉰다\\\\n1월은 정말이지 혼란스럽다.\\\\n얼른 안정이되길\\\\n오늘 꼬막까느라고 정말 고생많으셨습니다.\\\\n👏👏👏👏👏👏👏👏👏👏👏 #식판사진#식판샷#점심메뉴#영양사#영양사그램#식단#식단표#주간식단#오늘반찬#농민신문#NBS#먹방#한식#양식#건강식#먹스타그램#점심#맛집#서울맛집#서대문맛집#서대문역맛집#오늘뭐먹지#일상#소통#집밥#회사밥#구내식당#급식</td>\\n      <td>26</td>\\n      <td>26</td>\\n      <td>https://scontent-gmp1-1.cdninstagram.com/v/t51.2885-15/sh0.08/e35/s640x640/79371396_473645786882462_6987736626708084634_n.jpg?_nc_ht=scontent-gmp1-1.cdninstagram.com&amp;_nc_cat=102&amp;_nc_ohc=A26C4UnOEZIAX8h-oFd&amp;oh=3dcbfa5aeb698b892e19341842b3b510&amp;oe=5EB44FC8</td>\\n    </tr>\\n    <tr>\\n      <th>66</th>\\n      <td>2020-01-03 16:50:28</td>\\n      <td>1937947958</td>\\n      <td>❤️\\U0001f9e1💛💚💙💜\\\\n철판 김가루김치볶음밥 &amp; 순살치킨가스\\\\n.\\\\n. ⭐️원산지표시는 일일메뉴표에 게시합니다.⭐️\\\\n⠀\\\\n⠀\\\\n#서울대학교#예술계식당#음미대식당#맛집#오늘#뭐먹지#서울대맛집#서울대#snu#구내식당#학생식당#학식#급식#급식스타그램#아름드리#한화#한화푸디스트#한화호텔앤드리조트#푸디스트#foodist#영양사#맛스타그램#먹스타그램🍴</td>\\n      <td>7</td>\\n      <td>7</td>\\n      <td>https://scontent-gmp1-1.cdninstagram.com/v/t51.2885-15/sh0.08/e35/s640x640/79369507_131350847905626_3467624960483070184_n.jpg?_nc_ht=scontent-gmp1-1.cdninstagram.com&amp;_nc_cat=106&amp;_nc_ohc=Q225y1tQYLIAX8qYuCa&amp;oh=1c8b665796dfd079b0754485d540848c&amp;oe=5E9F0906</td>\\n    </tr>\\n    <tr>\\n      <th>67</th>\\n      <td>2020-01-03 16:05:38</td>\\n      <td>26110156713</td>\\n      <td>🍽점심\\\\n#식단일기\\\\n-\\\\n#구내식당 건강식\\\\n#하림닭가슴살\\\\n-\\\\n오늘 도시락 준비를못해서\\\\n구내식당가서 밥😥 \\\\n건강식이라고 따로 있긴한데 단백질이\\\\n항상 부족한거같아서 안먹구있었는ㄴ데\\\\n부족한게 맞았다 ㅎㅎㅎ 그래서 +닭가슴살\\\\n급하게 편의점가서 저걸루 샀는데 진짜\\\\n심각하게 노맛.........닭가슴살 이렇게 맛없긴 첨이야 것두 저거 3000원 ㅜㅜ \\\\n앞으로 식단 잘싸오장 ㅜㅜㅜㅜㅜ</td>\\n      <td>21</td>\\n      <td>21</td>\\n      <td>https://scontent-gmp1-1.cdninstagram.com/v/t51.2885-15/sh0.08/e35/s640x640/79467458_171392920601463_4436437754950217145_n.jpg?_nc_ht=scontent-gmp1-1.cdninstagram.com&amp;_nc_cat=103&amp;_nc_ohc=uF5_NVwuMCwAX-kkXMu&amp;oh=97273d88094f85449dbaf20a1f534e20&amp;oe=5EADA4C7</td>\\n    </tr>\\n    <tr>\\n      <th>68</th>\\n      <td>2020-01-03 16:04:26</td>\\n      <td>6933991916</td>\\n      <td>어제 점심 #소세지오므라이스 \\\\n인간적으로 너무 맛있었다 ㅎ\\\\n\\\\n양심껏 밥이랑 너무 짠 반찬은 남겼다\\\\n아가리어터의 마지막 양심쓰ㅎ\\\\n\\\\n#맘초이 #소세지오므라이스 #아가리어터의길 #구내식당 #다이어트식단 #다이어트 #식단조절 #다이어터 #일반식 #식단일기 #직장인 #직장인다이어터 #다이어트스타그램 #직장인저녁 #일상 #일상스타그램 #먹스타 #먹스타그램 #꿀꿀🐷</td>\\n      <td>25</td>\\n      <td>25</td>\\n      <td>https://scontent-gmp1-1.cdninstagram.com/v/t51.2885-15/sh0.08/e35/c135.0.810.810a/s640x640/80329479_443021059918280_7319655045694418588_n.jpg?_nc_ht=scontent-gmp1-1.cdninstagram.com&amp;_nc_cat=108&amp;_nc_ohc=U7S9zvoiVeQAX82n02_&amp;oh=74fdb88aaa5df87654e007fdc6e32b6f&amp;oe=5E975EC8</td>\\n    </tr>\\n    <tr>\\n      <th>69</th>\\n      <td>2020-01-03 16:01:32</td>\\n      <td>522043199</td>\\n      <td>김밥 200줄😅</td>\\n      <td>83</td>\\n      <td>83</td>\\n      <td>https://scontent-gmp1-1.cdninstagram.com/v/t51.2885-15/sh0.08/e35/c0.180.1440.1440a/s640x640/81305714_505712520301067_2702055944094733925_n.jpg?_nc_ht=scontent-gmp1-1.cdninstagram.com&amp;_nc_cat=111&amp;_nc_ohc=ukWutqEawQYAX_XsDSp&amp;oh=76a5ad6f5ed224f74d007eb6126b180c&amp;oe=5E930D55</td>\\n    </tr>\\n    <tr>\\n      <th>70</th>\\n      <td>2020-01-03 15:39:47</td>\\n      <td>615946065</td>\\n      <td>역시 믿고먹는 떡볶이....👍🏻\\\\n한식코너 가신 손님들이 떡볶이 넘 맛있게 보인다고 달람스😳\\\\n근데 한 두분이 아님... 호호😳 💦💦\\\\n식수만 채워지면 더더더더더 좋겠다_\\\\n\\\\n#치킨마요덮밥 #떡볶이 #매콤달콤떡볶이 #우동국물 #일품메뉴 #급식스타그램 #영양사그램 #단체급식 #구내식당 #오피스식단 #오피스</td>\\n      <td>25</td>\\n      <td>25</td>\\n      <td>https://scontent-gmp1-1.cdninstagram.com/v/t51.2885-15/sh0.08/e35/s640x640/79750312_2671263219621995_4990791282542356186_n.jpg?_nc_ht=scontent-gmp1-1.cdninstagram.com&amp;_nc_cat=111&amp;_nc_ohc=K6rDlIqgv9QAX9TTYs4&amp;oh=dff9dfa9219190304c7d0beb9ffd9de9&amp;oe=5E8DE92C</td>\\n    </tr>\\n    <tr>\\n      <th>71</th>\\n      <td>2019-12-31 20:55:42</td>\\n      <td>18297377</td>\\n      <td>_#2019bestnine\\\\n순서대로\\\\n#워커힐#워커힐호텔\\\\n#라이즈오토그래프컬렉션#라이즈호텔\\\\n#위워크#wework \\\\n#을지로#힙지로#카페\\\\n#셀피#단발\\\\n#한남동#카페스타그램\\\\n#삼성엔지니어링#웰스토리#구내식당\\\\n#현빈#손예진\\\\n#k현대미술관#kmca#전시스타그램</td>\\n      <td>60</td>\\n      <td>60</td>\\n      <td>https://scontent-gmp1-1.cdninstagram.com/v/t51.2885-15/sh0.08/e35/c0.169.1349.1349a/s640x640/79462513_3524721380901315_623726555582869328_n.jpg?_nc_ht=scontent-gmp1-1.cdninstagram.com&amp;_nc_cat=103&amp;_nc_ohc=U86OV8V4fA4AX-E9GRA&amp;oh=0c80aa1622ada2841eb8562462cbaba9&amp;oe=5E91F756</td>\\n    </tr>\\n  </tbody>\\n</table>'"
      ]
     },
     "execution_count": 20,
     "metadata": {},
     "output_type": "execute_result"
    }
   ],
   "source": [
    "df.to_html()"
   ]
  },
  {
   "cell_type": "code",
   "execution_count": null,
   "metadata": {},
   "outputs": [],
   "source": []
  }
 ],
 "metadata": {
  "kernelspec": {
   "display_name": "Python 3",
   "language": "python",
   "name": "python3"
  },
  "language_info": {
   "codemirror_mode": {
    "name": "ipython",
    "version": 3
   },
   "file_extension": ".py",
   "mimetype": "text/x-python",
   "name": "python",
   "nbconvert_exporter": "python",
   "pygments_lexer": "ipython3",
   "version": "3.6.9"
  }
 },
 "nbformat": 4,
 "nbformat_minor": 4
}
